{
 "cells": [
  {
   "cell_type": "markdown",
   "metadata": {},
   "source": [
    "# Восстановление золота из руды"
   ]
  },
  {
   "cell_type": "markdown",
   "metadata": {},
   "source": [
    "Подготовьте прототип модели машинного обучения для «Цифры». Компания разрабатывает решения для эффективной работы промышленных предприятий.\n",
    "\n",
    "Модель должна предсказать коэффициент восстановления золота из золотосодержащей руды. Используйте данные с параметрами добычи и очистки. \n",
    "\n",
    "Модель поможет оптимизировать производство, чтобы не запускать предприятие с убыточными характеристиками.\n",
    "\n",
    "Вам нужно:\n",
    "\n",
    "1. Подготовить данные;\n",
    "2. Провести исследовательский анализ данных;\n",
    "3. Построить и обучить модель.\n",
    "\n",
    "Чтобы выполнить проект, обращайтесь к библиотекам *pandas*, *matplotlib* и *sklearn.* Вам поможет их документация.\n",
    "\n",
    "Цель проекта: Построить модель, которая сможет правильно  предсказать коэффициент восстановления золота из золотосодержащей руды и заранее предсказывать, если предприятие будет с убыточными характеристиками"
   ]
  },
  {
   "cell_type": "markdown",
   "metadata": {},
   "source": [
    "## Подготовка данных"
   ]
  },
  {
   "cell_type": "code",
   "execution_count": 1,
   "metadata": {},
   "outputs": [
    {
     "name": "stderr",
     "output_type": "stream",
     "text": [
      "/opt/conda/lib/python3.7/site-packages/statsmodels/tools/_testing.py:19: FutureWarning: pandas.util.testing is deprecated. Use the functions in the public API at pandas.testing instead.\n",
      "  import pandas.util.testing as tm\n"
     ]
    }
   ],
   "source": [
    "import pandas as pd\n",
    "from sklearn.impute import SimpleImputer\n",
    "from numpy.random import RandomState\n",
    "from numpy.random import randint\n",
    "import numpy as np\n",
    "from scipy import stats as st\n",
    "\n",
    "from sklearn.model_selection import train_test_split \n",
    "from sklearn.metrics import mean_squared_error\n",
    "from sklearn.metrics import mean_absolute_error\n",
    "\n",
    "from sklearn.model_selection import cross_val_predict\n",
    "from sklearn.linear_model import LinearRegression\n",
    "from sklearn.tree import DecisionTreeRegressor\n",
    "from sklearn.ensemble import RandomForestRegressor\n",
    "from sklearn.preprocessing import StandardScaler\n",
    "\n",
    "from sklearn.model_selection import GridSearchCV\n",
    "from sklearn.model_selection import ShuffleSplit\n",
    "\n",
    "import matplotlib.pyplot as plt \n",
    "import seaborn as sns \n",
    "\n",
    "from IPython.display import Image"
   ]
  },
  {
   "cell_type": "code",
   "execution_count": 2,
   "metadata": {},
   "outputs": [],
   "source": [
    "train_data = pd.read_csv('/datasets/gold_recovery_train_new.csv') \n",
    "test_data = pd.read_csv('/datasets/gold_recovery_test_new.csv')\n",
    "full_data = pd.read_csv('/datasets/gold_recovery_full_new.csv') "
   ]
  },
  {
   "cell_type": "code",
   "execution_count": 3,
   "metadata": {
    "scrolled": true
   },
   "outputs": [
    {
     "name": "stdout",
     "output_type": "stream",
     "text": [
      "<class 'pandas.core.frame.DataFrame'>\n",
      "RangeIndex: 14149 entries, 0 to 14148\n",
      "Data columns (total 87 columns):\n",
      " #   Column                                              Non-Null Count  Dtype  \n",
      "---  ------                                              --------------  -----  \n",
      " 0   date                                                14149 non-null  object \n",
      " 1   final.output.concentrate_ag                         14148 non-null  float64\n",
      " 2   final.output.concentrate_pb                         14148 non-null  float64\n",
      " 3   final.output.concentrate_sol                        13938 non-null  float64\n",
      " 4   final.output.concentrate_au                         14149 non-null  float64\n",
      " 5   final.output.recovery                               14149 non-null  float64\n",
      " 6   final.output.tail_ag                                14149 non-null  float64\n",
      " 7   final.output.tail_pb                                14049 non-null  float64\n",
      " 8   final.output.tail_sol                               14144 non-null  float64\n",
      " 9   final.output.tail_au                                14149 non-null  float64\n",
      " 10  primary_cleaner.input.sulfate                       14129 non-null  float64\n",
      " 11  primary_cleaner.input.depressant                    14117 non-null  float64\n",
      " 12  primary_cleaner.input.feed_size                     14149 non-null  float64\n",
      " 13  primary_cleaner.input.xanthate                      14049 non-null  float64\n",
      " 14  primary_cleaner.output.concentrate_ag               14149 non-null  float64\n",
      " 15  primary_cleaner.output.concentrate_pb               14063 non-null  float64\n",
      " 16  primary_cleaner.output.concentrate_sol              13863 non-null  float64\n",
      " 17  primary_cleaner.output.concentrate_au               14149 non-null  float64\n",
      " 18  primary_cleaner.output.tail_ag                      14148 non-null  float64\n",
      " 19  primary_cleaner.output.tail_pb                      14134 non-null  float64\n",
      " 20  primary_cleaner.output.tail_sol                     14103 non-null  float64\n",
      " 21  primary_cleaner.output.tail_au                      14149 non-null  float64\n",
      " 22  primary_cleaner.state.floatbank8_a_air              14145 non-null  float64\n",
      " 23  primary_cleaner.state.floatbank8_a_level            14148 non-null  float64\n",
      " 24  primary_cleaner.state.floatbank8_b_air              14145 non-null  float64\n",
      " 25  primary_cleaner.state.floatbank8_b_level            14148 non-null  float64\n",
      " 26  primary_cleaner.state.floatbank8_c_air              14147 non-null  float64\n",
      " 27  primary_cleaner.state.floatbank8_c_level            14148 non-null  float64\n",
      " 28  primary_cleaner.state.floatbank8_d_air              14146 non-null  float64\n",
      " 29  primary_cleaner.state.floatbank8_d_level            14148 non-null  float64\n",
      " 30  rougher.calculation.sulfate_to_au_concentrate       14148 non-null  float64\n",
      " 31  rougher.calculation.floatbank10_sulfate_to_au_feed  14148 non-null  float64\n",
      " 32  rougher.calculation.floatbank11_sulfate_to_au_feed  14148 non-null  float64\n",
      " 33  rougher.calculation.au_pb_ratio                     14149 non-null  float64\n",
      " 34  rougher.input.feed_ag                               14149 non-null  float64\n",
      " 35  rougher.input.feed_pb                               14049 non-null  float64\n",
      " 36  rougher.input.feed_rate                             14141 non-null  float64\n",
      " 37  rougher.input.feed_size                             14005 non-null  float64\n",
      " 38  rougher.input.feed_sol                              14071 non-null  float64\n",
      " 39  rougher.input.feed_au                               14149 non-null  float64\n",
      " 40  rougher.input.floatbank10_sulfate                   14120 non-null  float64\n",
      " 41  rougher.input.floatbank10_xanthate                  14141 non-null  float64\n",
      " 42  rougher.input.floatbank11_sulfate                   14113 non-null  float64\n",
      " 43  rougher.input.floatbank11_xanthate                  13721 non-null  float64\n",
      " 44  rougher.output.concentrate_ag                       14149 non-null  float64\n",
      " 45  rougher.output.concentrate_pb                       14149 non-null  float64\n",
      " 46  rougher.output.concentrate_sol                      14127 non-null  float64\n",
      " 47  rougher.output.concentrate_au                       14149 non-null  float64\n",
      " 48  rougher.output.recovery                             14149 non-null  float64\n",
      " 49  rougher.output.tail_ag                              14148 non-null  float64\n",
      " 50  rougher.output.tail_pb                              14149 non-null  float64\n",
      " 51  rougher.output.tail_sol                             14149 non-null  float64\n",
      " 52  rougher.output.tail_au                              14149 non-null  float64\n",
      " 53  rougher.state.floatbank10_a_air                     14148 non-null  float64\n",
      " 54  rougher.state.floatbank10_a_level                   14148 non-null  float64\n",
      " 55  rougher.state.floatbank10_b_air                     14148 non-null  float64\n",
      " 56  rougher.state.floatbank10_b_level                   14148 non-null  float64\n",
      " 57  rougher.state.floatbank10_c_air                     14148 non-null  float64\n",
      " 58  rougher.state.floatbank10_c_level                   14148 non-null  float64\n",
      " 59  rougher.state.floatbank10_d_air                     14149 non-null  float64\n",
      " 60  rougher.state.floatbank10_d_level                   14149 non-null  float64\n",
      " 61  rougher.state.floatbank10_e_air                     13713 non-null  float64\n",
      " 62  rougher.state.floatbank10_e_level                   14149 non-null  float64\n",
      " 63  rougher.state.floatbank10_f_air                     14149 non-null  float64\n",
      " 64  rougher.state.floatbank10_f_level                   14149 non-null  float64\n",
      " 65  secondary_cleaner.output.tail_ag                    14147 non-null  float64\n",
      " 66  secondary_cleaner.output.tail_pb                    14139 non-null  float64\n",
      " 67  secondary_cleaner.output.tail_sol                   12544 non-null  float64\n",
      " 68  secondary_cleaner.output.tail_au                    14149 non-null  float64\n",
      " 69  secondary_cleaner.state.floatbank2_a_air            13932 non-null  float64\n",
      " 70  secondary_cleaner.state.floatbank2_a_level          14148 non-null  float64\n",
      " 71  secondary_cleaner.state.floatbank2_b_air            14128 non-null  float64\n",
      " 72  secondary_cleaner.state.floatbank2_b_level          14148 non-null  float64\n",
      " 73  secondary_cleaner.state.floatbank3_a_air            14145 non-null  float64\n",
      " 74  secondary_cleaner.state.floatbank3_a_level          14148 non-null  float64\n",
      " 75  secondary_cleaner.state.floatbank3_b_air            14148 non-null  float64\n",
      " 76  secondary_cleaner.state.floatbank3_b_level          14148 non-null  float64\n",
      " 77  secondary_cleaner.state.floatbank4_a_air            14143 non-null  float64\n",
      " 78  secondary_cleaner.state.floatbank4_a_level          14148 non-null  float64\n",
      " 79  secondary_cleaner.state.floatbank4_b_air            14148 non-null  float64\n",
      " 80  secondary_cleaner.state.floatbank4_b_level          14148 non-null  float64\n",
      " 81  secondary_cleaner.state.floatbank5_a_air            14148 non-null  float64\n",
      " 82  secondary_cleaner.state.floatbank5_a_level          14148 non-null  float64\n",
      " 83  secondary_cleaner.state.floatbank5_b_air            14148 non-null  float64\n",
      " 84  secondary_cleaner.state.floatbank5_b_level          14148 non-null  float64\n",
      " 85  secondary_cleaner.state.floatbank6_a_air            14147 non-null  float64\n",
      " 86  secondary_cleaner.state.floatbank6_a_level          14148 non-null  float64\n",
      "dtypes: float64(86), object(1)\n",
      "memory usage: 9.4+ MB\n",
      "None\n"
     ]
    },
    {
     "data": {
      "text/html": [
       "<div>\n",
       "<style scoped>\n",
       "    .dataframe tbody tr th:only-of-type {\n",
       "        vertical-align: middle;\n",
       "    }\n",
       "\n",
       "    .dataframe tbody tr th {\n",
       "        vertical-align: top;\n",
       "    }\n",
       "\n",
       "    .dataframe thead th {\n",
       "        text-align: right;\n",
       "    }\n",
       "</style>\n",
       "<table border=\"1\" class=\"dataframe\">\n",
       "  <thead>\n",
       "    <tr style=\"text-align: right;\">\n",
       "      <th></th>\n",
       "      <th>date</th>\n",
       "      <th>final.output.concentrate_ag</th>\n",
       "      <th>final.output.concentrate_pb</th>\n",
       "      <th>final.output.concentrate_sol</th>\n",
       "      <th>final.output.concentrate_au</th>\n",
       "      <th>final.output.recovery</th>\n",
       "      <th>final.output.tail_ag</th>\n",
       "      <th>final.output.tail_pb</th>\n",
       "      <th>final.output.tail_sol</th>\n",
       "      <th>final.output.tail_au</th>\n",
       "      <th>...</th>\n",
       "      <th>secondary_cleaner.state.floatbank4_a_air</th>\n",
       "      <th>secondary_cleaner.state.floatbank4_a_level</th>\n",
       "      <th>secondary_cleaner.state.floatbank4_b_air</th>\n",
       "      <th>secondary_cleaner.state.floatbank4_b_level</th>\n",
       "      <th>secondary_cleaner.state.floatbank5_a_air</th>\n",
       "      <th>secondary_cleaner.state.floatbank5_a_level</th>\n",
       "      <th>secondary_cleaner.state.floatbank5_b_air</th>\n",
       "      <th>secondary_cleaner.state.floatbank5_b_level</th>\n",
       "      <th>secondary_cleaner.state.floatbank6_a_air</th>\n",
       "      <th>secondary_cleaner.state.floatbank6_a_level</th>\n",
       "    </tr>\n",
       "  </thead>\n",
       "  <tbody>\n",
       "    <tr>\n",
       "      <th>0</th>\n",
       "      <td>2016-01-15 00:00:00</td>\n",
       "      <td>6.055403</td>\n",
       "      <td>9.889648</td>\n",
       "      <td>5.507324</td>\n",
       "      <td>42.192020</td>\n",
       "      <td>70.541216</td>\n",
       "      <td>10.411962</td>\n",
       "      <td>0.895447</td>\n",
       "      <td>16.904297</td>\n",
       "      <td>2.143149</td>\n",
       "      <td>...</td>\n",
       "      <td>14.016835</td>\n",
       "      <td>-502.488007</td>\n",
       "      <td>12.099931</td>\n",
       "      <td>-504.715942</td>\n",
       "      <td>9.925633</td>\n",
       "      <td>-498.310211</td>\n",
       "      <td>8.079666</td>\n",
       "      <td>-500.470978</td>\n",
       "      <td>14.151341</td>\n",
       "      <td>-605.841980</td>\n",
       "    </tr>\n",
       "    <tr>\n",
       "      <th>1</th>\n",
       "      <td>2016-01-15 01:00:00</td>\n",
       "      <td>6.029369</td>\n",
       "      <td>9.968944</td>\n",
       "      <td>5.257781</td>\n",
       "      <td>42.701629</td>\n",
       "      <td>69.266198</td>\n",
       "      <td>10.462676</td>\n",
       "      <td>0.927452</td>\n",
       "      <td>16.634514</td>\n",
       "      <td>2.224930</td>\n",
       "      <td>...</td>\n",
       "      <td>13.992281</td>\n",
       "      <td>-505.503262</td>\n",
       "      <td>11.950531</td>\n",
       "      <td>-501.331529</td>\n",
       "      <td>10.039245</td>\n",
       "      <td>-500.169983</td>\n",
       "      <td>7.984757</td>\n",
       "      <td>-500.582168</td>\n",
       "      <td>13.998353</td>\n",
       "      <td>-599.787184</td>\n",
       "    </tr>\n",
       "    <tr>\n",
       "      <th>2</th>\n",
       "      <td>2016-01-15 02:00:00</td>\n",
       "      <td>6.055926</td>\n",
       "      <td>10.213995</td>\n",
       "      <td>5.383759</td>\n",
       "      <td>42.657501</td>\n",
       "      <td>68.116445</td>\n",
       "      <td>10.507046</td>\n",
       "      <td>0.953716</td>\n",
       "      <td>16.208849</td>\n",
       "      <td>2.257889</td>\n",
       "      <td>...</td>\n",
       "      <td>14.015015</td>\n",
       "      <td>-502.520901</td>\n",
       "      <td>11.912783</td>\n",
       "      <td>-501.133383</td>\n",
       "      <td>10.070913</td>\n",
       "      <td>-500.129135</td>\n",
       "      <td>8.013877</td>\n",
       "      <td>-500.517572</td>\n",
       "      <td>14.028663</td>\n",
       "      <td>-601.427363</td>\n",
       "    </tr>\n",
       "    <tr>\n",
       "      <th>3</th>\n",
       "      <td>2016-01-15 03:00:00</td>\n",
       "      <td>6.047977</td>\n",
       "      <td>9.977019</td>\n",
       "      <td>4.858634</td>\n",
       "      <td>42.689819</td>\n",
       "      <td>68.347543</td>\n",
       "      <td>10.422762</td>\n",
       "      <td>0.883763</td>\n",
       "      <td>16.532835</td>\n",
       "      <td>2.146849</td>\n",
       "      <td>...</td>\n",
       "      <td>14.036510</td>\n",
       "      <td>-500.857308</td>\n",
       "      <td>11.999550</td>\n",
       "      <td>-501.193686</td>\n",
       "      <td>9.970366</td>\n",
       "      <td>-499.201640</td>\n",
       "      <td>7.977324</td>\n",
       "      <td>-500.255908</td>\n",
       "      <td>14.005551</td>\n",
       "      <td>-599.996129</td>\n",
       "    </tr>\n",
       "    <tr>\n",
       "      <th>4</th>\n",
       "      <td>2016-01-15 04:00:00</td>\n",
       "      <td>6.148599</td>\n",
       "      <td>10.142511</td>\n",
       "      <td>4.939416</td>\n",
       "      <td>42.774141</td>\n",
       "      <td>66.927016</td>\n",
       "      <td>10.360302</td>\n",
       "      <td>0.792826</td>\n",
       "      <td>16.525686</td>\n",
       "      <td>2.055292</td>\n",
       "      <td>...</td>\n",
       "      <td>14.027298</td>\n",
       "      <td>-499.838632</td>\n",
       "      <td>11.953070</td>\n",
       "      <td>-501.053894</td>\n",
       "      <td>9.925709</td>\n",
       "      <td>-501.686727</td>\n",
       "      <td>7.894242</td>\n",
       "      <td>-500.356035</td>\n",
       "      <td>13.996647</td>\n",
       "      <td>-601.496691</td>\n",
       "    </tr>\n",
       "  </tbody>\n",
       "</table>\n",
       "<p>5 rows × 87 columns</p>\n",
       "</div>"
      ],
      "text/plain": [
       "                  date  final.output.concentrate_ag  \\\n",
       "0  2016-01-15 00:00:00                     6.055403   \n",
       "1  2016-01-15 01:00:00                     6.029369   \n",
       "2  2016-01-15 02:00:00                     6.055926   \n",
       "3  2016-01-15 03:00:00                     6.047977   \n",
       "4  2016-01-15 04:00:00                     6.148599   \n",
       "\n",
       "   final.output.concentrate_pb  final.output.concentrate_sol  \\\n",
       "0                     9.889648                      5.507324   \n",
       "1                     9.968944                      5.257781   \n",
       "2                    10.213995                      5.383759   \n",
       "3                     9.977019                      4.858634   \n",
       "4                    10.142511                      4.939416   \n",
       "\n",
       "   final.output.concentrate_au  final.output.recovery  final.output.tail_ag  \\\n",
       "0                    42.192020              70.541216             10.411962   \n",
       "1                    42.701629              69.266198             10.462676   \n",
       "2                    42.657501              68.116445             10.507046   \n",
       "3                    42.689819              68.347543             10.422762   \n",
       "4                    42.774141              66.927016             10.360302   \n",
       "\n",
       "   final.output.tail_pb  final.output.tail_sol  final.output.tail_au  ...  \\\n",
       "0              0.895447              16.904297              2.143149  ...   \n",
       "1              0.927452              16.634514              2.224930  ...   \n",
       "2              0.953716              16.208849              2.257889  ...   \n",
       "3              0.883763              16.532835              2.146849  ...   \n",
       "4              0.792826              16.525686              2.055292  ...   \n",
       "\n",
       "   secondary_cleaner.state.floatbank4_a_air  \\\n",
       "0                                 14.016835   \n",
       "1                                 13.992281   \n",
       "2                                 14.015015   \n",
       "3                                 14.036510   \n",
       "4                                 14.027298   \n",
       "\n",
       "   secondary_cleaner.state.floatbank4_a_level  \\\n",
       "0                                 -502.488007   \n",
       "1                                 -505.503262   \n",
       "2                                 -502.520901   \n",
       "3                                 -500.857308   \n",
       "4                                 -499.838632   \n",
       "\n",
       "   secondary_cleaner.state.floatbank4_b_air  \\\n",
       "0                                 12.099931   \n",
       "1                                 11.950531   \n",
       "2                                 11.912783   \n",
       "3                                 11.999550   \n",
       "4                                 11.953070   \n",
       "\n",
       "   secondary_cleaner.state.floatbank4_b_level  \\\n",
       "0                                 -504.715942   \n",
       "1                                 -501.331529   \n",
       "2                                 -501.133383   \n",
       "3                                 -501.193686   \n",
       "4                                 -501.053894   \n",
       "\n",
       "   secondary_cleaner.state.floatbank5_a_air  \\\n",
       "0                                  9.925633   \n",
       "1                                 10.039245   \n",
       "2                                 10.070913   \n",
       "3                                  9.970366   \n",
       "4                                  9.925709   \n",
       "\n",
       "   secondary_cleaner.state.floatbank5_a_level  \\\n",
       "0                                 -498.310211   \n",
       "1                                 -500.169983   \n",
       "2                                 -500.129135   \n",
       "3                                 -499.201640   \n",
       "4                                 -501.686727   \n",
       "\n",
       "   secondary_cleaner.state.floatbank5_b_air  \\\n",
       "0                                  8.079666   \n",
       "1                                  7.984757   \n",
       "2                                  8.013877   \n",
       "3                                  7.977324   \n",
       "4                                  7.894242   \n",
       "\n",
       "   secondary_cleaner.state.floatbank5_b_level  \\\n",
       "0                                 -500.470978   \n",
       "1                                 -500.582168   \n",
       "2                                 -500.517572   \n",
       "3                                 -500.255908   \n",
       "4                                 -500.356035   \n",
       "\n",
       "   secondary_cleaner.state.floatbank6_a_air  \\\n",
       "0                                 14.151341   \n",
       "1                                 13.998353   \n",
       "2                                 14.028663   \n",
       "3                                 14.005551   \n",
       "4                                 13.996647   \n",
       "\n",
       "   secondary_cleaner.state.floatbank6_a_level  \n",
       "0                                 -605.841980  \n",
       "1                                 -599.787184  \n",
       "2                                 -601.427363  \n",
       "3                                 -599.996129  \n",
       "4                                 -601.496691  \n",
       "\n",
       "[5 rows x 87 columns]"
      ]
     },
     "execution_count": 3,
     "metadata": {},
     "output_type": "execute_result"
    }
   ],
   "source": [
    "print(train_data.info())\n",
    "train_data.head()"
   ]
  },
  {
   "cell_type": "code",
   "execution_count": 4,
   "metadata": {
    "scrolled": true
   },
   "outputs": [
    {
     "name": "stdout",
     "output_type": "stream",
     "text": [
      "<class 'pandas.core.frame.DataFrame'>\n",
      "RangeIndex: 5290 entries, 0 to 5289\n",
      "Data columns (total 53 columns):\n",
      " #   Column                                      Non-Null Count  Dtype  \n",
      "---  ------                                      --------------  -----  \n",
      " 0   date                                        5290 non-null   object \n",
      " 1   primary_cleaner.input.sulfate               5286 non-null   float64\n",
      " 2   primary_cleaner.input.depressant            5285 non-null   float64\n",
      " 3   primary_cleaner.input.feed_size             5290 non-null   float64\n",
      " 4   primary_cleaner.input.xanthate              5286 non-null   float64\n",
      " 5   primary_cleaner.state.floatbank8_a_air      5290 non-null   float64\n",
      " 6   primary_cleaner.state.floatbank8_a_level    5290 non-null   float64\n",
      " 7   primary_cleaner.state.floatbank8_b_air      5290 non-null   float64\n",
      " 8   primary_cleaner.state.floatbank8_b_level    5290 non-null   float64\n",
      " 9   primary_cleaner.state.floatbank8_c_air      5290 non-null   float64\n",
      " 10  primary_cleaner.state.floatbank8_c_level    5290 non-null   float64\n",
      " 11  primary_cleaner.state.floatbank8_d_air      5290 non-null   float64\n",
      " 12  primary_cleaner.state.floatbank8_d_level    5290 non-null   float64\n",
      " 13  rougher.input.feed_ag                       5290 non-null   float64\n",
      " 14  rougher.input.feed_pb                       5290 non-null   float64\n",
      " 15  rougher.input.feed_rate                     5287 non-null   float64\n",
      " 16  rougher.input.feed_size                     5289 non-null   float64\n",
      " 17  rougher.input.feed_sol                      5269 non-null   float64\n",
      " 18  rougher.input.feed_au                       5290 non-null   float64\n",
      " 19  rougher.input.floatbank10_sulfate           5285 non-null   float64\n",
      " 20  rougher.input.floatbank10_xanthate          5290 non-null   float64\n",
      " 21  rougher.input.floatbank11_sulfate           5282 non-null   float64\n",
      " 22  rougher.input.floatbank11_xanthate          5265 non-null   float64\n",
      " 23  rougher.state.floatbank10_a_air             5290 non-null   float64\n",
      " 24  rougher.state.floatbank10_a_level           5290 non-null   float64\n",
      " 25  rougher.state.floatbank10_b_air             5290 non-null   float64\n",
      " 26  rougher.state.floatbank10_b_level           5290 non-null   float64\n",
      " 27  rougher.state.floatbank10_c_air             5290 non-null   float64\n",
      " 28  rougher.state.floatbank10_c_level           5290 non-null   float64\n",
      " 29  rougher.state.floatbank10_d_air             5290 non-null   float64\n",
      " 30  rougher.state.floatbank10_d_level           5290 non-null   float64\n",
      " 31  rougher.state.floatbank10_e_air             5290 non-null   float64\n",
      " 32  rougher.state.floatbank10_e_level           5290 non-null   float64\n",
      " 33  rougher.state.floatbank10_f_air             5290 non-null   float64\n",
      " 34  rougher.state.floatbank10_f_level           5290 non-null   float64\n",
      " 35  secondary_cleaner.state.floatbank2_a_air    5287 non-null   float64\n",
      " 36  secondary_cleaner.state.floatbank2_a_level  5290 non-null   float64\n",
      " 37  secondary_cleaner.state.floatbank2_b_air    5288 non-null   float64\n",
      " 38  secondary_cleaner.state.floatbank2_b_level  5290 non-null   float64\n",
      " 39  secondary_cleaner.state.floatbank3_a_air    5281 non-null   float64\n",
      " 40  secondary_cleaner.state.floatbank3_a_level  5290 non-null   float64\n",
      " 41  secondary_cleaner.state.floatbank3_b_air    5290 non-null   float64\n",
      " 42  secondary_cleaner.state.floatbank3_b_level  5290 non-null   float64\n",
      " 43  secondary_cleaner.state.floatbank4_a_air    5290 non-null   float64\n",
      " 44  secondary_cleaner.state.floatbank4_a_level  5290 non-null   float64\n",
      " 45  secondary_cleaner.state.floatbank4_b_air    5290 non-null   float64\n",
      " 46  secondary_cleaner.state.floatbank4_b_level  5290 non-null   float64\n",
      " 47  secondary_cleaner.state.floatbank5_a_air    5290 non-null   float64\n",
      " 48  secondary_cleaner.state.floatbank5_a_level  5290 non-null   float64\n",
      " 49  secondary_cleaner.state.floatbank5_b_air    5290 non-null   float64\n",
      " 50  secondary_cleaner.state.floatbank5_b_level  5290 non-null   float64\n",
      " 51  secondary_cleaner.state.floatbank6_a_air    5290 non-null   float64\n",
      " 52  secondary_cleaner.state.floatbank6_a_level  5290 non-null   float64\n",
      "dtypes: float64(52), object(1)\n",
      "memory usage: 2.1+ MB\n",
      "None\n"
     ]
    },
    {
     "data": {
      "text/html": [
       "<div>\n",
       "<style scoped>\n",
       "    .dataframe tbody tr th:only-of-type {\n",
       "        vertical-align: middle;\n",
       "    }\n",
       "\n",
       "    .dataframe tbody tr th {\n",
       "        vertical-align: top;\n",
       "    }\n",
       "\n",
       "    .dataframe thead th {\n",
       "        text-align: right;\n",
       "    }\n",
       "</style>\n",
       "<table border=\"1\" class=\"dataframe\">\n",
       "  <thead>\n",
       "    <tr style=\"text-align: right;\">\n",
       "      <th></th>\n",
       "      <th>date</th>\n",
       "      <th>primary_cleaner.input.sulfate</th>\n",
       "      <th>primary_cleaner.input.depressant</th>\n",
       "      <th>primary_cleaner.input.feed_size</th>\n",
       "      <th>primary_cleaner.input.xanthate</th>\n",
       "      <th>primary_cleaner.state.floatbank8_a_air</th>\n",
       "      <th>primary_cleaner.state.floatbank8_a_level</th>\n",
       "      <th>primary_cleaner.state.floatbank8_b_air</th>\n",
       "      <th>primary_cleaner.state.floatbank8_b_level</th>\n",
       "      <th>primary_cleaner.state.floatbank8_c_air</th>\n",
       "      <th>...</th>\n",
       "      <th>secondary_cleaner.state.floatbank4_a_air</th>\n",
       "      <th>secondary_cleaner.state.floatbank4_a_level</th>\n",
       "      <th>secondary_cleaner.state.floatbank4_b_air</th>\n",
       "      <th>secondary_cleaner.state.floatbank4_b_level</th>\n",
       "      <th>secondary_cleaner.state.floatbank5_a_air</th>\n",
       "      <th>secondary_cleaner.state.floatbank5_a_level</th>\n",
       "      <th>secondary_cleaner.state.floatbank5_b_air</th>\n",
       "      <th>secondary_cleaner.state.floatbank5_b_level</th>\n",
       "      <th>secondary_cleaner.state.floatbank6_a_air</th>\n",
       "      <th>secondary_cleaner.state.floatbank6_a_level</th>\n",
       "    </tr>\n",
       "  </thead>\n",
       "  <tbody>\n",
       "    <tr>\n",
       "      <th>0</th>\n",
       "      <td>2016-09-01 00:59:59</td>\n",
       "      <td>210.800909</td>\n",
       "      <td>14.993118</td>\n",
       "      <td>8.080000</td>\n",
       "      <td>1.005021</td>\n",
       "      <td>1398.981301</td>\n",
       "      <td>-500.225577</td>\n",
       "      <td>1399.144926</td>\n",
       "      <td>-499.919735</td>\n",
       "      <td>1400.102998</td>\n",
       "      <td>...</td>\n",
       "      <td>12.023554</td>\n",
       "      <td>-497.795834</td>\n",
       "      <td>8.016656</td>\n",
       "      <td>-501.289139</td>\n",
       "      <td>7.946562</td>\n",
       "      <td>-432.317850</td>\n",
       "      <td>4.872511</td>\n",
       "      <td>-500.037437</td>\n",
       "      <td>26.705889</td>\n",
       "      <td>-499.709414</td>\n",
       "    </tr>\n",
       "    <tr>\n",
       "      <th>1</th>\n",
       "      <td>2016-09-01 01:59:59</td>\n",
       "      <td>215.392455</td>\n",
       "      <td>14.987471</td>\n",
       "      <td>8.080000</td>\n",
       "      <td>0.990469</td>\n",
       "      <td>1398.777912</td>\n",
       "      <td>-500.057435</td>\n",
       "      <td>1398.055362</td>\n",
       "      <td>-499.778182</td>\n",
       "      <td>1396.151033</td>\n",
       "      <td>...</td>\n",
       "      <td>12.058140</td>\n",
       "      <td>-498.695773</td>\n",
       "      <td>8.130979</td>\n",
       "      <td>-499.634209</td>\n",
       "      <td>7.958270</td>\n",
       "      <td>-525.839648</td>\n",
       "      <td>4.878850</td>\n",
       "      <td>-500.162375</td>\n",
       "      <td>25.019940</td>\n",
       "      <td>-499.819438</td>\n",
       "    </tr>\n",
       "    <tr>\n",
       "      <th>2</th>\n",
       "      <td>2016-09-01 02:59:59</td>\n",
       "      <td>215.259946</td>\n",
       "      <td>12.884934</td>\n",
       "      <td>7.786667</td>\n",
       "      <td>0.996043</td>\n",
       "      <td>1398.493666</td>\n",
       "      <td>-500.868360</td>\n",
       "      <td>1398.860436</td>\n",
       "      <td>-499.764529</td>\n",
       "      <td>1398.075709</td>\n",
       "      <td>...</td>\n",
       "      <td>11.962366</td>\n",
       "      <td>-498.767484</td>\n",
       "      <td>8.096893</td>\n",
       "      <td>-500.827423</td>\n",
       "      <td>8.071056</td>\n",
       "      <td>-500.801673</td>\n",
       "      <td>4.905125</td>\n",
       "      <td>-499.828510</td>\n",
       "      <td>24.994862</td>\n",
       "      <td>-500.622559</td>\n",
       "    </tr>\n",
       "    <tr>\n",
       "      <th>3</th>\n",
       "      <td>2016-09-01 03:59:59</td>\n",
       "      <td>215.336236</td>\n",
       "      <td>12.006805</td>\n",
       "      <td>7.640000</td>\n",
       "      <td>0.863514</td>\n",
       "      <td>1399.618111</td>\n",
       "      <td>-498.863574</td>\n",
       "      <td>1397.440120</td>\n",
       "      <td>-499.211024</td>\n",
       "      <td>1400.129303</td>\n",
       "      <td>...</td>\n",
       "      <td>12.033091</td>\n",
       "      <td>-498.350935</td>\n",
       "      <td>8.074946</td>\n",
       "      <td>-499.474407</td>\n",
       "      <td>7.897085</td>\n",
       "      <td>-500.868509</td>\n",
       "      <td>4.931400</td>\n",
       "      <td>-499.963623</td>\n",
       "      <td>24.948919</td>\n",
       "      <td>-498.709987</td>\n",
       "    </tr>\n",
       "    <tr>\n",
       "      <th>4</th>\n",
       "      <td>2016-09-01 04:59:59</td>\n",
       "      <td>199.099327</td>\n",
       "      <td>10.682530</td>\n",
       "      <td>7.530000</td>\n",
       "      <td>0.805575</td>\n",
       "      <td>1401.268123</td>\n",
       "      <td>-500.808305</td>\n",
       "      <td>1398.128818</td>\n",
       "      <td>-499.504543</td>\n",
       "      <td>1402.172226</td>\n",
       "      <td>...</td>\n",
       "      <td>12.025367</td>\n",
       "      <td>-500.786497</td>\n",
       "      <td>8.054678</td>\n",
       "      <td>-500.397500</td>\n",
       "      <td>8.107890</td>\n",
       "      <td>-509.526725</td>\n",
       "      <td>4.957674</td>\n",
       "      <td>-500.360026</td>\n",
       "      <td>25.003331</td>\n",
       "      <td>-500.856333</td>\n",
       "    </tr>\n",
       "  </tbody>\n",
       "</table>\n",
       "<p>5 rows × 53 columns</p>\n",
       "</div>"
      ],
      "text/plain": [
       "                  date  primary_cleaner.input.sulfate  \\\n",
       "0  2016-09-01 00:59:59                     210.800909   \n",
       "1  2016-09-01 01:59:59                     215.392455   \n",
       "2  2016-09-01 02:59:59                     215.259946   \n",
       "3  2016-09-01 03:59:59                     215.336236   \n",
       "4  2016-09-01 04:59:59                     199.099327   \n",
       "\n",
       "   primary_cleaner.input.depressant  primary_cleaner.input.feed_size  \\\n",
       "0                         14.993118                         8.080000   \n",
       "1                         14.987471                         8.080000   \n",
       "2                         12.884934                         7.786667   \n",
       "3                         12.006805                         7.640000   \n",
       "4                         10.682530                         7.530000   \n",
       "\n",
       "   primary_cleaner.input.xanthate  primary_cleaner.state.floatbank8_a_air  \\\n",
       "0                        1.005021                             1398.981301   \n",
       "1                        0.990469                             1398.777912   \n",
       "2                        0.996043                             1398.493666   \n",
       "3                        0.863514                             1399.618111   \n",
       "4                        0.805575                             1401.268123   \n",
       "\n",
       "   primary_cleaner.state.floatbank8_a_level  \\\n",
       "0                               -500.225577   \n",
       "1                               -500.057435   \n",
       "2                               -500.868360   \n",
       "3                               -498.863574   \n",
       "4                               -500.808305   \n",
       "\n",
       "   primary_cleaner.state.floatbank8_b_air  \\\n",
       "0                             1399.144926   \n",
       "1                             1398.055362   \n",
       "2                             1398.860436   \n",
       "3                             1397.440120   \n",
       "4                             1398.128818   \n",
       "\n",
       "   primary_cleaner.state.floatbank8_b_level  \\\n",
       "0                               -499.919735   \n",
       "1                               -499.778182   \n",
       "2                               -499.764529   \n",
       "3                               -499.211024   \n",
       "4                               -499.504543   \n",
       "\n",
       "   primary_cleaner.state.floatbank8_c_air  ...  \\\n",
       "0                             1400.102998  ...   \n",
       "1                             1396.151033  ...   \n",
       "2                             1398.075709  ...   \n",
       "3                             1400.129303  ...   \n",
       "4                             1402.172226  ...   \n",
       "\n",
       "   secondary_cleaner.state.floatbank4_a_air  \\\n",
       "0                                 12.023554   \n",
       "1                                 12.058140   \n",
       "2                                 11.962366   \n",
       "3                                 12.033091   \n",
       "4                                 12.025367   \n",
       "\n",
       "   secondary_cleaner.state.floatbank4_a_level  \\\n",
       "0                                 -497.795834   \n",
       "1                                 -498.695773   \n",
       "2                                 -498.767484   \n",
       "3                                 -498.350935   \n",
       "4                                 -500.786497   \n",
       "\n",
       "   secondary_cleaner.state.floatbank4_b_air  \\\n",
       "0                                  8.016656   \n",
       "1                                  8.130979   \n",
       "2                                  8.096893   \n",
       "3                                  8.074946   \n",
       "4                                  8.054678   \n",
       "\n",
       "   secondary_cleaner.state.floatbank4_b_level  \\\n",
       "0                                 -501.289139   \n",
       "1                                 -499.634209   \n",
       "2                                 -500.827423   \n",
       "3                                 -499.474407   \n",
       "4                                 -500.397500   \n",
       "\n",
       "   secondary_cleaner.state.floatbank5_a_air  \\\n",
       "0                                  7.946562   \n",
       "1                                  7.958270   \n",
       "2                                  8.071056   \n",
       "3                                  7.897085   \n",
       "4                                  8.107890   \n",
       "\n",
       "   secondary_cleaner.state.floatbank5_a_level  \\\n",
       "0                                 -432.317850   \n",
       "1                                 -525.839648   \n",
       "2                                 -500.801673   \n",
       "3                                 -500.868509   \n",
       "4                                 -509.526725   \n",
       "\n",
       "   secondary_cleaner.state.floatbank5_b_air  \\\n",
       "0                                  4.872511   \n",
       "1                                  4.878850   \n",
       "2                                  4.905125   \n",
       "3                                  4.931400   \n",
       "4                                  4.957674   \n",
       "\n",
       "   secondary_cleaner.state.floatbank5_b_level  \\\n",
       "0                                 -500.037437   \n",
       "1                                 -500.162375   \n",
       "2                                 -499.828510   \n",
       "3                                 -499.963623   \n",
       "4                                 -500.360026   \n",
       "\n",
       "   secondary_cleaner.state.floatbank6_a_air  \\\n",
       "0                                 26.705889   \n",
       "1                                 25.019940   \n",
       "2                                 24.994862   \n",
       "3                                 24.948919   \n",
       "4                                 25.003331   \n",
       "\n",
       "   secondary_cleaner.state.floatbank6_a_level  \n",
       "0                                 -499.709414  \n",
       "1                                 -499.819438  \n",
       "2                                 -500.622559  \n",
       "3                                 -498.709987  \n",
       "4                                 -500.856333  \n",
       "\n",
       "[5 rows x 53 columns]"
      ]
     },
     "execution_count": 4,
     "metadata": {},
     "output_type": "execute_result"
    }
   ],
   "source": [
    "print(test_data.info())\n",
    "test_data.head()"
   ]
  },
  {
   "cell_type": "code",
   "execution_count": 5,
   "metadata": {
    "scrolled": true
   },
   "outputs": [
    {
     "name": "stdout",
     "output_type": "stream",
     "text": [
      "<class 'pandas.core.frame.DataFrame'>\n",
      "RangeIndex: 19439 entries, 0 to 19438\n",
      "Data columns (total 87 columns):\n",
      " #   Column                                              Non-Null Count  Dtype  \n",
      "---  ------                                              --------------  -----  \n",
      " 0   date                                                19439 non-null  object \n",
      " 1   final.output.concentrate_ag                         19438 non-null  float64\n",
      " 2   final.output.concentrate_pb                         19438 non-null  float64\n",
      " 3   final.output.concentrate_sol                        19228 non-null  float64\n",
      " 4   final.output.concentrate_au                         19439 non-null  float64\n",
      " 5   final.output.recovery                               19439 non-null  float64\n",
      " 6   final.output.tail_ag                                19438 non-null  float64\n",
      " 7   final.output.tail_pb                                19338 non-null  float64\n",
      " 8   final.output.tail_sol                               19433 non-null  float64\n",
      " 9   final.output.tail_au                                19439 non-null  float64\n",
      " 10  primary_cleaner.input.sulfate                       19415 non-null  float64\n",
      " 11  primary_cleaner.input.depressant                    19402 non-null  float64\n",
      " 12  primary_cleaner.input.feed_size                     19439 non-null  float64\n",
      " 13  primary_cleaner.input.xanthate                      19335 non-null  float64\n",
      " 14  primary_cleaner.output.concentrate_ag               19439 non-null  float64\n",
      " 15  primary_cleaner.output.concentrate_pb               19323 non-null  float64\n",
      " 16  primary_cleaner.output.concentrate_sol              19069 non-null  float64\n",
      " 17  primary_cleaner.output.concentrate_au               19439 non-null  float64\n",
      " 18  primary_cleaner.output.tail_ag                      19435 non-null  float64\n",
      " 19  primary_cleaner.output.tail_pb                      19418 non-null  float64\n",
      " 20  primary_cleaner.output.tail_sol                     19377 non-null  float64\n",
      " 21  primary_cleaner.output.tail_au                      19439 non-null  float64\n",
      " 22  primary_cleaner.state.floatbank8_a_air              19435 non-null  float64\n",
      " 23  primary_cleaner.state.floatbank8_a_level            19438 non-null  float64\n",
      " 24  primary_cleaner.state.floatbank8_b_air              19435 non-null  float64\n",
      " 25  primary_cleaner.state.floatbank8_b_level            19438 non-null  float64\n",
      " 26  primary_cleaner.state.floatbank8_c_air              19437 non-null  float64\n",
      " 27  primary_cleaner.state.floatbank8_c_level            19438 non-null  float64\n",
      " 28  primary_cleaner.state.floatbank8_d_air              19436 non-null  float64\n",
      " 29  primary_cleaner.state.floatbank8_d_level            19438 non-null  float64\n",
      " 30  rougher.calculation.sulfate_to_au_concentrate       19437 non-null  float64\n",
      " 31  rougher.calculation.floatbank10_sulfate_to_au_feed  19437 non-null  float64\n",
      " 32  rougher.calculation.floatbank11_sulfate_to_au_feed  19437 non-null  float64\n",
      " 33  rougher.calculation.au_pb_ratio                     19439 non-null  float64\n",
      " 34  rougher.input.feed_ag                               19439 non-null  float64\n",
      " 35  rougher.input.feed_pb                               19339 non-null  float64\n",
      " 36  rougher.input.feed_rate                             19428 non-null  float64\n",
      " 37  rougher.input.feed_size                             19294 non-null  float64\n",
      " 38  rougher.input.feed_sol                              19340 non-null  float64\n",
      " 39  rougher.input.feed_au                               19439 non-null  float64\n",
      " 40  rougher.input.floatbank10_sulfate                   19405 non-null  float64\n",
      " 41  rougher.input.floatbank10_xanthate                  19431 non-null  float64\n",
      " 42  rougher.input.floatbank11_sulfate                   19395 non-null  float64\n",
      " 43  rougher.input.floatbank11_xanthate                  18986 non-null  float64\n",
      " 44  rougher.output.concentrate_ag                       19439 non-null  float64\n",
      " 45  rougher.output.concentrate_pb                       19439 non-null  float64\n",
      " 46  rougher.output.concentrate_sol                      19416 non-null  float64\n",
      " 47  rougher.output.concentrate_au                       19439 non-null  float64\n",
      " 48  rougher.output.recovery                             19439 non-null  float64\n",
      " 49  rougher.output.tail_ag                              19438 non-null  float64\n",
      " 50  rougher.output.tail_pb                              19439 non-null  float64\n",
      " 51  rougher.output.tail_sol                             19439 non-null  float64\n",
      " 52  rougher.output.tail_au                              19439 non-null  float64\n",
      " 53  rougher.state.floatbank10_a_air                     19438 non-null  float64\n",
      " 54  rougher.state.floatbank10_a_level                   19438 non-null  float64\n",
      " 55  rougher.state.floatbank10_b_air                     19438 non-null  float64\n",
      " 56  rougher.state.floatbank10_b_level                   19438 non-null  float64\n",
      " 57  rougher.state.floatbank10_c_air                     19438 non-null  float64\n",
      " 58  rougher.state.floatbank10_c_level                   19438 non-null  float64\n",
      " 59  rougher.state.floatbank10_d_air                     19439 non-null  float64\n",
      " 60  rougher.state.floatbank10_d_level                   19439 non-null  float64\n",
      " 61  rougher.state.floatbank10_e_air                     19003 non-null  float64\n",
      " 62  rougher.state.floatbank10_e_level                   19439 non-null  float64\n",
      " 63  rougher.state.floatbank10_f_air                     19439 non-null  float64\n",
      " 64  rougher.state.floatbank10_f_level                   19439 non-null  float64\n",
      " 65  secondary_cleaner.output.tail_ag                    19437 non-null  float64\n",
      " 66  secondary_cleaner.output.tail_pb                    19427 non-null  float64\n",
      " 67  secondary_cleaner.output.tail_sol                   17691 non-null  float64\n",
      " 68  secondary_cleaner.output.tail_au                    19439 non-null  float64\n",
      " 69  secondary_cleaner.state.floatbank2_a_air            19219 non-null  float64\n",
      " 70  secondary_cleaner.state.floatbank2_a_level          19438 non-null  float64\n",
      " 71  secondary_cleaner.state.floatbank2_b_air            19416 non-null  float64\n",
      " 72  secondary_cleaner.state.floatbank2_b_level          19438 non-null  float64\n",
      " 73  secondary_cleaner.state.floatbank3_a_air            19426 non-null  float64\n",
      " 74  secondary_cleaner.state.floatbank3_a_level          19438 non-null  float64\n",
      " 75  secondary_cleaner.state.floatbank3_b_air            19438 non-null  float64\n",
      " 76  secondary_cleaner.state.floatbank3_b_level          19438 non-null  float64\n",
      " 77  secondary_cleaner.state.floatbank4_a_air            19433 non-null  float64\n",
      " 78  secondary_cleaner.state.floatbank4_a_level          19438 non-null  float64\n",
      " 79  secondary_cleaner.state.floatbank4_b_air            19438 non-null  float64\n",
      " 80  secondary_cleaner.state.floatbank4_b_level          19438 non-null  float64\n",
      " 81  secondary_cleaner.state.floatbank5_a_air            19438 non-null  float64\n",
      " 82  secondary_cleaner.state.floatbank5_a_level          19438 non-null  float64\n",
      " 83  secondary_cleaner.state.floatbank5_b_air            19438 non-null  float64\n",
      " 84  secondary_cleaner.state.floatbank5_b_level          19438 non-null  float64\n",
      " 85  secondary_cleaner.state.floatbank6_a_air            19437 non-null  float64\n",
      " 86  secondary_cleaner.state.floatbank6_a_level          19438 non-null  float64\n",
      "dtypes: float64(86), object(1)\n",
      "memory usage: 12.9+ MB\n",
      "None\n"
     ]
    },
    {
     "data": {
      "text/html": [
       "<div>\n",
       "<style scoped>\n",
       "    .dataframe tbody tr th:only-of-type {\n",
       "        vertical-align: middle;\n",
       "    }\n",
       "\n",
       "    .dataframe tbody tr th {\n",
       "        vertical-align: top;\n",
       "    }\n",
       "\n",
       "    .dataframe thead th {\n",
       "        text-align: right;\n",
       "    }\n",
       "</style>\n",
       "<table border=\"1\" class=\"dataframe\">\n",
       "  <thead>\n",
       "    <tr style=\"text-align: right;\">\n",
       "      <th></th>\n",
       "      <th>date</th>\n",
       "      <th>final.output.concentrate_ag</th>\n",
       "      <th>final.output.concentrate_pb</th>\n",
       "      <th>final.output.concentrate_sol</th>\n",
       "      <th>final.output.concentrate_au</th>\n",
       "      <th>final.output.recovery</th>\n",
       "      <th>final.output.tail_ag</th>\n",
       "      <th>final.output.tail_pb</th>\n",
       "      <th>final.output.tail_sol</th>\n",
       "      <th>final.output.tail_au</th>\n",
       "      <th>...</th>\n",
       "      <th>secondary_cleaner.state.floatbank4_a_air</th>\n",
       "      <th>secondary_cleaner.state.floatbank4_a_level</th>\n",
       "      <th>secondary_cleaner.state.floatbank4_b_air</th>\n",
       "      <th>secondary_cleaner.state.floatbank4_b_level</th>\n",
       "      <th>secondary_cleaner.state.floatbank5_a_air</th>\n",
       "      <th>secondary_cleaner.state.floatbank5_a_level</th>\n",
       "      <th>secondary_cleaner.state.floatbank5_b_air</th>\n",
       "      <th>secondary_cleaner.state.floatbank5_b_level</th>\n",
       "      <th>secondary_cleaner.state.floatbank6_a_air</th>\n",
       "      <th>secondary_cleaner.state.floatbank6_a_level</th>\n",
       "    </tr>\n",
       "  </thead>\n",
       "  <tbody>\n",
       "    <tr>\n",
       "      <th>0</th>\n",
       "      <td>2016-01-15 00:00:00</td>\n",
       "      <td>6.055403</td>\n",
       "      <td>9.889648</td>\n",
       "      <td>5.507324</td>\n",
       "      <td>42.192020</td>\n",
       "      <td>70.541216</td>\n",
       "      <td>10.411962</td>\n",
       "      <td>0.895447</td>\n",
       "      <td>16.904297</td>\n",
       "      <td>2.143149</td>\n",
       "      <td>...</td>\n",
       "      <td>14.016835</td>\n",
       "      <td>-502.488007</td>\n",
       "      <td>12.099931</td>\n",
       "      <td>-504.715942</td>\n",
       "      <td>9.925633</td>\n",
       "      <td>-498.310211</td>\n",
       "      <td>8.079666</td>\n",
       "      <td>-500.470978</td>\n",
       "      <td>14.151341</td>\n",
       "      <td>-605.841980</td>\n",
       "    </tr>\n",
       "    <tr>\n",
       "      <th>1</th>\n",
       "      <td>2016-01-15 01:00:00</td>\n",
       "      <td>6.029369</td>\n",
       "      <td>9.968944</td>\n",
       "      <td>5.257781</td>\n",
       "      <td>42.701629</td>\n",
       "      <td>69.266198</td>\n",
       "      <td>10.462676</td>\n",
       "      <td>0.927452</td>\n",
       "      <td>16.634514</td>\n",
       "      <td>2.224930</td>\n",
       "      <td>...</td>\n",
       "      <td>13.992281</td>\n",
       "      <td>-505.503262</td>\n",
       "      <td>11.950531</td>\n",
       "      <td>-501.331529</td>\n",
       "      <td>10.039245</td>\n",
       "      <td>-500.169983</td>\n",
       "      <td>7.984757</td>\n",
       "      <td>-500.582168</td>\n",
       "      <td>13.998353</td>\n",
       "      <td>-599.787184</td>\n",
       "    </tr>\n",
       "    <tr>\n",
       "      <th>2</th>\n",
       "      <td>2016-01-15 02:00:00</td>\n",
       "      <td>6.055926</td>\n",
       "      <td>10.213995</td>\n",
       "      <td>5.383759</td>\n",
       "      <td>42.657501</td>\n",
       "      <td>68.116445</td>\n",
       "      <td>10.507046</td>\n",
       "      <td>0.953716</td>\n",
       "      <td>16.208849</td>\n",
       "      <td>2.257889</td>\n",
       "      <td>...</td>\n",
       "      <td>14.015015</td>\n",
       "      <td>-502.520901</td>\n",
       "      <td>11.912783</td>\n",
       "      <td>-501.133383</td>\n",
       "      <td>10.070913</td>\n",
       "      <td>-500.129135</td>\n",
       "      <td>8.013877</td>\n",
       "      <td>-500.517572</td>\n",
       "      <td>14.028663</td>\n",
       "      <td>-601.427363</td>\n",
       "    </tr>\n",
       "    <tr>\n",
       "      <th>3</th>\n",
       "      <td>2016-01-15 03:00:00</td>\n",
       "      <td>6.047977</td>\n",
       "      <td>9.977019</td>\n",
       "      <td>4.858634</td>\n",
       "      <td>42.689819</td>\n",
       "      <td>68.347543</td>\n",
       "      <td>10.422762</td>\n",
       "      <td>0.883763</td>\n",
       "      <td>16.532835</td>\n",
       "      <td>2.146849</td>\n",
       "      <td>...</td>\n",
       "      <td>14.036510</td>\n",
       "      <td>-500.857308</td>\n",
       "      <td>11.999550</td>\n",
       "      <td>-501.193686</td>\n",
       "      <td>9.970366</td>\n",
       "      <td>-499.201640</td>\n",
       "      <td>7.977324</td>\n",
       "      <td>-500.255908</td>\n",
       "      <td>14.005551</td>\n",
       "      <td>-599.996129</td>\n",
       "    </tr>\n",
       "    <tr>\n",
       "      <th>4</th>\n",
       "      <td>2016-01-15 04:00:00</td>\n",
       "      <td>6.148599</td>\n",
       "      <td>10.142511</td>\n",
       "      <td>4.939416</td>\n",
       "      <td>42.774141</td>\n",
       "      <td>66.927016</td>\n",
       "      <td>10.360302</td>\n",
       "      <td>0.792826</td>\n",
       "      <td>16.525686</td>\n",
       "      <td>2.055292</td>\n",
       "      <td>...</td>\n",
       "      <td>14.027298</td>\n",
       "      <td>-499.838632</td>\n",
       "      <td>11.953070</td>\n",
       "      <td>-501.053894</td>\n",
       "      <td>9.925709</td>\n",
       "      <td>-501.686727</td>\n",
       "      <td>7.894242</td>\n",
       "      <td>-500.356035</td>\n",
       "      <td>13.996647</td>\n",
       "      <td>-601.496691</td>\n",
       "    </tr>\n",
       "  </tbody>\n",
       "</table>\n",
       "<p>5 rows × 87 columns</p>\n",
       "</div>"
      ],
      "text/plain": [
       "                  date  final.output.concentrate_ag  \\\n",
       "0  2016-01-15 00:00:00                     6.055403   \n",
       "1  2016-01-15 01:00:00                     6.029369   \n",
       "2  2016-01-15 02:00:00                     6.055926   \n",
       "3  2016-01-15 03:00:00                     6.047977   \n",
       "4  2016-01-15 04:00:00                     6.148599   \n",
       "\n",
       "   final.output.concentrate_pb  final.output.concentrate_sol  \\\n",
       "0                     9.889648                      5.507324   \n",
       "1                     9.968944                      5.257781   \n",
       "2                    10.213995                      5.383759   \n",
       "3                     9.977019                      4.858634   \n",
       "4                    10.142511                      4.939416   \n",
       "\n",
       "   final.output.concentrate_au  final.output.recovery  final.output.tail_ag  \\\n",
       "0                    42.192020              70.541216             10.411962   \n",
       "1                    42.701629              69.266198             10.462676   \n",
       "2                    42.657501              68.116445             10.507046   \n",
       "3                    42.689819              68.347543             10.422762   \n",
       "4                    42.774141              66.927016             10.360302   \n",
       "\n",
       "   final.output.tail_pb  final.output.tail_sol  final.output.tail_au  ...  \\\n",
       "0              0.895447              16.904297              2.143149  ...   \n",
       "1              0.927452              16.634514              2.224930  ...   \n",
       "2              0.953716              16.208849              2.257889  ...   \n",
       "3              0.883763              16.532835              2.146849  ...   \n",
       "4              0.792826              16.525686              2.055292  ...   \n",
       "\n",
       "   secondary_cleaner.state.floatbank4_a_air  \\\n",
       "0                                 14.016835   \n",
       "1                                 13.992281   \n",
       "2                                 14.015015   \n",
       "3                                 14.036510   \n",
       "4                                 14.027298   \n",
       "\n",
       "   secondary_cleaner.state.floatbank4_a_level  \\\n",
       "0                                 -502.488007   \n",
       "1                                 -505.503262   \n",
       "2                                 -502.520901   \n",
       "3                                 -500.857308   \n",
       "4                                 -499.838632   \n",
       "\n",
       "   secondary_cleaner.state.floatbank4_b_air  \\\n",
       "0                                 12.099931   \n",
       "1                                 11.950531   \n",
       "2                                 11.912783   \n",
       "3                                 11.999550   \n",
       "4                                 11.953070   \n",
       "\n",
       "   secondary_cleaner.state.floatbank4_b_level  \\\n",
       "0                                 -504.715942   \n",
       "1                                 -501.331529   \n",
       "2                                 -501.133383   \n",
       "3                                 -501.193686   \n",
       "4                                 -501.053894   \n",
       "\n",
       "   secondary_cleaner.state.floatbank5_a_air  \\\n",
       "0                                  9.925633   \n",
       "1                                 10.039245   \n",
       "2                                 10.070913   \n",
       "3                                  9.970366   \n",
       "4                                  9.925709   \n",
       "\n",
       "   secondary_cleaner.state.floatbank5_a_level  \\\n",
       "0                                 -498.310211   \n",
       "1                                 -500.169983   \n",
       "2                                 -500.129135   \n",
       "3                                 -499.201640   \n",
       "4                                 -501.686727   \n",
       "\n",
       "   secondary_cleaner.state.floatbank5_b_air  \\\n",
       "0                                  8.079666   \n",
       "1                                  7.984757   \n",
       "2                                  8.013877   \n",
       "3                                  7.977324   \n",
       "4                                  7.894242   \n",
       "\n",
       "   secondary_cleaner.state.floatbank5_b_level  \\\n",
       "0                                 -500.470978   \n",
       "1                                 -500.582168   \n",
       "2                                 -500.517572   \n",
       "3                                 -500.255908   \n",
       "4                                 -500.356035   \n",
       "\n",
       "   secondary_cleaner.state.floatbank6_a_air  \\\n",
       "0                                 14.151341   \n",
       "1                                 13.998353   \n",
       "2                                 14.028663   \n",
       "3                                 14.005551   \n",
       "4                                 13.996647   \n",
       "\n",
       "   secondary_cleaner.state.floatbank6_a_level  \n",
       "0                                 -605.841980  \n",
       "1                                 -599.787184  \n",
       "2                                 -601.427363  \n",
       "3                                 -599.996129  \n",
       "4                                 -601.496691  \n",
       "\n",
       "[5 rows x 87 columns]"
      ]
     },
     "execution_count": 5,
     "metadata": {},
     "output_type": "execute_result"
    }
   ],
   "source": [
    "print(full_data.info())\n",
    "full_data.head()"
   ]
  },
  {
   "cell_type": "markdown",
   "metadata": {},
   "source": [
    "Посмотрим на столбцы, которых нет в тестовой выборке:"
   ]
  },
  {
   "cell_type": "code",
   "execution_count": 6,
   "metadata": {
    "scrolled": true
   },
   "outputs": [
    {
     "data": {
      "text/plain": [
       "{'final.output.concentrate_ag',\n",
       " 'final.output.concentrate_au',\n",
       " 'final.output.concentrate_pb',\n",
       " 'final.output.concentrate_sol',\n",
       " 'final.output.recovery',\n",
       " 'final.output.tail_ag',\n",
       " 'final.output.tail_au',\n",
       " 'final.output.tail_pb',\n",
       " 'final.output.tail_sol',\n",
       " 'primary_cleaner.output.concentrate_ag',\n",
       " 'primary_cleaner.output.concentrate_au',\n",
       " 'primary_cleaner.output.concentrate_pb',\n",
       " 'primary_cleaner.output.concentrate_sol',\n",
       " 'primary_cleaner.output.tail_ag',\n",
       " 'primary_cleaner.output.tail_au',\n",
       " 'primary_cleaner.output.tail_pb',\n",
       " 'primary_cleaner.output.tail_sol',\n",
       " 'rougher.calculation.au_pb_ratio',\n",
       " 'rougher.calculation.floatbank10_sulfate_to_au_feed',\n",
       " 'rougher.calculation.floatbank11_sulfate_to_au_feed',\n",
       " 'rougher.calculation.sulfate_to_au_concentrate',\n",
       " 'rougher.output.concentrate_ag',\n",
       " 'rougher.output.concentrate_au',\n",
       " 'rougher.output.concentrate_pb',\n",
       " 'rougher.output.concentrate_sol',\n",
       " 'rougher.output.recovery',\n",
       " 'rougher.output.tail_ag',\n",
       " 'rougher.output.tail_au',\n",
       " 'rougher.output.tail_pb',\n",
       " 'rougher.output.tail_sol',\n",
       " 'secondary_cleaner.output.tail_ag',\n",
       " 'secondary_cleaner.output.tail_au',\n",
       " 'secondary_cleaner.output.tail_pb',\n",
       " 'secondary_cleaner.output.tail_sol'}"
      ]
     },
     "execution_count": 6,
     "metadata": {},
     "output_type": "execute_result"
    }
   ],
   "source": [
    "set(full_data.columns) - set(test_data.columns)"
   ]
  },
  {
   "cell_type": "markdown",
   "metadata": {},
   "source": [
    "Получили 34 пропущенных признака:\n",
    "1. Параметры продукта (final.output.concentrate_ag, rougher.output.tail_ag)\n",
    "2. Расчетные характеристики (rougher.calculation.au_pb_ratio)\n",
    "\n",
    "- отсутствует информация о хвостовых частях\n",
    "- во всех этапах, кроме повторной очистки отсутствует информация о доле металлов\n",
    "- у финального этапа и этапа флотации отсутствуют признаки обогащения\n",
    "- отсутствуют данные о некоторых реагентах на этапе флотации"
   ]
  },
  {
   "cell_type": "markdown",
   "metadata": {},
   "source": [
    "Проверим, что эффективность обогащения рассчитана правильно.Вычислим её на обучающей выборке для признака rougher.output.recovery и найдем MAE между расчётами и значением признака. \n",
    "\n",
    "Напишем для этого функцию recovery(C, F, T), в которой:\n",
    "\n",
    "- C — доля золота в концентрате после флотации/очистки;\n",
    "- F — доля золота в сырье/концентрате до флотации/очистки;\n",
    "- T — доля золота в отвальных хвостах после флотации/очистки."
   ]
  },
  {
   "cell_type": "code",
   "execution_count": 7,
   "metadata": {},
   "outputs": [],
   "source": [
    "def recovery(C, F, T):\n",
    "    return C*(F-T)/(F*(C-T))*100"
   ]
  },
  {
   "cell_type": "code",
   "execution_count": 8,
   "metadata": {},
   "outputs": [
    {
     "data": {
      "text/plain": [
       "count    14149.000000\n",
       "mean        82.704502\n",
       "std         14.479156\n",
       "min         -0.000000\n",
       "25%         79.993067\n",
       "50%         85.299462\n",
       "75%         90.165021\n",
       "max        100.000000\n",
       "Name: counted_recovery, dtype: float64"
      ]
     },
     "execution_count": 8,
     "metadata": {},
     "output_type": "execute_result"
    }
   ],
   "source": [
    "train_data['counted_recovery'] = recovery(train_data['rougher.output.concentrate_au'], \n",
    "                                          train_data['rougher.input.feed_au'],\n",
    "                                          train_data['rougher.output.tail_au'])\n",
    "train_data['counted_recovery'].describe()"
   ]
  },
  {
   "cell_type": "code",
   "execution_count": 9,
   "metadata": {},
   "outputs": [],
   "source": [
    "train_data_mae = train_data[['rougher.output.recovery','counted_recovery']].dropna()"
   ]
  },
  {
   "cell_type": "code",
   "execution_count": 10,
   "metadata": {},
   "outputs": [],
   "source": [
    "def mae(recovery, counted_recovery):\n",
    "    mae = 1 / len(recovery) * (abs(recovery - counted_recovery)).sum() \n",
    "    return mae"
   ]
  },
  {
   "cell_type": "code",
   "execution_count": 11,
   "metadata": {},
   "outputs": [
    {
     "data": {
      "text/plain": [
       "9.73512347450521e-15"
      ]
     },
     "execution_count": 11,
     "metadata": {},
     "output_type": "execute_result"
    }
   ],
   "source": [
    "mae(train_data_mae['rougher.output.recovery'], train_data_mae['counted_recovery'])"
   ]
  },
  {
   "cell_type": "markdown",
   "metadata": {},
   "source": [
    "Имеем значение метрики в порядке е-15. Получившийся результат говорит о том, что расчитанные данные и данные в таблице по recovery равны и рассчитаны верно."
   ]
  },
  {
   "cell_type": "code",
   "execution_count": 12,
   "metadata": {
    "scrolled": false
   },
   "outputs": [
    {
     "data": {
      "text/plain": [
       "date                                            0\n",
       "final.output.concentrate_ag                     1\n",
       "final.output.concentrate_pb                     1\n",
       "final.output.concentrate_sol                  211\n",
       "final.output.concentrate_au                     0\n",
       "                                             ... \n",
       "secondary_cleaner.state.floatbank5_b_air        1\n",
       "secondary_cleaner.state.floatbank5_b_level      1\n",
       "secondary_cleaner.state.floatbank6_a_air        2\n",
       "secondary_cleaner.state.floatbank6_a_level      1\n",
       "counted_recovery                                0\n",
       "Length: 88, dtype: int64"
      ]
     },
     "execution_count": 12,
     "metadata": {},
     "output_type": "execute_result"
    }
   ],
   "source": [
    "train_data.isna().sum()"
   ]
  },
  {
   "cell_type": "code",
   "execution_count": 13,
   "metadata": {},
   "outputs": [
    {
     "data": {
      "text/plain": [
       "date                                           0\n",
       "primary_cleaner.input.sulfate                  4\n",
       "primary_cleaner.input.depressant               5\n",
       "primary_cleaner.input.feed_size                0\n",
       "primary_cleaner.input.xanthate                 4\n",
       "primary_cleaner.state.floatbank8_a_air         0\n",
       "primary_cleaner.state.floatbank8_a_level       0\n",
       "primary_cleaner.state.floatbank8_b_air         0\n",
       "primary_cleaner.state.floatbank8_b_level       0\n",
       "primary_cleaner.state.floatbank8_c_air         0\n",
       "primary_cleaner.state.floatbank8_c_level       0\n",
       "primary_cleaner.state.floatbank8_d_air         0\n",
       "primary_cleaner.state.floatbank8_d_level       0\n",
       "rougher.input.feed_ag                          0\n",
       "rougher.input.feed_pb                          0\n",
       "rougher.input.feed_rate                        3\n",
       "rougher.input.feed_size                        1\n",
       "rougher.input.feed_sol                        21\n",
       "rougher.input.feed_au                          0\n",
       "rougher.input.floatbank10_sulfate              5\n",
       "rougher.input.floatbank10_xanthate             0\n",
       "rougher.input.floatbank11_sulfate              8\n",
       "rougher.input.floatbank11_xanthate            25\n",
       "rougher.state.floatbank10_a_air                0\n",
       "rougher.state.floatbank10_a_level              0\n",
       "rougher.state.floatbank10_b_air                0\n",
       "rougher.state.floatbank10_b_level              0\n",
       "rougher.state.floatbank10_c_air                0\n",
       "rougher.state.floatbank10_c_level              0\n",
       "rougher.state.floatbank10_d_air                0\n",
       "rougher.state.floatbank10_d_level              0\n",
       "rougher.state.floatbank10_e_air                0\n",
       "rougher.state.floatbank10_e_level              0\n",
       "rougher.state.floatbank10_f_air                0\n",
       "rougher.state.floatbank10_f_level              0\n",
       "secondary_cleaner.state.floatbank2_a_air       3\n",
       "secondary_cleaner.state.floatbank2_a_level     0\n",
       "secondary_cleaner.state.floatbank2_b_air       2\n",
       "secondary_cleaner.state.floatbank2_b_level     0\n",
       "secondary_cleaner.state.floatbank3_a_air       9\n",
       "secondary_cleaner.state.floatbank3_a_level     0\n",
       "secondary_cleaner.state.floatbank3_b_air       0\n",
       "secondary_cleaner.state.floatbank3_b_level     0\n",
       "secondary_cleaner.state.floatbank4_a_air       0\n",
       "secondary_cleaner.state.floatbank4_a_level     0\n",
       "secondary_cleaner.state.floatbank4_b_air       0\n",
       "secondary_cleaner.state.floatbank4_b_level     0\n",
       "secondary_cleaner.state.floatbank5_a_air       0\n",
       "secondary_cleaner.state.floatbank5_a_level     0\n",
       "secondary_cleaner.state.floatbank5_b_air       0\n",
       "secondary_cleaner.state.floatbank5_b_level     0\n",
       "secondary_cleaner.state.floatbank6_a_air       0\n",
       "secondary_cleaner.state.floatbank6_a_level     0\n",
       "dtype: int64"
      ]
     },
     "execution_count": 13,
     "metadata": {},
     "output_type": "execute_result"
    }
   ],
   "source": [
    "test_data.isna().sum()"
   ]
  },
  {
   "cell_type": "code",
   "execution_count": 14,
   "metadata": {},
   "outputs": [
    {
     "data": {
      "text/plain": [
       "date                                            0\n",
       "final.output.concentrate_ag                     1\n",
       "final.output.concentrate_pb                     1\n",
       "final.output.concentrate_sol                  211\n",
       "final.output.concentrate_au                     0\n",
       "                                             ... \n",
       "secondary_cleaner.state.floatbank5_a_level      1\n",
       "secondary_cleaner.state.floatbank5_b_air        1\n",
       "secondary_cleaner.state.floatbank5_b_level      1\n",
       "secondary_cleaner.state.floatbank6_a_air        2\n",
       "secondary_cleaner.state.floatbank6_a_level      1\n",
       "Length: 87, dtype: int64"
      ]
     },
     "execution_count": 14,
     "metadata": {},
     "output_type": "execute_result"
    }
   ],
   "source": [
    "full_data.isna().sum()"
   ]
  },
  {
   "cell_type": "markdown",
   "metadata": {},
   "source": [
    " Процент пропусков в признаках:"
   ]
  },
  {
   "cell_type": "code",
   "execution_count": 15,
   "metadata": {},
   "outputs": [],
   "source": [
    "def percent_nan(data):\n",
    "    percent_nan = round((data.isnull().sum() * 100/ len(data)),2).sort_values(ascending=False) \n",
    "    return percent_nan"
   ]
  },
  {
   "cell_type": "code",
   "execution_count": 16,
   "metadata": {},
   "outputs": [
    {
     "data": {
      "text/plain": [
       "secondary_cleaner.output.tail_sol           11.34\n",
       "rougher.state.floatbank10_e_air              3.08\n",
       "rougher.input.floatbank11_xanthate           3.02\n",
       "primary_cleaner.output.concentrate_sol       2.02\n",
       "secondary_cleaner.state.floatbank2_a_air     1.53\n",
       "                                            ...  \n",
       "rougher.output.tail_au                       0.00\n",
       "rougher.state.floatbank10_d_air              0.00\n",
       "rougher.state.floatbank10_d_level            0.00\n",
       "rougher.state.floatbank10_e_level            0.00\n",
       "counted_recovery                             0.00\n",
       "Length: 88, dtype: float64"
      ]
     },
     "execution_count": 16,
     "metadata": {},
     "output_type": "execute_result"
    }
   ],
   "source": [
    "percent_nan(train_data)"
   ]
  },
  {
   "cell_type": "code",
   "execution_count": 17,
   "metadata": {},
   "outputs": [
    {
     "data": {
      "text/plain": [
       "rougher.input.floatbank11_xanthate            0.47\n",
       "rougher.input.feed_sol                        0.40\n",
       "secondary_cleaner.state.floatbank3_a_air      0.17\n",
       "rougher.input.floatbank11_sulfate             0.15\n",
       "primary_cleaner.input.depressant              0.09\n",
       "rougher.input.floatbank10_sulfate             0.09\n",
       "primary_cleaner.input.xanthate                0.08\n",
       "primary_cleaner.input.sulfate                 0.08\n",
       "rougher.input.feed_rate                       0.06\n",
       "secondary_cleaner.state.floatbank2_a_air      0.06\n",
       "secondary_cleaner.state.floatbank2_b_air      0.04\n",
       "rougher.input.feed_size                       0.02\n",
       "secondary_cleaner.state.floatbank2_b_level    0.00\n",
       "rougher.state.floatbank10_f_level             0.00\n",
       "rougher.state.floatbank10_f_air               0.00\n",
       "secondary_cleaner.state.floatbank3_a_level    0.00\n",
       "secondary_cleaner.state.floatbank2_a_level    0.00\n",
       "date                                          0.00\n",
       "rougher.state.floatbank10_e_air               0.00\n",
       "secondary_cleaner.state.floatbank3_b_air      0.00\n",
       "secondary_cleaner.state.floatbank3_b_level    0.00\n",
       "secondary_cleaner.state.floatbank4_a_air      0.00\n",
       "secondary_cleaner.state.floatbank4_a_level    0.00\n",
       "secondary_cleaner.state.floatbank4_b_air      0.00\n",
       "secondary_cleaner.state.floatbank4_b_level    0.00\n",
       "secondary_cleaner.state.floatbank5_a_air      0.00\n",
       "secondary_cleaner.state.floatbank5_a_level    0.00\n",
       "secondary_cleaner.state.floatbank5_b_air      0.00\n",
       "secondary_cleaner.state.floatbank5_b_level    0.00\n",
       "secondary_cleaner.state.floatbank6_a_air      0.00\n",
       "rougher.state.floatbank10_e_level             0.00\n",
       "rougher.state.floatbank10_b_level             0.00\n",
       "rougher.state.floatbank10_d_level             0.00\n",
       "primary_cleaner.state.floatbank8_d_level      0.00\n",
       "primary_cleaner.input.feed_size               0.00\n",
       "primary_cleaner.state.floatbank8_a_air        0.00\n",
       "primary_cleaner.state.floatbank8_a_level      0.00\n",
       "primary_cleaner.state.floatbank8_b_air        0.00\n",
       "primary_cleaner.state.floatbank8_b_level      0.00\n",
       "primary_cleaner.state.floatbank8_c_air        0.00\n",
       "primary_cleaner.state.floatbank8_c_level      0.00\n",
       "primary_cleaner.state.floatbank8_d_air        0.00\n",
       "rougher.input.feed_ag                         0.00\n",
       "rougher.state.floatbank10_d_air               0.00\n",
       "rougher.input.feed_pb                         0.00\n",
       "rougher.input.feed_au                         0.00\n",
       "rougher.input.floatbank10_xanthate            0.00\n",
       "rougher.state.floatbank10_a_air               0.00\n",
       "rougher.state.floatbank10_a_level             0.00\n",
       "rougher.state.floatbank10_b_air               0.00\n",
       "rougher.state.floatbank10_c_air               0.00\n",
       "rougher.state.floatbank10_c_level             0.00\n",
       "secondary_cleaner.state.floatbank6_a_level    0.00\n",
       "dtype: float64"
      ]
     },
     "execution_count": 17,
     "metadata": {},
     "output_type": "execute_result"
    }
   ],
   "source": [
    "percent_nan(test_data)"
   ]
  },
  {
   "cell_type": "code",
   "execution_count": 18,
   "metadata": {},
   "outputs": [
    {
     "data": {
      "text/plain": [
       "secondary_cleaner.output.tail_sol           8.99\n",
       "rougher.input.floatbank11_xanthate          2.33\n",
       "rougher.state.floatbank10_e_air             2.24\n",
       "primary_cleaner.output.concentrate_sol      1.90\n",
       "secondary_cleaner.state.floatbank2_a_air    1.13\n",
       "                                            ... \n",
       "rougher.output.concentrate_pb               0.00\n",
       "rougher.output.concentrate_au               0.00\n",
       "rougher.output.recovery                     0.00\n",
       "rougher.output.tail_pb                      0.00\n",
       "date                                        0.00\n",
       "Length: 87, dtype: float64"
      ]
     },
     "execution_count": 18,
     "metadata": {},
     "output_type": "execute_result"
    }
   ],
   "source": [
    "percent_nan(full_data)"
   ]
  },
  {
   "cell_type": "code",
   "execution_count": 20,
   "metadata": {},
   "outputs": [
    {
     "data": {
      "text/plain": [
       "0"
      ]
     },
     "execution_count": 20,
     "metadata": {},
     "output_type": "execute_result"
    }
   ],
   "source": [
    "train_data = train_data.ffill(axis = 0)\n",
    "train_data.isna().sum().sum()"
   ]
  },
  {
   "cell_type": "code",
   "execution_count": 21,
   "metadata": {},
   "outputs": [
    {
     "data": {
      "text/plain": [
       "0"
      ]
     },
     "execution_count": 21,
     "metadata": {},
     "output_type": "execute_result"
    }
   ],
   "source": [
    "test_data = test_data.ffill(axis = 0)\n",
    "test_data.isna().sum().sum()"
   ]
  },
  {
   "cell_type": "code",
   "execution_count": 22,
   "metadata": {},
   "outputs": [
    {
     "data": {
      "text/plain": [
       "0"
      ]
     },
     "execution_count": 22,
     "metadata": {},
     "output_type": "execute_result"
    }
   ],
   "source": [
    "full_data = full_data.ffill(axis = 0)\n",
    "full_data.isna().sum().sum()"
   ]
  },
  {
   "cell_type": "markdown",
   "metadata": {},
   "source": [
    "Приведем столбец date к формату даты:"
   ]
  },
  {
   "cell_type": "code",
   "execution_count": 23,
   "metadata": {},
   "outputs": [],
   "source": [
    "train_data['date'] = pd.to_datetime(train_data['date'], format='%Y-%m-%d %H:%M:%S')\n",
    "train_data = train_data.set_index(['date'])"
   ]
  },
  {
   "cell_type": "code",
   "execution_count": 25,
   "metadata": {},
   "outputs": [
    {
     "data": {
      "text/plain": [
       "0"
      ]
     },
     "execution_count": 25,
     "metadata": {},
     "output_type": "execute_result"
    }
   ],
   "source": [
    "test_data.isna().sum().sum()"
   ]
  },
  {
   "cell_type": "code",
   "execution_count": 26,
   "metadata": {},
   "outputs": [],
   "source": [
    "test_data['date'] = pd.to_datetime(test_data['date'], format='%Y-%m-%d %H:%M:%S')\n",
    "test_data = test_data.set_index(['date'])"
   ]
  },
  {
   "cell_type": "code",
   "execution_count": 28,
   "metadata": {},
   "outputs": [
    {
     "data": {
      "text/plain": [
       "0"
      ]
     },
     "execution_count": 28,
     "metadata": {},
     "output_type": "execute_result"
    }
   ],
   "source": [
    "full_data.isna().sum().sum()"
   ]
  },
  {
   "cell_type": "code",
   "execution_count": 29,
   "metadata": {},
   "outputs": [],
   "source": [
    "full_data['date'] = pd.to_datetime(full_data['date'], format='%Y-%m-%d %H:%M:%S')\n",
    "full_data = full_data.set_index(['date'])"
   ]
  },
  {
   "cell_type": "markdown",
   "metadata": {},
   "source": [
    "Создадим датафрейм по индексам test_data для того чтобы восстановить недостающие значения rougher.output.recovery и final.output.recovery:"
   ]
  },
  {
   "cell_type": "code",
   "execution_count": 30,
   "metadata": {},
   "outputs": [
    {
     "name": "stdout",
     "output_type": "stream",
     "text": [
      "<class 'pandas.core.frame.DataFrame'>\n",
      "DatetimeIndex: 5290 entries, 2016-09-01 00:59:59 to 2017-12-31 23:59:59\n",
      "Data columns (total 86 columns):\n",
      " #   Column                                              Non-Null Count  Dtype  \n",
      "---  ------                                              --------------  -----  \n",
      " 0   final.output.concentrate_ag                         5290 non-null   float64\n",
      " 1   final.output.concentrate_pb                         5290 non-null   float64\n",
      " 2   final.output.concentrate_sol                        5290 non-null   float64\n",
      " 3   final.output.concentrate_au                         5290 non-null   float64\n",
      " 4   final.output.recovery                               5290 non-null   float64\n",
      " 5   final.output.tail_ag                                5290 non-null   float64\n",
      " 6   final.output.tail_pb                                5290 non-null   float64\n",
      " 7   final.output.tail_sol                               5290 non-null   float64\n",
      " 8   final.output.tail_au                                5290 non-null   float64\n",
      " 9   primary_cleaner.input.sulfate                       5290 non-null   float64\n",
      " 10  primary_cleaner.input.depressant                    5290 non-null   float64\n",
      " 11  primary_cleaner.input.feed_size                     5290 non-null   float64\n",
      " 12  primary_cleaner.input.xanthate                      5290 non-null   float64\n",
      " 13  primary_cleaner.output.concentrate_ag               5290 non-null   float64\n",
      " 14  primary_cleaner.output.concentrate_pb               5290 non-null   float64\n",
      " 15  primary_cleaner.output.concentrate_sol              5290 non-null   float64\n",
      " 16  primary_cleaner.output.concentrate_au               5290 non-null   float64\n",
      " 17  primary_cleaner.output.tail_ag                      5290 non-null   float64\n",
      " 18  primary_cleaner.output.tail_pb                      5290 non-null   float64\n",
      " 19  primary_cleaner.output.tail_sol                     5290 non-null   float64\n",
      " 20  primary_cleaner.output.tail_au                      5290 non-null   float64\n",
      " 21  primary_cleaner.state.floatbank8_a_air              5290 non-null   float64\n",
      " 22  primary_cleaner.state.floatbank8_a_level            5290 non-null   float64\n",
      " 23  primary_cleaner.state.floatbank8_b_air              5290 non-null   float64\n",
      " 24  primary_cleaner.state.floatbank8_b_level            5290 non-null   float64\n",
      " 25  primary_cleaner.state.floatbank8_c_air              5290 non-null   float64\n",
      " 26  primary_cleaner.state.floatbank8_c_level            5290 non-null   float64\n",
      " 27  primary_cleaner.state.floatbank8_d_air              5290 non-null   float64\n",
      " 28  primary_cleaner.state.floatbank8_d_level            5290 non-null   float64\n",
      " 29  rougher.calculation.sulfate_to_au_concentrate       5290 non-null   float64\n",
      " 30  rougher.calculation.floatbank10_sulfate_to_au_feed  5290 non-null   float64\n",
      " 31  rougher.calculation.floatbank11_sulfate_to_au_feed  5290 non-null   float64\n",
      " 32  rougher.calculation.au_pb_ratio                     5290 non-null   float64\n",
      " 33  rougher.input.feed_ag                               5290 non-null   float64\n",
      " 34  rougher.input.feed_pb                               5290 non-null   float64\n",
      " 35  rougher.input.feed_rate                             5290 non-null   float64\n",
      " 36  rougher.input.feed_size                             5290 non-null   float64\n",
      " 37  rougher.input.feed_sol                              5290 non-null   float64\n",
      " 38  rougher.input.feed_au                               5290 non-null   float64\n",
      " 39  rougher.input.floatbank10_sulfate                   5290 non-null   float64\n",
      " 40  rougher.input.floatbank10_xanthate                  5290 non-null   float64\n",
      " 41  rougher.input.floatbank11_sulfate                   5290 non-null   float64\n",
      " 42  rougher.input.floatbank11_xanthate                  5290 non-null   float64\n",
      " 43  rougher.output.concentrate_ag                       5290 non-null   float64\n",
      " 44  rougher.output.concentrate_pb                       5290 non-null   float64\n",
      " 45  rougher.output.concentrate_sol                      5290 non-null   float64\n",
      " 46  rougher.output.concentrate_au                       5290 non-null   float64\n",
      " 47  rougher.output.recovery                             5290 non-null   float64\n",
      " 48  rougher.output.tail_ag                              5290 non-null   float64\n",
      " 49  rougher.output.tail_pb                              5290 non-null   float64\n",
      " 50  rougher.output.tail_sol                             5290 non-null   float64\n",
      " 51  rougher.output.tail_au                              5290 non-null   float64\n",
      " 52  rougher.state.floatbank10_a_air                     5290 non-null   float64\n",
      " 53  rougher.state.floatbank10_a_level                   5290 non-null   float64\n",
      " 54  rougher.state.floatbank10_b_air                     5290 non-null   float64\n",
      " 55  rougher.state.floatbank10_b_level                   5290 non-null   float64\n",
      " 56  rougher.state.floatbank10_c_air                     5290 non-null   float64\n",
      " 57  rougher.state.floatbank10_c_level                   5290 non-null   float64\n",
      " 58  rougher.state.floatbank10_d_air                     5290 non-null   float64\n",
      " 59  rougher.state.floatbank10_d_level                   5290 non-null   float64\n",
      " 60  rougher.state.floatbank10_e_air                     5290 non-null   float64\n",
      " 61  rougher.state.floatbank10_e_level                   5290 non-null   float64\n",
      " 62  rougher.state.floatbank10_f_air                     5290 non-null   float64\n",
      " 63  rougher.state.floatbank10_f_level                   5290 non-null   float64\n",
      " 64  secondary_cleaner.output.tail_ag                    5290 non-null   float64\n",
      " 65  secondary_cleaner.output.tail_pb                    5290 non-null   float64\n",
      " 66  secondary_cleaner.output.tail_sol                   5290 non-null   float64\n",
      " 67  secondary_cleaner.output.tail_au                    5290 non-null   float64\n",
      " 68  secondary_cleaner.state.floatbank2_a_air            5290 non-null   float64\n",
      " 69  secondary_cleaner.state.floatbank2_a_level          5290 non-null   float64\n",
      " 70  secondary_cleaner.state.floatbank2_b_air            5290 non-null   float64\n",
      " 71  secondary_cleaner.state.floatbank2_b_level          5290 non-null   float64\n",
      " 72  secondary_cleaner.state.floatbank3_a_air            5290 non-null   float64\n",
      " 73  secondary_cleaner.state.floatbank3_a_level          5290 non-null   float64\n",
      " 74  secondary_cleaner.state.floatbank3_b_air            5290 non-null   float64\n",
      " 75  secondary_cleaner.state.floatbank3_b_level          5290 non-null   float64\n",
      " 76  secondary_cleaner.state.floatbank4_a_air            5290 non-null   float64\n",
      " 77  secondary_cleaner.state.floatbank4_a_level          5290 non-null   float64\n",
      " 78  secondary_cleaner.state.floatbank4_b_air            5290 non-null   float64\n",
      " 79  secondary_cleaner.state.floatbank4_b_level          5290 non-null   float64\n",
      " 80  secondary_cleaner.state.floatbank5_a_air            5290 non-null   float64\n",
      " 81  secondary_cleaner.state.floatbank5_a_level          5290 non-null   float64\n",
      " 82  secondary_cleaner.state.floatbank5_b_air            5290 non-null   float64\n",
      " 83  secondary_cleaner.state.floatbank5_b_level          5290 non-null   float64\n",
      " 84  secondary_cleaner.state.floatbank6_a_air            5290 non-null   float64\n",
      " 85  secondary_cleaner.state.floatbank6_a_level          5290 non-null   float64\n",
      "dtypes: float64(86)\n",
      "memory usage: 3.5 MB\n"
     ]
    }
   ],
   "source": [
    "test_full_data = pd.DataFrame(data=full_data, index=test_data.index)\n",
    "test_full_data.info()"
   ]
  },
  {
   "cell_type": "markdown",
   "metadata": {},
   "source": [
    "## Анализ данных"
   ]
  },
  {
   "cell_type": "markdown",
   "metadata": {},
   "source": [
    "Посмотрим, как меняется концентрация металлов (Au, Ag, Pb) на различных этапах очистки. В отдельный датафрейм выведем информацию о концентрации металлов и построим график:"
   ]
  },
  {
   "cell_type": "code",
   "execution_count": 31,
   "metadata": {},
   "outputs": [
    {
     "data": {
      "text/html": [
       "<div>\n",
       "<style scoped>\n",
       "    .dataframe tbody tr th:only-of-type {\n",
       "        vertical-align: middle;\n",
       "    }\n",
       "\n",
       "    .dataframe tbody tr th {\n",
       "        vertical-align: top;\n",
       "    }\n",
       "\n",
       "    .dataframe thead th {\n",
       "        text-align: right;\n",
       "    }\n",
       "</style>\n",
       "<table border=\"1\" class=\"dataframe\">\n",
       "  <thead>\n",
       "    <tr style=\"text-align: right;\">\n",
       "      <th></th>\n",
       "      <th>rougher.input.feed_ag</th>\n",
       "      <th>rougher.input.feed_pb</th>\n",
       "      <th>rougher.input.feed_au</th>\n",
       "      <th>rougher.output.concentrate_ag</th>\n",
       "      <th>primary_cleaner.output.concentrate_ag</th>\n",
       "      <th>final.output.concentrate_ag</th>\n",
       "      <th>rougher.output.concentrate_pb</th>\n",
       "      <th>primary_cleaner.output.concentrate_pb</th>\n",
       "      <th>final.output.concentrate_pb</th>\n",
       "      <th>rougher.output.concentrate_au</th>\n",
       "      <th>primary_cleaner.output.concentrate_au</th>\n",
       "      <th>final.output.concentrate_au</th>\n",
       "    </tr>\n",
       "    <tr>\n",
       "      <th>date</th>\n",
       "      <th></th>\n",
       "      <th></th>\n",
       "      <th></th>\n",
       "      <th></th>\n",
       "      <th></th>\n",
       "      <th></th>\n",
       "      <th></th>\n",
       "      <th></th>\n",
       "      <th></th>\n",
       "      <th></th>\n",
       "      <th></th>\n",
       "      <th></th>\n",
       "    </tr>\n",
       "  </thead>\n",
       "  <tbody>\n",
       "    <tr>\n",
       "      <th>2016-01-15 00:00:00</th>\n",
       "      <td>6.100378</td>\n",
       "      <td>2.284912</td>\n",
       "      <td>6.486150</td>\n",
       "      <td>11.500771</td>\n",
       "      <td>8.547551</td>\n",
       "      <td>6.055403</td>\n",
       "      <td>7.101074</td>\n",
       "      <td>10.389648</td>\n",
       "      <td>9.889648</td>\n",
       "      <td>19.793808</td>\n",
       "      <td>34.174427</td>\n",
       "      <td>42.192020</td>\n",
       "    </tr>\n",
       "    <tr>\n",
       "      <th>2016-01-15 01:00:00</th>\n",
       "      <td>6.161113</td>\n",
       "      <td>2.266033</td>\n",
       "      <td>6.478583</td>\n",
       "      <td>11.615865</td>\n",
       "      <td>8.558743</td>\n",
       "      <td>6.029369</td>\n",
       "      <td>7.278807</td>\n",
       "      <td>10.497069</td>\n",
       "      <td>9.968944</td>\n",
       "      <td>20.050975</td>\n",
       "      <td>34.118526</td>\n",
       "      <td>42.701629</td>\n",
       "    </tr>\n",
       "    <tr>\n",
       "      <th>2016-01-15 02:00:00</th>\n",
       "      <td>6.116455</td>\n",
       "      <td>2.159622</td>\n",
       "      <td>6.362222</td>\n",
       "      <td>11.695753</td>\n",
       "      <td>8.603505</td>\n",
       "      <td>6.055926</td>\n",
       "      <td>7.216833</td>\n",
       "      <td>10.354494</td>\n",
       "      <td>10.213995</td>\n",
       "      <td>19.737170</td>\n",
       "      <td>33.969464</td>\n",
       "      <td>42.657501</td>\n",
       "    </tr>\n",
       "    <tr>\n",
       "      <th>2016-01-15 03:00:00</th>\n",
       "      <td>6.043309</td>\n",
       "      <td>2.037807</td>\n",
       "      <td>6.118189</td>\n",
       "      <td>11.915047</td>\n",
       "      <td>7.221879</td>\n",
       "      <td>6.047977</td>\n",
       "      <td>7.175616</td>\n",
       "      <td>8.496563</td>\n",
       "      <td>9.977019</td>\n",
       "      <td>19.320810</td>\n",
       "      <td>28.260743</td>\n",
       "      <td>42.689819</td>\n",
       "    </tr>\n",
       "    <tr>\n",
       "      <th>2016-01-15 04:00:00</th>\n",
       "      <td>6.060915</td>\n",
       "      <td>1.786875</td>\n",
       "      <td>5.663707</td>\n",
       "      <td>12.411054</td>\n",
       "      <td>9.089428</td>\n",
       "      <td>6.148599</td>\n",
       "      <td>7.240205</td>\n",
       "      <td>9.986786</td>\n",
       "      <td>10.142511</td>\n",
       "      <td>19.216101</td>\n",
       "      <td>33.044932</td>\n",
       "      <td>42.774141</td>\n",
       "    </tr>\n",
       "  </tbody>\n",
       "</table>\n",
       "</div>"
      ],
      "text/plain": [
       "                     rougher.input.feed_ag  rougher.input.feed_pb  \\\n",
       "date                                                                \n",
       "2016-01-15 00:00:00               6.100378               2.284912   \n",
       "2016-01-15 01:00:00               6.161113               2.266033   \n",
       "2016-01-15 02:00:00               6.116455               2.159622   \n",
       "2016-01-15 03:00:00               6.043309               2.037807   \n",
       "2016-01-15 04:00:00               6.060915               1.786875   \n",
       "\n",
       "                     rougher.input.feed_au  rougher.output.concentrate_ag  \\\n",
       "date                                                                        \n",
       "2016-01-15 00:00:00               6.486150                      11.500771   \n",
       "2016-01-15 01:00:00               6.478583                      11.615865   \n",
       "2016-01-15 02:00:00               6.362222                      11.695753   \n",
       "2016-01-15 03:00:00               6.118189                      11.915047   \n",
       "2016-01-15 04:00:00               5.663707                      12.411054   \n",
       "\n",
       "                     primary_cleaner.output.concentrate_ag  \\\n",
       "date                                                         \n",
       "2016-01-15 00:00:00                               8.547551   \n",
       "2016-01-15 01:00:00                               8.558743   \n",
       "2016-01-15 02:00:00                               8.603505   \n",
       "2016-01-15 03:00:00                               7.221879   \n",
       "2016-01-15 04:00:00                               9.089428   \n",
       "\n",
       "                     final.output.concentrate_ag  \\\n",
       "date                                               \n",
       "2016-01-15 00:00:00                     6.055403   \n",
       "2016-01-15 01:00:00                     6.029369   \n",
       "2016-01-15 02:00:00                     6.055926   \n",
       "2016-01-15 03:00:00                     6.047977   \n",
       "2016-01-15 04:00:00                     6.148599   \n",
       "\n",
       "                     rougher.output.concentrate_pb  \\\n",
       "date                                                 \n",
       "2016-01-15 00:00:00                       7.101074   \n",
       "2016-01-15 01:00:00                       7.278807   \n",
       "2016-01-15 02:00:00                       7.216833   \n",
       "2016-01-15 03:00:00                       7.175616   \n",
       "2016-01-15 04:00:00                       7.240205   \n",
       "\n",
       "                     primary_cleaner.output.concentrate_pb  \\\n",
       "date                                                         \n",
       "2016-01-15 00:00:00                              10.389648   \n",
       "2016-01-15 01:00:00                              10.497069   \n",
       "2016-01-15 02:00:00                              10.354494   \n",
       "2016-01-15 03:00:00                               8.496563   \n",
       "2016-01-15 04:00:00                               9.986786   \n",
       "\n",
       "                     final.output.concentrate_pb  \\\n",
       "date                                               \n",
       "2016-01-15 00:00:00                     9.889648   \n",
       "2016-01-15 01:00:00                     9.968944   \n",
       "2016-01-15 02:00:00                    10.213995   \n",
       "2016-01-15 03:00:00                     9.977019   \n",
       "2016-01-15 04:00:00                    10.142511   \n",
       "\n",
       "                     rougher.output.concentrate_au  \\\n",
       "date                                                 \n",
       "2016-01-15 00:00:00                      19.793808   \n",
       "2016-01-15 01:00:00                      20.050975   \n",
       "2016-01-15 02:00:00                      19.737170   \n",
       "2016-01-15 03:00:00                      19.320810   \n",
       "2016-01-15 04:00:00                      19.216101   \n",
       "\n",
       "                     primary_cleaner.output.concentrate_au  \\\n",
       "date                                                         \n",
       "2016-01-15 00:00:00                              34.174427   \n",
       "2016-01-15 01:00:00                              34.118526   \n",
       "2016-01-15 02:00:00                              33.969464   \n",
       "2016-01-15 03:00:00                              28.260743   \n",
       "2016-01-15 04:00:00                              33.044932   \n",
       "\n",
       "                     final.output.concentrate_au  \n",
       "date                                              \n",
       "2016-01-15 00:00:00                    42.192020  \n",
       "2016-01-15 01:00:00                    42.701629  \n",
       "2016-01-15 02:00:00                    42.657501  \n",
       "2016-01-15 03:00:00                    42.689819  \n",
       "2016-01-15 04:00:00                    42.774141  "
      ]
     },
     "execution_count": 31,
     "metadata": {},
     "output_type": "execute_result"
    }
   ],
   "source": [
    "concentrate_data = train_data[['rougher.input.feed_ag', 'rougher.input.feed_pb', 'rougher.input.feed_au',\n",
    "                           'rougher.output.concentrate_ag', 'primary_cleaner.output.concentrate_ag', \n",
    "                           'final.output.concentrate_ag','rougher.output.concentrate_pb',\n",
    "                           'primary_cleaner.output.concentrate_pb', 'final.output.concentrate_pb',\n",
    "                           'rougher.output.concentrate_au', 'primary_cleaner.output.concentrate_au', \n",
    "                           'final.output.concentrate_au']]\n",
    "concentrate_data.head()"
   ]
  },
  {
   "cell_type": "code",
   "execution_count": 32,
   "metadata": {},
   "outputs": [
    {
     "data": {
      "image/png": "[encoded data removed]",
      "text/plain": [
       "<Figure size 1080x720 with 1 Axes>"
      ]
     },
     "metadata": {
      "needs_background": "light"
     },
     "output_type": "display_data"
    }
   ],
   "source": [
    "plt.figure(figsize=(15,10))\n",
    "sns.boxplot(data=concentrate_data, orient='h').set(xlabel='Концентрация металлов',\n",
    "                                                 ylabel='Стадии обработки металлов', \n",
    "                                                 title='Содержание металлов на разных стадиях обработки');"
   ]
  },
  {
   "cell_type": "markdown",
   "metadata": {},
   "source": [
    "По графику видно, что с каждым этапом увеличивается концентрация золата и свинца, так же можно заметить уменьшение концентрации серебра."
   ]
  },
  {
   "cell_type": "markdown",
   "metadata": {},
   "source": [
    "Теперь сравним распределения размеров гранул сырья на обучающей и тестовой выборках. Если распределения будут сильно отличаться друг от друга, оценка модели будет неправильной."
   ]
  },
  {
   "cell_type": "code",
   "execution_count": 33,
   "metadata": {},
   "outputs": [
    {
     "data": {
      "image/png": "[encoded data removed]",
      "text/plain": [
       "<Figure size 1080x360 with 1 Axes>"
      ]
     },
     "metadata": {
      "needs_background": "light"
     },
     "output_type": "display_data"
    }
   ],
   "source": [
    "plt.figure(figsize=(15,5))\n",
    "sns.boxplot(data=(train_data['rougher.input.feed_size'], \n",
    "                  test_data['rougher.input.feed_size']), orient='h').set(xlabel='Размер гранул',\n",
    "                                                                         ylabel='Выборка', \n",
    "                                                                         title='Распределение размеров гранул сырья');\n",
    "plt.yticks([0,1], ['Обучающая', 'Тестовая']);"
   ]
  },
  {
   "cell_type": "markdown",
   "metadata": {},
   "source": [
    "Посмотрим на распределение плоности для двух выборок:"
   ]
  },
  {
   "cell_type": "code",
   "execution_count": 34,
   "metadata": {},
   "outputs": [
    {
     "data": {
      "image/png": "[encoded data removed]",
      "text/plain": [
       "<Figure size 1224x360 with 1 Axes>"
      ]
     },
     "metadata": {
      "needs_background": "light"
     },
     "output_type": "display_data"
    }
   ],
   "source": [
    "plt.figure(figsize=(17,5))\n",
    "sns.distplot(train_data['rougher.input.feed_size'], color='m').set(xlabel='Среднее по значениям',\n",
    "                                                                   ylabel='Плотность частоты',\n",
    "                                                                   title='Распределение по размерам гранул сырья');\n",
    "sns.distplot(test_data['rougher.input.feed_size'], color='g').set(xlabel='Среднее по значениям',\n",
    "                                          ylabel='Плотность частоты');"
   ]
  },
  {
   "cell_type": "markdown",
   "metadata": {},
   "source": [
    "По построенным графикам можем сделать вывод, что размеры гранул сырья на обучающей и тестовой выборках не сильно отличаются друг от друга, что не окажет существенного влияния на построение модели."
   ]
  },
  {
   "cell_type": "code",
   "execution_count": 35,
   "metadata": {},
   "outputs": [
    {
     "name": "stdout",
     "output_type": "stream",
     "text": [
      "Средний размер частиц для train равен 60.24\n",
      "Средний размер частиц для test равен 55.95\n"
     ]
    }
   ],
   "source": [
    "print( 'Средний размер частиц для train равен', round(train_data['rougher.input.feed_size'].mean(),2))\n",
    "print( 'Средний размер частиц для test равен', round(test_data['rougher.input.feed_size'].mean(),2))"
   ]
  },
  {
   "cell_type": "markdown",
   "metadata": {},
   "source": [
    "Исследуем суммарную концентрацию всех веществ на разных стадиях: в сырье, в черновом и финальном концентратах. В отдельный датафрейм выведем информацию о концентрации металлов на разных стадиях"
   ]
  },
  {
   "cell_type": "code",
   "execution_count": 36,
   "metadata": {},
   "outputs": [
    {
     "data": {
      "text/html": [
       "<div>\n",
       "<style scoped>\n",
       "    .dataframe tbody tr th:only-of-type {\n",
       "        vertical-align: middle;\n",
       "    }\n",
       "\n",
       "    .dataframe tbody tr th {\n",
       "        vertical-align: top;\n",
       "    }\n",
       "\n",
       "    .dataframe thead th {\n",
       "        text-align: right;\n",
       "    }\n",
       "</style>\n",
       "<table border=\"1\" class=\"dataframe\">\n",
       "  <thead>\n",
       "    <tr style=\"text-align: right;\">\n",
       "      <th></th>\n",
       "      <th>rougher.input.feed_ag</th>\n",
       "      <th>rougher.output.concentrate_ag</th>\n",
       "      <th>primary_cleaner.output.concentrate_ag</th>\n",
       "      <th>final.output.concentrate_ag</th>\n",
       "      <th>rougher.input.feed_pb</th>\n",
       "      <th>rougher.output.concentrate_pb</th>\n",
       "      <th>primary_cleaner.output.concentrate_pb</th>\n",
       "      <th>final.output.concentrate_pb</th>\n",
       "      <th>rougher.input.feed_au</th>\n",
       "      <th>rougher.output.concentrate_au</th>\n",
       "      <th>primary_cleaner.output.concentrate_au</th>\n",
       "      <th>final.output.concentrate_au</th>\n",
       "      <th>rougher.input.feed_sol</th>\n",
       "      <th>rougher.output.concentrate_sol</th>\n",
       "      <th>primary_cleaner.output.concentrate_sol</th>\n",
       "      <th>final.output.concentrate_sol</th>\n",
       "    </tr>\n",
       "    <tr>\n",
       "      <th>date</th>\n",
       "      <th></th>\n",
       "      <th></th>\n",
       "      <th></th>\n",
       "      <th></th>\n",
       "      <th></th>\n",
       "      <th></th>\n",
       "      <th></th>\n",
       "      <th></th>\n",
       "      <th></th>\n",
       "      <th></th>\n",
       "      <th></th>\n",
       "      <th></th>\n",
       "      <th></th>\n",
       "      <th></th>\n",
       "      <th></th>\n",
       "      <th></th>\n",
       "    </tr>\n",
       "  </thead>\n",
       "  <tbody>\n",
       "    <tr>\n",
       "      <th>2016-01-15 00:00:00</th>\n",
       "      <td>6.100378</td>\n",
       "      <td>11.500771</td>\n",
       "      <td>8.547551</td>\n",
       "      <td>6.055403</td>\n",
       "      <td>2.284912</td>\n",
       "      <td>7.101074</td>\n",
       "      <td>10.389648</td>\n",
       "      <td>9.889648</td>\n",
       "      <td>6.486150</td>\n",
       "      <td>19.793808</td>\n",
       "      <td>34.174427</td>\n",
       "      <td>42.192020</td>\n",
       "      <td>36.808594</td>\n",
       "      <td>28.029297</td>\n",
       "      <td>19.529297</td>\n",
       "      <td>5.507324</td>\n",
       "    </tr>\n",
       "    <tr>\n",
       "      <th>2016-01-15 01:00:00</th>\n",
       "      <td>6.161113</td>\n",
       "      <td>11.615865</td>\n",
       "      <td>8.558743</td>\n",
       "      <td>6.029369</td>\n",
       "      <td>2.266033</td>\n",
       "      <td>7.278807</td>\n",
       "      <td>10.497069</td>\n",
       "      <td>9.968944</td>\n",
       "      <td>6.478583</td>\n",
       "      <td>20.050975</td>\n",
       "      <td>34.118526</td>\n",
       "      <td>42.701629</td>\n",
       "      <td>35.753385</td>\n",
       "      <td>28.067063</td>\n",
       "      <td>19.369147</td>\n",
       "      <td>5.257781</td>\n",
       "    </tr>\n",
       "    <tr>\n",
       "      <th>2016-01-15 02:00:00</th>\n",
       "      <td>6.116455</td>\n",
       "      <td>11.695753</td>\n",
       "      <td>8.603505</td>\n",
       "      <td>6.055926</td>\n",
       "      <td>2.159622</td>\n",
       "      <td>7.216833</td>\n",
       "      <td>10.354494</td>\n",
       "      <td>10.213995</td>\n",
       "      <td>6.362222</td>\n",
       "      <td>19.737170</td>\n",
       "      <td>33.969464</td>\n",
       "      <td>42.657501</td>\n",
       "      <td>35.971630</td>\n",
       "      <td>27.454037</td>\n",
       "      <td>19.167579</td>\n",
       "      <td>5.383759</td>\n",
       "    </tr>\n",
       "    <tr>\n",
       "      <th>2016-01-15 03:00:00</th>\n",
       "      <td>6.043309</td>\n",
       "      <td>11.915047</td>\n",
       "      <td>7.221879</td>\n",
       "      <td>6.047977</td>\n",
       "      <td>2.037807</td>\n",
       "      <td>7.175616</td>\n",
       "      <td>8.496563</td>\n",
       "      <td>9.977019</td>\n",
       "      <td>6.118189</td>\n",
       "      <td>19.320810</td>\n",
       "      <td>28.260743</td>\n",
       "      <td>42.689819</td>\n",
       "      <td>36.862241</td>\n",
       "      <td>27.341277</td>\n",
       "      <td>15.978538</td>\n",
       "      <td>4.858634</td>\n",
       "    </tr>\n",
       "    <tr>\n",
       "      <th>2016-01-15 04:00:00</th>\n",
       "      <td>6.060915</td>\n",
       "      <td>12.411054</td>\n",
       "      <td>9.089428</td>\n",
       "      <td>6.148599</td>\n",
       "      <td>1.786875</td>\n",
       "      <td>7.240205</td>\n",
       "      <td>9.986786</td>\n",
       "      <td>10.142511</td>\n",
       "      <td>5.663707</td>\n",
       "      <td>19.216101</td>\n",
       "      <td>33.044932</td>\n",
       "      <td>42.774141</td>\n",
       "      <td>34.347666</td>\n",
       "      <td>27.041023</td>\n",
       "      <td>19.199864</td>\n",
       "      <td>4.939416</td>\n",
       "    </tr>\n",
       "  </tbody>\n",
       "</table>\n",
       "</div>"
      ],
      "text/plain": [
       "                     rougher.input.feed_ag  rougher.output.concentrate_ag  \\\n",
       "date                                                                        \n",
       "2016-01-15 00:00:00               6.100378                      11.500771   \n",
       "2016-01-15 01:00:00               6.161113                      11.615865   \n",
       "2016-01-15 02:00:00               6.116455                      11.695753   \n",
       "2016-01-15 03:00:00               6.043309                      11.915047   \n",
       "2016-01-15 04:00:00               6.060915                      12.411054   \n",
       "\n",
       "                     primary_cleaner.output.concentrate_ag  \\\n",
       "date                                                         \n",
       "2016-01-15 00:00:00                               8.547551   \n",
       "2016-01-15 01:00:00                               8.558743   \n",
       "2016-01-15 02:00:00                               8.603505   \n",
       "2016-01-15 03:00:00                               7.221879   \n",
       "2016-01-15 04:00:00                               9.089428   \n",
       "\n",
       "                     final.output.concentrate_ag  rougher.input.feed_pb  \\\n",
       "date                                                                      \n",
       "2016-01-15 00:00:00                     6.055403               2.284912   \n",
       "2016-01-15 01:00:00                     6.029369               2.266033   \n",
       "2016-01-15 02:00:00                     6.055926               2.159622   \n",
       "2016-01-15 03:00:00                     6.047977               2.037807   \n",
       "2016-01-15 04:00:00                     6.148599               1.786875   \n",
       "\n",
       "                     rougher.output.concentrate_pb  \\\n",
       "date                                                 \n",
       "2016-01-15 00:00:00                       7.101074   \n",
       "2016-01-15 01:00:00                       7.278807   \n",
       "2016-01-15 02:00:00                       7.216833   \n",
       "2016-01-15 03:00:00                       7.175616   \n",
       "2016-01-15 04:00:00                       7.240205   \n",
       "\n",
       "                     primary_cleaner.output.concentrate_pb  \\\n",
       "date                                                         \n",
       "2016-01-15 00:00:00                              10.389648   \n",
       "2016-01-15 01:00:00                              10.497069   \n",
       "2016-01-15 02:00:00                              10.354494   \n",
       "2016-01-15 03:00:00                               8.496563   \n",
       "2016-01-15 04:00:00                               9.986786   \n",
       "\n",
       "                     final.output.concentrate_pb  rougher.input.feed_au  \\\n",
       "date                                                                      \n",
       "2016-01-15 00:00:00                     9.889648               6.486150   \n",
       "2016-01-15 01:00:00                     9.968944               6.478583   \n",
       "2016-01-15 02:00:00                    10.213995               6.362222   \n",
       "2016-01-15 03:00:00                     9.977019               6.118189   \n",
       "2016-01-15 04:00:00                    10.142511               5.663707   \n",
       "\n",
       "                     rougher.output.concentrate_au  \\\n",
       "date                                                 \n",
       "2016-01-15 00:00:00                      19.793808   \n",
       "2016-01-15 01:00:00                      20.050975   \n",
       "2016-01-15 02:00:00                      19.737170   \n",
       "2016-01-15 03:00:00                      19.320810   \n",
       "2016-01-15 04:00:00                      19.216101   \n",
       "\n",
       "                     primary_cleaner.output.concentrate_au  \\\n",
       "date                                                         \n",
       "2016-01-15 00:00:00                              34.174427   \n",
       "2016-01-15 01:00:00                              34.118526   \n",
       "2016-01-15 02:00:00                              33.969464   \n",
       "2016-01-15 03:00:00                              28.260743   \n",
       "2016-01-15 04:00:00                              33.044932   \n",
       "\n",
       "                     final.output.concentrate_au  rougher.input.feed_sol  \\\n",
       "date                                                                       \n",
       "2016-01-15 00:00:00                    42.192020               36.808594   \n",
       "2016-01-15 01:00:00                    42.701629               35.753385   \n",
       "2016-01-15 02:00:00                    42.657501               35.971630   \n",
       "2016-01-15 03:00:00                    42.689819               36.862241   \n",
       "2016-01-15 04:00:00                    42.774141               34.347666   \n",
       "\n",
       "                     rougher.output.concentrate_sol  \\\n",
       "date                                                  \n",
       "2016-01-15 00:00:00                       28.029297   \n",
       "2016-01-15 01:00:00                       28.067063   \n",
       "2016-01-15 02:00:00                       27.454037   \n",
       "2016-01-15 03:00:00                       27.341277   \n",
       "2016-01-15 04:00:00                       27.041023   \n",
       "\n",
       "                     primary_cleaner.output.concentrate_sol  \\\n",
       "date                                                          \n",
       "2016-01-15 00:00:00                               19.529297   \n",
       "2016-01-15 01:00:00                               19.369147   \n",
       "2016-01-15 02:00:00                               19.167579   \n",
       "2016-01-15 03:00:00                               15.978538   \n",
       "2016-01-15 04:00:00                               19.199864   \n",
       "\n",
       "                     final.output.concentrate_sol  \n",
       "date                                               \n",
       "2016-01-15 00:00:00                      5.507324  \n",
       "2016-01-15 01:00:00                      5.257781  \n",
       "2016-01-15 02:00:00                      5.383759  \n",
       "2016-01-15 03:00:00                      4.858634  \n",
       "2016-01-15 04:00:00                      4.939416  "
      ]
     },
     "execution_count": 36,
     "metadata": {},
     "output_type": "execute_result"
    }
   ],
   "source": [
    "sum_concentrate_data = train_data[['rougher.input.feed_ag', 'rougher.output.concentrate_ag', \n",
    "                                   'primary_cleaner.output.concentrate_ag', 'final.output.concentrate_ag',\n",
    "                                   'rougher.input.feed_pb', 'rougher.output.concentrate_pb', \n",
    "                                   'primary_cleaner.output.concentrate_pb', 'final.output.concentrate_pb',\n",
    "                                   'rougher.input.feed_au', 'rougher.output.concentrate_au', \n",
    "                                   'primary_cleaner.output.concentrate_au', 'final.output.concentrate_au',\n",
    "                                   'rougher.input.feed_sol', 'rougher.output.concentrate_sol',\n",
    "                                   'primary_cleaner.output.concentrate_sol', 'final.output.concentrate_sol']]\n",
    "sum_concentrate_data.head()"
   ]
  },
  {
   "cell_type": "markdown",
   "metadata": {},
   "source": [
    "Концентрация в руде:"
   ]
  },
  {
   "cell_type": "code",
   "execution_count": 37,
   "metadata": {},
   "outputs": [
    {
     "data": {
      "text/html": [
       "<div>\n",
       "<style scoped>\n",
       "    .dataframe tbody tr th:only-of-type {\n",
       "        vertical-align: middle;\n",
       "    }\n",
       "\n",
       "    .dataframe tbody tr th {\n",
       "        vertical-align: top;\n",
       "    }\n",
       "\n",
       "    .dataframe thead th {\n",
       "        text-align: right;\n",
       "    }\n",
       "</style>\n",
       "<table border=\"1\" class=\"dataframe\">\n",
       "  <thead>\n",
       "    <tr style=\"text-align: right;\">\n",
       "      <th></th>\n",
       "      <th>rougher.input.feed_ag</th>\n",
       "      <th>rougher.input.feed_pb</th>\n",
       "      <th>rougher.input.feed_au</th>\n",
       "      <th>rougher.input.feed_sol</th>\n",
       "    </tr>\n",
       "    <tr>\n",
       "      <th>date</th>\n",
       "      <th></th>\n",
       "      <th></th>\n",
       "      <th></th>\n",
       "      <th></th>\n",
       "    </tr>\n",
       "  </thead>\n",
       "  <tbody>\n",
       "    <tr>\n",
       "      <th>2016-01-15 00:00:00</th>\n",
       "      <td>6.100378</td>\n",
       "      <td>2.284912</td>\n",
       "      <td>6.486150</td>\n",
       "      <td>36.808594</td>\n",
       "    </tr>\n",
       "    <tr>\n",
       "      <th>2016-01-15 01:00:00</th>\n",
       "      <td>6.161113</td>\n",
       "      <td>2.266033</td>\n",
       "      <td>6.478583</td>\n",
       "      <td>35.753385</td>\n",
       "    </tr>\n",
       "    <tr>\n",
       "      <th>2016-01-15 02:00:00</th>\n",
       "      <td>6.116455</td>\n",
       "      <td>2.159622</td>\n",
       "      <td>6.362222</td>\n",
       "      <td>35.971630</td>\n",
       "    </tr>\n",
       "    <tr>\n",
       "      <th>2016-01-15 03:00:00</th>\n",
       "      <td>6.043309</td>\n",
       "      <td>2.037807</td>\n",
       "      <td>6.118189</td>\n",
       "      <td>36.862241</td>\n",
       "    </tr>\n",
       "    <tr>\n",
       "      <th>2016-01-15 04:00:00</th>\n",
       "      <td>6.060915</td>\n",
       "      <td>1.786875</td>\n",
       "      <td>5.663707</td>\n",
       "      <td>34.347666</td>\n",
       "    </tr>\n",
       "  </tbody>\n",
       "</table>\n",
       "</div>"
      ],
      "text/plain": [
       "                     rougher.input.feed_ag  rougher.input.feed_pb  \\\n",
       "date                                                                \n",
       "2016-01-15 00:00:00               6.100378               2.284912   \n",
       "2016-01-15 01:00:00               6.161113               2.266033   \n",
       "2016-01-15 02:00:00               6.116455               2.159622   \n",
       "2016-01-15 03:00:00               6.043309               2.037807   \n",
       "2016-01-15 04:00:00               6.060915               1.786875   \n",
       "\n",
       "                     rougher.input.feed_au  rougher.input.feed_sol  \n",
       "date                                                                \n",
       "2016-01-15 00:00:00               6.486150               36.808594  \n",
       "2016-01-15 01:00:00               6.478583               35.753385  \n",
       "2016-01-15 02:00:00               6.362222               35.971630  \n",
       "2016-01-15 03:00:00               6.118189               36.862241  \n",
       "2016-01-15 04:00:00               5.663707               34.347666  "
      ]
     },
     "execution_count": 37,
     "metadata": {},
     "output_type": "execute_result"
    }
   ],
   "source": [
    "sum_data_input_feed = sum_concentrate_data.iloc[:, 0::4]\n",
    "sum_data_input_feed.head()"
   ]
  },
  {
   "cell_type": "markdown",
   "metadata": {},
   "source": [
    "Добавим столбец с суммарной концентрацией:"
   ]
  },
  {
   "cell_type": "code",
   "execution_count": 38,
   "metadata": {},
   "outputs": [],
   "source": [
    "import sys\n",
    "import warnings\n",
    "if not sys.warnoptions:\n",
    "       warnings.simplefilter(\"ignore\")"
   ]
  },
  {
   "cell_type": "code",
   "execution_count": 39,
   "metadata": {},
   "outputs": [
    {
     "data": {
      "text/html": [
       "<div>\n",
       "<style scoped>\n",
       "    .dataframe tbody tr th:only-of-type {\n",
       "        vertical-align: middle;\n",
       "    }\n",
       "\n",
       "    .dataframe tbody tr th {\n",
       "        vertical-align: top;\n",
       "    }\n",
       "\n",
       "    .dataframe thead th {\n",
       "        text-align: right;\n",
       "    }\n",
       "</style>\n",
       "<table border=\"1\" class=\"dataframe\">\n",
       "  <thead>\n",
       "    <tr style=\"text-align: right;\">\n",
       "      <th></th>\n",
       "      <th>rougher.input.feed_ag</th>\n",
       "      <th>rougher.input.feed_pb</th>\n",
       "      <th>rougher.input.feed_au</th>\n",
       "      <th>rougher.input.feed_sol</th>\n",
       "      <th>sum</th>\n",
       "    </tr>\n",
       "    <tr>\n",
       "      <th>date</th>\n",
       "      <th></th>\n",
       "      <th></th>\n",
       "      <th></th>\n",
       "      <th></th>\n",
       "      <th></th>\n",
       "    </tr>\n",
       "  </thead>\n",
       "  <tbody>\n",
       "    <tr>\n",
       "      <th>2016-01-15 00:00:00</th>\n",
       "      <td>6.100378</td>\n",
       "      <td>2.284912</td>\n",
       "      <td>6.486150</td>\n",
       "      <td>36.808594</td>\n",
       "      <td>51.680034</td>\n",
       "    </tr>\n",
       "    <tr>\n",
       "      <th>2016-01-15 01:00:00</th>\n",
       "      <td>6.161113</td>\n",
       "      <td>2.266033</td>\n",
       "      <td>6.478583</td>\n",
       "      <td>35.753385</td>\n",
       "      <td>50.659114</td>\n",
       "    </tr>\n",
       "    <tr>\n",
       "      <th>2016-01-15 02:00:00</th>\n",
       "      <td>6.116455</td>\n",
       "      <td>2.159622</td>\n",
       "      <td>6.362222</td>\n",
       "      <td>35.971630</td>\n",
       "      <td>50.609929</td>\n",
       "    </tr>\n",
       "    <tr>\n",
       "      <th>2016-01-15 03:00:00</th>\n",
       "      <td>6.043309</td>\n",
       "      <td>2.037807</td>\n",
       "      <td>6.118189</td>\n",
       "      <td>36.862241</td>\n",
       "      <td>51.061546</td>\n",
       "    </tr>\n",
       "    <tr>\n",
       "      <th>2016-01-15 04:00:00</th>\n",
       "      <td>6.060915</td>\n",
       "      <td>1.786875</td>\n",
       "      <td>5.663707</td>\n",
       "      <td>34.347666</td>\n",
       "      <td>47.859163</td>\n",
       "    </tr>\n",
       "  </tbody>\n",
       "</table>\n",
       "</div>"
      ],
      "text/plain": [
       "                     rougher.input.feed_ag  rougher.input.feed_pb  \\\n",
       "date                                                                \n",
       "2016-01-15 00:00:00               6.100378               2.284912   \n",
       "2016-01-15 01:00:00               6.161113               2.266033   \n",
       "2016-01-15 02:00:00               6.116455               2.159622   \n",
       "2016-01-15 03:00:00               6.043309               2.037807   \n",
       "2016-01-15 04:00:00               6.060915               1.786875   \n",
       "\n",
       "                     rougher.input.feed_au  rougher.input.feed_sol        sum  \n",
       "date                                                                           \n",
       "2016-01-15 00:00:00               6.486150               36.808594  51.680034  \n",
       "2016-01-15 01:00:00               6.478583               35.753385  50.659114  \n",
       "2016-01-15 02:00:00               6.362222               35.971630  50.609929  \n",
       "2016-01-15 03:00:00               6.118189               36.862241  51.061546  \n",
       "2016-01-15 04:00:00               5.663707               34.347666  47.859163  "
      ]
     },
     "execution_count": 39,
     "metadata": {},
     "output_type": "execute_result"
    }
   ],
   "source": [
    "sum_data_input_feed['sum'] = sum_data_input_feed.sum(axis=1)\n",
    "sum_data_input_feed.head()"
   ]
  },
  {
   "cell_type": "markdown",
   "metadata": {},
   "source": [
    "Теперь сделаем то же самое для чернового"
   ]
  },
  {
   "cell_type": "code",
   "execution_count": 40,
   "metadata": {},
   "outputs": [
    {
     "data": {
      "text/html": [
       "<div>\n",
       "<style scoped>\n",
       "    .dataframe tbody tr th:only-of-type {\n",
       "        vertical-align: middle;\n",
       "    }\n",
       "\n",
       "    .dataframe tbody tr th {\n",
       "        vertical-align: top;\n",
       "    }\n",
       "\n",
       "    .dataframe thead th {\n",
       "        text-align: right;\n",
       "    }\n",
       "</style>\n",
       "<table border=\"1\" class=\"dataframe\">\n",
       "  <thead>\n",
       "    <tr style=\"text-align: right;\">\n",
       "      <th></th>\n",
       "      <th>rougher.output.concentrate_ag</th>\n",
       "      <th>rougher.output.concentrate_pb</th>\n",
       "      <th>rougher.output.concentrate_au</th>\n",
       "      <th>rougher.output.concentrate_sol</th>\n",
       "      <th>sum</th>\n",
       "    </tr>\n",
       "    <tr>\n",
       "      <th>date</th>\n",
       "      <th></th>\n",
       "      <th></th>\n",
       "      <th></th>\n",
       "      <th></th>\n",
       "      <th></th>\n",
       "    </tr>\n",
       "  </thead>\n",
       "  <tbody>\n",
       "    <tr>\n",
       "      <th>2016-01-15 00:00:00</th>\n",
       "      <td>11.500771</td>\n",
       "      <td>7.101074</td>\n",
       "      <td>19.793808</td>\n",
       "      <td>28.029297</td>\n",
       "      <td>66.424950</td>\n",
       "    </tr>\n",
       "    <tr>\n",
       "      <th>2016-01-15 01:00:00</th>\n",
       "      <td>11.615865</td>\n",
       "      <td>7.278807</td>\n",
       "      <td>20.050975</td>\n",
       "      <td>28.067063</td>\n",
       "      <td>67.012710</td>\n",
       "    </tr>\n",
       "    <tr>\n",
       "      <th>2016-01-15 02:00:00</th>\n",
       "      <td>11.695753</td>\n",
       "      <td>7.216833</td>\n",
       "      <td>19.737170</td>\n",
       "      <td>27.454037</td>\n",
       "      <td>66.103793</td>\n",
       "    </tr>\n",
       "    <tr>\n",
       "      <th>2016-01-15 03:00:00</th>\n",
       "      <td>11.915047</td>\n",
       "      <td>7.175616</td>\n",
       "      <td>19.320810</td>\n",
       "      <td>27.341277</td>\n",
       "      <td>65.752751</td>\n",
       "    </tr>\n",
       "    <tr>\n",
       "      <th>2016-01-15 04:00:00</th>\n",
       "      <td>12.411054</td>\n",
       "      <td>7.240205</td>\n",
       "      <td>19.216101</td>\n",
       "      <td>27.041023</td>\n",
       "      <td>65.908382</td>\n",
       "    </tr>\n",
       "  </tbody>\n",
       "</table>\n",
       "</div>"
      ],
      "text/plain": [
       "                     rougher.output.concentrate_ag  \\\n",
       "date                                                 \n",
       "2016-01-15 00:00:00                      11.500771   \n",
       "2016-01-15 01:00:00                      11.615865   \n",
       "2016-01-15 02:00:00                      11.695753   \n",
       "2016-01-15 03:00:00                      11.915047   \n",
       "2016-01-15 04:00:00                      12.411054   \n",
       "\n",
       "                     rougher.output.concentrate_pb  \\\n",
       "date                                                 \n",
       "2016-01-15 00:00:00                       7.101074   \n",
       "2016-01-15 01:00:00                       7.278807   \n",
       "2016-01-15 02:00:00                       7.216833   \n",
       "2016-01-15 03:00:00                       7.175616   \n",
       "2016-01-15 04:00:00                       7.240205   \n",
       "\n",
       "                     rougher.output.concentrate_au  \\\n",
       "date                                                 \n",
       "2016-01-15 00:00:00                      19.793808   \n",
       "2016-01-15 01:00:00                      20.050975   \n",
       "2016-01-15 02:00:00                      19.737170   \n",
       "2016-01-15 03:00:00                      19.320810   \n",
       "2016-01-15 04:00:00                      19.216101   \n",
       "\n",
       "                     rougher.output.concentrate_sol        sum  \n",
       "date                                                            \n",
       "2016-01-15 00:00:00                       28.029297  66.424950  \n",
       "2016-01-15 01:00:00                       28.067063  67.012710  \n",
       "2016-01-15 02:00:00                       27.454037  66.103793  \n",
       "2016-01-15 03:00:00                       27.341277  65.752751  \n",
       "2016-01-15 04:00:00                       27.041023  65.908382  "
      ]
     },
     "execution_count": 40,
     "metadata": {},
     "output_type": "execute_result"
    }
   ],
   "source": [
    "sum_data_rougher = sum_concentrate_data.iloc[:, 1::4]\n",
    "sum_data_rougher['sum'] = sum_data_rougher.sum(axis=1)\n",
    "sum_data_rougher.head()"
   ]
  },
  {
   "cell_type": "markdown",
   "metadata": {},
   "source": [
    "После первой очистки:"
   ]
  },
  {
   "cell_type": "code",
   "execution_count": 41,
   "metadata": {},
   "outputs": [
    {
     "data": {
      "text/html": [
       "<div>\n",
       "<style scoped>\n",
       "    .dataframe tbody tr th:only-of-type {\n",
       "        vertical-align: middle;\n",
       "    }\n",
       "\n",
       "    .dataframe tbody tr th {\n",
       "        vertical-align: top;\n",
       "    }\n",
       "\n",
       "    .dataframe thead th {\n",
       "        text-align: right;\n",
       "    }\n",
       "</style>\n",
       "<table border=\"1\" class=\"dataframe\">\n",
       "  <thead>\n",
       "    <tr style=\"text-align: right;\">\n",
       "      <th></th>\n",
       "      <th>primary_cleaner.output.concentrate_ag</th>\n",
       "      <th>primary_cleaner.output.concentrate_pb</th>\n",
       "      <th>primary_cleaner.output.concentrate_au</th>\n",
       "      <th>primary_cleaner.output.concentrate_sol</th>\n",
       "      <th>sum</th>\n",
       "    </tr>\n",
       "    <tr>\n",
       "      <th>date</th>\n",
       "      <th></th>\n",
       "      <th></th>\n",
       "      <th></th>\n",
       "      <th></th>\n",
       "      <th></th>\n",
       "    </tr>\n",
       "  </thead>\n",
       "  <tbody>\n",
       "    <tr>\n",
       "      <th>2016-01-15 00:00:00</th>\n",
       "      <td>8.547551</td>\n",
       "      <td>10.389648</td>\n",
       "      <td>34.174427</td>\n",
       "      <td>19.529297</td>\n",
       "      <td>72.640924</td>\n",
       "    </tr>\n",
       "    <tr>\n",
       "      <th>2016-01-15 01:00:00</th>\n",
       "      <td>8.558743</td>\n",
       "      <td>10.497069</td>\n",
       "      <td>34.118526</td>\n",
       "      <td>19.369147</td>\n",
       "      <td>72.543485</td>\n",
       "    </tr>\n",
       "    <tr>\n",
       "      <th>2016-01-15 02:00:00</th>\n",
       "      <td>8.603505</td>\n",
       "      <td>10.354494</td>\n",
       "      <td>33.969464</td>\n",
       "      <td>19.167579</td>\n",
       "      <td>72.095042</td>\n",
       "    </tr>\n",
       "    <tr>\n",
       "      <th>2016-01-15 03:00:00</th>\n",
       "      <td>7.221879</td>\n",
       "      <td>8.496563</td>\n",
       "      <td>28.260743</td>\n",
       "      <td>15.978538</td>\n",
       "      <td>59.957723</td>\n",
       "    </tr>\n",
       "    <tr>\n",
       "      <th>2016-01-15 04:00:00</th>\n",
       "      <td>9.089428</td>\n",
       "      <td>9.986786</td>\n",
       "      <td>33.044932</td>\n",
       "      <td>19.199864</td>\n",
       "      <td>71.321010</td>\n",
       "    </tr>\n",
       "  </tbody>\n",
       "</table>\n",
       "</div>"
      ],
      "text/plain": [
       "                     primary_cleaner.output.concentrate_ag  \\\n",
       "date                                                         \n",
       "2016-01-15 00:00:00                               8.547551   \n",
       "2016-01-15 01:00:00                               8.558743   \n",
       "2016-01-15 02:00:00                               8.603505   \n",
       "2016-01-15 03:00:00                               7.221879   \n",
       "2016-01-15 04:00:00                               9.089428   \n",
       "\n",
       "                     primary_cleaner.output.concentrate_pb  \\\n",
       "date                                                         \n",
       "2016-01-15 00:00:00                              10.389648   \n",
       "2016-01-15 01:00:00                              10.497069   \n",
       "2016-01-15 02:00:00                              10.354494   \n",
       "2016-01-15 03:00:00                               8.496563   \n",
       "2016-01-15 04:00:00                               9.986786   \n",
       "\n",
       "                     primary_cleaner.output.concentrate_au  \\\n",
       "date                                                         \n",
       "2016-01-15 00:00:00                              34.174427   \n",
       "2016-01-15 01:00:00                              34.118526   \n",
       "2016-01-15 02:00:00                              33.969464   \n",
       "2016-01-15 03:00:00                              28.260743   \n",
       "2016-01-15 04:00:00                              33.044932   \n",
       "\n",
       "                     primary_cleaner.output.concentrate_sol        sum  \n",
       "date                                                                    \n",
       "2016-01-15 00:00:00                               19.529297  72.640924  \n",
       "2016-01-15 01:00:00                               19.369147  72.543485  \n",
       "2016-01-15 02:00:00                               19.167579  72.095042  \n",
       "2016-01-15 03:00:00                               15.978538  59.957723  \n",
       "2016-01-15 04:00:00                               19.199864  71.321010  "
      ]
     },
     "execution_count": 41,
     "metadata": {},
     "output_type": "execute_result"
    }
   ],
   "source": [
    "sum_data_primary_cleaner = sum_concentrate_data.iloc[:, 2::4]\n",
    "sum_data_primary_cleaner['sum'] = sum_data_primary_cleaner.sum(axis=1)\n",
    "sum_data_primary_cleaner.head()"
   ]
  },
  {
   "cell_type": "markdown",
   "metadata": {},
   "source": [
    "Финальный концентрат:"
   ]
  },
  {
   "cell_type": "code",
   "execution_count": 42,
   "metadata": {},
   "outputs": [
    {
     "data": {
      "text/html": [
       "<div>\n",
       "<style scoped>\n",
       "    .dataframe tbody tr th:only-of-type {\n",
       "        vertical-align: middle;\n",
       "    }\n",
       "\n",
       "    .dataframe tbody tr th {\n",
       "        vertical-align: top;\n",
       "    }\n",
       "\n",
       "    .dataframe thead th {\n",
       "        text-align: right;\n",
       "    }\n",
       "</style>\n",
       "<table border=\"1\" class=\"dataframe\">\n",
       "  <thead>\n",
       "    <tr style=\"text-align: right;\">\n",
       "      <th></th>\n",
       "      <th>final.output.concentrate_ag</th>\n",
       "      <th>final.output.concentrate_pb</th>\n",
       "      <th>final.output.concentrate_au</th>\n",
       "      <th>final.output.concentrate_sol</th>\n",
       "      <th>sum</th>\n",
       "    </tr>\n",
       "    <tr>\n",
       "      <th>date</th>\n",
       "      <th></th>\n",
       "      <th></th>\n",
       "      <th></th>\n",
       "      <th></th>\n",
       "      <th></th>\n",
       "    </tr>\n",
       "  </thead>\n",
       "  <tbody>\n",
       "    <tr>\n",
       "      <th>2016-01-15 00:00:00</th>\n",
       "      <td>6.055403</td>\n",
       "      <td>9.889648</td>\n",
       "      <td>42.192020</td>\n",
       "      <td>5.507324</td>\n",
       "      <td>63.644396</td>\n",
       "    </tr>\n",
       "    <tr>\n",
       "      <th>2016-01-15 01:00:00</th>\n",
       "      <td>6.029369</td>\n",
       "      <td>9.968944</td>\n",
       "      <td>42.701629</td>\n",
       "      <td>5.257781</td>\n",
       "      <td>63.957723</td>\n",
       "    </tr>\n",
       "    <tr>\n",
       "      <th>2016-01-15 02:00:00</th>\n",
       "      <td>6.055926</td>\n",
       "      <td>10.213995</td>\n",
       "      <td>42.657501</td>\n",
       "      <td>5.383759</td>\n",
       "      <td>64.311180</td>\n",
       "    </tr>\n",
       "    <tr>\n",
       "      <th>2016-01-15 03:00:00</th>\n",
       "      <td>6.047977</td>\n",
       "      <td>9.977019</td>\n",
       "      <td>42.689819</td>\n",
       "      <td>4.858634</td>\n",
       "      <td>63.573449</td>\n",
       "    </tr>\n",
       "    <tr>\n",
       "      <th>2016-01-15 04:00:00</th>\n",
       "      <td>6.148599</td>\n",
       "      <td>10.142511</td>\n",
       "      <td>42.774141</td>\n",
       "      <td>4.939416</td>\n",
       "      <td>64.004667</td>\n",
       "    </tr>\n",
       "  </tbody>\n",
       "</table>\n",
       "</div>"
      ],
      "text/plain": [
       "                     final.output.concentrate_ag  final.output.concentrate_pb  \\\n",
       "date                                                                            \n",
       "2016-01-15 00:00:00                     6.055403                     9.889648   \n",
       "2016-01-15 01:00:00                     6.029369                     9.968944   \n",
       "2016-01-15 02:00:00                     6.055926                    10.213995   \n",
       "2016-01-15 03:00:00                     6.047977                     9.977019   \n",
       "2016-01-15 04:00:00                     6.148599                    10.142511   \n",
       "\n",
       "                     final.output.concentrate_au  \\\n",
       "date                                               \n",
       "2016-01-15 00:00:00                    42.192020   \n",
       "2016-01-15 01:00:00                    42.701629   \n",
       "2016-01-15 02:00:00                    42.657501   \n",
       "2016-01-15 03:00:00                    42.689819   \n",
       "2016-01-15 04:00:00                    42.774141   \n",
       "\n",
       "                     final.output.concentrate_sol        sum  \n",
       "date                                                          \n",
       "2016-01-15 00:00:00                      5.507324  63.644396  \n",
       "2016-01-15 01:00:00                      5.257781  63.957723  \n",
       "2016-01-15 02:00:00                      5.383759  64.311180  \n",
       "2016-01-15 03:00:00                      4.858634  63.573449  \n",
       "2016-01-15 04:00:00                      4.939416  64.004667  "
      ]
     },
     "execution_count": 42,
     "metadata": {},
     "output_type": "execute_result"
    }
   ],
   "source": [
    "sum_data_final = sum_concentrate_data.iloc[:, 3::4]\n",
    "sum_data_final['sum'] = sum_data_final.sum(axis=1)\n",
    "sum_data_final.head()"
   ]
  },
  {
   "cell_type": "markdown",
   "metadata": {},
   "source": [
    "Посмотрим на распределения по этапам обработки, построим график boxplot"
   ]
  },
  {
   "cell_type": "code",
   "execution_count": 43,
   "metadata": {},
   "outputs": [
    {
     "data": {
      "text/plain": [
       "([<matplotlib.axis.YTick at 0x7f55cf332d10>,\n",
       "  <matplotlib.axis.YTick at 0x7f55cf3324d0>,\n",
       "  <matplotlib.axis.YTick at 0x7f55cf2f33d0>,\n",
       "  <matplotlib.axis.YTick at 0x7f55cead4390>],\n",
       " <a list of 4 Text yticklabel objects>)"
      ]
     },
     "execution_count": 43,
     "metadata": {},
     "output_type": "execute_result"
    },
    {
     "data": {
      "image/png": "[encoded data removed]",
      "text/plain": [
       "<Figure size 1080x360 with 1 Axes>"
      ]
     },
     "metadata": {
      "needs_background": "light"
     },
     "output_type": "display_data"
    }
   ],
   "source": [
    "plt.figure(figsize=(15,5))\n",
    "sns.boxplot(data=(sum_data_input_feed['sum'], \n",
    "                  sum_data_rougher['sum'], \n",
    "                  sum_data_primary_cleaner['sum'], \n",
    "                  sum_data_final['sum']), orient='h').set(xlabel='Концентрация', \n",
    "                                                          ylabel='Концентрат',\n",
    "                                                          title='Суммарная концентрация веществ на разных стадиях')\n",
    "plt.yticks([0,1,2,3], ['Сырье', 'Черновой', 'Первой очистки', 'Финальный'])"
   ]
  },
  {
   "cell_type": "markdown",
   "metadata": {},
   "source": [
    "На каждом этапе есть аномальные значения 0. Сравним количество нулей в концентрации и суммарной концетрации золота на каждом этапе"
   ]
  },
  {
   "cell_type": "code",
   "execution_count": 44,
   "metadata": {},
   "outputs": [
    {
     "data": {
      "text/plain": [
       "True"
      ]
     },
     "execution_count": 44,
     "metadata": {},
     "output_type": "execute_result"
    }
   ],
   "source": [
    "len(sum_data_input_feed[sum_data_input_feed['sum'] == 0]) == len(sum_data_input_feed[sum_data_input_feed['rougher.input.feed_au'] == 0])"
   ]
  },
  {
   "cell_type": "code",
   "execution_count": 45,
   "metadata": {},
   "outputs": [
    {
     "data": {
      "text/plain": [
       "True"
      ]
     },
     "execution_count": 45,
     "metadata": {},
     "output_type": "execute_result"
    }
   ],
   "source": [
    "len(sum_data_rougher[sum_data_rougher['sum'] == 0]) == len(sum_data_rougher[sum_data_rougher['rougher.output.concentrate_au'] == 0])"
   ]
  },
  {
   "cell_type": "code",
   "execution_count": 46,
   "metadata": {},
   "outputs": [
    {
     "data": {
      "text/plain": [
       "True"
      ]
     },
     "execution_count": 46,
     "metadata": {},
     "output_type": "execute_result"
    }
   ],
   "source": [
    "len(sum_data_primary_cleaner[sum_data_primary_cleaner['sum'] == 0]) == len(sum_data_primary_cleaner[sum_data_primary_cleaner['primary_cleaner.output.concentrate_au'] == 0])"
   ]
  },
  {
   "cell_type": "code",
   "execution_count": 47,
   "metadata": {},
   "outputs": [
    {
     "data": {
      "text/plain": [
       "True"
      ]
     },
     "execution_count": 47,
     "metadata": {},
     "output_type": "execute_result"
    }
   ],
   "source": [
    "len(sum_data_final[sum_data_final['sum'] == 0]) == len(sum_data_final[sum_data_final['final.output.concentrate_au'] == 0])"
   ]
  },
  {
   "cell_type": "markdown",
   "metadata": {},
   "source": [
    "Удалим нули:"
   ]
  },
  {
   "cell_type": "code",
   "execution_count": 48,
   "metadata": {},
   "outputs": [
    {
     "data": {
      "text/html": [
       "<div>\n",
       "<style scoped>\n",
       "    .dataframe tbody tr th:only-of-type {\n",
       "        vertical-align: middle;\n",
       "    }\n",
       "\n",
       "    .dataframe tbody tr th {\n",
       "        vertical-align: top;\n",
       "    }\n",
       "\n",
       "    .dataframe thead th {\n",
       "        text-align: right;\n",
       "    }\n",
       "</style>\n",
       "<table border=\"1\" class=\"dataframe\">\n",
       "  <thead>\n",
       "    <tr style=\"text-align: right;\">\n",
       "      <th></th>\n",
       "      <th>final.output.concentrate_ag</th>\n",
       "      <th>final.output.concentrate_pb</th>\n",
       "      <th>final.output.concentrate_sol</th>\n",
       "      <th>final.output.concentrate_au</th>\n",
       "      <th>final.output.recovery</th>\n",
       "      <th>final.output.tail_ag</th>\n",
       "      <th>final.output.tail_pb</th>\n",
       "      <th>final.output.tail_sol</th>\n",
       "      <th>final.output.tail_au</th>\n",
       "      <th>primary_cleaner.input.sulfate</th>\n",
       "      <th>...</th>\n",
       "      <th>secondary_cleaner.state.floatbank4_a_level</th>\n",
       "      <th>secondary_cleaner.state.floatbank4_b_air</th>\n",
       "      <th>secondary_cleaner.state.floatbank4_b_level</th>\n",
       "      <th>secondary_cleaner.state.floatbank5_a_air</th>\n",
       "      <th>secondary_cleaner.state.floatbank5_a_level</th>\n",
       "      <th>secondary_cleaner.state.floatbank5_b_air</th>\n",
       "      <th>secondary_cleaner.state.floatbank5_b_level</th>\n",
       "      <th>secondary_cleaner.state.floatbank6_a_air</th>\n",
       "      <th>secondary_cleaner.state.floatbank6_a_level</th>\n",
       "      <th>counted_recovery</th>\n",
       "    </tr>\n",
       "    <tr>\n",
       "      <th>date</th>\n",
       "      <th></th>\n",
       "      <th></th>\n",
       "      <th></th>\n",
       "      <th></th>\n",
       "      <th></th>\n",
       "      <th></th>\n",
       "      <th></th>\n",
       "      <th></th>\n",
       "      <th></th>\n",
       "      <th></th>\n",
       "      <th></th>\n",
       "      <th></th>\n",
       "      <th></th>\n",
       "      <th></th>\n",
       "      <th></th>\n",
       "      <th></th>\n",
       "      <th></th>\n",
       "      <th></th>\n",
       "      <th></th>\n",
       "      <th></th>\n",
       "      <th></th>\n",
       "    </tr>\n",
       "  </thead>\n",
       "  <tbody>\n",
       "    <tr>\n",
       "      <th>2016-01-15 00:00:00</th>\n",
       "      <td>6.055403</td>\n",
       "      <td>9.889648</td>\n",
       "      <td>5.507324</td>\n",
       "      <td>42.192020</td>\n",
       "      <td>70.541216</td>\n",
       "      <td>10.411962</td>\n",
       "      <td>0.895447</td>\n",
       "      <td>16.904297</td>\n",
       "      <td>2.143149</td>\n",
       "      <td>127.092003</td>\n",
       "      <td>...</td>\n",
       "      <td>-502.488007</td>\n",
       "      <td>12.099931</td>\n",
       "      <td>-504.715942</td>\n",
       "      <td>9.925633</td>\n",
       "      <td>-498.310211</td>\n",
       "      <td>8.079666</td>\n",
       "      <td>-500.470978</td>\n",
       "      <td>14.151341</td>\n",
       "      <td>-605.841980</td>\n",
       "      <td>87.107763</td>\n",
       "    </tr>\n",
       "    <tr>\n",
       "      <th>2016-01-15 01:00:00</th>\n",
       "      <td>6.029369</td>\n",
       "      <td>9.968944</td>\n",
       "      <td>5.257781</td>\n",
       "      <td>42.701629</td>\n",
       "      <td>69.266198</td>\n",
       "      <td>10.462676</td>\n",
       "      <td>0.927452</td>\n",
       "      <td>16.634514</td>\n",
       "      <td>2.224930</td>\n",
       "      <td>125.629232</td>\n",
       "      <td>...</td>\n",
       "      <td>-505.503262</td>\n",
       "      <td>11.950531</td>\n",
       "      <td>-501.331529</td>\n",
       "      <td>10.039245</td>\n",
       "      <td>-500.169983</td>\n",
       "      <td>7.984757</td>\n",
       "      <td>-500.582168</td>\n",
       "      <td>13.998353</td>\n",
       "      <td>-599.787184</td>\n",
       "      <td>86.843261</td>\n",
       "    </tr>\n",
       "    <tr>\n",
       "      <th>2016-01-15 02:00:00</th>\n",
       "      <td>6.055926</td>\n",
       "      <td>10.213995</td>\n",
       "      <td>5.383759</td>\n",
       "      <td>42.657501</td>\n",
       "      <td>68.116445</td>\n",
       "      <td>10.507046</td>\n",
       "      <td>0.953716</td>\n",
       "      <td>16.208849</td>\n",
       "      <td>2.257889</td>\n",
       "      <td>123.819808</td>\n",
       "      <td>...</td>\n",
       "      <td>-502.520901</td>\n",
       "      <td>11.912783</td>\n",
       "      <td>-501.133383</td>\n",
       "      <td>10.070913</td>\n",
       "      <td>-500.129135</td>\n",
       "      <td>8.013877</td>\n",
       "      <td>-500.517572</td>\n",
       "      <td>14.028663</td>\n",
       "      <td>-601.427363</td>\n",
       "      <td>86.842308</td>\n",
       "    </tr>\n",
       "    <tr>\n",
       "      <th>2016-01-15 03:00:00</th>\n",
       "      <td>6.047977</td>\n",
       "      <td>9.977019</td>\n",
       "      <td>4.858634</td>\n",
       "      <td>42.689819</td>\n",
       "      <td>68.347543</td>\n",
       "      <td>10.422762</td>\n",
       "      <td>0.883763</td>\n",
       "      <td>16.532835</td>\n",
       "      <td>2.146849</td>\n",
       "      <td>122.270188</td>\n",
       "      <td>...</td>\n",
       "      <td>-500.857308</td>\n",
       "      <td>11.999550</td>\n",
       "      <td>-501.193686</td>\n",
       "      <td>9.970366</td>\n",
       "      <td>-499.201640</td>\n",
       "      <td>7.977324</td>\n",
       "      <td>-500.255908</td>\n",
       "      <td>14.005551</td>\n",
       "      <td>-599.996129</td>\n",
       "      <td>87.226430</td>\n",
       "    </tr>\n",
       "    <tr>\n",
       "      <th>2016-01-15 04:00:00</th>\n",
       "      <td>6.148599</td>\n",
       "      <td>10.142511</td>\n",
       "      <td>4.939416</td>\n",
       "      <td>42.774141</td>\n",
       "      <td>66.927016</td>\n",
       "      <td>10.360302</td>\n",
       "      <td>0.792826</td>\n",
       "      <td>16.525686</td>\n",
       "      <td>2.055292</td>\n",
       "      <td>117.988169</td>\n",
       "      <td>...</td>\n",
       "      <td>-499.838632</td>\n",
       "      <td>11.953070</td>\n",
       "      <td>-501.053894</td>\n",
       "      <td>9.925709</td>\n",
       "      <td>-501.686727</td>\n",
       "      <td>7.894242</td>\n",
       "      <td>-500.356035</td>\n",
       "      <td>13.996647</td>\n",
       "      <td>-601.496691</td>\n",
       "      <td>86.688794</td>\n",
       "    </tr>\n",
       "  </tbody>\n",
       "</table>\n",
       "<p>5 rows × 87 columns</p>\n",
       "</div>"
      ],
      "text/plain": [
       "                     final.output.concentrate_ag  final.output.concentrate_pb  \\\n",
       "date                                                                            \n",
       "2016-01-15 00:00:00                     6.055403                     9.889648   \n",
       "2016-01-15 01:00:00                     6.029369                     9.968944   \n",
       "2016-01-15 02:00:00                     6.055926                    10.213995   \n",
       "2016-01-15 03:00:00                     6.047977                     9.977019   \n",
       "2016-01-15 04:00:00                     6.148599                    10.142511   \n",
       "\n",
       "                     final.output.concentrate_sol  \\\n",
       "date                                                \n",
       "2016-01-15 00:00:00                      5.507324   \n",
       "2016-01-15 01:00:00                      5.257781   \n",
       "2016-01-15 02:00:00                      5.383759   \n",
       "2016-01-15 03:00:00                      4.858634   \n",
       "2016-01-15 04:00:00                      4.939416   \n",
       "\n",
       "                     final.output.concentrate_au  final.output.recovery  \\\n",
       "date                                                                      \n",
       "2016-01-15 00:00:00                    42.192020              70.541216   \n",
       "2016-01-15 01:00:00                    42.701629              69.266198   \n",
       "2016-01-15 02:00:00                    42.657501              68.116445   \n",
       "2016-01-15 03:00:00                    42.689819              68.347543   \n",
       "2016-01-15 04:00:00                    42.774141              66.927016   \n",
       "\n",
       "                     final.output.tail_ag  final.output.tail_pb  \\\n",
       "date                                                              \n",
       "2016-01-15 00:00:00             10.411962              0.895447   \n",
       "2016-01-15 01:00:00             10.462676              0.927452   \n",
       "2016-01-15 02:00:00             10.507046              0.953716   \n",
       "2016-01-15 03:00:00             10.422762              0.883763   \n",
       "2016-01-15 04:00:00             10.360302              0.792826   \n",
       "\n",
       "                     final.output.tail_sol  final.output.tail_au  \\\n",
       "date                                                               \n",
       "2016-01-15 00:00:00              16.904297              2.143149   \n",
       "2016-01-15 01:00:00              16.634514              2.224930   \n",
       "2016-01-15 02:00:00              16.208849              2.257889   \n",
       "2016-01-15 03:00:00              16.532835              2.146849   \n",
       "2016-01-15 04:00:00              16.525686              2.055292   \n",
       "\n",
       "                     primary_cleaner.input.sulfate  ...  \\\n",
       "date                                                ...   \n",
       "2016-01-15 00:00:00                     127.092003  ...   \n",
       "2016-01-15 01:00:00                     125.629232  ...   \n",
       "2016-01-15 02:00:00                     123.819808  ...   \n",
       "2016-01-15 03:00:00                     122.270188  ...   \n",
       "2016-01-15 04:00:00                     117.988169  ...   \n",
       "\n",
       "                     secondary_cleaner.state.floatbank4_a_level  \\\n",
       "date                                                              \n",
       "2016-01-15 00:00:00                                 -502.488007   \n",
       "2016-01-15 01:00:00                                 -505.503262   \n",
       "2016-01-15 02:00:00                                 -502.520901   \n",
       "2016-01-15 03:00:00                                 -500.857308   \n",
       "2016-01-15 04:00:00                                 -499.838632   \n",
       "\n",
       "                     secondary_cleaner.state.floatbank4_b_air  \\\n",
       "date                                                            \n",
       "2016-01-15 00:00:00                                 12.099931   \n",
       "2016-01-15 01:00:00                                 11.950531   \n",
       "2016-01-15 02:00:00                                 11.912783   \n",
       "2016-01-15 03:00:00                                 11.999550   \n",
       "2016-01-15 04:00:00                                 11.953070   \n",
       "\n",
       "                     secondary_cleaner.state.floatbank4_b_level  \\\n",
       "date                                                              \n",
       "2016-01-15 00:00:00                                 -504.715942   \n",
       "2016-01-15 01:00:00                                 -501.331529   \n",
       "2016-01-15 02:00:00                                 -501.133383   \n",
       "2016-01-15 03:00:00                                 -501.193686   \n",
       "2016-01-15 04:00:00                                 -501.053894   \n",
       "\n",
       "                     secondary_cleaner.state.floatbank5_a_air  \\\n",
       "date                                                            \n",
       "2016-01-15 00:00:00                                  9.925633   \n",
       "2016-01-15 01:00:00                                 10.039245   \n",
       "2016-01-15 02:00:00                                 10.070913   \n",
       "2016-01-15 03:00:00                                  9.970366   \n",
       "2016-01-15 04:00:00                                  9.925709   \n",
       "\n",
       "                     secondary_cleaner.state.floatbank5_a_level  \\\n",
       "date                                                              \n",
       "2016-01-15 00:00:00                                 -498.310211   \n",
       "2016-01-15 01:00:00                                 -500.169983   \n",
       "2016-01-15 02:00:00                                 -500.129135   \n",
       "2016-01-15 03:00:00                                 -499.201640   \n",
       "2016-01-15 04:00:00                                 -501.686727   \n",
       "\n",
       "                     secondary_cleaner.state.floatbank5_b_air  \\\n",
       "date                                                            \n",
       "2016-01-15 00:00:00                                  8.079666   \n",
       "2016-01-15 01:00:00                                  7.984757   \n",
       "2016-01-15 02:00:00                                  8.013877   \n",
       "2016-01-15 03:00:00                                  7.977324   \n",
       "2016-01-15 04:00:00                                  7.894242   \n",
       "\n",
       "                     secondary_cleaner.state.floatbank5_b_level  \\\n",
       "date                                                              \n",
       "2016-01-15 00:00:00                                 -500.470978   \n",
       "2016-01-15 01:00:00                                 -500.582168   \n",
       "2016-01-15 02:00:00                                 -500.517572   \n",
       "2016-01-15 03:00:00                                 -500.255908   \n",
       "2016-01-15 04:00:00                                 -500.356035   \n",
       "\n",
       "                     secondary_cleaner.state.floatbank6_a_air  \\\n",
       "date                                                            \n",
       "2016-01-15 00:00:00                                 14.151341   \n",
       "2016-01-15 01:00:00                                 13.998353   \n",
       "2016-01-15 02:00:00                                 14.028663   \n",
       "2016-01-15 03:00:00                                 14.005551   \n",
       "2016-01-15 04:00:00                                 13.996647   \n",
       "\n",
       "                     secondary_cleaner.state.floatbank6_a_level  \\\n",
       "date                                                              \n",
       "2016-01-15 00:00:00                                 -605.841980   \n",
       "2016-01-15 01:00:00                                 -599.787184   \n",
       "2016-01-15 02:00:00                                 -601.427363   \n",
       "2016-01-15 03:00:00                                 -599.996129   \n",
       "2016-01-15 04:00:00                                 -601.496691   \n",
       "\n",
       "                     counted_recovery  \n",
       "date                                   \n",
       "2016-01-15 00:00:00         87.107763  \n",
       "2016-01-15 01:00:00         86.843261  \n",
       "2016-01-15 02:00:00         86.842308  \n",
       "2016-01-15 03:00:00         87.226430  \n",
       "2016-01-15 04:00:00         86.688794  \n",
       "\n",
       "[5 rows x 87 columns]"
      ]
     },
     "execution_count": 48,
     "metadata": {},
     "output_type": "execute_result"
    }
   ],
   "source": [
    "train_data= train_data[(train_data['rougher.input.feed_au'] !=0) & \n",
    "         (train_data['rougher.output.concentrate_au'] !=0) &\n",
    "         (train_data['primary_cleaner.output.concentrate_au'] !=0) &\n",
    "         (train_data['final.output.concentrate_au'] != 0)]\n",
    "train_data.head()"
   ]
  },
  {
   "cell_type": "markdown",
   "metadata": {},
   "source": [
    "Разметим обучающие признаки и целевые признаки rougher.output.recovery и final.output.recovery"
   ]
  },
  {
   "cell_type": "code",
   "execution_count": 49,
   "metadata": {},
   "outputs": [
    {
     "data": {
      "text/html": [
       "<div>\n",
       "<style scoped>\n",
       "    .dataframe tbody tr th:only-of-type {\n",
       "        vertical-align: middle;\n",
       "    }\n",
       "\n",
       "    .dataframe tbody tr th {\n",
       "        vertical-align: top;\n",
       "    }\n",
       "\n",
       "    .dataframe thead th {\n",
       "        text-align: right;\n",
       "    }\n",
       "</style>\n",
       "<table border=\"1\" class=\"dataframe\">\n",
       "  <thead>\n",
       "    <tr style=\"text-align: right;\">\n",
       "      <th></th>\n",
       "      <th>secondary_cleaner.state.floatbank3_a_level</th>\n",
       "      <th>primary_cleaner.state.floatbank8_d_air</th>\n",
       "      <th>rougher.state.floatbank10_a_level</th>\n",
       "      <th>rougher.state.floatbank10_c_air</th>\n",
       "      <th>primary_cleaner.input.feed_size</th>\n",
       "      <th>rougher.input.floatbank11_sulfate</th>\n",
       "      <th>rougher.input.feed_size</th>\n",
       "      <th>rougher.state.floatbank10_f_air</th>\n",
       "      <th>primary_cleaner.input.sulfate</th>\n",
       "      <th>rougher.state.floatbank10_c_level</th>\n",
       "      <th>...</th>\n",
       "      <th>primary_cleaner.state.floatbank8_a_air</th>\n",
       "      <th>primary_cleaner.state.floatbank8_c_level</th>\n",
       "      <th>secondary_cleaner.state.floatbank2_b_level</th>\n",
       "      <th>primary_cleaner.input.depressant</th>\n",
       "      <th>rougher.input.floatbank10_sulfate</th>\n",
       "      <th>secondary_cleaner.state.floatbank4_b_air</th>\n",
       "      <th>secondary_cleaner.state.floatbank4_a_level</th>\n",
       "      <th>rougher.input.feed_sol</th>\n",
       "      <th>rougher.state.floatbank10_d_level</th>\n",
       "      <th>primary_cleaner.state.floatbank8_a_level</th>\n",
       "    </tr>\n",
       "    <tr>\n",
       "      <th>date</th>\n",
       "      <th></th>\n",
       "      <th></th>\n",
       "      <th></th>\n",
       "      <th></th>\n",
       "      <th></th>\n",
       "      <th></th>\n",
       "      <th></th>\n",
       "      <th></th>\n",
       "      <th></th>\n",
       "      <th></th>\n",
       "      <th></th>\n",
       "      <th></th>\n",
       "      <th></th>\n",
       "      <th></th>\n",
       "      <th></th>\n",
       "      <th></th>\n",
       "      <th></th>\n",
       "      <th></th>\n",
       "      <th></th>\n",
       "      <th></th>\n",
       "      <th></th>\n",
       "    </tr>\n",
       "  </thead>\n",
       "  <tbody>\n",
       "    <tr>\n",
       "      <th>2016-01-15 00:00:00</th>\n",
       "      <td>-495.262817</td>\n",
       "      <td>1554.367432</td>\n",
       "      <td>-404.066986</td>\n",
       "      <td>1602.375000</td>\n",
       "      <td>7.25</td>\n",
       "      <td>11.836743</td>\n",
       "      <td>55.486599</td>\n",
       "      <td>1416.354980</td>\n",
       "      <td>127.092003</td>\n",
       "      <td>-442.204468</td>\n",
       "      <td>...</td>\n",
       "      <td>1549.775757</td>\n",
       "      <td>-498.666595</td>\n",
       "      <td>-501.406281</td>\n",
       "      <td>10.128295</td>\n",
       "      <td>11.986616</td>\n",
       "      <td>12.099931</td>\n",
       "      <td>-502.488007</td>\n",
       "      <td>36.808594</td>\n",
       "      <td>-451.294128</td>\n",
       "      <td>-498.912140</td>\n",
       "    </tr>\n",
       "    <tr>\n",
       "      <th>2016-01-15 01:00:00</th>\n",
       "      <td>-500.085473</td>\n",
       "      <td>1574.479259</td>\n",
       "      <td>-400.065196</td>\n",
       "      <td>1600.479580</td>\n",
       "      <td>7.25</td>\n",
       "      <td>11.996163</td>\n",
       "      <td>57.278666</td>\n",
       "      <td>1399.719514</td>\n",
       "      <td>125.629232</td>\n",
       "      <td>-449.830646</td>\n",
       "      <td>...</td>\n",
       "      <td>1576.166671</td>\n",
       "      <td>-499.315107</td>\n",
       "      <td>-500.372428</td>\n",
       "      <td>10.296251</td>\n",
       "      <td>11.971193</td>\n",
       "      <td>11.950531</td>\n",
       "      <td>-505.503262</td>\n",
       "      <td>35.753385</td>\n",
       "      <td>-449.953649</td>\n",
       "      <td>-500.904965</td>\n",
       "    </tr>\n",
       "    <tr>\n",
       "      <th>2016-01-15 02:00:00</th>\n",
       "      <td>-499.442343</td>\n",
       "      <td>1599.541515</td>\n",
       "      <td>-400.074028</td>\n",
       "      <td>1599.672797</td>\n",
       "      <td>7.25</td>\n",
       "      <td>11.920305</td>\n",
       "      <td>57.510649</td>\n",
       "      <td>1400.316682</td>\n",
       "      <td>123.819808</td>\n",
       "      <td>-449.954491</td>\n",
       "      <td>...</td>\n",
       "      <td>1601.556163</td>\n",
       "      <td>-500.870069</td>\n",
       "      <td>-499.951928</td>\n",
       "      <td>11.316280</td>\n",
       "      <td>11.920603</td>\n",
       "      <td>11.912783</td>\n",
       "      <td>-502.520901</td>\n",
       "      <td>35.971630</td>\n",
       "      <td>-449.954185</td>\n",
       "      <td>-499.997791</td>\n",
       "    </tr>\n",
       "    <tr>\n",
       "      <th>2016-01-15 03:00:00</th>\n",
       "      <td>-500.008812</td>\n",
       "      <td>1600.449520</td>\n",
       "      <td>-400.200179</td>\n",
       "      <td>1600.012842</td>\n",
       "      <td>7.25</td>\n",
       "      <td>11.692450</td>\n",
       "      <td>57.792734</td>\n",
       "      <td>1400.234743</td>\n",
       "      <td>122.270188</td>\n",
       "      <td>-449.910497</td>\n",
       "      <td>...</td>\n",
       "      <td>1599.968720</td>\n",
       "      <td>-500.727997</td>\n",
       "      <td>-499.848796</td>\n",
       "      <td>11.322140</td>\n",
       "      <td>11.630094</td>\n",
       "      <td>11.999550</td>\n",
       "      <td>-500.857308</td>\n",
       "      <td>36.862241</td>\n",
       "      <td>-450.130127</td>\n",
       "      <td>-500.951778</td>\n",
       "    </tr>\n",
       "    <tr>\n",
       "      <th>2016-01-15 04:00:00</th>\n",
       "      <td>-500.083811</td>\n",
       "      <td>1602.649541</td>\n",
       "      <td>-399.752729</td>\n",
       "      <td>1600.357732</td>\n",
       "      <td>7.25</td>\n",
       "      <td>10.960521</td>\n",
       "      <td>56.047189</td>\n",
       "      <td>1401.160227</td>\n",
       "      <td>117.988169</td>\n",
       "      <td>-450.034364</td>\n",
       "      <td>...</td>\n",
       "      <td>1601.339707</td>\n",
       "      <td>-500.888152</td>\n",
       "      <td>-500.593614</td>\n",
       "      <td>11.913613</td>\n",
       "      <td>10.957755</td>\n",
       "      <td>11.953070</td>\n",
       "      <td>-499.838632</td>\n",
       "      <td>34.347666</td>\n",
       "      <td>-449.909799</td>\n",
       "      <td>-498.975456</td>\n",
       "    </tr>\n",
       "  </tbody>\n",
       "</table>\n",
       "<p>5 rows × 52 columns</p>\n",
       "</div>"
      ],
      "text/plain": [
       "                     secondary_cleaner.state.floatbank3_a_level  \\\n",
       "date                                                              \n",
       "2016-01-15 00:00:00                                 -495.262817   \n",
       "2016-01-15 01:00:00                                 -500.085473   \n",
       "2016-01-15 02:00:00                                 -499.442343   \n",
       "2016-01-15 03:00:00                                 -500.008812   \n",
       "2016-01-15 04:00:00                                 -500.083811   \n",
       "\n",
       "                     primary_cleaner.state.floatbank8_d_air  \\\n",
       "date                                                          \n",
       "2016-01-15 00:00:00                             1554.367432   \n",
       "2016-01-15 01:00:00                             1574.479259   \n",
       "2016-01-15 02:00:00                             1599.541515   \n",
       "2016-01-15 03:00:00                             1600.449520   \n",
       "2016-01-15 04:00:00                             1602.649541   \n",
       "\n",
       "                     rougher.state.floatbank10_a_level  \\\n",
       "date                                                     \n",
       "2016-01-15 00:00:00                        -404.066986   \n",
       "2016-01-15 01:00:00                        -400.065196   \n",
       "2016-01-15 02:00:00                        -400.074028   \n",
       "2016-01-15 03:00:00                        -400.200179   \n",
       "2016-01-15 04:00:00                        -399.752729   \n",
       "\n",
       "                     rougher.state.floatbank10_c_air  \\\n",
       "date                                                   \n",
       "2016-01-15 00:00:00                      1602.375000   \n",
       "2016-01-15 01:00:00                      1600.479580   \n",
       "2016-01-15 02:00:00                      1599.672797   \n",
       "2016-01-15 03:00:00                      1600.012842   \n",
       "2016-01-15 04:00:00                      1600.357732   \n",
       "\n",
       "                     primary_cleaner.input.feed_size  \\\n",
       "date                                                   \n",
       "2016-01-15 00:00:00                             7.25   \n",
       "2016-01-15 01:00:00                             7.25   \n",
       "2016-01-15 02:00:00                             7.25   \n",
       "2016-01-15 03:00:00                             7.25   \n",
       "2016-01-15 04:00:00                             7.25   \n",
       "\n",
       "                     rougher.input.floatbank11_sulfate  \\\n",
       "date                                                     \n",
       "2016-01-15 00:00:00                          11.836743   \n",
       "2016-01-15 01:00:00                          11.996163   \n",
       "2016-01-15 02:00:00                          11.920305   \n",
       "2016-01-15 03:00:00                          11.692450   \n",
       "2016-01-15 04:00:00                          10.960521   \n",
       "\n",
       "                     rougher.input.feed_size  rougher.state.floatbank10_f_air  \\\n",
       "date                                                                            \n",
       "2016-01-15 00:00:00                55.486599                      1416.354980   \n",
       "2016-01-15 01:00:00                57.278666                      1399.719514   \n",
       "2016-01-15 02:00:00                57.510649                      1400.316682   \n",
       "2016-01-15 03:00:00                57.792734                      1400.234743   \n",
       "2016-01-15 04:00:00                56.047189                      1401.160227   \n",
       "\n",
       "                     primary_cleaner.input.sulfate  \\\n",
       "date                                                 \n",
       "2016-01-15 00:00:00                     127.092003   \n",
       "2016-01-15 01:00:00                     125.629232   \n",
       "2016-01-15 02:00:00                     123.819808   \n",
       "2016-01-15 03:00:00                     122.270188   \n",
       "2016-01-15 04:00:00                     117.988169   \n",
       "\n",
       "                     rougher.state.floatbank10_c_level  ...  \\\n",
       "date                                                    ...   \n",
       "2016-01-15 00:00:00                        -442.204468  ...   \n",
       "2016-01-15 01:00:00                        -449.830646  ...   \n",
       "2016-01-15 02:00:00                        -449.954491  ...   \n",
       "2016-01-15 03:00:00                        -449.910497  ...   \n",
       "2016-01-15 04:00:00                        -450.034364  ...   \n",
       "\n",
       "                     primary_cleaner.state.floatbank8_a_air  \\\n",
       "date                                                          \n",
       "2016-01-15 00:00:00                             1549.775757   \n",
       "2016-01-15 01:00:00                             1576.166671   \n",
       "2016-01-15 02:00:00                             1601.556163   \n",
       "2016-01-15 03:00:00                             1599.968720   \n",
       "2016-01-15 04:00:00                             1601.339707   \n",
       "\n",
       "                     primary_cleaner.state.floatbank8_c_level  \\\n",
       "date                                                            \n",
       "2016-01-15 00:00:00                               -498.666595   \n",
       "2016-01-15 01:00:00                               -499.315107   \n",
       "2016-01-15 02:00:00                               -500.870069   \n",
       "2016-01-15 03:00:00                               -500.727997   \n",
       "2016-01-15 04:00:00                               -500.888152   \n",
       "\n",
       "                     secondary_cleaner.state.floatbank2_b_level  \\\n",
       "date                                                              \n",
       "2016-01-15 00:00:00                                 -501.406281   \n",
       "2016-01-15 01:00:00                                 -500.372428   \n",
       "2016-01-15 02:00:00                                 -499.951928   \n",
       "2016-01-15 03:00:00                                 -499.848796   \n",
       "2016-01-15 04:00:00                                 -500.593614   \n",
       "\n",
       "                     primary_cleaner.input.depressant  \\\n",
       "date                                                    \n",
       "2016-01-15 00:00:00                         10.128295   \n",
       "2016-01-15 01:00:00                         10.296251   \n",
       "2016-01-15 02:00:00                         11.316280   \n",
       "2016-01-15 03:00:00                         11.322140   \n",
       "2016-01-15 04:00:00                         11.913613   \n",
       "\n",
       "                     rougher.input.floatbank10_sulfate  \\\n",
       "date                                                     \n",
       "2016-01-15 00:00:00                          11.986616   \n",
       "2016-01-15 01:00:00                          11.971193   \n",
       "2016-01-15 02:00:00                          11.920603   \n",
       "2016-01-15 03:00:00                          11.630094   \n",
       "2016-01-15 04:00:00                          10.957755   \n",
       "\n",
       "                     secondary_cleaner.state.floatbank4_b_air  \\\n",
       "date                                                            \n",
       "2016-01-15 00:00:00                                 12.099931   \n",
       "2016-01-15 01:00:00                                 11.950531   \n",
       "2016-01-15 02:00:00                                 11.912783   \n",
       "2016-01-15 03:00:00                                 11.999550   \n",
       "2016-01-15 04:00:00                                 11.953070   \n",
       "\n",
       "                     secondary_cleaner.state.floatbank4_a_level  \\\n",
       "date                                                              \n",
       "2016-01-15 00:00:00                                 -502.488007   \n",
       "2016-01-15 01:00:00                                 -505.503262   \n",
       "2016-01-15 02:00:00                                 -502.520901   \n",
       "2016-01-15 03:00:00                                 -500.857308   \n",
       "2016-01-15 04:00:00                                 -499.838632   \n",
       "\n",
       "                     rougher.input.feed_sol  \\\n",
       "date                                          \n",
       "2016-01-15 00:00:00               36.808594   \n",
       "2016-01-15 01:00:00               35.753385   \n",
       "2016-01-15 02:00:00               35.971630   \n",
       "2016-01-15 03:00:00               36.862241   \n",
       "2016-01-15 04:00:00               34.347666   \n",
       "\n",
       "                     rougher.state.floatbank10_d_level  \\\n",
       "date                                                     \n",
       "2016-01-15 00:00:00                        -451.294128   \n",
       "2016-01-15 01:00:00                        -449.953649   \n",
       "2016-01-15 02:00:00                        -449.954185   \n",
       "2016-01-15 03:00:00                        -450.130127   \n",
       "2016-01-15 04:00:00                        -449.909799   \n",
       "\n",
       "                     primary_cleaner.state.floatbank8_a_level  \n",
       "date                                                           \n",
       "2016-01-15 00:00:00                               -498.912140  \n",
       "2016-01-15 01:00:00                               -500.904965  \n",
       "2016-01-15 02:00:00                               -499.997791  \n",
       "2016-01-15 03:00:00                               -500.951778  \n",
       "2016-01-15 04:00:00                               -498.975456  \n",
       "\n",
       "[5 rows x 52 columns]"
      ]
     },
     "execution_count": 49,
     "metadata": {},
     "output_type": "execute_result"
    }
   ],
   "source": [
    "test_columns =  set(test_data.columns)\n",
    "data_train_features = train_data.loc[:, test_columns]\n",
    "data_train_features.head()"
   ]
  },
  {
   "cell_type": "code",
   "execution_count": 50,
   "metadata": {},
   "outputs": [
    {
     "data": {
      "text/html": [
       "<div>\n",
       "<style scoped>\n",
       "    .dataframe tbody tr th:only-of-type {\n",
       "        vertical-align: middle;\n",
       "    }\n",
       "\n",
       "    .dataframe tbody tr th {\n",
       "        vertical-align: top;\n",
       "    }\n",
       "\n",
       "    .dataframe thead th {\n",
       "        text-align: right;\n",
       "    }\n",
       "</style>\n",
       "<table border=\"1\" class=\"dataframe\">\n",
       "  <thead>\n",
       "    <tr style=\"text-align: right;\">\n",
       "      <th></th>\n",
       "      <th>rougher.output.recovery</th>\n",
       "      <th>final.output.recovery</th>\n",
       "    </tr>\n",
       "    <tr>\n",
       "      <th>date</th>\n",
       "      <th></th>\n",
       "      <th></th>\n",
       "    </tr>\n",
       "  </thead>\n",
       "  <tbody>\n",
       "    <tr>\n",
       "      <th>2016-01-15 00:00:00</th>\n",
       "      <td>87.107763</td>\n",
       "      <td>70.541216</td>\n",
       "    </tr>\n",
       "    <tr>\n",
       "      <th>2016-01-15 01:00:00</th>\n",
       "      <td>86.843261</td>\n",
       "      <td>69.266198</td>\n",
       "    </tr>\n",
       "    <tr>\n",
       "      <th>2016-01-15 02:00:00</th>\n",
       "      <td>86.842308</td>\n",
       "      <td>68.116445</td>\n",
       "    </tr>\n",
       "    <tr>\n",
       "      <th>2016-01-15 03:00:00</th>\n",
       "      <td>87.226430</td>\n",
       "      <td>68.347543</td>\n",
       "    </tr>\n",
       "    <tr>\n",
       "      <th>2016-01-15 04:00:00</th>\n",
       "      <td>86.688794</td>\n",
       "      <td>66.927016</td>\n",
       "    </tr>\n",
       "  </tbody>\n",
       "</table>\n",
       "</div>"
      ],
      "text/plain": [
       "                     rougher.output.recovery  final.output.recovery\n",
       "date                                                               \n",
       "2016-01-15 00:00:00                87.107763              70.541216\n",
       "2016-01-15 01:00:00                86.843261              69.266198\n",
       "2016-01-15 02:00:00                86.842308              68.116445\n",
       "2016-01-15 03:00:00                87.226430              68.347543\n",
       "2016-01-15 04:00:00                86.688794              66.927016"
      ]
     },
     "execution_count": 50,
     "metadata": {},
     "output_type": "execute_result"
    }
   ],
   "source": [
    "data_train_target = train_data.loc[:, ['rougher.output.recovery', 'final.output.recovery']]\n",
    "data_train_target.head()"
   ]
  },
  {
   "cell_type": "markdown",
   "metadata": {},
   "source": [
    "Разделим features на rougher_features и final_features. Используем метод filter()"
   ]
  },
  {
   "cell_type": "code",
   "execution_count": 51,
   "metadata": {},
   "outputs": [
    {
     "data": {
      "text/html": [
       "<div>\n",
       "<style scoped>\n",
       "    .dataframe tbody tr th:only-of-type {\n",
       "        vertical-align: middle;\n",
       "    }\n",
       "\n",
       "    .dataframe tbody tr th {\n",
       "        vertical-align: top;\n",
       "    }\n",
       "\n",
       "    .dataframe thead th {\n",
       "        text-align: right;\n",
       "    }\n",
       "</style>\n",
       "<table border=\"1\" class=\"dataframe\">\n",
       "  <thead>\n",
       "    <tr style=\"text-align: right;\">\n",
       "      <th></th>\n",
       "      <th>rougher.state.floatbank10_a_level</th>\n",
       "      <th>rougher.state.floatbank10_c_air</th>\n",
       "      <th>rougher.input.floatbank11_sulfate</th>\n",
       "      <th>rougher.input.feed_size</th>\n",
       "      <th>rougher.state.floatbank10_f_air</th>\n",
       "      <th>rougher.state.floatbank10_c_level</th>\n",
       "      <th>rougher.input.floatbank11_xanthate</th>\n",
       "      <th>rougher.state.floatbank10_b_air</th>\n",
       "      <th>rougher.state.floatbank10_f_level</th>\n",
       "      <th>rougher.state.floatbank10_a_air</th>\n",
       "      <th>...</th>\n",
       "      <th>rougher.state.floatbank10_e_level</th>\n",
       "      <th>rougher.input.feed_ag</th>\n",
       "      <th>rougher.state.floatbank10_e_air</th>\n",
       "      <th>rougher.input.floatbank10_xanthate</th>\n",
       "      <th>rougher.input.feed_pb</th>\n",
       "      <th>rougher.state.floatbank10_b_level</th>\n",
       "      <th>rougher.state.floatbank10_d_air</th>\n",
       "      <th>rougher.input.floatbank10_sulfate</th>\n",
       "      <th>rougher.input.feed_sol</th>\n",
       "      <th>rougher.state.floatbank10_d_level</th>\n",
       "    </tr>\n",
       "    <tr>\n",
       "      <th>date</th>\n",
       "      <th></th>\n",
       "      <th></th>\n",
       "      <th></th>\n",
       "      <th></th>\n",
       "      <th></th>\n",
       "      <th></th>\n",
       "      <th></th>\n",
       "      <th></th>\n",
       "      <th></th>\n",
       "      <th></th>\n",
       "      <th></th>\n",
       "      <th></th>\n",
       "      <th></th>\n",
       "      <th></th>\n",
       "      <th></th>\n",
       "      <th></th>\n",
       "      <th></th>\n",
       "      <th></th>\n",
       "      <th></th>\n",
       "      <th></th>\n",
       "      <th></th>\n",
       "    </tr>\n",
       "  </thead>\n",
       "  <tbody>\n",
       "    <tr>\n",
       "      <th>2016-01-15 00:00:00</th>\n",
       "      <td>-404.066986</td>\n",
       "      <td>1602.375000</td>\n",
       "      <td>11.836743</td>\n",
       "      <td>55.486599</td>\n",
       "      <td>1416.354980</td>\n",
       "      <td>-442.204468</td>\n",
       "      <td>6.005818</td>\n",
       "      <td>1603.011353</td>\n",
       "      <td>-451.939636</td>\n",
       "      <td>999.706909</td>\n",
       "      <td>...</td>\n",
       "      <td>-455.462982</td>\n",
       "      <td>6.100378</td>\n",
       "      <td>1404.472046</td>\n",
       "      <td>6.007990</td>\n",
       "      <td>2.284912</td>\n",
       "      <td>-434.715027</td>\n",
       "      <td>1598.937256</td>\n",
       "      <td>11.986616</td>\n",
       "      <td>36.808594</td>\n",
       "      <td>-451.294128</td>\n",
       "    </tr>\n",
       "    <tr>\n",
       "      <th>2016-01-15 01:00:00</th>\n",
       "      <td>-400.065196</td>\n",
       "      <td>1600.479580</td>\n",
       "      <td>11.996163</td>\n",
       "      <td>57.278666</td>\n",
       "      <td>1399.719514</td>\n",
       "      <td>-449.830646</td>\n",
       "      <td>6.012594</td>\n",
       "      <td>1600.754587</td>\n",
       "      <td>-450.119001</td>\n",
       "      <td>1000.286398</td>\n",
       "      <td>...</td>\n",
       "      <td>-450.869848</td>\n",
       "      <td>6.161113</td>\n",
       "      <td>1399.227084</td>\n",
       "      <td>6.005766</td>\n",
       "      <td>2.266033</td>\n",
       "      <td>-449.953435</td>\n",
       "      <td>1600.527589</td>\n",
       "      <td>11.971193</td>\n",
       "      <td>35.753385</td>\n",
       "      <td>-449.953649</td>\n",
       "    </tr>\n",
       "    <tr>\n",
       "      <th>2016-01-15 02:00:00</th>\n",
       "      <td>-400.074028</td>\n",
       "      <td>1599.672797</td>\n",
       "      <td>11.920305</td>\n",
       "      <td>57.510649</td>\n",
       "      <td>1400.316682</td>\n",
       "      <td>-449.954491</td>\n",
       "      <td>6.204633</td>\n",
       "      <td>1599.337330</td>\n",
       "      <td>-450.527147</td>\n",
       "      <td>999.719565</td>\n",
       "      <td>...</td>\n",
       "      <td>-449.937588</td>\n",
       "      <td>6.116455</td>\n",
       "      <td>1399.180945</td>\n",
       "      <td>6.197377</td>\n",
       "      <td>2.159622</td>\n",
       "      <td>-450.008530</td>\n",
       "      <td>1599.849325</td>\n",
       "      <td>11.920603</td>\n",
       "      <td>35.971630</td>\n",
       "      <td>-449.954185</td>\n",
       "    </tr>\n",
       "    <tr>\n",
       "      <th>2016-01-15 03:00:00</th>\n",
       "      <td>-400.200179</td>\n",
       "      <td>1600.012842</td>\n",
       "      <td>11.692450</td>\n",
       "      <td>57.792734</td>\n",
       "      <td>1400.234743</td>\n",
       "      <td>-449.910497</td>\n",
       "      <td>6.196578</td>\n",
       "      <td>1600.059442</td>\n",
       "      <td>-449.790835</td>\n",
       "      <td>999.814770</td>\n",
       "      <td>...</td>\n",
       "      <td>-450.030142</td>\n",
       "      <td>6.043309</td>\n",
       "      <td>1400.943157</td>\n",
       "      <td>6.203177</td>\n",
       "      <td>2.037807</td>\n",
       "      <td>-450.619948</td>\n",
       "      <td>1597.725177</td>\n",
       "      <td>11.630094</td>\n",
       "      <td>36.862241</td>\n",
       "      <td>-450.130127</td>\n",
       "    </tr>\n",
       "    <tr>\n",
       "      <th>2016-01-15 04:00:00</th>\n",
       "      <td>-399.752729</td>\n",
       "      <td>1600.357732</td>\n",
       "      <td>10.960521</td>\n",
       "      <td>56.047189</td>\n",
       "      <td>1401.160227</td>\n",
       "      <td>-450.034364</td>\n",
       "      <td>6.194897</td>\n",
       "      <td>1600.208824</td>\n",
       "      <td>-450.407128</td>\n",
       "      <td>999.678690</td>\n",
       "      <td>...</td>\n",
       "      <td>-448.877187</td>\n",
       "      <td>6.060915</td>\n",
       "      <td>1401.560902</td>\n",
       "      <td>6.198826</td>\n",
       "      <td>1.786875</td>\n",
       "      <td>-449.599614</td>\n",
       "      <td>1599.759049</td>\n",
       "      <td>10.957755</td>\n",
       "      <td>34.347666</td>\n",
       "      <td>-449.909799</td>\n",
       "    </tr>\n",
       "  </tbody>\n",
       "</table>\n",
       "<p>5 rows × 22 columns</p>\n",
       "</div>"
      ],
      "text/plain": [
       "                     rougher.state.floatbank10_a_level  \\\n",
       "date                                                     \n",
       "2016-01-15 00:00:00                        -404.066986   \n",
       "2016-01-15 01:00:00                        -400.065196   \n",
       "2016-01-15 02:00:00                        -400.074028   \n",
       "2016-01-15 03:00:00                        -400.200179   \n",
       "2016-01-15 04:00:00                        -399.752729   \n",
       "\n",
       "                     rougher.state.floatbank10_c_air  \\\n",
       "date                                                   \n",
       "2016-01-15 00:00:00                      1602.375000   \n",
       "2016-01-15 01:00:00                      1600.479580   \n",
       "2016-01-15 02:00:00                      1599.672797   \n",
       "2016-01-15 03:00:00                      1600.012842   \n",
       "2016-01-15 04:00:00                      1600.357732   \n",
       "\n",
       "                     rougher.input.floatbank11_sulfate  \\\n",
       "date                                                     \n",
       "2016-01-15 00:00:00                          11.836743   \n",
       "2016-01-15 01:00:00                          11.996163   \n",
       "2016-01-15 02:00:00                          11.920305   \n",
       "2016-01-15 03:00:00                          11.692450   \n",
       "2016-01-15 04:00:00                          10.960521   \n",
       "\n",
       "                     rougher.input.feed_size  rougher.state.floatbank10_f_air  \\\n",
       "date                                                                            \n",
       "2016-01-15 00:00:00                55.486599                      1416.354980   \n",
       "2016-01-15 01:00:00                57.278666                      1399.719514   \n",
       "2016-01-15 02:00:00                57.510649                      1400.316682   \n",
       "2016-01-15 03:00:00                57.792734                      1400.234743   \n",
       "2016-01-15 04:00:00                56.047189                      1401.160227   \n",
       "\n",
       "                     rougher.state.floatbank10_c_level  \\\n",
       "date                                                     \n",
       "2016-01-15 00:00:00                        -442.204468   \n",
       "2016-01-15 01:00:00                        -449.830646   \n",
       "2016-01-15 02:00:00                        -449.954491   \n",
       "2016-01-15 03:00:00                        -449.910497   \n",
       "2016-01-15 04:00:00                        -450.034364   \n",
       "\n",
       "                     rougher.input.floatbank11_xanthate  \\\n",
       "date                                                      \n",
       "2016-01-15 00:00:00                            6.005818   \n",
       "2016-01-15 01:00:00                            6.012594   \n",
       "2016-01-15 02:00:00                            6.204633   \n",
       "2016-01-15 03:00:00                            6.196578   \n",
       "2016-01-15 04:00:00                            6.194897   \n",
       "\n",
       "                     rougher.state.floatbank10_b_air  \\\n",
       "date                                                   \n",
       "2016-01-15 00:00:00                      1603.011353   \n",
       "2016-01-15 01:00:00                      1600.754587   \n",
       "2016-01-15 02:00:00                      1599.337330   \n",
       "2016-01-15 03:00:00                      1600.059442   \n",
       "2016-01-15 04:00:00                      1600.208824   \n",
       "\n",
       "                     rougher.state.floatbank10_f_level  \\\n",
       "date                                                     \n",
       "2016-01-15 00:00:00                        -451.939636   \n",
       "2016-01-15 01:00:00                        -450.119001   \n",
       "2016-01-15 02:00:00                        -450.527147   \n",
       "2016-01-15 03:00:00                        -449.790835   \n",
       "2016-01-15 04:00:00                        -450.407128   \n",
       "\n",
       "                     rougher.state.floatbank10_a_air  ...  \\\n",
       "date                                                  ...   \n",
       "2016-01-15 00:00:00                       999.706909  ...   \n",
       "2016-01-15 01:00:00                      1000.286398  ...   \n",
       "2016-01-15 02:00:00                       999.719565  ...   \n",
       "2016-01-15 03:00:00                       999.814770  ...   \n",
       "2016-01-15 04:00:00                       999.678690  ...   \n",
       "\n",
       "                     rougher.state.floatbank10_e_level  rougher.input.feed_ag  \\\n",
       "date                                                                            \n",
       "2016-01-15 00:00:00                        -455.462982               6.100378   \n",
       "2016-01-15 01:00:00                        -450.869848               6.161113   \n",
       "2016-01-15 02:00:00                        -449.937588               6.116455   \n",
       "2016-01-15 03:00:00                        -450.030142               6.043309   \n",
       "2016-01-15 04:00:00                        -448.877187               6.060915   \n",
       "\n",
       "                     rougher.state.floatbank10_e_air  \\\n",
       "date                                                   \n",
       "2016-01-15 00:00:00                      1404.472046   \n",
       "2016-01-15 01:00:00                      1399.227084   \n",
       "2016-01-15 02:00:00                      1399.180945   \n",
       "2016-01-15 03:00:00                      1400.943157   \n",
       "2016-01-15 04:00:00                      1401.560902   \n",
       "\n",
       "                     rougher.input.floatbank10_xanthate  \\\n",
       "date                                                      \n",
       "2016-01-15 00:00:00                            6.007990   \n",
       "2016-01-15 01:00:00                            6.005766   \n",
       "2016-01-15 02:00:00                            6.197377   \n",
       "2016-01-15 03:00:00                            6.203177   \n",
       "2016-01-15 04:00:00                            6.198826   \n",
       "\n",
       "                     rougher.input.feed_pb  rougher.state.floatbank10_b_level  \\\n",
       "date                                                                            \n",
       "2016-01-15 00:00:00               2.284912                        -434.715027   \n",
       "2016-01-15 01:00:00               2.266033                        -449.953435   \n",
       "2016-01-15 02:00:00               2.159622                        -450.008530   \n",
       "2016-01-15 03:00:00               2.037807                        -450.619948   \n",
       "2016-01-15 04:00:00               1.786875                        -449.599614   \n",
       "\n",
       "                     rougher.state.floatbank10_d_air  \\\n",
       "date                                                   \n",
       "2016-01-15 00:00:00                      1598.937256   \n",
       "2016-01-15 01:00:00                      1600.527589   \n",
       "2016-01-15 02:00:00                      1599.849325   \n",
       "2016-01-15 03:00:00                      1597.725177   \n",
       "2016-01-15 04:00:00                      1599.759049   \n",
       "\n",
       "                     rougher.input.floatbank10_sulfate  \\\n",
       "date                                                     \n",
       "2016-01-15 00:00:00                          11.986616   \n",
       "2016-01-15 01:00:00                          11.971193   \n",
       "2016-01-15 02:00:00                          11.920603   \n",
       "2016-01-15 03:00:00                          11.630094   \n",
       "2016-01-15 04:00:00                          10.957755   \n",
       "\n",
       "                     rougher.input.feed_sol  rougher.state.floatbank10_d_level  \n",
       "date                                                                            \n",
       "2016-01-15 00:00:00               36.808594                        -451.294128  \n",
       "2016-01-15 01:00:00               35.753385                        -449.953649  \n",
       "2016-01-15 02:00:00               35.971630                        -449.954185  \n",
       "2016-01-15 03:00:00               36.862241                        -450.130127  \n",
       "2016-01-15 04:00:00               34.347666                        -449.909799  \n",
       "\n",
       "[5 rows x 22 columns]"
      ]
     },
     "execution_count": 51,
     "metadata": {},
     "output_type": "execute_result"
    }
   ],
   "source": [
    "data_train_rougher_features = data_train_features.filter(regex='^rougher',axis=1)\n",
    "data_train_rougher_features.head()"
   ]
  },
  {
   "cell_type": "markdown",
   "metadata": {},
   "source": [
    "final_features определяется разницей столбцов df_train_features и df_train_rougher_features"
   ]
  },
  {
   "cell_type": "code",
   "execution_count": 52,
   "metadata": {},
   "outputs": [
    {
     "data": {
      "text/html": [
       "<div>\n",
       "<style scoped>\n",
       "    .dataframe tbody tr th:only-of-type {\n",
       "        vertical-align: middle;\n",
       "    }\n",
       "\n",
       "    .dataframe tbody tr th {\n",
       "        vertical-align: top;\n",
       "    }\n",
       "\n",
       "    .dataframe thead th {\n",
       "        text-align: right;\n",
       "    }\n",
       "</style>\n",
       "<table border=\"1\" class=\"dataframe\">\n",
       "  <thead>\n",
       "    <tr style=\"text-align: right;\">\n",
       "      <th></th>\n",
       "      <th>secondary_cleaner.state.floatbank3_a_level</th>\n",
       "      <th>primary_cleaner.state.floatbank8_d_air</th>\n",
       "      <th>primary_cleaner.input.feed_size</th>\n",
       "      <th>primary_cleaner.input.sulfate</th>\n",
       "      <th>secondary_cleaner.state.floatbank3_b_level</th>\n",
       "      <th>secondary_cleaner.state.floatbank5_a_air</th>\n",
       "      <th>secondary_cleaner.state.floatbank5_b_air</th>\n",
       "      <th>secondary_cleaner.state.floatbank2_a_air</th>\n",
       "      <th>secondary_cleaner.state.floatbank6_a_level</th>\n",
       "      <th>secondary_cleaner.state.floatbank2_b_air</th>\n",
       "      <th>...</th>\n",
       "      <th>primary_cleaner.state.floatbank8_c_air</th>\n",
       "      <th>secondary_cleaner.state.floatbank6_a_air</th>\n",
       "      <th>secondary_cleaner.state.floatbank5_a_level</th>\n",
       "      <th>primary_cleaner.state.floatbank8_a_air</th>\n",
       "      <th>primary_cleaner.state.floatbank8_c_level</th>\n",
       "      <th>secondary_cleaner.state.floatbank2_b_level</th>\n",
       "      <th>primary_cleaner.input.depressant</th>\n",
       "      <th>secondary_cleaner.state.floatbank4_b_air</th>\n",
       "      <th>secondary_cleaner.state.floatbank4_a_level</th>\n",
       "      <th>primary_cleaner.state.floatbank8_a_level</th>\n",
       "    </tr>\n",
       "    <tr>\n",
       "      <th>date</th>\n",
       "      <th></th>\n",
       "      <th></th>\n",
       "      <th></th>\n",
       "      <th></th>\n",
       "      <th></th>\n",
       "      <th></th>\n",
       "      <th></th>\n",
       "      <th></th>\n",
       "      <th></th>\n",
       "      <th></th>\n",
       "      <th></th>\n",
       "      <th></th>\n",
       "      <th></th>\n",
       "      <th></th>\n",
       "      <th></th>\n",
       "      <th></th>\n",
       "      <th></th>\n",
       "      <th></th>\n",
       "      <th></th>\n",
       "      <th></th>\n",
       "      <th></th>\n",
       "    </tr>\n",
       "  </thead>\n",
       "  <tbody>\n",
       "    <tr>\n",
       "      <th>2016-01-15 00:00:00</th>\n",
       "      <td>-495.262817</td>\n",
       "      <td>1554.367432</td>\n",
       "      <td>7.25</td>\n",
       "      <td>127.092003</td>\n",
       "      <td>-499.340973</td>\n",
       "      <td>9.925633</td>\n",
       "      <td>8.079666</td>\n",
       "      <td>25.853109</td>\n",
       "      <td>-605.841980</td>\n",
       "      <td>23.893660</td>\n",
       "      <td>...</td>\n",
       "      <td>1549.873901</td>\n",
       "      <td>14.151341</td>\n",
       "      <td>-498.310211</td>\n",
       "      <td>1549.775757</td>\n",
       "      <td>-498.666595</td>\n",
       "      <td>-501.406281</td>\n",
       "      <td>10.128295</td>\n",
       "      <td>12.099931</td>\n",
       "      <td>-502.488007</td>\n",
       "      <td>-498.912140</td>\n",
       "    </tr>\n",
       "    <tr>\n",
       "      <th>2016-01-15 01:00:00</th>\n",
       "      <td>-500.085473</td>\n",
       "      <td>1574.479259</td>\n",
       "      <td>7.25</td>\n",
       "      <td>125.629232</td>\n",
       "      <td>-499.446897</td>\n",
       "      <td>10.039245</td>\n",
       "      <td>7.984757</td>\n",
       "      <td>25.880539</td>\n",
       "      <td>-599.787184</td>\n",
       "      <td>23.889530</td>\n",
       "      <td>...</td>\n",
       "      <td>1575.994189</td>\n",
       "      <td>13.998353</td>\n",
       "      <td>-500.169983</td>\n",
       "      <td>1576.166671</td>\n",
       "      <td>-499.315107</td>\n",
       "      <td>-500.372428</td>\n",
       "      <td>10.296251</td>\n",
       "      <td>11.950531</td>\n",
       "      <td>-505.503262</td>\n",
       "      <td>-500.904965</td>\n",
       "    </tr>\n",
       "    <tr>\n",
       "      <th>2016-01-15 02:00:00</th>\n",
       "      <td>-499.442343</td>\n",
       "      <td>1599.541515</td>\n",
       "      <td>7.25</td>\n",
       "      <td>123.819808</td>\n",
       "      <td>-499.901982</td>\n",
       "      <td>10.070913</td>\n",
       "      <td>8.013877</td>\n",
       "      <td>26.005245</td>\n",
       "      <td>-601.427363</td>\n",
       "      <td>23.886657</td>\n",
       "      <td>...</td>\n",
       "      <td>1602.003542</td>\n",
       "      <td>14.028663</td>\n",
       "      <td>-500.129135</td>\n",
       "      <td>1601.556163</td>\n",
       "      <td>-500.870069</td>\n",
       "      <td>-499.951928</td>\n",
       "      <td>11.316280</td>\n",
       "      <td>11.912783</td>\n",
       "      <td>-502.520901</td>\n",
       "      <td>-499.997791</td>\n",
       "    </tr>\n",
       "    <tr>\n",
       "      <th>2016-01-15 03:00:00</th>\n",
       "      <td>-500.008812</td>\n",
       "      <td>1600.449520</td>\n",
       "      <td>7.25</td>\n",
       "      <td>122.270188</td>\n",
       "      <td>-499.944710</td>\n",
       "      <td>9.970366</td>\n",
       "      <td>7.977324</td>\n",
       "      <td>25.942508</td>\n",
       "      <td>-599.996129</td>\n",
       "      <td>23.955516</td>\n",
       "      <td>...</td>\n",
       "      <td>1600.304144</td>\n",
       "      <td>14.005551</td>\n",
       "      <td>-499.201640</td>\n",
       "      <td>1599.968720</td>\n",
       "      <td>-500.727997</td>\n",
       "      <td>-499.848796</td>\n",
       "      <td>11.322140</td>\n",
       "      <td>11.999550</td>\n",
       "      <td>-500.857308</td>\n",
       "      <td>-500.951778</td>\n",
       "    </tr>\n",
       "    <tr>\n",
       "      <th>2016-01-15 04:00:00</th>\n",
       "      <td>-500.083811</td>\n",
       "      <td>1602.649541</td>\n",
       "      <td>7.25</td>\n",
       "      <td>117.988169</td>\n",
       "      <td>-499.990309</td>\n",
       "      <td>9.925709</td>\n",
       "      <td>7.894242</td>\n",
       "      <td>26.024787</td>\n",
       "      <td>-601.496691</td>\n",
       "      <td>23.955345</td>\n",
       "      <td>...</td>\n",
       "      <td>1599.581894</td>\n",
       "      <td>13.996647</td>\n",
       "      <td>-501.686727</td>\n",
       "      <td>1601.339707</td>\n",
       "      <td>-500.888152</td>\n",
       "      <td>-500.593614</td>\n",
       "      <td>11.913613</td>\n",
       "      <td>11.953070</td>\n",
       "      <td>-499.838632</td>\n",
       "      <td>-498.975456</td>\n",
       "    </tr>\n",
       "  </tbody>\n",
       "</table>\n",
       "<p>5 rows × 30 columns</p>\n",
       "</div>"
      ],
      "text/plain": [
       "                     secondary_cleaner.state.floatbank3_a_level  \\\n",
       "date                                                              \n",
       "2016-01-15 00:00:00                                 -495.262817   \n",
       "2016-01-15 01:00:00                                 -500.085473   \n",
       "2016-01-15 02:00:00                                 -499.442343   \n",
       "2016-01-15 03:00:00                                 -500.008812   \n",
       "2016-01-15 04:00:00                                 -500.083811   \n",
       "\n",
       "                     primary_cleaner.state.floatbank8_d_air  \\\n",
       "date                                                          \n",
       "2016-01-15 00:00:00                             1554.367432   \n",
       "2016-01-15 01:00:00                             1574.479259   \n",
       "2016-01-15 02:00:00                             1599.541515   \n",
       "2016-01-15 03:00:00                             1600.449520   \n",
       "2016-01-15 04:00:00                             1602.649541   \n",
       "\n",
       "                     primary_cleaner.input.feed_size  \\\n",
       "date                                                   \n",
       "2016-01-15 00:00:00                             7.25   \n",
       "2016-01-15 01:00:00                             7.25   \n",
       "2016-01-15 02:00:00                             7.25   \n",
       "2016-01-15 03:00:00                             7.25   \n",
       "2016-01-15 04:00:00                             7.25   \n",
       "\n",
       "                     primary_cleaner.input.sulfate  \\\n",
       "date                                                 \n",
       "2016-01-15 00:00:00                     127.092003   \n",
       "2016-01-15 01:00:00                     125.629232   \n",
       "2016-01-15 02:00:00                     123.819808   \n",
       "2016-01-15 03:00:00                     122.270188   \n",
       "2016-01-15 04:00:00                     117.988169   \n",
       "\n",
       "                     secondary_cleaner.state.floatbank3_b_level  \\\n",
       "date                                                              \n",
       "2016-01-15 00:00:00                                 -499.340973   \n",
       "2016-01-15 01:00:00                                 -499.446897   \n",
       "2016-01-15 02:00:00                                 -499.901982   \n",
       "2016-01-15 03:00:00                                 -499.944710   \n",
       "2016-01-15 04:00:00                                 -499.990309   \n",
       "\n",
       "                     secondary_cleaner.state.floatbank5_a_air  \\\n",
       "date                                                            \n",
       "2016-01-15 00:00:00                                  9.925633   \n",
       "2016-01-15 01:00:00                                 10.039245   \n",
       "2016-01-15 02:00:00                                 10.070913   \n",
       "2016-01-15 03:00:00                                  9.970366   \n",
       "2016-01-15 04:00:00                                  9.925709   \n",
       "\n",
       "                     secondary_cleaner.state.floatbank5_b_air  \\\n",
       "date                                                            \n",
       "2016-01-15 00:00:00                                  8.079666   \n",
       "2016-01-15 01:00:00                                  7.984757   \n",
       "2016-01-15 02:00:00                                  8.013877   \n",
       "2016-01-15 03:00:00                                  7.977324   \n",
       "2016-01-15 04:00:00                                  7.894242   \n",
       "\n",
       "                     secondary_cleaner.state.floatbank2_a_air  \\\n",
       "date                                                            \n",
       "2016-01-15 00:00:00                                 25.853109   \n",
       "2016-01-15 01:00:00                                 25.880539   \n",
       "2016-01-15 02:00:00                                 26.005245   \n",
       "2016-01-15 03:00:00                                 25.942508   \n",
       "2016-01-15 04:00:00                                 26.024787   \n",
       "\n",
       "                     secondary_cleaner.state.floatbank6_a_level  \\\n",
       "date                                                              \n",
       "2016-01-15 00:00:00                                 -605.841980   \n",
       "2016-01-15 01:00:00                                 -599.787184   \n",
       "2016-01-15 02:00:00                                 -601.427363   \n",
       "2016-01-15 03:00:00                                 -599.996129   \n",
       "2016-01-15 04:00:00                                 -601.496691   \n",
       "\n",
       "                     secondary_cleaner.state.floatbank2_b_air  ...  \\\n",
       "date                                                           ...   \n",
       "2016-01-15 00:00:00                                 23.893660  ...   \n",
       "2016-01-15 01:00:00                                 23.889530  ...   \n",
       "2016-01-15 02:00:00                                 23.886657  ...   \n",
       "2016-01-15 03:00:00                                 23.955516  ...   \n",
       "2016-01-15 04:00:00                                 23.955345  ...   \n",
       "\n",
       "                     primary_cleaner.state.floatbank8_c_air  \\\n",
       "date                                                          \n",
       "2016-01-15 00:00:00                             1549.873901   \n",
       "2016-01-15 01:00:00                             1575.994189   \n",
       "2016-01-15 02:00:00                             1602.003542   \n",
       "2016-01-15 03:00:00                             1600.304144   \n",
       "2016-01-15 04:00:00                             1599.581894   \n",
       "\n",
       "                     secondary_cleaner.state.floatbank6_a_air  \\\n",
       "date                                                            \n",
       "2016-01-15 00:00:00                                 14.151341   \n",
       "2016-01-15 01:00:00                                 13.998353   \n",
       "2016-01-15 02:00:00                                 14.028663   \n",
       "2016-01-15 03:00:00                                 14.005551   \n",
       "2016-01-15 04:00:00                                 13.996647   \n",
       "\n",
       "                     secondary_cleaner.state.floatbank5_a_level  \\\n",
       "date                                                              \n",
       "2016-01-15 00:00:00                                 -498.310211   \n",
       "2016-01-15 01:00:00                                 -500.169983   \n",
       "2016-01-15 02:00:00                                 -500.129135   \n",
       "2016-01-15 03:00:00                                 -499.201640   \n",
       "2016-01-15 04:00:00                                 -501.686727   \n",
       "\n",
       "                     primary_cleaner.state.floatbank8_a_air  \\\n",
       "date                                                          \n",
       "2016-01-15 00:00:00                             1549.775757   \n",
       "2016-01-15 01:00:00                             1576.166671   \n",
       "2016-01-15 02:00:00                             1601.556163   \n",
       "2016-01-15 03:00:00                             1599.968720   \n",
       "2016-01-15 04:00:00                             1601.339707   \n",
       "\n",
       "                     primary_cleaner.state.floatbank8_c_level  \\\n",
       "date                                                            \n",
       "2016-01-15 00:00:00                               -498.666595   \n",
       "2016-01-15 01:00:00                               -499.315107   \n",
       "2016-01-15 02:00:00                               -500.870069   \n",
       "2016-01-15 03:00:00                               -500.727997   \n",
       "2016-01-15 04:00:00                               -500.888152   \n",
       "\n",
       "                     secondary_cleaner.state.floatbank2_b_level  \\\n",
       "date                                                              \n",
       "2016-01-15 00:00:00                                 -501.406281   \n",
       "2016-01-15 01:00:00                                 -500.372428   \n",
       "2016-01-15 02:00:00                                 -499.951928   \n",
       "2016-01-15 03:00:00                                 -499.848796   \n",
       "2016-01-15 04:00:00                                 -500.593614   \n",
       "\n",
       "                     primary_cleaner.input.depressant  \\\n",
       "date                                                    \n",
       "2016-01-15 00:00:00                         10.128295   \n",
       "2016-01-15 01:00:00                         10.296251   \n",
       "2016-01-15 02:00:00                         11.316280   \n",
       "2016-01-15 03:00:00                         11.322140   \n",
       "2016-01-15 04:00:00                         11.913613   \n",
       "\n",
       "                     secondary_cleaner.state.floatbank4_b_air  \\\n",
       "date                                                            \n",
       "2016-01-15 00:00:00                                 12.099931   \n",
       "2016-01-15 01:00:00                                 11.950531   \n",
       "2016-01-15 02:00:00                                 11.912783   \n",
       "2016-01-15 03:00:00                                 11.999550   \n",
       "2016-01-15 04:00:00                                 11.953070   \n",
       "\n",
       "                     secondary_cleaner.state.floatbank4_a_level  \\\n",
       "date                                                              \n",
       "2016-01-15 00:00:00                                 -502.488007   \n",
       "2016-01-15 01:00:00                                 -505.503262   \n",
       "2016-01-15 02:00:00                                 -502.520901   \n",
       "2016-01-15 03:00:00                                 -500.857308   \n",
       "2016-01-15 04:00:00                                 -499.838632   \n",
       "\n",
       "                     primary_cleaner.state.floatbank8_a_level  \n",
       "date                                                           \n",
       "2016-01-15 00:00:00                               -498.912140  \n",
       "2016-01-15 01:00:00                               -500.904965  \n",
       "2016-01-15 02:00:00                               -499.997791  \n",
       "2016-01-15 03:00:00                               -500.951778  \n",
       "2016-01-15 04:00:00                               -498.975456  \n",
       "\n",
       "[5 rows x 30 columns]"
      ]
     },
     "execution_count": 52,
     "metadata": {},
     "output_type": "execute_result"
    }
   ],
   "source": [
    "final_columns = set(data_train_features) - set(data_train_rougher_features)\n",
    "data_train_final_features = data_train_features.loc[:, final_columns]\n",
    "data_train_final_features.head()"
   ]
  },
  {
   "cell_type": "markdown",
   "metadata": {},
   "source": [
    "Тоже самое для тестовой выборке df_test:"
   ]
  },
  {
   "cell_type": "code",
   "execution_count": 53,
   "metadata": {},
   "outputs": [
    {
     "data": {
      "text/html": [
       "<div>\n",
       "<style scoped>\n",
       "    .dataframe tbody tr th:only-of-type {\n",
       "        vertical-align: middle;\n",
       "    }\n",
       "\n",
       "    .dataframe tbody tr th {\n",
       "        vertical-align: top;\n",
       "    }\n",
       "\n",
       "    .dataframe thead th {\n",
       "        text-align: right;\n",
       "    }\n",
       "</style>\n",
       "<table border=\"1\" class=\"dataframe\">\n",
       "  <thead>\n",
       "    <tr style=\"text-align: right;\">\n",
       "      <th></th>\n",
       "      <th>rougher.input.feed_ag</th>\n",
       "      <th>rougher.input.feed_pb</th>\n",
       "      <th>rougher.input.feed_rate</th>\n",
       "      <th>rougher.input.feed_size</th>\n",
       "      <th>rougher.input.feed_sol</th>\n",
       "      <th>rougher.input.feed_au</th>\n",
       "      <th>rougher.input.floatbank10_sulfate</th>\n",
       "      <th>rougher.input.floatbank10_xanthate</th>\n",
       "      <th>rougher.input.floatbank11_sulfate</th>\n",
       "      <th>rougher.input.floatbank11_xanthate</th>\n",
       "      <th>...</th>\n",
       "      <th>rougher.state.floatbank10_b_air</th>\n",
       "      <th>rougher.state.floatbank10_b_level</th>\n",
       "      <th>rougher.state.floatbank10_c_air</th>\n",
       "      <th>rougher.state.floatbank10_c_level</th>\n",
       "      <th>rougher.state.floatbank10_d_air</th>\n",
       "      <th>rougher.state.floatbank10_d_level</th>\n",
       "      <th>rougher.state.floatbank10_e_air</th>\n",
       "      <th>rougher.state.floatbank10_e_level</th>\n",
       "      <th>rougher.state.floatbank10_f_air</th>\n",
       "      <th>rougher.state.floatbank10_f_level</th>\n",
       "    </tr>\n",
       "    <tr>\n",
       "      <th>date</th>\n",
       "      <th></th>\n",
       "      <th></th>\n",
       "      <th></th>\n",
       "      <th></th>\n",
       "      <th></th>\n",
       "      <th></th>\n",
       "      <th></th>\n",
       "      <th></th>\n",
       "      <th></th>\n",
       "      <th></th>\n",
       "      <th></th>\n",
       "      <th></th>\n",
       "      <th></th>\n",
       "      <th></th>\n",
       "      <th></th>\n",
       "      <th></th>\n",
       "      <th></th>\n",
       "      <th></th>\n",
       "      <th></th>\n",
       "      <th></th>\n",
       "      <th></th>\n",
       "    </tr>\n",
       "  </thead>\n",
       "  <tbody>\n",
       "    <tr>\n",
       "      <th>2016-09-01 00:59:59</th>\n",
       "      <td>13.128569</td>\n",
       "      <td>5.636710</td>\n",
       "      <td>489.793655</td>\n",
       "      <td>62.710452</td>\n",
       "      <td>42.022440</td>\n",
       "      <td>12.084103</td>\n",
       "      <td>16.922877</td>\n",
       "      <td>6.153479</td>\n",
       "      <td>16.867518</td>\n",
       "      <td>6.150709</td>\n",
       "      <td>...</td>\n",
       "      <td>1249.738612</td>\n",
       "      <td>-399.107531</td>\n",
       "      <td>1249.750520</td>\n",
       "      <td>-399.396730</td>\n",
       "      <td>1198.287855</td>\n",
       "      <td>-399.488594</td>\n",
       "      <td>999.472250</td>\n",
       "      <td>-399.530962</td>\n",
       "      <td>949.566189</td>\n",
       "      <td>-398.180807</td>\n",
       "    </tr>\n",
       "    <tr>\n",
       "      <th>2016-09-01 01:59:59</th>\n",
       "      <td>13.036280</td>\n",
       "      <td>5.526065</td>\n",
       "      <td>490.104534</td>\n",
       "      <td>61.961163</td>\n",
       "      <td>41.187903</td>\n",
       "      <td>11.918977</td>\n",
       "      <td>17.002532</td>\n",
       "      <td>5.999043</td>\n",
       "      <td>16.996063</td>\n",
       "      <td>6.002315</td>\n",
       "      <td>...</td>\n",
       "      <td>1248.395457</td>\n",
       "      <td>-399.946025</td>\n",
       "      <td>1249.514451</td>\n",
       "      <td>-399.630810</td>\n",
       "      <td>1200.506459</td>\n",
       "      <td>-399.942434</td>\n",
       "      <td>1000.002114</td>\n",
       "      <td>-399.491528</td>\n",
       "      <td>950.200009</td>\n",
       "      <td>-405.787514</td>\n",
       "    </tr>\n",
       "    <tr>\n",
       "      <th>2016-09-01 02:59:59</th>\n",
       "      <td>13.138412</td>\n",
       "      <td>5.426561</td>\n",
       "      <td>489.617969</td>\n",
       "      <td>66.903807</td>\n",
       "      <td>42.546294</td>\n",
       "      <td>12.091332</td>\n",
       "      <td>16.992520</td>\n",
       "      <td>5.850632</td>\n",
       "      <td>16.982096</td>\n",
       "      <td>5.853594</td>\n",
       "      <td>...</td>\n",
       "      <td>1247.440748</td>\n",
       "      <td>-400.264330</td>\n",
       "      <td>1248.207204</td>\n",
       "      <td>-401.074405</td>\n",
       "      <td>1199.770026</td>\n",
       "      <td>-400.790582</td>\n",
       "      <td>999.925519</td>\n",
       "      <td>-399.236999</td>\n",
       "      <td>950.320481</td>\n",
       "      <td>-400.864340</td>\n",
       "    </tr>\n",
       "    <tr>\n",
       "      <th>2016-09-01 03:59:59</th>\n",
       "      <td>12.400507</td>\n",
       "      <td>5.114758</td>\n",
       "      <td>476.618130</td>\n",
       "      <td>59.865919</td>\n",
       "      <td>41.060195</td>\n",
       "      <td>12.181597</td>\n",
       "      <td>16.532144</td>\n",
       "      <td>5.801935</td>\n",
       "      <td>16.515277</td>\n",
       "      <td>5.803657</td>\n",
       "      <td>...</td>\n",
       "      <td>1251.322675</td>\n",
       "      <td>-398.655289</td>\n",
       "      <td>1250.493702</td>\n",
       "      <td>-399.746728</td>\n",
       "      <td>1199.398691</td>\n",
       "      <td>-397.503052</td>\n",
       "      <td>1001.930679</td>\n",
       "      <td>-400.437573</td>\n",
       "      <td>950.735324</td>\n",
       "      <td>-399.802986</td>\n",
       "    </tr>\n",
       "    <tr>\n",
       "      <th>2016-09-01 04:59:59</th>\n",
       "      <td>11.327427</td>\n",
       "      <td>4.767383</td>\n",
       "      <td>488.248117</td>\n",
       "      <td>63.315324</td>\n",
       "      <td>41.269161</td>\n",
       "      <td>11.290425</td>\n",
       "      <td>13.607257</td>\n",
       "      <td>5.738081</td>\n",
       "      <td>13.650053</td>\n",
       "      <td>5.739634</td>\n",
       "      <td>...</td>\n",
       "      <td>1304.658848</td>\n",
       "      <td>-399.511519</td>\n",
       "      <td>1306.455515</td>\n",
       "      <td>-399.050685</td>\n",
       "      <td>1248.699349</td>\n",
       "      <td>-400.876894</td>\n",
       "      <td>1058.839106</td>\n",
       "      <td>-398.988239</td>\n",
       "      <td>949.645313</td>\n",
       "      <td>-399.277632</td>\n",
       "    </tr>\n",
       "  </tbody>\n",
       "</table>\n",
       "<p>5 rows × 22 columns</p>\n",
       "</div>"
      ],
      "text/plain": [
       "                     rougher.input.feed_ag  rougher.input.feed_pb  \\\n",
       "date                                                                \n",
       "2016-09-01 00:59:59              13.128569               5.636710   \n",
       "2016-09-01 01:59:59              13.036280               5.526065   \n",
       "2016-09-01 02:59:59              13.138412               5.426561   \n",
       "2016-09-01 03:59:59              12.400507               5.114758   \n",
       "2016-09-01 04:59:59              11.327427               4.767383   \n",
       "\n",
       "                     rougher.input.feed_rate  rougher.input.feed_size  \\\n",
       "date                                                                    \n",
       "2016-09-01 00:59:59               489.793655                62.710452   \n",
       "2016-09-01 01:59:59               490.104534                61.961163   \n",
       "2016-09-01 02:59:59               489.617969                66.903807   \n",
       "2016-09-01 03:59:59               476.618130                59.865919   \n",
       "2016-09-01 04:59:59               488.248117                63.315324   \n",
       "\n",
       "                     rougher.input.feed_sol  rougher.input.feed_au  \\\n",
       "date                                                                 \n",
       "2016-09-01 00:59:59               42.022440              12.084103   \n",
       "2016-09-01 01:59:59               41.187903              11.918977   \n",
       "2016-09-01 02:59:59               42.546294              12.091332   \n",
       "2016-09-01 03:59:59               41.060195              12.181597   \n",
       "2016-09-01 04:59:59               41.269161              11.290425   \n",
       "\n",
       "                     rougher.input.floatbank10_sulfate  \\\n",
       "date                                                     \n",
       "2016-09-01 00:59:59                          16.922877   \n",
       "2016-09-01 01:59:59                          17.002532   \n",
       "2016-09-01 02:59:59                          16.992520   \n",
       "2016-09-01 03:59:59                          16.532144   \n",
       "2016-09-01 04:59:59                          13.607257   \n",
       "\n",
       "                     rougher.input.floatbank10_xanthate  \\\n",
       "date                                                      \n",
       "2016-09-01 00:59:59                            6.153479   \n",
       "2016-09-01 01:59:59                            5.999043   \n",
       "2016-09-01 02:59:59                            5.850632   \n",
       "2016-09-01 03:59:59                            5.801935   \n",
       "2016-09-01 04:59:59                            5.738081   \n",
       "\n",
       "                     rougher.input.floatbank11_sulfate  \\\n",
       "date                                                     \n",
       "2016-09-01 00:59:59                          16.867518   \n",
       "2016-09-01 01:59:59                          16.996063   \n",
       "2016-09-01 02:59:59                          16.982096   \n",
       "2016-09-01 03:59:59                          16.515277   \n",
       "2016-09-01 04:59:59                          13.650053   \n",
       "\n",
       "                     rougher.input.floatbank11_xanthate  ...  \\\n",
       "date                                                     ...   \n",
       "2016-09-01 00:59:59                            6.150709  ...   \n",
       "2016-09-01 01:59:59                            6.002315  ...   \n",
       "2016-09-01 02:59:59                            5.853594  ...   \n",
       "2016-09-01 03:59:59                            5.803657  ...   \n",
       "2016-09-01 04:59:59                            5.739634  ...   \n",
       "\n",
       "                     rougher.state.floatbank10_b_air  \\\n",
       "date                                                   \n",
       "2016-09-01 00:59:59                      1249.738612   \n",
       "2016-09-01 01:59:59                      1248.395457   \n",
       "2016-09-01 02:59:59                      1247.440748   \n",
       "2016-09-01 03:59:59                      1251.322675   \n",
       "2016-09-01 04:59:59                      1304.658848   \n",
       "\n",
       "                     rougher.state.floatbank10_b_level  \\\n",
       "date                                                     \n",
       "2016-09-01 00:59:59                        -399.107531   \n",
       "2016-09-01 01:59:59                        -399.946025   \n",
       "2016-09-01 02:59:59                        -400.264330   \n",
       "2016-09-01 03:59:59                        -398.655289   \n",
       "2016-09-01 04:59:59                        -399.511519   \n",
       "\n",
       "                     rougher.state.floatbank10_c_air  \\\n",
       "date                                                   \n",
       "2016-09-01 00:59:59                      1249.750520   \n",
       "2016-09-01 01:59:59                      1249.514451   \n",
       "2016-09-01 02:59:59                      1248.207204   \n",
       "2016-09-01 03:59:59                      1250.493702   \n",
       "2016-09-01 04:59:59                      1306.455515   \n",
       "\n",
       "                     rougher.state.floatbank10_c_level  \\\n",
       "date                                                     \n",
       "2016-09-01 00:59:59                        -399.396730   \n",
       "2016-09-01 01:59:59                        -399.630810   \n",
       "2016-09-01 02:59:59                        -401.074405   \n",
       "2016-09-01 03:59:59                        -399.746728   \n",
       "2016-09-01 04:59:59                        -399.050685   \n",
       "\n",
       "                     rougher.state.floatbank10_d_air  \\\n",
       "date                                                   \n",
       "2016-09-01 00:59:59                      1198.287855   \n",
       "2016-09-01 01:59:59                      1200.506459   \n",
       "2016-09-01 02:59:59                      1199.770026   \n",
       "2016-09-01 03:59:59                      1199.398691   \n",
       "2016-09-01 04:59:59                      1248.699349   \n",
       "\n",
       "                     rougher.state.floatbank10_d_level  \\\n",
       "date                                                     \n",
       "2016-09-01 00:59:59                        -399.488594   \n",
       "2016-09-01 01:59:59                        -399.942434   \n",
       "2016-09-01 02:59:59                        -400.790582   \n",
       "2016-09-01 03:59:59                        -397.503052   \n",
       "2016-09-01 04:59:59                        -400.876894   \n",
       "\n",
       "                     rougher.state.floatbank10_e_air  \\\n",
       "date                                                   \n",
       "2016-09-01 00:59:59                       999.472250   \n",
       "2016-09-01 01:59:59                      1000.002114   \n",
       "2016-09-01 02:59:59                       999.925519   \n",
       "2016-09-01 03:59:59                      1001.930679   \n",
       "2016-09-01 04:59:59                      1058.839106   \n",
       "\n",
       "                     rougher.state.floatbank10_e_level  \\\n",
       "date                                                     \n",
       "2016-09-01 00:59:59                        -399.530962   \n",
       "2016-09-01 01:59:59                        -399.491528   \n",
       "2016-09-01 02:59:59                        -399.236999   \n",
       "2016-09-01 03:59:59                        -400.437573   \n",
       "2016-09-01 04:59:59                        -398.988239   \n",
       "\n",
       "                     rougher.state.floatbank10_f_air  \\\n",
       "date                                                   \n",
       "2016-09-01 00:59:59                       949.566189   \n",
       "2016-09-01 01:59:59                       950.200009   \n",
       "2016-09-01 02:59:59                       950.320481   \n",
       "2016-09-01 03:59:59                       950.735324   \n",
       "2016-09-01 04:59:59                       949.645313   \n",
       "\n",
       "                     rougher.state.floatbank10_f_level  \n",
       "date                                                    \n",
       "2016-09-01 00:59:59                        -398.180807  \n",
       "2016-09-01 01:59:59                        -405.787514  \n",
       "2016-09-01 02:59:59                        -400.864340  \n",
       "2016-09-01 03:59:59                        -399.802986  \n",
       "2016-09-01 04:59:59                        -399.277632  \n",
       "\n",
       "[5 rows x 22 columns]"
      ]
     },
     "execution_count": 53,
     "metadata": {},
     "output_type": "execute_result"
    }
   ],
   "source": [
    "data_test_rougher_features = test_data.filter(regex='^rougher',axis=1)\n",
    "data_test_rougher_features.head()"
   ]
  },
  {
   "cell_type": "code",
   "execution_count": 54,
   "metadata": {},
   "outputs": [
    {
     "name": "stdout",
     "output_type": "stream",
     "text": [
      "<class 'pandas.core.frame.DataFrame'>\n",
      "DatetimeIndex: 5290 entries, 2016-09-01 00:59:59 to 2017-12-31 23:59:59\n",
      "Data columns (total 30 columns):\n",
      " #   Column                                      Non-Null Count  Dtype  \n",
      "---  ------                                      --------------  -----  \n",
      " 0   secondary_cleaner.state.floatbank3_a_level  5290 non-null   float64\n",
      " 1   primary_cleaner.state.floatbank8_d_air      5290 non-null   float64\n",
      " 2   primary_cleaner.input.feed_size             5290 non-null   float64\n",
      " 3   primary_cleaner.input.sulfate               5290 non-null   float64\n",
      " 4   secondary_cleaner.state.floatbank3_b_level  5290 non-null   float64\n",
      " 5   secondary_cleaner.state.floatbank5_a_air    5290 non-null   float64\n",
      " 6   secondary_cleaner.state.floatbank5_b_air    5290 non-null   float64\n",
      " 7   secondary_cleaner.state.floatbank2_a_air    5290 non-null   float64\n",
      " 8   secondary_cleaner.state.floatbank6_a_level  5290 non-null   float64\n",
      " 9   secondary_cleaner.state.floatbank2_b_air    5290 non-null   float64\n",
      " 10  primary_cleaner.input.xanthate              5290 non-null   float64\n",
      " 11  primary_cleaner.state.floatbank8_d_level    5290 non-null   float64\n",
      " 12  secondary_cleaner.state.floatbank4_a_air    5290 non-null   float64\n",
      " 13  primary_cleaner.state.floatbank8_b_air      5290 non-null   float64\n",
      " 14  secondary_cleaner.state.floatbank3_b_air    5290 non-null   float64\n",
      " 15  secondary_cleaner.state.floatbank5_b_level  5290 non-null   float64\n",
      " 16  secondary_cleaner.state.floatbank2_a_level  5290 non-null   float64\n",
      " 17  primary_cleaner.state.floatbank8_b_level    5290 non-null   float64\n",
      " 18  secondary_cleaner.state.floatbank4_b_level  5290 non-null   float64\n",
      " 19  secondary_cleaner.state.floatbank3_a_air    5290 non-null   float64\n",
      " 20  primary_cleaner.state.floatbank8_c_air      5290 non-null   float64\n",
      " 21  secondary_cleaner.state.floatbank6_a_air    5290 non-null   float64\n",
      " 22  secondary_cleaner.state.floatbank5_a_level  5290 non-null   float64\n",
      " 23  primary_cleaner.state.floatbank8_a_air      5290 non-null   float64\n",
      " 24  primary_cleaner.state.floatbank8_c_level    5290 non-null   float64\n",
      " 25  secondary_cleaner.state.floatbank2_b_level  5290 non-null   float64\n",
      " 26  primary_cleaner.input.depressant            5290 non-null   float64\n",
      " 27  secondary_cleaner.state.floatbank4_b_air    5290 non-null   float64\n",
      " 28  secondary_cleaner.state.floatbank4_a_level  5290 non-null   float64\n",
      " 29  primary_cleaner.state.floatbank8_a_level    5290 non-null   float64\n",
      "dtypes: float64(30)\n",
      "memory usage: 1.3 MB\n"
     ]
    }
   ],
   "source": [
    "data_test_final_features = test_data.loc[:, final_columns]\n",
    "data_test_final_features.info()"
   ]
  },
  {
   "cell_type": "markdown",
   "metadata": {},
   "source": [
    "Удалим нули из full_data"
   ]
  },
  {
   "cell_type": "code",
   "execution_count": 55,
   "metadata": {},
   "outputs": [
    {
     "data": {
      "text/html": [
       "<div>\n",
       "<style scoped>\n",
       "    .dataframe tbody tr th:only-of-type {\n",
       "        vertical-align: middle;\n",
       "    }\n",
       "\n",
       "    .dataframe tbody tr th {\n",
       "        vertical-align: top;\n",
       "    }\n",
       "\n",
       "    .dataframe thead th {\n",
       "        text-align: right;\n",
       "    }\n",
       "</style>\n",
       "<table border=\"1\" class=\"dataframe\">\n",
       "  <thead>\n",
       "    <tr style=\"text-align: right;\">\n",
       "      <th></th>\n",
       "      <th>final.output.concentrate_ag</th>\n",
       "      <th>final.output.concentrate_pb</th>\n",
       "      <th>final.output.concentrate_sol</th>\n",
       "      <th>final.output.concentrate_au</th>\n",
       "      <th>final.output.recovery</th>\n",
       "      <th>final.output.tail_ag</th>\n",
       "      <th>final.output.tail_pb</th>\n",
       "      <th>final.output.tail_sol</th>\n",
       "      <th>final.output.tail_au</th>\n",
       "      <th>primary_cleaner.input.sulfate</th>\n",
       "      <th>...</th>\n",
       "      <th>secondary_cleaner.state.floatbank4_a_air</th>\n",
       "      <th>secondary_cleaner.state.floatbank4_a_level</th>\n",
       "      <th>secondary_cleaner.state.floatbank4_b_air</th>\n",
       "      <th>secondary_cleaner.state.floatbank4_b_level</th>\n",
       "      <th>secondary_cleaner.state.floatbank5_a_air</th>\n",
       "      <th>secondary_cleaner.state.floatbank5_a_level</th>\n",
       "      <th>secondary_cleaner.state.floatbank5_b_air</th>\n",
       "      <th>secondary_cleaner.state.floatbank5_b_level</th>\n",
       "      <th>secondary_cleaner.state.floatbank6_a_air</th>\n",
       "      <th>secondary_cleaner.state.floatbank6_a_level</th>\n",
       "    </tr>\n",
       "    <tr>\n",
       "      <th>date</th>\n",
       "      <th></th>\n",
       "      <th></th>\n",
       "      <th></th>\n",
       "      <th></th>\n",
       "      <th></th>\n",
       "      <th></th>\n",
       "      <th></th>\n",
       "      <th></th>\n",
       "      <th></th>\n",
       "      <th></th>\n",
       "      <th></th>\n",
       "      <th></th>\n",
       "      <th></th>\n",
       "      <th></th>\n",
       "      <th></th>\n",
       "      <th></th>\n",
       "      <th></th>\n",
       "      <th></th>\n",
       "      <th></th>\n",
       "      <th></th>\n",
       "      <th></th>\n",
       "    </tr>\n",
       "  </thead>\n",
       "  <tbody>\n",
       "    <tr>\n",
       "      <th>2016-01-15 00:00:00</th>\n",
       "      <td>6.055403</td>\n",
       "      <td>9.889648</td>\n",
       "      <td>5.507324</td>\n",
       "      <td>42.192020</td>\n",
       "      <td>70.541216</td>\n",
       "      <td>10.411962</td>\n",
       "      <td>0.895447</td>\n",
       "      <td>16.904297</td>\n",
       "      <td>2.143149</td>\n",
       "      <td>127.092003</td>\n",
       "      <td>...</td>\n",
       "      <td>14.016835</td>\n",
       "      <td>-502.488007</td>\n",
       "      <td>12.099931</td>\n",
       "      <td>-504.715942</td>\n",
       "      <td>9.925633</td>\n",
       "      <td>-498.310211</td>\n",
       "      <td>8.079666</td>\n",
       "      <td>-500.470978</td>\n",
       "      <td>14.151341</td>\n",
       "      <td>-605.841980</td>\n",
       "    </tr>\n",
       "    <tr>\n",
       "      <th>2016-01-15 01:00:00</th>\n",
       "      <td>6.029369</td>\n",
       "      <td>9.968944</td>\n",
       "      <td>5.257781</td>\n",
       "      <td>42.701629</td>\n",
       "      <td>69.266198</td>\n",
       "      <td>10.462676</td>\n",
       "      <td>0.927452</td>\n",
       "      <td>16.634514</td>\n",
       "      <td>2.224930</td>\n",
       "      <td>125.629232</td>\n",
       "      <td>...</td>\n",
       "      <td>13.992281</td>\n",
       "      <td>-505.503262</td>\n",
       "      <td>11.950531</td>\n",
       "      <td>-501.331529</td>\n",
       "      <td>10.039245</td>\n",
       "      <td>-500.169983</td>\n",
       "      <td>7.984757</td>\n",
       "      <td>-500.582168</td>\n",
       "      <td>13.998353</td>\n",
       "      <td>-599.787184</td>\n",
       "    </tr>\n",
       "    <tr>\n",
       "      <th>2016-01-15 02:00:00</th>\n",
       "      <td>6.055926</td>\n",
       "      <td>10.213995</td>\n",
       "      <td>5.383759</td>\n",
       "      <td>42.657501</td>\n",
       "      <td>68.116445</td>\n",
       "      <td>10.507046</td>\n",
       "      <td>0.953716</td>\n",
       "      <td>16.208849</td>\n",
       "      <td>2.257889</td>\n",
       "      <td>123.819808</td>\n",
       "      <td>...</td>\n",
       "      <td>14.015015</td>\n",
       "      <td>-502.520901</td>\n",
       "      <td>11.912783</td>\n",
       "      <td>-501.133383</td>\n",
       "      <td>10.070913</td>\n",
       "      <td>-500.129135</td>\n",
       "      <td>8.013877</td>\n",
       "      <td>-500.517572</td>\n",
       "      <td>14.028663</td>\n",
       "      <td>-601.427363</td>\n",
       "    </tr>\n",
       "    <tr>\n",
       "      <th>2016-01-15 03:00:00</th>\n",
       "      <td>6.047977</td>\n",
       "      <td>9.977019</td>\n",
       "      <td>4.858634</td>\n",
       "      <td>42.689819</td>\n",
       "      <td>68.347543</td>\n",
       "      <td>10.422762</td>\n",
       "      <td>0.883763</td>\n",
       "      <td>16.532835</td>\n",
       "      <td>2.146849</td>\n",
       "      <td>122.270188</td>\n",
       "      <td>...</td>\n",
       "      <td>14.036510</td>\n",
       "      <td>-500.857308</td>\n",
       "      <td>11.999550</td>\n",
       "      <td>-501.193686</td>\n",
       "      <td>9.970366</td>\n",
       "      <td>-499.201640</td>\n",
       "      <td>7.977324</td>\n",
       "      <td>-500.255908</td>\n",
       "      <td>14.005551</td>\n",
       "      <td>-599.996129</td>\n",
       "    </tr>\n",
       "    <tr>\n",
       "      <th>2016-01-15 04:00:00</th>\n",
       "      <td>6.148599</td>\n",
       "      <td>10.142511</td>\n",
       "      <td>4.939416</td>\n",
       "      <td>42.774141</td>\n",
       "      <td>66.927016</td>\n",
       "      <td>10.360302</td>\n",
       "      <td>0.792826</td>\n",
       "      <td>16.525686</td>\n",
       "      <td>2.055292</td>\n",
       "      <td>117.988169</td>\n",
       "      <td>...</td>\n",
       "      <td>14.027298</td>\n",
       "      <td>-499.838632</td>\n",
       "      <td>11.953070</td>\n",
       "      <td>-501.053894</td>\n",
       "      <td>9.925709</td>\n",
       "      <td>-501.686727</td>\n",
       "      <td>7.894242</td>\n",
       "      <td>-500.356035</td>\n",
       "      <td>13.996647</td>\n",
       "      <td>-601.496691</td>\n",
       "    </tr>\n",
       "  </tbody>\n",
       "</table>\n",
       "<p>5 rows × 86 columns</p>\n",
       "</div>"
      ],
      "text/plain": [
       "                     final.output.concentrate_ag  final.output.concentrate_pb  \\\n",
       "date                                                                            \n",
       "2016-01-15 00:00:00                     6.055403                     9.889648   \n",
       "2016-01-15 01:00:00                     6.029369                     9.968944   \n",
       "2016-01-15 02:00:00                     6.055926                    10.213995   \n",
       "2016-01-15 03:00:00                     6.047977                     9.977019   \n",
       "2016-01-15 04:00:00                     6.148599                    10.142511   \n",
       "\n",
       "                     final.output.concentrate_sol  \\\n",
       "date                                                \n",
       "2016-01-15 00:00:00                      5.507324   \n",
       "2016-01-15 01:00:00                      5.257781   \n",
       "2016-01-15 02:00:00                      5.383759   \n",
       "2016-01-15 03:00:00                      4.858634   \n",
       "2016-01-15 04:00:00                      4.939416   \n",
       "\n",
       "                     final.output.concentrate_au  final.output.recovery  \\\n",
       "date                                                                      \n",
       "2016-01-15 00:00:00                    42.192020              70.541216   \n",
       "2016-01-15 01:00:00                    42.701629              69.266198   \n",
       "2016-01-15 02:00:00                    42.657501              68.116445   \n",
       "2016-01-15 03:00:00                    42.689819              68.347543   \n",
       "2016-01-15 04:00:00                    42.774141              66.927016   \n",
       "\n",
       "                     final.output.tail_ag  final.output.tail_pb  \\\n",
       "date                                                              \n",
       "2016-01-15 00:00:00             10.411962              0.895447   \n",
       "2016-01-15 01:00:00             10.462676              0.927452   \n",
       "2016-01-15 02:00:00             10.507046              0.953716   \n",
       "2016-01-15 03:00:00             10.422762              0.883763   \n",
       "2016-01-15 04:00:00             10.360302              0.792826   \n",
       "\n",
       "                     final.output.tail_sol  final.output.tail_au  \\\n",
       "date                                                               \n",
       "2016-01-15 00:00:00              16.904297              2.143149   \n",
       "2016-01-15 01:00:00              16.634514              2.224930   \n",
       "2016-01-15 02:00:00              16.208849              2.257889   \n",
       "2016-01-15 03:00:00              16.532835              2.146849   \n",
       "2016-01-15 04:00:00              16.525686              2.055292   \n",
       "\n",
       "                     primary_cleaner.input.sulfate  ...  \\\n",
       "date                                                ...   \n",
       "2016-01-15 00:00:00                     127.092003  ...   \n",
       "2016-01-15 01:00:00                     125.629232  ...   \n",
       "2016-01-15 02:00:00                     123.819808  ...   \n",
       "2016-01-15 03:00:00                     122.270188  ...   \n",
       "2016-01-15 04:00:00                     117.988169  ...   \n",
       "\n",
       "                     secondary_cleaner.state.floatbank4_a_air  \\\n",
       "date                                                            \n",
       "2016-01-15 00:00:00                                 14.016835   \n",
       "2016-01-15 01:00:00                                 13.992281   \n",
       "2016-01-15 02:00:00                                 14.015015   \n",
       "2016-01-15 03:00:00                                 14.036510   \n",
       "2016-01-15 04:00:00                                 14.027298   \n",
       "\n",
       "                     secondary_cleaner.state.floatbank4_a_level  \\\n",
       "date                                                              \n",
       "2016-01-15 00:00:00                                 -502.488007   \n",
       "2016-01-15 01:00:00                                 -505.503262   \n",
       "2016-01-15 02:00:00                                 -502.520901   \n",
       "2016-01-15 03:00:00                                 -500.857308   \n",
       "2016-01-15 04:00:00                                 -499.838632   \n",
       "\n",
       "                     secondary_cleaner.state.floatbank4_b_air  \\\n",
       "date                                                            \n",
       "2016-01-15 00:00:00                                 12.099931   \n",
       "2016-01-15 01:00:00                                 11.950531   \n",
       "2016-01-15 02:00:00                                 11.912783   \n",
       "2016-01-15 03:00:00                                 11.999550   \n",
       "2016-01-15 04:00:00                                 11.953070   \n",
       "\n",
       "                     secondary_cleaner.state.floatbank4_b_level  \\\n",
       "date                                                              \n",
       "2016-01-15 00:00:00                                 -504.715942   \n",
       "2016-01-15 01:00:00                                 -501.331529   \n",
       "2016-01-15 02:00:00                                 -501.133383   \n",
       "2016-01-15 03:00:00                                 -501.193686   \n",
       "2016-01-15 04:00:00                                 -501.053894   \n",
       "\n",
       "                     secondary_cleaner.state.floatbank5_a_air  \\\n",
       "date                                                            \n",
       "2016-01-15 00:00:00                                  9.925633   \n",
       "2016-01-15 01:00:00                                 10.039245   \n",
       "2016-01-15 02:00:00                                 10.070913   \n",
       "2016-01-15 03:00:00                                  9.970366   \n",
       "2016-01-15 04:00:00                                  9.925709   \n",
       "\n",
       "                     secondary_cleaner.state.floatbank5_a_level  \\\n",
       "date                                                              \n",
       "2016-01-15 00:00:00                                 -498.310211   \n",
       "2016-01-15 01:00:00                                 -500.169983   \n",
       "2016-01-15 02:00:00                                 -500.129135   \n",
       "2016-01-15 03:00:00                                 -499.201640   \n",
       "2016-01-15 04:00:00                                 -501.686727   \n",
       "\n",
       "                     secondary_cleaner.state.floatbank5_b_air  \\\n",
       "date                                                            \n",
       "2016-01-15 00:00:00                                  8.079666   \n",
       "2016-01-15 01:00:00                                  7.984757   \n",
       "2016-01-15 02:00:00                                  8.013877   \n",
       "2016-01-15 03:00:00                                  7.977324   \n",
       "2016-01-15 04:00:00                                  7.894242   \n",
       "\n",
       "                     secondary_cleaner.state.floatbank5_b_level  \\\n",
       "date                                                              \n",
       "2016-01-15 00:00:00                                 -500.470978   \n",
       "2016-01-15 01:00:00                                 -500.582168   \n",
       "2016-01-15 02:00:00                                 -500.517572   \n",
       "2016-01-15 03:00:00                                 -500.255908   \n",
       "2016-01-15 04:00:00                                 -500.356035   \n",
       "\n",
       "                     secondary_cleaner.state.floatbank6_a_air  \\\n",
       "date                                                            \n",
       "2016-01-15 00:00:00                                 14.151341   \n",
       "2016-01-15 01:00:00                                 13.998353   \n",
       "2016-01-15 02:00:00                                 14.028663   \n",
       "2016-01-15 03:00:00                                 14.005551   \n",
       "2016-01-15 04:00:00                                 13.996647   \n",
       "\n",
       "                     secondary_cleaner.state.floatbank6_a_level  \n",
       "date                                                             \n",
       "2016-01-15 00:00:00                                 -605.841980  \n",
       "2016-01-15 01:00:00                                 -599.787184  \n",
       "2016-01-15 02:00:00                                 -601.427363  \n",
       "2016-01-15 03:00:00                                 -599.996129  \n",
       "2016-01-15 04:00:00                                 -601.496691  \n",
       "\n",
       "[5 rows x 86 columns]"
      ]
     },
     "execution_count": 55,
     "metadata": {},
     "output_type": "execute_result"
    }
   ],
   "source": [
    "full_data = full_data[(full_data['rougher.input.feed_au'] !=0) & \n",
    "         (full_data['rougher.output.concentrate_au'] !=0) &\n",
    "         (full_data['primary_cleaner.output.concentrate_au'] !=0) &\n",
    "         (full_data['final.output.concentrate_au'] != 0)]\n",
    "full_data.head()"
   ]
  },
  {
   "cell_type": "code",
   "execution_count": 56,
   "metadata": {},
   "outputs": [
    {
     "name": "stdout",
     "output_type": "stream",
     "text": [
      "<class 'pandas.core.frame.DataFrame'>\n",
      "DatetimeIndex: 5123 entries, 2016-09-01 00:59:59 to 2017-12-31 23:59:59\n",
      "Data columns (total 86 columns):\n",
      " #   Column                                              Non-Null Count  Dtype  \n",
      "---  ------                                              --------------  -----  \n",
      " 0   final.output.concentrate_ag                         5123 non-null   float64\n",
      " 1   final.output.concentrate_pb                         5123 non-null   float64\n",
      " 2   final.output.concentrate_sol                        5123 non-null   float64\n",
      " 3   final.output.concentrate_au                         5123 non-null   float64\n",
      " 4   final.output.recovery                               5123 non-null   float64\n",
      " 5   final.output.tail_ag                                5123 non-null   float64\n",
      " 6   final.output.tail_pb                                5123 non-null   float64\n",
      " 7   final.output.tail_sol                               5123 non-null   float64\n",
      " 8   final.output.tail_au                                5123 non-null   float64\n",
      " 9   primary_cleaner.input.sulfate                       5123 non-null   float64\n",
      " 10  primary_cleaner.input.depressant                    5123 non-null   float64\n",
      " 11  primary_cleaner.input.feed_size                     5123 non-null   float64\n",
      " 12  primary_cleaner.input.xanthate                      5123 non-null   float64\n",
      " 13  primary_cleaner.output.concentrate_ag               5123 non-null   float64\n",
      " 14  primary_cleaner.output.concentrate_pb               5123 non-null   float64\n",
      " 15  primary_cleaner.output.concentrate_sol              5123 non-null   float64\n",
      " 16  primary_cleaner.output.concentrate_au               5123 non-null   float64\n",
      " 17  primary_cleaner.output.tail_ag                      5123 non-null   float64\n",
      " 18  primary_cleaner.output.tail_pb                      5123 non-null   float64\n",
      " 19  primary_cleaner.output.tail_sol                     5123 non-null   float64\n",
      " 20  primary_cleaner.output.tail_au                      5123 non-null   float64\n",
      " 21  primary_cleaner.state.floatbank8_a_air              5123 non-null   float64\n",
      " 22  primary_cleaner.state.floatbank8_a_level            5123 non-null   float64\n",
      " 23  primary_cleaner.state.floatbank8_b_air              5123 non-null   float64\n",
      " 24  primary_cleaner.state.floatbank8_b_level            5123 non-null   float64\n",
      " 25  primary_cleaner.state.floatbank8_c_air              5123 non-null   float64\n",
      " 26  primary_cleaner.state.floatbank8_c_level            5123 non-null   float64\n",
      " 27  primary_cleaner.state.floatbank8_d_air              5123 non-null   float64\n",
      " 28  primary_cleaner.state.floatbank8_d_level            5123 non-null   float64\n",
      " 29  rougher.calculation.sulfate_to_au_concentrate       5123 non-null   float64\n",
      " 30  rougher.calculation.floatbank10_sulfate_to_au_feed  5123 non-null   float64\n",
      " 31  rougher.calculation.floatbank11_sulfate_to_au_feed  5123 non-null   float64\n",
      " 32  rougher.calculation.au_pb_ratio                     5123 non-null   float64\n",
      " 33  rougher.input.feed_ag                               5123 non-null   float64\n",
      " 34  rougher.input.feed_pb                               5123 non-null   float64\n",
      " 35  rougher.input.feed_rate                             5123 non-null   float64\n",
      " 36  rougher.input.feed_size                             5123 non-null   float64\n",
      " 37  rougher.input.feed_sol                              5123 non-null   float64\n",
      " 38  rougher.input.feed_au                               5123 non-null   float64\n",
      " 39  rougher.input.floatbank10_sulfate                   5123 non-null   float64\n",
      " 40  rougher.input.floatbank10_xanthate                  5123 non-null   float64\n",
      " 41  rougher.input.floatbank11_sulfate                   5123 non-null   float64\n",
      " 42  rougher.input.floatbank11_xanthate                  5123 non-null   float64\n",
      " 43  rougher.output.concentrate_ag                       5123 non-null   float64\n",
      " 44  rougher.output.concentrate_pb                       5123 non-null   float64\n",
      " 45  rougher.output.concentrate_sol                      5123 non-null   float64\n",
      " 46  rougher.output.concentrate_au                       5123 non-null   float64\n",
      " 47  rougher.output.recovery                             5123 non-null   float64\n",
      " 48  rougher.output.tail_ag                              5123 non-null   float64\n",
      " 49  rougher.output.tail_pb                              5123 non-null   float64\n",
      " 50  rougher.output.tail_sol                             5123 non-null   float64\n",
      " 51  rougher.output.tail_au                              5123 non-null   float64\n",
      " 52  rougher.state.floatbank10_a_air                     5123 non-null   float64\n",
      " 53  rougher.state.floatbank10_a_level                   5123 non-null   float64\n",
      " 54  rougher.state.floatbank10_b_air                     5123 non-null   float64\n",
      " 55  rougher.state.floatbank10_b_level                   5123 non-null   float64\n",
      " 56  rougher.state.floatbank10_c_air                     5123 non-null   float64\n",
      " 57  rougher.state.floatbank10_c_level                   5123 non-null   float64\n",
      " 58  rougher.state.floatbank10_d_air                     5123 non-null   float64\n",
      " 59  rougher.state.floatbank10_d_level                   5123 non-null   float64\n",
      " 60  rougher.state.floatbank10_e_air                     5123 non-null   float64\n",
      " 61  rougher.state.floatbank10_e_level                   5123 non-null   float64\n",
      " 62  rougher.state.floatbank10_f_air                     5123 non-null   float64\n",
      " 63  rougher.state.floatbank10_f_level                   5123 non-null   float64\n",
      " 64  secondary_cleaner.output.tail_ag                    5123 non-null   float64\n",
      " 65  secondary_cleaner.output.tail_pb                    5123 non-null   float64\n",
      " 66  secondary_cleaner.output.tail_sol                   5123 non-null   float64\n",
      " 67  secondary_cleaner.output.tail_au                    5123 non-null   float64\n",
      " 68  secondary_cleaner.state.floatbank2_a_air            5123 non-null   float64\n",
      " 69  secondary_cleaner.state.floatbank2_a_level          5123 non-null   float64\n",
      " 70  secondary_cleaner.state.floatbank2_b_air            5123 non-null   float64\n",
      " 71  secondary_cleaner.state.floatbank2_b_level          5123 non-null   float64\n",
      " 72  secondary_cleaner.state.floatbank3_a_air            5123 non-null   float64\n",
      " 73  secondary_cleaner.state.floatbank3_a_level          5123 non-null   float64\n",
      " 74  secondary_cleaner.state.floatbank3_b_air            5123 non-null   float64\n",
      " 75  secondary_cleaner.state.floatbank3_b_level          5123 non-null   float64\n",
      " 76  secondary_cleaner.state.floatbank4_a_air            5123 non-null   float64\n",
      " 77  secondary_cleaner.state.floatbank4_a_level          5123 non-null   float64\n",
      " 78  secondary_cleaner.state.floatbank4_b_air            5123 non-null   float64\n",
      " 79  secondary_cleaner.state.floatbank4_b_level          5123 non-null   float64\n",
      " 80  secondary_cleaner.state.floatbank5_a_air            5123 non-null   float64\n",
      " 81  secondary_cleaner.state.floatbank5_a_level          5123 non-null   float64\n",
      " 82  secondary_cleaner.state.floatbank5_b_air            5123 non-null   float64\n",
      " 83  secondary_cleaner.state.floatbank5_b_level          5123 non-null   float64\n",
      " 84  secondary_cleaner.state.floatbank6_a_air            5123 non-null   float64\n",
      " 85  secondary_cleaner.state.floatbank6_a_level          5123 non-null   float64\n",
      "dtypes: float64(86)\n",
      "memory usage: 3.4 MB\n"
     ]
    }
   ],
   "source": [
    "data_test_full = pd.DataFrame(data=full_data, index=test_data.index)\n",
    "data_test_full.dropna(inplace=True)\n",
    "data_test_full.info()"
   ]
  },
  {
   "cell_type": "markdown",
   "metadata": {},
   "source": [
    "Назначим целевые признаки в data_test_target"
   ]
  },
  {
   "cell_type": "code",
   "execution_count": 57,
   "metadata": {},
   "outputs": [
    {
     "name": "stdout",
     "output_type": "stream",
     "text": [
      "<class 'pandas.core.frame.DataFrame'>\n",
      "DatetimeIndex: 5123 entries, 2016-09-01 00:59:59 to 2017-12-31 23:59:59\n",
      "Data columns (total 2 columns):\n",
      " #   Column                   Non-Null Count  Dtype  \n",
      "---  ------                   --------------  -----  \n",
      " 0   rougher.output.recovery  5123 non-null   float64\n",
      " 1   final.output.recovery    5123 non-null   float64\n",
      "dtypes: float64(2)\n",
      "memory usage: 120.1 KB\n"
     ]
    }
   ],
   "source": [
    "data_test_target = data_test_full.loc[:, ['rougher.output.recovery', 'final.output.recovery']]\n",
    "data_test_target.info()"
   ]
  },
  {
   "cell_type": "markdown",
   "metadata": {},
   "source": [
    "Так как в features и target размеры ДатаФреймов разные из за 0 значений, приведем к одной размерности, используя индексы df_test_full.index"
   ]
  },
  {
   "cell_type": "code",
   "execution_count": 58,
   "metadata": {},
   "outputs": [],
   "source": [
    "data_test_rougher_features = pd.DataFrame(data=data_test_rougher_features, index=data_test_full.index)\n",
    "data_test_final_features = pd.DataFrame(data=data_test_final_features, index=data_test_full.index)"
   ]
  },
  {
   "cell_type": "code",
   "execution_count": 59,
   "metadata": {},
   "outputs": [
    {
     "name": "stdout",
     "output_type": "stream",
     "text": [
      "<class 'pandas.core.frame.DataFrame'>\n",
      "DatetimeIndex: 5123 entries, 2016-09-01 00:59:59 to 2017-12-31 23:59:59\n",
      "Data columns (total 22 columns):\n",
      " #   Column                              Non-Null Count  Dtype  \n",
      "---  ------                              --------------  -----  \n",
      " 0   rougher.input.feed_ag               5123 non-null   float64\n",
      " 1   rougher.input.feed_pb               5123 non-null   float64\n",
      " 2   rougher.input.feed_rate             5123 non-null   float64\n",
      " 3   rougher.input.feed_size             5123 non-null   float64\n",
      " 4   rougher.input.feed_sol              5123 non-null   float64\n",
      " 5   rougher.input.feed_au               5123 non-null   float64\n",
      " 6   rougher.input.floatbank10_sulfate   5123 non-null   float64\n",
      " 7   rougher.input.floatbank10_xanthate  5123 non-null   float64\n",
      " 8   rougher.input.floatbank11_sulfate   5123 non-null   float64\n",
      " 9   rougher.input.floatbank11_xanthate  5123 non-null   float64\n",
      " 10  rougher.state.floatbank10_a_air     5123 non-null   float64\n",
      " 11  rougher.state.floatbank10_a_level   5123 non-null   float64\n",
      " 12  rougher.state.floatbank10_b_air     5123 non-null   float64\n",
      " 13  rougher.state.floatbank10_b_level   5123 non-null   float64\n",
      " 14  rougher.state.floatbank10_c_air     5123 non-null   float64\n",
      " 15  rougher.state.floatbank10_c_level   5123 non-null   float64\n",
      " 16  rougher.state.floatbank10_d_air     5123 non-null   float64\n",
      " 17  rougher.state.floatbank10_d_level   5123 non-null   float64\n",
      " 18  rougher.state.floatbank10_e_air     5123 non-null   float64\n",
      " 19  rougher.state.floatbank10_e_level   5123 non-null   float64\n",
      " 20  rougher.state.floatbank10_f_air     5123 non-null   float64\n",
      " 21  rougher.state.floatbank10_f_level   5123 non-null   float64\n",
      "dtypes: float64(22)\n",
      "memory usage: 920.5 KB\n"
     ]
    }
   ],
   "source": [
    "data_test_rougher_features.info()"
   ]
  },
  {
   "cell_type": "code",
   "execution_count": 60,
   "metadata": {},
   "outputs": [
    {
     "name": "stdout",
     "output_type": "stream",
     "text": [
      "<class 'pandas.core.frame.DataFrame'>\n",
      "DatetimeIndex: 5123 entries, 2016-09-01 00:59:59 to 2017-12-31 23:59:59\n",
      "Data columns (total 30 columns):\n",
      " #   Column                                      Non-Null Count  Dtype  \n",
      "---  ------                                      --------------  -----  \n",
      " 0   secondary_cleaner.state.floatbank3_a_level  5123 non-null   float64\n",
      " 1   primary_cleaner.state.floatbank8_d_air      5123 non-null   float64\n",
      " 2   primary_cleaner.input.feed_size             5123 non-null   float64\n",
      " 3   primary_cleaner.input.sulfate               5123 non-null   float64\n",
      " 4   secondary_cleaner.state.floatbank3_b_level  5123 non-null   float64\n",
      " 5   secondary_cleaner.state.floatbank5_a_air    5123 non-null   float64\n",
      " 6   secondary_cleaner.state.floatbank5_b_air    5123 non-null   float64\n",
      " 7   secondary_cleaner.state.floatbank2_a_air    5123 non-null   float64\n",
      " 8   secondary_cleaner.state.floatbank6_a_level  5123 non-null   float64\n",
      " 9   secondary_cleaner.state.floatbank2_b_air    5123 non-null   float64\n",
      " 10  primary_cleaner.input.xanthate              5123 non-null   float64\n",
      " 11  primary_cleaner.state.floatbank8_d_level    5123 non-null   float64\n",
      " 12  secondary_cleaner.state.floatbank4_a_air    5123 non-null   float64\n",
      " 13  primary_cleaner.state.floatbank8_b_air      5123 non-null   float64\n",
      " 14  secondary_cleaner.state.floatbank3_b_air    5123 non-null   float64\n",
      " 15  secondary_cleaner.state.floatbank5_b_level  5123 non-null   float64\n",
      " 16  secondary_cleaner.state.floatbank2_a_level  5123 non-null   float64\n",
      " 17  primary_cleaner.state.floatbank8_b_level    5123 non-null   float64\n",
      " 18  secondary_cleaner.state.floatbank4_b_level  5123 non-null   float64\n",
      " 19  secondary_cleaner.state.floatbank3_a_air    5123 non-null   float64\n",
      " 20  primary_cleaner.state.floatbank8_c_air      5123 non-null   float64\n",
      " 21  secondary_cleaner.state.floatbank6_a_air    5123 non-null   float64\n",
      " 22  secondary_cleaner.state.floatbank5_a_level  5123 non-null   float64\n",
      " 23  primary_cleaner.state.floatbank8_a_air      5123 non-null   float64\n",
      " 24  primary_cleaner.state.floatbank8_c_level    5123 non-null   float64\n",
      " 25  secondary_cleaner.state.floatbank2_b_level  5123 non-null   float64\n",
      " 26  primary_cleaner.input.depressant            5123 non-null   float64\n",
      " 27  secondary_cleaner.state.floatbank4_b_air    5123 non-null   float64\n",
      " 28  secondary_cleaner.state.floatbank4_a_level  5123 non-null   float64\n",
      " 29  primary_cleaner.state.floatbank8_a_level    5123 non-null   float64\n",
      "dtypes: float64(30)\n",
      "memory usage: 1.2 MB\n"
     ]
    }
   ],
   "source": [
    "data_test_final_features.info()"
   ]
  },
  {
   "cell_type": "markdown",
   "metadata": {},
   "source": [
    "\n",
    "\n",
    "- Выяснили, как меняется концентрация металлов (Au, Ag, Pb) на различных этапах очистки: с каждым этапом увеличивается концентрация золата и свинца, так же можно заметить уменьшение концентрации серебра\n",
    "- Сравнили распределения размеров гранул сырья на обучающей и тестовой выборках. Размеры гранул сырья на обучающей и тестовой выборках не сильно отличаются друг от друга, что не окажет существенного влияния на построение модели\n",
    "- Исследовали суммарную концентрацию всех веществ на разных стадиях: в сырье, в черновом и финальном концентратах. На каждом этапе выявили аномальные значения 0 и исключили эти значения, так как они могли повлиять на обучение модели"
   ]
  },
  {
   "cell_type": "markdown",
   "metadata": {},
   "source": [
    "## Модель"
   ]
  },
  {
   "cell_type": "markdown",
   "metadata": {},
   "source": [
    "Напишем функцию для масштабирования признаков"
   ]
  },
  {
   "cell_type": "code",
   "execution_count": 61,
   "metadata": {},
   "outputs": [],
   "source": [
    "def to_StandardScaler(data):\n",
    "    sc = StandardScaler()\n",
    "    data = sc.fit_transform(data)\n",
    "    return data"
   ]
  },
  {
   "cell_type": "code",
   "execution_count": 62,
   "metadata": {},
   "outputs": [],
   "source": [
    "data_train_rougher_features = to_StandardScaler(data_train_rougher_features)\n",
    "data_train_final_features = to_StandardScaler(data_train_rougher_features)\n",
    "\n",
    "data_test_rougher_features = to_StandardScaler(data_test_rougher_features)\n",
    "data_test_final_features = to_StandardScaler(data_test_final_features)"
   ]
  },
  {
   "cell_type": "markdown",
   "metadata": {},
   "source": [
    "Признаки:\n",
    "- data_train_rougher_features\n",
    "- data_train_final_features\n",
    "- data_test_rougher_features\n",
    "- data_test_final_features\n",
    "\n",
    "Целевые признаки:\n",
    "- data_train_target['rougher.output.recovery']\n",
    "- data_train_target['final.output.recovery']\n",
    "- data_test_target['rougher.output.recovery']\n",
    "- data_test_target['final.output.recovery']"
   ]
  },
  {
   "cell_type": "markdown",
   "metadata": {},
   "source": [
    "Объявим переменные для моделей:"
   ]
  },
  {
   "cell_type": "code",
   "execution_count": 63,
   "metadata": {},
   "outputs": [],
   "source": [
    "linear_model = LinearRegression()\n",
    "decision_tree_model = DecisionTreeRegressor(random_state=12345)\n",
    "random_forest_model = RandomForestRegressor(random_state=12345)"
   ]
  },
  {
   "cell_type": "markdown",
   "metadata": {},
   "source": [
    "Для подбора гиперпараметров будем использовать GridSearchCV, для кросс-валидации при подборе гиперпараметров - ShuffleSplit"
   ]
  },
  {
   "cell_type": "code",
   "execution_count": 64,
   "metadata": {},
   "outputs": [
    {
     "data": {
      "text/plain": [
       "dict_keys(['criterion', 'max_depth', 'max_features', 'max_leaf_nodes', 'min_impurity_decrease', 'min_impurity_split', 'min_samples_leaf', 'min_samples_split', 'min_weight_fraction_leaf', 'presort', 'random_state', 'splitter'])"
      ]
     },
     "execution_count": 64,
     "metadata": {},
     "output_type": "execute_result"
    }
   ],
   "source": [
    "decision_tree_model.get_params().keys()"
   ]
  },
  {
   "cell_type": "markdown",
   "metadata": {},
   "source": [
    "Создадим словарь гиперпараметров для решающего дерева:"
   ]
  },
  {
   "cell_type": "code",
   "execution_count": 65,
   "metadata": {},
   "outputs": [],
   "source": [
    "parameters_grid = {\n",
    "    'max_depth' : range(1,6),\n",
    "    'min_samples_leaf': range(2,6),\n",
    "    'min_samples_split': range(2,6)}"
   ]
  },
  {
   "cell_type": "markdown",
   "metadata": {},
   "source": [
    "Стратегия кросс-валидации для подбора параметров:"
   ]
  },
  {
   "cell_type": "code",
   "execution_count": 66,
   "metadata": {},
   "outputs": [],
   "source": [
    "cv = ShuffleSplit(n_splits=3, test_size=0.2, random_state=0)"
   ]
  },
  {
   "cell_type": "markdown",
   "metadata": {},
   "source": [
    "Импортируем make_scorer и напишем собственный оценщик sMAPE:"
   ]
  },
  {
   "cell_type": "code",
   "execution_count": 67,
   "metadata": {},
   "outputs": [],
   "source": [
    "from sklearn.metrics import make_scorer"
   ]
  },
  {
   "cell_type": "code",
   "execution_count": 68,
   "metadata": {},
   "outputs": [],
   "source": [
    "def sMAPE(predict, target):\n",
    "    sMAPE = (abs(target - predict) / ((abs(target) + abs(predict)) / 2)).mean() * 100\n",
    "    return sMAPE\n",
    "\n",
    "score = make_scorer(sMAPE, greater_is_better=False)"
   ]
  },
  {
   "cell_type": "code",
   "execution_count": 69,
   "metadata": {},
   "outputs": [],
   "source": [
    "grid_cv = GridSearchCV(decision_tree_model, parameters_grid, scoring=score, cv=cv)"
   ]
  },
  {
   "cell_type": "markdown",
   "metadata": {},
   "source": [
    "Запустим подбор параметров для rougher_features:"
   ]
  },
  {
   "cell_type": "code",
   "execution_count": 70,
   "metadata": {},
   "outputs": [
    {
     "name": "stdout",
     "output_type": "stream",
     "text": [
      "CPU times: user 17.5 s, sys: 0 ns, total: 17.5 s\n",
      "Wall time: 18 s\n"
     ]
    },
    {
     "data": {
      "text/plain": [
       "GridSearchCV(cv=ShuffleSplit(n_splits=3, random_state=0, test_size=0.2, train_size=None),\n",
       "             error_score='raise-deprecating',\n",
       "             estimator=DecisionTreeRegressor(criterion='mse', max_depth=None,\n",
       "                                             max_features=None,\n",
       "                                             max_leaf_nodes=None,\n",
       "                                             min_impurity_decrease=0.0,\n",
       "                                             min_impurity_split=None,\n",
       "                                             min_samples_leaf=1,\n",
       "                                             min_samples_split=2,\n",
       "                                             min_weight_fraction_leaf=0.0,\n",
       "                                             presort=False, random_state=12345,\n",
       "                                             splitter='best'),\n",
       "             iid='warn', n_jobs=None,\n",
       "             param_grid={'max_depth': range(1, 6),\n",
       "                         'min_samples_leaf': range(2, 6),\n",
       "                         'min_samples_split': range(2, 6)},\n",
       "             pre_dispatch='2*n_jobs', refit=True, return_train_score=False,\n",
       "             scoring=make_scorer(sMAPE, greater_is_better=False), verbose=0)"
      ]
     },
     "execution_count": 70,
     "metadata": {},
     "output_type": "execute_result"
    }
   ],
   "source": [
    "%%time\n",
    "grid_cv.fit(data_train_rougher_features, data_train_target['rougher.output.recovery'])"
   ]
  },
  {
   "cell_type": "code",
   "execution_count": 71,
   "metadata": {},
   "outputs": [
    {
     "data": {
      "text/plain": [
       "DecisionTreeRegressor(criterion='mse', max_depth=5, max_features=None,\n",
       "                      max_leaf_nodes=None, min_impurity_decrease=0.0,\n",
       "                      min_impurity_split=None, min_samples_leaf=5,\n",
       "                      min_samples_split=2, min_weight_fraction_leaf=0.0,\n",
       "                      presort=False, random_state=12345, splitter='best')"
      ]
     },
     "execution_count": 71,
     "metadata": {},
     "output_type": "execute_result"
    }
   ],
   "source": [
    "grid_cv.best_estimator_"
   ]
  },
  {
   "cell_type": "markdown",
   "metadata": {},
   "source": [
    "Выведем лучшую оценку и параметры ее достижения:"
   ]
  },
  {
   "cell_type": "code",
   "execution_count": 72,
   "metadata": {},
   "outputs": [
    {
     "name": "stdout",
     "output_type": "stream",
     "text": [
      "-4.882760025713203\n",
      "{'max_depth': 5, 'min_samples_leaf': 5, 'min_samples_split': 2}\n"
     ]
    }
   ],
   "source": [
    "print(grid_cv.best_score_)\n",
    "print(grid_cv.best_params_)"
   ]
  },
  {
   "cell_type": "markdown",
   "metadata": {},
   "source": [
    "Сделаем тоже самое для final_features:"
   ]
  },
  {
   "cell_type": "code",
   "execution_count": 73,
   "metadata": {},
   "outputs": [
    {
     "name": "stdout",
     "output_type": "stream",
     "text": [
      "CPU times: user 17.6 s, sys: 16.6 ms, total: 17.7 s\n",
      "Wall time: 17.8 s\n"
     ]
    },
    {
     "data": {
      "text/plain": [
       "GridSearchCV(cv=ShuffleSplit(n_splits=3, random_state=0, test_size=0.2, train_size=None),\n",
       "             error_score='raise-deprecating',\n",
       "             estimator=DecisionTreeRegressor(criterion='mse', max_depth=None,\n",
       "                                             max_features=None,\n",
       "                                             max_leaf_nodes=None,\n",
       "                                             min_impurity_decrease=0.0,\n",
       "                                             min_impurity_split=None,\n",
       "                                             min_samples_leaf=1,\n",
       "                                             min_samples_split=2,\n",
       "                                             min_weight_fraction_leaf=0.0,\n",
       "                                             presort=False, random_state=12345,\n",
       "                                             splitter='best'),\n",
       "             iid='warn', n_jobs=None,\n",
       "             param_grid={'max_depth': range(1, 6),\n",
       "                         'min_samples_leaf': range(2, 6),\n",
       "                         'min_samples_split': range(2, 6)},\n",
       "             pre_dispatch='2*n_jobs', refit=True, return_train_score=False,\n",
       "             scoring=make_scorer(sMAPE, greater_is_better=False), verbose=0)"
      ]
     },
     "execution_count": 73,
     "metadata": {},
     "output_type": "execute_result"
    }
   ],
   "source": [
    "%%time\n",
    "grid_cv.fit(data_train_final_features, data_train_target['final.output.recovery'])"
   ]
  },
  {
   "cell_type": "code",
   "execution_count": 74,
   "metadata": {},
   "outputs": [
    {
     "name": "stdout",
     "output_type": "stream",
     "text": [
      "-8.225603346335106\n",
      "{'max_depth': 5, 'min_samples_leaf': 2, 'min_samples_split': 2}\n"
     ]
    }
   ],
   "source": [
    "print(grid_cv.best_score_)\n",
    "print(grid_cv.best_params_)"
   ]
  },
  {
   "cell_type": "markdown",
   "metadata": {},
   "source": [
    "Теперь аналогично для RandomForestRegressor: "
   ]
  },
  {
   "cell_type": "code",
   "execution_count": 75,
   "metadata": {},
   "outputs": [],
   "source": [
    "random_forest_model = RandomForestRegressor(random_state=12345)"
   ]
  },
  {
   "cell_type": "code",
   "execution_count": 76,
   "metadata": {},
   "outputs": [
    {
     "data": {
      "text/plain": [
       "dict_keys(['bootstrap', 'criterion', 'max_depth', 'max_features', 'max_leaf_nodes', 'min_impurity_decrease', 'min_impurity_split', 'min_samples_leaf', 'min_samples_split', 'min_weight_fraction_leaf', 'n_estimators', 'n_jobs', 'oob_score', 'random_state', 'verbose', 'warm_start'])"
      ]
     },
     "execution_count": 76,
     "metadata": {},
     "output_type": "execute_result"
    }
   ],
   "source": [
    "random_forest_model.get_params().keys()"
   ]
  },
  {
   "cell_type": "code",
   "execution_count": 77,
   "metadata": {},
   "outputs": [],
   "source": [
    "parameters_grid = {\n",
    "    'n_estimators' : range(5, 101, 5),\n",
    "    'max_depth' : range(1, 6)}"
   ]
  },
  {
   "cell_type": "code",
   "execution_count": 78,
   "metadata": {},
   "outputs": [],
   "source": [
    "grid_cv = GridSearchCV(random_forest_model, parameters_grid, scoring=score, cv=cv)"
   ]
  },
  {
   "cell_type": "code",
   "execution_count": 79,
   "metadata": {},
   "outputs": [
    {
     "name": "stdout",
     "output_type": "stream",
     "text": [
      "CPU times: user 11min 13s, sys: 622 ms, total: 11min 14s\n",
      "Wall time: 11min 31s\n"
     ]
    },
    {
     "data": {
      "text/plain": [
       "GridSearchCV(cv=ShuffleSplit(n_splits=3, random_state=0, test_size=0.2, train_size=None),\n",
       "             error_score='raise-deprecating',\n",
       "             estimator=RandomForestRegressor(bootstrap=True, criterion='mse',\n",
       "                                             max_depth=None,\n",
       "                                             max_features='auto',\n",
       "                                             max_leaf_nodes=None,\n",
       "                                             min_impurity_decrease=0.0,\n",
       "                                             min_impurity_split=None,\n",
       "                                             min_samples_leaf=1,\n",
       "                                             min_samples_split=2,\n",
       "                                             min_weight_fraction_leaf=0.0,\n",
       "                                             n_estimators='warn', n_jobs=None,\n",
       "                                             oob_score=False,\n",
       "                                             random_state=12345, verbose=0,\n",
       "                                             warm_start=False),\n",
       "             iid='warn', n_jobs=None,\n",
       "             param_grid={'max_depth': range(1, 6),\n",
       "                         'n_estimators': range(5, 101, 5)},\n",
       "             pre_dispatch='2*n_jobs', refit=True, return_train_score=False,\n",
       "             scoring=make_scorer(sMAPE, greater_is_better=False), verbose=0)"
      ]
     },
     "execution_count": 79,
     "metadata": {},
     "output_type": "execute_result"
    }
   ],
   "source": [
    "%%time\n",
    "grid_cv.fit(data_train_rougher_features, data_train_target['rougher.output.recovery'])"
   ]
  },
  {
   "cell_type": "code",
   "execution_count": 80,
   "metadata": {},
   "outputs": [
    {
     "name": "stdout",
     "output_type": "stream",
     "text": [
      "-4.5973567122386845\n",
      "{'max_depth': 5, 'n_estimators': 95}\n"
     ]
    }
   ],
   "source": [
    "print(grid_cv.best_score_)\n",
    "print(grid_cv.best_params_)"
   ]
  },
  {
   "cell_type": "code",
   "execution_count": 81,
   "metadata": {},
   "outputs": [
    {
     "name": "stdout",
     "output_type": "stream",
     "text": [
      "CPU times: user 11min 55s, sys: 732 ms, total: 11min 55s\n",
      "Wall time: 13min 31s\n"
     ]
    },
    {
     "data": {
      "text/plain": [
       "GridSearchCV(cv=ShuffleSplit(n_splits=3, random_state=0, test_size=0.2, train_size=None),\n",
       "             error_score='raise-deprecating',\n",
       "             estimator=RandomForestRegressor(bootstrap=True, criterion='mse',\n",
       "                                             max_depth=None,\n",
       "                                             max_features='auto',\n",
       "                                             max_leaf_nodes=None,\n",
       "                                             min_impurity_decrease=0.0,\n",
       "                                             min_impurity_split=None,\n",
       "                                             min_samples_leaf=1,\n",
       "                                             min_samples_split=2,\n",
       "                                             min_weight_fraction_leaf=0.0,\n",
       "                                             n_estimators='warn', n_jobs=None,\n",
       "                                             oob_score=False,\n",
       "                                             random_state=12345, verbose=0,\n",
       "                                             warm_start=False),\n",
       "             iid='warn', n_jobs=None,\n",
       "             param_grid={'max_depth': range(1, 6),\n",
       "                         'n_estimators': range(5, 101, 5)},\n",
       "             pre_dispatch='2*n_jobs', refit=True, return_train_score=False,\n",
       "             scoring=make_scorer(sMAPE, greater_is_better=False), verbose=0)"
      ]
     },
     "execution_count": 81,
     "metadata": {},
     "output_type": "execute_result"
    }
   ],
   "source": [
    "%%time\n",
    "grid_cv.fit(data_train_final_features, data_train_target['final.output.recovery'])"
   ]
  },
  {
   "cell_type": "code",
   "execution_count": 82,
   "metadata": {},
   "outputs": [
    {
     "name": "stdout",
     "output_type": "stream",
     "text": [
      "-7.839603104129941\n",
      "{'max_depth': 5, 'n_estimators': 75}\n"
     ]
    }
   ],
   "source": [
    "print(grid_cv.best_score_)\n",
    "print(grid_cv.best_params_)"
   ]
  },
  {
   "cell_type": "markdown",
   "metadata": {},
   "source": [
    "Полученные значения гиперпараметров будем использовать для моделей для вычисления итоговой метрики sMAPE. Напишем функцию для расчета sMAPE:"
   ]
  },
  {
   "cell_type": "code",
   "execution_count": 83,
   "metadata": {},
   "outputs": [],
   "source": [
    "def sMAPE(predict, target):\n",
    "    sMAPE = (abs(target - predict) / ((abs(target) + abs(predict)) / 2)).mean() * 100\n",
    "    return sMAPE"
   ]
  },
  {
   "cell_type": "markdown",
   "metadata": {},
   "source": [
    "Напишем 2 функции:\n",
    "\n",
    "- train_sMAPE() - для проверки на обучающей выборке\n",
    "- test_sMAPE() - для проверки лучшей модели на тестовой выборке"
   ]
  },
  {
   "cell_type": "code",
   "execution_count": 84,
   "metadata": {},
   "outputs": [],
   "source": [
    "def train_sMAPE(model):\n",
    "    rouger_predict = cross_val_predict(model, data_train_rougher_features, data_train_target['rougher.output.recovery'], cv=3)\n",
    "    final_predict = cross_val_predict(model, data_train_final_features, data_train_target['final.output.recovery'], cv=3)\n",
    "    \n",
    "    rouger_sMAPE = sMAPE(rouger_predict, data_train_target['rougher.output.recovery'])\n",
    "    final_sMAPE = sMAPE(final_predict, data_train_target['final.output.recovery'])\n",
    "    total_sMAPE = 0.25 * rouger_sMAPE + 0.75 * final_sMAPE\n",
    "    \n",
    "    print('sMAPE для rougher.output.recovery:', rouger_sMAPE)\n",
    "    print('sMAPE для final.output.recovery:', final_sMAPE)\n",
    "    print('Итоговое sMAPE:', total_sMAPE)\n",
    "    return"
   ]
  },
  {
   "cell_type": "code",
   "execution_count": 85,
   "metadata": {},
   "outputs": [],
   "source": [
    "def test_sMAPE(model):\n",
    "    model.fit(data_test_rougher_features, data_test_target['rougher.output.recovery'])\n",
    "    rouger_predict = model.predict(data_test_rougher_features)\n",
    "    \n",
    "    model.fit(data_test_final_features, data_test_target['final.output.recovery'])\n",
    "    final_predict = model.predict(data_test_final_features)\n",
    "    \n",
    "    rouger_sMAPE = sMAPE(rouger_predict, data_test_target['rougher.output.recovery'])\n",
    "    final_sMAPE = sMAPE(final_predict, data_test_target['final.output.recovery'])\n",
    "    total_sMAPE = 0.25 * rouger_sMAPE + 0.75 * final_sMAPE\n",
    "    \n",
    "    print('sMAPE для rougher.output.recovery: {:.2f} %'.format(rouger_sMAPE))\n",
    "    print('sMAPE для final.output.recovery: {:.2f} %'.format(final_sMAPE))\n",
    "    print('Итоговое sMAPE: {:.2f} %'.format(total_sMAPE))\n",
    "    return rouger_predict, final_predict"
   ]
  },
  {
   "cell_type": "markdown",
   "metadata": {},
   "source": [
    "Для LinearRegression( ):"
   ]
  },
  {
   "cell_type": "code",
   "execution_count": 86,
   "metadata": {},
   "outputs": [
    {
     "name": "stdout",
     "output_type": "stream",
     "text": [
      "sMAPE для rougher.output.recovery: 9.008842290513764\n",
      "sMAPE для final.output.recovery: 11.754270362621826\n",
      "Итоговое sMAPE: 11.06791334459481\n"
     ]
    }
   ],
   "source": [
    "train_sMAPE(linear_model)"
   ]
  },
  {
   "cell_type": "markdown",
   "metadata": {},
   "source": [
    "для DecisionTreeRegressor( ):"
   ]
  },
  {
   "cell_type": "code",
   "execution_count": 87,
   "metadata": {},
   "outputs": [],
   "source": [
    "decision_tree_model = DecisionTreeRegressor(max_depth=5, min_samples_leaf=5,min_samples_split=2, random_state=12345)"
   ]
  },
  {
   "cell_type": "code",
   "execution_count": 88,
   "metadata": {},
   "outputs": [
    {
     "name": "stdout",
     "output_type": "stream",
     "text": [
      "sMAPE для rougher.output.recovery: 8.460857065170252\n",
      "sMAPE для final.output.recovery: 10.621778524097861\n",
      "Итоговое sMAPE: 10.081548159365958\n"
     ]
    }
   ],
   "source": [
    "train_sMAPE(decision_tree_model)"
   ]
  },
  {
   "cell_type": "markdown",
   "metadata": {},
   "source": [
    "Для RandomForestRegressor( ):"
   ]
  },
  {
   "cell_type": "code",
   "execution_count": 89,
   "metadata": {},
   "outputs": [],
   "source": [
    "random_forest_model_1 = RandomForestRegressor(max_depth=5, n_estimators=60, random_state=12345)"
   ]
  },
  {
   "cell_type": "code",
   "execution_count": 90,
   "metadata": {},
   "outputs": [
    {
     "name": "stdout",
     "output_type": "stream",
     "text": [
      "sMAPE для rougher.output.recovery: 7.6767869760798995\n",
      "sMAPE для final.output.recovery: 10.417708087412858\n",
      "Итоговое sMAPE: 9.732477809579619\n"
     ]
    }
   ],
   "source": [
    "train_sMAPE(random_forest_model_1)"
   ]
  },
  {
   "cell_type": "code",
   "execution_count": 91,
   "metadata": {},
   "outputs": [],
   "source": [
    "random_forest_model_2 = RandomForestRegressor(max_depth=5, n_estimators=75, random_state=12345)"
   ]
  },
  {
   "cell_type": "code",
   "execution_count": 92,
   "metadata": {},
   "outputs": [
    {
     "name": "stdout",
     "output_type": "stream",
     "text": [
      "sMAPE для rougher.output.recovery: 7.661864142310068\n",
      "sMAPE для final.output.recovery: 10.419449048733552\n",
      "Итоговое sMAPE: 9.73005282212768\n"
     ]
    }
   ],
   "source": [
    "train_sMAPE(random_forest_model_2)"
   ]
  },
  {
   "cell_type": "markdown",
   "metadata": {},
   "source": [
    "Лучшие результаты показала модель лслучайного леса random_forest_model_2.\n",
    "Проверим ее на тестовой выборке:"
   ]
  },
  {
   "cell_type": "code",
   "execution_count": 93,
   "metadata": {},
   "outputs": [
    {
     "name": "stdout",
     "output_type": "stream",
     "text": [
      "sMAPE для rougher.output.recovery: 2.76 %\n",
      "sMAPE для final.output.recovery: 6.16 %\n",
      "Итоговое sMAPE: 5.31 %\n"
     ]
    }
   ],
   "source": [
    "rouger_predict, final_predict = test_sMAPE(random_forest_model_2)"
   ]
  },
  {
   "cell_type": "markdown",
   "metadata": {},
   "source": [
    "Для проверки модели на адекватность воспользуемся DummyClassifier."
   ]
  },
  {
   "cell_type": "code",
   "execution_count": 94,
   "metadata": {},
   "outputs": [],
   "source": [
    "from sklearn.dummy import DummyClassifier\n",
    "dummy_model = DummyClassifier(strategy='uniform', random_state=12345)"
   ]
  },
  {
   "cell_type": "code",
   "execution_count": 95,
   "metadata": {
    "scrolled": true
   },
   "outputs": [
    {
     "name": "stdout",
     "output_type": "stream",
     "text": [
      "sMAPE для rougher.output.recovery: 6.59 %\n",
      "sMAPE для final.output.recovery: 11.17 %\n",
      "Итоговое sMAPE: 10.02 %\n"
     ]
    },
    {
     "data": {
      "text/plain": [
       "(array([92.03603159, 89.18966131, 86.84372106, ..., 87.62509688,\n",
       "        89.98731936, 95.20133669]),\n",
       " array([75.97294437, 72.52965409, 68.92226957, ..., 86.86176044,\n",
       "        70.8620611 , 72.81491194]))"
      ]
     },
     "execution_count": 95,
     "metadata": {},
     "output_type": "execute_result"
    }
   ],
   "source": [
    "test_sMAPE(dummy_model)"
   ]
  },
  {
   "cell_type": "markdown",
   "metadata": {},
   "source": [
    "Ошибка на тесте меньше чем на константном алгоритме, поэтому можно считать ее приемлемой"
   ]
  },
  {
   "cell_type": "markdown",
   "metadata": {},
   "source": [
    "## Вывод\n",
    "\n",
    "1. Изучили датафреймы, проверили, что эффективность обогащения рассчитана правильно.\n",
    "2. Проанализировали признаки, недоступные в тестовой выборке. Получили 34 пропущенных признака.\n",
    "3. Создали датафрейм test_full_data по индексам test_data для того, чтобы восстановить недостающие значения rougher.output.recovery и final.output.recovery\n",
    "4. Выяснили, как меняется концентрация металлов (Au, Ag, Pb) на различных этапах очистки: с каждым этапом увеличивается концентрация золата и свинца, так же можно заметить уменьшение концентрации серебра\n",
    "5. Сравнили распределения размеров гранул сырья на обучающей и тестовой выборках. Размеры гранул сырья на обучающей и тестовой выборках не сильно отличаются друг от друга, что не окажет существенного влияния на построение модели\n",
    "6. Исследовали суммарную концентрацию всех веществ на разных стадиях: в сырье, в черновом и финальном концентратах. На каждом этапе выявили аномальные значения 0 и исключили эти значения, так как они могли повлиять на обучение модели\n",
    "7. Из всех моделей, модель Случайного Леса random_forest_model_2, показала лучший результат по итоговой метрике sMAPE. Ошибка на тесте меньше случайной\n",
    "\n",
    "\n",
    "Модель подходит для предсказания коэффициент восстановления золота из золотосодержащей руды, как для чернового концентрата, так и финального концентрата. Таким образом модель поможет оптимизировать производство, чтобы не запускать предприятие с убыточными характеристиками."
   ]
  }
 ],
 "metadata": {
  "ExecuteTimeLog": [
   {
    "duration": 1201,
    "start_time": "2021-07-28T03:40:43.524Z"
   },
   {
    "duration": 189,
    "start_time": "2021-07-28T03:41:14.054Z"
   },
   {
    "duration": 139,
    "start_time": "2021-07-28T03:41:32.111Z"
   },
   {
    "duration": 1296,
    "start_time": "2021-07-28T03:41:33.870Z"
   },
   {
    "duration": 1273,
    "start_time": "2021-07-28T03:42:01.015Z"
   },
   {
    "duration": 1250,
    "start_time": "2021-07-28T03:42:55.549Z"
   },
   {
    "duration": 1202,
    "start_time": "2021-07-28T03:44:07.499Z"
   },
   {
    "duration": 1293,
    "start_time": "2021-07-28T03:44:21.817Z"
   },
   {
    "duration": 1280,
    "start_time": "2021-07-28T03:44:55.247Z"
   },
   {
    "duration": 4,
    "start_time": "2021-07-28T03:46:55.425Z"
   },
   {
    "duration": 1275,
    "start_time": "2021-07-28T03:46:56.087Z"
   },
   {
    "duration": 736,
    "start_time": "2021-07-28T03:48:25.101Z"
   },
   {
    "duration": 33,
    "start_time": "2021-07-28T03:50:22.042Z"
   },
   {
    "duration": 28,
    "start_time": "2021-07-28T03:50:45.521Z"
   },
   {
    "duration": 32,
    "start_time": "2021-07-28T03:50:55.415Z"
   },
   {
    "duration": 208,
    "start_time": "2021-07-28T03:57:36.723Z"
   },
   {
    "duration": 4,
    "start_time": "2021-07-28T03:58:00.378Z"
   },
   {
    "duration": 4,
    "start_time": "2021-07-28T04:10:27.270Z"
   },
   {
    "duration": 4,
    "start_time": "2021-07-28T04:10:32.467Z"
   },
   {
    "duration": 3,
    "start_time": "2021-07-28T04:27:32.297Z"
   },
   {
    "duration": 7,
    "start_time": "2021-07-28T04:28:40.036Z"
   },
   {
    "duration": 11,
    "start_time": "2021-07-28T04:29:00.818Z"
   },
   {
    "duration": 15,
    "start_time": "2021-07-28T04:31:25.449Z"
   },
   {
    "duration": 3,
    "start_time": "2021-07-28T04:31:46.957Z"
   },
   {
    "duration": 5,
    "start_time": "2021-07-28T04:32:00.668Z"
   },
   {
    "duration": 9,
    "start_time": "2021-07-28T04:34:28.063Z"
   },
   {
    "duration": 7,
    "start_time": "2021-07-28T04:34:57.518Z"
   },
   {
    "duration": 12,
    "start_time": "2021-07-28T04:35:00.694Z"
   },
   {
    "duration": 174,
    "start_time": "2021-07-28T04:38:05.038Z"
   },
   {
    "duration": 179,
    "start_time": "2021-07-28T04:38:28.094Z"
   },
   {
    "duration": 6416,
    "start_time": "2021-07-28T04:39:33.827Z"
   },
   {
    "duration": 184,
    "start_time": "2021-07-28T04:39:42.586Z"
   },
   {
    "duration": 2181,
    "start_time": "2021-07-28T04:40:08.080Z"
   },
   {
    "duration": 221,
    "start_time": "2021-07-28T04:40:12.682Z"
   },
   {
    "duration": 2176,
    "start_time": "2021-07-28T04:41:56.806Z"
   },
   {
    "duration": 4,
    "start_time": "2021-07-28T04:43:43.770Z"
   },
   {
    "duration": 68,
    "start_time": "2021-07-28T04:45:02.319Z"
   },
   {
    "duration": 4,
    "start_time": "2021-07-28T04:48:11.248Z"
   },
   {
    "duration": 188,
    "start_time": "2021-07-28T04:48:19.872Z"
   },
   {
    "duration": 182,
    "start_time": "2021-07-28T04:48:37.377Z"
   },
   {
    "duration": 9,
    "start_time": "2021-07-28T04:49:10.255Z"
   },
   {
    "duration": 13,
    "start_time": "2021-07-28T04:50:10.939Z"
   },
   {
    "duration": 58,
    "start_time": "2021-07-28T04:51:41.922Z"
   },
   {
    "duration": 64,
    "start_time": "2021-07-28T04:51:47.361Z"
   },
   {
    "duration": 178,
    "start_time": "2021-07-28T04:51:58.648Z"
   },
   {
    "duration": 53,
    "start_time": "2021-07-28T04:52:03.415Z"
   },
   {
    "duration": 7,
    "start_time": "2021-07-28T04:52:18.671Z"
   },
   {
    "duration": 7,
    "start_time": "2021-07-28T04:52:47.346Z"
   },
   {
    "duration": 261,
    "start_time": "2021-07-28T04:53:28.829Z"
   },
   {
    "duration": 13,
    "start_time": "2021-07-28T04:53:49.282Z"
   },
   {
    "duration": 9,
    "start_time": "2021-07-28T04:54:02.967Z"
   },
   {
    "duration": 15,
    "start_time": "2021-07-28T04:54:16.020Z"
   },
   {
    "duration": 17,
    "start_time": "2021-07-28T04:56:31.307Z"
   },
   {
    "duration": 1638,
    "start_time": "2021-08-22T04:53:51.041Z"
   },
   {
    "duration": 907,
    "start_time": "2021-08-22T04:53:53.188Z"
   },
   {
    "duration": 55,
    "start_time": "2021-08-22T04:53:55.000Z"
   },
   {
    "duration": 44,
    "start_time": "2021-08-22T04:53:55.765Z"
   },
   {
    "duration": 51,
    "start_time": "2021-08-22T04:53:56.529Z"
   },
   {
    "duration": 7,
    "start_time": "2021-08-22T04:53:58.966Z"
   },
   {
    "duration": 4,
    "start_time": "2021-08-22T04:54:25.736Z"
   },
   {
    "duration": 18,
    "start_time": "2021-08-22T04:54:26.328Z"
   },
   {
    "duration": 18,
    "start_time": "2021-08-22T04:54:31.537Z"
   },
   {
    "duration": 4,
    "start_time": "2021-08-22T04:54:32.710Z"
   },
   {
    "duration": 8,
    "start_time": "2021-08-22T04:54:33.480Z"
   },
   {
    "duration": 12,
    "start_time": "2021-08-22T04:54:37.138Z"
   },
   {
    "duration": 10,
    "start_time": "2021-08-22T04:54:38.534Z"
   },
   {
    "duration": 14,
    "start_time": "2021-08-22T04:54:41.531Z"
   },
   {
    "duration": 267,
    "start_time": "2021-08-22T04:55:02.718Z"
   },
   {
    "duration": 11,
    "start_time": "2021-08-22T04:55:03.778Z"
   },
   {
    "duration": 16,
    "start_time": "2021-08-22T04:55:05.458Z"
   },
   {
    "duration": 74,
    "start_time": "2021-08-22T04:55:06.728Z"
   },
   {
    "duration": 8,
    "start_time": "2021-08-22T04:55:07.174Z"
   },
   {
    "duration": 9,
    "start_time": "2021-08-22T04:55:07.845Z"
   },
   {
    "duration": 383,
    "start_time": "2021-08-22T04:55:08.167Z"
   },
   {
    "duration": 25,
    "start_time": "2021-08-22T04:55:08.554Z"
   },
   {
    "duration": 18,
    "start_time": "2021-08-22T04:55:09.087Z"
   },
   {
    "duration": 27,
    "start_time": "2021-08-22T04:55:10.463Z"
   },
   {
    "duration": 460,
    "start_time": "2021-08-22T05:19:59.545Z"
   },
   {
    "duration": 24,
    "start_time": "2021-08-22T05:21:07.072Z"
   },
   {
    "duration": 370,
    "start_time": "2021-08-22T05:28:33.358Z"
   },
   {
    "duration": 575,
    "start_time": "2021-08-22T05:28:46.350Z"
   },
   {
    "duration": 851,
    "start_time": "2021-08-22T05:29:03.320Z"
   },
   {
    "duration": 349,
    "start_time": "2021-08-22T05:36:19.805Z"
   },
   {
    "duration": 742,
    "start_time": "2021-08-22T05:41:32.815Z"
   },
   {
    "duration": 29,
    "start_time": "2021-08-22T05:46:10.743Z"
   },
   {
    "duration": 18,
    "start_time": "2021-08-22T05:50:03.143Z"
   },
   {
    "duration": 14,
    "start_time": "2021-08-22T05:50:07.998Z"
   },
   {
    "duration": 18,
    "start_time": "2021-08-22T05:50:44.858Z"
   },
   {
    "duration": 19,
    "start_time": "2021-08-22T05:52:07.863Z"
   },
   {
    "duration": 16,
    "start_time": "2021-08-22T05:52:11.698Z"
   },
   {
    "duration": 18,
    "start_time": "2021-08-22T05:52:29.234Z"
   },
   {
    "duration": 23,
    "start_time": "2021-08-22T05:53:27.154Z"
   },
   {
    "duration": 19,
    "start_time": "2021-08-22T05:53:32.585Z"
   },
   {
    "duration": 19,
    "start_time": "2021-08-22T05:54:18.159Z"
   },
   {
    "duration": 421,
    "start_time": "2021-08-22T05:57:13.071Z"
   },
   {
    "duration": 9,
    "start_time": "2021-08-22T06:01:27.103Z"
   },
   {
    "duration": 120,
    "start_time": "2021-08-22T06:01:58.038Z"
   },
   {
    "duration": 103,
    "start_time": "2021-08-22T06:02:03.222Z"
   },
   {
    "duration": 9,
    "start_time": "2021-08-22T06:02:13.413Z"
   },
   {
    "duration": 10,
    "start_time": "2021-08-22T06:02:28.940Z"
   },
   {
    "duration": 9,
    "start_time": "2021-08-22T06:02:40.435Z"
   },
   {
    "duration": 43,
    "start_time": "2021-08-22T06:03:28.338Z"
   },
   {
    "duration": 37,
    "start_time": "2021-08-22T06:12:24.655Z"
   },
   {
    "duration": 13,
    "start_time": "2021-08-22T06:12:45.399Z"
   },
   {
    "duration": 34,
    "start_time": "2021-08-22T06:13:51.419Z"
   },
   {
    "duration": 38,
    "start_time": "2021-08-22T06:15:38.545Z"
   },
   {
    "duration": 36,
    "start_time": "2021-08-22T06:16:22.000Z"
   },
   {
    "duration": 22,
    "start_time": "2021-08-22T06:16:52.636Z"
   },
   {
    "duration": 45,
    "start_time": "2021-08-22T06:18:07.219Z"
   },
   {
    "duration": 26,
    "start_time": "2021-08-22T06:19:03.416Z"
   },
   {
    "duration": 9,
    "start_time": "2021-08-22T06:19:58.119Z"
   },
   {
    "duration": 8,
    "start_time": "2021-08-22T06:21:01.221Z"
   },
   {
    "duration": 304,
    "start_time": "2021-08-22T06:21:13.451Z"
   },
   {
    "duration": 16,
    "start_time": "2021-08-22T06:21:19.941Z"
   },
   {
    "duration": 1069,
    "start_time": "2021-08-24T03:10:38.031Z"
   },
   {
    "duration": 684,
    "start_time": "2021-08-24T03:10:39.102Z"
   },
   {
    "duration": 32,
    "start_time": "2021-08-24T03:10:39.788Z"
   },
   {
    "duration": 24,
    "start_time": "2021-08-24T03:10:39.821Z"
   },
   {
    "duration": 46,
    "start_time": "2021-08-24T03:10:39.846Z"
   },
   {
    "duration": 4,
    "start_time": "2021-08-24T03:10:39.893Z"
   },
   {
    "duration": 3,
    "start_time": "2021-08-24T03:10:40.156Z"
   },
   {
    "duration": 13,
    "start_time": "2021-08-24T03:10:40.330Z"
   },
   {
    "duration": 15,
    "start_time": "2021-08-24T03:10:40.786Z"
   },
   {
    "duration": 3,
    "start_time": "2021-08-24T03:10:41.008Z"
   },
   {
    "duration": 6,
    "start_time": "2021-08-24T03:10:41.224Z"
   },
   {
    "duration": 9,
    "start_time": "2021-08-24T03:10:41.612Z"
   },
   {
    "duration": 6,
    "start_time": "2021-08-24T03:10:41.815Z"
   },
   {
    "duration": 11,
    "start_time": "2021-08-24T03:10:42.020Z"
   },
   {
    "duration": 176,
    "start_time": "2021-08-24T03:10:42.488Z"
   },
   {
    "duration": 8,
    "start_time": "2021-08-24T03:10:42.695Z"
   },
   {
    "duration": 12,
    "start_time": "2021-08-24T03:10:43.116Z"
   },
   {
    "duration": 44,
    "start_time": "2021-08-24T03:10:43.677Z"
   },
   {
    "duration": 6,
    "start_time": "2021-08-24T03:10:43.839Z"
   },
   {
    "duration": 7,
    "start_time": "2021-08-24T03:10:44.050Z"
   },
   {
    "duration": 243,
    "start_time": "2021-08-24T03:10:44.267Z"
   },
   {
    "duration": 9,
    "start_time": "2021-08-24T03:10:44.512Z"
   },
   {
    "duration": 15,
    "start_time": "2021-08-24T03:10:44.628Z"
   },
   {
    "duration": 14,
    "start_time": "2021-08-24T03:10:45.023Z"
   },
   {
    "duration": 14,
    "start_time": "2021-08-24T03:10:45.844Z"
   },
   {
    "duration": 470,
    "start_time": "2021-08-24T03:10:46.032Z"
   },
   {
    "duration": 185,
    "start_time": "2021-08-24T03:10:46.623Z"
   },
   {
    "duration": 342,
    "start_time": "2021-08-24T03:10:47.035Z"
   },
   {
    "duration": 17,
    "start_time": "2021-08-24T03:10:47.706Z"
   },
   {
    "duration": 10,
    "start_time": "2021-08-24T03:10:48.184Z"
   },
   {
    "duration": 12,
    "start_time": "2021-08-24T03:10:49.364Z"
   },
   {
    "duration": 13,
    "start_time": "2021-08-24T03:10:50.865Z"
   },
   {
    "duration": 12,
    "start_time": "2021-08-24T03:10:51.768Z"
   },
   {
    "duration": 12,
    "start_time": "2021-08-24T03:10:52.259Z"
   },
   {
    "duration": 287,
    "start_time": "2021-08-24T03:10:53.116Z"
   },
   {
    "duration": 8,
    "start_time": "2021-08-24T03:10:53.729Z"
   },
   {
    "duration": 8,
    "start_time": "2021-08-24T03:10:53.935Z"
   },
   {
    "duration": 8,
    "start_time": "2021-08-24T03:10:54.152Z"
   },
   {
    "duration": 8,
    "start_time": "2021-08-24T03:10:54.416Z"
   },
   {
    "duration": 27,
    "start_time": "2021-08-24T03:10:54.875Z"
   },
   {
    "duration": 21,
    "start_time": "2021-08-24T03:10:55.445Z"
   },
   {
    "duration": 8,
    "start_time": "2021-08-24T03:10:55.726Z"
   },
   {
    "duration": 20,
    "start_time": "2021-08-24T03:10:56.574Z"
   },
   {
    "duration": 22,
    "start_time": "2021-08-24T03:10:57.422Z"
   },
   {
    "duration": 20,
    "start_time": "2021-08-24T03:10:58.218Z"
   },
   {
    "duration": 11,
    "start_time": "2021-08-24T03:10:58.662Z"
   },
   {
    "duration": 28,
    "start_time": "2021-08-24T03:10:59.303Z"
   },
   {
    "duration": 17,
    "start_time": "2021-08-24T03:10:59.599Z"
   },
   {
    "duration": 7,
    "start_time": "2021-08-24T03:11:00.006Z"
   },
   {
    "duration": 5,
    "start_time": "2021-08-24T03:11:00.475Z"
   },
   {
    "duration": 8,
    "start_time": "2021-08-24T03:11:00.692Z"
   },
   {
    "duration": 4,
    "start_time": "2021-08-24T03:14:21.446Z"
   },
   {
    "duration": 2,
    "start_time": "2021-08-24T03:24:39.708Z"
   },
   {
    "duration": 814,
    "start_time": "2021-08-24T03:25:25.489Z"
   },
   {
    "duration": 3,
    "start_time": "2021-08-24T03:26:14.735Z"
   },
   {
    "duration": 711,
    "start_time": "2021-08-24T03:26:20.161Z"
   },
   {
    "duration": 2,
    "start_time": "2021-08-24T03:26:22.240Z"
   },
   {
    "duration": 755,
    "start_time": "2021-08-24T03:26:23.160Z"
   },
   {
    "duration": 22,
    "start_time": "2021-08-24T03:28:02.195Z"
   },
   {
    "duration": 3,
    "start_time": "2021-08-24T03:28:08.524Z"
   },
   {
    "duration": 701,
    "start_time": "2021-08-24T03:28:09.283Z"
   },
   {
    "duration": 3,
    "start_time": "2021-08-24T03:29:07.610Z"
   },
   {
    "duration": 3,
    "start_time": "2021-08-24T03:29:08.656Z"
   },
   {
    "duration": 723,
    "start_time": "2021-08-24T03:29:10.297Z"
   },
   {
    "duration": 3,
    "start_time": "2021-08-24T03:29:19.337Z"
   },
   {
    "duration": 1095,
    "start_time": "2021-08-24T03:42:17.832Z"
   },
   {
    "duration": 693,
    "start_time": "2021-08-24T03:42:19.639Z"
   },
   {
    "duration": 30,
    "start_time": "2021-08-24T03:42:20.333Z"
   },
   {
    "duration": 25,
    "start_time": "2021-08-24T03:42:20.767Z"
   },
   {
    "duration": 30,
    "start_time": "2021-08-24T03:42:20.795Z"
   },
   {
    "duration": 5,
    "start_time": "2021-08-24T03:42:21.423Z"
   },
   {
    "duration": 3,
    "start_time": "2021-08-24T03:42:22.252Z"
   },
   {
    "duration": 14,
    "start_time": "2021-08-24T03:42:22.455Z"
   },
   {
    "duration": 15,
    "start_time": "2021-08-24T03:42:22.790Z"
   },
   {
    "duration": 3,
    "start_time": "2021-08-24T03:42:22.949Z"
   },
   {
    "duration": 5,
    "start_time": "2021-08-24T03:42:23.095Z"
   },
   {
    "duration": 10,
    "start_time": "2021-08-24T03:42:23.428Z"
   },
   {
    "duration": 6,
    "start_time": "2021-08-24T03:42:23.601Z"
   },
   {
    "duration": 11,
    "start_time": "2021-08-24T03:42:23.774Z"
   },
   {
    "duration": 178,
    "start_time": "2021-08-24T03:42:24.105Z"
   },
   {
    "duration": 8,
    "start_time": "2021-08-24T03:42:24.287Z"
   },
   {
    "duration": 11,
    "start_time": "2021-08-24T03:42:24.626Z"
   },
   {
    "duration": 46,
    "start_time": "2021-08-24T03:42:24.988Z"
   },
   {
    "duration": 6,
    "start_time": "2021-08-24T03:42:25.155Z"
   },
   {
    "duration": 7,
    "start_time": "2021-08-24T03:42:25.331Z"
   },
   {
    "duration": 256,
    "start_time": "2021-08-24T03:42:25.513Z"
   },
   {
    "duration": 10,
    "start_time": "2021-08-24T03:42:25.771Z"
   },
   {
    "duration": 15,
    "start_time": "2021-08-24T03:42:25.907Z"
   },
   {
    "duration": 15,
    "start_time": "2021-08-24T03:42:26.241Z"
   },
   {
    "duration": 15,
    "start_time": "2021-08-24T03:42:26.865Z"
   },
   {
    "duration": 475,
    "start_time": "2021-08-24T03:42:27.024Z"
   },
   {
    "duration": 207,
    "start_time": "2021-08-24T03:42:27.501Z"
   },
   {
    "duration": 427,
    "start_time": "2021-08-24T03:42:27.813Z"
   },
   {
    "duration": 17,
    "start_time": "2021-08-24T03:42:28.279Z"
   },
   {
    "duration": 9,
    "start_time": "2021-08-24T03:42:28.585Z"
   },
   {
    "duration": 12,
    "start_time": "2021-08-24T03:42:28.895Z"
   },
   {
    "duration": 13,
    "start_time": "2021-08-24T03:42:29.503Z"
   },
   {
    "duration": 12,
    "start_time": "2021-08-24T03:42:29.803Z"
   },
   {
    "duration": 12,
    "start_time": "2021-08-24T03:42:30.151Z"
   },
   {
    "duration": 232,
    "start_time": "2021-08-24T03:42:30.423Z"
   },
   {
    "duration": 7,
    "start_time": "2021-08-24T03:42:30.978Z"
   },
   {
    "duration": 16,
    "start_time": "2021-08-24T03:42:30.987Z"
   },
   {
    "duration": 7,
    "start_time": "2021-08-24T03:42:31.156Z"
   },
   {
    "duration": 7,
    "start_time": "2021-08-24T03:42:31.494Z"
   },
   {
    "duration": 29,
    "start_time": "2021-08-24T03:42:32.157Z"
   },
   {
    "duration": 21,
    "start_time": "2021-08-24T03:42:32.494Z"
   },
   {
    "duration": 9,
    "start_time": "2021-08-24T03:42:32.697Z"
   },
   {
    "duration": 20,
    "start_time": "2021-08-24T03:42:33.321Z"
   },
   {
    "duration": 22,
    "start_time": "2021-08-24T03:42:33.670Z"
   },
   {
    "duration": 20,
    "start_time": "2021-08-24T03:42:33.921Z"
   },
   {
    "duration": 11,
    "start_time": "2021-08-24T03:42:34.101Z"
   },
   {
    "duration": 27,
    "start_time": "2021-08-24T03:42:34.838Z"
   },
   {
    "duration": 17,
    "start_time": "2021-08-24T03:42:35.019Z"
   },
   {
    "duration": 6,
    "start_time": "2021-08-24T03:42:35.349Z"
   },
   {
    "duration": 5,
    "start_time": "2021-08-24T03:42:35.963Z"
   },
   {
    "duration": 7,
    "start_time": "2021-08-24T03:42:36.161Z"
   },
   {
    "duration": 3,
    "start_time": "2021-08-24T03:42:37.638Z"
   },
   {
    "duration": 20,
    "start_time": "2021-08-24T03:42:38.492Z"
   },
   {
    "duration": 3,
    "start_time": "2021-08-24T03:42:41.246Z"
   },
   {
    "duration": 4,
    "start_time": "2021-08-24T03:43:26.485Z"
   },
   {
    "duration": 3,
    "start_time": "2021-08-24T03:44:08.869Z"
   },
   {
    "duration": 3,
    "start_time": "2021-08-24T03:44:37.962Z"
   },
   {
    "duration": 3,
    "start_time": "2021-08-24T03:45:03.100Z"
   },
   {
    "duration": 2,
    "start_time": "2021-08-24T03:45:36.936Z"
   },
   {
    "duration": 3,
    "start_time": "2021-08-24T03:45:54.401Z"
   },
   {
    "duration": 3,
    "start_time": "2021-08-24T03:46:01.984Z"
   },
   {
    "duration": 402,
    "start_time": "2021-08-24T03:46:30.428Z"
   },
   {
    "duration": 255,
    "start_time": "2021-08-24T03:48:29.890Z"
   },
   {
    "duration": 3,
    "start_time": "2021-08-24T03:50:35.977Z"
   },
   {
    "duration": 2,
    "start_time": "2021-08-24T03:50:37.725Z"
   },
   {
    "duration": 3,
    "start_time": "2021-08-24T03:50:39.108Z"
   },
   {
    "duration": 3,
    "start_time": "2021-08-24T03:50:40.093Z"
   },
   {
    "duration": 3,
    "start_time": "2021-08-24T03:50:40.916Z"
   },
   {
    "duration": 260,
    "start_time": "2021-08-24T03:50:43.366Z"
   },
   {
    "duration": 3,
    "start_time": "2021-08-24T03:51:58.653Z"
   },
   {
    "duration": 3,
    "start_time": "2021-08-24T03:51:59.474Z"
   },
   {
    "duration": 2,
    "start_time": "2021-08-24T03:52:00.267Z"
   },
   {
    "duration": 3,
    "start_time": "2021-08-24T03:52:00.732Z"
   },
   {
    "duration": 3,
    "start_time": "2021-08-24T03:52:01.266Z"
   },
   {
    "duration": 256,
    "start_time": "2021-08-24T03:52:02.620Z"
   },
   {
    "duration": 2,
    "start_time": "2021-08-24T03:52:30.827Z"
   },
   {
    "duration": 3,
    "start_time": "2021-08-24T03:52:34.164Z"
   },
   {
    "duration": 3,
    "start_time": "2021-08-24T03:52:34.577Z"
   },
   {
    "duration": 4,
    "start_time": "2021-08-24T03:52:34.598Z"
   },
   {
    "duration": 3,
    "start_time": "2021-08-24T03:52:34.826Z"
   },
   {
    "duration": 16604,
    "start_time": "2021-08-24T03:52:35.078Z"
   },
   {
    "duration": 4,
    "start_time": "2021-08-24T03:53:14.308Z"
   },
   {
    "duration": 3,
    "start_time": "2021-08-24T03:54:11.751Z"
   },
   {
    "duration": 16494,
    "start_time": "2021-08-24T03:54:46.897Z"
   },
   {
    "duration": 3,
    "start_time": "2021-08-24T03:55:08.434Z"
   },
   {
    "duration": 3,
    "start_time": "2021-08-24T03:55:25.243Z"
   },
   {
    "duration": 3,
    "start_time": "2021-08-24T03:55:31.243Z"
   },
   {
    "duration": 3,
    "start_time": "2021-08-24T03:55:41.042Z"
   },
   {
    "duration": 3,
    "start_time": "2021-08-24T03:55:48.170Z"
   },
   {
    "duration": 634954,
    "start_time": "2021-08-24T03:56:52.089Z"
   },
   {
    "duration": 2,
    "start_time": "2021-08-24T04:07:27.045Z"
   },
   {
    "duration": 6,
    "start_time": "2021-08-24T04:07:27.049Z"
   },
   {
    "duration": 360,
    "start_time": "2021-08-24T04:07:27.056Z"
   },
   {
    "duration": 649230,
    "start_time": "2021-08-24T04:07:38.016Z"
   },
   {
    "duration": 116,
    "start_time": "2021-08-24T04:18:27.248Z"
   },
   {
    "duration": 4,
    "start_time": "2021-08-24T04:18:36.433Z"
   },
   {
    "duration": 3,
    "start_time": "2021-08-24T04:18:37.816Z"
   },
   {
    "duration": 4,
    "start_time": "2021-08-24T04:18:41.082Z"
   },
   {
    "duration": 4,
    "start_time": "2021-08-24T04:18:42.061Z"
   },
   {
    "duration": 744,
    "start_time": "2021-08-24T04:18:43.249Z"
   },
   {
    "duration": 4,
    "start_time": "2021-08-24T04:19:06.891Z"
   },
   {
    "duration": 526,
    "start_time": "2021-08-24T04:19:08.474Z"
   },
   {
    "duration": 2,
    "start_time": "2021-08-24T04:19:10.491Z"
   },
   {
    "duration": 568,
    "start_time": "2021-08-24T04:19:10.849Z"
   },
   {
    "duration": 3,
    "start_time": "2021-08-24T04:19:20.738Z"
   },
   {
    "duration": 31678,
    "start_time": "2021-08-24T04:19:22.390Z"
   },
   {
    "duration": 3,
    "start_time": "2021-08-24T04:19:54.070Z"
   },
   {
    "duration": 24199,
    "start_time": "2021-08-24T04:19:54.075Z"
   },
   {
    "duration": 12644,
    "start_time": "2021-08-24T04:20:39.530Z"
   },
   {
    "duration": 12573,
    "start_time": "2021-08-24T04:21:15.220Z"
   },
   {
    "duration": 16532,
    "start_time": "2021-08-24T04:22:29.310Z"
   },
   {
    "duration": 3,
    "start_time": "2021-08-24T04:22:50.413Z"
   },
   {
    "duration": 354,
    "start_time": "2021-08-24T04:22:51.431Z"
   },
   {
    "duration": 354,
    "start_time": "2021-08-24T04:24:01.644Z"
   },
   {
    "duration": 3,
    "start_time": "2021-08-24T04:24:02.234Z"
   },
   {
    "duration": 10,
    "start_time": "2021-08-24T04:24:02.438Z"
   },
   {
    "duration": 949,
    "start_time": "2021-08-24T05:01:51.323Z"
   },
   {
    "duration": 4,
    "start_time": "2021-08-24T05:02:06.443Z"
   },
   {
    "duration": 707,
    "start_time": "2021-08-24T05:02:06.619Z"
   },
   {
    "duration": 31,
    "start_time": "2021-08-24T05:02:07.328Z"
   },
   {
    "duration": 41,
    "start_time": "2021-08-24T05:02:07.360Z"
   },
   {
    "duration": 31,
    "start_time": "2021-08-24T05:02:08.135Z"
   },
   {
    "duration": 4,
    "start_time": "2021-08-24T05:02:08.442Z"
   },
   {
    "duration": 3,
    "start_time": "2021-08-24T05:02:08.962Z"
   },
   {
    "duration": 10,
    "start_time": "2021-08-24T05:02:08.986Z"
   },
   {
    "duration": 13,
    "start_time": "2021-08-24T05:02:09.281Z"
   },
   {
    "duration": 3,
    "start_time": "2021-08-24T05:02:09.441Z"
   },
   {
    "duration": 6,
    "start_time": "2021-08-24T05:02:09.612Z"
   },
   {
    "duration": 10,
    "start_time": "2021-08-24T05:02:09.913Z"
   },
   {
    "duration": 7,
    "start_time": "2021-08-24T05:02:10.094Z"
   },
   {
    "duration": 11,
    "start_time": "2021-08-24T05:02:10.240Z"
   },
   {
    "duration": 159,
    "start_time": "2021-08-24T05:02:10.528Z"
   },
   {
    "duration": 8,
    "start_time": "2021-08-24T05:02:10.689Z"
   },
   {
    "duration": 12,
    "start_time": "2021-08-24T05:02:11.030Z"
   },
   {
    "duration": 44,
    "start_time": "2021-08-24T05:02:11.369Z"
   },
   {
    "duration": 6,
    "start_time": "2021-08-24T05:02:11.544Z"
   },
   {
    "duration": 7,
    "start_time": "2021-08-24T05:02:11.724Z"
   },
   {
    "duration": 225,
    "start_time": "2021-08-24T05:02:11.892Z"
   },
   {
    "duration": 9,
    "start_time": "2021-08-24T05:02:12.118Z"
   },
   {
    "duration": 14,
    "start_time": "2021-08-24T05:02:12.250Z"
   },
   {
    "duration": 14,
    "start_time": "2021-08-24T05:02:12.574Z"
   },
   {
    "duration": 14,
    "start_time": "2021-08-24T05:02:15.798Z"
   },
   {
    "duration": 461,
    "start_time": "2021-08-24T05:02:16.058Z"
   },
   {
    "duration": 196,
    "start_time": "2021-08-24T05:02:16.871Z"
   },
   {
    "duration": 350,
    "start_time": "2021-08-24T05:02:17.392Z"
   },
   {
    "duration": 16,
    "start_time": "2021-08-24T05:02:17.971Z"
   },
   {
    "duration": 9,
    "start_time": "2021-08-24T05:02:18.582Z"
   },
   {
    "duration": 12,
    "start_time": "2021-08-24T05:02:19.470Z"
   },
   {
    "duration": 12,
    "start_time": "2021-08-24T05:02:20.086Z"
   },
   {
    "duration": 12,
    "start_time": "2021-08-24T05:02:20.747Z"
   },
   {
    "duration": 12,
    "start_time": "2021-08-24T05:02:21.365Z"
   },
   {
    "duration": 326,
    "start_time": "2021-08-24T05:02:21.868Z"
   },
   {
    "duration": 7,
    "start_time": "2021-08-24T05:02:22.832Z"
   },
   {
    "duration": 6,
    "start_time": "2021-08-24T05:02:23.005Z"
   },
   {
    "duration": 6,
    "start_time": "2021-08-24T05:02:23.170Z"
   },
   {
    "duration": 7,
    "start_time": "2021-08-24T05:02:23.339Z"
   },
   {
    "duration": 26,
    "start_time": "2021-08-24T05:02:24.109Z"
   },
   {
    "duration": 21,
    "start_time": "2021-08-24T05:02:24.666Z"
   },
   {
    "duration": 8,
    "start_time": "2021-08-24T05:02:24.854Z"
   },
   {
    "duration": 19,
    "start_time": "2021-08-24T05:02:25.426Z"
   },
   {
    "duration": 23,
    "start_time": "2021-08-24T05:02:26.433Z"
   },
   {
    "duration": 20,
    "start_time": "2021-08-24T05:02:26.952Z"
   },
   {
    "duration": 10,
    "start_time": "2021-08-24T05:02:27.388Z"
   },
   {
    "duration": 27,
    "start_time": "2021-08-24T05:02:28.762Z"
   },
   {
    "duration": 17,
    "start_time": "2021-08-24T05:02:29.048Z"
   },
   {
    "duration": 7,
    "start_time": "2021-08-24T05:02:29.360Z"
   },
   {
    "duration": 6,
    "start_time": "2021-08-24T05:02:30.097Z"
   },
   {
    "duration": 8,
    "start_time": "2021-08-24T05:02:30.639Z"
   },
   {
    "duration": 8,
    "start_time": "2021-08-24T05:02:31.732Z"
   },
   {
    "duration": 3,
    "start_time": "2021-08-24T05:02:45.274Z"
   },
   {
    "duration": 19,
    "start_time": "2021-08-24T05:02:45.957Z"
   },
   {
    "duration": 3,
    "start_time": "2021-08-24T05:02:50.994Z"
   },
   {
    "duration": 4,
    "start_time": "2021-08-24T05:02:51.564Z"
   },
   {
    "duration": 3,
    "start_time": "2021-08-24T05:02:52.503Z"
   },
   {
    "duration": 3,
    "start_time": "2021-08-24T05:02:53.057Z"
   },
   {
    "duration": 2,
    "start_time": "2021-08-24T05:02:53.633Z"
   },
   {
    "duration": 3,
    "start_time": "2021-08-24T05:02:53.839Z"
   },
   {
    "duration": 2,
    "start_time": "2021-08-24T05:02:54.108Z"
   },
   {
    "duration": 16595,
    "start_time": "2021-08-24T05:02:55.006Z"
   },
   {
    "duration": 4,
    "start_time": "2021-08-24T05:03:11.603Z"
   },
   {
    "duration": 6,
    "start_time": "2021-08-24T05:03:11.609Z"
   },
   {
    "duration": 16830,
    "start_time": "2021-08-24T05:03:11.616Z"
   },
   {
    "duration": 3,
    "start_time": "2021-08-24T05:03:28.447Z"
   },
   {
    "duration": 7,
    "start_time": "2021-08-24T05:03:28.451Z"
   },
   {
    "duration": 8,
    "start_time": "2021-08-24T05:03:28.459Z"
   },
   {
    "duration": 3,
    "start_time": "2021-08-24T05:03:28.469Z"
   },
   {
    "duration": 17,
    "start_time": "2021-08-24T05:03:28.474Z"
   },
   {
    "duration": 639168,
    "start_time": "2021-08-24T05:03:28.493Z"
   },
   {
    "duration": 3,
    "start_time": "2021-08-24T05:14:07.663Z"
   },
   {
    "duration": 1678,
    "start_time": "2021-08-24T11:05:50.570Z"
   },
   {
    "duration": 906,
    "start_time": "2021-08-24T11:05:53.887Z"
   },
   {
    "duration": 57,
    "start_time": "2021-08-24T11:05:54.797Z"
   },
   {
    "duration": 48,
    "start_time": "2021-08-24T11:05:54.870Z"
   },
   {
    "duration": 88,
    "start_time": "2021-08-24T11:05:54.920Z"
   },
   {
    "duration": 8,
    "start_time": "2021-08-24T11:05:55.597Z"
   },
   {
    "duration": 3,
    "start_time": "2021-08-24T11:05:56.156Z"
   },
   {
    "duration": 20,
    "start_time": "2021-08-24T11:05:56.240Z"
   },
   {
    "duration": 17,
    "start_time": "2021-08-24T11:05:56.560Z"
   },
   {
    "duration": 4,
    "start_time": "2021-08-24T11:05:56.813Z"
   },
   {
    "duration": 8,
    "start_time": "2021-08-24T11:05:56.873Z"
   },
   {
    "duration": 12,
    "start_time": "2021-08-24T11:05:57.217Z"
   },
   {
    "duration": 10,
    "start_time": "2021-08-24T11:05:57.380Z"
   },
   {
    "duration": 15,
    "start_time": "2021-08-24T11:05:57.544Z"
   },
   {
    "duration": 262,
    "start_time": "2021-08-24T11:05:57.889Z"
   },
   {
    "duration": 21,
    "start_time": "2021-08-24T11:05:58.153Z"
   },
   {
    "duration": 16,
    "start_time": "2021-08-24T11:05:58.397Z"
   },
   {
    "duration": 79,
    "start_time": "2021-08-24T11:05:59.029Z"
   },
   {
    "duration": 9,
    "start_time": "2021-08-24T11:05:59.302Z"
   },
   {
    "duration": 10,
    "start_time": "2021-08-24T11:05:59.471Z"
   },
   {
    "duration": 370,
    "start_time": "2021-08-24T11:05:59.643Z"
   },
   {
    "duration": 16,
    "start_time": "2021-08-24T11:06:00.016Z"
   },
   {
    "duration": 45,
    "start_time": "2021-08-24T11:06:00.035Z"
   },
   {
    "duration": 26,
    "start_time": "2021-08-24T11:06:00.349Z"
   },
   {
    "duration": 25,
    "start_time": "2021-08-24T11:06:01.088Z"
   },
   {
    "duration": 931,
    "start_time": "2021-08-24T11:06:01.251Z"
   },
   {
    "duration": 386,
    "start_time": "2021-08-24T11:06:02.185Z"
   },
   {
    "duration": 815,
    "start_time": "2021-08-24T11:06:02.574Z"
   },
   {
    "duration": 32,
    "start_time": "2021-08-24T11:06:03.392Z"
   },
   {
    "duration": 36,
    "start_time": "2021-08-24T11:06:03.427Z"
   },
   {
    "duration": 21,
    "start_time": "2021-08-24T11:06:03.496Z"
   },
   {
    "duration": 20,
    "start_time": "2021-08-24T11:06:04.151Z"
   },
   {
    "duration": 19,
    "start_time": "2021-08-24T11:06:04.628Z"
   },
   {
    "duration": 21,
    "start_time": "2021-08-24T11:06:05.200Z"
   },
   {
    "duration": 444,
    "start_time": "2021-08-24T11:06:05.595Z"
   },
   {
    "duration": 10,
    "start_time": "2021-08-24T11:06:06.042Z"
   },
   {
    "duration": 9,
    "start_time": "2021-08-24T11:06:06.249Z"
   },
   {
    "duration": 10,
    "start_time": "2021-08-24T11:06:06.369Z"
   },
   {
    "duration": 10,
    "start_time": "2021-08-24T11:06:06.644Z"
   },
   {
    "duration": 43,
    "start_time": "2021-08-24T11:06:07.299Z"
   },
   {
    "duration": 37,
    "start_time": "2021-08-24T11:06:08.348Z"
   },
   {
    "duration": 13,
    "start_time": "2021-08-24T11:06:08.983Z"
   },
   {
    "duration": 38,
    "start_time": "2021-08-24T11:06:09.394Z"
   },
   {
    "duration": 47,
    "start_time": "2021-08-24T11:06:09.790Z"
   },
   {
    "duration": 35,
    "start_time": "2021-08-24T11:06:10.135Z"
   },
   {
    "duration": 14,
    "start_time": "2021-08-24T11:06:10.445Z"
   },
   {
    "duration": 46,
    "start_time": "2021-08-24T11:06:10.701Z"
   },
   {
    "duration": 27,
    "start_time": "2021-08-24T11:06:10.909Z"
   },
   {
    "duration": 10,
    "start_time": "2021-08-24T11:06:11.276Z"
   },
   {
    "duration": 6,
    "start_time": "2021-08-24T11:06:11.652Z"
   },
   {
    "duration": 12,
    "start_time": "2021-08-24T11:06:11.884Z"
   },
   {
    "duration": 13,
    "start_time": "2021-08-24T11:06:12.029Z"
   },
   {
    "duration": 3,
    "start_time": "2021-08-24T11:06:12.818Z"
   },
   {
    "duration": 30,
    "start_time": "2021-08-24T11:06:13.272Z"
   },
   {
    "duration": 4,
    "start_time": "2021-08-24T11:06:14.460Z"
   },
   {
    "duration": 6,
    "start_time": "2021-08-24T11:06:15.139Z"
   },
   {
    "duration": 4,
    "start_time": "2021-08-24T11:06:15.686Z"
   },
   {
    "duration": 4,
    "start_time": "2021-08-24T11:06:16.335Z"
   },
   {
    "duration": 4,
    "start_time": "2021-08-24T11:06:17.129Z"
   },
   {
    "duration": 6,
    "start_time": "2021-08-24T11:06:17.471Z"
   },
   {
    "duration": 4,
    "start_time": "2021-08-24T11:06:17.797Z"
   },
   {
    "duration": 23220,
    "start_time": "2021-08-24T11:06:18.404Z"
   },
   {
    "duration": 6,
    "start_time": "2021-08-24T11:06:42.951Z"
   },
   {
    "duration": 4,
    "start_time": "2021-08-24T11:06:43.997Z"
   },
   {
    "duration": 23227,
    "start_time": "2021-08-24T11:06:45.049Z"
   },
   {
    "duration": 5,
    "start_time": "2021-08-24T11:07:22.797Z"
   },
   {
    "duration": 3,
    "start_time": "2021-08-24T11:07:23.457Z"
   },
   {
    "duration": 6,
    "start_time": "2021-08-24T11:07:23.670Z"
   },
   {
    "duration": 3,
    "start_time": "2021-08-24T11:07:24.239Z"
   },
   {
    "duration": 4,
    "start_time": "2021-08-24T11:07:24.358Z"
   },
   {
    "duration": 992836,
    "start_time": "2021-08-24T11:07:24.606Z"
   },
   {
    "duration": 5,
    "start_time": "2021-08-24T11:25:58.498Z"
   },
   {
    "duration": 978580,
    "start_time": "2021-08-24T11:25:59.073Z"
   },
   {
    "duration": 13,
    "start_time": "2021-08-24T11:42:17.656Z"
   },
   {
    "duration": 5,
    "start_time": "2021-08-24T11:43:21.000Z"
   },
   {
    "duration": 6,
    "start_time": "2021-08-24T11:43:21.950Z"
   },
   {
    "duration": 6,
    "start_time": "2021-08-24T11:43:23.009Z"
   },
   {
    "duration": 999,
    "start_time": "2021-08-24T11:43:23.970Z"
   },
   {
    "duration": 4,
    "start_time": "2021-08-24T11:43:25.069Z"
   },
   {
    "duration": 810,
    "start_time": "2021-08-24T11:43:25.077Z"
   },
   {
    "duration": 4,
    "start_time": "2021-08-24T11:43:25.890Z"
   },
   {
    "duration": 814,
    "start_time": "2021-08-24T11:43:25.897Z"
   },
   {
    "duration": 4,
    "start_time": "2021-08-24T11:43:27.101Z"
   },
   {
    "duration": 49164,
    "start_time": "2021-08-24T11:43:27.573Z"
   },
   {
    "duration": 4,
    "start_time": "2021-08-24T11:44:16.740Z"
   },
   {
    "duration": 36786,
    "start_time": "2021-08-24T11:44:16.747Z"
   },
   {
    "duration": 50829,
    "start_time": "2021-08-24T11:47:55.355Z"
   },
   {
    "duration": 4,
    "start_time": "2021-08-24T11:48:46.188Z"
   },
   {
    "duration": 38010,
    "start_time": "2021-08-24T12:06:52.815Z"
   },
   {
    "duration": 26239,
    "start_time": "2021-08-24T12:07:30.828Z"
   },
   {
    "duration": -102,
    "start_time": "2021-08-24T12:07:57.174Z"
   },
   {
    "duration": 1196,
    "start_time": "2021-08-25T03:45:41.516Z"
   },
   {
    "duration": 709,
    "start_time": "2021-08-25T03:45:43.282Z"
   },
   {
    "duration": 48,
    "start_time": "2021-08-25T03:45:43.993Z"
   },
   {
    "duration": 24,
    "start_time": "2021-08-25T03:45:44.043Z"
   },
   {
    "duration": 30,
    "start_time": "2021-08-25T03:45:44.068Z"
   },
   {
    "duration": 4,
    "start_time": "2021-08-25T03:45:44.100Z"
   },
   {
    "duration": 4,
    "start_time": "2021-08-25T03:45:44.547Z"
   },
   {
    "duration": 15,
    "start_time": "2021-08-25T03:45:44.701Z"
   },
   {
    "duration": 14,
    "start_time": "2021-08-25T03:45:45.038Z"
   },
   {
    "duration": 3,
    "start_time": "2021-08-25T03:45:45.159Z"
   },
   {
    "duration": 5,
    "start_time": "2021-08-25T03:45:45.323Z"
   },
   {
    "duration": 9,
    "start_time": "2021-08-25T03:45:45.666Z"
   },
   {
    "duration": 7,
    "start_time": "2021-08-25T03:45:45.828Z"
   },
   {
    "duration": 12,
    "start_time": "2021-08-25T03:45:46.008Z"
   },
   {
    "duration": 170,
    "start_time": "2021-08-25T03:45:46.299Z"
   },
   {
    "duration": 7,
    "start_time": "2021-08-25T03:45:46.471Z"
   },
   {
    "duration": 13,
    "start_time": "2021-08-25T03:45:46.781Z"
   },
   {
    "duration": 48,
    "start_time": "2021-08-25T03:45:47.322Z"
   },
   {
    "duration": 6,
    "start_time": "2021-08-25T03:45:47.477Z"
   },
   {
    "duration": 7,
    "start_time": "2021-08-25T03:45:47.658Z"
   },
   {
    "duration": 247,
    "start_time": "2021-08-25T03:45:47.795Z"
   },
   {
    "duration": 11,
    "start_time": "2021-08-25T03:45:48.044Z"
   },
   {
    "duration": 14,
    "start_time": "2021-08-25T03:45:48.167Z"
   },
   {
    "duration": 16,
    "start_time": "2021-08-25T03:45:48.463Z"
   },
   {
    "duration": 15,
    "start_time": "2021-08-25T03:45:49.106Z"
   },
   {
    "duration": 486,
    "start_time": "2021-08-25T03:45:49.292Z"
   },
   {
    "duration": 205,
    "start_time": "2021-08-25T03:45:49.779Z"
   },
   {
    "duration": 430,
    "start_time": "2021-08-25T03:45:50.064Z"
   },
   {
    "duration": 17,
    "start_time": "2021-08-25T03:45:50.502Z"
   },
   {
    "duration": 9,
    "start_time": "2021-08-25T03:45:50.819Z"
   },
   {
    "duration": 12,
    "start_time": "2021-08-25T03:45:51.117Z"
   },
   {
    "duration": 13,
    "start_time": "2021-08-25T03:45:51.433Z"
   },
   {
    "duration": 12,
    "start_time": "2021-08-25T03:45:51.737Z"
   },
   {
    "duration": 13,
    "start_time": "2021-08-25T03:45:52.059Z"
   },
   {
    "duration": 237,
    "start_time": "2021-08-25T03:45:52.365Z"
   },
   {
    "duration": 7,
    "start_time": "2021-08-25T03:45:52.707Z"
   },
   {
    "duration": 7,
    "start_time": "2021-08-25T03:45:52.886Z"
   },
   {
    "duration": 7,
    "start_time": "2021-08-25T03:45:53.058Z"
   },
   {
    "duration": 8,
    "start_time": "2021-08-25T03:45:53.234Z"
   },
   {
    "duration": 26,
    "start_time": "2021-08-25T03:45:53.688Z"
   },
   {
    "duration": 22,
    "start_time": "2021-08-25T03:45:53.933Z"
   },
   {
    "duration": 8,
    "start_time": "2021-08-25T03:45:54.025Z"
   },
   {
    "duration": 21,
    "start_time": "2021-08-25T03:45:54.498Z"
   },
   {
    "duration": 23,
    "start_time": "2021-08-25T03:45:54.672Z"
   },
   {
    "duration": 21,
    "start_time": "2021-08-25T03:45:55.060Z"
   },
   {
    "duration": 10,
    "start_time": "2021-08-25T03:45:55.192Z"
   },
   {
    "duration": 28,
    "start_time": "2021-08-25T03:45:55.668Z"
   },
   {
    "duration": 17,
    "start_time": "2021-08-25T03:45:55.867Z"
   },
   {
    "duration": 7,
    "start_time": "2021-08-25T03:45:56.188Z"
   },
   {
    "duration": 5,
    "start_time": "2021-08-25T03:45:56.672Z"
   },
   {
    "duration": 7,
    "start_time": "2021-08-25T03:45:56.844Z"
   },
   {
    "duration": 8,
    "start_time": "2021-08-25T03:45:57.019Z"
   },
   {
    "duration": 3,
    "start_time": "2021-08-25T03:45:57.811Z"
   },
   {
    "duration": 20,
    "start_time": "2021-08-25T03:45:57.989Z"
   },
   {
    "duration": 3,
    "start_time": "2021-08-25T03:45:58.785Z"
   },
   {
    "duration": 3,
    "start_time": "2021-08-25T03:46:05.116Z"
   },
   {
    "duration": 2,
    "start_time": "2021-08-25T03:46:05.468Z"
   },
   {
    "duration": 3,
    "start_time": "2021-08-25T03:46:06.098Z"
   },
   {
    "duration": 3,
    "start_time": "2021-08-25T03:46:06.630Z"
   },
   {
    "duration": 3,
    "start_time": "2021-08-25T03:46:07.059Z"
   },
   {
    "duration": 3,
    "start_time": "2021-08-25T03:46:08.062Z"
   },
   {
    "duration": 17327,
    "start_time": "2021-08-25T03:46:12.998Z"
   },
   {
    "duration": 3,
    "start_time": "2021-08-25T03:46:30.328Z"
   },
   {
    "duration": 485,
    "start_time": "2021-08-25T03:50:17.604Z"
   },
   {
    "duration": 3,
    "start_time": "2021-08-25T03:50:34.673Z"
   },
   {
    "duration": 3,
    "start_time": "2021-08-25T03:50:38.807Z"
   },
   {
    "duration": 4,
    "start_time": "2021-08-25T03:50:39.122Z"
   },
   {
    "duration": 3,
    "start_time": "2021-08-25T03:50:39.300Z"
   },
   {
    "duration": 3,
    "start_time": "2021-08-25T03:50:40.364Z"
   },
   {
    "duration": 669091,
    "start_time": "2021-08-25T03:50:41.023Z"
   },
   {
    "duration": 3,
    "start_time": "2021-08-25T04:01:50.116Z"
   },
   {
    "duration": 674888,
    "start_time": "2021-08-25T04:06:35.881Z"
   },
   {
    "duration": 3,
    "start_time": "2021-08-25T04:17:50.771Z"
   },
   {
    "duration": 3,
    "start_time": "2021-08-25T04:18:36.369Z"
   },
   {
    "duration": 3,
    "start_time": "2021-08-25T04:18:39.093Z"
   },
   {
    "duration": 4,
    "start_time": "2021-08-25T04:18:40.040Z"
   },
   {
    "duration": 4,
    "start_time": "2021-08-25T04:18:40.564Z"
   },
   {
    "duration": 856,
    "start_time": "2021-08-25T04:18:41.593Z"
   },
   {
    "duration": 3,
    "start_time": "2021-08-25T04:18:46.117Z"
   },
   {
    "duration": 396,
    "start_time": "2021-08-25T04:18:47.182Z"
   },
   {
    "duration": 552,
    "start_time": "2021-08-25T04:18:53.149Z"
   },
   {
    "duration": 3,
    "start_time": "2021-08-25T04:18:56.155Z"
   },
   {
    "duration": 20533,
    "start_time": "2021-08-25T04:18:56.698Z"
   },
   {
    "duration": 3,
    "start_time": "2021-08-25T04:19:29.978Z"
   },
   {
    "duration": 24871,
    "start_time": "2021-08-25T04:19:30.423Z"
   },
   {
    "duration": 1179,
    "start_time": "2021-08-25T04:20:37.964Z"
   },
   {
    "duration": 1555,
    "start_time": "2021-08-26T04:12:52.737Z"
   },
   {
    "duration": 908,
    "start_time": "2021-08-26T04:12:54.295Z"
   },
   {
    "duration": 57,
    "start_time": "2021-08-26T04:12:55.206Z"
   },
   {
    "duration": 41,
    "start_time": "2021-08-26T04:12:55.266Z"
   },
   {
    "duration": 79,
    "start_time": "2021-08-26T04:12:55.310Z"
   },
   {
    "duration": 7,
    "start_time": "2021-08-26T04:12:55.391Z"
   },
   {
    "duration": 4,
    "start_time": "2021-08-26T04:12:55.401Z"
   },
   {
    "duration": 48,
    "start_time": "2021-08-26T04:12:55.408Z"
   },
   {
    "duration": 20,
    "start_time": "2021-08-26T04:12:55.459Z"
   },
   {
    "duration": 3,
    "start_time": "2021-08-26T04:12:55.482Z"
   },
   {
    "duration": 10,
    "start_time": "2021-08-26T04:12:55.488Z"
   },
   {
    "duration": 13,
    "start_time": "2021-08-26T04:12:55.501Z"
   },
   {
    "duration": 9,
    "start_time": "2021-08-26T04:12:56.263Z"
   },
   {
    "duration": 15,
    "start_time": "2021-08-26T04:12:56.499Z"
   },
   {
    "duration": 251,
    "start_time": "2021-08-26T04:12:56.890Z"
   },
   {
    "duration": 12,
    "start_time": "2021-08-26T04:12:57.144Z"
   },
   {
    "duration": 17,
    "start_time": "2021-08-26T04:12:57.603Z"
   },
   {
    "duration": 71,
    "start_time": "2021-08-26T04:12:57.961Z"
   },
   {
    "duration": 8,
    "start_time": "2021-08-26T04:12:58.142Z"
   },
   {
    "duration": 9,
    "start_time": "2021-08-26T04:12:58.324Z"
   },
   {
    "duration": 350,
    "start_time": "2021-08-26T04:12:58.515Z"
   },
   {
    "duration": 15,
    "start_time": "2021-08-26T04:12:58.867Z"
   },
   {
    "duration": 18,
    "start_time": "2021-08-26T04:12:59.042Z"
   },
   {
    "duration": 26,
    "start_time": "2021-08-26T04:12:59.385Z"
   },
   {
    "duration": 25,
    "start_time": "2021-08-26T04:13:00.101Z"
   },
   {
    "duration": 835,
    "start_time": "2021-08-26T04:13:00.287Z"
   },
   {
    "duration": 345,
    "start_time": "2021-08-26T04:13:01.168Z"
   },
   {
    "duration": 816,
    "start_time": "2021-08-26T04:13:02.337Z"
   },
   {
    "duration": 27,
    "start_time": "2021-08-26T04:13:03.156Z"
   },
   {
    "duration": 14,
    "start_time": "2021-08-26T04:13:03.226Z"
   },
   {
    "duration": 18,
    "start_time": "2021-08-26T04:13:03.594Z"
   },
   {
    "duration": 19,
    "start_time": "2021-08-26T04:13:04.199Z"
   },
   {
    "duration": 20,
    "start_time": "2021-08-26T04:13:04.633Z"
   },
   {
    "duration": 18,
    "start_time": "2021-08-26T04:13:05.357Z"
   },
   {
    "duration": 401,
    "start_time": "2021-08-26T04:13:06.304Z"
   },
   {
    "duration": 9,
    "start_time": "2021-08-26T04:13:06.974Z"
   },
   {
    "duration": 9,
    "start_time": "2021-08-26T04:13:07.200Z"
   },
   {
    "duration": 9,
    "start_time": "2021-08-26T04:13:07.437Z"
   },
   {
    "duration": 10,
    "start_time": "2021-08-26T04:13:07.672Z"
   },
   {
    "duration": 42,
    "start_time": "2021-08-26T04:13:08.057Z"
   },
   {
    "duration": 35,
    "start_time": "2021-08-26T04:13:08.510Z"
   },
   {
    "duration": 12,
    "start_time": "2021-08-26T04:13:08.779Z"
   },
   {
    "duration": 35,
    "start_time": "2021-08-26T04:13:09.303Z"
   },
   {
    "duration": 37,
    "start_time": "2021-08-26T04:13:10.218Z"
   },
   {
    "duration": 34,
    "start_time": "2021-08-26T04:13:10.868Z"
   },
   {
    "duration": 14,
    "start_time": "2021-08-26T04:13:11.463Z"
   },
   {
    "duration": 46,
    "start_time": "2021-08-26T04:13:12.163Z"
   },
   {
    "duration": 26,
    "start_time": "2021-08-26T04:13:12.774Z"
   },
   {
    "duration": 10,
    "start_time": "2021-08-26T04:13:13.618Z"
   },
   {
    "duration": 6,
    "start_time": "2021-08-26T04:13:14.544Z"
   },
   {
    "duration": 11,
    "start_time": "2021-08-26T04:13:14.724Z"
   },
   {
    "duration": 12,
    "start_time": "2021-08-26T04:13:14.937Z"
   },
   {
    "duration": 4,
    "start_time": "2021-08-26T04:13:16.107Z"
   },
   {
    "duration": 28,
    "start_time": "2021-08-26T04:13:16.334Z"
   },
   {
    "duration": 4,
    "start_time": "2021-08-26T04:13:17.717Z"
   },
   {
    "duration": 6,
    "start_time": "2021-08-26T04:13:18.636Z"
   },
   {
    "duration": 5,
    "start_time": "2021-08-26T04:13:19.460Z"
   },
   {
    "duration": 4,
    "start_time": "2021-08-26T04:13:20.572Z"
   },
   {
    "duration": 3,
    "start_time": "2021-08-26T04:13:21.907Z"
   },
   {
    "duration": 5,
    "start_time": "2021-08-26T04:13:22.579Z"
   },
   {
    "duration": 317,
    "start_time": "2021-08-26T04:21:29.788Z"
   },
   {
    "duration": 4,
    "start_time": "2021-08-26T04:21:37.197Z"
   },
   {
    "duration": 6,
    "start_time": "2021-08-26T04:21:38.240Z"
   },
   {
    "duration": 4,
    "start_time": "2021-08-26T04:21:39.375Z"
   },
   {
    "duration": 4,
    "start_time": "2021-08-26T04:21:40.482Z"
   },
   {
    "duration": 4,
    "start_time": "2021-08-26T04:21:41.574Z"
   },
   {
    "duration": 5,
    "start_time": "2021-08-26T04:21:42.256Z"
   },
   {
    "duration": 4,
    "start_time": "2021-08-26T04:21:42.808Z"
   },
   {
    "duration": 23089,
    "start_time": "2021-08-26T04:21:43.940Z"
   },
   {
    "duration": 6,
    "start_time": "2021-08-26T04:22:07.031Z"
   },
   {
    "duration": 4,
    "start_time": "2021-08-26T04:22:33.238Z"
   },
   {
    "duration": 23550,
    "start_time": "2021-08-26T04:22:34.410Z"
   },
   {
    "duration": 5,
    "start_time": "2021-08-26T04:28:00.346Z"
   },
   {
    "duration": 4,
    "start_time": "2021-08-26T04:28:10.428Z"
   },
   {
    "duration": 6,
    "start_time": "2021-08-26T04:28:10.949Z"
   },
   {
    "duration": 4,
    "start_time": "2021-08-26T04:28:13.524Z"
   },
   {
    "duration": 4,
    "start_time": "2021-08-26T04:29:25.981Z"
   },
   {
    "duration": 896874,
    "start_time": "2021-08-26T04:29:26.670Z"
   },
   {
    "duration": 5,
    "start_time": "2021-08-26T04:46:50.708Z"
   },
   {
    "duration": 904043,
    "start_time": "2021-08-26T04:47:35.339Z"
   },
   {
    "duration": 5,
    "start_time": "2021-08-26T05:03:16.325Z"
   },
   {
    "duration": 4,
    "start_time": "2021-08-26T05:03:30.520Z"
   },
   {
    "duration": 6,
    "start_time": "2021-08-26T05:03:37.409Z"
   },
   {
    "duration": 6,
    "start_time": "2021-08-26T05:03:40.948Z"
   },
   {
    "duration": 985,
    "start_time": "2021-08-26T05:03:45.475Z"
   },
   {
    "duration": 4,
    "start_time": "2021-08-26T05:04:08.646Z"
   },
   {
    "duration": 717,
    "start_time": "2021-08-26T05:04:09.736Z"
   },
   {
    "duration": 4,
    "start_time": "2021-08-26T05:04:24.669Z"
   },
   {
    "duration": 27088,
    "start_time": "2021-08-26T05:04:26.175Z"
   },
   {
    "duration": 4,
    "start_time": "2021-08-26T05:04:53.266Z"
   },
   {
    "duration": 32763,
    "start_time": "2021-08-26T05:04:53.272Z"
   },
   {
    "duration": 17867,
    "start_time": "2021-08-26T05:06:06.823Z"
   },
   {
    "duration": 14387,
    "start_time": "2021-08-26T05:06:44.784Z"
   },
   {
    "duration": 948,
    "start_time": "2021-08-26T05:07:08.692Z"
   },
   {
    "duration": 1577,
    "start_time": "2021-08-26T11:00:07.458Z"
   },
   {
    "duration": 884,
    "start_time": "2021-08-26T11:00:09.038Z"
   },
   {
    "duration": 56,
    "start_time": "2021-08-26T11:00:11.146Z"
   },
   {
    "duration": 44,
    "start_time": "2021-08-26T11:00:11.308Z"
   },
   {
    "duration": 51,
    "start_time": "2021-08-26T11:00:11.541Z"
   },
   {
    "duration": 7,
    "start_time": "2021-08-26T11:00:11.745Z"
   },
   {
    "duration": 4,
    "start_time": "2021-08-26T11:00:12.197Z"
   },
   {
    "duration": 20,
    "start_time": "2021-08-26T11:00:12.302Z"
   },
   {
    "duration": 17,
    "start_time": "2021-08-26T11:00:12.880Z"
   },
   {
    "duration": 4,
    "start_time": "2021-08-26T11:00:13.032Z"
   },
   {
    "duration": 7,
    "start_time": "2021-08-26T11:00:13.684Z"
   },
   {
    "duration": 12,
    "start_time": "2021-08-26T11:00:14.025Z"
   },
   {
    "duration": 8,
    "start_time": "2021-08-26T11:00:14.112Z"
   },
   {
    "duration": 17,
    "start_time": "2021-08-26T11:00:14.293Z"
   },
   {
    "duration": 253,
    "start_time": "2021-08-26T11:00:14.542Z"
   },
   {
    "duration": 13,
    "start_time": "2021-08-26T11:00:14.800Z"
   },
   {
    "duration": 17,
    "start_time": "2021-08-26T11:00:15.123Z"
   },
   {
    "duration": 76,
    "start_time": "2021-08-26T11:00:15.401Z"
   },
   {
    "duration": 8,
    "start_time": "2021-08-26T11:00:15.558Z"
   },
   {
    "duration": 9,
    "start_time": "2021-08-26T11:00:15.734Z"
   },
   {
    "duration": 366,
    "start_time": "2021-08-26T11:00:15.851Z"
   },
   {
    "duration": 19,
    "start_time": "2021-08-26T11:00:16.220Z"
   },
   {
    "duration": 24,
    "start_time": "2021-08-26T11:00:16.242Z"
   },
   {
    "duration": 25,
    "start_time": "2021-08-26T11:00:16.434Z"
   },
   {
    "duration": 22,
    "start_time": "2021-08-26T11:00:17.894Z"
   },
   {
    "duration": 852,
    "start_time": "2021-08-26T11:00:18.059Z"
   },
   {
    "duration": 366,
    "start_time": "2021-08-26T11:00:18.914Z"
   },
   {
    "duration": 770,
    "start_time": "2021-08-26T11:00:19.283Z"
   },
   {
    "duration": 26,
    "start_time": "2021-08-26T11:00:20.056Z"
   },
   {
    "duration": 27,
    "start_time": "2021-08-26T11:00:20.085Z"
   },
   {
    "duration": 19,
    "start_time": "2021-08-26T11:00:20.135Z"
   },
   {
    "duration": 19,
    "start_time": "2021-08-26T11:00:20.586Z"
   },
   {
    "duration": 19,
    "start_time": "2021-08-26T11:00:20.979Z"
   },
   {
    "duration": 19,
    "start_time": "2021-08-26T11:00:21.323Z"
   },
   {
    "duration": 434,
    "start_time": "2021-08-26T11:00:21.680Z"
   },
   {
    "duration": 8,
    "start_time": "2021-08-26T11:00:22.117Z"
   },
   {
    "duration": 10,
    "start_time": "2021-08-26T11:00:22.216Z"
   },
   {
    "duration": 11,
    "start_time": "2021-08-26T11:00:22.393Z"
   },
   {
    "duration": 10,
    "start_time": "2021-08-26T11:00:22.683Z"
   },
   {
    "duration": 41,
    "start_time": "2021-08-26T11:00:22.946Z"
   },
   {
    "duration": 36,
    "start_time": "2021-08-26T11:00:23.314Z"
   },
   {
    "duration": 13,
    "start_time": "2021-08-26T11:00:23.505Z"
   },
   {
    "duration": 34,
    "start_time": "2021-08-26T11:00:23.885Z"
   },
   {
    "duration": 38,
    "start_time": "2021-08-26T11:00:24.300Z"
   },
   {
    "duration": 34,
    "start_time": "2021-08-26T11:00:24.778Z"
   },
   {
    "duration": 15,
    "start_time": "2021-08-26T11:00:25.019Z"
   },
   {
    "duration": 44,
    "start_time": "2021-08-26T11:00:25.423Z"
   },
   {
    "duration": 26,
    "start_time": "2021-08-26T11:00:25.640Z"
   },
   {
    "duration": 10,
    "start_time": "2021-08-26T11:00:26.253Z"
   },
   {
    "duration": 6,
    "start_time": "2021-08-26T11:00:26.880Z"
   },
   {
    "duration": 11,
    "start_time": "2021-08-26T11:00:27.062Z"
   },
   {
    "duration": 13,
    "start_time": "2021-08-26T11:00:27.271Z"
   },
   {
    "duration": 4,
    "start_time": "2021-08-26T11:00:28.335Z"
   },
   {
    "duration": 27,
    "start_time": "2021-08-26T11:00:28.514Z"
   },
   {
    "duration": 4,
    "start_time": "2021-08-26T11:00:29.368Z"
   },
   {
    "duration": 6,
    "start_time": "2021-08-26T11:00:29.658Z"
   },
   {
    "duration": 4,
    "start_time": "2021-08-26T11:00:30.058Z"
   },
   {
    "duration": 4,
    "start_time": "2021-08-26T11:00:30.499Z"
   },
   {
    "duration": 4,
    "start_time": "2021-08-26T11:00:31.070Z"
   },
   {
    "duration": 10,
    "start_time": "2021-08-26T11:00:31.099Z"
   },
   {
    "duration": 3,
    "start_time": "2021-08-26T11:00:31.348Z"
   },
   {
    "duration": 23172,
    "start_time": "2021-08-26T11:00:32.120Z"
   },
   {
    "duration": 6,
    "start_time": "2021-08-26T11:07:17.041Z"
   },
   {
    "duration": 5,
    "start_time": "2021-08-26T11:07:18.055Z"
   },
   {
    "duration": 23016,
    "start_time": "2021-08-26T11:07:19.191Z"
   },
   {
    "duration": 5,
    "start_time": "2021-08-26T11:15:14.649Z"
   },
   {
    "duration": 4,
    "start_time": "2021-08-26T11:15:16.354Z"
   },
   {
    "duration": 6,
    "start_time": "2021-08-26T11:15:17.131Z"
   },
   {
    "duration": 3,
    "start_time": "2021-08-26T11:15:17.240Z"
   },
   {
    "duration": 4,
    "start_time": "2021-08-26T11:15:17.572Z"
   },
   {
    "duration": 925429,
    "start_time": "2021-08-26T11:15:18.430Z"
   },
   {
    "duration": 5,
    "start_time": "2021-08-26T11:34:04.052Z"
   },
   {
    "duration": 928261,
    "start_time": "2021-08-26T11:34:06.469Z"
   },
   {
    "duration": 5,
    "start_time": "2021-08-26T11:50:53.500Z"
   },
   {
    "duration": 4,
    "start_time": "2021-08-26T11:50:55.266Z"
   },
   {
    "duration": 6,
    "start_time": "2021-08-26T11:50:56.396Z"
   },
   {
    "duration": 6,
    "start_time": "2021-08-26T11:50:57.769Z"
   },
   {
    "duration": 645,
    "start_time": "2021-08-26T11:50:59.559Z"
   },
   {
    "duration": 4,
    "start_time": "2021-08-26T11:51:00.505Z"
   },
   {
    "duration": 809,
    "start_time": "2021-08-26T11:51:01.044Z"
   },
   {
    "duration": 4,
    "start_time": "2021-08-26T11:51:01.856Z"
   },
   {
    "duration": 27505,
    "start_time": "2021-08-26T11:51:02.941Z"
   },
   {
    "duration": 4,
    "start_time": "2021-08-26T11:51:30.448Z"
   },
   {
    "duration": 27837,
    "start_time": "2021-08-26T11:52:05.445Z"
   },
   {
    "duration": 5,
    "start_time": "2021-08-26T11:52:33.285Z"
   },
   {
    "duration": 34698,
    "start_time": "2021-08-26T11:52:33.302Z"
   },
   {
    "duration": 900,
    "start_time": "2021-08-26T11:53:20.303Z"
   },
   {
    "duration": 6,
    "start_time": "2021-08-26T11:56:05.624Z"
   },
   {
    "duration": 7,
    "start_time": "2021-08-26T11:56:21.056Z"
   },
   {
    "duration": 9737,
    "start_time": "2021-08-26T11:56:28.822Z"
   },
   {
    "duration": 6,
    "start_time": "2021-08-26T11:57:04.048Z"
   },
   {
    "duration": 17267,
    "start_time": "2021-08-26T11:57:09.601Z"
   },
   {
    "duration": 7,
    "start_time": "2021-08-26T12:02:28.161Z"
   },
   {
    "duration": 865,
    "start_time": "2021-08-26T12:02:28.314Z"
   },
   {
    "duration": 59,
    "start_time": "2021-08-26T12:02:29.181Z"
   },
   {
    "duration": 60,
    "start_time": "2021-08-26T12:02:29.243Z"
   },
   {
    "duration": 50,
    "start_time": "2021-08-26T12:02:29.306Z"
   },
   {
    "duration": 7,
    "start_time": "2021-08-26T12:02:29.360Z"
   },
   {
    "duration": 5,
    "start_time": "2021-08-26T12:02:30.165Z"
   },
   {
    "duration": 18,
    "start_time": "2021-08-26T12:02:30.314Z"
   },
   {
    "duration": 16,
    "start_time": "2021-08-26T12:02:31.004Z"
   },
   {
    "duration": 5,
    "start_time": "2021-08-26T12:02:31.214Z"
   },
   {
    "duration": 7,
    "start_time": "2021-08-26T12:02:31.354Z"
   },
   {
    "duration": 13,
    "start_time": "2021-08-26T12:02:31.876Z"
   },
   {
    "duration": 9,
    "start_time": "2021-08-26T12:02:32.032Z"
   },
   {
    "duration": 14,
    "start_time": "2021-08-26T12:02:32.263Z"
   },
   {
    "duration": 248,
    "start_time": "2021-08-26T12:02:32.535Z"
   },
   {
    "duration": 17,
    "start_time": "2021-08-26T12:02:32.785Z"
   },
   {
    "duration": 14,
    "start_time": "2021-08-26T12:02:33.045Z"
   },
   {
    "duration": 68,
    "start_time": "2021-08-26T12:02:33.382Z"
   },
   {
    "duration": 8,
    "start_time": "2021-08-26T12:02:33.558Z"
   },
   {
    "duration": 9,
    "start_time": "2021-08-26T12:02:33.726Z"
   },
   {
    "duration": 334,
    "start_time": "2021-08-26T12:02:33.966Z"
   },
   {
    "duration": 13,
    "start_time": "2021-08-26T12:02:34.303Z"
   },
   {
    "duration": 14,
    "start_time": "2021-08-26T12:02:34.377Z"
   },
   {
    "duration": 23,
    "start_time": "2021-08-26T12:02:34.615Z"
   },
   {
    "duration": 25,
    "start_time": "2021-08-26T12:02:35.308Z"
   },
   {
    "duration": 875,
    "start_time": "2021-08-26T12:02:35.485Z"
   },
   {
    "duration": 390,
    "start_time": "2021-08-26T12:02:36.363Z"
   },
   {
    "duration": 701,
    "start_time": "2021-08-26T12:02:36.756Z"
   },
   {
    "duration": 27,
    "start_time": "2021-08-26T12:02:37.460Z"
   },
   {
    "duration": 14,
    "start_time": "2021-08-26T12:02:37.502Z"
   },
   {
    "duration": 18,
    "start_time": "2021-08-26T12:02:37.625Z"
   },
   {
    "duration": 18,
    "start_time": "2021-08-26T12:02:37.945Z"
   },
   {
    "duration": 18,
    "start_time": "2021-08-26T12:02:38.308Z"
   },
   {
    "duration": 18,
    "start_time": "2021-08-26T12:02:38.684Z"
   },
   {
    "duration": 419,
    "start_time": "2021-08-26T12:02:39.039Z"
   },
   {
    "duration": 9,
    "start_time": "2021-08-26T12:02:39.461Z"
   },
   {
    "duration": 9,
    "start_time": "2021-08-26T12:02:39.604Z"
   },
   {
    "duration": 9,
    "start_time": "2021-08-26T12:02:39.775Z"
   },
   {
    "duration": 11,
    "start_time": "2021-08-26T12:02:39.953Z"
   },
   {
    "duration": 40,
    "start_time": "2021-08-26T12:02:40.352Z"
   },
   {
    "duration": 36,
    "start_time": "2021-08-26T12:02:40.738Z"
   },
   {
    "duration": 13,
    "start_time": "2021-08-26T12:02:40.919Z"
   },
   {
    "duration": 49,
    "start_time": "2021-08-26T12:02:41.322Z"
   },
   {
    "duration": 132,
    "start_time": "2021-08-26T12:02:41.713Z"
   },
   {
    "duration": 33,
    "start_time": "2021-08-26T12:02:42.098Z"
   },
   {
    "duration": 15,
    "start_time": "2021-08-26T12:02:42.353Z"
   },
   {
    "duration": 46,
    "start_time": "2021-08-26T12:02:42.753Z"
   },
   {
    "duration": 29,
    "start_time": "2021-08-26T12:02:42.971Z"
   },
   {
    "duration": 10,
    "start_time": "2021-08-26T12:02:43.404Z"
   },
   {
    "duration": 6,
    "start_time": "2021-08-26T12:02:43.828Z"
   },
   {
    "duration": 13,
    "start_time": "2021-08-26T12:02:44.012Z"
   },
   {
    "duration": 13,
    "start_time": "2021-08-26T12:02:44.534Z"
   },
   {
    "duration": 3,
    "start_time": "2021-08-26T12:02:45.609Z"
   },
   {
    "duration": 3,
    "start_time": "2021-08-26T12:02:45.893Z"
   },
   {
    "duration": 3,
    "start_time": "2021-08-26T12:02:47.112Z"
   },
   {
    "duration": 6,
    "start_time": "2021-08-26T12:02:47.631Z"
   },
   {
    "duration": 4,
    "start_time": "2021-08-26T12:02:48.033Z"
   },
   {
    "duration": 4,
    "start_time": "2021-08-26T12:02:48.399Z"
   },
   {
    "duration": 4,
    "start_time": "2021-08-26T12:02:48.794Z"
   },
   {
    "duration": 5,
    "start_time": "2021-08-26T12:02:49.240Z"
   },
   {
    "duration": 3,
    "start_time": "2021-08-26T12:02:49.451Z"
   },
   {
    "duration": 22770,
    "start_time": "2021-08-26T12:02:50.958Z"
   },
   {
    "duration": 1604,
    "start_time": "2021-08-26T13:55:07.589Z"
   },
   {
    "duration": 888,
    "start_time": "2021-08-26T13:55:09.197Z"
   },
   {
    "duration": 85,
    "start_time": "2021-08-26T13:55:10.089Z"
   },
   {
    "duration": 81,
    "start_time": "2021-08-26T13:55:10.177Z"
   },
   {
    "duration": 63,
    "start_time": "2021-08-26T13:55:10.260Z"
   },
   {
    "duration": 7,
    "start_time": "2021-08-26T13:55:10.325Z"
   },
   {
    "duration": 4,
    "start_time": "2021-08-26T13:55:12.360Z"
   },
   {
    "duration": 21,
    "start_time": "2021-08-26T13:55:12.522Z"
   },
   {
    "duration": 17,
    "start_time": "2021-08-26T13:55:12.826Z"
   },
   {
    "duration": 4,
    "start_time": "2021-08-26T13:55:12.997Z"
   },
   {
    "duration": 7,
    "start_time": "2021-08-26T13:55:13.293Z"
   },
   {
    "duration": 12,
    "start_time": "2021-08-26T13:55:13.427Z"
   },
   {
    "duration": 9,
    "start_time": "2021-08-26T13:55:13.685Z"
   },
   {
    "duration": 15,
    "start_time": "2021-08-26T13:55:13.729Z"
   },
   {
    "duration": 360,
    "start_time": "2021-08-26T13:55:14.037Z"
   },
   {
    "duration": 19,
    "start_time": "2021-08-26T13:55:14.400Z"
   },
   {
    "duration": 19,
    "start_time": "2021-08-26T13:55:14.453Z"
   },
   {
    "duration": 69,
    "start_time": "2021-08-26T13:55:14.771Z"
   },
   {
    "duration": 9,
    "start_time": "2021-08-26T13:55:14.925Z"
   },
   {
    "duration": 9,
    "start_time": "2021-08-26T13:55:15.069Z"
   },
   {
    "duration": 349,
    "start_time": "2021-08-26T13:55:15.220Z"
   },
   {
    "duration": 17,
    "start_time": "2021-08-26T13:55:15.571Z"
   },
   {
    "duration": 36,
    "start_time": "2021-08-26T13:55:15.592Z"
   },
   {
    "duration": 27,
    "start_time": "2021-08-26T13:55:15.877Z"
   },
   {
    "duration": 23,
    "start_time": "2021-08-26T13:55:16.551Z"
   },
   {
    "duration": 856,
    "start_time": "2021-08-26T13:55:16.716Z"
   },
   {
    "duration": 360,
    "start_time": "2021-08-26T13:55:17.575Z"
   },
   {
    "duration": 842,
    "start_time": "2021-08-26T13:55:17.938Z"
   },
   {
    "duration": 41,
    "start_time": "2021-08-26T13:55:18.783Z"
   },
   {
    "duration": 12,
    "start_time": "2021-08-26T13:55:18.827Z"
   },
   {
    "duration": 19,
    "start_time": "2021-08-26T13:55:19.186Z"
   },
   {
    "duration": 20,
    "start_time": "2021-08-26T13:55:19.609Z"
   },
   {
    "duration": 19,
    "start_time": "2021-08-26T13:55:20.009Z"
   },
   {
    "duration": 20,
    "start_time": "2021-08-26T13:55:20.433Z"
   },
   {
    "duration": 485,
    "start_time": "2021-08-26T13:55:20.812Z"
   },
   {
    "duration": 19,
    "start_time": "2021-08-26T13:55:21.299Z"
   },
   {
    "duration": 9,
    "start_time": "2021-08-26T13:55:21.473Z"
   },
   {
    "duration": 9,
    "start_time": "2021-08-26T13:55:21.682Z"
   },
   {
    "duration": 10,
    "start_time": "2021-08-26T13:55:21.906Z"
   },
   {
    "duration": 43,
    "start_time": "2021-08-26T13:55:22.356Z"
   },
   {
    "duration": 38,
    "start_time": "2021-08-26T13:55:22.779Z"
   },
   {
    "duration": 13,
    "start_time": "2021-08-26T13:55:22.997Z"
   },
   {
    "duration": 54,
    "start_time": "2021-08-26T13:55:23.421Z"
   },
   {
    "duration": 58,
    "start_time": "2021-08-26T13:55:23.838Z"
   },
   {
    "duration": 36,
    "start_time": "2021-08-26T13:55:24.261Z"
   },
   {
    "duration": 17,
    "start_time": "2021-08-26T13:55:24.470Z"
   },
   {
    "duration": 48,
    "start_time": "2021-08-26T13:55:24.934Z"
   },
   {
    "duration": 27,
    "start_time": "2021-08-26T13:55:25.218Z"
   },
   {
    "duration": 9,
    "start_time": "2021-08-26T13:55:25.562Z"
   },
   {
    "duration": 6,
    "start_time": "2021-08-26T13:55:25.983Z"
   },
   {
    "duration": 12,
    "start_time": "2021-08-26T13:55:26.267Z"
   },
   {
    "duration": 13,
    "start_time": "2021-08-26T13:55:26.407Z"
   },
   {
    "duration": 4,
    "start_time": "2021-08-26T13:55:27.321Z"
   },
   {
    "duration": 3,
    "start_time": "2021-08-26T13:55:27.488Z"
   },
   {
    "duration": 5,
    "start_time": "2021-08-26T13:55:28.074Z"
   },
   {
    "duration": 6,
    "start_time": "2021-08-26T13:55:28.473Z"
   },
   {
    "duration": 4,
    "start_time": "2021-08-26T13:55:28.858Z"
   },
   {
    "duration": 4,
    "start_time": "2021-08-26T13:55:29.273Z"
   },
   {
    "duration": 4,
    "start_time": "2021-08-26T13:55:29.762Z"
   },
   {
    "duration": 5,
    "start_time": "2021-08-26T13:55:30.069Z"
   },
   {
    "duration": 4,
    "start_time": "2021-08-26T13:55:30.163Z"
   },
   {
    "duration": 23309,
    "start_time": "2021-08-26T13:55:30.572Z"
   },
   {
    "duration": 6,
    "start_time": "2021-08-26T13:55:53.884Z"
   },
   {
    "duration": 5,
    "start_time": "2021-08-26T13:56:22.118Z"
   },
   {
    "duration": 40121,
    "start_time": "2021-08-26T13:56:23.201Z"
   },
   {
    "duration": 5,
    "start_time": "2021-08-26T13:57:07.778Z"
   },
   {
    "duration": 4,
    "start_time": "2021-08-26T13:57:09.035Z"
   },
   {
    "duration": 6,
    "start_time": "2021-08-26T13:57:09.497Z"
   },
   {
    "duration": 3,
    "start_time": "2021-08-26T13:57:10.080Z"
   },
   {
    "duration": 4,
    "start_time": "2021-08-26T13:57:10.557Z"
   },
   {
    "duration": 912786,
    "start_time": "2021-08-26T13:57:10.741Z"
   },
   {
    "duration": 4,
    "start_time": "2021-08-26T14:12:23.530Z"
   },
   {
    "duration": 5,
    "start_time": "2021-08-26T14:12:29.012Z"
   },
   {
    "duration": 1222953,
    "start_time": "2021-08-26T14:12:30.358Z"
   },
   {
    "duration": 4,
    "start_time": "2021-08-26T14:32:53.316Z"
   },
   {
    "duration": 4,
    "start_time": "2021-08-26T14:33:25.797Z"
   },
   {
    "duration": 5,
    "start_time": "2021-08-26T14:33:27.038Z"
   },
   {
    "duration": 5,
    "start_time": "2021-08-26T14:33:27.707Z"
   },
   {
    "duration": 1463,
    "start_time": "2021-08-26T14:33:32.053Z"
   },
   {
    "duration": 4,
    "start_time": "2021-08-26T14:33:33.519Z"
   },
   {
    "duration": 829,
    "start_time": "2021-08-26T14:33:33.745Z"
   },
   {
    "duration": 4,
    "start_time": "2021-08-26T14:33:35.356Z"
   },
   {
    "duration": 30038,
    "start_time": "2021-08-26T14:33:36.096Z"
   },
   {
    "duration": 4,
    "start_time": "2021-08-26T14:34:06.136Z"
   },
   {
    "duration": 22085,
    "start_time": "2021-08-26T14:34:06.142Z"
   },
   {
    "duration": 4156,
    "start_time": "2021-08-26T14:35:43.301Z"
   },
   {
    "duration": 5449,
    "start_time": "2021-08-26T14:36:09.268Z"
   },
   {
    "duration": 4,
    "start_time": "2021-08-26T14:36:25.353Z"
   },
   {
    "duration": 765,
    "start_time": "2021-08-26T14:36:26.690Z"
   },
   {
    "duration": 285,
    "start_time": "2021-08-26T14:36:39.718Z"
   },
   {
    "duration": 595,
    "start_time": "2021-08-26T14:36:52.248Z"
   },
   {
    "duration": 5,
    "start_time": "2021-08-26T14:38:04.453Z"
   },
   {
    "duration": 627,
    "start_time": "2021-08-26T14:38:05.502Z"
   },
   {
    "duration": 641,
    "start_time": "2021-08-26T14:38:08.049Z"
   },
   {
    "duration": 1775,
    "start_time": "2021-08-26T18:22:38.888Z"
   },
   {
    "duration": 4823,
    "start_time": "2021-08-26T18:22:40.667Z"
   },
   {
    "duration": 62,
    "start_time": "2021-08-26T18:22:45.492Z"
   },
   {
    "duration": 58,
    "start_time": "2021-08-26T18:22:45.557Z"
   },
   {
    "duration": 98,
    "start_time": "2021-08-26T18:22:45.618Z"
   },
   {
    "duration": 8,
    "start_time": "2021-08-26T18:22:45.718Z"
   },
   {
    "duration": 5,
    "start_time": "2021-08-26T18:22:46.711Z"
   },
   {
    "duration": 23,
    "start_time": "2021-08-26T18:22:46.867Z"
   },
   {
    "duration": 21,
    "start_time": "2021-08-26T18:22:47.336Z"
   },
   {
    "duration": 5,
    "start_time": "2021-08-26T18:22:47.488Z"
   },
   {
    "duration": 9,
    "start_time": "2021-08-26T18:22:47.658Z"
   },
   {
    "duration": 14,
    "start_time": "2021-08-26T18:22:48.140Z"
   },
   {
    "duration": 11,
    "start_time": "2021-08-26T18:22:48.317Z"
   },
   {
    "duration": 17,
    "start_time": "2021-08-26T18:22:48.513Z"
   },
   {
    "duration": 387,
    "start_time": "2021-08-26T18:22:48.829Z"
   },
   {
    "duration": 14,
    "start_time": "2021-08-26T18:22:49.219Z"
   },
   {
    "duration": 22,
    "start_time": "2021-08-26T18:22:49.366Z"
   },
   {
    "duration": 78,
    "start_time": "2021-08-26T18:22:49.747Z"
   },
   {
    "duration": 9,
    "start_time": "2021-08-26T18:22:49.897Z"
   },
   {
    "duration": 10,
    "start_time": "2021-08-26T18:22:50.080Z"
   },
   {
    "duration": 365,
    "start_time": "2021-08-26T18:22:50.273Z"
   },
   {
    "duration": 16,
    "start_time": "2021-08-26T18:22:50.641Z"
   },
   {
    "duration": 20,
    "start_time": "2021-08-26T18:22:50.771Z"
   },
   {
    "duration": 24,
    "start_time": "2021-08-26T18:22:51.139Z"
   },
   {
    "duration": 23,
    "start_time": "2021-08-26T18:22:51.881Z"
   },
   {
    "duration": 949,
    "start_time": "2021-08-26T18:22:52.071Z"
   },
   {
    "duration": 364,
    "start_time": "2021-08-26T18:22:53.024Z"
   },
   {
    "duration": 748,
    "start_time": "2021-08-26T18:22:53.390Z"
   },
   {
    "duration": 41,
    "start_time": "2021-08-26T18:23:04.237Z"
   },
   {
    "duration": 17,
    "start_time": "2021-08-26T18:23:04.576Z"
   },
   {
    "duration": 17,
    "start_time": "2021-08-26T18:23:04.897Z"
   },
   {
    "duration": 19,
    "start_time": "2021-08-26T18:23:05.210Z"
   },
   {
    "duration": 18,
    "start_time": "2021-08-26T18:23:05.525Z"
   },
   {
    "duration": 19,
    "start_time": "2021-08-26T18:23:05.851Z"
   },
   {
    "duration": 413,
    "start_time": "2021-08-26T18:23:06.168Z"
   },
   {
    "duration": 9,
    "start_time": "2021-08-26T18:23:06.583Z"
   },
   {
    "duration": 11,
    "start_time": "2021-08-26T18:23:06.682Z"
   },
   {
    "duration": 9,
    "start_time": "2021-08-26T18:23:06.865Z"
   },
   {
    "duration": 10,
    "start_time": "2021-08-26T18:23:07.029Z"
   },
   {
    "duration": 41,
    "start_time": "2021-08-26T18:23:07.309Z"
   },
   {
    "duration": 35,
    "start_time": "2021-08-26T18:23:07.645Z"
   },
   {
    "duration": 13,
    "start_time": "2021-08-26T18:23:07.816Z"
   },
   {
    "duration": 34,
    "start_time": "2021-08-26T18:23:08.146Z"
   },
   {
    "duration": 35,
    "start_time": "2021-08-26T18:23:08.510Z"
   },
   {
    "duration": 47,
    "start_time": "2021-08-26T18:23:08.852Z"
   },
   {
    "duration": 19,
    "start_time": "2021-08-26T18:23:09.071Z"
   },
   {
    "duration": 61,
    "start_time": "2021-08-26T18:23:09.414Z"
   },
   {
    "duration": 39,
    "start_time": "2021-08-26T18:23:09.604Z"
   },
   {
    "duration": 11,
    "start_time": "2021-08-26T18:23:09.966Z"
   },
   {
    "duration": 6,
    "start_time": "2021-08-26T18:23:10.333Z"
   },
   {
    "duration": 11,
    "start_time": "2021-08-26T18:23:10.532Z"
   },
   {
    "duration": 13,
    "start_time": "2021-08-26T18:23:11.080Z"
   },
   {
    "duration": 3,
    "start_time": "2021-08-26T18:23:12.013Z"
   },
   {
    "duration": 4,
    "start_time": "2021-08-26T18:23:12.197Z"
   },
   {
    "duration": 4,
    "start_time": "2021-08-26T18:23:12.801Z"
   },
   {
    "duration": 5,
    "start_time": "2021-08-26T18:23:13.674Z"
   },
   {
    "duration": 4,
    "start_time": "2021-08-26T18:23:35.400Z"
   },
   {
    "duration": 37,
    "start_time": "2021-08-26T18:23:36.019Z"
   },
   {
    "duration": 4,
    "start_time": "2021-08-26T18:23:38.433Z"
   },
   {
    "duration": 6,
    "start_time": "2021-08-26T18:23:39.048Z"
   },
   {
    "duration": 4,
    "start_time": "2021-08-26T18:23:39.415Z"
   },
   {
    "duration": 4,
    "start_time": "2021-08-26T18:23:39.873Z"
   },
   {
    "duration": 4,
    "start_time": "2021-08-26T18:23:40.241Z"
   },
   {
    "duration": 4,
    "start_time": "2021-08-26T18:23:40.434Z"
   },
   {
    "duration": 4,
    "start_time": "2021-08-26T18:23:40.631Z"
   },
   {
    "duration": 33699,
    "start_time": "2021-08-26T18:23:41.059Z"
   },
   {
    "duration": 7,
    "start_time": "2021-08-26T18:24:14.761Z"
   },
   {
    "duration": 14,
    "start_time": "2021-08-26T18:24:14.771Z"
   },
   {
    "duration": 25566,
    "start_time": "2021-08-26T18:24:14.787Z"
   },
   {
    "duration": 5,
    "start_time": "2021-08-26T18:24:40.356Z"
   },
   {
    "duration": 16,
    "start_time": "2021-08-26T18:24:40.363Z"
   },
   {
    "duration": 7,
    "start_time": "2021-08-26T18:24:58.155Z"
   },
   {
    "duration": 4,
    "start_time": "2021-08-26T18:24:58.657Z"
   },
   {
    "duration": 24129,
    "start_time": "2021-08-26T18:24:59.160Z"
   },
   {
    "duration": 5,
    "start_time": "2021-08-26T18:25:23.291Z"
   },
   {
    "duration": 6,
    "start_time": "2021-08-26T18:25:23.299Z"
   },
   {
    "duration": 5,
    "start_time": "2021-08-26T18:25:31.438Z"
   },
   {
    "duration": 3,
    "start_time": "2021-08-26T18:25:31.872Z"
   },
   {
    "duration": 6,
    "start_time": "2021-08-26T18:25:32.064Z"
   },
   {
    "duration": 4,
    "start_time": "2021-08-26T18:25:32.805Z"
   },
   {
    "duration": 4,
    "start_time": "2021-08-26T18:25:33.044Z"
   },
   {
    "duration": 1029459,
    "start_time": "2021-08-26T18:25:33.996Z"
   },
   {
    "duration": 5,
    "start_time": "2021-08-26T18:42:46.609Z"
   },
   {
    "duration": 1031987,
    "start_time": "2021-08-26T18:42:47.261Z"
   },
   {
    "duration": 5,
    "start_time": "2021-08-26T19:00:11.113Z"
   },
   {
    "duration": 4,
    "start_time": "2021-08-26T19:00:12.736Z"
   },
   {
    "duration": 6,
    "start_time": "2021-08-26T19:00:13.704Z"
   },
   {
    "duration": 6,
    "start_time": "2021-08-26T19:00:19.300Z"
   },
   {
    "duration": 550,
    "start_time": "2021-08-26T19:00:20.108Z"
   },
   {
    "duration": 4,
    "start_time": "2021-08-26T19:00:25.829Z"
   },
   {
    "duration": 861,
    "start_time": "2021-08-26T19:00:29.155Z"
   },
   {
    "duration": 3,
    "start_time": "2021-08-26T19:00:30.019Z"
   },
   {
    "duration": 27310,
    "start_time": "2021-08-26T19:00:30.468Z"
   },
   {
    "duration": 3,
    "start_time": "2021-08-26T19:00:57.781Z"
   },
   {
    "duration": 33932,
    "start_time": "2021-08-26T19:00:57.786Z"
   },
   {
    "duration": 7266,
    "start_time": "2021-08-26T19:03:28.578Z"
   },
   {
    "duration": 9,
    "start_time": "2021-08-26T19:03:35.846Z"
   },
   {
    "duration": 637,
    "start_time": "2021-08-26T19:03:37.009Z"
   },
   {
    "duration": 665,
    "start_time": "2021-08-26T19:03:38.356Z"
   },
   {
    "duration": 4,
    "start_time": "2021-08-26T19:03:40.256Z"
   },
   {
    "duration": 14,
    "start_time": "2021-08-26T19:03:43.356Z"
   },
   {
    "duration": 775,
    "start_time": "2021-08-26T19:32:46.535Z"
   },
   {
    "duration": 741,
    "start_time": "2021-08-26T19:32:52.484Z"
   },
   {
    "duration": 1322,
    "start_time": "2021-08-27T19:15:25.797Z"
   },
   {
    "duration": 702,
    "start_time": "2021-08-27T19:15:27.121Z"
   },
   {
    "duration": 35,
    "start_time": "2021-08-27T19:15:27.825Z"
   },
   {
    "duration": 39,
    "start_time": "2021-08-27T19:15:27.862Z"
   },
   {
    "duration": 30,
    "start_time": "2021-08-27T19:15:27.903Z"
   },
   {
    "duration": 4,
    "start_time": "2021-08-27T19:15:27.935Z"
   },
   {
    "duration": 5,
    "start_time": "2021-08-27T19:15:27.941Z"
   },
   {
    "duration": 12,
    "start_time": "2021-08-27T19:15:27.949Z"
   },
   {
    "duration": 39,
    "start_time": "2021-08-27T19:15:27.963Z"
   },
   {
    "duration": 3,
    "start_time": "2021-08-27T19:15:28.003Z"
   },
   {
    "duration": 8,
    "start_time": "2021-08-27T19:15:28.007Z"
   },
   {
    "duration": 11,
    "start_time": "2021-08-27T19:15:28.017Z"
   },
   {
    "duration": 6,
    "start_time": "2021-08-27T19:15:28.030Z"
   },
   {
    "duration": 14,
    "start_time": "2021-08-27T19:15:28.038Z"
   },
   {
    "duration": 229,
    "start_time": "2021-08-27T19:15:28.054Z"
   },
   {
    "duration": 13,
    "start_time": "2021-08-27T19:15:28.285Z"
   },
   {
    "duration": 12,
    "start_time": "2021-08-27T19:15:28.300Z"
   },
   {
    "duration": 52,
    "start_time": "2021-08-27T19:15:28.313Z"
   },
   {
    "duration": 27,
    "start_time": "2021-08-27T19:15:28.366Z"
   },
   {
    "duration": 6,
    "start_time": "2021-08-27T19:15:28.395Z"
   },
   {
    "duration": 293,
    "start_time": "2021-08-27T19:15:28.403Z"
   },
   {
    "duration": 10,
    "start_time": "2021-08-27T19:15:28.697Z"
   },
   {
    "duration": 15,
    "start_time": "2021-08-27T19:15:28.711Z"
   },
   {
    "duration": 18,
    "start_time": "2021-08-27T19:15:28.729Z"
   },
   {
    "duration": 13,
    "start_time": "2021-08-27T19:15:28.749Z"
   },
   {
    "duration": 505,
    "start_time": "2021-08-27T19:15:28.792Z"
   },
   {
    "duration": 209,
    "start_time": "2021-08-27T19:15:29.299Z"
   },
   {
    "duration": 465,
    "start_time": "2021-08-27T19:15:29.509Z"
   },
   {
    "duration": 22,
    "start_time": "2021-08-27T19:15:29.976Z"
   },
   {
    "duration": 17,
    "start_time": "2021-08-27T19:15:30.000Z"
   },
   {
    "duration": 48,
    "start_time": "2021-08-27T19:15:30.019Z"
   },
   {
    "duration": 12,
    "start_time": "2021-08-27T19:15:30.069Z"
   },
   {
    "duration": 12,
    "start_time": "2021-08-27T19:15:30.082Z"
   },
   {
    "duration": 15,
    "start_time": "2021-08-27T19:15:30.096Z"
   },
   {
    "duration": 263,
    "start_time": "2021-08-27T19:15:30.113Z"
   },
   {
    "duration": 15,
    "start_time": "2021-08-27T19:15:30.378Z"
   },
   {
    "duration": 10,
    "start_time": "2021-08-27T19:15:30.394Z"
   },
   {
    "duration": 13,
    "start_time": "2021-08-27T19:15:30.406Z"
   },
   {
    "duration": 7,
    "start_time": "2021-08-27T19:15:30.420Z"
   },
   {
    "duration": 33,
    "start_time": "2021-08-27T19:15:30.428Z"
   },
   {
    "duration": 39,
    "start_time": "2021-08-27T19:15:30.462Z"
   },
   {
    "duration": 22,
    "start_time": "2021-08-27T19:15:30.504Z"
   },
   {
    "duration": 40,
    "start_time": "2021-08-27T19:15:30.528Z"
   },
   {
    "duration": 32,
    "start_time": "2021-08-27T19:15:30.570Z"
   },
   {
    "duration": 45,
    "start_time": "2021-08-27T19:15:30.605Z"
   },
   {
    "duration": 29,
    "start_time": "2021-08-27T19:15:30.653Z"
   },
   {
    "duration": 34,
    "start_time": "2021-08-27T19:15:30.684Z"
   },
   {
    "duration": 21,
    "start_time": "2021-08-27T19:15:30.720Z"
   },
   {
    "duration": 10,
    "start_time": "2021-08-27T19:15:30.743Z"
   },
   {
    "duration": 9,
    "start_time": "2021-08-27T19:15:30.756Z"
   },
   {
    "duration": 30,
    "start_time": "2021-08-27T19:15:30.766Z"
   },
   {
    "duration": 33,
    "start_time": "2021-08-27T19:15:30.798Z"
   },
   {
    "duration": 3,
    "start_time": "2021-08-27T19:15:30.834Z"
   },
   {
    "duration": 43,
    "start_time": "2021-08-27T19:15:30.839Z"
   },
   {
    "duration": 3,
    "start_time": "2021-08-27T19:15:30.884Z"
   },
   {
    "duration": 14,
    "start_time": "2021-08-27T19:15:30.890Z"
   },
   {
    "duration": 8,
    "start_time": "2021-08-27T19:15:30.906Z"
   },
   {
    "duration": 11,
    "start_time": "2021-08-27T19:15:30.916Z"
   },
   {
    "duration": 17,
    "start_time": "2021-08-27T19:15:30.929Z"
   },
   {
    "duration": 19,
    "start_time": "2021-08-27T19:15:30.948Z"
   },
   {
    "duration": 15,
    "start_time": "2021-08-27T19:15:30.969Z"
   },
   {
    "duration": 17242,
    "start_time": "2021-08-27T19:15:30.985Z"
   },
   {
    "duration": 5,
    "start_time": "2021-08-27T19:15:48.228Z"
   },
   {
    "duration": 6,
    "start_time": "2021-08-27T19:15:48.234Z"
   },
   {
    "duration": 17279,
    "start_time": "2021-08-27T19:15:48.241Z"
   },
   {
    "duration": 2,
    "start_time": "2021-08-27T19:16:05.522Z"
   },
   {
    "duration": 6,
    "start_time": "2021-08-27T19:16:05.526Z"
   },
   {
    "duration": 4,
    "start_time": "2021-08-27T19:16:05.536Z"
   },
   {
    "duration": 5,
    "start_time": "2021-08-27T19:16:05.541Z"
   },
   {
    "duration": 4,
    "start_time": "2021-08-27T19:16:05.548Z"
   },
   {
    "duration": 678941,
    "start_time": "2021-08-27T19:16:05.554Z"
   },
   {
    "duration": 3,
    "start_time": "2021-08-27T19:27:24.497Z"
   },
   {
    "duration": 664103,
    "start_time": "2021-08-27T19:27:24.502Z"
   },
   {
    "duration": 3,
    "start_time": "2021-08-27T19:38:28.606Z"
   },
   {
    "duration": 6,
    "start_time": "2021-08-27T19:38:28.611Z"
   },
   {
    "duration": 6,
    "start_time": "2021-08-27T19:38:28.619Z"
   },
   {
    "duration": 11,
    "start_time": "2021-08-27T19:38:28.626Z"
   },
   {
    "duration": 854,
    "start_time": "2021-08-27T19:38:28.639Z"
   },
   {
    "duration": 2,
    "start_time": "2021-08-27T19:38:29.495Z"
   },
   {
    "duration": 594,
    "start_time": "2021-08-27T19:38:29.499Z"
   },
   {
    "duration": 3,
    "start_time": "2021-08-27T19:38:30.094Z"
   },
   {
    "duration": 19841,
    "start_time": "2021-08-27T19:38:30.099Z"
   },
   {
    "duration": 3,
    "start_time": "2021-08-27T19:38:49.941Z"
   },
   {
    "duration": 24850,
    "start_time": "2021-08-27T19:38:49.945Z"
   },
   {
    "duration": 5347,
    "start_time": "2021-08-27T19:39:14.797Z"
   },
   {
    "duration": 3,
    "start_time": "2021-08-27T19:39:20.145Z"
   },
   {
    "duration": 11,
    "start_time": "2021-08-27T19:39:20.149Z"
   },
   {
    "duration": 2551,
    "start_time": "2021-08-28T04:27:50.171Z"
   },
   {
    "duration": 920,
    "start_time": "2021-08-28T04:27:52.725Z"
   },
   {
    "duration": 834,
    "start_time": "2021-08-28T04:27:53.648Z"
   },
   {
    "duration": 1522,
    "start_time": "2021-08-28T04:27:54.485Z"
   },
   {
    "duration": 977,
    "start_time": "2021-08-28T04:27:56.009Z"
   },
   {
    "duration": 555,
    "start_time": "2021-08-28T04:27:56.989Z"
   },
   {
    "duration": 319,
    "start_time": "2021-08-28T04:27:57.546Z"
   },
   {
    "duration": 17,
    "start_time": "2021-08-28T04:27:57.868Z"
   },
   {
    "duration": 18,
    "start_time": "2021-08-28T04:27:57.889Z"
   },
   {
    "duration": 3,
    "start_time": "2021-08-28T04:27:57.910Z"
   },
   {
    "duration": 13,
    "start_time": "2021-08-28T04:27:57.915Z"
   },
   {
    "duration": 13,
    "start_time": "2021-08-28T04:27:57.930Z"
   },
   {
    "duration": 46,
    "start_time": "2021-08-28T04:27:57.945Z"
   },
   {
    "duration": 14,
    "start_time": "2021-08-28T04:27:57.994Z"
   },
   {
    "duration": 602,
    "start_time": "2021-08-28T04:27:58.010Z"
   },
   {
    "duration": 11,
    "start_time": "2021-08-28T04:27:58.614Z"
   },
   {
    "duration": 74,
    "start_time": "2021-08-28T04:27:58.627Z"
   },
   {
    "duration": 192,
    "start_time": "2021-08-28T04:27:58.704Z"
   },
   {
    "duration": 9,
    "start_time": "2021-08-28T04:27:58.901Z"
   },
   {
    "duration": 71,
    "start_time": "2021-08-28T04:27:58.913Z"
   },
   {
    "duration": 895,
    "start_time": "2021-08-28T04:27:58.990Z"
   },
   {
    "duration": 15,
    "start_time": "2021-08-28T04:27:59.889Z"
   },
   {
    "duration": 86,
    "start_time": "2021-08-28T04:27:59.914Z"
   },
   {
    "duration": 91,
    "start_time": "2021-08-28T04:28:00.005Z"
   },
   {
    "duration": 88,
    "start_time": "2021-08-28T04:28:00.102Z"
   },
   {
    "duration": 2019,
    "start_time": "2021-08-28T04:28:00.198Z"
   },
   {
    "duration": 992,
    "start_time": "2021-08-28T04:28:02.220Z"
   },
   {
    "duration": 1583,
    "start_time": "2021-08-28T04:28:03.215Z"
   },
   {
    "duration": 86,
    "start_time": "2021-08-28T04:28:04.800Z"
   },
   {
    "duration": 20,
    "start_time": "2021-08-28T04:28:04.889Z"
   },
   {
    "duration": 81,
    "start_time": "2021-08-28T04:28:04.912Z"
   },
   {
    "duration": 20,
    "start_time": "2021-08-28T04:28:04.998Z"
   },
   {
    "duration": 76,
    "start_time": "2021-08-28T04:28:05.021Z"
   },
   {
    "duration": 17,
    "start_time": "2021-08-28T04:28:05.102Z"
   },
   {
    "duration": 884,
    "start_time": "2021-08-28T04:28:05.121Z"
   },
   {
    "duration": 7,
    "start_time": "2021-08-28T04:28:06.008Z"
   },
   {
    "duration": 70,
    "start_time": "2021-08-28T04:28:06.017Z"
   },
   {
    "duration": 12,
    "start_time": "2021-08-28T04:28:06.094Z"
   },
   {
    "duration": 8,
    "start_time": "2021-08-28T04:28:06.110Z"
   },
   {
    "duration": 119,
    "start_time": "2021-08-28T04:28:06.184Z"
   },
   {
    "duration": 106,
    "start_time": "2021-08-28T04:28:06.306Z"
   },
   {
    "duration": 74,
    "start_time": "2021-08-28T04:28:06.415Z"
   },
   {
    "duration": 90,
    "start_time": "2021-08-28T04:28:06.492Z"
   },
   {
    "duration": 101,
    "start_time": "2021-08-28T04:28:06.585Z"
   },
   {
    "duration": 34,
    "start_time": "2021-08-28T04:28:06.688Z"
   },
   {
    "duration": 83,
    "start_time": "2021-08-28T04:28:06.724Z"
   },
   {
    "duration": 98,
    "start_time": "2021-08-28T04:28:06.809Z"
   },
   {
    "duration": 90,
    "start_time": "2021-08-28T04:28:06.909Z"
   },
   {
    "duration": 14,
    "start_time": "2021-08-28T04:28:07.002Z"
   },
   {
    "duration": 71,
    "start_time": "2021-08-28T04:28:07.019Z"
   },
   {
    "duration": 19,
    "start_time": "2021-08-28T04:28:07.099Z"
   },
   {
    "duration": 79,
    "start_time": "2021-08-28T04:28:07.121Z"
   },
   {
    "duration": 4,
    "start_time": "2021-08-28T04:28:07.202Z"
   },
   {
    "duration": 86,
    "start_time": "2021-08-28T04:28:07.208Z"
   },
   {
    "duration": 4,
    "start_time": "2021-08-28T04:28:07.298Z"
   },
   {
    "duration": 10,
    "start_time": "2021-08-28T04:28:07.304Z"
   },
   {
    "duration": 4,
    "start_time": "2021-08-28T04:28:07.316Z"
   },
   {
    "duration": 71,
    "start_time": "2021-08-28T04:28:07.322Z"
   },
   {
    "duration": 4,
    "start_time": "2021-08-28T04:28:07.396Z"
   },
   {
    "duration": 6,
    "start_time": "2021-08-28T04:28:07.403Z"
   },
   {
    "duration": 10,
    "start_time": "2021-08-28T04:28:07.411Z"
   },
   {
    "duration": 34193,
    "start_time": "2021-08-28T04:28:07.424Z"
   },
   {
    "duration": 5,
    "start_time": "2021-08-28T04:28:41.619Z"
   },
   {
    "duration": 6,
    "start_time": "2021-08-28T04:28:41.626Z"
   },
   {
    "duration": 22334,
    "start_time": "2021-08-28T04:28:41.634Z"
   },
   {
    "duration": 4,
    "start_time": "2021-08-28T04:29:03.981Z"
   },
   {
    "duration": 29,
    "start_time": "2021-08-28T04:29:03.988Z"
   },
   {
    "duration": 8,
    "start_time": "2021-08-28T04:29:04.024Z"
   },
   {
    "duration": 16,
    "start_time": "2021-08-28T04:29:04.035Z"
   },
   {
    "duration": 8,
    "start_time": "2021-08-28T04:29:04.054Z"
   },
   {
    "duration": 912406,
    "start_time": "2021-08-28T04:29:04.064Z"
   },
   {
    "duration": 13,
    "start_time": "2021-08-28T04:44:16.472Z"
   },
   {
    "duration": 905802,
    "start_time": "2021-08-28T04:44:16.488Z"
   },
   {
    "duration": 5,
    "start_time": "2021-08-28T04:59:22.293Z"
   },
   {
    "duration": 8,
    "start_time": "2021-08-28T04:59:22.302Z"
   },
   {
    "duration": 7,
    "start_time": "2021-08-28T04:59:22.312Z"
   },
   {
    "duration": 8,
    "start_time": "2021-08-28T04:59:22.322Z"
   },
   {
    "duration": 753,
    "start_time": "2021-08-28T04:59:22.332Z"
   },
   {
    "duration": 94,
    "start_time": "2021-08-28T04:59:23.089Z"
   },
   {
    "duration": 684,
    "start_time": "2021-08-28T04:59:23.185Z"
   },
   {
    "duration": 12,
    "start_time": "2021-08-28T04:59:23.871Z"
   },
   {
    "duration": 25324,
    "start_time": "2021-08-28T04:59:23.886Z"
   },
   {
    "duration": 4,
    "start_time": "2021-08-28T04:59:49.212Z"
   },
   {
    "duration": 31053,
    "start_time": "2021-08-28T04:59:49.218Z"
   },
   {
    "duration": 6418,
    "start_time": "2021-08-28T05:00:20.273Z"
   },
   {
    "duration": 3,
    "start_time": "2021-08-28T05:00:26.694Z"
   },
   {
    "duration": 20,
    "start_time": "2021-08-28T05:00:26.699Z"
   },
   {
    "duration": 3,
    "start_time": "2021-08-28T05:43:01.102Z"
   },
   {
    "duration": 16,
    "start_time": "2021-08-28T05:43:01.605Z"
   },
   {
    "duration": 17,
    "start_time": "2021-08-28T05:43:05.001Z"
   },
   {
    "duration": 16,
    "start_time": "2021-08-28T05:43:08.098Z"
   },
   {
    "duration": 15,
    "start_time": "2021-08-28T05:43:09.861Z"
   },
   {
    "duration": 428,
    "start_time": "2021-08-29T05:38:24.146Z"
   },
   {
    "duration": 416,
    "start_time": "2021-08-29T05:40:45.001Z"
   },
   {
    "duration": 1464,
    "start_time": "2021-08-29T05:40:51.408Z"
   },
   {
    "duration": 816,
    "start_time": "2021-08-29T05:40:52.875Z"
   },
   {
    "duration": 51,
    "start_time": "2021-08-29T05:40:54.318Z"
   },
   {
    "duration": 45,
    "start_time": "2021-08-29T05:40:54.634Z"
   },
   {
    "duration": 49,
    "start_time": "2021-08-29T05:40:54.932Z"
   },
   {
    "duration": 6,
    "start_time": "2021-08-29T05:40:55.262Z"
   },
   {
    "duration": 4,
    "start_time": "2021-08-29T05:40:56.171Z"
   },
   {
    "duration": 20,
    "start_time": "2021-08-29T05:40:56.339Z"
   },
   {
    "duration": 18,
    "start_time": "2021-08-29T05:40:56.951Z"
   },
   {
    "duration": 3,
    "start_time": "2021-08-29T05:40:57.466Z"
   },
   {
    "duration": 8,
    "start_time": "2021-08-29T05:40:57.725Z"
   },
   {
    "duration": 12,
    "start_time": "2021-08-29T05:40:59.165Z"
   },
   {
    "duration": 9,
    "start_time": "2021-08-29T05:40:59.867Z"
   },
   {
    "duration": 15,
    "start_time": "2021-08-29T05:41:00.061Z"
   },
   {
    "duration": 12,
    "start_time": "2021-08-29T05:41:02.423Z"
   },
   {
    "duration": 13,
    "start_time": "2021-08-29T05:41:16.879Z"
   },
   {
    "duration": 12,
    "start_time": "2021-08-29T05:41:25.026Z"
   },
   {
    "duration": 11,
    "start_time": "2021-08-29T05:46:14.333Z"
   },
   {
    "duration": 15,
    "start_time": "2021-08-29T05:46:18.854Z"
   },
   {
    "duration": 158,
    "start_time": "2021-08-29T05:46:25.956Z"
   },
   {
    "duration": 13,
    "start_time": "2021-08-29T05:46:39.378Z"
   },
   {
    "duration": 17,
    "start_time": "2021-08-29T05:49:10.359Z"
   },
   {
    "duration": 17,
    "start_time": "2021-08-29T05:51:56.581Z"
   },
   {
    "duration": 488,
    "start_time": "2021-08-29T05:56:04.379Z"
   },
   {
    "duration": 13,
    "start_time": "2021-08-29T05:56:13.773Z"
   },
   {
    "duration": 13,
    "start_time": "2021-08-29T05:56:17.335Z"
   },
   {
    "duration": 390,
    "start_time": "2021-08-29T05:56:27.316Z"
   },
   {
    "duration": 12,
    "start_time": "2021-08-29T05:56:33.114Z"
   },
   {
    "duration": 8,
    "start_time": "2021-08-29T05:57:06.851Z"
   },
   {
    "duration": 12,
    "start_time": "2021-08-29T05:57:16.900Z"
   },
   {
    "duration": 13,
    "start_time": "2021-08-29T05:57:22.845Z"
   },
   {
    "duration": 365,
    "start_time": "2021-08-29T05:58:18.873Z"
   },
   {
    "duration": 336,
    "start_time": "2021-08-29T05:58:25.990Z"
   },
   {
    "duration": 329,
    "start_time": "2021-08-29T06:03:39.934Z"
   },
   {
    "duration": 4,
    "start_time": "2021-08-29T06:05:20.630Z"
   },
   {
    "duration": 15,
    "start_time": "2021-08-29T06:05:28.990Z"
   },
   {
    "duration": 343,
    "start_time": "2021-08-29T06:05:45.850Z"
   },
   {
    "duration": 4,
    "start_time": "2021-08-29T06:06:00.327Z"
   },
   {
    "duration": 14,
    "start_time": "2021-08-29T06:06:01.089Z"
   },
   {
    "duration": 3,
    "start_time": "2021-08-29T06:06:12.615Z"
   },
   {
    "duration": 5,
    "start_time": "2021-08-29T06:07:13.023Z"
   },
   {
    "duration": 1137,
    "start_time": "2021-08-29T06:07:13.604Z"
   },
   {
    "duration": 5,
    "start_time": "2021-08-29T06:07:35.905Z"
   },
   {
    "duration": 21,
    "start_time": "2021-08-29T06:07:36.796Z"
   },
   {
    "duration": 17,
    "start_time": "2021-08-29T06:07:43.742Z"
   },
   {
    "duration": 8,
    "start_time": "2021-08-29T06:08:13.090Z"
   },
   {
    "duration": 981,
    "start_time": "2021-08-29T06:08:13.238Z"
   },
   {
    "duration": 61,
    "start_time": "2021-08-29T06:08:14.221Z"
   },
   {
    "duration": 40,
    "start_time": "2021-08-29T06:08:14.285Z"
   },
   {
    "duration": 72,
    "start_time": "2021-08-29T06:08:14.328Z"
   },
   {
    "duration": 6,
    "start_time": "2021-08-29T06:08:14.403Z"
   },
   {
    "duration": 4,
    "start_time": "2021-08-29T06:08:14.907Z"
   },
   {
    "duration": 19,
    "start_time": "2021-08-29T06:08:15.091Z"
   },
   {
    "duration": 19,
    "start_time": "2021-08-29T06:08:15.427Z"
   },
   {
    "duration": 4,
    "start_time": "2021-08-29T06:08:15.605Z"
   },
   {
    "duration": 8,
    "start_time": "2021-08-29T06:08:15.843Z"
   },
   {
    "duration": 13,
    "start_time": "2021-08-29T06:08:16.420Z"
   },
   {
    "duration": 9,
    "start_time": "2021-08-29T06:08:17.287Z"
   },
   {
    "duration": 15,
    "start_time": "2021-08-29T06:08:17.600Z"
   },
   {
    "duration": 5,
    "start_time": "2021-08-29T06:08:20.103Z"
   },
   {
    "duration": 19,
    "start_time": "2021-08-29T06:08:21.006Z"
   },
   {
    "duration": 4,
    "start_time": "2021-08-29T06:08:38.016Z"
   },
   {
    "duration": 14,
    "start_time": "2021-08-29T06:08:39.514Z"
   },
   {
    "duration": 4,
    "start_time": "2021-08-29T06:09:54.774Z"
   },
   {
    "duration": 13,
    "start_time": "2021-08-29T06:10:28.466Z"
   },
   {
    "duration": 9,
    "start_time": "2021-08-29T06:10:28.898Z"
   },
   {
    "duration": 14,
    "start_time": "2021-08-29T06:10:29.363Z"
   },
   {
    "duration": 4,
    "start_time": "2021-08-29T06:12:14.417Z"
   },
   {
    "duration": 723,
    "start_time": "2021-08-29T06:12:14.935Z"
   },
   {
    "duration": 4,
    "start_time": "2021-08-29T06:12:22.948Z"
   },
   {
    "duration": 22,
    "start_time": "2021-08-29T06:12:23.885Z"
   },
   {
    "duration": 111,
    "start_time": "2021-08-29T06:12:41.677Z"
   },
   {
    "duration": 4,
    "start_time": "2021-08-29T06:12:55.300Z"
   },
   {
    "duration": 20,
    "start_time": "2021-08-29T06:12:55.733Z"
   },
   {
    "duration": 5,
    "start_time": "2021-08-29T06:13:07.132Z"
   },
   {
    "duration": 102,
    "start_time": "2021-08-29T06:13:07.732Z"
   },
   {
    "duration": 170,
    "start_time": "2021-08-29T06:13:36.897Z"
   },
   {
    "duration": 140,
    "start_time": "2021-08-29T06:13:41.648Z"
   },
   {
    "duration": 5,
    "start_time": "2021-08-29T06:13:53.715Z"
   },
   {
    "duration": 13,
    "start_time": "2021-08-29T06:13:54.119Z"
   },
   {
    "duration": 4,
    "start_time": "2021-08-29T06:14:19.822Z"
   },
   {
    "duration": 721,
    "start_time": "2021-08-29T06:14:20.354Z"
   },
   {
    "duration": 4,
    "start_time": "2021-08-29T06:14:34.866Z"
   },
   {
    "duration": 15,
    "start_time": "2021-08-29T06:14:35.390Z"
   },
   {
    "duration": 46,
    "start_time": "2021-08-29T06:20:41.032Z"
   },
   {
    "duration": 20,
    "start_time": "2021-08-29T06:20:53.525Z"
   },
   {
    "duration": 3153,
    "start_time": "2021-08-29T06:20:59.316Z"
   },
   {
    "duration": 20,
    "start_time": "2021-08-29T06:21:21.738Z"
   },
   {
    "duration": 3,
    "start_time": "2021-08-29T06:21:59.352Z"
   },
   {
    "duration": 12,
    "start_time": "2021-08-29T06:22:47.155Z"
   },
   {
    "duration": 25,
    "start_time": "2021-08-29T06:22:47.672Z"
   },
   {
    "duration": 8,
    "start_time": "2021-08-29T06:24:27.816Z"
   },
   {
    "duration": 9,
    "start_time": "2021-08-29T06:24:28.658Z"
   },
   {
    "duration": 3,
    "start_time": "2021-08-29T06:24:29.251Z"
   },
   {
    "duration": 13,
    "start_time": "2021-08-29T06:24:29.569Z"
   },
   {
    "duration": 18,
    "start_time": "2021-08-29T06:24:29.747Z"
   },
   {
    "duration": 25,
    "start_time": "2021-08-29T06:24:30.214Z"
   },
   {
    "duration": 20,
    "start_time": "2021-08-29T06:24:33.180Z"
   },
   {
    "duration": 771,
    "start_time": "2021-08-29T06:24:34.511Z"
   },
   {
    "duration": 325,
    "start_time": "2021-08-29T06:24:39.190Z"
   },
   {
    "duration": 313,
    "start_time": "2021-08-29T06:24:47.746Z"
   },
   {
    "duration": 594,
    "start_time": "2021-08-29T06:24:54.829Z"
   },
   {
    "duration": 6,
    "start_time": "2021-08-29T06:26:18.944Z"
   },
   {
    "duration": 6,
    "start_time": "2021-08-29T06:26:23.439Z"
   },
   {
    "duration": 6,
    "start_time": "2021-08-29T06:27:37.965Z"
   },
   {
    "duration": 1180,
    "start_time": "2021-08-29T10:04:42.584Z"
   },
   {
    "duration": 643,
    "start_time": "2021-08-29T10:04:43.765Z"
   },
   {
    "duration": 33,
    "start_time": "2021-08-29T10:04:44.410Z"
   },
   {
    "duration": 26,
    "start_time": "2021-08-29T10:04:44.444Z"
   },
   {
    "duration": 28,
    "start_time": "2021-08-29T10:04:44.492Z"
   },
   {
    "duration": 4,
    "start_time": "2021-08-29T10:04:44.522Z"
   },
   {
    "duration": 16,
    "start_time": "2021-08-29T10:04:44.527Z"
   },
   {
    "duration": 20,
    "start_time": "2021-08-29T10:04:44.545Z"
   },
   {
    "duration": 15,
    "start_time": "2021-08-29T10:04:44.567Z"
   },
   {
    "duration": 8,
    "start_time": "2021-08-29T10:04:44.584Z"
   },
   {
    "duration": 10,
    "start_time": "2021-08-29T10:04:44.593Z"
   },
   {
    "duration": 24,
    "start_time": "2021-08-29T10:04:44.605Z"
   },
   {
    "duration": 8,
    "start_time": "2021-08-29T10:04:44.631Z"
   },
   {
    "duration": 18,
    "start_time": "2021-08-29T10:04:44.641Z"
   },
   {
    "duration": 2,
    "start_time": "2021-08-29T10:04:44.661Z"
   },
   {
    "duration": 18,
    "start_time": "2021-08-29T10:04:44.665Z"
   },
   {
    "duration": 7,
    "start_time": "2021-08-29T10:04:44.684Z"
   },
   {
    "duration": 11,
    "start_time": "2021-08-29T10:04:44.692Z"
   },
   {
    "duration": 3,
    "start_time": "2021-08-29T10:04:44.705Z"
   },
   {
    "duration": 21,
    "start_time": "2021-08-29T10:04:44.709Z"
   },
   {
    "duration": 6,
    "start_time": "2021-08-29T10:04:44.732Z"
   },
   {
    "duration": 21,
    "start_time": "2021-08-29T10:04:44.739Z"
   },
   {
    "duration": 31,
    "start_time": "2021-08-29T10:04:44.763Z"
   },
   {
    "duration": 2,
    "start_time": "2021-08-29T10:04:44.796Z"
   },
   {
    "duration": 9,
    "start_time": "2021-08-29T10:04:44.800Z"
   },
   {
    "duration": 8,
    "start_time": "2021-08-29T10:04:44.810Z"
   },
   {
    "duration": 6,
    "start_time": "2021-08-29T10:04:44.819Z"
   },
   {
    "duration": 13,
    "start_time": "2021-08-29T10:04:44.827Z"
   },
   {
    "duration": 14,
    "start_time": "2021-08-29T10:04:44.841Z"
   },
   {
    "duration": 41,
    "start_time": "2021-08-29T10:04:44.857Z"
   },
   {
    "duration": 13,
    "start_time": "2021-08-29T10:04:44.899Z"
   },
   {
    "duration": 482,
    "start_time": "2021-08-29T10:04:44.913Z"
   },
   {
    "duration": 197,
    "start_time": "2021-08-29T10:04:45.396Z"
   },
   {
    "duration": 420,
    "start_time": "2021-08-29T10:04:45.595Z"
   },
   {
    "duration": 5,
    "start_time": "2021-08-29T10:04:46.017Z"
   },
   {
    "duration": 18,
    "start_time": "2021-08-29T10:04:46.024Z"
   },
   {
    "duration": 11,
    "start_time": "2021-08-29T10:04:46.043Z"
   },
   {
    "duration": 4,
    "start_time": "2021-08-29T10:04:46.056Z"
   },
   {
    "duration": 35,
    "start_time": "2021-08-29T10:04:46.061Z"
   },
   {
    "duration": 11,
    "start_time": "2021-08-29T10:04:46.097Z"
   },
   {
    "duration": 9,
    "start_time": "2021-08-29T10:04:46.109Z"
   },
   {
    "duration": 9,
    "start_time": "2021-08-29T10:04:46.120Z"
   },
   {
    "duration": 255,
    "start_time": "2021-08-29T10:04:46.131Z"
   },
   {
    "duration": 7,
    "start_time": "2021-08-29T10:04:46.387Z"
   },
   {
    "duration": 8,
    "start_time": "2021-08-29T10:04:46.395Z"
   },
   {
    "duration": 6,
    "start_time": "2021-08-29T10:04:46.405Z"
   },
   {
    "duration": 6,
    "start_time": "2021-08-29T10:04:46.412Z"
   },
   {
    "duration": 24,
    "start_time": "2021-08-29T10:04:46.420Z"
   },
   {
    "duration": 59,
    "start_time": "2021-08-29T10:04:46.446Z"
   },
   {
    "duration": 10,
    "start_time": "2021-08-29T10:04:46.507Z"
   },
   {
    "duration": 19,
    "start_time": "2021-08-29T10:04:46.519Z"
   },
   {
    "duration": 21,
    "start_time": "2021-08-29T10:04:46.540Z"
   },
   {
    "duration": 43,
    "start_time": "2021-08-29T10:04:46.563Z"
   },
   {
    "duration": 12,
    "start_time": "2021-08-29T10:04:46.608Z"
   },
   {
    "duration": 25,
    "start_time": "2021-08-29T10:04:46.622Z"
   },
   {
    "duration": 45,
    "start_time": "2021-08-29T10:04:46.649Z"
   },
   {
    "duration": 9,
    "start_time": "2021-08-29T10:04:46.696Z"
   },
   {
    "duration": 8,
    "start_time": "2021-08-29T10:04:46.706Z"
   },
   {
    "duration": 9,
    "start_time": "2021-08-29T10:04:46.715Z"
   },
   {
    "duration": 8,
    "start_time": "2021-08-29T10:04:46.725Z"
   },
   {
    "duration": 4,
    "start_time": "2021-08-29T10:04:46.735Z"
   },
   {
    "duration": 26,
    "start_time": "2021-08-29T10:04:46.741Z"
   },
   {
    "duration": 24,
    "start_time": "2021-08-29T10:04:46.769Z"
   },
   {
    "duration": 11,
    "start_time": "2021-08-29T10:04:46.795Z"
   },
   {
    "duration": 6,
    "start_time": "2021-08-29T10:04:46.807Z"
   },
   {
    "duration": 9,
    "start_time": "2021-08-29T10:04:46.815Z"
   },
   {
    "duration": 7,
    "start_time": "2021-08-29T10:04:46.825Z"
   },
   {
    "duration": 6,
    "start_time": "2021-08-29T10:04:46.837Z"
   },
   {
    "duration": 12,
    "start_time": "2021-08-29T10:04:46.845Z"
   },
   {
    "duration": 17489,
    "start_time": "2021-08-29T10:04:46.859Z"
   },
   {
    "duration": 4,
    "start_time": "2021-08-29T10:05:04.350Z"
   },
   {
    "duration": 6,
    "start_time": "2021-08-29T10:05:04.355Z"
   },
   {
    "duration": 17066,
    "start_time": "2021-08-29T10:05:04.363Z"
   },
   {
    "duration": 4,
    "start_time": "2021-08-29T10:05:21.431Z"
   },
   {
    "duration": 5,
    "start_time": "2021-08-29T10:05:21.436Z"
   },
   {
    "duration": 6,
    "start_time": "2021-08-29T10:05:21.443Z"
   },
   {
    "duration": 4,
    "start_time": "2021-08-29T10:05:21.450Z"
   },
   {
    "duration": 5,
    "start_time": "2021-08-29T10:05:21.456Z"
   },
   {
    "duration": 694937,
    "start_time": "2021-08-29T10:05:21.463Z"
   },
   {
    "duration": 4,
    "start_time": "2021-08-29T10:16:56.403Z"
   },
   {
    "duration": 720798,
    "start_time": "2021-08-29T10:16:56.409Z"
   },
   {
    "duration": 3,
    "start_time": "2021-08-29T10:28:57.208Z"
   },
   {
    "duration": 7,
    "start_time": "2021-08-29T10:28:57.213Z"
   },
   {
    "duration": 5,
    "start_time": "2021-08-29T10:28:57.222Z"
   },
   {
    "duration": 65,
    "start_time": "2021-08-29T10:28:57.229Z"
   },
   {
    "duration": 1197,
    "start_time": "2021-08-29T10:28:57.296Z"
   },
   {
    "duration": 4,
    "start_time": "2021-08-29T10:28:58.495Z"
   },
   {
    "duration": 1206,
    "start_time": "2021-08-29T10:28:58.501Z"
   },
   {
    "duration": 2,
    "start_time": "2021-08-29T10:28:59.709Z"
   },
   {
    "duration": 23484,
    "start_time": "2021-08-29T10:28:59.713Z"
   },
   {
    "duration": 4,
    "start_time": "2021-08-29T10:29:23.199Z"
   },
   {
    "duration": 24450,
    "start_time": "2021-08-29T10:29:23.204Z"
   },
   {
    "duration": 5216,
    "start_time": "2021-08-29T10:29:47.656Z"
   },
   {
    "duration": 3,
    "start_time": "2021-08-29T10:29:52.874Z"
   },
   {
    "duration": 17,
    "start_time": "2021-08-29T10:29:52.878Z"
   },
   {
    "duration": 1738,
    "start_time": "2021-08-29T12:15:19.691Z"
   },
   {
    "duration": 1309,
    "start_time": "2021-08-29T12:15:21.431Z"
   },
   {
    "duration": 51,
    "start_time": "2021-08-29T12:15:22.742Z"
   },
   {
    "duration": 37,
    "start_time": "2021-08-29T12:15:22.795Z"
   },
   {
    "duration": 101,
    "start_time": "2021-08-29T12:15:22.834Z"
   },
   {
    "duration": 5,
    "start_time": "2021-08-29T12:15:22.993Z"
   },
   {
    "duration": 9,
    "start_time": "2021-08-29T12:15:23.001Z"
   },
   {
    "duration": 79,
    "start_time": "2021-08-29T12:15:23.014Z"
   },
   {
    "duration": 18,
    "start_time": "2021-08-29T12:15:23.096Z"
   },
   {
    "duration": 10,
    "start_time": "2021-08-29T12:15:23.117Z"
   },
   {
    "duration": 72,
    "start_time": "2021-08-29T12:15:23.129Z"
   },
   {
    "duration": 13,
    "start_time": "2021-08-29T12:15:23.206Z"
   },
   {
    "duration": 71,
    "start_time": "2021-08-29T12:15:23.222Z"
   },
   {
    "duration": 26,
    "start_time": "2021-08-29T12:15:23.295Z"
   },
   {
    "duration": 4,
    "start_time": "2021-08-29T12:15:23.323Z"
   },
   {
    "duration": 127,
    "start_time": "2021-08-29T12:15:23.329Z"
   },
   {
    "duration": 11,
    "start_time": "2021-08-29T12:15:23.458Z"
   },
   {
    "duration": 14,
    "start_time": "2021-08-29T12:15:23.471Z"
   },
   {
    "duration": 2,
    "start_time": "2021-08-29T12:15:23.487Z"
   },
   {
    "duration": 22,
    "start_time": "2021-08-29T12:15:23.491Z"
   },
   {
    "duration": 8,
    "start_time": "2021-08-29T12:15:23.515Z"
   },
   {
    "duration": 79,
    "start_time": "2021-08-29T12:15:23.525Z"
   },
   {
    "duration": 12,
    "start_time": "2021-08-29T12:15:23.609Z"
   },
   {
    "duration": 2,
    "start_time": "2021-08-29T12:15:23.624Z"
   },
   {
    "duration": 67,
    "start_time": "2021-08-29T12:15:23.628Z"
   },
   {
    "duration": 7,
    "start_time": "2021-08-29T12:15:23.697Z"
   },
   {
    "duration": 10,
    "start_time": "2021-08-29T12:15:23.706Z"
   },
   {
    "duration": 14,
    "start_time": "2021-08-29T12:15:23.718Z"
   },
   {
    "duration": 71,
    "start_time": "2021-08-29T12:15:23.734Z"
   },
   {
    "duration": 15,
    "start_time": "2021-08-29T12:15:23.807Z"
   },
   {
    "duration": 14,
    "start_time": "2021-08-29T12:15:23.824Z"
   },
   {
    "duration": 761,
    "start_time": "2021-08-29T12:15:23.840Z"
   },
   {
    "duration": 211,
    "start_time": "2021-08-29T12:15:24.602Z"
   },
   {
    "duration": 457,
    "start_time": "2021-08-29T12:15:24.815Z"
   },
   {
    "duration": 4,
    "start_time": "2021-08-29T12:15:25.274Z"
   },
   {
    "duration": 18,
    "start_time": "2021-08-29T12:15:25.291Z"
   },
   {
    "duration": 10,
    "start_time": "2021-08-29T12:15:25.311Z"
   },
   {
    "duration": 5,
    "start_time": "2021-08-29T12:15:25.323Z"
   },
   {
    "duration": 16,
    "start_time": "2021-08-29T12:15:25.330Z"
   },
   {
    "duration": 46,
    "start_time": "2021-08-29T12:15:25.347Z"
   },
   {
    "duration": 13,
    "start_time": "2021-08-29T12:15:25.395Z"
   },
   {
    "duration": 12,
    "start_time": "2021-08-29T12:15:25.410Z"
   },
   {
    "duration": 371,
    "start_time": "2021-08-29T12:15:25.424Z"
   },
   {
    "duration": 6,
    "start_time": "2021-08-29T12:15:25.796Z"
   },
   {
    "duration": 12,
    "start_time": "2021-08-29T12:15:25.803Z"
   },
   {
    "duration": 8,
    "start_time": "2021-08-29T12:15:25.817Z"
   },
   {
    "duration": 6,
    "start_time": "2021-08-29T12:15:25.826Z"
   },
   {
    "duration": 26,
    "start_time": "2021-08-29T12:15:25.833Z"
   },
   {
    "duration": 49,
    "start_time": "2021-08-29T12:15:25.861Z"
   },
   {
    "duration": 11,
    "start_time": "2021-08-29T12:15:25.912Z"
   },
   {
    "duration": 26,
    "start_time": "2021-08-29T12:15:25.925Z"
   },
   {
    "duration": 50,
    "start_time": "2021-08-29T12:15:25.953Z"
   },
   {
    "duration": 24,
    "start_time": "2021-08-29T12:15:26.005Z"
   },
   {
    "duration": 18,
    "start_time": "2021-08-29T12:15:26.031Z"
   },
   {
    "duration": 47,
    "start_time": "2021-08-29T12:15:26.051Z"
   },
   {
    "duration": 23,
    "start_time": "2021-08-29T12:15:26.099Z"
   },
   {
    "duration": 9,
    "start_time": "2021-08-29T12:15:26.123Z"
   },
   {
    "duration": 7,
    "start_time": "2021-08-29T12:15:26.134Z"
   },
   {
    "duration": 10,
    "start_time": "2021-08-29T12:15:26.143Z"
   },
   {
    "duration": 43,
    "start_time": "2021-08-29T12:15:26.154Z"
   },
   {
    "duration": 2,
    "start_time": "2021-08-29T12:15:26.199Z"
   },
   {
    "duration": 26,
    "start_time": "2021-08-29T12:15:26.203Z"
   },
   {
    "duration": 2,
    "start_time": "2021-08-29T12:15:26.231Z"
   },
   {
    "duration": 9,
    "start_time": "2021-08-29T12:15:26.235Z"
   },
   {
    "duration": 7,
    "start_time": "2021-08-29T12:15:26.246Z"
   },
   {
    "duration": 7,
    "start_time": "2021-08-29T12:15:26.255Z"
   },
   {
    "duration": 3,
    "start_time": "2021-08-29T12:15:26.300Z"
   },
   {
    "duration": 3,
    "start_time": "2021-08-29T12:15:26.309Z"
   },
   {
    "duration": 8,
    "start_time": "2021-08-29T12:15:26.314Z"
   },
   {
    "duration": 17985,
    "start_time": "2021-08-29T12:15:26.324Z"
   },
   {
    "duration": 4,
    "start_time": "2021-08-29T12:15:44.312Z"
   },
   {
    "duration": 426,
    "start_time": "2021-08-29T12:15:44.318Z"
   },
   {
    "duration": 18034,
    "start_time": "2021-08-29T12:15:44.746Z"
   },
   {
    "duration": 4,
    "start_time": "2021-08-29T12:16:02.781Z"
   },
   {
    "duration": 4,
    "start_time": "2021-08-29T12:16:02.791Z"
   },
   {
    "duration": 7,
    "start_time": "2021-08-29T12:16:02.796Z"
   },
   {
    "duration": 4,
    "start_time": "2021-08-29T12:16:02.805Z"
   },
   {
    "duration": 6,
    "start_time": "2021-08-29T12:16:02.811Z"
   },
   {
    "duration": 691719,
    "start_time": "2021-08-29T12:16:02.818Z"
   },
   {
    "duration": 4,
    "start_time": "2021-08-29T12:27:34.539Z"
   },
   {
    "duration": 811521,
    "start_time": "2021-08-29T12:27:34.545Z"
   },
   {
    "duration": 4,
    "start_time": "2021-08-29T12:41:06.068Z"
   },
   {
    "duration": 25,
    "start_time": "2021-08-29T12:41:06.074Z"
   },
   {
    "duration": 29,
    "start_time": "2021-08-29T12:41:06.101Z"
   },
   {
    "duration": 21,
    "start_time": "2021-08-29T12:41:06.132Z"
   },
   {
    "duration": 1237,
    "start_time": "2021-08-29T12:41:06.155Z"
   },
   {
    "duration": 6,
    "start_time": "2021-08-29T12:41:07.395Z"
   },
   {
    "duration": 637,
    "start_time": "2021-08-29T12:41:07.403Z"
   },
   {
    "duration": 3,
    "start_time": "2021-08-29T12:41:08.042Z"
   },
   {
    "duration": 21188,
    "start_time": "2021-08-29T12:41:08.047Z"
   },
   {
    "duration": 3,
    "start_time": "2021-08-29T12:41:29.237Z"
   },
   {
    "duration": 26813,
    "start_time": "2021-08-29T12:41:29.241Z"
   },
   {
    "duration": 5478,
    "start_time": "2021-08-29T12:41:56.056Z"
   },
   {
    "duration": 3,
    "start_time": "2021-08-29T12:42:01.536Z"
   },
   {
    "duration": 26,
    "start_time": "2021-08-29T12:42:01.541Z"
   }
  ],
  "kernelspec": {
   "display_name": "Python 3",
   "language": "python",
   "name": "python3"
  },
  "language_info": {
   "codemirror_mode": {
    "name": "ipython",
    "version": 3
   },
   "file_extension": ".py",
   "mimetype": "text/x-python",
   "name": "python",
   "nbconvert_exporter": "python",
   "pygments_lexer": "ipython3",
   "version": "3.9.1"
  },
  "toc": {
   "base_numbering": 1,
   "nav_menu": {},
   "number_sections": false,
   "sideBar": true,
   "skip_h1_title": true,
   "title_cell": "Содержание",
   "title_sidebar": "Contents",
   "toc_cell": true,
   "toc_position": {},
   "toc_section_display": true,
   "toc_window_display": false
  }
 },
 "nbformat": 4,
 "nbformat_minor": 2
}
