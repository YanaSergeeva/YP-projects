{
 "cells": [
  {
   "cell_type": "markdown",
   "metadata": {},
   "source": [
    "# Отток клиентов"
   ]
  },
  {
   "cell_type": "markdown",
   "metadata": {},
   "source": [
    "Из «Бета-Банка» стали уходить клиенты. Каждый месяц. Немного, но заметно. Банковские маркетологи посчитали: сохранять текущих клиентов дешевле, чем привлекать новых.\n",
    "\n",
    "Нужно спрогнозировать, уйдёт клиент из банка в ближайшее время или нет. Вам предоставлены исторические данные о поведении клиентов и расторжении договоров с банком. \n",
    "\n",
    "Постройте модель с предельно большим значением *F1*-меры. Чтобы сдать проект успешно, нужно довести метрику до 0.59. Проверьте *F1*-меру на тестовой выборке самостоятельно.\n",
    "\n",
    "Дополнительно измеряйте *AUC-ROC*, сравнивайте её значение с *F1*-мерой.\n",
    "\n",
    "Источник данных: [https://www.kaggle.com/barelydedicated/bank-customer-churn-modeling](https://www.kaggle.com/barelydedicated/bank-customer-churn-modeling)"
   ]
  },
  {
   "cell_type": "markdown",
   "metadata": {},
   "source": [
    "## Подготовка данных"
   ]
  },
  {
   "cell_type": "code",
   "execution_count": 1,
   "metadata": {},
   "outputs": [],
   "source": [
    "import pandas as pd\n",
    "from sklearn.model_selection import train_test_split\n",
    "from sklearn.linear_model import LogisticRegression\n",
    "from sklearn.ensemble import RandomForestClassifier\n",
    "from sklearn.tree import DecisionTreeClassifier\n",
    "from sklearn.utils import shuffle\n",
    "import matplotlib.pyplot as plt\n",
    "from sklearn.preprocessing import StandardScaler\n",
    "from sklearn.metrics import accuracy_score\n",
    "from sklearn.metrics import confusion_matrix\n",
    "from sklearn.metrics import recall_score\n",
    "from sklearn.metrics import precision_score\n",
    "from sklearn.metrics import f1_score\n",
    "from sklearn.metrics import roc_auc_score\n",
    "from sklearn.metrics import roc_curve"
   ]
  },
  {
   "cell_type": "code",
   "execution_count": 2,
   "metadata": {},
   "outputs": [],
   "source": [
    "import warnings\n",
    "warnings.simplefilter(\"ignore\")"
   ]
  },
  {
   "cell_type": "code",
   "execution_count": 3,
   "metadata": {},
   "outputs": [
    {
     "data": {
      "text/html": [
       "<div>\n",
       "<style scoped>\n",
       "    .dataframe tbody tr th:only-of-type {\n",
       "        vertical-align: middle;\n",
       "    }\n",
       "\n",
       "    .dataframe tbody tr th {\n",
       "        vertical-align: top;\n",
       "    }\n",
       "\n",
       "    .dataframe thead th {\n",
       "        text-align: right;\n",
       "    }\n",
       "</style>\n",
       "<table border=\"1\" class=\"dataframe\">\n",
       "  <thead>\n",
       "    <tr style=\"text-align: right;\">\n",
       "      <th></th>\n",
       "      <th>RowNumber</th>\n",
       "      <th>CustomerId</th>\n",
       "      <th>Surname</th>\n",
       "      <th>CreditScore</th>\n",
       "      <th>Geography</th>\n",
       "      <th>Gender</th>\n",
       "      <th>Age</th>\n",
       "      <th>Tenure</th>\n",
       "      <th>Balance</th>\n",
       "      <th>NumOfProducts</th>\n",
       "      <th>HasCrCard</th>\n",
       "      <th>IsActiveMember</th>\n",
       "      <th>EstimatedSalary</th>\n",
       "      <th>Exited</th>\n",
       "    </tr>\n",
       "  </thead>\n",
       "  <tbody>\n",
       "    <tr>\n",
       "      <td>0</td>\n",
       "      <td>1</td>\n",
       "      <td>15634602</td>\n",
       "      <td>Hargrave</td>\n",
       "      <td>619</td>\n",
       "      <td>France</td>\n",
       "      <td>Female</td>\n",
       "      <td>42</td>\n",
       "      <td>2.0</td>\n",
       "      <td>0.00</td>\n",
       "      <td>1</td>\n",
       "      <td>1</td>\n",
       "      <td>1</td>\n",
       "      <td>101348.88</td>\n",
       "      <td>1</td>\n",
       "    </tr>\n",
       "    <tr>\n",
       "      <td>1</td>\n",
       "      <td>2</td>\n",
       "      <td>15647311</td>\n",
       "      <td>Hill</td>\n",
       "      <td>608</td>\n",
       "      <td>Spain</td>\n",
       "      <td>Female</td>\n",
       "      <td>41</td>\n",
       "      <td>1.0</td>\n",
       "      <td>83807.86</td>\n",
       "      <td>1</td>\n",
       "      <td>0</td>\n",
       "      <td>1</td>\n",
       "      <td>112542.58</td>\n",
       "      <td>0</td>\n",
       "    </tr>\n",
       "    <tr>\n",
       "      <td>2</td>\n",
       "      <td>3</td>\n",
       "      <td>15619304</td>\n",
       "      <td>Onio</td>\n",
       "      <td>502</td>\n",
       "      <td>France</td>\n",
       "      <td>Female</td>\n",
       "      <td>42</td>\n",
       "      <td>8.0</td>\n",
       "      <td>159660.80</td>\n",
       "      <td>3</td>\n",
       "      <td>1</td>\n",
       "      <td>0</td>\n",
       "      <td>113931.57</td>\n",
       "      <td>1</td>\n",
       "    </tr>\n",
       "    <tr>\n",
       "      <td>3</td>\n",
       "      <td>4</td>\n",
       "      <td>15701354</td>\n",
       "      <td>Boni</td>\n",
       "      <td>699</td>\n",
       "      <td>France</td>\n",
       "      <td>Female</td>\n",
       "      <td>39</td>\n",
       "      <td>1.0</td>\n",
       "      <td>0.00</td>\n",
       "      <td>2</td>\n",
       "      <td>0</td>\n",
       "      <td>0</td>\n",
       "      <td>93826.63</td>\n",
       "      <td>0</td>\n",
       "    </tr>\n",
       "    <tr>\n",
       "      <td>4</td>\n",
       "      <td>5</td>\n",
       "      <td>15737888</td>\n",
       "      <td>Mitchell</td>\n",
       "      <td>850</td>\n",
       "      <td>Spain</td>\n",
       "      <td>Female</td>\n",
       "      <td>43</td>\n",
       "      <td>2.0</td>\n",
       "      <td>125510.82</td>\n",
       "      <td>1</td>\n",
       "      <td>1</td>\n",
       "      <td>1</td>\n",
       "      <td>79084.10</td>\n",
       "      <td>0</td>\n",
       "    </tr>\n",
       "    <tr>\n",
       "      <td>5</td>\n",
       "      <td>6</td>\n",
       "      <td>15574012</td>\n",
       "      <td>Chu</td>\n",
       "      <td>645</td>\n",
       "      <td>Spain</td>\n",
       "      <td>Male</td>\n",
       "      <td>44</td>\n",
       "      <td>8.0</td>\n",
       "      <td>113755.78</td>\n",
       "      <td>2</td>\n",
       "      <td>1</td>\n",
       "      <td>0</td>\n",
       "      <td>149756.71</td>\n",
       "      <td>1</td>\n",
       "    </tr>\n",
       "    <tr>\n",
       "      <td>6</td>\n",
       "      <td>7</td>\n",
       "      <td>15592531</td>\n",
       "      <td>Bartlett</td>\n",
       "      <td>822</td>\n",
       "      <td>France</td>\n",
       "      <td>Male</td>\n",
       "      <td>50</td>\n",
       "      <td>7.0</td>\n",
       "      <td>0.00</td>\n",
       "      <td>2</td>\n",
       "      <td>1</td>\n",
       "      <td>1</td>\n",
       "      <td>10062.80</td>\n",
       "      <td>0</td>\n",
       "    </tr>\n",
       "    <tr>\n",
       "      <td>7</td>\n",
       "      <td>8</td>\n",
       "      <td>15656148</td>\n",
       "      <td>Obinna</td>\n",
       "      <td>376</td>\n",
       "      <td>Germany</td>\n",
       "      <td>Female</td>\n",
       "      <td>29</td>\n",
       "      <td>4.0</td>\n",
       "      <td>115046.74</td>\n",
       "      <td>4</td>\n",
       "      <td>1</td>\n",
       "      <td>0</td>\n",
       "      <td>119346.88</td>\n",
       "      <td>1</td>\n",
       "    </tr>\n",
       "    <tr>\n",
       "      <td>8</td>\n",
       "      <td>9</td>\n",
       "      <td>15792365</td>\n",
       "      <td>He</td>\n",
       "      <td>501</td>\n",
       "      <td>France</td>\n",
       "      <td>Male</td>\n",
       "      <td>44</td>\n",
       "      <td>4.0</td>\n",
       "      <td>142051.07</td>\n",
       "      <td>2</td>\n",
       "      <td>0</td>\n",
       "      <td>1</td>\n",
       "      <td>74940.50</td>\n",
       "      <td>0</td>\n",
       "    </tr>\n",
       "    <tr>\n",
       "      <td>9</td>\n",
       "      <td>10</td>\n",
       "      <td>15592389</td>\n",
       "      <td>H?</td>\n",
       "      <td>684</td>\n",
       "      <td>France</td>\n",
       "      <td>Male</td>\n",
       "      <td>27</td>\n",
       "      <td>2.0</td>\n",
       "      <td>134603.88</td>\n",
       "      <td>1</td>\n",
       "      <td>1</td>\n",
       "      <td>1</td>\n",
       "      <td>71725.73</td>\n",
       "      <td>0</td>\n",
       "    </tr>\n",
       "  </tbody>\n",
       "</table>\n",
       "</div>"
      ],
      "text/plain": [
       "   RowNumber  CustomerId   Surname  CreditScore Geography  Gender  Age  \\\n",
       "0          1    15634602  Hargrave          619    France  Female   42   \n",
       "1          2    15647311      Hill          608     Spain  Female   41   \n",
       "2          3    15619304      Onio          502    France  Female   42   \n",
       "3          4    15701354      Boni          699    France  Female   39   \n",
       "4          5    15737888  Mitchell          850     Spain  Female   43   \n",
       "5          6    15574012       Chu          645     Spain    Male   44   \n",
       "6          7    15592531  Bartlett          822    France    Male   50   \n",
       "7          8    15656148    Obinna          376   Germany  Female   29   \n",
       "8          9    15792365        He          501    France    Male   44   \n",
       "9         10    15592389        H?          684    France    Male   27   \n",
       "\n",
       "   Tenure    Balance  NumOfProducts  HasCrCard  IsActiveMember  \\\n",
       "0     2.0       0.00              1          1               1   \n",
       "1     1.0   83807.86              1          0               1   \n",
       "2     8.0  159660.80              3          1               0   \n",
       "3     1.0       0.00              2          0               0   \n",
       "4     2.0  125510.82              1          1               1   \n",
       "5     8.0  113755.78              2          1               0   \n",
       "6     7.0       0.00              2          1               1   \n",
       "7     4.0  115046.74              4          1               0   \n",
       "8     4.0  142051.07              2          0               1   \n",
       "9     2.0  134603.88              1          1               1   \n",
       "\n",
       "   EstimatedSalary  Exited  \n",
       "0        101348.88       1  \n",
       "1        112542.58       0  \n",
       "2        113931.57       1  \n",
       "3         93826.63       0  \n",
       "4         79084.10       0  \n",
       "5        149756.71       1  \n",
       "6         10062.80       0  \n",
       "7        119346.88       1  \n",
       "8         74940.50       0  \n",
       "9         71725.73       0  "
      ]
     },
     "execution_count": 3,
     "metadata": {},
     "output_type": "execute_result"
    }
   ],
   "source": [
    "beta = pd.read_csv('/datasets/Churn.csv')\n",
    "beta.head(10)"
   ]
  },
  {
   "cell_type": "code",
   "execution_count": 4,
   "metadata": {},
   "outputs": [
    {
     "data": {
      "text/plain": [
       "(10000, 14)"
      ]
     },
     "execution_count": 4,
     "metadata": {},
     "output_type": "execute_result"
    }
   ],
   "source": [
    "beta.shape"
   ]
  },
  {
   "cell_type": "code",
   "execution_count": 5,
   "metadata": {},
   "outputs": [
    {
     "name": "stdout",
     "output_type": "stream",
     "text": [
      "<class 'pandas.core.frame.DataFrame'>\n",
      "RangeIndex: 10000 entries, 0 to 9999\n",
      "Data columns (total 14 columns):\n",
      "RowNumber          10000 non-null int64\n",
      "CustomerId         10000 non-null int64\n",
      "Surname            10000 non-null object\n",
      "CreditScore        10000 non-null int64\n",
      "Geography          10000 non-null object\n",
      "Gender             10000 non-null object\n",
      "Age                10000 non-null int64\n",
      "Tenure             9091 non-null float64\n",
      "Balance            10000 non-null float64\n",
      "NumOfProducts      10000 non-null int64\n",
      "HasCrCard          10000 non-null int64\n",
      "IsActiveMember     10000 non-null int64\n",
      "EstimatedSalary    10000 non-null float64\n",
      "Exited             10000 non-null int64\n",
      "dtypes: float64(3), int64(8), object(3)\n",
      "memory usage: 1.1+ MB\n"
     ]
    }
   ],
   "source": [
    "beta.info()"
   ]
  },
  {
   "cell_type": "markdown",
   "metadata": {},
   "source": [
    "Сразу заметны пропуски в столбце Tenure. Так как значения в этом столбце описывают то, сколько лет человек был клиентом банка, то здесь скорее эти пропуски могут указывать на то, что клиент сотрудничает с банком менее года, поэтому эти значения можно заменить на нули.\n",
    "\n",
    "Также в датафрейме присутствуют данные, которые не пригодятся нам для дальнейшего анализа. Столбцы RowNumber, CustomerId, Surname можно будет удалить."
   ]
  },
  {
   "cell_type": "code",
   "execution_count": 6,
   "metadata": {},
   "outputs": [
    {
     "data": {
      "text/plain": [
       "0"
      ]
     },
     "execution_count": 6,
     "metadata": {},
     "output_type": "execute_result"
    }
   ],
   "source": [
    "beta['Tenure'] = beta['Tenure'].fillna(0)\n",
    "beta['Tenure'].isnull().sum()"
   ]
  },
  {
   "cell_type": "code",
   "execution_count": 7,
   "metadata": {},
   "outputs": [],
   "source": [
    "beta.drop([\"RowNumber\", \"CustomerId\", \"Surname\"], axis=1, inplace=True)"
   ]
  },
  {
   "cell_type": "code",
   "execution_count": 8,
   "metadata": {},
   "outputs": [
    {
     "data": {
      "text/plain": [
       "0"
      ]
     },
     "execution_count": 8,
     "metadata": {},
     "output_type": "execute_result"
    }
   ],
   "source": [
    "beta.duplicated().sum()"
   ]
  },
  {
   "cell_type": "code",
   "execution_count": 9,
   "metadata": {},
   "outputs": [
    {
     "data": {
      "text/html": [
       "<div>\n",
       "<style scoped>\n",
       "    .dataframe tbody tr th:only-of-type {\n",
       "        vertical-align: middle;\n",
       "    }\n",
       "\n",
       "    .dataframe tbody tr th {\n",
       "        vertical-align: top;\n",
       "    }\n",
       "\n",
       "    .dataframe thead th {\n",
       "        text-align: right;\n",
       "    }\n",
       "</style>\n",
       "<table border=\"1\" class=\"dataframe\">\n",
       "  <thead>\n",
       "    <tr style=\"text-align: right;\">\n",
       "      <th></th>\n",
       "      <th>CreditScore</th>\n",
       "      <th>Geography</th>\n",
       "      <th>Gender</th>\n",
       "      <th>Age</th>\n",
       "      <th>Tenure</th>\n",
       "      <th>Balance</th>\n",
       "      <th>NumOfProducts</th>\n",
       "      <th>HasCrCard</th>\n",
       "      <th>IsActiveMember</th>\n",
       "      <th>EstimatedSalary</th>\n",
       "      <th>Exited</th>\n",
       "    </tr>\n",
       "  </thead>\n",
       "  <tbody>\n",
       "    <tr>\n",
       "      <td>0</td>\n",
       "      <td>619</td>\n",
       "      <td>France</td>\n",
       "      <td>Female</td>\n",
       "      <td>42</td>\n",
       "      <td>2.0</td>\n",
       "      <td>0.00</td>\n",
       "      <td>1</td>\n",
       "      <td>1</td>\n",
       "      <td>1</td>\n",
       "      <td>101348.88</td>\n",
       "      <td>1</td>\n",
       "    </tr>\n",
       "    <tr>\n",
       "      <td>1</td>\n",
       "      <td>608</td>\n",
       "      <td>Spain</td>\n",
       "      <td>Female</td>\n",
       "      <td>41</td>\n",
       "      <td>1.0</td>\n",
       "      <td>83807.86</td>\n",
       "      <td>1</td>\n",
       "      <td>0</td>\n",
       "      <td>1</td>\n",
       "      <td>112542.58</td>\n",
       "      <td>0</td>\n",
       "    </tr>\n",
       "    <tr>\n",
       "      <td>2</td>\n",
       "      <td>502</td>\n",
       "      <td>France</td>\n",
       "      <td>Female</td>\n",
       "      <td>42</td>\n",
       "      <td>8.0</td>\n",
       "      <td>159660.80</td>\n",
       "      <td>3</td>\n",
       "      <td>1</td>\n",
       "      <td>0</td>\n",
       "      <td>113931.57</td>\n",
       "      <td>1</td>\n",
       "    </tr>\n",
       "    <tr>\n",
       "      <td>3</td>\n",
       "      <td>699</td>\n",
       "      <td>France</td>\n",
       "      <td>Female</td>\n",
       "      <td>39</td>\n",
       "      <td>1.0</td>\n",
       "      <td>0.00</td>\n",
       "      <td>2</td>\n",
       "      <td>0</td>\n",
       "      <td>0</td>\n",
       "      <td>93826.63</td>\n",
       "      <td>0</td>\n",
       "    </tr>\n",
       "    <tr>\n",
       "      <td>4</td>\n",
       "      <td>850</td>\n",
       "      <td>Spain</td>\n",
       "      <td>Female</td>\n",
       "      <td>43</td>\n",
       "      <td>2.0</td>\n",
       "      <td>125510.82</td>\n",
       "      <td>1</td>\n",
       "      <td>1</td>\n",
       "      <td>1</td>\n",
       "      <td>79084.10</td>\n",
       "      <td>0</td>\n",
       "    </tr>\n",
       "  </tbody>\n",
       "</table>\n",
       "</div>"
      ],
      "text/plain": [
       "   CreditScore Geography  Gender  Age  Tenure    Balance  NumOfProducts  \\\n",
       "0          619    France  Female   42     2.0       0.00              1   \n",
       "1          608     Spain  Female   41     1.0   83807.86              1   \n",
       "2          502    France  Female   42     8.0  159660.80              3   \n",
       "3          699    France  Female   39     1.0       0.00              2   \n",
       "4          850     Spain  Female   43     2.0  125510.82              1   \n",
       "\n",
       "   HasCrCard  IsActiveMember  EstimatedSalary  Exited  \n",
       "0          1               1        101348.88       1  \n",
       "1          0               1        112542.58       0  \n",
       "2          1               0        113931.57       1  \n",
       "3          0               0         93826.63       0  \n",
       "4          1               1         79084.10       0  "
      ]
     },
     "execution_count": 9,
     "metadata": {},
     "output_type": "execute_result"
    }
   ],
   "source": [
    "beta.head()"
   ]
  },
  {
   "cell_type": "markdown",
   "metadata": {},
   "source": [
    "Посмотрим, в каком соотношений присутсвуют значения в целевом признаке Exited:"
   ]
  },
  {
   "cell_type": "code",
   "execution_count": 10,
   "metadata": {},
   "outputs": [
    {
     "data": {
      "text/plain": [
       "0    0.7963\n",
       "1    0.2037\n",
       "Name: Exited, dtype: float64"
      ]
     },
     "execution_count": 10,
     "metadata": {},
     "output_type": "execute_result"
    }
   ],
   "source": [
    "class_frequency = beta['Exited'].value_counts(normalize=True)\n",
    "class_frequency"
   ]
  },
  {
   "cell_type": "markdown",
   "metadata": {},
   "source": [
    "Значения 0 ≈80% , 1 ≈ 20%. В дальнейшем необходимо будет сбалансировать классы"
   ]
  },
  {
   "cell_type": "markdown",
   "metadata": {},
   "source": [
    "Проверка уникальных значений в категориальных признаках Geography и Gender:"
   ]
  },
  {
   "cell_type": "code",
   "execution_count": 11,
   "metadata": {},
   "outputs": [
    {
     "data": {
      "text/plain": [
       "France     5014\n",
       "Germany    2509\n",
       "Spain      2477\n",
       "Name: Geography, dtype: int64"
      ]
     },
     "execution_count": 11,
     "metadata": {},
     "output_type": "execute_result"
    }
   ],
   "source": [
    "beta['Geography'].value_counts()"
   ]
  },
  {
   "cell_type": "code",
   "execution_count": 12,
   "metadata": {},
   "outputs": [
    {
     "data": {
      "text/plain": [
       "Male      5457\n",
       "Female    4543\n",
       "Name: Gender, dtype: int64"
      ]
     },
     "execution_count": 12,
     "metadata": {},
     "output_type": "execute_result"
    }
   ],
   "source": [
    "beta['Gender'].value_counts()"
   ]
  },
  {
   "cell_type": "markdown",
   "metadata": {},
   "source": [
    "Теперь преобразуем категориальные признаки в численные с помощью техники OHE "
   ]
  },
  {
   "cell_type": "code",
   "execution_count": 13,
   "metadata": {},
   "outputs": [
    {
     "data": {
      "text/html": [
       "<div>\n",
       "<style scoped>\n",
       "    .dataframe tbody tr th:only-of-type {\n",
       "        vertical-align: middle;\n",
       "    }\n",
       "\n",
       "    .dataframe tbody tr th {\n",
       "        vertical-align: top;\n",
       "    }\n",
       "\n",
       "    .dataframe thead th {\n",
       "        text-align: right;\n",
       "    }\n",
       "</style>\n",
       "<table border=\"1\" class=\"dataframe\">\n",
       "  <thead>\n",
       "    <tr style=\"text-align: right;\">\n",
       "      <th></th>\n",
       "      <th>CreditScore</th>\n",
       "      <th>Age</th>\n",
       "      <th>Tenure</th>\n",
       "      <th>Balance</th>\n",
       "      <th>NumOfProducts</th>\n",
       "      <th>HasCrCard</th>\n",
       "      <th>IsActiveMember</th>\n",
       "      <th>EstimatedSalary</th>\n",
       "      <th>Exited</th>\n",
       "      <th>Geography_Germany</th>\n",
       "      <th>Geography_Spain</th>\n",
       "      <th>Gender_Male</th>\n",
       "    </tr>\n",
       "  </thead>\n",
       "  <tbody>\n",
       "    <tr>\n",
       "      <td>0</td>\n",
       "      <td>619</td>\n",
       "      <td>42</td>\n",
       "      <td>2.0</td>\n",
       "      <td>0.00</td>\n",
       "      <td>1</td>\n",
       "      <td>1</td>\n",
       "      <td>1</td>\n",
       "      <td>101348.88</td>\n",
       "      <td>1</td>\n",
       "      <td>0</td>\n",
       "      <td>0</td>\n",
       "      <td>0</td>\n",
       "    </tr>\n",
       "    <tr>\n",
       "      <td>1</td>\n",
       "      <td>608</td>\n",
       "      <td>41</td>\n",
       "      <td>1.0</td>\n",
       "      <td>83807.86</td>\n",
       "      <td>1</td>\n",
       "      <td>0</td>\n",
       "      <td>1</td>\n",
       "      <td>112542.58</td>\n",
       "      <td>0</td>\n",
       "      <td>0</td>\n",
       "      <td>1</td>\n",
       "      <td>0</td>\n",
       "    </tr>\n",
       "    <tr>\n",
       "      <td>2</td>\n",
       "      <td>502</td>\n",
       "      <td>42</td>\n",
       "      <td>8.0</td>\n",
       "      <td>159660.80</td>\n",
       "      <td>3</td>\n",
       "      <td>1</td>\n",
       "      <td>0</td>\n",
       "      <td>113931.57</td>\n",
       "      <td>1</td>\n",
       "      <td>0</td>\n",
       "      <td>0</td>\n",
       "      <td>0</td>\n",
       "    </tr>\n",
       "    <tr>\n",
       "      <td>3</td>\n",
       "      <td>699</td>\n",
       "      <td>39</td>\n",
       "      <td>1.0</td>\n",
       "      <td>0.00</td>\n",
       "      <td>2</td>\n",
       "      <td>0</td>\n",
       "      <td>0</td>\n",
       "      <td>93826.63</td>\n",
       "      <td>0</td>\n",
       "      <td>0</td>\n",
       "      <td>0</td>\n",
       "      <td>0</td>\n",
       "    </tr>\n",
       "    <tr>\n",
       "      <td>4</td>\n",
       "      <td>850</td>\n",
       "      <td>43</td>\n",
       "      <td>2.0</td>\n",
       "      <td>125510.82</td>\n",
       "      <td>1</td>\n",
       "      <td>1</td>\n",
       "      <td>1</td>\n",
       "      <td>79084.10</td>\n",
       "      <td>0</td>\n",
       "      <td>0</td>\n",
       "      <td>1</td>\n",
       "      <td>0</td>\n",
       "    </tr>\n",
       "  </tbody>\n",
       "</table>\n",
       "</div>"
      ],
      "text/plain": [
       "   CreditScore  Age  Tenure    Balance  NumOfProducts  HasCrCard  \\\n",
       "0          619   42     2.0       0.00              1          1   \n",
       "1          608   41     1.0   83807.86              1          0   \n",
       "2          502   42     8.0  159660.80              3          1   \n",
       "3          699   39     1.0       0.00              2          0   \n",
       "4          850   43     2.0  125510.82              1          1   \n",
       "\n",
       "   IsActiveMember  EstimatedSalary  Exited  Geography_Germany  \\\n",
       "0               1        101348.88       1                  0   \n",
       "1               1        112542.58       0                  0   \n",
       "2               0        113931.57       1                  0   \n",
       "3               0         93826.63       0                  0   \n",
       "4               1         79084.10       0                  0   \n",
       "\n",
       "   Geography_Spain  Gender_Male  \n",
       "0                0            0  \n",
       "1                1            0  \n",
       "2                0            0  \n",
       "3                0            0  \n",
       "4                1            0  "
      ]
     },
     "execution_count": 13,
     "metadata": {},
     "output_type": "execute_result"
    }
   ],
   "source": [
    "beta_ohe = pd.get_dummies(beta, drop_first=True)\n",
    "beta_ohe.head()"
   ]
  },
  {
   "cell_type": "code",
   "execution_count": 14,
   "metadata": {},
   "outputs": [
    {
     "data": {
      "text/plain": [
       "(10000, 12)"
      ]
     },
     "execution_count": 14,
     "metadata": {},
     "output_type": "execute_result"
    }
   ],
   "source": [
    "beta_ohe.shape"
   ]
  },
  {
   "cell_type": "markdown",
   "metadata": {},
   "source": [
    "## Исследование задачи"
   ]
  },
  {
   "cell_type": "code",
   "execution_count": 15,
   "metadata": {},
   "outputs": [
    {
     "name": "stdout",
     "output_type": "stream",
     "text": [
      "(2000, 11) (2000,) (2000, 11) (2000,)\n"
     ]
    }
   ],
   "source": [
    "# Деление на тестовый и обучающий наборы\n",
    "beta_train, beta_test = train_test_split(beta_ohe, test_size=0.4, random_state=12345)\n",
    "\n",
    "# Объявим две переменные features и target. \n",
    "# В target укажем целевой признак Exited, в features сохраним все признаки за исключением целевого\n",
    "target = beta_test['Exited']\n",
    "features = beta_test.drop('Exited', axis=1)\n",
    "\n",
    "# Теперь разделим тестовую выборку на тестовую и валидационную\n",
    "features_valid,features_test,target_valid,target_test = train_test_split(features,target,\n",
    "                                                                test_size=0.5,random_state=12345)\n",
    "features_train = beta_train.drop('Exited', axis=1)\n",
    "target_train = beta_train['Exited']\n",
    "\n",
    "print(features_valid.shape, target_valid.shape, features_test.shape, target_test.shape)"
   ]
  },
  {
   "cell_type": "markdown",
   "metadata": {},
   "source": [
    "Далее приведем признаки к одному масштабу, так мы сделаем все признаки одинаково значимыми. Воспользуемся структурой для стандартизации данных — StandardScaler"
   ]
  },
  {
   "cell_type": "code",
   "execution_count": 16,
   "metadata": {},
   "outputs": [
    {
     "data": {
      "text/plain": [
       "StandardScaler(copy=True, with_mean=True, with_std=True)"
      ]
     },
     "execution_count": 16,
     "metadata": {},
     "output_type": "execute_result"
    }
   ],
   "source": [
    "numeric = ['CreditScore', 'Age', 'Tenure', 'Balance', 'NumOfProducts', 'EstimatedSalary']\n",
    "\n",
    "scaler = StandardScaler()\n",
    "scaler.fit(features_train[numeric])"
   ]
  },
  {
   "cell_type": "code",
   "execution_count": 17,
   "metadata": {},
   "outputs": [],
   "source": [
    "pd.options.mode.chained_assignment = None\n",
    "features_train[numeric] = scaler.transform(features_train[numeric])\n",
    "features_valid[numeric] = scaler.transform(features_valid[numeric])\n",
    "features_test[numeric] = scaler.transform(features_test[numeric])"
   ]
  },
  {
   "cell_type": "code",
   "execution_count": 18,
   "metadata": {},
   "outputs": [
    {
     "data": {
      "text/html": [
       "<div>\n",
       "<style scoped>\n",
       "    .dataframe tbody tr th:only-of-type {\n",
       "        vertical-align: middle;\n",
       "    }\n",
       "\n",
       "    .dataframe tbody tr th {\n",
       "        vertical-align: top;\n",
       "    }\n",
       "\n",
       "    .dataframe thead th {\n",
       "        text-align: right;\n",
       "    }\n",
       "</style>\n",
       "<table border=\"1\" class=\"dataframe\">\n",
       "  <thead>\n",
       "    <tr style=\"text-align: right;\">\n",
       "      <th></th>\n",
       "      <th>CreditScore</th>\n",
       "      <th>Age</th>\n",
       "      <th>Tenure</th>\n",
       "      <th>Balance</th>\n",
       "      <th>NumOfProducts</th>\n",
       "      <th>HasCrCard</th>\n",
       "      <th>IsActiveMember</th>\n",
       "      <th>EstimatedSalary</th>\n",
       "      <th>Geography_Germany</th>\n",
       "      <th>Geography_Spain</th>\n",
       "      <th>Gender_Male</th>\n",
       "    </tr>\n",
       "  </thead>\n",
       "  <tbody>\n",
       "    <tr>\n",
       "      <td>7479</td>\n",
       "      <td>-0.886751</td>\n",
       "      <td>-0.373192</td>\n",
       "      <td>1.104696</td>\n",
       "      <td>1.232271</td>\n",
       "      <td>-0.891560</td>\n",
       "      <td>1</td>\n",
       "      <td>0</td>\n",
       "      <td>-0.187705</td>\n",
       "      <td>0</td>\n",
       "      <td>1</td>\n",
       "      <td>1</td>\n",
       "    </tr>\n",
       "    <tr>\n",
       "      <td>3411</td>\n",
       "      <td>0.608663</td>\n",
       "      <td>-0.183385</td>\n",
       "      <td>1.104696</td>\n",
       "      <td>0.600563</td>\n",
       "      <td>-0.891560</td>\n",
       "      <td>0</td>\n",
       "      <td>0</td>\n",
       "      <td>-0.333945</td>\n",
       "      <td>0</td>\n",
       "      <td>0</td>\n",
       "      <td>0</td>\n",
       "    </tr>\n",
       "    <tr>\n",
       "      <td>6027</td>\n",
       "      <td>2.052152</td>\n",
       "      <td>0.480939</td>\n",
       "      <td>-0.503694</td>\n",
       "      <td>1.027098</td>\n",
       "      <td>0.830152</td>\n",
       "      <td>0</td>\n",
       "      <td>1</td>\n",
       "      <td>1.503095</td>\n",
       "      <td>1</td>\n",
       "      <td>0</td>\n",
       "      <td>1</td>\n",
       "    </tr>\n",
       "    <tr>\n",
       "      <td>1247</td>\n",
       "      <td>-1.457915</td>\n",
       "      <td>-1.417129</td>\n",
       "      <td>0.461340</td>\n",
       "      <td>-1.233163</td>\n",
       "      <td>0.830152</td>\n",
       "      <td>1</td>\n",
       "      <td>0</td>\n",
       "      <td>-1.071061</td>\n",
       "      <td>0</td>\n",
       "      <td>0</td>\n",
       "      <td>1</td>\n",
       "    </tr>\n",
       "    <tr>\n",
       "      <td>3716</td>\n",
       "      <td>0.130961</td>\n",
       "      <td>-1.132419</td>\n",
       "      <td>-0.825373</td>\n",
       "      <td>1.140475</td>\n",
       "      <td>-0.891560</td>\n",
       "      <td>0</td>\n",
       "      <td>0</td>\n",
       "      <td>1.524268</td>\n",
       "      <td>1</td>\n",
       "      <td>0</td>\n",
       "      <td>0</td>\n",
       "    </tr>\n",
       "  </tbody>\n",
       "</table>\n",
       "</div>"
      ],
      "text/plain": [
       "      CreditScore       Age    Tenure   Balance  NumOfProducts  HasCrCard  \\\n",
       "7479    -0.886751 -0.373192  1.104696  1.232271      -0.891560          1   \n",
       "3411     0.608663 -0.183385  1.104696  0.600563      -0.891560          0   \n",
       "6027     2.052152  0.480939 -0.503694  1.027098       0.830152          0   \n",
       "1247    -1.457915 -1.417129  0.461340 -1.233163       0.830152          1   \n",
       "3716     0.130961 -1.132419 -0.825373  1.140475      -0.891560          0   \n",
       "\n",
       "      IsActiveMember  EstimatedSalary  Geography_Germany  Geography_Spain  \\\n",
       "7479               0        -0.187705                  0                1   \n",
       "3411               0        -0.333945                  0                0   \n",
       "6027               1         1.503095                  1                0   \n",
       "1247               0        -1.071061                  0                0   \n",
       "3716               0         1.524268                  1                0   \n",
       "\n",
       "      Gender_Male  \n",
       "7479            1  \n",
       "3411            0  \n",
       "6027            1  \n",
       "1247            1  \n",
       "3716            0  "
      ]
     },
     "execution_count": 18,
     "metadata": {},
     "output_type": "execute_result"
    }
   ],
   "source": [
    "features_train.head()"
   ]
  },
  {
   "cell_type": "code",
   "execution_count": 19,
   "metadata": {},
   "outputs": [
    {
     "data": {
      "text/html": [
       "<div>\n",
       "<style scoped>\n",
       "    .dataframe tbody tr th:only-of-type {\n",
       "        vertical-align: middle;\n",
       "    }\n",
       "\n",
       "    .dataframe tbody tr th {\n",
       "        vertical-align: top;\n",
       "    }\n",
       "\n",
       "    .dataframe thead th {\n",
       "        text-align: right;\n",
       "    }\n",
       "</style>\n",
       "<table border=\"1\" class=\"dataframe\">\n",
       "  <thead>\n",
       "    <tr style=\"text-align: right;\">\n",
       "      <th></th>\n",
       "      <th>CreditScore</th>\n",
       "      <th>Age</th>\n",
       "      <th>Tenure</th>\n",
       "      <th>Balance</th>\n",
       "      <th>NumOfProducts</th>\n",
       "      <th>HasCrCard</th>\n",
       "      <th>IsActiveMember</th>\n",
       "      <th>EstimatedSalary</th>\n",
       "      <th>Geography_Germany</th>\n",
       "      <th>Geography_Spain</th>\n",
       "      <th>Gender_Male</th>\n",
       "    </tr>\n",
       "  </thead>\n",
       "  <tbody>\n",
       "    <tr>\n",
       "      <td>8532</td>\n",
       "      <td>-0.699824</td>\n",
       "      <td>-0.373192</td>\n",
       "      <td>-0.825373</td>\n",
       "      <td>-1.233163</td>\n",
       "      <td>0.830152</td>\n",
       "      <td>1</td>\n",
       "      <td>0</td>\n",
       "      <td>-0.015173</td>\n",
       "      <td>0</td>\n",
       "      <td>0</td>\n",
       "      <td>0</td>\n",
       "    </tr>\n",
       "    <tr>\n",
       "      <td>5799</td>\n",
       "      <td>-0.284431</td>\n",
       "      <td>0.575842</td>\n",
       "      <td>-0.503694</td>\n",
       "      <td>-1.233163</td>\n",
       "      <td>-0.891560</td>\n",
       "      <td>1</td>\n",
       "      <td>1</td>\n",
       "      <td>1.471724</td>\n",
       "      <td>0</td>\n",
       "      <td>0</td>\n",
       "      <td>0</td>\n",
       "    </tr>\n",
       "    <tr>\n",
       "      <td>5511</td>\n",
       "      <td>0.151731</td>\n",
       "      <td>-0.657902</td>\n",
       "      <td>-1.468729</td>\n",
       "      <td>0.438711</td>\n",
       "      <td>-0.891560</td>\n",
       "      <td>1</td>\n",
       "      <td>0</td>\n",
       "      <td>-1.367107</td>\n",
       "      <td>1</td>\n",
       "      <td>0</td>\n",
       "      <td>1</td>\n",
       "    </tr>\n",
       "    <tr>\n",
       "      <td>7365</td>\n",
       "      <td>-0.876366</td>\n",
       "      <td>-0.278288</td>\n",
       "      <td>1.748053</td>\n",
       "      <td>1.239884</td>\n",
       "      <td>-0.891560</td>\n",
       "      <td>1</td>\n",
       "      <td>1</td>\n",
       "      <td>-0.786517</td>\n",
       "      <td>0</td>\n",
       "      <td>1</td>\n",
       "      <td>0</td>\n",
       "    </tr>\n",
       "    <tr>\n",
       "      <td>7367</td>\n",
       "      <td>-0.481743</td>\n",
       "      <td>0.291132</td>\n",
       "      <td>1.748053</td>\n",
       "      <td>-1.233163</td>\n",
       "      <td>0.830152</td>\n",
       "      <td>1</td>\n",
       "      <td>0</td>\n",
       "      <td>1.358533</td>\n",
       "      <td>0</td>\n",
       "      <td>1</td>\n",
       "      <td>1</td>\n",
       "    </tr>\n",
       "  </tbody>\n",
       "</table>\n",
       "</div>"
      ],
      "text/plain": [
       "      CreditScore       Age    Tenure   Balance  NumOfProducts  HasCrCard  \\\n",
       "8532    -0.699824 -0.373192 -0.825373 -1.233163       0.830152          1   \n",
       "5799    -0.284431  0.575842 -0.503694 -1.233163      -0.891560          1   \n",
       "5511     0.151731 -0.657902 -1.468729  0.438711      -0.891560          1   \n",
       "7365    -0.876366 -0.278288  1.748053  1.239884      -0.891560          1   \n",
       "7367    -0.481743  0.291132  1.748053 -1.233163       0.830152          1   \n",
       "\n",
       "      IsActiveMember  EstimatedSalary  Geography_Germany  Geography_Spain  \\\n",
       "8532               0        -0.015173                  0                0   \n",
       "5799               1         1.471724                  0                0   \n",
       "5511               0        -1.367107                  1                0   \n",
       "7365               1        -0.786517                  0                1   \n",
       "7367               0         1.358533                  0                1   \n",
       "\n",
       "      Gender_Male  \n",
       "8532            0  \n",
       "5799            0  \n",
       "5511            1  \n",
       "7365            0  \n",
       "7367            1  "
      ]
     },
     "execution_count": 19,
     "metadata": {},
     "output_type": "execute_result"
    }
   ],
   "source": [
    "features_valid.head()"
   ]
  },
  {
   "cell_type": "code",
   "execution_count": 20,
   "metadata": {},
   "outputs": [
    {
     "data": {
      "text/html": [
       "<div>\n",
       "<style scoped>\n",
       "    .dataframe tbody tr th:only-of-type {\n",
       "        vertical-align: middle;\n",
       "    }\n",
       "\n",
       "    .dataframe tbody tr th {\n",
       "        vertical-align: top;\n",
       "    }\n",
       "\n",
       "    .dataframe thead th {\n",
       "        text-align: right;\n",
       "    }\n",
       "</style>\n",
       "<table border=\"1\" class=\"dataframe\">\n",
       "  <thead>\n",
       "    <tr style=\"text-align: right;\">\n",
       "      <th></th>\n",
       "      <th>CreditScore</th>\n",
       "      <th>Age</th>\n",
       "      <th>Tenure</th>\n",
       "      <th>Balance</th>\n",
       "      <th>NumOfProducts</th>\n",
       "      <th>HasCrCard</th>\n",
       "      <th>IsActiveMember</th>\n",
       "      <th>EstimatedSalary</th>\n",
       "      <th>Geography_Germany</th>\n",
       "      <th>Geography_Spain</th>\n",
       "      <th>Gender_Male</th>\n",
       "    </tr>\n",
       "  </thead>\n",
       "  <tbody>\n",
       "    <tr>\n",
       "      <td>7041</td>\n",
       "      <td>-2.226392</td>\n",
       "      <td>-0.088482</td>\n",
       "      <td>-0.825373</td>\n",
       "      <td>-1.233163</td>\n",
       "      <td>0.830152</td>\n",
       "      <td>1</td>\n",
       "      <td>0</td>\n",
       "      <td>0.647083</td>\n",
       "      <td>0</td>\n",
       "      <td>0</td>\n",
       "      <td>1</td>\n",
       "    </tr>\n",
       "    <tr>\n",
       "      <td>5709</td>\n",
       "      <td>-0.087120</td>\n",
       "      <td>0.006422</td>\n",
       "      <td>1.426375</td>\n",
       "      <td>-1.233163</td>\n",
       "      <td>-0.891560</td>\n",
       "      <td>1</td>\n",
       "      <td>0</td>\n",
       "      <td>-1.658410</td>\n",
       "      <td>0</td>\n",
       "      <td>0</td>\n",
       "      <td>0</td>\n",
       "    </tr>\n",
       "    <tr>\n",
       "      <td>7117</td>\n",
       "      <td>-0.917905</td>\n",
       "      <td>-0.752805</td>\n",
       "      <td>0.139662</td>\n",
       "      <td>0.722307</td>\n",
       "      <td>-0.891560</td>\n",
       "      <td>1</td>\n",
       "      <td>1</td>\n",
       "      <td>-1.369334</td>\n",
       "      <td>0</td>\n",
       "      <td>1</td>\n",
       "      <td>1</td>\n",
       "    </tr>\n",
       "    <tr>\n",
       "      <td>7775</td>\n",
       "      <td>-0.253277</td>\n",
       "      <td>0.101325</td>\n",
       "      <td>1.748053</td>\n",
       "      <td>-1.233163</td>\n",
       "      <td>0.830152</td>\n",
       "      <td>1</td>\n",
       "      <td>0</td>\n",
       "      <td>0.075086</td>\n",
       "      <td>0</td>\n",
       "      <td>1</td>\n",
       "      <td>1</td>\n",
       "    </tr>\n",
       "    <tr>\n",
       "      <td>8735</td>\n",
       "      <td>0.785204</td>\n",
       "      <td>-0.847708</td>\n",
       "      <td>1.748053</td>\n",
       "      <td>0.615625</td>\n",
       "      <td>-0.891560</td>\n",
       "      <td>0</td>\n",
       "      <td>1</td>\n",
       "      <td>-1.070919</td>\n",
       "      <td>0</td>\n",
       "      <td>0</td>\n",
       "      <td>1</td>\n",
       "    </tr>\n",
       "  </tbody>\n",
       "</table>\n",
       "</div>"
      ],
      "text/plain": [
       "      CreditScore       Age    Tenure   Balance  NumOfProducts  HasCrCard  \\\n",
       "7041    -2.226392 -0.088482 -0.825373 -1.233163       0.830152          1   \n",
       "5709    -0.087120  0.006422  1.426375 -1.233163      -0.891560          1   \n",
       "7117    -0.917905 -0.752805  0.139662  0.722307      -0.891560          1   \n",
       "7775    -0.253277  0.101325  1.748053 -1.233163       0.830152          1   \n",
       "8735     0.785204 -0.847708  1.748053  0.615625      -0.891560          0   \n",
       "\n",
       "      IsActiveMember  EstimatedSalary  Geography_Germany  Geography_Spain  \\\n",
       "7041               0         0.647083                  0                0   \n",
       "5709               0        -1.658410                  0                0   \n",
       "7117               1        -1.369334                  0                1   \n",
       "7775               0         0.075086                  0                1   \n",
       "8735               1        -1.070919                  0                0   \n",
       "\n",
       "      Gender_Male  \n",
       "7041            1  \n",
       "5709            0  \n",
       "7117            1  \n",
       "7775            1  \n",
       "8735            1  "
      ]
     },
     "execution_count": 20,
     "metadata": {},
     "output_type": "execute_result"
    }
   ],
   "source": [
    "features_test.head()"
   ]
  },
  {
   "cell_type": "markdown",
   "metadata": {},
   "source": [
    "Перейдем к исследованию моделей LogisticRegression и RandomForestRegressor"
   ]
  },
  {
   "cell_type": "markdown",
   "metadata": {},
   "source": [
    "LogisticRegression"
   ]
  },
  {
   "cell_type": "code",
   "execution_count": 21,
   "metadata": {
    "scrolled": true
   },
   "outputs": [
    {
     "name": "stdout",
     "output_type": "stream",
     "text": [
      "Точность для LogisticRegression: 0.8025\n",
      "F1 для LogisticRegression: 0.33389544688026984\n"
     ]
    }
   ],
   "source": [
    "model_LR = LogisticRegression(random_state = 125, solver = 'liblinear')\n",
    "model_LR.fit(features_train, target_train)\n",
    "prediction_LR = model_LR.predict(features_valid)\n",
    "\n",
    "print(\"Точность для LogisticRegression:\", accuracy_score(target_valid, prediction_LR))\n",
    "print(\"F1 для LogisticRegression:\", f1_score(prediction_LR, target_valid))"
   ]
  },
  {
   "cell_type": "markdown",
   "metadata": {},
   "source": [
    "RandomForestClassifier"
   ]
  },
  {
   "cell_type": "code",
   "execution_count": 22,
   "metadata": {},
   "outputs": [
    {
     "name": "stdout",
     "output_type": "stream",
     "text": [
      "Точность для RandomForestClassifier: 0.8635\n",
      "F1 для RandomForestClassifier: 0.5894736842105264\n"
     ]
    }
   ],
   "source": [
    "model_RFC = RandomForestClassifier(random_state=125, n_estimators=100,max_depth= 14)\n",
    "model_RFC.fit(features_train, target_train)\n",
    "prediction_RFC = model_RFC.predict(features_valid)\n",
    "\n",
    "print(\"Точность для RandomForestClassifier:\", accuracy_score(target_valid, prediction_RFC))\n",
    "print(\"F1 для RandomForestClassifier:\", f1_score(prediction_RFC, target_valid))"
   ]
  },
  {
   "cell_type": "code",
   "execution_count": 23,
   "metadata": {},
   "outputs": [],
   "source": [
    "from tqdm.notebook import tqdm"
   ]
  },
  {
   "cell_type": "code",
   "execution_count": 24,
   "metadata": {},
   "outputs": [
    {
     "data": {
      "application/vnd.jupyter.widget-view+json": {
       "model_id": "24203e2ccab04651a93c63e4cf62228b",
       "version_major": 2,
       "version_minor": 0
      },
      "text/plain": [
       "HBox(children=(HTML(value='Est loop'), FloatProgress(value=0.0, max=10.0), HTML(value='')))"
      ]
     },
     "metadata": {},
     "output_type": "display_data"
    },
    {
     "data": {
      "application/vnd.jupyter.widget-view+json": {
       "model_id": "",
       "version_major": 2,
       "version_minor": 0
      },
      "text/plain": [
       "HBox(children=(HTML(value='Depth loop'), FloatProgress(value=0.0, max=7.0), HTML(value='')))"
      ]
     },
     "metadata": {},
     "output_type": "display_data"
    },
    {
     "data": {
      "application/vnd.jupyter.widget-view+json": {
       "model_id": "",
       "version_major": 2,
       "version_minor": 0
      },
      "text/plain": [
       "HBox(children=(HTML(value='Depth loop'), FloatProgress(value=0.0, max=7.0), HTML(value='')))"
      ]
     },
     "metadata": {},
     "output_type": "display_data"
    },
    {
     "data": {
      "application/vnd.jupyter.widget-view+json": {
       "model_id": "",
       "version_major": 2,
       "version_minor": 0
      },
      "text/plain": [
       "HBox(children=(HTML(value='Depth loop'), FloatProgress(value=0.0, max=7.0), HTML(value='')))"
      ]
     },
     "metadata": {},
     "output_type": "display_data"
    },
    {
     "data": {
      "application/vnd.jupyter.widget-view+json": {
       "model_id": "",
       "version_major": 2,
       "version_minor": 0
      },
      "text/plain": [
       "HBox(children=(HTML(value='Depth loop'), FloatProgress(value=0.0, max=7.0), HTML(value='')))"
      ]
     },
     "metadata": {},
     "output_type": "display_data"
    },
    {
     "data": {
      "application/vnd.jupyter.widget-view+json": {
       "model_id": "",
       "version_major": 2,
       "version_minor": 0
      },
      "text/plain": [
       "HBox(children=(HTML(value='Depth loop'), FloatProgress(value=0.0, max=7.0), HTML(value='')))"
      ]
     },
     "metadata": {},
     "output_type": "display_data"
    },
    {
     "data": {
      "application/vnd.jupyter.widget-view+json": {
       "model_id": "",
       "version_major": 2,
       "version_minor": 0
      },
      "text/plain": [
       "HBox(children=(HTML(value='Depth loop'), FloatProgress(value=0.0, max=7.0), HTML(value='')))"
      ]
     },
     "metadata": {},
     "output_type": "display_data"
    },
    {
     "data": {
      "application/vnd.jupyter.widget-view+json": {
       "model_id": "",
       "version_major": 2,
       "version_minor": 0
      },
      "text/plain": [
       "HBox(children=(HTML(value='Depth loop'), FloatProgress(value=0.0, max=7.0), HTML(value='')))"
      ]
     },
     "metadata": {},
     "output_type": "display_data"
    },
    {
     "data": {
      "application/vnd.jupyter.widget-view+json": {
       "model_id": "",
       "version_major": 2,
       "version_minor": 0
      },
      "text/plain": [
       "HBox(children=(HTML(value='Depth loop'), FloatProgress(value=0.0, max=7.0), HTML(value='')))"
      ]
     },
     "metadata": {},
     "output_type": "display_data"
    },
    {
     "data": {
      "application/vnd.jupyter.widget-view+json": {
       "model_id": "",
       "version_major": 2,
       "version_minor": 0
      },
      "text/plain": [
       "HBox(children=(HTML(value='Depth loop'), FloatProgress(value=0.0, max=7.0), HTML(value='')))"
      ]
     },
     "metadata": {},
     "output_type": "display_data"
    },
    {
     "data": {
      "application/vnd.jupyter.widget-view+json": {
       "model_id": "",
       "version_major": 2,
       "version_minor": 0
      },
      "text/plain": [
       "HBox(children=(HTML(value='Depth loop'), FloatProgress(value=0.0, max=7.0), HTML(value='')))"
      ]
     },
     "metadata": {},
     "output_type": "display_data"
    },
    {
     "name": "stdout",
     "output_type": "stream",
     "text": [
      "\n",
      "F1-мера наилучшей модели: 0.5840978593272171\n",
      "Количество деревьев: 135\n",
      "Максимальная глубина: 11\n"
     ]
    }
   ],
   "source": [
    "best_result = 0\n",
    "best_est = 0\n",
    "best_depth = 0\n",
    "for est in tqdm(range(10, 250, 25), desc=\"Est loop\"):\n",
    "    for depth in tqdm(range (1, 15, 2), desc=\"Depth loop\", leave=False):\n",
    "        model_RFC = RandomForestClassifier(random_state=125, max_depth=depth, n_estimators=est) \n",
    "        model_RFC.fit(features_train, target_train) \n",
    "        prediction_RFC = model_RFC.predict(features_valid)\n",
    "        f1 = f1_score(prediction_RFC, target_valid)\n",
    "        \n",
    "        if f1 > best_result:\n",
    "            best_result = f1\n",
    "            best_est = est\n",
    "            best_depth = depth\n",
    "            \n",
    "print(\"F1-мера наилучшей модели:\", best_result)\n",
    "print(\"Количество деревьев:\", best_est)\n",
    "print(\"Максимальная глубина:\", best_depth)"
   ]
  },
  {
   "cell_type": "code",
   "execution_count": 25,
   "metadata": {},
   "outputs": [
    {
     "name": "stdout",
     "output_type": "stream",
     "text": [
      "Точность для RandomForestClassifier: 0.864\n"
     ]
    }
   ],
   "source": [
    "model_RFC = RandomForestClassifier(random_state=125, n_estimators=best_est,max_depth= best_depth)\n",
    "model_RFC.fit(features_train, target_train)\n",
    "prediction_RFC = model_RFC.predict(features_valid)\n",
    "\n",
    "print(\"Точность для RandomForestClassifier:\", accuracy_score(target_valid, prediction_RFC))"
   ]
  },
  {
   "cell_type": "markdown",
   "metadata": {},
   "source": [
    "## Борьба с дисбалансом"
   ]
  },
  {
   "cell_type": "code",
   "execution_count": 26,
   "metadata": {},
   "outputs": [
    {
     "data": {
      "text/plain": [
       "0    0.800667\n",
       "1    0.199333\n",
       "Name: Exited, dtype: float64"
      ]
     },
     "execution_count": 26,
     "metadata": {},
     "output_type": "execute_result"
    }
   ],
   "source": [
    "target_train.value_counts(normalize = 1)"
   ]
  },
  {
   "cell_type": "code",
   "execution_count": 27,
   "metadata": {},
   "outputs": [
    {
     "data": {
      "text/plain": [
       "0    0.791\n",
       "1    0.209\n",
       "Name: Exited, dtype: float64"
      ]
     },
     "execution_count": 27,
     "metadata": {},
     "output_type": "execute_result"
    }
   ],
   "source": [
    "target_valid.value_counts(normalize = 1)"
   ]
  },
  {
   "cell_type": "markdown",
   "metadata": {},
   "source": [
    "Вес класса \"0\" больше веса класса \"1\" в соотношении 4:1.\n",
    "\n",
    "Сделаем веса классов сбалансированными, добавив к моделям аргумент class_weight='balanced' и проверим значение точности и F1 меры:"
   ]
  },
  {
   "cell_type": "code",
   "execution_count": 28,
   "metadata": {},
   "outputs": [
    {
     "name": "stdout",
     "output_type": "stream",
     "text": [
      "Точность для LogisticRegression: 0.701\n",
      "F1 для LogisticRegression: 0.4888888888888888\n"
     ]
    }
   ],
   "source": [
    "model_LR = LogisticRegression(random_state = 125, solver = 'liblinear', class_weight='balanced')\n",
    "model_LR.fit(features_train, target_train)\n",
    "prediction_LR = model_LR.predict(features_valid)\n",
    "\n",
    "print(\"Точность для LogisticRegression:\", accuracy_score(target_valid, prediction_LR))\n",
    "print(\"F1 для LogisticRegression:\", f1_score(prediction_LR, target_valid))"
   ]
  },
  {
   "cell_type": "code",
   "execution_count": 29,
   "metadata": {},
   "outputs": [
    {
     "data": {
      "application/vnd.jupyter.widget-view+json": {
       "model_id": "511415afeffb4d54bf4798c3432ac100",
       "version_major": 2,
       "version_minor": 0
      },
      "text/plain": [
       "HBox(children=(HTML(value='Est loop'), FloatProgress(value=0.0, max=10.0), HTML(value='')))"
      ]
     },
     "metadata": {},
     "output_type": "display_data"
    },
    {
     "data": {
      "application/vnd.jupyter.widget-view+json": {
       "model_id": "",
       "version_major": 2,
       "version_minor": 0
      },
      "text/plain": [
       "HBox(children=(HTML(value='Depth loop'), FloatProgress(value=0.0, max=7.0), HTML(value='')))"
      ]
     },
     "metadata": {},
     "output_type": "display_data"
    },
    {
     "data": {
      "application/vnd.jupyter.widget-view+json": {
       "model_id": "",
       "version_major": 2,
       "version_minor": 0
      },
      "text/plain": [
       "HBox(children=(HTML(value='Depth loop'), FloatProgress(value=0.0, max=7.0), HTML(value='')))"
      ]
     },
     "metadata": {},
     "output_type": "display_data"
    },
    {
     "data": {
      "application/vnd.jupyter.widget-view+json": {
       "model_id": "",
       "version_major": 2,
       "version_minor": 0
      },
      "text/plain": [
       "HBox(children=(HTML(value='Depth loop'), FloatProgress(value=0.0, max=7.0), HTML(value='')))"
      ]
     },
     "metadata": {},
     "output_type": "display_data"
    },
    {
     "data": {
      "application/vnd.jupyter.widget-view+json": {
       "model_id": "",
       "version_major": 2,
       "version_minor": 0
      },
      "text/plain": [
       "HBox(children=(HTML(value='Depth loop'), FloatProgress(value=0.0, max=7.0), HTML(value='')))"
      ]
     },
     "metadata": {},
     "output_type": "display_data"
    },
    {
     "data": {
      "application/vnd.jupyter.widget-view+json": {
       "model_id": "",
       "version_major": 2,
       "version_minor": 0
      },
      "text/plain": [
       "HBox(children=(HTML(value='Depth loop'), FloatProgress(value=0.0, max=7.0), HTML(value='')))"
      ]
     },
     "metadata": {},
     "output_type": "display_data"
    },
    {
     "data": {
      "application/vnd.jupyter.widget-view+json": {
       "model_id": "",
       "version_major": 2,
       "version_minor": 0
      },
      "text/plain": [
       "HBox(children=(HTML(value='Depth loop'), FloatProgress(value=0.0, max=7.0), HTML(value='')))"
      ]
     },
     "metadata": {},
     "output_type": "display_data"
    },
    {
     "data": {
      "application/vnd.jupyter.widget-view+json": {
       "model_id": "",
       "version_major": 2,
       "version_minor": 0
      },
      "text/plain": [
       "HBox(children=(HTML(value='Depth loop'), FloatProgress(value=0.0, max=7.0), HTML(value='')))"
      ]
     },
     "metadata": {},
     "output_type": "display_data"
    },
    {
     "data": {
      "application/vnd.jupyter.widget-view+json": {
       "model_id": "",
       "version_major": 2,
       "version_minor": 0
      },
      "text/plain": [
       "HBox(children=(HTML(value='Depth loop'), FloatProgress(value=0.0, max=7.0), HTML(value='')))"
      ]
     },
     "metadata": {},
     "output_type": "display_data"
    },
    {
     "data": {
      "application/vnd.jupyter.widget-view+json": {
       "model_id": "",
       "version_major": 2,
       "version_minor": 0
      },
      "text/plain": [
       "HBox(children=(HTML(value='Depth loop'), FloatProgress(value=0.0, max=7.0), HTML(value='')))"
      ]
     },
     "metadata": {},
     "output_type": "display_data"
    },
    {
     "data": {
      "application/vnd.jupyter.widget-view+json": {
       "model_id": "",
       "version_major": 2,
       "version_minor": 0
      },
      "text/plain": [
       "HBox(children=(HTML(value='Depth loop'), FloatProgress(value=0.0, max=7.0), HTML(value='')))"
      ]
     },
     "metadata": {},
     "output_type": "display_data"
    },
    {
     "name": "stdout",
     "output_type": "stream",
     "text": [
      "\n",
      "F1-мера наилучшей модели: 0.6291179596174282\n",
      "Количество деревьев: 210\n",
      "Максимальная глубина: 7\n",
      "Наилучшая модель: RandomForestClassifier(bootstrap=True, class_weight='balanced',\n",
      "                       criterion='gini', max_depth=7, max_features='auto',\n",
      "                       max_leaf_nodes=None, min_impurity_decrease=0.0,\n",
      "                       min_impurity_split=None, min_samples_leaf=1,\n",
      "                       min_samples_split=2, min_weight_fraction_leaf=0.0,\n",
      "                       n_estimators=210, n_jobs=None, oob_score=False,\n",
      "                       random_state=125, verbose=0, warm_start=False)\n"
     ]
    }
   ],
   "source": [
    "best_model = None\n",
    "best_result = 0\n",
    "best_est = 0\n",
    "best_depth = 0\n",
    "for est in tqdm(range(10, 250, 25), desc=\"Est loop\"):\n",
    "    for depth in tqdm(range (1, 15, 2), desc=\"Depth loop\", leave=False):\n",
    "        model_RFC = RandomForestClassifier(random_state=125, max_depth=depth, n_estimators=est, class_weight='balanced') \n",
    "        model_RFC.fit(features_train, target_train) \n",
    "        prediction_RFC = model_RFC.predict(features_valid)\n",
    "        f1 = f1_score(prediction_RFC, target_valid)\n",
    "        \n",
    "        if f1 > best_result:\n",
    "            best_result = f1\n",
    "            best_est = est\n",
    "            best_depth = depth\n",
    "            best_model = model_RFC\n",
    "            \n",
    "print(\"F1-мера наилучшей модели:\", best_result)\n",
    "print(\"Количество деревьев:\", best_est)\n",
    "print(\"Максимальная глубина:\", best_depth)\n",
    "print(\"Наилучшая модель:\", best_model)"
   ]
  },
  {
   "cell_type": "code",
   "execution_count": 30,
   "metadata": {},
   "outputs": [
    {
     "name": "stdout",
     "output_type": "stream",
     "text": [
      "Точность для RandomForestClassifier: 0.8255\n"
     ]
    }
   ],
   "source": [
    "model_RFC = best_model\n",
    "model_RFC.fit(features_train, target_train)\n",
    "prediction_RFC = model_RFC.predict(features_valid)\n",
    "\n",
    "print(\"Точность для RandomForestClassifier:\", accuracy_score(target_valid, prediction_RFC))"
   ]
  },
  {
   "cell_type": "markdown",
   "metadata": {},
   "source": [
    "- Значение F1 меры для LogisticRegression увеличилось с 0.33 до 0.49, но accuracy снизилось с 0.8 до 0.7, зато теперь мы имеем дело с более точными характеристиками\n",
    "- Для RandomForestClassifier значение accuracy значение стало равным 0.82, а F1 мера также увеличилась с 0.58 до 0.63"
   ]
  },
  {
   "cell_type": "markdown",
   "metadata": {},
   "source": [
    "Построим матрицу ошибок для наших моделей:"
   ]
  },
  {
   "cell_type": "markdown",
   "metadata": {},
   "source": [
    "LogisticRegression"
   ]
  },
  {
   "cell_type": "code",
   "execution_count": 31,
   "metadata": {},
   "outputs": [
    {
     "data": {
      "text/plain": [
       "array([[1116,  466],\n",
       "       [ 132,  286]])"
      ]
     },
     "execution_count": 31,
     "metadata": {},
     "output_type": "execute_result"
    }
   ],
   "source": [
    "model_LR = LogisticRegression(random_state = 125, solver = 'liblinear', class_weight='balanced')\n",
    "model_LR.fit(features_train, target_train)\n",
    "prediction_LR = model_LR.predict(features_valid)\n",
    "confusion_matrix(target_valid, prediction_LR)"
   ]
  },
  {
   "cell_type": "markdown",
   "metadata": {},
   "source": [
    "Логистическая регрессия чаще выдает позитивные предсказания, но модель также склоняется к  FP предсказаниям.\n",
    "\n",
    "Посмотрим на показатели полноты, точности и F1-меры:"
   ]
  },
  {
   "cell_type": "code",
   "execution_count": 32,
   "metadata": {},
   "outputs": [
    {
     "name": "stdout",
     "output_type": "stream",
     "text": [
      "Полнота для логистической регрессии 0.6842105263157895\n",
      "Точность для логистической регрессии 0.3803191489361702\n",
      "F1-мера для логистической регрессии 0.4888888888888888\n"
     ]
    }
   ],
   "source": [
    "print(\"Полнота для логистической регрессии\" , recall_score(target_valid, prediction_LR))\n",
    "print(\"Точность для логистической регрессии\", precision_score(target_valid, prediction_LR))\n",
    "print(\"F1-мера для логистической регрессии\", f1_score(target_valid, prediction_LR))"
   ]
  },
  {
   "cell_type": "markdown",
   "metadata": {},
   "source": [
    "RandomForestRegressor"
   ]
  },
  {
   "cell_type": "code",
   "execution_count": 33,
   "metadata": {},
   "outputs": [
    {
     "data": {
      "text/plain": [
       "array([[1355,  227],\n",
       "       [ 122,  296]])"
      ]
     },
     "execution_count": 33,
     "metadata": {},
     "output_type": "execute_result"
    }
   ],
   "source": [
    "model_RFC = best_model\n",
    "model_RFC.fit(features_train, target_train)\n",
    "RFC_prediction = model_RFC.predict(features_valid)\n",
    "confusion_matrix(target_valid, RFC_prediction)"
   ]
  },
  {
   "cell_type": "markdown",
   "metadata": {},
   "source": [
    "Модель случайного леса склонна выдавать позитивные предсказания, но также модель сильно склоняется к ложноположительным предсказаниям"
   ]
  },
  {
   "cell_type": "code",
   "execution_count": 34,
   "metadata": {},
   "outputs": [
    {
     "name": "stdout",
     "output_type": "stream",
     "text": [
      "Полнота для случайного леса 0.7081339712918661\n",
      "Точность для случайного леса 0.5659655831739961\n",
      "F1-мера для случайного леса 0.6291179596174282\n"
     ]
    }
   ],
   "source": [
    "print(\"Полнота для случайного леса\" , recall_score(target_valid, RFC_prediction))\n",
    "print(\"Точность для случайного леса\", precision_score(target_valid, RFC_prediction))\n",
    "print(\"F1-мера для случайного леса\", f1_score(target_valid, RFC_prediction))"
   ]
  },
  {
   "cell_type": "markdown",
   "metadata": {},
   "source": [
    "Построим ROC-кривую для логистической регрессии "
   ]
  },
  {
   "cell_type": "code",
   "execution_count": 35,
   "metadata": {},
   "outputs": [
    {
     "data": {
      "image/png": "[encoded data removed]",
      "text/plain": [
       "<Figure size 432x288 with 1 Axes>"
      ]
     },
     "metadata": {
      "needs_background": "light"
     },
     "output_type": "display_data"
    }
   ],
   "source": [
    "model_LR = LogisticRegression(random_state = 125, solver = 'liblinear')\n",
    "model_LR.fit(features_train, target_train)\n",
    "probabilities_one_valid_LR = model_LR.predict_proba(features_valid)[:, 1]\n",
    "\n",
    "fpr, tpr, thresholds = roc_curve(target_valid, probabilities_one_valid_LR) \n",
    "\n",
    "plt.figure()\n",
    "plt.plot(fpr, tpr)\n",
    "plt.plot([0, 1], [0, 1], linestyle='--')\n",
    "plt.xlim([0.0, 1.0])\n",
    "plt.ylim([0.0, 1.0])\n",
    "plt.xlabel('False Positive Rate')\n",
    "plt.ylabel('True Positive Rate')\n",
    "plt.title('ROC-кривая')\n",
    "plt.show()"
   ]
  },
  {
   "cell_type": "markdown",
   "metadata": {},
   "source": [
    "Для логистической регрессии расчитаем метрику AUC-ROC"
   ]
  },
  {
   "cell_type": "code",
   "execution_count": 36,
   "metadata": {},
   "outputs": [
    {
     "data": {
      "text/plain": [
       "0.7586317967081824"
      ]
     },
     "execution_count": 36,
     "metadata": {},
     "output_type": "execute_result"
    }
   ],
   "source": [
    "auc_roc_LR = roc_auc_score(target_valid, probabilities_one_valid_LR)\n",
    "auc_roc_LR"
   ]
  },
  {
   "cell_type": "markdown",
   "metadata": {},
   "source": [
    "Теперь построим ROC-кривую и рассчитаем метрику AUC-ROC для логистической регресии, сбалансировав классы:"
   ]
  },
  {
   "cell_type": "code",
   "execution_count": 37,
   "metadata": {},
   "outputs": [
    {
     "data": {
      "image/png": "[encoded data removed]",
      "text/plain": [
       "<Figure size 432x288 with 1 Axes>"
      ]
     },
     "metadata": {
      "needs_background": "light"
     },
     "output_type": "display_data"
    }
   ],
   "source": [
    "model_LR_balanced = LogisticRegression(random_state = 125,solver = 'liblinear', class_weight='balanced')\n",
    "model_LR_balanced.fit(features_train, target_train)\n",
    "probabilities_one_valid_LRB = model_LR_balanced.predict_proba(features_valid)[:, 1]\n",
    "\n",
    "fpr, tpr, thresholds = roc_curve(target_valid, probabilities_one_valid_LRB) \n",
    "plt.figure()\n",
    "plt.plot(fpr, tpr)\n",
    "plt.plot([0, 1], [0, 1], linestyle='--')\n",
    "plt.xlim([0.0, 1.0])\n",
    "plt.ylim([0.0, 1.0])\n",
    "plt.xlabel('False Positive Rate')\n",
    "plt.ylabel('True Positive Rate')\n",
    "plt.title('ROC-кривая')\n",
    "plt.show()"
   ]
  },
  {
   "cell_type": "code",
   "execution_count": 38,
   "metadata": {},
   "outputs": [
    {
     "data": {
      "text/plain": [
       "0.7635798063138539"
      ]
     },
     "execution_count": 38,
     "metadata": {},
     "output_type": "execute_result"
    }
   ],
   "source": [
    "auc_roc_LRB = roc_auc_score(target_valid, probabilities_one_valid_LRB)\n",
    "auc_roc_LRB"
   ]
  },
  {
   "cell_type": "markdown",
   "metadata": {},
   "source": [
    "Метрика немного увеличилась после того, как классы сбалансировались"
   ]
  },
  {
   "cell_type": "markdown",
   "metadata": {},
   "source": [
    "Переходим к формированию сбалансированных выборок. Создадим функцию def upsample() для увеличения представленного класса в выборке:\n",
    "- разделим обучающую выборку на положительные и отрицательные ответы. Объявим четыре переменные  \n",
    "    - features_zeros — признаки объектов с ответом «0»\n",
    "    - features_ones — признаки объектов с ответом «1»\n",
    "    - target_zeros — целевой признак объектов, у которых ответы только «0»\n",
    "    - target_ones — целевой признак объектов, у которых ответы только «1»\n",
    "- так как положительных ответов мы имеем в 4 раза меньше, то увеличим их количество в 4 раза и создадим новую обущающую выборку\n",
    "- перемешаем данные, так как если данные будут идти друг за другом - модели будет сложно обучиться"
   ]
  },
  {
   "cell_type": "code",
   "execution_count": 39,
   "metadata": {},
   "outputs": [],
   "source": [
    "def upsample(features, target, repeat):\n",
    "    features_zeros = features[target == 0]\n",
    "    features_ones = features[target == 1]\n",
    "    target_zeros = target[target == 0]\n",
    "    target_ones = target[target == 1]\n",
    "\n",
    "    features_upsampled = pd.concat([features_zeros] + [features_ones] * repeat)\n",
    "    target_upsampled = pd.concat([target_zeros] + [target_ones] * repeat)\n",
    "    \n",
    "    features_upsampled, target_upsampled = shuffle(\n",
    "        features_upsampled, target_upsampled, random_state=12345)\n",
    "    \n",
    "    return features_upsampled, target_upsampled"
   ]
  },
  {
   "cell_type": "code",
   "execution_count": 40,
   "metadata": {},
   "outputs": [
    {
     "name": "stdout",
     "output_type": "stream",
     "text": [
      "0    0.501043\n",
      "1    0.498957\n",
      "Name: Exited, dtype: float64\n",
      "(9588,)\n"
     ]
    }
   ],
   "source": [
    "features_train_upsampled, target_train_upsampled = upsample(features_train, target_train, 4)\n",
    "\n",
    "print(target_train_upsampled.value_counts(normalize = 1))\n",
    "print(target_train_upsampled.shape)"
   ]
  },
  {
   "cell_type": "code",
   "execution_count": 41,
   "metadata": {},
   "outputs": [
    {
     "data": {
      "text/plain": [
       "<matplotlib.axes._subplots.AxesSubplot at 0x7f258e6a3950>"
      ]
     },
     "execution_count": 41,
     "metadata": {},
     "output_type": "execute_result"
    },
    {
     "data": {
      "image/png": "[encoded data removed]",
      "text/plain": [
       "<Figure size 432x288 with 1 Axes>"
      ]
     },
     "metadata": {
      "needs_background": "light"
     },
     "output_type": "display_data"
    }
   ],
   "source": [
    "target_train_upsampled.plot(kind ='hist', bins=3)"
   ]
  },
  {
   "cell_type": "markdown",
   "metadata": {},
   "source": [
    "Подсчитаем точность LogisticRegression на сбалансированной выборке:"
   ]
  },
  {
   "cell_type": "code",
   "execution_count": 42,
   "metadata": {},
   "outputs": [
    {
     "name": "stdout",
     "output_type": "stream",
     "text": [
      "Accuracy: 0.701\n"
     ]
    }
   ],
   "source": [
    "model_LR_upsampled = LogisticRegression(random_state = 125,solver = 'liblinear', class_weight='balanced')\n",
    "model_LR_upsampled.fit(features_train_upsampled, target_train_upsampled)\n",
    "prediction_LR_upsampled = model_LR_upsampled.predict(features_valid)\n",
    "\n",
    "print(\"Accuracy:\", accuracy_score(target_valid, prediction_LR_upsampled))"
   ]
  },
  {
   "cell_type": "markdown",
   "metadata": {},
   "source": [
    "С помощью цикла определим наилучшие значения гиперпараметров (количество деревьев и глубина) для RandomForestClassifier на сбалансированной выборке"
   ]
  },
  {
   "cell_type": "code",
   "execution_count": 43,
   "metadata": {},
   "outputs": [
    {
     "data": {
      "application/vnd.jupyter.widget-view+json": {
       "model_id": "5f13f475493a45b6a6a57c4481d979cb",
       "version_major": 2,
       "version_minor": 0
      },
      "text/plain": [
       "HBox(children=(HTML(value='Est loop'), FloatProgress(value=0.0, max=10.0), HTML(value='')))"
      ]
     },
     "metadata": {},
     "output_type": "display_data"
    },
    {
     "data": {
      "application/vnd.jupyter.widget-view+json": {
       "model_id": "",
       "version_major": 2,
       "version_minor": 0
      },
      "text/plain": [
       "HBox(children=(HTML(value='Depth loop'), FloatProgress(value=0.0, max=7.0), HTML(value='')))"
      ]
     },
     "metadata": {},
     "output_type": "display_data"
    },
    {
     "data": {
      "application/vnd.jupyter.widget-view+json": {
       "model_id": "",
       "version_major": 2,
       "version_minor": 0
      },
      "text/plain": [
       "HBox(children=(HTML(value='Depth loop'), FloatProgress(value=0.0, max=7.0), HTML(value='')))"
      ]
     },
     "metadata": {},
     "output_type": "display_data"
    },
    {
     "data": {
      "application/vnd.jupyter.widget-view+json": {
       "model_id": "",
       "version_major": 2,
       "version_minor": 0
      },
      "text/plain": [
       "HBox(children=(HTML(value='Depth loop'), FloatProgress(value=0.0, max=7.0), HTML(value='')))"
      ]
     },
     "metadata": {},
     "output_type": "display_data"
    },
    {
     "data": {
      "application/vnd.jupyter.widget-view+json": {
       "model_id": "",
       "version_major": 2,
       "version_minor": 0
      },
      "text/plain": [
       "HBox(children=(HTML(value='Depth loop'), FloatProgress(value=0.0, max=7.0), HTML(value='')))"
      ]
     },
     "metadata": {},
     "output_type": "display_data"
    },
    {
     "data": {
      "application/vnd.jupyter.widget-view+json": {
       "model_id": "",
       "version_major": 2,
       "version_minor": 0
      },
      "text/plain": [
       "HBox(children=(HTML(value='Depth loop'), FloatProgress(value=0.0, max=7.0), HTML(value='')))"
      ]
     },
     "metadata": {},
     "output_type": "display_data"
    },
    {
     "data": {
      "application/vnd.jupyter.widget-view+json": {
       "model_id": "",
       "version_major": 2,
       "version_minor": 0
      },
      "text/plain": [
       "HBox(children=(HTML(value='Depth loop'), FloatProgress(value=0.0, max=7.0), HTML(value='')))"
      ]
     },
     "metadata": {},
     "output_type": "display_data"
    },
    {
     "data": {
      "application/vnd.jupyter.widget-view+json": {
       "model_id": "",
       "version_major": 2,
       "version_minor": 0
      },
      "text/plain": [
       "HBox(children=(HTML(value='Depth loop'), FloatProgress(value=0.0, max=7.0), HTML(value='')))"
      ]
     },
     "metadata": {},
     "output_type": "display_data"
    },
    {
     "data": {
      "application/vnd.jupyter.widget-view+json": {
       "model_id": "",
       "version_major": 2,
       "version_minor": 0
      },
      "text/plain": [
       "HBox(children=(HTML(value='Depth loop'), FloatProgress(value=0.0, max=7.0), HTML(value='')))"
      ]
     },
     "metadata": {},
     "output_type": "display_data"
    },
    {
     "data": {
      "application/vnd.jupyter.widget-view+json": {
       "model_id": "",
       "version_major": 2,
       "version_minor": 0
      },
      "text/plain": [
       "HBox(children=(HTML(value='Depth loop'), FloatProgress(value=0.0, max=7.0), HTML(value='')))"
      ]
     },
     "metadata": {},
     "output_type": "display_data"
    },
    {
     "data": {
      "application/vnd.jupyter.widget-view+json": {
       "model_id": "",
       "version_major": 2,
       "version_minor": 0
      },
      "text/plain": [
       "HBox(children=(HTML(value='Depth loop'), FloatProgress(value=0.0, max=7.0), HTML(value='')))"
      ]
     },
     "metadata": {},
     "output_type": "display_data"
    },
    {
     "name": "stdout",
     "output_type": "stream",
     "text": [
      "\n",
      "F1-мера наилучшей модели: 0.6286407766990291\n",
      "Количество деревьев: 60\n",
      "Максимальная глубина: 13\n",
      "Наилучшая модель: RandomForestClassifier(bootstrap=True, class_weight='balanced',\n",
      "                       criterion='gini', max_depth=13, max_features='auto',\n",
      "                       max_leaf_nodes=None, min_impurity_decrease=0.0,\n",
      "                       min_impurity_split=None, min_samples_leaf=1,\n",
      "                       min_samples_split=2, min_weight_fraction_leaf=0.0,\n",
      "                       n_estimators=60, n_jobs=None, oob_score=False,\n",
      "                       random_state=125, verbose=0, warm_start=False)\n"
     ]
    }
   ],
   "source": [
    "best_model = None\n",
    "best_result = 0\n",
    "best_est = 0\n",
    "best_depth = 0\n",
    "for est in tqdm(range(10, 250, 25), desc=\"Est loop\"):\n",
    "    for depth in tqdm(range (1, 15, 2), desc=\"Depth loop\", leave=False):\n",
    "        model_RFC_upsampled = RandomForestClassifier(random_state=125, max_depth=depth, n_estimators=est, class_weight='balanced') \n",
    "        model_RFC_upsampled.fit(features_train_upsampled, target_train_upsampled) \n",
    "        prediction_RFC_upsampled = model_RFC_upsampled.predict(features_valid)\n",
    "        f1 = f1_score(prediction_RFC_upsampled, target_valid)\n",
    "        \n",
    "        if f1 > best_result:\n",
    "            best_result = f1_score(prediction_RFC_upsampled, target_valid)\n",
    "            best_est = est\n",
    "            best_depth = depth\n",
    "            best_model = model_RFC_upsampled\n",
    "            \n",
    "print(\"F1-мера наилучшей модели:\", best_result)\n",
    "print(\"Количество деревьев:\", best_est)\n",
    "print(\"Максимальная глубина:\", best_depth)\n",
    "print(\"Наилучшая модель:\", best_model)"
   ]
  },
  {
   "cell_type": "markdown",
   "metadata": {},
   "source": [
    "Получили F1-меру наилучшей модели равную 0.63 с максимальной глубиной - 29 и количеством деревьев - 41. Теперь оценим точность этой модели:"
   ]
  },
  {
   "cell_type": "code",
   "execution_count": 44,
   "metadata": {},
   "outputs": [
    {
     "name": "stdout",
     "output_type": "stream",
     "text": [
      "Точность для RandomForestClassifier: 0.8255\n"
     ]
    }
   ],
   "source": [
    "model_RFC_upsampled = best_model\n",
    "model_RFC_upsampled.fit(features_train_upsampled, target_train_upsampled)\n",
    "prediction_RFC = model_RFC.predict(features_valid)\n",
    "\n",
    "print(\"Точность для RandomForestClassifier:\", accuracy_score(target_valid, prediction_RFC))"
   ]
  },
  {
   "cell_type": "markdown",
   "metadata": {},
   "source": [
    "Точность для модели LogisticRegression равна 0.7, для RandomForestClassifier (после подбора наилучших гиперпараметров) - 0.85.\n",
    "\n",
    "Посмотрим на остальные характеристики качетсва:"
   ]
  },
  {
   "cell_type": "markdown",
   "metadata": {},
   "source": [
    "LogisticRegression"
   ]
  },
  {
   "cell_type": "code",
   "execution_count": 45,
   "metadata": {},
   "outputs": [
    {
     "name": "stdout",
     "output_type": "stream",
     "text": [
      "Полнота для логистической регрессии 0.6842105263157895\n",
      "Точность для логистической регрессии 0.3803191489361702\n",
      "F1-мера для логистической регрессии 0.4888888888888888\n",
      "AUC-ROC для логистической регрессии 0.6948233415396898\n"
     ]
    }
   ],
   "source": [
    "model_LR_upsampled = LogisticRegression(random_state = 125,solver = 'liblinear', class_weight='balanced')\n",
    "model_LR_upsampled.fit(features_train_upsampled, target_train_upsampled)\n",
    "LR_prediction_upsampled = model_LR_upsampled.predict(features_valid)\n",
    "\n",
    "print(\"Полнота для логистической регрессии\" , recall_score(target_valid, LR_prediction_upsampled))\n",
    "print(\"Точность для логистической регрессии\", precision_score(target_valid, LR_prediction_upsampled))\n",
    "print(\"F1-мера для логистической регрессии\", f1_score(target_valid, LR_prediction_upsampled))\n",
    "print(\"AUC-ROC для логистической регрессии\", roc_auc_score(target_valid, LR_prediction_upsampled))"
   ]
  },
  {
   "cell_type": "markdown",
   "metadata": {},
   "source": [
    "Значения полноты и F1 меры увеличились с 0.24 до 0.68 и с 0.33 до 0.48 соответсвенно. Немного снизилось значение точности и AUC-ROC метрики, но тем неменее значени AUC-ROC выше чем у случайной модели"
   ]
  },
  {
   "cell_type": "markdown",
   "metadata": {},
   "source": [
    "RandomForestClassifier"
   ]
  },
  {
   "cell_type": "code",
   "execution_count": 46,
   "metadata": {},
   "outputs": [
    {
     "name": "stdout",
     "output_type": "stream",
     "text": [
      "Полнота для случайного леса 0.6196172248803827\n",
      "Точность для случайного леса 0.6379310344827587\n",
      "F1-мера для случайного леса 0.6286407766990291\n",
      "AUC-ROC для случайного леса 0.7633484354490409\n"
     ]
    }
   ],
   "source": [
    "model_RFC_upsampled = best_model\n",
    "model_RFC_upsampled.fit(features_train_upsampled, target_train_upsampled)\n",
    "RFC_prediction_upsampled = model_RFC_upsampled.predict(features_valid)\n",
    "\n",
    "print(\"Полнота для случайного леса\" , recall_score(target_valid, RFC_prediction_upsampled))\n",
    "print(\"Точность для случайного леса\", precision_score(target_valid, RFC_prediction_upsampled))\n",
    "print(\"F1-мера для случайного леса\", f1_score(RFC_prediction_upsampled, target_valid))\n",
    "print(\"AUC-ROC для случайного леса\", roc_auc_score(target_valid, RFC_prediction_upsampled))"
   ]
  },
  {
   "cell_type": "markdown",
   "metadata": {},
   "source": [
    "Для случайного леса значения полноты и F1 меры увеличились с 0.46 до 0.61 и с 0.58 до 0.63 соответсвенно. Значение AUC-ROC достаточно высокое - 0.76"
   ]
  },
  {
   "cell_type": "markdown",
   "metadata": {},
   "source": [
    "## Тестирование модели"
   ]
  },
  {
   "cell_type": "code",
   "execution_count": 47,
   "metadata": {},
   "outputs": [
    {
     "name": "stdout",
     "output_type": "stream",
     "text": [
      "Полнота для дерева решений на тестовой выборке 0.5862884160756501\n",
      "Точность для дерева решений на тестовой выборке 0.6358974358974359\n",
      "F1-мера для дерева решений на тестовой выборке 0.6100861008610086\n",
      "AUC-ROC для дерева решений на тестовой выборке 0.7481220139985099\n"
     ]
    }
   ],
   "source": [
    "test_model_RFC = RandomForestClassifier(random_state=125, n_estimators=100,max_depth= 14)\n",
    "test_model_RFC.fit(features_train_upsampled, target_train_upsampled)\n",
    "test_model_RFC_prediction = test_model_RFC.predict(features_test)\n",
    "\n",
    "print(\"Полнота для дерева решений на тестовой выборке\" , recall_score(target_test, test_model_RFC_prediction))\n",
    "print(\"Точность для дерева решений на тестовой выборке\", precision_score(target_test, test_model_RFC_prediction))\n",
    "print(\"F1-мера для дерева решений на тестовой выборке\", f1_score(target_test, test_model_RFC_prediction))\n",
    "print(\"AUC-ROC для дерева решений на тестовой выборке\", roc_auc_score(target_test, test_model_RFC_prediction))"
   ]
  },
  {
   "cell_type": "code",
   "execution_count": 48,
   "metadata": {},
   "outputs": [
    {
     "data": {
      "image/png": "[encoded data removed]",
      "text/plain": [
       "<Figure size 432x288 with 1 Axes>"
      ]
     },
     "metadata": {
      "needs_background": "light"
     },
     "output_type": "display_data"
    }
   ],
   "source": [
    "final_model_probabilities_one = model_LR.predict_proba(features_test)[:, 1]\n",
    "\n",
    "fpr, tpr, thresholds = roc_curve(target_test, final_model_probabilities_one) \n",
    "\n",
    "plt.figure()\n",
    "plt.plot(fpr, tpr)\n",
    "plt.plot([0, 1], [0, 1], linestyle='--')\n",
    "plt.xlim([0.0, 1.0])\n",
    "plt.ylim([0.0, 1.0])\n",
    "plt.xlabel('False Positive Rate')\n",
    "plt.ylabel('True Positive Rate')\n",
    "plt.title('ROC-кривая')\n",
    "plt.show()"
   ]
  },
  {
   "cell_type": "markdown",
   "metadata": {},
   "source": [
    "Протестировав модель, получили следующие показатели:\n",
    "- Полнота - 0.59\n",
    "- Точность - 0.64\n",
    "- F1-мера - 0.61\n",
    "- AUC-ROC метрика - 0.75\n",
    "\n",
    "Модель с точность 59% предскажет уход клиента из банка, метрика F1 = 0.61, показатель 0.59 достигнут"
   ]
  },
  {
   "cell_type": "code",
   "execution_count": 49,
   "metadata": {},
   "outputs": [
    {
     "data": {
      "application/vnd.jupyter.widget-view+json": {
       "model_id": "95c7009540574b94beb1a183da11e1e4",
       "version_major": 2,
       "version_minor": 0
      },
      "text/plain": [
       "HBox(children=(HTML(value='Est loop'), FloatProgress(value=0.0, max=10.0), HTML(value='')))"
      ]
     },
     "metadata": {},
     "output_type": "display_data"
    },
    {
     "data": {
      "application/vnd.jupyter.widget-view+json": {
       "model_id": "",
       "version_major": 2,
       "version_minor": 0
      },
      "text/plain": [
       "HBox(children=(HTML(value='Depth loop'), FloatProgress(value=0.0, max=7.0), HTML(value='')))"
      ]
     },
     "metadata": {},
     "output_type": "display_data"
    },
    {
     "data": {
      "application/vnd.jupyter.widget-view+json": {
       "model_id": "",
       "version_major": 2,
       "version_minor": 0
      },
      "text/plain": [
       "HBox(children=(HTML(value='Depth loop'), FloatProgress(value=0.0, max=7.0), HTML(value='')))"
      ]
     },
     "metadata": {},
     "output_type": "display_data"
    },
    {
     "data": {
      "application/vnd.jupyter.widget-view+json": {
       "model_id": "",
       "version_major": 2,
       "version_minor": 0
      },
      "text/plain": [
       "HBox(children=(HTML(value='Depth loop'), FloatProgress(value=0.0, max=7.0), HTML(value='')))"
      ]
     },
     "metadata": {},
     "output_type": "display_data"
    },
    {
     "data": {
      "application/vnd.jupyter.widget-view+json": {
       "model_id": "",
       "version_major": 2,
       "version_minor": 0
      },
      "text/plain": [
       "HBox(children=(HTML(value='Depth loop'), FloatProgress(value=0.0, max=7.0), HTML(value='')))"
      ]
     },
     "metadata": {},
     "output_type": "display_data"
    },
    {
     "data": {
      "application/vnd.jupyter.widget-view+json": {
       "model_id": "",
       "version_major": 2,
       "version_minor": 0
      },
      "text/plain": [
       "HBox(children=(HTML(value='Depth loop'), FloatProgress(value=0.0, max=7.0), HTML(value='')))"
      ]
     },
     "metadata": {},
     "output_type": "display_data"
    },
    {
     "data": {
      "application/vnd.jupyter.widget-view+json": {
       "model_id": "",
       "version_major": 2,
       "version_minor": 0
      },
      "text/plain": [
       "HBox(children=(HTML(value='Depth loop'), FloatProgress(value=0.0, max=7.0), HTML(value='')))"
      ]
     },
     "metadata": {},
     "output_type": "display_data"
    },
    {
     "data": {
      "application/vnd.jupyter.widget-view+json": {
       "model_id": "",
       "version_major": 2,
       "version_minor": 0
      },
      "text/plain": [
       "HBox(children=(HTML(value='Depth loop'), FloatProgress(value=0.0, max=7.0), HTML(value='')))"
      ]
     },
     "metadata": {},
     "output_type": "display_data"
    },
    {
     "data": {
      "application/vnd.jupyter.widget-view+json": {
       "model_id": "",
       "version_major": 2,
       "version_minor": 0
      },
      "text/plain": [
       "HBox(children=(HTML(value='Depth loop'), FloatProgress(value=0.0, max=7.0), HTML(value='')))"
      ]
     },
     "metadata": {},
     "output_type": "display_data"
    },
    {
     "data": {
      "application/vnd.jupyter.widget-view+json": {
       "model_id": "",
       "version_major": 2,
       "version_minor": 0
      },
      "text/plain": [
       "HBox(children=(HTML(value='Depth loop'), FloatProgress(value=0.0, max=7.0), HTML(value='')))"
      ]
     },
     "metadata": {},
     "output_type": "display_data"
    },
    {
     "data": {
      "application/vnd.jupyter.widget-view+json": {
       "model_id": "",
       "version_major": 2,
       "version_minor": 0
      },
      "text/plain": [
       "HBox(children=(HTML(value='Depth loop'), FloatProgress(value=0.0, max=7.0), HTML(value='')))"
      ]
     },
     "metadata": {},
     "output_type": "display_data"
    },
    {
     "name": "stdout",
     "output_type": "stream",
     "text": [
      "\n",
      "F1-мера наилучшей модели: 0.5840978593272171\n",
      "Количество деревьев: 135\n",
      "Максимальная глубина: 11\n",
      "Наилучшая модель: RandomForestClassifier(bootstrap=True, class_weight=None, criterion='gini',\n",
      "                       max_depth=11, max_features='auto', max_leaf_nodes=None,\n",
      "                       min_impurity_decrease=0.0, min_impurity_split=None,\n",
      "                       min_samples_leaf=1, min_samples_split=2,\n",
      "                       min_weight_fraction_leaf=0.0, n_estimators=135,\n",
      "                       n_jobs=None, oob_score=False, random_state=125,\n",
      "                       verbose=0, warm_start=False)\n"
     ]
    }
   ],
   "source": [
    "best_model = None\n",
    "best_result = 0\n",
    "best_est = 0\n",
    "best_depth = 0\n",
    "for est in tqdm(range(10, 250, 25), desc=\"Est loop\"):\n",
    "    for depth in tqdm(range (1, 15, 2), desc=\"Depth loop\", leave=False):\n",
    "        model_RFC = RandomForestClassifier(random_state=125, max_depth=depth, n_estimators=est) \n",
    "        model_RFC.fit(features_train, target_train) \n",
    "        prediction_RFC = model_RFC.predict(features_valid)\n",
    "        f1 = f1_score(prediction_RFC, target_valid)\n",
    "        \n",
    "        if f1 > best_result:\n",
    "            best_result = f1_score(prediction_RFC, target_valid)\n",
    "            best_est = est\n",
    "            best_depth = depth\n",
    "            best_model = model_RFC\n",
    "            \n",
    "print(\"F1-мера наилучшей модели:\", best_result)\n",
    "print(\"Количество деревьев:\", best_est)\n",
    "print(\"Максимальная глубина:\", best_depth)\n",
    "print(\"Наилучшая модель:\", best_model)"
   ]
  },
  {
   "cell_type": "code",
   "execution_count": 50,
   "metadata": {},
   "outputs": [
    {
     "name": "stdout",
     "output_type": "stream",
     "text": [
      "Полнота для случайного леса на тестовой выборке 0.39952718676122934\n",
      "Точность для случайного леса на тестовой выборке 0.7222222222222222\n",
      "F1-мера для случайного леса на тестовой выборке 0.5144596651445967\n",
      "AUC-ROC для случайного леса на тестовой выборке 0.6791548425879704\n"
     ]
    }
   ],
   "source": [
    "test_model_RFC = best_model\n",
    "test_model_RFC.fit(features_train, target_train)\n",
    "test_model_RFC.fit(features_valid, target_valid)\n",
    "test_model_RFC_prediction = test_model_RFC.predict(features_test)\n",
    "\n",
    "print(\"Полнота для случайного леса на тестовой выборке\" , recall_score(target_test, test_model_RFC_prediction))\n",
    "print(\"Точность для случайного леса на тестовой выборке\", precision_score(target_test, test_model_RFC_prediction))\n",
    "print(\"F1-мера для случайного леса на тестовой выборке\", f1_score(target_test, test_model_RFC_prediction))\n",
    "print(\"AUC-ROC для случайного леса на тестовой выборке\", roc_auc_score(target_test, test_model_RFC_prediction))"
   ]
  },
  {
   "cell_type": "markdown",
   "metadata": {},
   "source": [
    "<a class=\"anchor\" id=\"31-bullet\">"
   ]
  },
  {
   "cell_type": "code",
   "execution_count": 65,
   "metadata": {},
   "outputs": [],
   "source": [
    "# объединяем выборки\n",
    "features_ = pd.concat([features_train, features_valid])\n",
    "target_ = pd.concat([target_train, target_valid])"
   ]
  },
  {
   "cell_type": "code",
   "execution_count": 66,
   "metadata": {},
   "outputs": [],
   "source": [
    "# обучаем модель (насколько я понял лучше при подборе была модель со взвешиванием классов)\n",
    "m_ = RandomForestClassifier(random_state=125, max_depth=7, n_estimators=250, class_weight='balanced') \n",
    "m_.fit(features_, target_)\n",
    "test_model_RFC_prediction = m_.predict(features_test)"
   ]
  },
  {
   "cell_type": "code",
   "execution_count": 67,
   "metadata": {},
   "outputs": [
    {
     "name": "stdout",
     "output_type": "stream",
     "text": [
      "Полнота для случайного леса на тестовой выборке 0.6855791962174941\n",
      "Точность для случайного леса на тестовой выборке 0.5461393596986818\n",
      "F1-мера для случайного леса на тестовой выборке 0.6079664570230608\n",
      "AUC-ROC для случайного леса на тестовой выборке 0.7663786913237122\n"
     ]
    }
   ],
   "source": [
    "# смотрим метрики\n",
    "print(\"Полнота для случайного леса на тестовой выборке\" , recall_score(target_test, test_model_RFC_prediction))\n",
    "print(\"Точность для случайного леса на тестовой выборке\", precision_score(target_test, test_model_RFC_prediction))\n",
    "print(\"F1-мера для случайного леса на тестовой выборке\", f1_score(target_test, test_model_RFC_prediction))\n",
    "print(\"AUC-ROC для случайного леса на тестовой выборке\", roc_auc_score(target_test, test_model_RFC_prediction))"
   ]
  },
  {
   "cell_type": "markdown",
   "metadata": {},
   "source": [
    "F1 при таком способе получилась ~0.608. Выше чем недо и чуть меньше чем при обычном тестировании, но можно быть уверенным что модель получилась стабильнее и более о общей"
   ]
  },
  {
   "cell_type": "code",
   "execution_count": 51,
   "metadata": {},
   "outputs": [
    {
     "data": {
      "image/png": "[encoded data removed]",
      "text/plain": [
       "<Figure size 432x288 with 1 Axes>"
      ]
     },
     "metadata": {
      "needs_background": "light"
     },
     "output_type": "display_data"
    }
   ],
   "source": [
    "final_model_probabilities_one = test_model_RFC.predict_proba(features_test)[:, 1]\n",
    "\n",
    "fpr, tpr, thresholds = roc_curve(target_test, final_model_probabilities_one) \n",
    "\n",
    "plt.figure()\n",
    "plt.plot(fpr, tpr)\n",
    "plt.plot([0, 1], [0, 1], linestyle='--')\n",
    "plt.xlim([0.0, 1.0])\n",
    "plt.ylim([0.0, 1.0])\n",
    "plt.xlabel('False Positive Rate')\n",
    "plt.ylabel('True Positive Rate')\n",
    "plt.title('ROC-кривая')\n",
    "plt.show()"
   ]
  },
  {
   "cell_type": "code",
   "execution_count": 52,
   "metadata": {},
   "outputs": [],
   "source": [
    "import numpy as np"
   ]
  },
  {
   "cell_type": "code",
   "execution_count": 53,
   "metadata": {},
   "outputs": [],
   "source": [
    "y = beta_ohe['Exited']\n",
    "X = beta_ohe.drop('Exited', axis=1)"
   ]
  },
  {
   "cell_type": "code",
   "execution_count": 54,
   "metadata": {},
   "outputs": [
    {
     "data": {
      "application/vnd.jupyter.widget-view+json": {
       "model_id": "1fefebb4067b47d08359c1d1a453c712",
       "version_major": 2,
       "version_minor": 0
      },
      "text/plain": [
       "HBox(children=(HTML(value='Test size loop'), FloatProgress(value=0.0, max=20.0), HTML(value='')))"
      ]
     },
     "metadata": {},
     "output_type": "display_data"
    },
    {
     "name": "stdout",
     "output_type": "stream",
     "text": [
      "\n"
     ]
    }
   ],
   "source": [
    "learning = {'train_size': [],\n",
    "           'train_error': [],\n",
    "           'test_error': []}\n",
    "for size in tqdm(np.linspace(0.05, 0.9, 20), desc=\"Test size loop\"):\n",
    "    X_train, X_test, y_train, y_test = train_test_split(X, y, test_size=size, random_state=12345)\n",
    "    # overfitted model\n",
    "    m = RandomForestClassifier(random_state=125, max_depth=29, n_estimators=135)\n",
    "    \n",
    "    # like norm model\n",
    "    #m = RandomForestClassifier(random_state=125, max_depth=7, n_estimators=210, class_weight='balanced')\n",
    "    m.fit(X_train, y_train)\n",
    "    test_score = accuracy_score(y_test, m.predict(X_test))\n",
    "    train_score = accuracy_score(y_train, m.predict(X_train))\n",
    "    learning['train_size'] += [1 - size]\n",
    "    learning['test_error'] += [1 - test_score]\n",
    "    learning['train_error'] += [1 - train_score]"
   ]
  },
  {
   "cell_type": "code",
   "execution_count": 55,
   "metadata": {},
   "outputs": [
    {
     "data": {
      "image/png": "[encoded data removed]",
      "text/plain": [
       "<Figure size 864x432 with 1 Axes>"
      ]
     },
     "metadata": {
      "needs_background": "light"
     },
     "output_type": "display_data"
    }
   ],
   "source": [
    "fig, ax = plt.subplots(figsize=(12, 6))\n",
    "ax.plot(learning['train_size'], learning['train_error'], \n",
    "        color='blue', marker='o', markersize=3, linewidth=0.5, label=\"train\")\n",
    "ax.plot(learning['train_size'], learning['test_error'], \n",
    "        color='red', marker='o', markersize=3, linewidth=0.5, label=\"test\")\n",
    "ax.set_title(\"Learning curve\")\n",
    "ax.set_xlabel(\"Training set size\")\n",
    "ax.set_ylabel(\"Model Error\")\n",
    "ax.legend()\n",
    "ax.grid(color='grey', alpha=0.5, linewidth=0.5)\n",
    "d = {'left': False, 'right': False, 'top': False, 'bottom': True}\n",
    "for spine in ax.spines:\n",
    "    ax.spines[spine].set_visible(d[spine])\n",
    "fig.show()"
   ]
  },
  {
   "cell_type": "markdown",
   "metadata": {},
   "source": [
    "## Общий вывод\n",
    "\n",
    "#### Подготовили датасет к расчетам и анализу:\n",
    "- пропущенные значения в столбце Tenure (сколько лет человек является клиентом банка) были заменены на нули\n",
    "- данные в столбцах RowNumber, CustomerId, Surname не несут значимой ценности для обучения модели , а могли даже помешать            дальнейшему анализу, поэтому были удалены\n",
    "- преобразовали категориальные признаки столбцов Geography и Gender в численные с помощью техники OHE. Столбец Geography              содержал 3 класса, Gender_Male - 2 класса, после преобразования техникой OHE мы получили 2 и 1 столбец соответственно, избежав        дами-ловушки. В новом датафрейме получилось 12 столбцов\n",
    "     \n",
    "     \n",
    "#### Разделили датасет на тестовую, валидационную и обучающую выборки, масштабировали признаки и изучили задачи для моделей LogisticRegression и RandomForestClassifier с дисбалансом:\n",
    "- Точность для LogisticRegression: 0.8 \n",
    "- F1 для LogisticRegression: 0.33\n",
    "- Точность для RandomForestClassifier: 0.86\n",
    "- F1 для RandomForestClassifier: 0.59\n",
    "\n",
    "\n",
    "#### Сделали веса классов сбалансированными, добавив к моделям аргумент class_weight='balanced' и получили значение точности и F1 меры:\n",
    "- Значение F1 меры для LogisticRegression увеличилось с 0.33 до 0.49, но accuracy снизилось с 0.8 до 0.7\n",
    "- Для RandomForestClassifier значение accuracy осталось прежним - 0.86, а F1 мера также увеличилась с 0.59 до 0.6\n",
    "    \n",
    "    \n",
    "#### Сформировали сбалансированные выборки. Была создана функцию def upsample() для увеличения представленного класса в выборке:\n",
    "- разделим обучающую выборку на положительные и отрицательные ответы\n",
    "- увеличили количество положительных ответов в 4 раза и создали новую обущающую выборку\n",
    "- перемешали данные, так как если данные будут идти друг за другом - модели будет сложно обучиться\n",
    "- Для логистической регрессии значения полноты и F1 меры увеличились с 0.24 до 0.68 и с 0.33 до 0.48 соответсвенно. Немного снизилось значение точности и AUC-ROC метрики, но тем неменее значени AUC-ROC выше чем у случайной модели\n",
    "- Для случайного леса значения полноты и F1 меры увеличились с 0.46 до 0.6 и с 0.59 до 0.62 соответсвенно. Значение AUC-ROC достаточно высокое - 0.75\n",
    "    \n",
    "    \n",
    "#### Проведено тестирование модели:\n",
    "- модель достигла заданой метрики F1 = 0.61 и показывает адекватные результаты\n",
    "- с точность 59% предскажет уход клиента из банка\n",
    "- показатель точности равен 0.64\n",
    "\n",
    "Для улучшения модели следует использовать данные, отражающие отношения клиента с банком в динамике."
   ]
  }
 ],
 "metadata": {
  "ExecuteTimeLog": [
   {
    "duration": 971,
    "start_time": "2021-06-30T05:57:37.937Z"
   },
   {
    "duration": 46,
    "start_time": "2021-06-30T05:59:20.986Z"
   },
   {
    "duration": 6,
    "start_time": "2021-06-30T05:59:55.278Z"
   },
   {
    "duration": 7,
    "start_time": "2021-06-30T06:00:41.638Z"
   },
   {
    "duration": 6,
    "start_time": "2021-06-30T06:04:50.628Z"
   },
   {
    "duration": 5,
    "start_time": "2021-06-30T06:05:20.900Z"
   },
   {
    "duration": 9,
    "start_time": "2021-06-30T06:05:25.902Z"
   },
   {
    "duration": 557,
    "start_time": "2021-06-30T06:20:49.238Z"
   },
   {
    "duration": 176,
    "start_time": "2021-06-30T08:02:06.815Z"
   },
   {
    "duration": 5,
    "start_time": "2021-06-30T08:02:10.718Z"
   },
   {
    "duration": 180,
    "start_time": "2021-06-30T08:02:23.166Z"
   },
   {
    "duration": 247,
    "start_time": "2021-06-30T08:02:34.291Z"
   },
   {
    "duration": 12,
    "start_time": "2021-06-30T08:02:39.837Z"
   },
   {
    "duration": 4,
    "start_time": "2021-06-30T08:04:13.435Z"
   },
   {
    "duration": 40,
    "start_time": "2021-06-30T08:04:13.750Z"
   },
   {
    "duration": 3,
    "start_time": "2021-06-30T08:04:14.294Z"
   },
   {
    "duration": 10,
    "start_time": "2021-06-30T08:04:15.032Z"
   },
   {
    "duration": 5,
    "start_time": "2021-06-30T08:04:15.854Z"
   },
   {
    "duration": 11,
    "start_time": "2021-06-30T08:04:16.447Z"
   },
   {
    "duration": 6,
    "start_time": "2021-06-30T08:06:21.332Z"
   },
   {
    "duration": 18,
    "start_time": "2021-06-30T08:07:02.804Z"
   },
   {
    "duration": 8,
    "start_time": "2021-06-30T08:07:08.653Z"
   },
   {
    "duration": 11,
    "start_time": "2021-06-30T08:07:14.090Z"
   },
   {
    "duration": 220,
    "start_time": "2021-06-30T08:07:37.161Z"
   },
   {
    "duration": 8,
    "start_time": "2021-06-30T08:07:46.395Z"
   },
   {
    "duration": 7,
    "start_time": "2021-06-30T08:07:52.225Z"
   },
   {
    "duration": 6,
    "start_time": "2021-06-30T08:07:56.074Z"
   },
   {
    "duration": 9,
    "start_time": "2021-06-30T08:08:08.322Z"
   },
   {
    "duration": 5,
    "start_time": "2021-06-30T08:08:39.216Z"
   },
   {
    "duration": 5,
    "start_time": "2021-06-30T08:09:20.926Z"
   },
   {
    "duration": 2,
    "start_time": "2021-06-30T08:09:23.049Z"
   },
   {
    "duration": 7,
    "start_time": "2021-06-30T08:09:31.264Z"
   },
   {
    "duration": 4,
    "start_time": "2021-06-30T08:09:31.773Z"
   },
   {
    "duration": 7,
    "start_time": "2021-06-30T08:19:26.816Z"
   },
   {
    "duration": 8,
    "start_time": "2021-06-30T08:19:50.983Z"
   },
   {
    "duration": 13,
    "start_time": "2021-06-30T08:25:17.692Z"
   },
   {
    "duration": 9,
    "start_time": "2021-06-30T08:25:29.516Z"
   },
   {
    "duration": 10,
    "start_time": "2021-06-30T08:25:56.304Z"
   },
   {
    "duration": 11,
    "start_time": "2021-06-30T08:26:52.129Z"
   },
   {
    "duration": 27,
    "start_time": "2021-06-30T08:28:50.491Z"
   },
   {
    "duration": 7,
    "start_time": "2021-06-30T08:31:44.517Z"
   },
   {
    "duration": 4,
    "start_time": "2021-06-30T08:32:14.595Z"
   },
   {
    "duration": 5,
    "start_time": "2021-06-30T08:50:47.853Z"
   },
   {
    "duration": 8,
    "start_time": "2021-06-30T08:51:27.583Z"
   },
   {
    "duration": 189,
    "start_time": "2021-06-30T09:21:09.339Z"
   },
   {
    "duration": 13,
    "start_time": "2021-06-30T09:21:18.792Z"
   },
   {
    "duration": 11,
    "start_time": "2021-06-30T11:55:54.112Z"
   },
   {
    "duration": 174,
    "start_time": "2021-06-30T11:56:37.840Z"
   },
   {
    "duration": 4,
    "start_time": "2021-06-30T11:56:55.939Z"
   },
   {
    "duration": 7,
    "start_time": "2021-06-30T11:57:00.778Z"
   },
   {
    "duration": 24,
    "start_time": "2021-06-30T11:57:34.984Z"
   },
   {
    "duration": 23,
    "start_time": "2021-06-30T11:57:49.600Z"
   },
   {
    "duration": 15,
    "start_time": "2021-06-30T11:58:07.671Z"
   },
   {
    "duration": 16,
    "start_time": "2021-06-30T13:31:10.459Z"
   },
   {
    "duration": 16,
    "start_time": "2021-06-30T13:31:19.496Z"
   },
   {
    "duration": 19,
    "start_time": "2021-06-30T13:32:19.093Z"
   },
   {
    "duration": 4,
    "start_time": "2021-06-30T13:44:36.788Z"
   },
   {
    "duration": 183,
    "start_time": "2021-06-30T14:15:22.803Z"
   },
   {
    "duration": 226,
    "start_time": "2021-06-30T14:19:51.392Z"
   },
   {
    "duration": 191,
    "start_time": "2021-06-30T14:20:25.412Z"
   },
   {
    "duration": 4,
    "start_time": "2021-06-30T14:20:44.483Z"
   },
   {
    "duration": 37,
    "start_time": "2021-06-30T14:20:44.649Z"
   },
   {
    "duration": 4,
    "start_time": "2021-06-30T14:20:44.818Z"
   },
   {
    "duration": 8,
    "start_time": "2021-06-30T14:20:44.988Z"
   },
   {
    "duration": 11,
    "start_time": "2021-06-30T14:20:45.144Z"
   },
   {
    "duration": 4,
    "start_time": "2021-06-30T14:20:45.309Z"
   },
   {
    "duration": 11,
    "start_time": "2021-06-30T14:20:45.466Z"
   },
   {
    "duration": 6,
    "start_time": "2021-06-30T14:20:45.622Z"
   },
   {
    "duration": 9,
    "start_time": "2021-06-30T14:20:45.767Z"
   },
   {
    "duration": 4,
    "start_time": "2021-06-30T14:20:45.933Z"
   },
   {
    "duration": 6,
    "start_time": "2021-06-30T14:20:46.095Z"
   },
   {
    "duration": 6,
    "start_time": "2021-06-30T14:20:46.277Z"
   },
   {
    "duration": 20,
    "start_time": "2021-06-30T14:20:46.439Z"
   },
   {
    "duration": 3,
    "start_time": "2021-06-30T14:20:46.605Z"
   },
   {
    "duration": 12,
    "start_time": "2021-06-30T14:20:47.611Z"
   },
   {
    "duration": 11,
    "start_time": "2021-06-30T14:20:47.983Z"
   },
   {
    "duration": 7,
    "start_time": "2021-06-30T14:20:48.392Z"
   },
   {
    "duration": 22,
    "start_time": "2021-06-30T14:20:48.873Z"
   },
   {
    "duration": 441,
    "start_time": "2021-06-30T14:20:50.108Z"
   },
   {
    "duration": 4,
    "start_time": "2021-06-30T14:34:01.251Z"
   },
   {
    "duration": 363,
    "start_time": "2021-06-30T14:34:11.714Z"
   },
   {
    "duration": 5,
    "start_time": "2021-06-30T14:36:17.725Z"
   },
   {
    "duration": 5,
    "start_time": "2021-06-30T14:36:22.406Z"
   },
   {
    "duration": 345,
    "start_time": "2021-06-30T14:36:22.735Z"
   },
   {
    "duration": 5,
    "start_time": "2021-06-30T14:39:29.569Z"
   },
   {
    "duration": 12,
    "start_time": "2021-06-30T14:39:30.660Z"
   },
   {
    "duration": 12,
    "start_time": "2021-06-30T14:39:30.950Z"
   },
   {
    "duration": 8,
    "start_time": "2021-06-30T14:39:31.084Z"
   },
   {
    "duration": 22,
    "start_time": "2021-06-30T14:39:31.223Z"
   },
   {
    "duration": 272,
    "start_time": "2021-06-30T14:39:31.768Z"
   },
   {
    "duration": 193,
    "start_time": "2021-06-30T14:50:45.382Z"
   },
   {
    "duration": 182,
    "start_time": "2021-06-30T14:51:05.631Z"
   },
   {
    "duration": 189,
    "start_time": "2021-06-30T15:01:47.812Z"
   },
   {
    "duration": 30,
    "start_time": "2021-06-30T15:01:57.954Z"
   },
   {
    "duration": 50,
    "start_time": "2021-06-30T15:02:02.412Z"
   },
   {
    "duration": 3,
    "start_time": "2021-06-30T15:02:08.526Z"
   },
   {
    "duration": 11,
    "start_time": "2021-06-30T15:02:08.637Z"
   },
   {
    "duration": 14,
    "start_time": "2021-06-30T15:02:08.784Z"
   },
   {
    "duration": 5,
    "start_time": "2021-06-30T15:02:08.932Z"
   },
   {
    "duration": 17,
    "start_time": "2021-06-30T15:02:09.063Z"
   },
   {
    "duration": 6,
    "start_time": "2021-06-30T15:02:09.207Z"
   },
   {
    "duration": 6,
    "start_time": "2021-06-30T15:02:09.336Z"
   },
   {
    "duration": 4,
    "start_time": "2021-06-30T15:02:09.480Z"
   },
   {
    "duration": 7,
    "start_time": "2021-06-30T15:02:09.622Z"
   },
   {
    "duration": 8,
    "start_time": "2021-06-30T15:02:09.787Z"
   },
   {
    "duration": 32,
    "start_time": "2021-06-30T15:02:09.913Z"
   },
   {
    "duration": 4,
    "start_time": "2021-06-30T15:02:10.048Z"
   },
   {
    "duration": 13,
    "start_time": "2021-06-30T15:02:10.900Z"
   },
   {
    "duration": 12,
    "start_time": "2021-06-30T15:02:11.167Z"
   },
   {
    "duration": 8,
    "start_time": "2021-06-30T15:02:11.355Z"
   },
   {
    "duration": 25,
    "start_time": "2021-06-30T15:02:11.964Z"
   },
   {
    "duration": 193,
    "start_time": "2021-06-30T15:02:15.364Z"
   },
   {
    "duration": 43,
    "start_time": "2021-06-30T15:02:27.060Z"
   },
   {
    "duration": 5,
    "start_time": "2021-06-30T15:02:45.995Z"
   },
   {
    "duration": 184,
    "start_time": "2021-06-30T15:02:46.522Z"
   },
   {
    "duration": 4,
    "start_time": "2021-06-30T15:03:17.652Z"
   },
   {
    "duration": 36,
    "start_time": "2021-06-30T15:03:17.770Z"
   },
   {
    "duration": 4,
    "start_time": "2021-06-30T15:03:18.408Z"
   },
   {
    "duration": 9,
    "start_time": "2021-06-30T15:03:19.177Z"
   },
   {
    "duration": 11,
    "start_time": "2021-06-30T15:03:19.347Z"
   },
   {
    "duration": 4,
    "start_time": "2021-06-30T15:03:24.363Z"
   },
   {
    "duration": 181,
    "start_time": "2021-06-30T15:03:25.925Z"
   },
   {
    "duration": 187,
    "start_time": "2021-06-30T15:03:30.545Z"
   },
   {
    "duration": 191,
    "start_time": "2021-06-30T15:03:30.854Z"
   },
   {
    "duration": 4,
    "start_time": "2021-06-30T15:04:21.462Z"
   },
   {
    "duration": 37,
    "start_time": "2021-06-30T15:04:21.996Z"
   },
   {
    "duration": 4,
    "start_time": "2021-06-30T15:04:23.234Z"
   },
   {
    "duration": 9,
    "start_time": "2021-06-30T15:04:23.804Z"
   },
   {
    "duration": 11,
    "start_time": "2021-06-30T15:04:24.319Z"
   },
   {
    "duration": 5,
    "start_time": "2021-06-30T15:04:25.097Z"
   },
   {
    "duration": 11,
    "start_time": "2021-06-30T15:04:26.131Z"
   },
   {
    "duration": 7,
    "start_time": "2021-06-30T15:04:27.734Z"
   },
   {
    "duration": 8,
    "start_time": "2021-06-30T15:04:30.014Z"
   },
   {
    "duration": 5,
    "start_time": "2021-06-30T15:04:30.190Z"
   },
   {
    "duration": 7,
    "start_time": "2021-06-30T15:04:30.374Z"
   },
   {
    "duration": 13,
    "start_time": "2021-06-30T15:04:30.573Z"
   },
   {
    "duration": 20,
    "start_time": "2021-06-30T15:04:30.756Z"
   },
   {
    "duration": 4,
    "start_time": "2021-06-30T15:04:30.944Z"
   },
   {
    "duration": 12,
    "start_time": "2021-06-30T15:04:32.055Z"
   },
   {
    "duration": 15,
    "start_time": "2021-06-30T15:04:32.391Z"
   },
   {
    "duration": 8,
    "start_time": "2021-06-30T15:04:32.565Z"
   },
   {
    "duration": 21,
    "start_time": "2021-06-30T15:04:32.830Z"
   },
   {
    "duration": 180,
    "start_time": "2021-06-30T15:04:34.347Z"
   },
   {
    "duration": 180,
    "start_time": "2021-06-30T15:07:40.038Z"
   },
   {
    "duration": 188,
    "start_time": "2021-06-30T15:12:46.584Z"
   },
   {
    "duration": 13,
    "start_time": "2021-06-30T16:38:43.020Z"
   },
   {
    "duration": 11,
    "start_time": "2021-06-30T16:38:44.019Z"
   },
   {
    "duration": 8,
    "start_time": "2021-06-30T16:38:44.388Z"
   },
   {
    "duration": 21,
    "start_time": "2021-06-30T16:38:44.777Z"
   },
   {
    "duration": 173,
    "start_time": "2021-06-30T16:38:47.000Z"
   },
   {
    "duration": 12,
    "start_time": "2021-06-30T16:38:54.857Z"
   },
   {
    "duration": 11,
    "start_time": "2021-06-30T16:38:55.887Z"
   },
   {
    "duration": 8,
    "start_time": "2021-06-30T16:38:56.233Z"
   },
   {
    "duration": 21,
    "start_time": "2021-06-30T16:38:56.720Z"
   },
   {
    "duration": 8,
    "start_time": "2021-06-30T17:15:27.474Z"
   },
   {
    "duration": 1594,
    "start_time": "2021-07-01T14:24:39.233Z"
   },
   {
    "duration": 64,
    "start_time": "2021-07-01T14:24:40.830Z"
   },
   {
    "duration": 7,
    "start_time": "2021-07-01T14:24:43.630Z"
   },
   {
    "duration": 16,
    "start_time": "2021-07-01T14:24:43.806Z"
   },
   {
    "duration": 5,
    "start_time": "2021-07-01T14:25:42.154Z"
   },
   {
    "duration": 14,
    "start_time": "2021-07-01T14:25:50.104Z"
   },
   {
    "duration": 11,
    "start_time": "2021-07-01T14:26:07.441Z"
   },
   {
    "duration": 12,
    "start_time": "2021-07-01T14:26:15.776Z"
   },
   {
    "duration": 11,
    "start_time": "2021-07-01T14:26:20.400Z"
   },
   {
    "duration": 7,
    "start_time": "2021-07-01T14:26:26.870Z"
   },
   {
    "duration": 19,
    "start_time": "2021-07-01T14:26:31.976Z"
   },
   {
    "duration": 6,
    "start_time": "2021-07-01T14:26:34.097Z"
   },
   {
    "duration": 16,
    "start_time": "2021-07-01T14:26:34.423Z"
   },
   {
    "duration": 9,
    "start_time": "2021-07-01T14:26:34.774Z"
   },
   {
    "duration": 8,
    "start_time": "2021-07-01T14:26:36.967Z"
   },
   {
    "duration": 8,
    "start_time": "2021-07-01T14:26:54.525Z"
   },
   {
    "duration": 5,
    "start_time": "2021-07-01T14:26:54.933Z"
   },
   {
    "duration": 9,
    "start_time": "2021-07-01T14:26:55.278Z"
   },
   {
    "duration": 9,
    "start_time": "2021-07-01T14:26:55.950Z"
   },
   {
    "duration": 34,
    "start_time": "2021-07-01T14:26:56.775Z"
   },
   {
    "duration": 5,
    "start_time": "2021-07-01T14:26:57.231Z"
   },
   {
    "duration": 18,
    "start_time": "2021-07-01T14:26:59.885Z"
   },
   {
    "duration": 18,
    "start_time": "2021-07-01T14:27:00.702Z"
   },
   {
    "duration": 12,
    "start_time": "2021-07-01T14:27:01.117Z"
   },
   {
    "duration": 39,
    "start_time": "2021-07-01T14:27:01.510Z"
   },
   {
    "duration": 107,
    "start_time": "2021-07-01T14:27:04.183Z"
   },
   {
    "duration": 605,
    "start_time": "2021-07-01T14:28:45.326Z"
   },
   {
    "duration": 71,
    "start_time": "2021-07-01T14:29:17.117Z"
   },
   {
    "duration": 532,
    "start_time": "2021-07-01T14:29:28.794Z"
   },
   {
    "duration": 435,
    "start_time": "2021-07-01T14:30:37.389Z"
   },
   {
    "duration": 308,
    "start_time": "2021-07-01T14:31:23.853Z"
   },
   {
    "duration": 6,
    "start_time": "2021-07-01T14:31:34.872Z"
   },
   {
    "duration": 983,
    "start_time": "2021-07-01T14:31:38.765Z"
   },
   {
    "duration": 3,
    "start_time": "2021-07-01T14:39:10.469Z"
   },
   {
    "duration": 4,
    "start_time": "2021-07-01T14:39:17.922Z"
   },
   {
    "duration": 1289,
    "start_time": "2021-07-02T06:45:29.848Z"
   },
   {
    "duration": 62,
    "start_time": "2021-07-02T06:45:31.139Z"
   },
   {
    "duration": 6,
    "start_time": "2021-07-02T06:45:32.043Z"
   },
   {
    "duration": 13,
    "start_time": "2021-07-02T06:45:32.223Z"
   },
   {
    "duration": 7,
    "start_time": "2021-07-02T06:45:32.688Z"
   },
   {
    "duration": 18,
    "start_time": "2021-07-02T06:45:32.853Z"
   },
   {
    "duration": 6,
    "start_time": "2021-07-02T06:45:33.048Z"
   },
   {
    "duration": 17,
    "start_time": "2021-07-02T06:45:33.233Z"
   },
   {
    "duration": 8,
    "start_time": "2021-07-02T06:45:33.443Z"
   },
   {
    "duration": 5,
    "start_time": "2021-07-02T06:45:33.583Z"
   },
   {
    "duration": 9,
    "start_time": "2021-07-02T06:45:39.718Z"
   },
   {
    "duration": 9,
    "start_time": "2021-07-02T06:45:39.923Z"
   },
   {
    "duration": 33,
    "start_time": "2021-07-02T06:45:39.973Z"
   },
   {
    "duration": 6,
    "start_time": "2021-07-02T06:45:40.288Z"
   },
   {
    "duration": 19,
    "start_time": "2021-07-02T06:45:41.604Z"
   },
   {
    "duration": 16,
    "start_time": "2021-07-02T06:45:42.608Z"
   },
   {
    "duration": 11,
    "start_time": "2021-07-02T06:45:42.898Z"
   },
   {
    "duration": 33,
    "start_time": "2021-07-02T06:45:43.168Z"
   },
   {
    "duration": 93,
    "start_time": "2021-07-02T06:45:44.918Z"
   },
   {
    "duration": 4,
    "start_time": "2021-07-02T06:45:49.023Z"
   },
   {
    "duration": 12,
    "start_time": "2021-07-02T06:47:37.878Z"
   },
   {
    "duration": 10,
    "start_time": "2021-07-02T06:47:42.978Z"
   },
   {
    "duration": 10,
    "start_time": "2021-07-02T06:48:53.439Z"
   },
   {
    "duration": 10,
    "start_time": "2021-07-02T06:49:33.205Z"
   },
   {
    "duration": 319,
    "start_time": "2021-07-02T06:50:27.863Z"
   },
   {
    "duration": 6,
    "start_time": "2021-07-02T06:53:18.961Z"
   },
   {
    "duration": 714,
    "start_time": "2021-07-02T06:55:24.172Z"
   },
   {
    "duration": 7,
    "start_time": "2021-07-02T06:55:45.842Z"
   },
   {
    "duration": 6,
    "start_time": "2021-07-02T06:55:48.912Z"
   },
   {
    "duration": 22,
    "start_time": "2021-07-02T06:55:49.303Z"
   },
   {
    "duration": 303,
    "start_time": "2021-07-02T06:57:51.043Z"
   },
   {
    "duration": 16,
    "start_time": "2021-07-02T06:58:15.774Z"
   },
   {
    "duration": 19,
    "start_time": "2021-07-02T06:58:27.492Z"
   },
   {
    "duration": 1336,
    "start_time": "2021-07-02T07:04:35.253Z"
   },
   {
    "duration": 161,
    "start_time": "2021-07-02T07:04:43.938Z"
   },
   {
    "duration": 259,
    "start_time": "2021-07-02T07:04:51.035Z"
   },
   {
    "duration": 102,
    "start_time": "2021-07-02T07:05:34.501Z"
   },
   {
    "duration": 84,
    "start_time": "2021-07-02T07:06:48.717Z"
   },
   {
    "duration": 86,
    "start_time": "2021-07-02T07:09:08.016Z"
   },
   {
    "duration": 240,
    "start_time": "2021-07-02T07:12:12.927Z"
   },
   {
    "duration": 248,
    "start_time": "2021-07-02T07:12:17.642Z"
   },
   {
    "duration": 247,
    "start_time": "2021-07-02T07:12:22.322Z"
   },
   {
    "duration": 344,
    "start_time": "2021-07-02T07:12:27.004Z"
   },
   {
    "duration": 258,
    "start_time": "2021-07-02T07:12:35.344Z"
   },
   {
    "duration": 248,
    "start_time": "2021-07-02T07:12:41.521Z"
   },
   {
    "duration": 277,
    "start_time": "2021-07-02T07:12:50.818Z"
   },
   {
    "duration": 256,
    "start_time": "2021-07-02T07:12:54.889Z"
   },
   {
    "duration": 5,
    "start_time": "2021-07-02T07:18:33.190Z"
   },
   {
    "duration": 6,
    "start_time": "2021-07-02T07:19:12.553Z"
   },
   {
    "duration": 19,
    "start_time": "2021-07-02T07:19:45.571Z"
   },
   {
    "duration": 126,
    "start_time": "2021-07-02T07:20:57.474Z"
   },
   {
    "duration": 308,
    "start_time": "2021-07-02T07:22:34.452Z"
   },
   {
    "duration": 612,
    "start_time": "2021-07-02T07:22:39.149Z"
   },
   {
    "duration": 21,
    "start_time": "2021-07-02T07:23:22.390Z"
   },
   {
    "duration": 1533,
    "start_time": "2021-07-05T16:58:00.544Z"
   },
   {
    "duration": 83,
    "start_time": "2021-07-05T16:58:02.080Z"
   },
   {
    "duration": 6,
    "start_time": "2021-07-05T16:58:02.167Z"
   },
   {
    "duration": 19,
    "start_time": "2021-07-05T16:58:02.176Z"
   },
   {
    "duration": 10,
    "start_time": "2021-07-05T16:58:02.199Z"
   },
   {
    "duration": 18,
    "start_time": "2021-07-05T16:58:02.324Z"
   },
   {
    "duration": 6,
    "start_time": "2021-07-05T16:58:02.623Z"
   },
   {
    "duration": 16,
    "start_time": "2021-07-05T16:58:03.184Z"
   },
   {
    "duration": 14,
    "start_time": "2021-07-05T16:58:03.374Z"
   },
   {
    "duration": 333,
    "start_time": "2021-07-05T16:58:03.664Z"
   },
   {
    "duration": 9,
    "start_time": "2021-07-05T16:58:04.000Z"
   },
   {
    "duration": 8,
    "start_time": "2021-07-05T16:58:04.354Z"
   },
   {
    "duration": 34,
    "start_time": "2021-07-05T16:58:04.522Z"
   },
   {
    "duration": 6,
    "start_time": "2021-07-05T16:58:04.693Z"
   },
   {
    "duration": 18,
    "start_time": "2021-07-05T16:58:06.464Z"
   },
   {
    "duration": 16,
    "start_time": "2021-07-05T16:58:06.844Z"
   },
   {
    "duration": 11,
    "start_time": "2021-07-05T16:58:07.044Z"
   },
   {
    "duration": 34,
    "start_time": "2021-07-05T16:58:07.233Z"
   },
   {
    "duration": 45,
    "start_time": "2021-07-05T16:58:08.523Z"
   },
   {
    "duration": 4,
    "start_time": "2021-07-05T16:58:09.333Z"
   },
   {
    "duration": 6,
    "start_time": "2021-07-05T17:09:23.913Z"
   },
   {
    "duration": 31120,
    "start_time": "2021-07-05T17:09:23.921Z"
   },
   {
    "duration": 969,
    "start_time": "2021-07-06T04:10:43.890Z"
   },
   {
    "duration": 43,
    "start_time": "2021-07-06T04:12:04.589Z"
   },
   {
    "duration": 4,
    "start_time": "2021-07-06T04:12:05.388Z"
   },
   {
    "duration": 8,
    "start_time": "2021-07-06T04:12:05.594Z"
   },
   {
    "duration": 5,
    "start_time": "2021-07-06T04:12:06.009Z"
   },
   {
    "duration": 11,
    "start_time": "2021-07-06T04:12:06.202Z"
   },
   {
    "duration": 4,
    "start_time": "2021-07-06T04:12:06.403Z"
   },
   {
    "duration": 9,
    "start_time": "2021-07-06T04:12:06.774Z"
   },
   {
    "duration": 10,
    "start_time": "2021-07-06T04:12:06.940Z"
   },
   {
    "duration": 179,
    "start_time": "2021-07-06T04:12:07.134Z"
   },
   {
    "duration": 6,
    "start_time": "2021-07-06T04:12:07.360Z"
   },
   {
    "duration": 6,
    "start_time": "2021-07-06T04:12:07.702Z"
   },
   {
    "duration": 20,
    "start_time": "2021-07-06T04:12:07.945Z"
   },
   {
    "duration": 3,
    "start_time": "2021-07-06T04:12:08.144Z"
   },
   {
    "duration": 12,
    "start_time": "2021-07-06T04:12:10.090Z"
   },
   {
    "duration": 10,
    "start_time": "2021-07-06T04:12:10.575Z"
   },
   {
    "duration": 9,
    "start_time": "2021-07-06T04:12:10.955Z"
   },
   {
    "duration": 21,
    "start_time": "2021-07-06T04:12:11.259Z"
   },
   {
    "duration": 96,
    "start_time": "2021-07-06T04:12:13.846Z"
   },
   {
    "duration": 20,
    "start_time": "2021-07-06T04:17:52.829Z"
   },
   {
    "duration": 2,
    "start_time": "2021-07-06T04:17:54.473Z"
   },
   {
    "duration": 406,
    "start_time": "2021-07-06T04:17:57.167Z"
   },
   {
    "duration": 7,
    "start_time": "2021-07-06T04:20:56.671Z"
   },
   {
    "duration": 6,
    "start_time": "2021-07-06T04:21:03.081Z"
   },
   {
    "duration": 391,
    "start_time": "2021-07-06T04:25:09.587Z"
   },
   {
    "duration": 393,
    "start_time": "2021-07-06T04:31:53.261Z"
   },
   {
    "duration": 12,
    "start_time": "2021-07-06T04:32:06.742Z"
   },
   {
    "duration": 433,
    "start_time": "2021-07-06T04:33:54.176Z"
   },
   {
    "duration": 603,
    "start_time": "2021-07-06T04:35:05.011Z"
   },
   {
    "duration": 21,
    "start_time": "2021-07-06T04:35:10.699Z"
   },
   {
    "duration": 20,
    "start_time": "2021-07-06T04:35:27.452Z"
   },
   {
    "duration": 120,
    "start_time": "2021-07-06T04:35:48.262Z"
   },
   {
    "duration": 106,
    "start_time": "2021-07-06T04:35:58.063Z"
   },
   {
    "duration": 643,
    "start_time": "2021-07-06T04:36:10.722Z"
   },
   {
    "duration": 392,
    "start_time": "2021-07-06T04:36:16.331Z"
   },
   {
    "duration": 10,
    "start_time": "2021-07-06T04:36:25.491Z"
   },
   {
    "duration": 11,
    "start_time": "2021-07-06T04:36:59.739Z"
   },
   {
    "duration": 11,
    "start_time": "2021-07-06T04:43:17.702Z"
   },
   {
    "duration": 9,
    "start_time": "2021-07-06T04:49:40.043Z"
   },
   {
    "duration": 9,
    "start_time": "2021-07-06T04:49:50.364Z"
   },
   {
    "duration": 9,
    "start_time": "2021-07-06T04:50:50.671Z"
   },
   {
    "duration": 264,
    "start_time": "2021-07-06T04:51:31.517Z"
   },
   {
    "duration": 140,
    "start_time": "2021-07-06T04:51:47.355Z"
   },
   {
    "duration": 250,
    "start_time": "2021-07-06T05:03:39.251Z"
   },
   {
    "duration": 4,
    "start_time": "2021-07-06T05:03:42.987Z"
   },
   {
    "duration": 13,
    "start_time": "2021-07-06T05:03:43.389Z"
   },
   {
    "duration": 12,
    "start_time": "2021-07-06T05:04:18.378Z"
   },
   {
    "duration": 274,
    "start_time": "2021-07-06T05:05:34.894Z"
   },
   {
    "duration": 4,
    "start_time": "2021-07-06T05:05:37.420Z"
   },
   {
    "duration": 12,
    "start_time": "2021-07-06T05:05:37.510Z"
   },
   {
    "duration": 141,
    "start_time": "2021-07-06T05:05:46.069Z"
   },
   {
    "duration": 137,
    "start_time": "2021-07-06T05:05:51.489Z"
   },
   {
    "duration": 26,
    "start_time": "2021-07-06T05:10:37.911Z"
   },
   {
    "duration": 540,
    "start_time": "2021-07-06T05:10:45.554Z"
   },
   {
    "duration": 547,
    "start_time": "2021-07-06T05:11:17.048Z"
   },
   {
    "duration": 28,
    "start_time": "2021-07-06T05:11:18.735Z"
   },
   {
    "duration": 17,
    "start_time": "2021-07-06T05:11:29.861Z"
   },
   {
    "duration": 395,
    "start_time": "2021-07-06T05:11:32.996Z"
   },
   {
    "duration": 368,
    "start_time": "2021-07-06T05:13:14.136Z"
   },
   {
    "duration": 108,
    "start_time": "2021-07-06T05:14:52.341Z"
   },
   {
    "duration": 545,
    "start_time": "2021-07-06T05:18:05.961Z"
   },
   {
    "duration": 4,
    "start_time": "2021-07-06T05:24:38.637Z"
   },
   {
    "duration": 526,
    "start_time": "2021-07-06T05:25:08.149Z"
   },
   {
    "duration": 11,
    "start_time": "2021-07-06T05:25:34.252Z"
   },
   {
    "duration": 11,
    "start_time": "2021-07-06T05:25:38.860Z"
   },
   {
    "duration": 13,
    "start_time": "2021-07-06T05:25:43.852Z"
   },
   {
    "duration": 12,
    "start_time": "2021-07-06T05:26:11.004Z"
   },
   {
    "duration": 12,
    "start_time": "2021-07-06T05:26:54.487Z"
   },
   {
    "duration": 13,
    "start_time": "2021-07-06T05:26:59.475Z"
   },
   {
    "duration": 13,
    "start_time": "2021-07-06T05:27:02.697Z"
   },
   {
    "duration": 13,
    "start_time": "2021-07-06T05:27:06.737Z"
   },
   {
    "duration": 13,
    "start_time": "2021-07-06T05:27:10.135Z"
   },
   {
    "duration": 13,
    "start_time": "2021-07-06T05:27:14.343Z"
   },
   {
    "duration": 13,
    "start_time": "2021-07-06T05:27:19.057Z"
   },
   {
    "duration": 12,
    "start_time": "2021-07-06T05:27:23.273Z"
   },
   {
    "duration": 13,
    "start_time": "2021-07-06T05:27:26.043Z"
   },
   {
    "duration": 13,
    "start_time": "2021-07-06T05:27:28.814Z"
   },
   {
    "duration": 12,
    "start_time": "2021-07-06T05:28:46.094Z"
   },
   {
    "duration": 11,
    "start_time": "2021-07-06T05:29:13.528Z"
   },
   {
    "duration": 25,
    "start_time": "2021-07-06T05:33:36.314Z"
   },
   {
    "duration": 573,
    "start_time": "2021-07-06T05:33:54.264Z"
   },
   {
    "duration": 222,
    "start_time": "2021-07-06T05:34:34.599Z"
   },
   {
    "duration": 587,
    "start_time": "2021-07-06T05:35:04.213Z"
   },
   {
    "duration": 402,
    "start_time": "2021-07-06T05:35:08.227Z"
   },
   {
    "duration": 616,
    "start_time": "2021-07-06T05:35:13.692Z"
   },
   {
    "duration": 598,
    "start_time": "2021-07-06T05:35:24.789Z"
   },
   {
    "duration": 829,
    "start_time": "2021-07-06T05:35:51.842Z"
   },
   {
    "duration": 820,
    "start_time": "2021-07-06T05:36:13.642Z"
   },
   {
    "duration": 297,
    "start_time": "2021-07-06T05:36:22.933Z"
   },
   {
    "duration": 834,
    "start_time": "2021-07-06T05:37:01.738Z"
   },
   {
    "duration": 9,
    "start_time": "2021-07-06T05:37:25.104Z"
   },
   {
    "duration": 22,
    "start_time": "2021-07-06T05:37:49.130Z"
   },
   {
    "duration": 602,
    "start_time": "2021-07-06T05:37:50.400Z"
   },
   {
    "duration": 6,
    "start_time": "2021-07-06T05:37:53.504Z"
   },
   {
    "duration": 5,
    "start_time": "2021-07-06T05:37:53.656Z"
   },
   {
    "duration": 20,
    "start_time": "2021-07-06T05:37:56.350Z"
   },
   {
    "duration": 9,
    "start_time": "2021-07-06T05:37:57.612Z"
   },
   {
    "duration": 584,
    "start_time": "2021-07-06T05:38:07.314Z"
   },
   {
    "duration": 9,
    "start_time": "2021-07-06T05:38:09.340Z"
   },
   {
    "duration": 140,
    "start_time": "2021-07-06T05:38:11.844Z"
   },
   {
    "duration": 26,
    "start_time": "2021-07-06T05:38:13.931Z"
   },
   {
    "duration": 6,
    "start_time": "2021-07-06T05:38:16.144Z"
   },
   {
    "duration": 12,
    "start_time": "2021-07-06T05:38:16.507Z"
   },
   {
    "duration": 148,
    "start_time": "2021-07-06T05:38:16.722Z"
   },
   {
    "duration": 4,
    "start_time": "2021-07-06T05:38:17.276Z"
   },
   {
    "duration": 12,
    "start_time": "2021-07-06T05:38:17.465Z"
   },
   {
    "duration": 113,
    "start_time": "2021-07-06T05:38:19.230Z"
   },
   {
    "duration": 872,
    "start_time": "2021-07-06T05:38:20.958Z"
   },
   {
    "duration": 108,
    "start_time": "2021-07-06T05:38:25.638Z"
   },
   {
    "duration": 1199,
    "start_time": "2021-07-06T05:38:44.487Z"
   },
   {
    "duration": 13,
    "start_time": "2021-07-06T05:38:56.020Z"
   },
   {
    "duration": 296,
    "start_time": "2021-07-06T05:38:57.526Z"
   },
   {
    "duration": 1032,
    "start_time": "2021-07-06T05:39:00.432Z"
   },
   {
    "duration": 310,
    "start_time": "2021-07-06T05:39:29.060Z"
   },
   {
    "duration": 239,
    "start_time": "2021-07-06T05:44:16.977Z"
   },
   {
    "duration": 252,
    "start_time": "2021-07-06T05:48:05.092Z"
   },
   {
    "duration": 792,
    "start_time": "2021-07-06T05:49:10.748Z"
   },
   {
    "duration": 546,
    "start_time": "2021-07-06T05:50:51.616Z"
   },
   {
    "duration": 312,
    "start_time": "2021-07-06T05:51:36.346Z"
   },
   {
    "duration": 1394,
    "start_time": "2021-07-06T10:44:10.411Z"
   },
   {
    "duration": 63,
    "start_time": "2021-07-06T10:44:11.807Z"
   },
   {
    "duration": 5,
    "start_time": "2021-07-06T10:44:12.340Z"
   },
   {
    "duration": 11,
    "start_time": "2021-07-06T10:44:12.612Z"
   },
   {
    "duration": 8,
    "start_time": "2021-07-06T10:44:12.813Z"
   },
   {
    "duration": 19,
    "start_time": "2021-07-06T10:44:12.978Z"
   },
   {
    "duration": 6,
    "start_time": "2021-07-06T10:44:13.634Z"
   },
   {
    "duration": 16,
    "start_time": "2021-07-06T10:44:13.796Z"
   },
   {
    "duration": 16,
    "start_time": "2021-07-06T10:44:13.980Z"
   },
   {
    "duration": 378,
    "start_time": "2021-07-06T10:44:14.202Z"
   },
   {
    "duration": 9,
    "start_time": "2021-07-06T10:44:14.586Z"
   },
   {
    "duration": 8,
    "start_time": "2021-07-06T10:44:14.878Z"
   },
   {
    "duration": 35,
    "start_time": "2021-07-06T10:44:15.093Z"
   },
   {
    "duration": 5,
    "start_time": "2021-07-06T10:44:15.312Z"
   },
   {
    "duration": 18,
    "start_time": "2021-07-06T10:44:29.471Z"
   },
   {
    "duration": 16,
    "start_time": "2021-07-06T10:44:30.837Z"
   },
   {
    "duration": 16,
    "start_time": "2021-07-06T10:44:47.908Z"
   },
   {
    "duration": 13,
    "start_time": "2021-07-06T10:44:48.194Z"
   },
   {
    "duration": 33,
    "start_time": "2021-07-06T10:44:49.336Z"
   },
   {
    "duration": 16,
    "start_time": "2021-07-06T10:46:09.151Z"
   },
   {
    "duration": 11,
    "start_time": "2021-07-06T10:46:22.963Z"
   },
   {
    "duration": 46,
    "start_time": "2021-07-06T10:47:45.738Z"
   },
   {
    "duration": 27,
    "start_time": "2021-07-06T10:47:51.887Z"
   },
   {
    "duration": 27,
    "start_time": "2021-07-06T10:47:53.784Z"
   },
   {
    "duration": 16,
    "start_time": "2021-07-06T10:48:10.852Z"
   },
   {
    "duration": 16,
    "start_time": "2021-07-06T10:48:11.261Z"
   },
   {
    "duration": 18,
    "start_time": "2021-07-06T10:48:11.740Z"
   },
   {
    "duration": 36,
    "start_time": "2021-07-06T10:50:13.368Z"
   },
   {
    "duration": 987,
    "start_time": "2021-07-06T10:50:17.593Z"
   },
   {
    "duration": 989,
    "start_time": "2021-07-06T10:50:48.090Z"
   },
   {
    "duration": 993,
    "start_time": "2021-07-06T10:50:57.152Z"
   },
   {
    "duration": 1015,
    "start_time": "2021-07-06T10:51:03.179Z"
   },
   {
    "duration": 1007,
    "start_time": "2021-07-06T10:51:08.236Z"
   },
   {
    "duration": 1022,
    "start_time": "2021-07-06T10:51:15.626Z"
   },
   {
    "duration": 1023,
    "start_time": "2021-07-06T10:51:40.765Z"
   },
   {
    "duration": 992,
    "start_time": "2021-07-06T10:51:47.930Z"
   },
   {
    "duration": 1076,
    "start_time": "2021-07-06T10:51:53.269Z"
   },
   {
    "duration": 1104,
    "start_time": "2021-07-06T10:52:04.966Z"
   },
   {
    "duration": 697,
    "start_time": "2021-07-06T10:52:43.029Z"
   },
   {
    "duration": 676,
    "start_time": "2021-07-06T10:52:53.843Z"
   },
   {
    "duration": 664,
    "start_time": "2021-07-06T10:57:14.807Z"
   },
   {
    "duration": 42,
    "start_time": "2021-07-06T10:57:22.347Z"
   },
   {
    "duration": 840,
    "start_time": "2021-07-06T11:04:04.374Z"
   },
   {
    "duration": 14,
    "start_time": "2021-07-06T11:05:14.284Z"
   },
   {
    "duration": 605,
    "start_time": "2021-07-06T11:05:43.080Z"
   },
   {
    "duration": 575,
    "start_time": "2021-07-06T11:05:48.305Z"
   },
   {
    "duration": 746,
    "start_time": "2021-07-06T11:05:52.595Z"
   },
   {
    "duration": 940,
    "start_time": "2021-07-06T11:05:56.292Z"
   },
   {
    "duration": 1113,
    "start_time": "2021-07-06T11:06:01.553Z"
   },
   {
    "duration": 936,
    "start_time": "2021-07-06T11:07:12.907Z"
   },
   {
    "duration": 1028,
    "start_time": "2021-07-06T11:07:16.378Z"
   },
   {
    "duration": 1154,
    "start_time": "2021-07-06T11:07:20.401Z"
   },
   {
    "duration": 9,
    "start_time": "2021-07-06T11:12:13.406Z"
   },
   {
    "duration": 9,
    "start_time": "2021-07-06T11:12:13.614Z"
   },
   {
    "duration": 123,
    "start_time": "2021-07-06T11:12:15.465Z"
   },
   {
    "duration": 16,
    "start_time": "2021-07-06T11:12:20.807Z"
   },
   {
    "duration": 1155,
    "start_time": "2021-07-06T11:12:27.278Z"
   },
   {
    "duration": 13,
    "start_time": "2021-07-06T11:12:31.472Z"
   },
   {
    "duration": 1001,
    "start_time": "2021-07-06T11:12:42.015Z"
   },
   {
    "duration": 13,
    "start_time": "2021-07-06T11:12:45.032Z"
   },
   {
    "duration": 623,
    "start_time": "2021-07-06T11:13:36.838Z"
   },
   {
    "duration": 430,
    "start_time": "2021-07-06T11:17:38.137Z"
   },
   {
    "duration": 9,
    "start_time": "2021-07-06T11:17:44.555Z"
   },
   {
    "duration": 10,
    "start_time": "2021-07-06T11:17:48.402Z"
   },
   {
    "duration": 5,
    "start_time": "2021-07-06T11:17:58.376Z"
   },
   {
    "duration": 20,
    "start_time": "2021-07-06T11:17:58.819Z"
   },
   {
    "duration": 276,
    "start_time": "2021-07-06T11:17:59.732Z"
   },
   {
    "duration": 8,
    "start_time": "2021-07-06T11:18:04.083Z"
   },
   {
    "duration": 20,
    "start_time": "2021-07-06T11:18:08.037Z"
   },
   {
    "duration": 142,
    "start_time": "2021-07-06T11:18:10.244Z"
   },
   {
    "duration": 47,
    "start_time": "2021-07-06T11:18:17.486Z"
   },
   {
    "duration": 1537,
    "start_time": "2021-07-06T11:18:18.691Z"
   },
   {
    "duration": 123,
    "start_time": "2021-07-06T11:18:23.966Z"
   },
   {
    "duration": 1617,
    "start_time": "2021-07-06T11:18:31.817Z"
   },
   {
    "duration": 19,
    "start_time": "2021-07-06T11:18:45.856Z"
   },
   {
    "duration": 769,
    "start_time": "2021-07-06T11:18:48.894Z"
   },
   {
    "duration": 532,
    "start_time": "2021-07-06T11:18:49.940Z"
   },
   {
    "duration": 1009,
    "start_time": "2021-07-06T11:21:02.577Z"
   },
   {
    "duration": 1396,
    "start_time": "2021-07-06T11:21:41.691Z"
   },
   {
    "duration": 1402,
    "start_time": "2021-07-06T11:21:58.869Z"
   },
   {
    "duration": 1368,
    "start_time": "2021-07-06T11:22:07.890Z"
   },
   {
    "duration": 409,
    "start_time": "2021-07-06T11:22:13.533Z"
   },
   {
    "duration": 1301,
    "start_time": "2021-07-07T05:49:26.917Z"
   },
   {
    "duration": 1507,
    "start_time": "2021-07-07T16:32:41.465Z"
   },
   {
    "duration": 64,
    "start_time": "2021-07-07T16:32:42.975Z"
   },
   {
    "duration": 5,
    "start_time": "2021-07-07T16:32:44.395Z"
   },
   {
    "duration": 16,
    "start_time": "2021-07-07T16:32:45.473Z"
   },
   {
    "duration": 10,
    "start_time": "2021-07-07T16:32:47.072Z"
   },
   {
    "duration": 6,
    "start_time": "2021-07-07T16:32:48.038Z"
   },
   {
    "duration": 15,
    "start_time": "2021-07-07T16:32:49.031Z"
   },
   {
    "duration": 21,
    "start_time": "2021-07-07T16:32:50.070Z"
   },
   {
    "duration": 20,
    "start_time": "2021-07-07T16:32:56.678Z"
   },
   {
    "duration": 9,
    "start_time": "2021-07-07T16:35:12.382Z"
   },
   {
    "duration": 9,
    "start_time": "2021-07-07T16:35:12.749Z"
   },
   {
    "duration": 477,
    "start_time": "2021-07-07T16:57:08.553Z"
   },
   {
    "duration": 377,
    "start_time": "2021-07-07T16:57:15.313Z"
   },
   {
    "duration": 343,
    "start_time": "2021-07-07T16:57:16.678Z"
   },
   {
    "duration": 9,
    "start_time": "2021-07-07T16:57:22.192Z"
   },
   {
    "duration": 8,
    "start_time": "2021-07-07T16:57:22.576Z"
   },
   {
    "duration": 33,
    "start_time": "2021-07-07T16:57:23.904Z"
   },
   {
    "duration": 5,
    "start_time": "2021-07-07T16:57:24.624Z"
   },
   {
    "duration": 18,
    "start_time": "2021-07-07T16:57:26.881Z"
   },
   {
    "duration": 10,
    "start_time": "2021-07-07T16:57:28.199Z"
   },
   {
    "duration": 36,
    "start_time": "2021-07-07T16:57:28.878Z"
   },
   {
    "duration": 19,
    "start_time": "2021-07-07T16:57:29.378Z"
   },
   {
    "duration": 21,
    "start_time": "2021-07-07T16:57:30.056Z"
   },
   {
    "duration": 17,
    "start_time": "2021-07-07T16:57:30.632Z"
   },
   {
    "duration": 82,
    "start_time": "2021-07-07T16:57:33.105Z"
   },
   {
    "duration": 970,
    "start_time": "2021-07-07T16:57:48.384Z"
   },
   {
    "duration": 951,
    "start_time": "2021-07-07T16:58:32.744Z"
   },
   {
    "duration": 105,
    "start_time": "2021-07-07T16:58:37.862Z"
   },
   {
    "duration": 38,
    "start_time": "2021-07-07T16:59:26.113Z"
   },
   {
    "duration": 954,
    "start_time": "2021-07-07T16:59:27.079Z"
   },
   {
    "duration": 37,
    "start_time": "2021-07-07T17:10:13.838Z"
   },
   {
    "duration": 46,
    "start_time": "2021-07-07T17:10:58.226Z"
   },
   {
    "duration": 1155,
    "start_time": "2021-07-07T17:11:16.025Z"
   },
   {
    "duration": 372,
    "start_time": "2021-07-07T17:18:40.622Z"
   },
   {
    "duration": 964,
    "start_time": "2021-07-07T17:18:43.827Z"
   },
   {
    "duration": 13,
    "start_time": "2021-07-07T17:18:45.551Z"
   },
   {
    "duration": 15,
    "start_time": "2021-07-07T17:24:35.125Z"
   },
   {
    "duration": 14,
    "start_time": "2021-07-07T17:24:42.606Z"
   },
   {
    "duration": 15,
    "start_time": "2021-07-07T17:25:24.153Z"
   },
   {
    "duration": 534,
    "start_time": "2021-07-07T17:25:45.684Z"
   },
   {
    "duration": 9,
    "start_time": "2021-07-07T17:25:49.852Z"
   },
   {
    "duration": 1337,
    "start_time": "2021-07-08T01:48:09.260Z"
   },
   {
    "duration": 63,
    "start_time": "2021-07-08T01:48:10.600Z"
   },
   {
    "duration": 6,
    "start_time": "2021-07-08T01:48:12.027Z"
   },
   {
    "duration": 14,
    "start_time": "2021-07-08T01:48:12.353Z"
   },
   {
    "duration": 9,
    "start_time": "2021-07-08T01:48:13.015Z"
   },
   {
    "duration": 6,
    "start_time": "2021-07-08T01:48:13.366Z"
   },
   {
    "duration": 17,
    "start_time": "2021-07-08T01:48:13.869Z"
   },
   {
    "duration": 17,
    "start_time": "2021-07-08T01:48:14.086Z"
   },
   {
    "duration": 15,
    "start_time": "2021-07-08T01:48:14.495Z"
   },
   {
    "duration": 9,
    "start_time": "2021-07-08T01:48:15.073Z"
   },
   {
    "duration": 8,
    "start_time": "2021-07-08T01:48:15.305Z"
   },
   {
    "duration": 33,
    "start_time": "2021-07-08T01:48:15.700Z"
   },
   {
    "duration": 5,
    "start_time": "2021-07-08T01:48:15.852Z"
   },
   {
    "duration": 18,
    "start_time": "2021-07-08T01:48:17.872Z"
   },
   {
    "duration": 11,
    "start_time": "2021-07-08T01:48:18.132Z"
   },
   {
    "duration": 30,
    "start_time": "2021-07-08T01:48:18.307Z"
   },
   {
    "duration": 17,
    "start_time": "2021-07-08T01:48:18.593Z"
   },
   {
    "duration": 16,
    "start_time": "2021-07-08T01:48:18.732Z"
   },
   {
    "duration": 17,
    "start_time": "2021-07-08T01:48:18.934Z"
   },
   {
    "duration": 114,
    "start_time": "2021-07-08T01:48:19.841Z"
   },
   {
    "duration": 911,
    "start_time": "2021-07-08T01:48:20.897Z"
   },
   {
    "duration": 8,
    "start_time": "2021-07-08T01:49:01.266Z"
   },
   {
    "duration": 9,
    "start_time": "2021-07-08T01:49:05.545Z"
   },
   {
    "duration": 79,
    "start_time": "2021-07-08T01:49:30.585Z"
   },
   {
    "duration": 885,
    "start_time": "2021-07-08T01:49:33.761Z"
   },
   {
    "duration": 97,
    "start_time": "2021-07-08T01:49:49.361Z"
   },
   {
    "duration": 13,
    "start_time": "2021-07-08T01:49:54.278Z"
   },
   {
    "duration": 904,
    "start_time": "2021-07-08T01:49:57.927Z"
   },
   {
    "duration": 13,
    "start_time": "2021-07-08T01:50:13.444Z"
   },
   {
    "duration": 904,
    "start_time": "2021-07-08T01:50:16.036Z"
   },
   {
    "duration": 13,
    "start_time": "2021-07-08T01:50:17.102Z"
   },
   {
    "duration": 612,
    "start_time": "2021-07-08T01:51:44.590Z"
   },
   {
    "duration": 480,
    "start_time": "2021-07-08T01:57:08.080Z"
   },
   {
    "duration": 481,
    "start_time": "2021-07-08T01:57:31.965Z"
   },
   {
    "duration": 8,
    "start_time": "2021-07-08T01:58:36.115Z"
   },
   {
    "duration": 445,
    "start_time": "2021-07-08T02:00:08.041Z"
   },
   {
    "duration": 8,
    "start_time": "2021-07-08T02:00:15.284Z"
   },
   {
    "duration": 110,
    "start_time": "2021-07-08T02:00:33.248Z"
   },
   {
    "duration": 52,
    "start_time": "2021-07-08T02:00:44.206Z"
   },
   {
    "duration": 98,
    "start_time": "2021-07-08T02:00:58.962Z"
   },
   {
    "duration": 6,
    "start_time": "2021-07-08T02:01:35.367Z"
   },
   {
    "duration": 426,
    "start_time": "2021-07-08T02:02:31.263Z"
   },
   {
    "duration": 9,
    "start_time": "2021-07-08T02:02:33.827Z"
   },
   {
    "duration": 8,
    "start_time": "2021-07-08T02:03:13.809Z"
   },
   {
    "duration": 392,
    "start_time": "2021-07-08T02:03:14.991Z"
   },
   {
    "duration": 9,
    "start_time": "2021-07-08T02:03:16.657Z"
   },
   {
    "duration": 6,
    "start_time": "2021-07-08T02:44:01.957Z"
   },
   {
    "duration": 50,
    "start_time": "2021-07-08T02:44:03.077Z"
   },
   {
    "duration": 5,
    "start_time": "2021-07-08T02:44:03.737Z"
   },
   {
    "duration": 11,
    "start_time": "2021-07-08T02:44:03.938Z"
   },
   {
    "duration": 7,
    "start_time": "2021-07-08T02:44:04.567Z"
   },
   {
    "duration": 6,
    "start_time": "2021-07-08T02:44:04.997Z"
   },
   {
    "duration": 15,
    "start_time": "2021-07-08T02:44:05.587Z"
   },
   {
    "duration": 17,
    "start_time": "2021-07-08T02:44:05.717Z"
   },
   {
    "duration": 8,
    "start_time": "2021-07-08T02:44:06.037Z"
   },
   {
    "duration": 9,
    "start_time": "2021-07-08T02:44:06.558Z"
   },
   {
    "duration": 8,
    "start_time": "2021-07-08T02:44:06.707Z"
   },
   {
    "duration": 32,
    "start_time": "2021-07-08T02:44:07.067Z"
   },
   {
    "duration": 5,
    "start_time": "2021-07-08T02:44:07.247Z"
   },
   {
    "duration": 17,
    "start_time": "2021-07-08T02:44:08.197Z"
   },
   {
    "duration": 10,
    "start_time": "2021-07-08T02:44:08.467Z"
   },
   {
    "duration": 29,
    "start_time": "2021-07-08T02:44:08.637Z"
   },
   {
    "duration": 17,
    "start_time": "2021-07-08T02:44:08.817Z"
   },
   {
    "duration": 17,
    "start_time": "2021-07-08T02:44:08.996Z"
   },
   {
    "duration": 17,
    "start_time": "2021-07-08T02:44:09.227Z"
   },
   {
    "duration": 61,
    "start_time": "2021-07-08T02:44:09.997Z"
   },
   {
    "duration": 927,
    "start_time": "2021-07-08T02:44:10.517Z"
   },
   {
    "duration": 9,
    "start_time": "2021-07-08T02:44:13.017Z"
   },
   {
    "duration": 9,
    "start_time": "2021-07-08T02:44:13.227Z"
   },
   {
    "duration": 50,
    "start_time": "2021-07-08T02:44:13.607Z"
   },
   {
    "duration": 1004,
    "start_time": "2021-07-08T02:44:13.758Z"
   },
   {
    "duration": 100,
    "start_time": "2021-07-08T02:44:14.764Z"
   },
   {
    "duration": 13,
    "start_time": "2021-07-08T02:44:14.958Z"
   },
   {
    "duration": 915,
    "start_time": "2021-07-08T02:44:15.817Z"
   },
   {
    "duration": 24,
    "start_time": "2021-07-08T02:44:16.735Z"
   },
   {
    "duration": 511,
    "start_time": "2021-07-08T02:44:16.761Z"
   },
   {
    "duration": 10,
    "start_time": "2021-07-08T02:44:17.276Z"
   },
   {
    "duration": 514,
    "start_time": "2021-07-08T02:44:17.537Z"
   },
   {
    "duration": 11,
    "start_time": "2021-07-08T02:44:18.054Z"
   },
   {
    "duration": 6,
    "start_time": "2021-07-08T02:44:18.418Z"
   },
   {
    "duration": 19,
    "start_time": "2021-07-08T02:44:18.947Z"
   },
   {
    "duration": 255,
    "start_time": "2021-07-08T02:44:19.137Z"
   },
   {
    "duration": 6,
    "start_time": "2021-07-08T03:09:21.710Z"
   },
   {
    "duration": 51,
    "start_time": "2021-07-08T03:09:21.983Z"
   },
   {
    "duration": 6,
    "start_time": "2021-07-08T03:09:22.448Z"
   },
   {
    "duration": 12,
    "start_time": "2021-07-08T03:09:22.728Z"
   },
   {
    "duration": 7,
    "start_time": "2021-07-08T03:09:23.188Z"
   },
   {
    "duration": 6,
    "start_time": "2021-07-08T03:09:23.499Z"
   },
   {
    "duration": 14,
    "start_time": "2021-07-08T03:09:23.829Z"
   },
   {
    "duration": 16,
    "start_time": "2021-07-08T03:09:23.979Z"
   },
   {
    "duration": 9,
    "start_time": "2021-07-08T03:09:24.289Z"
   },
   {
    "duration": 9,
    "start_time": "2021-07-08T03:09:24.769Z"
   },
   {
    "duration": 8,
    "start_time": "2021-07-08T03:09:24.920Z"
   },
   {
    "duration": 34,
    "start_time": "2021-07-08T03:09:25.279Z"
   },
   {
    "duration": 5,
    "start_time": "2021-07-08T03:09:25.378Z"
   },
   {
    "duration": 18,
    "start_time": "2021-07-08T03:09:26.358Z"
   },
   {
    "duration": 11,
    "start_time": "2021-07-08T03:09:26.678Z"
   },
   {
    "duration": 30,
    "start_time": "2021-07-08T03:09:26.867Z"
   },
   {
    "duration": 17,
    "start_time": "2021-07-08T03:09:27.008Z"
   },
   {
    "duration": 19,
    "start_time": "2021-07-08T03:09:27.208Z"
   },
   {
    "duration": 21,
    "start_time": "2021-07-08T03:09:27.359Z"
   },
   {
    "duration": 43,
    "start_time": "2021-07-08T03:09:28.519Z"
   },
   {
    "duration": 908,
    "start_time": "2021-07-08T03:09:28.768Z"
   },
   {
    "duration": 8,
    "start_time": "2021-07-08T03:09:29.959Z"
   },
   {
    "duration": 9,
    "start_time": "2021-07-08T03:09:30.029Z"
   },
   {
    "duration": 77,
    "start_time": "2021-07-08T03:09:30.379Z"
   },
   {
    "duration": 893,
    "start_time": "2021-07-08T03:09:30.557Z"
   },
   {
    "duration": 61,
    "start_time": "2021-07-08T03:09:31.999Z"
   },
   {
    "duration": 14,
    "start_time": "2021-07-08T03:09:32.299Z"
   },
   {
    "duration": 960,
    "start_time": "2021-07-08T03:09:33.059Z"
   },
   {
    "duration": 33,
    "start_time": "2021-07-08T03:09:34.023Z"
   },
   {
    "duration": 421,
    "start_time": "2021-07-08T03:09:52.274Z"
   },
   {
    "duration": 9,
    "start_time": "2021-07-08T03:09:52.697Z"
   },
   {
    "duration": 485,
    "start_time": "2021-07-08T03:09:52.710Z"
   },
   {
    "duration": 9,
    "start_time": "2021-07-08T03:09:53.198Z"
   },
   {
    "duration": 5,
    "start_time": "2021-07-08T03:09:59.040Z"
   },
   {
    "duration": 20,
    "start_time": "2021-07-08T03:09:59.992Z"
   },
   {
    "duration": 256,
    "start_time": "2021-07-08T03:10:00.865Z"
   },
   {
    "duration": 44,
    "start_time": "2021-07-08T03:10:06.330Z"
   },
   {
    "duration": 1322,
    "start_time": "2021-07-08T03:10:09.250Z"
   },
   {
    "duration": 183,
    "start_time": "2021-07-08T03:10:10.574Z"
   },
   {
    "duration": 1346,
    "start_time": "2021-07-08T03:10:10.760Z"
   },
   {
    "duration": 1315,
    "start_time": "2021-07-08T03:10:12.244Z"
   },
   {
    "duration": 437,
    "start_time": "2021-07-08T03:10:13.562Z"
   },
   {
    "duration": 47,
    "start_time": "2021-07-08T03:11:34.872Z"
   },
   {
    "duration": 45,
    "start_time": "2021-07-08T03:11:53.838Z"
   },
   {
    "duration": 1352,
    "start_time": "2021-07-08T03:11:59.672Z"
   },
   {
    "duration": 143,
    "start_time": "2021-07-08T03:12:03.021Z"
   },
   {
    "duration": 6,
    "start_time": "2021-07-08T03:12:41.407Z"
   },
   {
    "duration": 21,
    "start_time": "2021-07-08T03:12:44.016Z"
   },
   {
    "duration": 265,
    "start_time": "2021-07-08T03:12:44.045Z"
   },
   {
    "duration": 46,
    "start_time": "2021-07-08T03:13:44.106Z"
   },
   {
    "duration": 1504,
    "start_time": "2021-07-08T03:13:44.158Z"
   },
   {
    "duration": 882,
    "start_time": "2021-07-08T03:18:32.699Z"
   },
   {
    "duration": 40,
    "start_time": "2021-07-08T03:18:43.339Z"
   },
   {
    "duration": 403,
    "start_time": "2021-07-08T03:18:58.788Z"
   },
   {
    "duration": 9,
    "start_time": "2021-07-08T03:19:02.088Z"
   },
   {
    "duration": 416,
    "start_time": "2021-07-08T03:19:10.980Z"
   },
   {
    "duration": 1551,
    "start_time": "2021-07-08T07:20:37.473Z"
   },
   {
    "duration": 62,
    "start_time": "2021-07-08T07:20:39.026Z"
   },
   {
    "duration": 6,
    "start_time": "2021-07-08T07:20:39.091Z"
   },
   {
    "duration": 22,
    "start_time": "2021-07-08T07:20:39.099Z"
   },
   {
    "duration": 11,
    "start_time": "2021-07-08T07:20:39.123Z"
   },
   {
    "duration": 27,
    "start_time": "2021-07-08T07:20:39.137Z"
   },
   {
    "duration": 17,
    "start_time": "2021-07-08T07:20:39.167Z"
   },
   {
    "duration": 21,
    "start_time": "2021-07-08T07:20:39.189Z"
   },
   {
    "duration": 22,
    "start_time": "2021-07-08T07:20:39.213Z"
   },
   {
    "duration": 30,
    "start_time": "2021-07-08T07:20:39.238Z"
   },
   {
    "duration": 13,
    "start_time": "2021-07-08T07:20:39.270Z"
   },
   {
    "duration": 37,
    "start_time": "2021-07-08T07:20:39.285Z"
   },
   {
    "duration": 5,
    "start_time": "2021-07-08T07:20:39.325Z"
   },
   {
    "duration": 28,
    "start_time": "2021-07-08T07:20:39.363Z"
   },
   {
    "duration": 10,
    "start_time": "2021-07-08T07:20:39.393Z"
   },
   {
    "duration": 59,
    "start_time": "2021-07-08T07:20:39.405Z"
   },
   {
    "duration": 17,
    "start_time": "2021-07-08T07:20:39.467Z"
   },
   {
    "duration": 18,
    "start_time": "2021-07-08T07:20:39.486Z"
   },
   {
    "duration": 25,
    "start_time": "2021-07-08T07:20:39.507Z"
   },
   {
    "duration": 130,
    "start_time": "2021-07-08T07:20:39.534Z"
   },
   {
    "duration": 1068,
    "start_time": "2021-07-08T07:20:39.666Z"
   },
   {
    "duration": 8,
    "start_time": "2021-07-08T07:20:40.737Z"
   },
   {
    "duration": 10,
    "start_time": "2021-07-08T07:20:40.765Z"
   },
   {
    "duration": 89,
    "start_time": "2021-07-08T07:20:40.777Z"
   },
   {
    "duration": 932,
    "start_time": "2021-07-08T07:20:40.965Z"
   },
   {
    "duration": 78,
    "start_time": "2021-07-08T07:20:41.900Z"
   },
   {
    "duration": 99,
    "start_time": "2021-07-08T07:20:42.063Z"
   },
   {
    "duration": 924,
    "start_time": "2021-07-08T07:20:42.164Z"
   },
   {
    "duration": 18,
    "start_time": "2021-07-08T07:20:43.091Z"
   },
   {
    "duration": 612,
    "start_time": "2021-07-08T07:20:43.112Z"
   },
   {
    "duration": 8,
    "start_time": "2021-07-08T07:20:43.727Z"
   },
   {
    "duration": 465,
    "start_time": "2021-07-08T07:20:43.738Z"
   },
   {
    "duration": 9,
    "start_time": "2021-07-08T07:20:44.205Z"
   },
   {
    "duration": 6,
    "start_time": "2021-07-08T07:20:44.216Z"
   },
   {
    "duration": 45,
    "start_time": "2021-07-08T07:20:44.224Z"
   },
   {
    "duration": 275,
    "start_time": "2021-07-08T07:20:44.272Z"
   },
   {
    "duration": 54,
    "start_time": "2021-07-08T07:20:44.549Z"
   },
   {
    "duration": 1492,
    "start_time": "2021-07-08T07:20:44.663Z"
   },
   {
    "duration": 205,
    "start_time": "2021-07-08T07:20:46.162Z"
   },
   {
    "duration": 1447,
    "start_time": "2021-07-08T07:20:46.369Z"
   },
   {
    "duration": 1422,
    "start_time": "2021-07-08T07:20:47.819Z"
   },
   {
    "duration": 456,
    "start_time": "2021-07-08T07:20:49.244Z"
   },
   {
    "duration": 1127,
    "start_time": "2021-07-09T09:02:38.206Z"
   },
   {
    "duration": 43,
    "start_time": "2021-07-09T09:02:39.335Z"
   },
   {
    "duration": 3,
    "start_time": "2021-07-09T09:02:39.382Z"
   },
   {
    "duration": 12,
    "start_time": "2021-07-09T09:02:39.387Z"
   },
   {
    "duration": 10,
    "start_time": "2021-07-09T09:02:39.401Z"
   },
   {
    "duration": 12,
    "start_time": "2021-07-09T09:02:39.412Z"
   },
   {
    "duration": 20,
    "start_time": "2021-07-09T09:02:39.426Z"
   },
   {
    "duration": 10,
    "start_time": "2021-07-09T09:02:39.448Z"
   },
   {
    "duration": 13,
    "start_time": "2021-07-09T09:02:39.459Z"
   },
   {
    "duration": 5,
    "start_time": "2021-07-09T09:02:39.474Z"
   },
   {
    "duration": 10,
    "start_time": "2021-07-09T09:02:39.480Z"
   },
   {
    "duration": 22,
    "start_time": "2021-07-09T09:02:39.491Z"
   },
   {
    "duration": 3,
    "start_time": "2021-07-09T09:02:39.514Z"
   },
   {
    "duration": 32,
    "start_time": "2021-07-09T09:02:39.519Z"
   },
   {
    "duration": 7,
    "start_time": "2021-07-09T09:02:39.553Z"
   },
   {
    "duration": 18,
    "start_time": "2021-07-09T09:02:39.562Z"
   },
   {
    "duration": 10,
    "start_time": "2021-07-09T09:02:39.582Z"
   },
   {
    "duration": 13,
    "start_time": "2021-07-09T09:02:39.594Z"
   },
   {
    "duration": 39,
    "start_time": "2021-07-09T09:02:39.609Z"
   },
   {
    "duration": 95,
    "start_time": "2021-07-09T09:02:39.650Z"
   },
   {
    "duration": 696,
    "start_time": "2021-07-09T09:02:39.747Z"
   },
   {
    "duration": 5,
    "start_time": "2021-07-09T09:02:40.447Z"
   },
   {
    "duration": 7,
    "start_time": "2021-07-09T09:02:40.454Z"
   },
   {
    "duration": 78,
    "start_time": "2021-07-09T09:02:40.463Z"
   },
   {
    "duration": 671,
    "start_time": "2021-07-09T09:02:40.544Z"
   },
   {
    "duration": 30,
    "start_time": "2021-07-09T09:02:41.216Z"
   },
   {
    "duration": 95,
    "start_time": "2021-07-09T09:02:41.247Z"
   },
   {
    "duration": 669,
    "start_time": "2021-07-09T09:02:41.345Z"
   },
   {
    "duration": 8,
    "start_time": "2021-07-09T09:02:42.016Z"
   },
   {
    "duration": 348,
    "start_time": "2021-07-09T09:02:42.026Z"
   },
   {
    "duration": 5,
    "start_time": "2021-07-09T09:02:42.376Z"
   },
   {
    "duration": 297,
    "start_time": "2021-07-09T09:02:42.383Z"
   },
   {
    "duration": 5,
    "start_time": "2021-07-09T09:02:42.681Z"
   },
   {
    "duration": 14,
    "start_time": "2021-07-09T09:02:42.688Z"
   },
   {
    "duration": 19,
    "start_time": "2021-07-09T09:02:42.703Z"
   },
   {
    "duration": 147,
    "start_time": "2021-07-09T09:02:42.723Z"
   },
   {
    "duration": 70,
    "start_time": "2021-07-09T09:02:42.872Z"
   },
   {
    "duration": 921,
    "start_time": "2021-07-09T09:02:42.945Z"
   },
   {
    "duration": 77,
    "start_time": "2021-07-09T09:02:43.867Z"
   },
   {
    "duration": 941,
    "start_time": "2021-07-09T09:02:43.946Z"
   },
   {
    "duration": 872,
    "start_time": "2021-07-09T09:02:44.889Z"
   },
   {
    "duration": 324,
    "start_time": "2021-07-09T09:02:45.763Z"
   },
   {
    "duration": 4,
    "start_time": "2021-07-09T09:02:46.775Z"
   },
   {
    "duration": 39,
    "start_time": "2021-07-09T09:02:46.981Z"
   },
   {
    "duration": 3,
    "start_time": "2021-07-09T09:02:51.118Z"
   },
   {
    "duration": 9,
    "start_time": "2021-07-09T09:02:51.274Z"
   },
   {
    "duration": 5,
    "start_time": "2021-07-09T09:02:51.813Z"
   },
   {
    "duration": 6,
    "start_time": "2021-07-09T09:02:52.590Z"
   },
   {
    "duration": 11,
    "start_time": "2021-07-09T09:02:53.162Z"
   },
   {
    "duration": 10,
    "start_time": "2021-07-09T09:02:53.390Z"
   },
   {
    "duration": 6,
    "start_time": "2021-07-09T09:02:53.802Z"
   },
   {
    "duration": 7,
    "start_time": "2021-07-09T09:02:54.361Z"
   },
   {
    "duration": 7,
    "start_time": "2021-07-09T09:02:54.553Z"
   },
   {
    "duration": 22,
    "start_time": "2021-07-09T09:02:54.922Z"
   },
   {
    "duration": 3,
    "start_time": "2021-07-09T09:02:55.137Z"
   },
   {
    "duration": 12,
    "start_time": "2021-07-09T09:02:58.361Z"
   },
   {
    "duration": 8,
    "start_time": "2021-07-09T09:02:58.830Z"
   },
   {
    "duration": 21,
    "start_time": "2021-07-09T09:02:59.016Z"
   },
   {
    "duration": 11,
    "start_time": "2021-07-09T09:02:59.204Z"
   },
   {
    "duration": 12,
    "start_time": "2021-07-09T09:02:59.385Z"
   },
   {
    "duration": 12,
    "start_time": "2021-07-09T09:02:59.564Z"
   },
   {
    "duration": 27,
    "start_time": "2021-07-09T09:03:00.672Z"
   },
   {
    "duration": 592,
    "start_time": "2021-07-09T09:03:01.070Z"
   },
   {
    "duration": 6,
    "start_time": "2021-07-09T09:03:03.470Z"
   },
   {
    "duration": 6,
    "start_time": "2021-07-09T09:03:03.627Z"
   },
   {
    "duration": 341,
    "start_time": "2021-07-09T09:06:12.942Z"
   },
   {
    "duration": 325,
    "start_time": "2021-07-09T09:06:51.945Z"
   },
   {
    "duration": 41130,
    "start_time": "2021-07-09T09:14:39.589Z"
   },
   {
    "duration": 42108,
    "start_time": "2021-07-09T09:18:19.204Z"
   },
   {
    "duration": 87894,
    "start_time": "2021-07-09T09:20:12.271Z"
   },
   {
    "duration": 41063,
    "start_time": "2021-07-09T09:22:16.634Z"
   },
   {
    "duration": 43980,
    "start_time": "2021-07-09T09:28:34.056Z"
   },
   {
    "duration": 41710,
    "start_time": "2021-07-09T09:30:22.554Z"
   },
   {
    "duration": 42371,
    "start_time": "2021-07-09T09:33:08.362Z"
   },
   {
    "duration": 87428,
    "start_time": "2021-07-09T09:34:01.735Z"
   },
   {
    "duration": 61079,
    "start_time": "2021-07-09T09:35:46.523Z"
   },
   {
    "duration": 55781,
    "start_time": "2021-07-09T09:37:49.423Z"
   },
   {
    "duration": 69451,
    "start_time": "2021-07-09T09:39:15.355Z"
   },
   {
    "duration": 72945,
    "start_time": "2021-07-09T09:49:28.443Z"
   },
   {
    "duration": 330,
    "start_time": "2021-07-09T09:56:14.754Z"
   },
   {
    "duration": 67585,
    "start_time": "2021-07-09T09:58:40.167Z"
   },
   {
    "duration": 483,
    "start_time": "2021-07-09T10:01:02.144Z"
   },
   {
    "duration": 497,
    "start_time": "2021-07-09T10:02:02.350Z"
   },
   {
    "duration": 97812,
    "start_time": "2021-07-09T10:04:07.730Z"
   },
   {
    "duration": 767,
    "start_time": "2021-07-09T10:06:14.340Z"
   },
   {
    "duration": 359,
    "start_time": "2021-07-09T10:07:44.008Z"
   },
   {
    "duration": 387,
    "start_time": "2021-07-09T10:07:58.158Z"
   },
   {
    "duration": 110,
    "start_time": "2021-07-09T10:08:26.832Z"
   },
   {
    "duration": 357,
    "start_time": "2021-07-09T10:08:32.278Z"
   },
   {
    "duration": 96444,
    "start_time": "2021-07-09T10:08:40.675Z"
   },
   {
    "duration": 366,
    "start_time": "2021-07-09T10:12:08.297Z"
   },
   {
    "duration": 460,
    "start_time": "2021-07-09T10:12:31.895Z"
   },
   {
    "duration": 96,
    "start_time": "2021-07-09T10:12:33.350Z"
   },
   {
    "duration": 360,
    "start_time": "2021-07-09T10:12:35.583Z"
   },
   {
    "duration": 364,
    "start_time": "2021-07-09T10:13:03.630Z"
   },
   {
    "duration": 370,
    "start_time": "2021-07-09T10:13:14.285Z"
   },
   {
    "duration": 356,
    "start_time": "2021-07-09T10:13:52.629Z"
   },
   {
    "duration": 98335,
    "start_time": "2021-07-09T10:14:47.138Z"
   },
   {
    "duration": 9,
    "start_time": "2021-07-09T10:16:35.389Z"
   },
   {
    "duration": 486,
    "start_time": "2021-07-09T10:17:00.677Z"
   },
   {
    "duration": 109,
    "start_time": "2021-07-09T10:17:03.531Z"
   },
   {
    "duration": 10,
    "start_time": "2021-07-09T10:17:04.618Z"
   },
   {
    "duration": 482,
    "start_time": "2021-07-09T10:17:06.109Z"
   },
   {
    "duration": 9,
    "start_time": "2021-07-09T10:17:07.812Z"
   },
   {
    "duration": 302,
    "start_time": "2021-07-09T10:17:10.460Z"
   },
   {
    "duration": 6,
    "start_time": "2021-07-09T10:17:11.180Z"
   },
   {
    "duration": 69831,
    "start_time": "2021-07-09T10:30:16.441Z"
   },
   {
    "duration": 483,
    "start_time": "2021-07-09T10:34:05.369Z"
   },
   {
    "duration": 340,
    "start_time": "2021-07-09T10:34:08.711Z"
   },
   {
    "duration": 69161,
    "start_time": "2021-07-09T10:34:34.744Z"
   },
   {
    "duration": 331,
    "start_time": "2021-07-09T10:36:08.932Z"
   },
   {
    "duration": 314,
    "start_time": "2021-07-09T10:37:25.186Z"
   },
   {
    "duration": 600,
    "start_time": "2021-07-09T10:38:06.809Z"
   },
   {
    "duration": 328,
    "start_time": "2021-07-09T10:38:16.015Z"
   },
   {
    "duration": 332,
    "start_time": "2021-07-09T10:38:25.479Z"
   },
   {
    "duration": 69865,
    "start_time": "2021-07-09T10:50:08.816Z"
   },
   {
    "duration": 345,
    "start_time": "2021-07-09T10:51:54.376Z"
   },
   {
    "duration": 321,
    "start_time": "2021-07-09T10:53:29.142Z"
   },
   {
    "duration": 321,
    "start_time": "2021-07-09T10:53:37.613Z"
   },
   {
    "duration": 171,
    "start_time": "2021-07-09T10:54:31.308Z"
   },
   {
    "duration": 1503,
    "start_time": "2021-07-10T04:14:46.464Z"
   },
   {
    "duration": 53,
    "start_time": "2021-07-10T04:14:47.970Z"
   },
   {
    "duration": 5,
    "start_time": "2021-07-10T04:14:48.026Z"
   },
   {
    "duration": 17,
    "start_time": "2021-07-10T04:14:48.034Z"
   },
   {
    "duration": 8,
    "start_time": "2021-07-10T04:14:48.053Z"
   },
   {
    "duration": 5,
    "start_time": "2021-07-10T04:14:48.064Z"
   },
   {
    "duration": 49,
    "start_time": "2021-07-10T04:14:48.072Z"
   },
   {
    "duration": 16,
    "start_time": "2021-07-10T04:14:48.124Z"
   },
   {
    "duration": 10,
    "start_time": "2021-07-10T04:14:48.144Z"
   },
   {
    "duration": 8,
    "start_time": "2021-07-10T04:14:48.157Z"
   },
   {
    "duration": 46,
    "start_time": "2021-07-10T04:14:48.168Z"
   },
   {
    "duration": 37,
    "start_time": "2021-07-10T04:14:48.216Z"
   },
   {
    "duration": 4,
    "start_time": "2021-07-10T04:14:48.256Z"
   },
   {
    "duration": 56,
    "start_time": "2021-07-10T04:14:48.263Z"
   },
   {
    "duration": 11,
    "start_time": "2021-07-10T04:14:48.322Z"
   },
   {
    "duration": 32,
    "start_time": "2021-07-10T04:14:48.335Z"
   },
   {
    "duration": 46,
    "start_time": "2021-07-10T04:14:48.369Z"
   },
   {
    "duration": 21,
    "start_time": "2021-07-10T04:14:48.417Z"
   },
   {
    "duration": 17,
    "start_time": "2021-07-10T04:14:48.440Z"
   },
   {
    "duration": 150,
    "start_time": "2021-07-10T04:14:48.459Z"
   },
   {
    "duration": 1043,
    "start_time": "2021-07-10T04:14:48.612Z"
   },
   {
    "duration": 111420,
    "start_time": "2021-07-10T04:14:49.657Z"
   },
   {
    "duration": 506,
    "start_time": "2021-07-10T04:16:41.079Z"
   },
   {
    "duration": 22,
    "start_time": "2021-07-10T04:16:41.587Z"
   },
   {
    "duration": 8,
    "start_time": "2021-07-10T04:16:41.611Z"
   },
   {
    "duration": 93,
    "start_time": "2021-07-10T04:16:41.621Z"
   },
   {
    "duration": 111519,
    "start_time": "2021-07-10T04:16:41.723Z"
   },
   {
    "duration": 792,
    "start_time": "2021-07-10T04:18:33.245Z"
   },
   {
    "duration": 77,
    "start_time": "2021-07-10T04:18:34.039Z"
   },
   {
    "duration": 98,
    "start_time": "2021-07-10T04:18:34.119Z"
   },
   {
    "duration": 799,
    "start_time": "2021-07-10T04:18:34.219Z"
   },
   {
    "duration": 14,
    "start_time": "2021-07-10T04:18:35.020Z"
   },
   {
    "duration": 429,
    "start_time": "2021-07-10T04:18:35.037Z"
   },
   {
    "duration": 9,
    "start_time": "2021-07-10T04:18:35.468Z"
   },
   {
    "duration": 473,
    "start_time": "2021-07-10T04:18:35.479Z"
   },
   {
    "duration": 8,
    "start_time": "2021-07-10T04:18:35.955Z"
   },
   {
    "duration": 5,
    "start_time": "2021-07-10T04:18:35.966Z"
   },
   {
    "duration": 43,
    "start_time": "2021-07-10T04:18:35.973Z"
   },
   {
    "duration": 277,
    "start_time": "2021-07-10T04:18:36.019Z"
   },
   {
    "duration": 51,
    "start_time": "2021-07-10T04:18:36.298Z"
   },
   {
    "duration": 161586,
    "start_time": "2021-07-10T04:18:36.411Z"
   },
   {
    "duration": 594,
    "start_time": "2021-07-10T04:21:18.000Z"
   },
   {
    "duration": 213,
    "start_time": "2021-07-10T04:21:18.597Z"
   },
   {
    "duration": 611,
    "start_time": "2021-07-10T04:21:18.812Z"
   },
   {
    "duration": 1383,
    "start_time": "2021-07-10T04:21:19.426Z"
   },
   {
    "duration": 420,
    "start_time": "2021-07-10T04:21:20.812Z"
   },
   {
    "duration": 113335,
    "start_time": "2021-07-10T04:21:21.235Z"
   },
   {
    "duration": 529,
    "start_time": "2021-07-10T04:23:14.572Z"
   },
   {
    "duration": 291,
    "start_time": "2021-07-10T04:23:15.103Z"
   },
   {
    "duration": 55210,
    "start_time": "2021-07-10T04:28:37.348Z"
   },
   {
    "duration": 4,
    "start_time": "2021-07-10T04:29:33.640Z"
   },
   {
    "duration": 56,
    "start_time": "2021-07-10T04:35:21.720Z"
   },
   {
    "duration": 63165,
    "start_time": "2021-07-10T04:38:30.652Z"
   },
   {
    "duration": 1193,
    "start_time": "2021-07-10T04:40:23.862Z"
   },
   {
    "duration": 9,
    "start_time": "2021-07-10T04:40:37.723Z"
   },
   {
    "duration": 9,
    "start_time": "2021-07-10T04:40:38.426Z"
   },
   {
    "duration": 4855,
    "start_time": "2021-07-10T04:41:14.227Z"
   },
   {
    "duration": 12570,
    "start_time": "2021-07-10T04:41:33.574Z"
   },
   {
    "duration": 56504,
    "start_time": "2021-07-10T04:41:51.058Z"
   },
   {
    "duration": 56466,
    "start_time": "2021-07-10T04:43:37.008Z"
   },
   {
    "duration": 1409,
    "start_time": "2021-07-10T04:44:47.016Z"
   },
   {
    "duration": 99,
    "start_time": "2021-07-10T04:45:06.720Z"
   },
   {
    "duration": 14,
    "start_time": "2021-07-10T04:45:08.360Z"
   },
   {
    "duration": 1361,
    "start_time": "2021-07-10T04:45:15.673Z"
   },
   {
    "duration": 13,
    "start_time": "2021-07-10T04:45:23.792Z"
   },
   {
    "duration": 465,
    "start_time": "2021-07-10T04:45:58.978Z"
   },
   {
    "duration": 8,
    "start_time": "2021-07-10T04:46:03.158Z"
   },
   {
    "duration": 471,
    "start_time": "2021-07-10T04:46:09.875Z"
   },
   {
    "duration": 8,
    "start_time": "2021-07-10T04:46:11.044Z"
   },
   {
    "duration": 394,
    "start_time": "2021-07-10T04:59:34.263Z"
   },
   {
    "duration": 3,
    "start_time": "2021-07-10T04:59:42.828Z"
   },
   {
    "duration": 6,
    "start_time": "2021-07-10T04:59:44.009Z"
   },
   {
    "duration": 11714,
    "start_time": "2021-07-10T04:59:45.107Z"
   },
   {
    "duration": 25934,
    "start_time": "2021-07-10T05:00:14.269Z"
   },
   {
    "duration": 339,
    "start_time": "2021-07-10T05:01:05.812Z"
   },
   {
    "duration": 4,
    "start_time": "2021-07-10T05:01:13.169Z"
   },
   {
    "duration": 12,
    "start_time": "2021-07-10T05:01:16.837Z"
   },
   {
    "duration": 26007,
    "start_time": "2021-07-10T05:02:03.258Z"
   },
   {
    "duration": 12,
    "start_time": "2021-07-10T05:02:33.850Z"
   },
   {
    "duration": 28609,
    "start_time": "2021-07-10T05:04:34.230Z"
   },
   {
    "duration": 8535,
    "start_time": "2021-07-10T05:08:10.515Z"
   },
   {
    "duration": 15,
    "start_time": "2021-07-10T05:08:26.834Z"
   },
   {
    "duration": 382,
    "start_time": "2021-07-10T05:08:50.266Z"
   },
   {
    "duration": 28949,
    "start_time": "2021-07-10T05:09:05.493Z"
   },
   {
    "duration": 13,
    "start_time": "2021-07-10T05:09:36.903Z"
   },
   {
    "duration": 375,
    "start_time": "2021-07-10T05:09:41.515Z"
   },
   {
    "duration": 28927,
    "start_time": "2021-07-10T05:10:37.035Z"
   },
   {
    "duration": 16,
    "start_time": "2021-07-10T05:11:07.418Z"
   },
   {
    "duration": 472,
    "start_time": "2021-07-10T05:11:08.456Z"
   },
   {
    "duration": 28607,
    "start_time": "2021-07-10T05:12:16.352Z"
   },
   {
    "duration": 19,
    "start_time": "2021-07-10T05:12:44.962Z"
   },
   {
    "duration": 400,
    "start_time": "2021-07-10T05:12:45.011Z"
   },
   {
    "duration": 28556,
    "start_time": "2021-07-10T05:14:59.031Z"
   },
   {
    "duration": 418,
    "start_time": "2021-07-10T05:15:34.313Z"
   },
   {
    "duration": 28140,
    "start_time": "2021-07-10T05:17:03.358Z"
   },
   {
    "duration": 651,
    "start_time": "2021-07-10T05:17:35.861Z"
   },
   {
    "duration": 395,
    "start_time": "2021-07-10T05:17:55.687Z"
   },
   {
    "duration": 25244,
    "start_time": "2021-07-10T05:20:21.698Z"
   },
   {
    "duration": 411,
    "start_time": "2021-07-10T05:20:49.706Z"
   },
   {
    "duration": 411,
    "start_time": "2021-07-10T05:21:40.613Z"
   },
   {
    "duration": 24844,
    "start_time": "2021-07-10T05:22:00.486Z"
   },
   {
    "duration": 385,
    "start_time": "2021-07-10T05:22:27.618Z"
   },
   {
    "duration": 409,
    "start_time": "2021-07-10T05:22:40.426Z"
   },
   {
    "duration": 465,
    "start_time": "2021-07-10T05:22:48.304Z"
   },
   {
    "duration": 29831,
    "start_time": "2021-07-10T05:23:12.130Z"
   },
   {
    "duration": 531,
    "start_time": "2021-07-10T05:23:49.394Z"
   },
   {
    "duration": 29804,
    "start_time": "2021-07-10T05:25:06.122Z"
   },
   {
    "duration": 401,
    "start_time": "2021-07-10T05:25:35.929Z"
   },
   {
    "duration": 28679,
    "start_time": "2021-07-10T05:26:15.083Z"
   },
   {
    "duration": 406,
    "start_time": "2021-07-10T05:26:43.765Z"
   },
   {
    "duration": 265,
    "start_time": "2021-07-10T07:21:18.872Z"
   },
   {
    "duration": 31,
    "start_time": "2021-07-10T07:21:25.766Z"
   },
   {
    "duration": 1116,
    "start_time": "2021-07-10T07:21:30.855Z"
   },
   {
    "duration": 2,
    "start_time": "2021-07-10T07:21:31.972Z"
   },
   {
    "duration": 42,
    "start_time": "2021-07-10T07:21:31.976Z"
   },
   {
    "duration": 3,
    "start_time": "2021-07-10T07:21:32.019Z"
   },
   {
    "duration": 10,
    "start_time": "2021-07-10T07:21:32.024Z"
   },
   {
    "duration": 6,
    "start_time": "2021-07-10T07:21:32.359Z"
   },
   {
    "duration": 5,
    "start_time": "2021-07-10T07:21:32.883Z"
   },
   {
    "duration": 9,
    "start_time": "2021-07-10T07:21:33.247Z"
   },
   {
    "duration": 10,
    "start_time": "2021-07-10T07:21:33.415Z"
   },
   {
    "duration": 10,
    "start_time": "2021-07-10T07:21:33.893Z"
   },
   {
    "duration": 7,
    "start_time": "2021-07-10T07:21:34.407Z"
   },
   {
    "duration": 6,
    "start_time": "2021-07-10T07:21:34.580Z"
   },
   {
    "duration": 19,
    "start_time": "2021-07-10T07:21:35.110Z"
   },
   {
    "duration": 3,
    "start_time": "2021-07-10T07:21:35.288Z"
   },
   {
    "duration": 11,
    "start_time": "2021-07-10T07:21:36.598Z"
   },
   {
    "duration": 8,
    "start_time": "2021-07-10T07:21:36.939Z"
   },
   {
    "duration": 18,
    "start_time": "2021-07-10T07:21:37.131Z"
   },
   {
    "duration": 11,
    "start_time": "2021-07-10T07:21:37.323Z"
   },
   {
    "duration": 10,
    "start_time": "2021-07-10T07:21:37.508Z"
   },
   {
    "duration": 11,
    "start_time": "2021-07-10T07:21:37.674Z"
   },
   {
    "duration": 27,
    "start_time": "2021-07-10T07:21:38.815Z"
   },
   {
    "duration": 562,
    "start_time": "2021-07-10T07:21:39.305Z"
   },
   {
    "duration": 2,
    "start_time": "2021-07-10T07:21:42.381Z"
   },
   {
    "duration": 33036,
    "start_time": "2021-07-10T07:21:43.647Z"
   },
   {
    "duration": 690,
    "start_time": "2021-07-10T07:23:04.066Z"
   },
   {
    "duration": 6,
    "start_time": "2021-07-10T07:23:50.905Z"
   },
   {
    "duration": 6,
    "start_time": "2021-07-10T07:23:51.247Z"
   },
   {
    "duration": 26,
    "start_time": "2021-07-10T07:23:53.038Z"
   },
   {
    "duration": 32410,
    "start_time": "2021-07-10T07:24:06.525Z"
   },
   {
    "duration": 793,
    "start_time": "2021-07-10T07:25:02.762Z"
   },
   {
    "duration": 24,
    "start_time": "2021-07-10T07:25:51.289Z"
   },
   {
    "duration": 9,
    "start_time": "2021-07-10T07:25:52.540Z"
   },
   {
    "duration": 794,
    "start_time": "2021-07-10T07:25:57.504Z"
   },
   {
    "duration": 9,
    "start_time": "2021-07-10T07:26:04.357Z"
   },
   {
    "duration": 349,
    "start_time": "2021-07-10T07:26:06.967Z"
   },
   {
    "duration": 6,
    "start_time": "2021-07-10T07:26:08.233Z"
   },
   {
    "duration": 309,
    "start_time": "2021-07-10T07:26:09.247Z"
   },
   {
    "duration": 5,
    "start_time": "2021-07-10T07:26:13.467Z"
   },
   {
    "duration": 4,
    "start_time": "2021-07-10T07:26:14.841Z"
   },
   {
    "duration": 12,
    "start_time": "2021-07-10T07:26:16.231Z"
   },
   {
    "duration": 207,
    "start_time": "2021-07-10T07:26:16.395Z"
   },
   {
    "duration": 28,
    "start_time": "2021-07-10T07:26:16.949Z"
   },
   {
    "duration": 92324,
    "start_time": "2021-07-10T07:26:17.789Z"
   },
   {
    "duration": 352,
    "start_time": "2021-07-10T07:27:50.115Z"
   },
   {
    "duration": 122,
    "start_time": "2021-07-10T07:27:50.469Z"
   },
   {
    "duration": 566,
    "start_time": "2021-07-10T07:27:50.594Z"
   },
   {
    "duration": 47063,
    "start_time": "2021-07-10T07:28:02.361Z"
   },
   {
    "duration": 457,
    "start_time": "2021-07-10T07:29:31.933Z"
   },
   {
    "duration": 79,
    "start_time": "2021-07-10T07:29:51.713Z"
   },
   {
    "duration": 463,
    "start_time": "2021-07-10T07:30:32.181Z"
   },
   {
    "duration": 465,
    "start_time": "2021-07-10T07:30:37.473Z"
   },
   {
    "duration": 469,
    "start_time": "2021-07-10T07:31:46.768Z"
   },
   {
    "duration": 782,
    "start_time": "2021-07-10T07:32:09.702Z"
   },
   {
    "duration": 304,
    "start_time": "2021-07-10T07:32:17.009Z"
   },
   {
    "duration": 33803,
    "start_time": "2021-07-10T07:33:32.353Z"
   },
   {
    "duration": 687,
    "start_time": "2021-07-10T07:36:27.983Z"
   },
   {
    "duration": 33107,
    "start_time": "2021-07-10T07:39:02.418Z"
   },
   {
    "duration": 1266,
    "start_time": "2021-07-10T07:39:42.079Z"
   },
   {
    "duration": 33560,
    "start_time": "2021-07-10T07:41:27.335Z"
   },
   {
    "duration": 984,
    "start_time": "2021-07-10T07:50:25.802Z"
   },
   {
    "duration": 205,
    "start_time": "2021-07-10T07:51:50.716Z"
   },
   {
    "duration": 1652,
    "start_time": "2021-07-11T08:28:05.564Z"
   },
   {
    "duration": 5,
    "start_time": "2021-07-11T08:28:07.218Z"
   },
   {
    "duration": 62,
    "start_time": "2021-07-11T08:28:07.226Z"
   },
   {
    "duration": 6,
    "start_time": "2021-07-11T08:28:07.291Z"
   },
   {
    "duration": 14,
    "start_time": "2021-07-11T08:28:07.299Z"
   },
   {
    "duration": 8,
    "start_time": "2021-07-11T08:28:07.315Z"
   },
   {
    "duration": 36,
    "start_time": "2021-07-11T08:28:07.326Z"
   },
   {
    "duration": 21,
    "start_time": "2021-07-11T08:28:07.366Z"
   },
   {
    "duration": 24,
    "start_time": "2021-07-11T08:28:07.391Z"
   },
   {
    "duration": 13,
    "start_time": "2021-07-11T08:28:07.418Z"
   },
   {
    "duration": 35,
    "start_time": "2021-07-11T08:28:07.433Z"
   },
   {
    "duration": 11,
    "start_time": "2021-07-11T08:28:07.471Z"
   },
   {
    "duration": 40,
    "start_time": "2021-07-11T08:28:07.485Z"
   },
   {
    "duration": 34,
    "start_time": "2021-07-11T08:28:07.527Z"
   },
   {
    "duration": 19,
    "start_time": "2021-07-11T08:28:07.564Z"
   },
   {
    "duration": 14,
    "start_time": "2021-07-11T08:28:07.585Z"
   },
   {
    "duration": 62,
    "start_time": "2021-07-11T08:28:07.602Z"
   },
   {
    "duration": 17,
    "start_time": "2021-07-11T08:28:07.667Z"
   },
   {
    "duration": 22,
    "start_time": "2021-07-11T08:28:07.686Z"
   },
   {
    "duration": 45,
    "start_time": "2021-07-11T08:28:07.711Z"
   },
   {
    "duration": 104,
    "start_time": "2021-07-11T08:28:07.762Z"
   },
   {
    "duration": 1125,
    "start_time": "2021-07-11T08:28:07.870Z"
   },
   {
    "duration": 67,
    "start_time": "2021-07-11T08:28:09.003Z"
   },
   {
    "duration": 60629,
    "start_time": "2021-07-11T08:28:09.073Z"
   },
   {
    "duration": 1373,
    "start_time": "2021-07-11T08:29:09.705Z"
   },
   {
    "duration": 11,
    "start_time": "2021-07-11T08:29:11.081Z"
   },
   {
    "duration": 12,
    "start_time": "2021-07-11T08:29:11.095Z"
   },
   {
    "duration": 169,
    "start_time": "2021-07-11T08:29:11.109Z"
   },
   {
    "duration": 62347,
    "start_time": "2021-07-11T08:29:11.363Z"
   },
   {
    "duration": 2006,
    "start_time": "2021-07-11T08:30:13.712Z"
   },
   {
    "duration": 153,
    "start_time": "2021-07-11T08:30:15.721Z"
   },
   {
    "duration": 99,
    "start_time": "2021-07-11T08:30:15.877Z"
   },
   {
    "duration": 1984,
    "start_time": "2021-07-11T08:30:15.979Z"
   },
   {
    "duration": 18,
    "start_time": "2021-07-11T08:30:17.967Z"
   },
   {
    "duration": 606,
    "start_time": "2021-07-11T08:30:17.988Z"
   },
   {
    "duration": 10,
    "start_time": "2021-07-11T08:30:18.597Z"
   },
   {
    "duration": 712,
    "start_time": "2021-07-11T08:30:18.610Z"
   },
   {
    "duration": 11,
    "start_time": "2021-07-11T08:30:19.325Z"
   },
   {
    "duration": 25,
    "start_time": "2021-07-11T08:30:19.340Z"
   },
   {
    "duration": 26,
    "start_time": "2021-07-11T08:30:19.368Z"
   },
   {
    "duration": 277,
    "start_time": "2021-07-11T08:30:19.397Z"
   },
   {
    "duration": 98,
    "start_time": "2021-07-11T08:30:19.676Z"
   },
   {
    "duration": 91965,
    "start_time": "2021-07-11T08:30:19.862Z"
   },
   {
    "duration": 1178,
    "start_time": "2021-07-11T08:31:51.830Z"
   },
   {
    "duration": 154,
    "start_time": "2021-07-11T08:31:53.011Z"
   },
   {
    "duration": 923,
    "start_time": "2021-07-11T08:31:53.168Z"
   },
   {
    "duration": 1381,
    "start_time": "2021-07-11T08:31:54.093Z"
   },
   {
    "duration": 431,
    "start_time": "2021-07-11T08:31:55.477Z"
   },
   {
    "duration": 60617,
    "start_time": "2021-07-11T08:31:55.910Z"
   },
   {
    "duration": 1815,
    "start_time": "2021-07-11T08:32:56.530Z"
   },
   {
    "duration": 467,
    "start_time": "2021-07-11T08:32:58.348Z"
   },
   {
    "duration": 4,
    "start_time": "2021-07-11T08:32:58.819Z"
   },
   {
    "duration": 10,
    "start_time": "2021-07-11T08:32:58.826Z"
   },
   {
    "duration": 31727,
    "start_time": "2021-07-11T08:32:58.862Z"
   },
   {
    "duration": 428,
    "start_time": "2021-07-11T08:33:30.592Z"
   },
   {
    "duration": 29,
    "start_time": "2021-07-11T08:39:18.603Z"
   },
   {
    "duration": 8,
    "start_time": "2021-07-11T08:39:59.833Z"
   },
   {
    "duration": 755,
    "start_time": "2021-07-11T08:40:54.363Z"
   },
   {
    "duration": 18,
    "start_time": "2021-07-11T08:40:57.294Z"
   },
   {
    "duration": 1490,
    "start_time": "2021-07-11T08:41:08.982Z"
   },
   {
    "duration": 23,
    "start_time": "2021-07-11T08:41:11.724Z"
   },
   {
    "duration": 435,
    "start_time": "2021-07-11T08:41:56.971Z"
   },
   {
    "duration": 7,
    "start_time": "2021-07-11T08:42:01.471Z"
   },
   {
    "duration": 1700,
    "start_time": "2021-07-11T09:05:43.429Z"
   },
   {
    "duration": 8,
    "start_time": "2021-07-11T09:06:11.372Z"
   },
   {
    "duration": 2051,
    "start_time": "2021-07-11T09:06:11.812Z"
   },
   {
    "duration": 17,
    "start_time": "2021-07-11T09:06:13.953Z"
   }
  ],
  "kernelspec": {
   "display_name": "Python 3",
   "language": "python",
   "name": "python3"
  },
  "language_info": {
   "codemirror_mode": {
    "name": "ipython",
    "version": 3
   },
   "file_extension": ".py",
   "mimetype": "text/x-python",
   "name": "python",
   "nbconvert_exporter": "python",
   "pygments_lexer": "ipython3",
   "version": "3.9.1"
  },
  "toc": {
   "base_numbering": 1,
   "nav_menu": {},
   "number_sections": false,
   "sideBar": true,
   "skip_h1_title": true,
   "title_cell": "Содержание",
   "title_sidebar": "Contents",
   "toc_cell": true,
   "toc_position": {},
   "toc_section_display": true,
   "toc_window_display": false
  }
 },
 "nbformat": 4,
 "nbformat_minor": 2
}
