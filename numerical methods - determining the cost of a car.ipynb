{
 "cells": [
  {
   "cell_type": "markdown",
   "metadata": {},
   "source": [
    "# Определение стоимости автомобилей"
   ]
  },
  {
   "cell_type": "markdown",
   "metadata": {},
   "source": [
    "Сервис по продаже автомобилей с пробегом «Не бит, не крашен» разрабатывает приложение для привлечения новых клиентов. В нём можно быстро узнать рыночную стоимость своего автомобиля. В вашем распоряжении исторические данные: технические характеристики, комплектации и цены автомобилей. Вам нужно построить модель для определения стоимости. \n",
    "\n",
    "Заказчику важны:\n",
    "\n",
    "- качество предсказания;\n",
    "- скорость предсказания;\n",
    "- время обучения.\n",
    "\n",
    "\n",
    "## Описание данных\n",
    "\n",
    "#### Признаки\n",
    "- DateCrawled — дата скачивания анкеты из базы\n",
    "- VehicleType — тип автомобильного кузова\n",
    "- RegistrationYear — год регистрации автомобиля\n",
    "- Gearbox — тип коробки передач\n",
    "- Power — мощность (л. с.)\n",
    "- Model — модель автомобиля\n",
    "- Kilometer — пробег (км)\n",
    "- RegistrationMonth — месяц регистрации автомобиля\n",
    "- FuelType — тип топлива\n",
    "- Brand — марка автомобиля\n",
    "- NotRepaired — была машина в ремонте или нет\n",
    "- DateCreated — дата создания анкеты\n",
    "- NumberOfPictures — количество фотографий автомобиля\n",
    "- PostalCode — почтовый индекс владельца анкеты (пользователя)\n",
    "- LastSeen — дата последней активности пользователя\n",
    "\n",
    "\n",
    "#### Целевой признак\n",
    "- Price — цена (евро)"
   ]
  },
  {
   "cell_type": "markdown",
   "metadata": {},
   "source": [
    "## Подготовка данных"
   ]
  },
  {
   "cell_type": "code",
   "execution_count": 1,
   "metadata": {},
   "outputs": [],
   "source": [
    "import matplotlib.pyplot as plt\n",
    "import numpy as np\n",
    "import pandas as pd\n",
    "import warnings\n",
    "from sklearn.model_selection import train_test_split\n",
    "from sklearn.preprocessing import StandardScaler\n",
    "from sklearn.metrics import mean_squared_error\n",
    "from sklearn.preprocessing import PolynomialFeatures\n",
    "from sklearn.preprocessing import OrdinalEncoder\n",
    "from sklearn.linear_model import LinearRegression\n",
    "from sklearn.linear_model import Ridge\n",
    "from sklearn.tree import DecisionTreeRegressor\n",
    "from sklearn.ensemble import ExtraTreesRegressor\n",
    "from catboost import Pool, CatBoostRegressor, cv\n",
    "from lightgbm import LGBMRegressor\n",
    "from sklearn.model_selection import cross_val_score\n",
    "from sklearn.model_selection import GridSearchCV\n",
    "from sklearn.pipeline import Pipeline\n",
    "warnings.filterwarnings('ignore')"
   ]
  },
  {
   "cell_type": "code",
   "execution_count": 2,
   "metadata": {},
   "outputs": [],
   "source": [
    "data = pd.read_csv('/datasets/autos.csv')"
   ]
  },
  {
   "cell_type": "code",
   "execution_count": 3,
   "metadata": {},
   "outputs": [
    {
     "data": {
      "text/html": [
       "<div>\n",
       "<style scoped>\n",
       "    .dataframe tbody tr th:only-of-type {\n",
       "        vertical-align: middle;\n",
       "    }\n",
       "\n",
       "    .dataframe tbody tr th {\n",
       "        vertical-align: top;\n",
       "    }\n",
       "\n",
       "    .dataframe thead th {\n",
       "        text-align: right;\n",
       "    }\n",
       "</style>\n",
       "<table border=\"1\" class=\"dataframe\">\n",
       "  <thead>\n",
       "    <tr style=\"text-align: right;\">\n",
       "      <th></th>\n",
       "      <th>DateCrawled</th>\n",
       "      <th>Price</th>\n",
       "      <th>VehicleType</th>\n",
       "      <th>RegistrationYear</th>\n",
       "      <th>Gearbox</th>\n",
       "      <th>Power</th>\n",
       "      <th>Model</th>\n",
       "      <th>Kilometer</th>\n",
       "      <th>RegistrationMonth</th>\n",
       "      <th>FuelType</th>\n",
       "      <th>Brand</th>\n",
       "      <th>NotRepaired</th>\n",
       "      <th>DateCreated</th>\n",
       "      <th>NumberOfPictures</th>\n",
       "      <th>PostalCode</th>\n",
       "      <th>LastSeen</th>\n",
       "    </tr>\n",
       "  </thead>\n",
       "  <tbody>\n",
       "    <tr>\n",
       "      <th>0</th>\n",
       "      <td>2016-03-24 11:52:17</td>\n",
       "      <td>480</td>\n",
       "      <td>NaN</td>\n",
       "      <td>1993</td>\n",
       "      <td>manual</td>\n",
       "      <td>0</td>\n",
       "      <td>golf</td>\n",
       "      <td>150000</td>\n",
       "      <td>0</td>\n",
       "      <td>petrol</td>\n",
       "      <td>volkswagen</td>\n",
       "      <td>NaN</td>\n",
       "      <td>2016-03-24 00:00:00</td>\n",
       "      <td>0</td>\n",
       "      <td>70435</td>\n",
       "      <td>2016-04-07 03:16:57</td>\n",
       "    </tr>\n",
       "    <tr>\n",
       "      <th>1</th>\n",
       "      <td>2016-03-24 10:58:45</td>\n",
       "      <td>18300</td>\n",
       "      <td>coupe</td>\n",
       "      <td>2011</td>\n",
       "      <td>manual</td>\n",
       "      <td>190</td>\n",
       "      <td>NaN</td>\n",
       "      <td>125000</td>\n",
       "      <td>5</td>\n",
       "      <td>gasoline</td>\n",
       "      <td>audi</td>\n",
       "      <td>yes</td>\n",
       "      <td>2016-03-24 00:00:00</td>\n",
       "      <td>0</td>\n",
       "      <td>66954</td>\n",
       "      <td>2016-04-07 01:46:50</td>\n",
       "    </tr>\n",
       "    <tr>\n",
       "      <th>2</th>\n",
       "      <td>2016-03-14 12:52:21</td>\n",
       "      <td>9800</td>\n",
       "      <td>suv</td>\n",
       "      <td>2004</td>\n",
       "      <td>auto</td>\n",
       "      <td>163</td>\n",
       "      <td>grand</td>\n",
       "      <td>125000</td>\n",
       "      <td>8</td>\n",
       "      <td>gasoline</td>\n",
       "      <td>jeep</td>\n",
       "      <td>NaN</td>\n",
       "      <td>2016-03-14 00:00:00</td>\n",
       "      <td>0</td>\n",
       "      <td>90480</td>\n",
       "      <td>2016-04-05 12:47:46</td>\n",
       "    </tr>\n",
       "    <tr>\n",
       "      <th>3</th>\n",
       "      <td>2016-03-17 16:54:04</td>\n",
       "      <td>1500</td>\n",
       "      <td>small</td>\n",
       "      <td>2001</td>\n",
       "      <td>manual</td>\n",
       "      <td>75</td>\n",
       "      <td>golf</td>\n",
       "      <td>150000</td>\n",
       "      <td>6</td>\n",
       "      <td>petrol</td>\n",
       "      <td>volkswagen</td>\n",
       "      <td>no</td>\n",
       "      <td>2016-03-17 00:00:00</td>\n",
       "      <td>0</td>\n",
       "      <td>91074</td>\n",
       "      <td>2016-03-17 17:40:17</td>\n",
       "    </tr>\n",
       "    <tr>\n",
       "      <th>4</th>\n",
       "      <td>2016-03-31 17:25:20</td>\n",
       "      <td>3600</td>\n",
       "      <td>small</td>\n",
       "      <td>2008</td>\n",
       "      <td>manual</td>\n",
       "      <td>69</td>\n",
       "      <td>fabia</td>\n",
       "      <td>90000</td>\n",
       "      <td>7</td>\n",
       "      <td>gasoline</td>\n",
       "      <td>skoda</td>\n",
       "      <td>no</td>\n",
       "      <td>2016-03-31 00:00:00</td>\n",
       "      <td>0</td>\n",
       "      <td>60437</td>\n",
       "      <td>2016-04-06 10:17:21</td>\n",
       "    </tr>\n",
       "    <tr>\n",
       "      <th>5</th>\n",
       "      <td>2016-04-04 17:36:23</td>\n",
       "      <td>650</td>\n",
       "      <td>sedan</td>\n",
       "      <td>1995</td>\n",
       "      <td>manual</td>\n",
       "      <td>102</td>\n",
       "      <td>3er</td>\n",
       "      <td>150000</td>\n",
       "      <td>10</td>\n",
       "      <td>petrol</td>\n",
       "      <td>bmw</td>\n",
       "      <td>yes</td>\n",
       "      <td>2016-04-04 00:00:00</td>\n",
       "      <td>0</td>\n",
       "      <td>33775</td>\n",
       "      <td>2016-04-06 19:17:07</td>\n",
       "    </tr>\n",
       "    <tr>\n",
       "      <th>6</th>\n",
       "      <td>2016-04-01 20:48:51</td>\n",
       "      <td>2200</td>\n",
       "      <td>convertible</td>\n",
       "      <td>2004</td>\n",
       "      <td>manual</td>\n",
       "      <td>109</td>\n",
       "      <td>2_reihe</td>\n",
       "      <td>150000</td>\n",
       "      <td>8</td>\n",
       "      <td>petrol</td>\n",
       "      <td>peugeot</td>\n",
       "      <td>no</td>\n",
       "      <td>2016-04-01 00:00:00</td>\n",
       "      <td>0</td>\n",
       "      <td>67112</td>\n",
       "      <td>2016-04-05 18:18:39</td>\n",
       "    </tr>\n",
       "    <tr>\n",
       "      <th>7</th>\n",
       "      <td>2016-03-21 18:54:38</td>\n",
       "      <td>0</td>\n",
       "      <td>sedan</td>\n",
       "      <td>1980</td>\n",
       "      <td>manual</td>\n",
       "      <td>50</td>\n",
       "      <td>other</td>\n",
       "      <td>40000</td>\n",
       "      <td>7</td>\n",
       "      <td>petrol</td>\n",
       "      <td>volkswagen</td>\n",
       "      <td>no</td>\n",
       "      <td>2016-03-21 00:00:00</td>\n",
       "      <td>0</td>\n",
       "      <td>19348</td>\n",
       "      <td>2016-03-25 16:47:58</td>\n",
       "    </tr>\n",
       "    <tr>\n",
       "      <th>8</th>\n",
       "      <td>2016-04-04 23:42:13</td>\n",
       "      <td>14500</td>\n",
       "      <td>bus</td>\n",
       "      <td>2014</td>\n",
       "      <td>manual</td>\n",
       "      <td>125</td>\n",
       "      <td>c_max</td>\n",
       "      <td>30000</td>\n",
       "      <td>8</td>\n",
       "      <td>petrol</td>\n",
       "      <td>ford</td>\n",
       "      <td>NaN</td>\n",
       "      <td>2016-04-04 00:00:00</td>\n",
       "      <td>0</td>\n",
       "      <td>94505</td>\n",
       "      <td>2016-04-04 23:42:13</td>\n",
       "    </tr>\n",
       "    <tr>\n",
       "      <th>9</th>\n",
       "      <td>2016-03-17 10:53:50</td>\n",
       "      <td>999</td>\n",
       "      <td>small</td>\n",
       "      <td>1998</td>\n",
       "      <td>manual</td>\n",
       "      <td>101</td>\n",
       "      <td>golf</td>\n",
       "      <td>150000</td>\n",
       "      <td>0</td>\n",
       "      <td>NaN</td>\n",
       "      <td>volkswagen</td>\n",
       "      <td>NaN</td>\n",
       "      <td>2016-03-17 00:00:00</td>\n",
       "      <td>0</td>\n",
       "      <td>27472</td>\n",
       "      <td>2016-03-31 17:17:06</td>\n",
       "    </tr>\n",
       "  </tbody>\n",
       "</table>\n",
       "</div>"
      ],
      "text/plain": [
       "           DateCrawled  Price  VehicleType  RegistrationYear Gearbox  Power  \\\n",
       "0  2016-03-24 11:52:17    480          NaN              1993  manual      0   \n",
       "1  2016-03-24 10:58:45  18300        coupe              2011  manual    190   \n",
       "2  2016-03-14 12:52:21   9800          suv              2004    auto    163   \n",
       "3  2016-03-17 16:54:04   1500        small              2001  manual     75   \n",
       "4  2016-03-31 17:25:20   3600        small              2008  manual     69   \n",
       "5  2016-04-04 17:36:23    650        sedan              1995  manual    102   \n",
       "6  2016-04-01 20:48:51   2200  convertible              2004  manual    109   \n",
       "7  2016-03-21 18:54:38      0        sedan              1980  manual     50   \n",
       "8  2016-04-04 23:42:13  14500          bus              2014  manual    125   \n",
       "9  2016-03-17 10:53:50    999        small              1998  manual    101   \n",
       "\n",
       "     Model  Kilometer  RegistrationMonth  FuelType       Brand NotRepaired  \\\n",
       "0     golf     150000                  0    petrol  volkswagen         NaN   \n",
       "1      NaN     125000                  5  gasoline        audi         yes   \n",
       "2    grand     125000                  8  gasoline        jeep         NaN   \n",
       "3     golf     150000                  6    petrol  volkswagen          no   \n",
       "4    fabia      90000                  7  gasoline       skoda          no   \n",
       "5      3er     150000                 10    petrol         bmw         yes   \n",
       "6  2_reihe     150000                  8    petrol     peugeot          no   \n",
       "7    other      40000                  7    petrol  volkswagen          no   \n",
       "8    c_max      30000                  8    petrol        ford         NaN   \n",
       "9     golf     150000                  0       NaN  volkswagen         NaN   \n",
       "\n",
       "           DateCreated  NumberOfPictures  PostalCode             LastSeen  \n",
       "0  2016-03-24 00:00:00                 0       70435  2016-04-07 03:16:57  \n",
       "1  2016-03-24 00:00:00                 0       66954  2016-04-07 01:46:50  \n",
       "2  2016-03-14 00:00:00                 0       90480  2016-04-05 12:47:46  \n",
       "3  2016-03-17 00:00:00                 0       91074  2016-03-17 17:40:17  \n",
       "4  2016-03-31 00:00:00                 0       60437  2016-04-06 10:17:21  \n",
       "5  2016-04-04 00:00:00                 0       33775  2016-04-06 19:17:07  \n",
       "6  2016-04-01 00:00:00                 0       67112  2016-04-05 18:18:39  \n",
       "7  2016-03-21 00:00:00                 0       19348  2016-03-25 16:47:58  \n",
       "8  2016-04-04 00:00:00                 0       94505  2016-04-04 23:42:13  \n",
       "9  2016-03-17 00:00:00                 0       27472  2016-03-31 17:17:06  "
      ]
     },
     "execution_count": 3,
     "metadata": {},
     "output_type": "execute_result"
    }
   ],
   "source": [
    "data.head(10)"
   ]
  },
  {
   "cell_type": "code",
   "execution_count": 4,
   "metadata": {},
   "outputs": [
    {
     "name": "stdout",
     "output_type": "stream",
     "text": [
      "(354369, 16)\n",
      "<class 'pandas.core.frame.DataFrame'>\n",
      "RangeIndex: 354369 entries, 0 to 354368\n",
      "Data columns (total 16 columns):\n",
      " #   Column             Non-Null Count   Dtype \n",
      "---  ------             --------------   ----- \n",
      " 0   DateCrawled        354369 non-null  object\n",
      " 1   Price              354369 non-null  int64 \n",
      " 2   VehicleType        316879 non-null  object\n",
      " 3   RegistrationYear   354369 non-null  int64 \n",
      " 4   Gearbox            334536 non-null  object\n",
      " 5   Power              354369 non-null  int64 \n",
      " 6   Model              334664 non-null  object\n",
      " 7   Kilometer          354369 non-null  int64 \n",
      " 8   RegistrationMonth  354369 non-null  int64 \n",
      " 9   FuelType           321474 non-null  object\n",
      " 10  Brand              354369 non-null  object\n",
      " 11  NotRepaired        283215 non-null  object\n",
      " 12  DateCreated        354369 non-null  object\n",
      " 13  NumberOfPictures   354369 non-null  int64 \n",
      " 14  PostalCode         354369 non-null  int64 \n",
      " 15  LastSeen           354369 non-null  object\n",
      "dtypes: int64(7), object(9)\n",
      "memory usage: 43.3+ MB\n"
     ]
    }
   ],
   "source": [
    "print(data.shape)\n",
    "data.info()"
   ]
  },
  {
   "cell_type": "code",
   "execution_count": 5,
   "metadata": {},
   "outputs": [
    {
     "data": {
      "text/html": [
       "<div>\n",
       "<style scoped>\n",
       "    .dataframe tbody tr th:only-of-type {\n",
       "        vertical-align: middle;\n",
       "    }\n",
       "\n",
       "    .dataframe tbody tr th {\n",
       "        vertical-align: top;\n",
       "    }\n",
       "\n",
       "    .dataframe thead th {\n",
       "        text-align: right;\n",
       "    }\n",
       "</style>\n",
       "<table border=\"1\" class=\"dataframe\">\n",
       "  <thead>\n",
       "    <tr style=\"text-align: right;\">\n",
       "      <th></th>\n",
       "      <th>Price</th>\n",
       "      <th>RegistrationYear</th>\n",
       "      <th>Power</th>\n",
       "      <th>Kilometer</th>\n",
       "      <th>RegistrationMonth</th>\n",
       "      <th>NumberOfPictures</th>\n",
       "      <th>PostalCode</th>\n",
       "    </tr>\n",
       "  </thead>\n",
       "  <tbody>\n",
       "    <tr>\n",
       "      <th>count</th>\n",
       "      <td>354369.000000</td>\n",
       "      <td>354369.000000</td>\n",
       "      <td>354369.000000</td>\n",
       "      <td>354369.000000</td>\n",
       "      <td>354369.000000</td>\n",
       "      <td>354369.0</td>\n",
       "      <td>354369.000000</td>\n",
       "    </tr>\n",
       "    <tr>\n",
       "      <th>mean</th>\n",
       "      <td>4416.656776</td>\n",
       "      <td>2004.234448</td>\n",
       "      <td>110.094337</td>\n",
       "      <td>128211.172535</td>\n",
       "      <td>5.714645</td>\n",
       "      <td>0.0</td>\n",
       "      <td>50508.689087</td>\n",
       "    </tr>\n",
       "    <tr>\n",
       "      <th>std</th>\n",
       "      <td>4514.158514</td>\n",
       "      <td>90.227958</td>\n",
       "      <td>189.850405</td>\n",
       "      <td>37905.341530</td>\n",
       "      <td>3.726421</td>\n",
       "      <td>0.0</td>\n",
       "      <td>25783.096248</td>\n",
       "    </tr>\n",
       "    <tr>\n",
       "      <th>min</th>\n",
       "      <td>0.000000</td>\n",
       "      <td>1000.000000</td>\n",
       "      <td>0.000000</td>\n",
       "      <td>5000.000000</td>\n",
       "      <td>0.000000</td>\n",
       "      <td>0.0</td>\n",
       "      <td>1067.000000</td>\n",
       "    </tr>\n",
       "    <tr>\n",
       "      <th>25%</th>\n",
       "      <td>1050.000000</td>\n",
       "      <td>1999.000000</td>\n",
       "      <td>69.000000</td>\n",
       "      <td>125000.000000</td>\n",
       "      <td>3.000000</td>\n",
       "      <td>0.0</td>\n",
       "      <td>30165.000000</td>\n",
       "    </tr>\n",
       "    <tr>\n",
       "      <th>50%</th>\n",
       "      <td>2700.000000</td>\n",
       "      <td>2003.000000</td>\n",
       "      <td>105.000000</td>\n",
       "      <td>150000.000000</td>\n",
       "      <td>6.000000</td>\n",
       "      <td>0.0</td>\n",
       "      <td>49413.000000</td>\n",
       "    </tr>\n",
       "    <tr>\n",
       "      <th>75%</th>\n",
       "      <td>6400.000000</td>\n",
       "      <td>2008.000000</td>\n",
       "      <td>143.000000</td>\n",
       "      <td>150000.000000</td>\n",
       "      <td>9.000000</td>\n",
       "      <td>0.0</td>\n",
       "      <td>71083.000000</td>\n",
       "    </tr>\n",
       "    <tr>\n",
       "      <th>max</th>\n",
       "      <td>20000.000000</td>\n",
       "      <td>9999.000000</td>\n",
       "      <td>20000.000000</td>\n",
       "      <td>150000.000000</td>\n",
       "      <td>12.000000</td>\n",
       "      <td>0.0</td>\n",
       "      <td>99998.000000</td>\n",
       "    </tr>\n",
       "  </tbody>\n",
       "</table>\n",
       "</div>"
      ],
      "text/plain": [
       "               Price  RegistrationYear          Power      Kilometer  \\\n",
       "count  354369.000000     354369.000000  354369.000000  354369.000000   \n",
       "mean     4416.656776       2004.234448     110.094337  128211.172535   \n",
       "std      4514.158514         90.227958     189.850405   37905.341530   \n",
       "min         0.000000       1000.000000       0.000000    5000.000000   \n",
       "25%      1050.000000       1999.000000      69.000000  125000.000000   \n",
       "50%      2700.000000       2003.000000     105.000000  150000.000000   \n",
       "75%      6400.000000       2008.000000     143.000000  150000.000000   \n",
       "max     20000.000000       9999.000000   20000.000000  150000.000000   \n",
       "\n",
       "       RegistrationMonth  NumberOfPictures     PostalCode  \n",
       "count      354369.000000          354369.0  354369.000000  \n",
       "mean            5.714645               0.0   50508.689087  \n",
       "std             3.726421               0.0   25783.096248  \n",
       "min             0.000000               0.0    1067.000000  \n",
       "25%             3.000000               0.0   30165.000000  \n",
       "50%             6.000000               0.0   49413.000000  \n",
       "75%             9.000000               0.0   71083.000000  \n",
       "max            12.000000               0.0   99998.000000  "
      ]
     },
     "execution_count": 5,
     "metadata": {},
     "output_type": "execute_result"
    }
   ],
   "source": [
    "data.describe()"
   ]
  },
  {
   "cell_type": "markdown",
   "metadata": {},
   "source": [
    "- Фотографиями никто делиться не захотел, столбец NumberOfPictures полностью заполнен нулями\n",
    "- Часть значений в столбцах Price, Power и RegistrationMonth не указана (значение равно 0)\n",
    "- В столбце RegistrationYear имеем странный разброс значений, минимальное равно 1000, максимальное - 9999\n",
    "- Максимальное количество лошадиных сил в столбце Power равняется 20000, слишком много даже для самого мощного автомобиля в мире. Также в этом столбце есть строки со значением равным 0"
   ]
  },
  {
   "cell_type": "markdown",
   "metadata": {},
   "source": [
    "Определим значимые признаки для постороения модели:\n",
    "\n",
    "- VehicleType. Тип кузова автомобиля определяет его принадлежность к тому или определенному классу, также влияет на цену автомобиля, его эксплуатационные характеристики, перевозку грузов, проходимость\n",
    "- Gearbox. Наличие автоматической коробки передач влияет на дороговизну ее изготовления, ремонта и эксплуатации\n",
    "- Power. Мощность в лоашдиных силах (далее л.с.) напрямую влияют на цену.\n",
    "- Kilometer. Имеет обратно пропорциональную зависиммость от цены. Чем больше километров проехала машина, тем меньше ее надежность и соответсвенно цена.\n",
    "- FuelType. Тип топлива определяет конструкцию двигателя внутреннего сгорания.\n",
    "- Brand. Концерн/компания, которая создала автомобиль показывает качество и надежность автомобиля.\n",
    "- NotRepaired. Машины, которые побывали в дорожно-транспортных проишествиях означает, что машина подвергалась изменениям и ее надежность ниже.\n",
    "- RegistrationYear. Год регистрации определяет сколько уже лет машина на ходу. Чем больше возраст, тем меньше цена.\n",
    "- Model. Этот параметр также может влиять на популярность у покупателей.\n",
    "- Price. Целевой признак\n",
    "\n",
    "Остальные столбцы можем удалить"
   ]
  },
  {
   "cell_type": "code",
   "execution_count": 6,
   "metadata": {},
   "outputs": [
    {
     "name": "stdout",
     "output_type": "stream",
     "text": [
      "<class 'pandas.core.frame.DataFrame'>\n",
      "RangeIndex: 354369 entries, 0 to 354368\n",
      "Data columns (total 10 columns):\n",
      " #   Column            Non-Null Count   Dtype \n",
      "---  ------            --------------   ----- \n",
      " 0   VehicleType       316879 non-null  object\n",
      " 1   Gearbox           334536 non-null  object\n",
      " 2   Power             354369 non-null  int64 \n",
      " 3   Kilometer         354369 non-null  int64 \n",
      " 4   FuelType          321474 non-null  object\n",
      " 5   Brand             354369 non-null  object\n",
      " 6   NotRepaired       283215 non-null  object\n",
      " 7   RegistrationYear  354369 non-null  int64 \n",
      " 8   Model             334664 non-null  object\n",
      " 9   Price             354369 non-null  int64 \n",
      "dtypes: int64(4), object(6)\n",
      "memory usage: 27.0+ MB\n"
     ]
    }
   ],
   "source": [
    "autos_data = data[['VehicleType', \n",
    "                         'Gearbox', \n",
    "                         'Power',\n",
    "                         'Kilometer',\n",
    "                         'FuelType',\n",
    "                         'Brand',\n",
    "                         'NotRepaired',\n",
    "                         'RegistrationYear',\n",
    "                         'Model',\n",
    "                         'Price']]\n",
    "autos_data.info()"
   ]
  },
  {
   "cell_type": "code",
   "execution_count": 7,
   "metadata": {},
   "outputs": [
    {
     "data": {
      "text/plain": [
       "0       10772\n",
       "500      5670\n",
       "1500     5394\n",
       "1000     4649\n",
       "1200     4594\n",
       "2500     4438\n",
       "600      3819\n",
       "3500     3792\n",
       "800      3784\n",
       "2000     3431\n",
       "Name: Price, dtype: int64"
      ]
     },
     "execution_count": 7,
     "metadata": {},
     "output_type": "execute_result"
    }
   ],
   "source": [
    "autos_data['Price'].value_counts().head(10)"
   ]
  },
  {
   "cell_type": "code",
   "execution_count": 8,
   "metadata": {},
   "outputs": [
    {
     "data": {
      "image/png": "[encoded data removed]",
      "text/plain": [
       "<Figure size 864x648 with 1 Axes>"
      ]
     },
     "metadata": {
      "needs_background": "light"
     },
     "output_type": "display_data"
    }
   ],
   "source": [
    "autos_data = autos_data.query('Price > 0')\n",
    "autos_data['Price'].hist(bins=100, figsize=(12,9));"
   ]
  },
  {
   "cell_type": "markdown",
   "metadata": {},
   "source": [
    "Выделим квантили 5% и 95%, чтобы избавиться от сильного разброса цен"
   ]
  },
  {
   "cell_type": "code",
   "execution_count": 9,
   "metadata": {},
   "outputs": [
    {
     "data": {
      "text/plain": [
       "0.05      350.0\n",
       "0.95    14800.0\n",
       "Name: Price, dtype: float64"
      ]
     },
     "execution_count": 9,
     "metadata": {},
     "output_type": "execute_result"
    }
   ],
   "source": [
    "autos_data['Price'].quantile([.05, 0.95])"
   ]
  },
  {
   "cell_type": "markdown",
   "metadata": {},
   "source": [
    "350 евро это приблизительно 30 тысяч рублей - что в целом соответсвует цене подержанного автомобиля, 14800 евро ≈ 1,3 млн рублей - нормальная цена для качественного авто."
   ]
  },
  {
   "cell_type": "code",
   "execution_count": 10,
   "metadata": {},
   "outputs": [
    {
     "name": "stdout",
     "output_type": "stream",
     "text": [
      "<class 'pandas.core.frame.DataFrame'>\n",
      "Int64Index: 310896 entries, 0 to 354368\n",
      "Data columns (total 10 columns):\n",
      " #   Column            Non-Null Count   Dtype \n",
      "---  ------            --------------   ----- \n",
      " 0   VehicleType       282232 non-null  object\n",
      " 1   Gearbox           296772 non-null  object\n",
      " 2   Power             310896 non-null  int64 \n",
      " 3   Kilometer         310896 non-null  int64 \n",
      " 4   FuelType          286177 non-null  object\n",
      " 5   Brand             310896 non-null  object\n",
      " 6   NotRepaired       253438 non-null  object\n",
      " 7   RegistrationYear  310896 non-null  int64 \n",
      " 8   Model             295807 non-null  object\n",
      " 9   Price             310896 non-null  int64 \n",
      "dtypes: int64(4), object(6)\n",
      "memory usage: 26.1+ MB\n"
     ]
    }
   ],
   "source": [
    "autos_data = autos_data.query('350 <= Price <= 14800')\n",
    "autos_data.info()"
   ]
  },
  {
   "cell_type": "code",
   "execution_count": 11,
   "metadata": {},
   "outputs": [
    {
     "data": {
      "image/png": "[encoded data removed]",
      "text/plain": [
       "<Figure size 864x648 with 1 Axes>"
      ]
     },
     "metadata": {
      "needs_background": "light"
     },
     "output_type": "display_data"
    }
   ],
   "source": [
    "autos_data['RegistrationYear'].hist(bins=100, figsize=(12,9));"
   ]
  },
  {
   "cell_type": "markdown",
   "metadata": {},
   "source": [
    "Наблюдаются выбросы. Отсечем правые выбросы, узнав максимальную дату скачивания анкеты автомобиля:"
   ]
  },
  {
   "cell_type": "code",
   "execution_count": 12,
   "metadata": {},
   "outputs": [
    {
     "data": {
      "text/plain": [
       "'2016-04-07 14:36:58'"
      ]
     },
     "execution_count": 12,
     "metadata": {},
     "output_type": "execute_result"
    }
   ],
   "source": [
    "data['DateCrawled'].max()"
   ]
  },
  {
   "cell_type": "markdown",
   "metadata": {},
   "source": [
    "Даты регистрации после 2016 года некорректны и машины появились не раньше 1900 года. Отсечем ненужные года и промотрим левые выбросы."
   ]
  },
  {
   "cell_type": "code",
   "execution_count": 13,
   "metadata": {},
   "outputs": [
    {
     "data": {
      "image/png": "[encoded data removed]",
      "text/plain": [
       "<Figure size 864x648 with 1 Axes>"
      ]
     },
     "metadata": {
      "needs_background": "light"
     },
     "output_type": "display_data"
    }
   ],
   "source": [
    "autos_data = autos_data.query('1899 < RegistrationYear < 2017')\n",
    "autos_data['RegistrationYear'].hist(bins=100, figsize=(12,9));"
   ]
  },
  {
   "cell_type": "markdown",
   "metadata": {},
   "source": [
    "Исходя из распределения минимальную границу RegistrationYear можем взять равной 1980, ниже 80-х - машины будут слишком старыми. Начиная от 1980 машины будут хоть и старыми, но еще работающими и пригодными для продажи"
   ]
  },
  {
   "cell_type": "code",
   "execution_count": 14,
   "metadata": {},
   "outputs": [
    {
     "data": {
      "image/png": "[encoded data removed]",
      "text/plain": [
       "<Figure size 864x648 with 1 Axes>"
      ]
     },
     "metadata": {
      "needs_background": "light"
     },
     "output_type": "display_data"
    }
   ],
   "source": [
    "autos_data = autos_data.query('1979 < RegistrationYear < 2017')\n",
    "autos_data['RegistrationYear'].hist(bins=50, figsize=(12,9));"
   ]
  },
  {
   "cell_type": "markdown",
   "metadata": {},
   "source": [
    "Заменим пропуски в столбцах Gearbox, NotRepaired и Model:\n",
    "\n",
    "- Для всех NaN в Gearbox установим значение 'manual'\n",
    "- Для всех NaN в NotRepaired установим значение 'yes'\n",
    "- Для всех NaN в Model установим значение 'unknown'"
   ]
  },
  {
   "cell_type": "code",
   "execution_count": 15,
   "metadata": {},
   "outputs": [],
   "source": [
    "autos_data.fillna({'Gearbox':'manual', \n",
    "                           'NotRepaired':'yes',\n",
    "                           'Model':'unknown'},\n",
    "                          inplace=True)"
   ]
  },
  {
   "cell_type": "markdown",
   "metadata": {},
   "source": [
    "В столбце VehicleType так же имеются пропуски, заменим их в соотвествии с популярным типом кузова для каждого бренда:"
   ]
  },
  {
   "cell_type": "code",
   "execution_count": 16,
   "metadata": {},
   "outputs": [
    {
     "data": {
      "text/html": [
       "<div>\n",
       "<style scoped>\n",
       "    .dataframe tbody tr th:only-of-type {\n",
       "        vertical-align: middle;\n",
       "    }\n",
       "\n",
       "    .dataframe tbody tr th {\n",
       "        vertical-align: top;\n",
       "    }\n",
       "\n",
       "    .dataframe thead tr th {\n",
       "        text-align: left;\n",
       "    }\n",
       "\n",
       "    .dataframe thead tr:last-of-type th {\n",
       "        text-align: right;\n",
       "    }\n",
       "</style>\n",
       "<table border=\"1\" class=\"dataframe\">\n",
       "  <thead>\n",
       "    <tr>\n",
       "      <th></th>\n",
       "      <th colspan=\"21\" halign=\"left\">count</th>\n",
       "    </tr>\n",
       "    <tr>\n",
       "      <th></th>\n",
       "      <th colspan=\"21\" halign=\"left\">Price</th>\n",
       "    </tr>\n",
       "    <tr>\n",
       "      <th>Brand</th>\n",
       "      <th>alfa_romeo</th>\n",
       "      <th>audi</th>\n",
       "      <th>bmw</th>\n",
       "      <th>chevrolet</th>\n",
       "      <th>chrysler</th>\n",
       "      <th>citroen</th>\n",
       "      <th>dacia</th>\n",
       "      <th>daewoo</th>\n",
       "      <th>daihatsu</th>\n",
       "      <th>fiat</th>\n",
       "      <th>...</th>\n",
       "      <th>seat</th>\n",
       "      <th>skoda</th>\n",
       "      <th>smart</th>\n",
       "      <th>sonstige_autos</th>\n",
       "      <th>subaru</th>\n",
       "      <th>suzuki</th>\n",
       "      <th>toyota</th>\n",
       "      <th>trabant</th>\n",
       "      <th>volkswagen</th>\n",
       "      <th>volvo</th>\n",
       "    </tr>\n",
       "    <tr>\n",
       "      <th>VehicleType</th>\n",
       "      <th></th>\n",
       "      <th></th>\n",
       "      <th></th>\n",
       "      <th></th>\n",
       "      <th></th>\n",
       "      <th></th>\n",
       "      <th></th>\n",
       "      <th></th>\n",
       "      <th></th>\n",
       "      <th></th>\n",
       "      <th></th>\n",
       "      <th></th>\n",
       "      <th></th>\n",
       "      <th></th>\n",
       "      <th></th>\n",
       "      <th></th>\n",
       "      <th></th>\n",
       "      <th></th>\n",
       "      <th></th>\n",
       "      <th></th>\n",
       "      <th></th>\n",
       "    </tr>\n",
       "  </thead>\n",
       "  <tbody>\n",
       "    <tr>\n",
       "      <th>bus</th>\n",
       "      <td>NaN</td>\n",
       "      <td>10.0</td>\n",
       "      <td>5.0</td>\n",
       "      <td>144.0</td>\n",
       "      <td>394.0</td>\n",
       "      <td>1218.0</td>\n",
       "      <td>50.0</td>\n",
       "      <td>26.0</td>\n",
       "      <td>31.0</td>\n",
       "      <td>776.0</td>\n",
       "      <td>...</td>\n",
       "      <td>583.0</td>\n",
       "      <td>226.0</td>\n",
       "      <td>1.0</td>\n",
       "      <td>170.0</td>\n",
       "      <td>17.0</td>\n",
       "      <td>27.0</td>\n",
       "      <td>429.0</td>\n",
       "      <td>NaN</td>\n",
       "      <td>8389.0</td>\n",
       "      <td>NaN</td>\n",
       "    </tr>\n",
       "    <tr>\n",
       "      <th>convertible</th>\n",
       "      <td>149.0</td>\n",
       "      <td>1300.0</td>\n",
       "      <td>2667.0</td>\n",
       "      <td>9.0</td>\n",
       "      <td>218.0</td>\n",
       "      <td>106.0</td>\n",
       "      <td>NaN</td>\n",
       "      <td>1.0</td>\n",
       "      <td>17.0</td>\n",
       "      <td>441.0</td>\n",
       "      <td>...</td>\n",
       "      <td>NaN</td>\n",
       "      <td>2.0</td>\n",
       "      <td>1112.0</td>\n",
       "      <td>157.0</td>\n",
       "      <td>1.0</td>\n",
       "      <td>33.0</td>\n",
       "      <td>61.0</td>\n",
       "      <td>27.0</td>\n",
       "      <td>2487.0</td>\n",
       "      <td>65.0</td>\n",
       "    </tr>\n",
       "    <tr>\n",
       "      <th>coupe</th>\n",
       "      <td>211.0</td>\n",
       "      <td>1007.0</td>\n",
       "      <td>3133.0</td>\n",
       "      <td>52.0</td>\n",
       "      <td>40.0</td>\n",
       "      <td>139.0</td>\n",
       "      <td>NaN</td>\n",
       "      <td>2.0</td>\n",
       "      <td>NaN</td>\n",
       "      <td>152.0</td>\n",
       "      <td>...</td>\n",
       "      <td>70.0</td>\n",
       "      <td>3.0</td>\n",
       "      <td>334.0</td>\n",
       "      <td>88.0</td>\n",
       "      <td>4.0</td>\n",
       "      <td>6.0</td>\n",
       "      <td>197.0</td>\n",
       "      <td>2.0</td>\n",
       "      <td>1325.0</td>\n",
       "      <td>54.0</td>\n",
       "    </tr>\n",
       "    <tr>\n",
       "      <th>other</th>\n",
       "      <td>11.0</td>\n",
       "      <td>95.0</td>\n",
       "      <td>203.0</td>\n",
       "      <td>31.0</td>\n",
       "      <td>8.0</td>\n",
       "      <td>102.0</td>\n",
       "      <td>6.0</td>\n",
       "      <td>5.0</td>\n",
       "      <td>9.0</td>\n",
       "      <td>161.0</td>\n",
       "      <td>...</td>\n",
       "      <td>53.0</td>\n",
       "      <td>22.0</td>\n",
       "      <td>9.0</td>\n",
       "      <td>160.0</td>\n",
       "      <td>5.0</td>\n",
       "      <td>12.0</td>\n",
       "      <td>16.0</td>\n",
       "      <td>4.0</td>\n",
       "      <td>645.0</td>\n",
       "      <td>2.0</td>\n",
       "    </tr>\n",
       "    <tr>\n",
       "      <th>sedan</th>\n",
       "      <td>837.0</td>\n",
       "      <td>9737.0</td>\n",
       "      <td>15718.0</td>\n",
       "      <td>205.0</td>\n",
       "      <td>246.0</td>\n",
       "      <td>619.0</td>\n",
       "      <td>100.0</td>\n",
       "      <td>87.0</td>\n",
       "      <td>41.0</td>\n",
       "      <td>802.0</td>\n",
       "      <td>...</td>\n",
       "      <td>1553.0</td>\n",
       "      <td>854.0</td>\n",
       "      <td>27.0</td>\n",
       "      <td>278.0</td>\n",
       "      <td>141.0</td>\n",
       "      <td>163.0</td>\n",
       "      <td>859.0</td>\n",
       "      <td>134.0</td>\n",
       "      <td>17860.0</td>\n",
       "      <td>562.0</td>\n",
       "    </tr>\n",
       "    <tr>\n",
       "      <th>small</th>\n",
       "      <td>221.0</td>\n",
       "      <td>1301.0</td>\n",
       "      <td>380.0</td>\n",
       "      <td>578.0</td>\n",
       "      <td>12.0</td>\n",
       "      <td>1460.0</td>\n",
       "      <td>221.0</td>\n",
       "      <td>247.0</td>\n",
       "      <td>442.0</td>\n",
       "      <td>4661.0</td>\n",
       "      <td>...</td>\n",
       "      <td>2893.0</td>\n",
       "      <td>1078.0</td>\n",
       "      <td>3210.0</td>\n",
       "      <td>184.0</td>\n",
       "      <td>99.0</td>\n",
       "      <td>893.0</td>\n",
       "      <td>1563.0</td>\n",
       "      <td>38.0</td>\n",
       "      <td>16423.0</td>\n",
       "      <td>6.0</td>\n",
       "    </tr>\n",
       "    <tr>\n",
       "      <th>suv</th>\n",
       "      <td>NaN</td>\n",
       "      <td>101.0</td>\n",
       "      <td>620.0</td>\n",
       "      <td>301.0</td>\n",
       "      <td>18.0</td>\n",
       "      <td>29.0</td>\n",
       "      <td>199.0</td>\n",
       "      <td>1.0</td>\n",
       "      <td>46.0</td>\n",
       "      <td>24.0</td>\n",
       "      <td>...</td>\n",
       "      <td>3.0</td>\n",
       "      <td>119.0</td>\n",
       "      <td>NaN</td>\n",
       "      <td>305.0</td>\n",
       "      <td>55.0</td>\n",
       "      <td>721.0</td>\n",
       "      <td>389.0</td>\n",
       "      <td>1.0</td>\n",
       "      <td>875.0</td>\n",
       "      <td>152.0</td>\n",
       "    </tr>\n",
       "    <tr>\n",
       "      <th>wagon</th>\n",
       "      <td>433.0</td>\n",
       "      <td>9710.0</td>\n",
       "      <td>7083.0</td>\n",
       "      <td>102.0</td>\n",
       "      <td>229.0</td>\n",
       "      <td>565.0</td>\n",
       "      <td>250.0</td>\n",
       "      <td>36.0</td>\n",
       "      <td>16.0</td>\n",
       "      <td>382.0</td>\n",
       "      <td>...</td>\n",
       "      <td>343.0</td>\n",
       "      <td>2454.0</td>\n",
       "      <td>9.0</td>\n",
       "      <td>106.0</td>\n",
       "      <td>266.0</td>\n",
       "      <td>84.0</td>\n",
       "      <td>530.0</td>\n",
       "      <td>54.0</td>\n",
       "      <td>11693.0</td>\n",
       "      <td>1813.0</td>\n",
       "    </tr>\n",
       "  </tbody>\n",
       "</table>\n",
       "<p>8 rows × 40 columns</p>\n",
       "</div>"
      ],
      "text/plain": [
       "                 count                                                     \\\n",
       "                 Price                                                      \n",
       "Brand       alfa_romeo    audi      bmw chevrolet chrysler citroen  dacia   \n",
       "VehicleType                                                                 \n",
       "bus                NaN    10.0      5.0     144.0    394.0  1218.0   50.0   \n",
       "convertible      149.0  1300.0   2667.0       9.0    218.0   106.0    NaN   \n",
       "coupe            211.0  1007.0   3133.0      52.0     40.0   139.0    NaN   \n",
       "other             11.0    95.0    203.0      31.0      8.0   102.0    6.0   \n",
       "sedan            837.0  9737.0  15718.0     205.0    246.0   619.0  100.0   \n",
       "small            221.0  1301.0    380.0     578.0     12.0  1460.0  221.0   \n",
       "suv                NaN   101.0    620.0     301.0     18.0    29.0  199.0   \n",
       "wagon            433.0  9710.0   7083.0     102.0    229.0   565.0  250.0   \n",
       "\n",
       "                                     ...                          \\\n",
       "                                     ...                           \n",
       "Brand       daewoo daihatsu    fiat  ...    seat   skoda   smart   \n",
       "VehicleType                          ...                           \n",
       "bus           26.0     31.0   776.0  ...   583.0   226.0     1.0   \n",
       "convertible    1.0     17.0   441.0  ...     NaN     2.0  1112.0   \n",
       "coupe          2.0      NaN   152.0  ...    70.0     3.0   334.0   \n",
       "other          5.0      9.0   161.0  ...    53.0    22.0     9.0   \n",
       "sedan         87.0     41.0   802.0  ...  1553.0   854.0    27.0   \n",
       "small        247.0    442.0  4661.0  ...  2893.0  1078.0  3210.0   \n",
       "suv            1.0     46.0    24.0  ...     3.0   119.0     NaN   \n",
       "wagon         36.0     16.0   382.0  ...   343.0  2454.0     9.0   \n",
       "\n",
       "                                                                             \n",
       "                                                                             \n",
       "Brand       sonstige_autos subaru suzuki  toyota trabant volkswagen   volvo  \n",
       "VehicleType                                                                  \n",
       "bus                  170.0   17.0   27.0   429.0     NaN     8389.0     NaN  \n",
       "convertible          157.0    1.0   33.0    61.0    27.0     2487.0    65.0  \n",
       "coupe                 88.0    4.0    6.0   197.0     2.0     1325.0    54.0  \n",
       "other                160.0    5.0   12.0    16.0     4.0      645.0     2.0  \n",
       "sedan                278.0  141.0  163.0   859.0   134.0    17860.0   562.0  \n",
       "small                184.0   99.0  893.0  1563.0    38.0    16423.0     6.0  \n",
       "suv                  305.0   55.0  721.0   389.0     1.0      875.0   152.0  \n",
       "wagon                106.0  266.0   84.0   530.0    54.0    11693.0  1813.0  \n",
       "\n",
       "[8 rows x 40 columns]"
      ]
     },
     "metadata": {},
     "output_type": "display_data"
    },
    {
     "data": {
      "text/plain": [
       "sedan          837\n",
       "wagon          433\n",
       "small          221\n",
       "coupe          211\n",
       "convertible    149\n",
       "other           11\n",
       "Name: VehicleType, dtype: int64"
      ]
     },
     "execution_count": 16,
     "metadata": {},
     "output_type": "execute_result"
    }
   ],
   "source": [
    "\n",
    "vehicle_type_pivot_table = autos_data.pivot_table(index=['VehicleType'], \n",
    "                                                        columns=['Brand'],\n",
    "                                                        values=['Price'],\n",
    "                                                        aggfunc=['count'])\n",
    "display(vehicle_type_pivot_table)\n",
    "autos_data[autos_data['Brand'] == 'alfa_romeo']['VehicleType'].value_counts()"
   ]
  },
  {
   "cell_type": "code",
   "execution_count": 17,
   "metadata": {},
   "outputs": [
    {
     "data": {
      "text/html": [
       "<div>\n",
       "<style scoped>\n",
       "    .dataframe tbody tr th:only-of-type {\n",
       "        vertical-align: middle;\n",
       "    }\n",
       "\n",
       "    .dataframe tbody tr th {\n",
       "        vertical-align: top;\n",
       "    }\n",
       "\n",
       "    .dataframe thead th {\n",
       "        text-align: right;\n",
       "    }\n",
       "</style>\n",
       "<table border=\"1\" class=\"dataframe\">\n",
       "  <thead>\n",
       "    <tr style=\"text-align: right;\">\n",
       "      <th>Brand</th>\n",
       "      <th>alfa_romeo</th>\n",
       "      <th>audi</th>\n",
       "      <th>bmw</th>\n",
       "      <th>chevrolet</th>\n",
       "      <th>chrysler</th>\n",
       "      <th>citroen</th>\n",
       "      <th>dacia</th>\n",
       "      <th>daewoo</th>\n",
       "      <th>daihatsu</th>\n",
       "      <th>fiat</th>\n",
       "      <th>...</th>\n",
       "      <th>seat</th>\n",
       "      <th>skoda</th>\n",
       "      <th>smart</th>\n",
       "      <th>sonstige_autos</th>\n",
       "      <th>subaru</th>\n",
       "      <th>suzuki</th>\n",
       "      <th>toyota</th>\n",
       "      <th>trabant</th>\n",
       "      <th>volkswagen</th>\n",
       "      <th>volvo</th>\n",
       "    </tr>\n",
       "    <tr>\n",
       "      <th>VehicleType</th>\n",
       "      <th></th>\n",
       "      <th></th>\n",
       "      <th></th>\n",
       "      <th></th>\n",
       "      <th></th>\n",
       "      <th></th>\n",
       "      <th></th>\n",
       "      <th></th>\n",
       "      <th></th>\n",
       "      <th></th>\n",
       "      <th></th>\n",
       "      <th></th>\n",
       "      <th></th>\n",
       "      <th></th>\n",
       "      <th></th>\n",
       "      <th></th>\n",
       "      <th></th>\n",
       "      <th></th>\n",
       "      <th></th>\n",
       "      <th></th>\n",
       "      <th></th>\n",
       "    </tr>\n",
       "  </thead>\n",
       "  <tbody>\n",
       "    <tr>\n",
       "      <th>bus</th>\n",
       "      <td>NaN</td>\n",
       "      <td>10.0</td>\n",
       "      <td>5.0</td>\n",
       "      <td>144.0</td>\n",
       "      <td>394.0</td>\n",
       "      <td>1218.0</td>\n",
       "      <td>50.0</td>\n",
       "      <td>26.0</td>\n",
       "      <td>31.0</td>\n",
       "      <td>776.0</td>\n",
       "      <td>...</td>\n",
       "      <td>583.0</td>\n",
       "      <td>226.0</td>\n",
       "      <td>1.0</td>\n",
       "      <td>170.0</td>\n",
       "      <td>17.0</td>\n",
       "      <td>27.0</td>\n",
       "      <td>429.0</td>\n",
       "      <td>NaN</td>\n",
       "      <td>8389.0</td>\n",
       "      <td>NaN</td>\n",
       "    </tr>\n",
       "    <tr>\n",
       "      <th>convertible</th>\n",
       "      <td>149.0</td>\n",
       "      <td>1300.0</td>\n",
       "      <td>2667.0</td>\n",
       "      <td>9.0</td>\n",
       "      <td>218.0</td>\n",
       "      <td>106.0</td>\n",
       "      <td>NaN</td>\n",
       "      <td>1.0</td>\n",
       "      <td>17.0</td>\n",
       "      <td>441.0</td>\n",
       "      <td>...</td>\n",
       "      <td>NaN</td>\n",
       "      <td>2.0</td>\n",
       "      <td>1112.0</td>\n",
       "      <td>157.0</td>\n",
       "      <td>1.0</td>\n",
       "      <td>33.0</td>\n",
       "      <td>61.0</td>\n",
       "      <td>27.0</td>\n",
       "      <td>2487.0</td>\n",
       "      <td>65.0</td>\n",
       "    </tr>\n",
       "    <tr>\n",
       "      <th>coupe</th>\n",
       "      <td>211.0</td>\n",
       "      <td>1007.0</td>\n",
       "      <td>3133.0</td>\n",
       "      <td>52.0</td>\n",
       "      <td>40.0</td>\n",
       "      <td>139.0</td>\n",
       "      <td>NaN</td>\n",
       "      <td>2.0</td>\n",
       "      <td>NaN</td>\n",
       "      <td>152.0</td>\n",
       "      <td>...</td>\n",
       "      <td>70.0</td>\n",
       "      <td>3.0</td>\n",
       "      <td>334.0</td>\n",
       "      <td>88.0</td>\n",
       "      <td>4.0</td>\n",
       "      <td>6.0</td>\n",
       "      <td>197.0</td>\n",
       "      <td>2.0</td>\n",
       "      <td>1325.0</td>\n",
       "      <td>54.0</td>\n",
       "    </tr>\n",
       "    <tr>\n",
       "      <th>other</th>\n",
       "      <td>11.0</td>\n",
       "      <td>95.0</td>\n",
       "      <td>203.0</td>\n",
       "      <td>31.0</td>\n",
       "      <td>8.0</td>\n",
       "      <td>102.0</td>\n",
       "      <td>6.0</td>\n",
       "      <td>5.0</td>\n",
       "      <td>9.0</td>\n",
       "      <td>161.0</td>\n",
       "      <td>...</td>\n",
       "      <td>53.0</td>\n",
       "      <td>22.0</td>\n",
       "      <td>9.0</td>\n",
       "      <td>160.0</td>\n",
       "      <td>5.0</td>\n",
       "      <td>12.0</td>\n",
       "      <td>16.0</td>\n",
       "      <td>4.0</td>\n",
       "      <td>645.0</td>\n",
       "      <td>2.0</td>\n",
       "    </tr>\n",
       "    <tr>\n",
       "      <th>sedan</th>\n",
       "      <td>837.0</td>\n",
       "      <td>9737.0</td>\n",
       "      <td>15718.0</td>\n",
       "      <td>205.0</td>\n",
       "      <td>246.0</td>\n",
       "      <td>619.0</td>\n",
       "      <td>100.0</td>\n",
       "      <td>87.0</td>\n",
       "      <td>41.0</td>\n",
       "      <td>802.0</td>\n",
       "      <td>...</td>\n",
       "      <td>1553.0</td>\n",
       "      <td>854.0</td>\n",
       "      <td>27.0</td>\n",
       "      <td>278.0</td>\n",
       "      <td>141.0</td>\n",
       "      <td>163.0</td>\n",
       "      <td>859.0</td>\n",
       "      <td>134.0</td>\n",
       "      <td>17860.0</td>\n",
       "      <td>562.0</td>\n",
       "    </tr>\n",
       "    <tr>\n",
       "      <th>small</th>\n",
       "      <td>221.0</td>\n",
       "      <td>1301.0</td>\n",
       "      <td>380.0</td>\n",
       "      <td>578.0</td>\n",
       "      <td>12.0</td>\n",
       "      <td>1460.0</td>\n",
       "      <td>221.0</td>\n",
       "      <td>247.0</td>\n",
       "      <td>442.0</td>\n",
       "      <td>4661.0</td>\n",
       "      <td>...</td>\n",
       "      <td>2893.0</td>\n",
       "      <td>1078.0</td>\n",
       "      <td>3210.0</td>\n",
       "      <td>184.0</td>\n",
       "      <td>99.0</td>\n",
       "      <td>893.0</td>\n",
       "      <td>1563.0</td>\n",
       "      <td>38.0</td>\n",
       "      <td>16423.0</td>\n",
       "      <td>6.0</td>\n",
       "    </tr>\n",
       "    <tr>\n",
       "      <th>suv</th>\n",
       "      <td>NaN</td>\n",
       "      <td>101.0</td>\n",
       "      <td>620.0</td>\n",
       "      <td>301.0</td>\n",
       "      <td>18.0</td>\n",
       "      <td>29.0</td>\n",
       "      <td>199.0</td>\n",
       "      <td>1.0</td>\n",
       "      <td>46.0</td>\n",
       "      <td>24.0</td>\n",
       "      <td>...</td>\n",
       "      <td>3.0</td>\n",
       "      <td>119.0</td>\n",
       "      <td>NaN</td>\n",
       "      <td>305.0</td>\n",
       "      <td>55.0</td>\n",
       "      <td>721.0</td>\n",
       "      <td>389.0</td>\n",
       "      <td>1.0</td>\n",
       "      <td>875.0</td>\n",
       "      <td>152.0</td>\n",
       "    </tr>\n",
       "    <tr>\n",
       "      <th>wagon</th>\n",
       "      <td>433.0</td>\n",
       "      <td>9710.0</td>\n",
       "      <td>7083.0</td>\n",
       "      <td>102.0</td>\n",
       "      <td>229.0</td>\n",
       "      <td>565.0</td>\n",
       "      <td>250.0</td>\n",
       "      <td>36.0</td>\n",
       "      <td>16.0</td>\n",
       "      <td>382.0</td>\n",
       "      <td>...</td>\n",
       "      <td>343.0</td>\n",
       "      <td>2454.0</td>\n",
       "      <td>9.0</td>\n",
       "      <td>106.0</td>\n",
       "      <td>266.0</td>\n",
       "      <td>84.0</td>\n",
       "      <td>530.0</td>\n",
       "      <td>54.0</td>\n",
       "      <td>11693.0</td>\n",
       "      <td>1813.0</td>\n",
       "    </tr>\n",
       "  </tbody>\n",
       "</table>\n",
       "<p>8 rows × 40 columns</p>\n",
       "</div>"
      ],
      "text/plain": [
       "Brand        alfa_romeo    audi      bmw  chevrolet  chrysler  citroen  dacia  \\\n",
       "VehicleType                                                                     \n",
       "bus                 NaN    10.0      5.0      144.0     394.0   1218.0   50.0   \n",
       "convertible       149.0  1300.0   2667.0        9.0     218.0    106.0    NaN   \n",
       "coupe             211.0  1007.0   3133.0       52.0      40.0    139.0    NaN   \n",
       "other              11.0    95.0    203.0       31.0       8.0    102.0    6.0   \n",
       "sedan             837.0  9737.0  15718.0      205.0     246.0    619.0  100.0   \n",
       "small             221.0  1301.0    380.0      578.0      12.0   1460.0  221.0   \n",
       "suv                 NaN   101.0    620.0      301.0      18.0     29.0  199.0   \n",
       "wagon             433.0  9710.0   7083.0      102.0     229.0    565.0  250.0   \n",
       "\n",
       "Brand        daewoo  daihatsu    fiat  ...    seat   skoda   smart  \\\n",
       "VehicleType                            ...                           \n",
       "bus            26.0      31.0   776.0  ...   583.0   226.0     1.0   \n",
       "convertible     1.0      17.0   441.0  ...     NaN     2.0  1112.0   \n",
       "coupe           2.0       NaN   152.0  ...    70.0     3.0   334.0   \n",
       "other           5.0       9.0   161.0  ...    53.0    22.0     9.0   \n",
       "sedan          87.0      41.0   802.0  ...  1553.0   854.0    27.0   \n",
       "small         247.0     442.0  4661.0  ...  2893.0  1078.0  3210.0   \n",
       "suv             1.0      46.0    24.0  ...     3.0   119.0     NaN   \n",
       "wagon          36.0      16.0   382.0  ...   343.0  2454.0     9.0   \n",
       "\n",
       "Brand        sonstige_autos  subaru  suzuki  toyota  trabant  volkswagen  \\\n",
       "VehicleType                                                                \n",
       "bus                   170.0    17.0    27.0   429.0      NaN      8389.0   \n",
       "convertible           157.0     1.0    33.0    61.0     27.0      2487.0   \n",
       "coupe                  88.0     4.0     6.0   197.0      2.0      1325.0   \n",
       "other                 160.0     5.0    12.0    16.0      4.0       645.0   \n",
       "sedan                 278.0   141.0   163.0   859.0    134.0     17860.0   \n",
       "small                 184.0    99.0   893.0  1563.0     38.0     16423.0   \n",
       "suv                   305.0    55.0   721.0   389.0      1.0       875.0   \n",
       "wagon                 106.0   266.0    84.0   530.0     54.0     11693.0   \n",
       "\n",
       "Brand         volvo  \n",
       "VehicleType          \n",
       "bus             NaN  \n",
       "convertible    65.0  \n",
       "coupe          54.0  \n",
       "other           2.0  \n",
       "sedan         562.0  \n",
       "small           6.0  \n",
       "suv           152.0  \n",
       "wagon        1813.0  \n",
       "\n",
       "[8 rows x 40 columns]"
      ]
     },
     "execution_count": 17,
     "metadata": {},
     "output_type": "execute_result"
    }
   ],
   "source": [
    "vehicle_type_pivot_table = vehicle_type_pivot_table['count']['Price']\n",
    "vehicle_type_pivot_table"
   ]
  },
  {
   "cell_type": "markdown",
   "metadata": {},
   "source": [
    "Заполним словарь брендов и популярных типов машин и заполним пропуски по столбцу VehicleType"
   ]
  },
  {
   "cell_type": "code",
   "execution_count": 18,
   "metadata": {},
   "outputs": [
    {
     "data": {
      "text/plain": [
       "0"
      ]
     },
     "metadata": {},
     "output_type": "display_data"
    },
    {
     "data": {
      "text/plain": [
       "sedan          89842\n",
       "small          77474\n",
       "wagon          58964\n",
       "bus            26444\n",
       "convertible    17247\n",
       "coupe          12913\n",
       "suv             9696\n",
       "other           2663\n",
       "Name: VehicleType, dtype: int64"
      ]
     },
     "execution_count": 18,
     "metadata": {},
     "output_type": "execute_result"
    }
   ],
   "source": [
    "autos_data.fillna({'VehicleType':0},inplace=True)\n",
    "\n",
    "def fillna_by_brand(row, row_number, vehicle_type_pivot_table):\n",
    "    brand = row[5]\n",
    "    fill_value = row[row_number]\n",
    "    if row[row_number] == 0:\n",
    "        fill_value = vehicle_type_pivot_table[brand].idxmax()\n",
    "    return fill_value\n",
    "\n",
    "autos_data['VehicleType'] = autos_data.apply(\n",
    "                            fillna_by_brand, \n",
    "                            args=[0, vehicle_type_pivot_table],\n",
    "                            axis=1)\n",
    "display(autos_data['VehicleType'].isna().sum())\n",
    "autos_data['VehicleType'].value_counts()"
   ]
  },
  {
   "cell_type": "markdown",
   "metadata": {},
   "source": [
    "По похожему принципу заполним пропуски в FuelType"
   ]
  },
  {
   "cell_type": "code",
   "execution_count": 19,
   "metadata": {},
   "outputs": [
    {
     "data": {
      "text/html": [
       "<div>\n",
       "<style scoped>\n",
       "    .dataframe tbody tr th:only-of-type {\n",
       "        vertical-align: middle;\n",
       "    }\n",
       "\n",
       "    .dataframe tbody tr th {\n",
       "        vertical-align: top;\n",
       "    }\n",
       "\n",
       "    .dataframe thead th {\n",
       "        text-align: right;\n",
       "    }\n",
       "</style>\n",
       "<table border=\"1\" class=\"dataframe\">\n",
       "  <thead>\n",
       "    <tr style=\"text-align: right;\">\n",
       "      <th>Brand</th>\n",
       "      <th>alfa_romeo</th>\n",
       "      <th>audi</th>\n",
       "      <th>bmw</th>\n",
       "      <th>chevrolet</th>\n",
       "      <th>chrysler</th>\n",
       "      <th>citroen</th>\n",
       "      <th>dacia</th>\n",
       "      <th>daewoo</th>\n",
       "      <th>daihatsu</th>\n",
       "      <th>fiat</th>\n",
       "      <th>...</th>\n",
       "      <th>seat</th>\n",
       "      <th>skoda</th>\n",
       "      <th>smart</th>\n",
       "      <th>sonstige_autos</th>\n",
       "      <th>subaru</th>\n",
       "      <th>suzuki</th>\n",
       "      <th>toyota</th>\n",
       "      <th>trabant</th>\n",
       "      <th>volkswagen</th>\n",
       "      <th>volvo</th>\n",
       "    </tr>\n",
       "    <tr>\n",
       "      <th>FuelType</th>\n",
       "      <th></th>\n",
       "      <th></th>\n",
       "      <th></th>\n",
       "      <th></th>\n",
       "      <th></th>\n",
       "      <th></th>\n",
       "      <th></th>\n",
       "      <th></th>\n",
       "      <th></th>\n",
       "      <th></th>\n",
       "      <th></th>\n",
       "      <th></th>\n",
       "      <th></th>\n",
       "      <th></th>\n",
       "      <th></th>\n",
       "      <th></th>\n",
       "      <th></th>\n",
       "      <th></th>\n",
       "      <th></th>\n",
       "      <th></th>\n",
       "      <th></th>\n",
       "    </tr>\n",
       "  </thead>\n",
       "  <tbody>\n",
       "    <tr>\n",
       "      <th>cng</th>\n",
       "      <td>NaN</td>\n",
       "      <td>1.0</td>\n",
       "      <td>7.0</td>\n",
       "      <td>4.0</td>\n",
       "      <td>NaN</td>\n",
       "      <td>7.0</td>\n",
       "      <td>2.0</td>\n",
       "      <td>NaN</td>\n",
       "      <td>NaN</td>\n",
       "      <td>65.0</td>\n",
       "      <td>...</td>\n",
       "      <td>2.0</td>\n",
       "      <td>6.0</td>\n",
       "      <td>2.0</td>\n",
       "      <td>7.0</td>\n",
       "      <td>2.0</td>\n",
       "      <td>NaN</td>\n",
       "      <td>NaN</td>\n",
       "      <td>NaN</td>\n",
       "      <td>172.0</td>\n",
       "      <td>20.0</td>\n",
       "    </tr>\n",
       "    <tr>\n",
       "      <th>electric</th>\n",
       "      <td>NaN</td>\n",
       "      <td>2.0</td>\n",
       "      <td>3.0</td>\n",
       "      <td>NaN</td>\n",
       "      <td>NaN</td>\n",
       "      <td>1.0</td>\n",
       "      <td>NaN</td>\n",
       "      <td>NaN</td>\n",
       "      <td>1.0</td>\n",
       "      <td>4.0</td>\n",
       "      <td>...</td>\n",
       "      <td>NaN</td>\n",
       "      <td>NaN</td>\n",
       "      <td>3.0</td>\n",
       "      <td>21.0</td>\n",
       "      <td>NaN</td>\n",
       "      <td>NaN</td>\n",
       "      <td>NaN</td>\n",
       "      <td>NaN</td>\n",
       "      <td>1.0</td>\n",
       "      <td>NaN</td>\n",
       "    </tr>\n",
       "    <tr>\n",
       "      <th>gasoline</th>\n",
       "      <td>564.0</td>\n",
       "      <td>10430.0</td>\n",
       "      <td>9891.0</td>\n",
       "      <td>198.0</td>\n",
       "      <td>353.0</td>\n",
       "      <td>1471.0</td>\n",
       "      <td>197.0</td>\n",
       "      <td>1.0</td>\n",
       "      <td>4.0</td>\n",
       "      <td>1356.0</td>\n",
       "      <td>...</td>\n",
       "      <td>1518.0</td>\n",
       "      <td>1681.0</td>\n",
       "      <td>841.0</td>\n",
       "      <td>398.0</td>\n",
       "      <td>31.0</td>\n",
       "      <td>211.0</td>\n",
       "      <td>901.0</td>\n",
       "      <td>1.0</td>\n",
       "      <td>22372.0</td>\n",
       "      <td>892.0</td>\n",
       "    </tr>\n",
       "    <tr>\n",
       "      <th>hybrid</th>\n",
       "      <td>NaN</td>\n",
       "      <td>NaN</td>\n",
       "      <td>NaN</td>\n",
       "      <td>NaN</td>\n",
       "      <td>NaN</td>\n",
       "      <td>NaN</td>\n",
       "      <td>NaN</td>\n",
       "      <td>NaN</td>\n",
       "      <td>NaN</td>\n",
       "      <td>3.0</td>\n",
       "      <td>...</td>\n",
       "      <td>1.0</td>\n",
       "      <td>NaN</td>\n",
       "      <td>1.0</td>\n",
       "      <td>11.0</td>\n",
       "      <td>NaN</td>\n",
       "      <td>NaN</td>\n",
       "      <td>89.0</td>\n",
       "      <td>NaN</td>\n",
       "      <td>5.0</td>\n",
       "      <td>NaN</td>\n",
       "    </tr>\n",
       "    <tr>\n",
       "      <th>lpg</th>\n",
       "      <td>31.0</td>\n",
       "      <td>433.0</td>\n",
       "      <td>716.0</td>\n",
       "      <td>169.0</td>\n",
       "      <td>92.0</td>\n",
       "      <td>63.0</td>\n",
       "      <td>50.0</td>\n",
       "      <td>23.0</td>\n",
       "      <td>5.0</td>\n",
       "      <td>63.0</td>\n",
       "      <td>...</td>\n",
       "      <td>60.0</td>\n",
       "      <td>51.0</td>\n",
       "      <td>3.0</td>\n",
       "      <td>92.0</td>\n",
       "      <td>29.0</td>\n",
       "      <td>22.0</td>\n",
       "      <td>23.0</td>\n",
       "      <td>NaN</td>\n",
       "      <td>501.0</td>\n",
       "      <td>102.0</td>\n",
       "    </tr>\n",
       "    <tr>\n",
       "      <th>other</th>\n",
       "      <td>NaN</td>\n",
       "      <td>1.0</td>\n",
       "      <td>5.0</td>\n",
       "      <td>NaN</td>\n",
       "      <td>NaN</td>\n",
       "      <td>2.0</td>\n",
       "      <td>NaN</td>\n",
       "      <td>1.0</td>\n",
       "      <td>NaN</td>\n",
       "      <td>2.0</td>\n",
       "      <td>...</td>\n",
       "      <td>NaN</td>\n",
       "      <td>NaN</td>\n",
       "      <td>1.0</td>\n",
       "      <td>10.0</td>\n",
       "      <td>NaN</td>\n",
       "      <td>1.0</td>\n",
       "      <td>NaN</td>\n",
       "      <td>25.0</td>\n",
       "      <td>14.0</td>\n",
       "      <td>2.0</td>\n",
       "    </tr>\n",
       "    <tr>\n",
       "      <th>petrol</th>\n",
       "      <td>1255.0</td>\n",
       "      <td>12036.0</td>\n",
       "      <td>18516.0</td>\n",
       "      <td>1019.0</td>\n",
       "      <td>700.0</td>\n",
       "      <td>2661.0</td>\n",
       "      <td>556.0</td>\n",
       "      <td>374.0</td>\n",
       "      <td>582.0</td>\n",
       "      <td>5827.0</td>\n",
       "      <td>...</td>\n",
       "      <td>3886.0</td>\n",
       "      <td>2954.0</td>\n",
       "      <td>3819.0</td>\n",
       "      <td>855.0</td>\n",
       "      <td>508.0</td>\n",
       "      <td>1675.0</td>\n",
       "      <td>3007.0</td>\n",
       "      <td>195.0</td>\n",
       "      <td>36318.0</td>\n",
       "      <td>1581.0</td>\n",
       "    </tr>\n",
       "  </tbody>\n",
       "</table>\n",
       "<p>7 rows × 40 columns</p>\n",
       "</div>"
      ],
      "text/plain": [
       "Brand     alfa_romeo     audi      bmw  chevrolet  chrysler  citroen  dacia  \\\n",
       "FuelType                                                                      \n",
       "cng              NaN      1.0      7.0        4.0       NaN      7.0    2.0   \n",
       "electric         NaN      2.0      3.0        NaN       NaN      1.0    NaN   \n",
       "gasoline       564.0  10430.0   9891.0      198.0     353.0   1471.0  197.0   \n",
       "hybrid           NaN      NaN      NaN        NaN       NaN      NaN    NaN   \n",
       "lpg             31.0    433.0    716.0      169.0      92.0     63.0   50.0   \n",
       "other            NaN      1.0      5.0        NaN       NaN      2.0    NaN   \n",
       "petrol        1255.0  12036.0  18516.0     1019.0     700.0   2661.0  556.0   \n",
       "\n",
       "Brand     daewoo  daihatsu    fiat  ...    seat   skoda   smart  \\\n",
       "FuelType                            ...                           \n",
       "cng          NaN       NaN    65.0  ...     2.0     6.0     2.0   \n",
       "electric     NaN       1.0     4.0  ...     NaN     NaN     3.0   \n",
       "gasoline     1.0       4.0  1356.0  ...  1518.0  1681.0   841.0   \n",
       "hybrid       NaN       NaN     3.0  ...     1.0     NaN     1.0   \n",
       "lpg         23.0       5.0    63.0  ...    60.0    51.0     3.0   \n",
       "other        1.0       NaN     2.0  ...     NaN     NaN     1.0   \n",
       "petrol     374.0     582.0  5827.0  ...  3886.0  2954.0  3819.0   \n",
       "\n",
       "Brand     sonstige_autos  subaru  suzuki  toyota  trabant  volkswagen   volvo  \n",
       "FuelType                                                                       \n",
       "cng                  7.0     2.0     NaN     NaN      NaN       172.0    20.0  \n",
       "electric            21.0     NaN     NaN     NaN      NaN         1.0     NaN  \n",
       "gasoline           398.0    31.0   211.0   901.0      1.0     22372.0   892.0  \n",
       "hybrid              11.0     NaN     NaN    89.0      NaN         5.0     NaN  \n",
       "lpg                 92.0    29.0    22.0    23.0      NaN       501.0   102.0  \n",
       "other               10.0     NaN     1.0     NaN     25.0        14.0     2.0  \n",
       "petrol             855.0   508.0  1675.0  3007.0    195.0     36318.0  1581.0  \n",
       "\n",
       "[7 rows x 40 columns]"
      ]
     },
     "metadata": {},
     "output_type": "display_data"
    },
    {
     "data": {
      "text/plain": [
       "0"
      ]
     },
     "metadata": {},
     "output_type": "display_data"
    },
    {
     "data": {
      "text/plain": [
       "petrol         184965\n",
       "gasoline        85266\n",
       "sedan           10109\n",
       "small            8231\n",
       "lpg              4832\n",
       "cng               513\n",
       "wagon             436\n",
       "suv               428\n",
       "hybrid            169\n",
       "other             106\n",
       "bus                82\n",
       "electric           76\n",
       "convertible        30\n",
       "Name: FuelType, dtype: int64"
      ]
     },
     "execution_count": 19,
     "metadata": {},
     "output_type": "execute_result"
    }
   ],
   "source": [
    "autos_data['FuelType'].value_counts()\n",
    "fuel_type_pivot_table = autos_data.pivot_table(index=['FuelType'], \n",
    "                                               columns=['Brand'],\n",
    "                                               values=['Price'],\n",
    "                                               aggfunc=['count'])\n",
    "\n",
    "fuel_type_pivot_table = fuel_type_pivot_table['count']['Price']\n",
    "display(fuel_type_pivot_table)\n",
    "\n",
    "autos_data.fillna({'FuelType':0},inplace=True)\n",
    "\n",
    "autos_data['FuelType'] = autos_data.apply(fillna_by_brand, \n",
    "                                          args=[4, vehicle_type_pivot_table],\n",
    "                                          axis=1)\n",
    "\n",
    "display(autos_data['FuelType'].isna().sum())\n",
    "autos_data['FuelType'].value_counts()"
   ]
  },
  {
   "cell_type": "code",
   "execution_count": 20,
   "metadata": {},
   "outputs": [
    {
     "name": "stdout",
     "output_type": "stream",
     "text": [
      "<class 'pandas.core.frame.DataFrame'>\n",
      "Int64Index: 295243 entries, 0 to 354368\n",
      "Data columns (total 10 columns):\n",
      " #   Column            Non-Null Count   Dtype \n",
      "---  ------            --------------   ----- \n",
      " 0   VehicleType       295243 non-null  object\n",
      " 1   Gearbox           295243 non-null  object\n",
      " 2   Power             295243 non-null  int64 \n",
      " 3   Kilometer         295243 non-null  int64 \n",
      " 4   FuelType          295243 non-null  object\n",
      " 5   Brand             295243 non-null  object\n",
      " 6   NotRepaired       295243 non-null  object\n",
      " 7   RegistrationYear  295243 non-null  int64 \n",
      " 8   Model             295243 non-null  object\n",
      " 9   Price             295243 non-null  int64 \n",
      "dtypes: int64(4), object(6)\n",
      "memory usage: 24.8+ MB\n"
     ]
    }
   ],
   "source": [
    "autos_data.info()"
   ]
  },
  {
   "cell_type": "code",
   "execution_count": 21,
   "metadata": {},
   "outputs": [
    {
     "data": {
      "image/png": "[encoded data removed]",
      "text/plain": [
       "<Figure size 864x648 with 1 Axes>"
      ]
     },
     "metadata": {
      "needs_background": "light"
     },
     "output_type": "display_data"
    }
   ],
   "source": [
    "autos_data['Power'].hist(bins=100, figsize=(12,9));"
   ]
  },
  {
   "cell_type": "markdown",
   "metadata": {},
   "source": [
    "Раброс очень сильный, исключим выбросы больше 1000 л.с."
   ]
  },
  {
   "cell_type": "code",
   "execution_count": 22,
   "metadata": {},
   "outputs": [
    {
     "data": {
      "image/png": "[encoded data removed]",
      "text/plain": [
       "<Figure size 864x648 with 1 Axes>"
      ]
     },
     "metadata": {
      "needs_background": "light"
     },
     "output_type": "display_data"
    }
   ],
   "source": [
    "autos_data = autos_data.query('Power < 1001')\n",
    "autos_data['Power'].hist(bins=100, figsize=(12,9));"
   ]
  },
  {
   "cell_type": "markdown",
   "metadata": {},
   "source": [
    "Видим из распределения, что многие машины имеют мощность равную 0. Эти строки можем исключить. За минимальное значение мощности возьмем - 25, максимальным значением мощности выберем 350 л.с."
   ]
  },
  {
   "cell_type": "code",
   "execution_count": 23,
   "metadata": {},
   "outputs": [
    {
     "data": {
      "image/png": "[encoded data removed]",
      "text/plain": [
       "<Figure size 864x648 with 1 Axes>"
      ]
     },
     "metadata": {
      "needs_background": "light"
     },
     "output_type": "display_data"
    }
   ],
   "source": [
    "autos_data = autos_data.query('24 < Power < 351')\n",
    "autos_data['Power'].hist(bins=100, figsize=(12,9));"
   ]
  },
  {
   "cell_type": "code",
   "execution_count": 24,
   "metadata": {},
   "outputs": [
    {
     "name": "stdout",
     "output_type": "stream",
     "text": [
      "<class 'pandas.core.frame.DataFrame'>\n",
      "Int64Index: 267647 entries, 2 to 354368\n",
      "Data columns (total 10 columns):\n",
      " #   Column            Non-Null Count   Dtype \n",
      "---  ------            --------------   ----- \n",
      " 0   VehicleType       267647 non-null  object\n",
      " 1   Gearbox           267647 non-null  object\n",
      " 2   Power             267647 non-null  int64 \n",
      " 3   Kilometer         267647 non-null  int64 \n",
      " 4   FuelType          267647 non-null  object\n",
      " 5   Brand             267647 non-null  object\n",
      " 6   NotRepaired       267647 non-null  object\n",
      " 7   RegistrationYear  267647 non-null  int64 \n",
      " 8   Model             267647 non-null  object\n",
      " 9   Price             267647 non-null  int64 \n",
      "dtypes: int64(4), object(6)\n",
      "memory usage: 22.5+ MB\n"
     ]
    }
   ],
   "source": [
    "autos_data.info()"
   ]
  },
  {
   "cell_type": "markdown",
   "metadata": {},
   "source": [
    "Значения в столбцах Gearbox и NotRepaired переведем на булев тип:\n",
    "\n",
    "- IsManualGearbox. 1(manual) - означает механическую коробку передач. 0(auto) - автоматическую.\n",
    "- IsNotRepaired. 1(yes) - означает машину без ремонта. 0(no) - с ремонтом."
   ]
  },
  {
   "cell_type": "code",
   "execution_count": 25,
   "metadata": {},
   "outputs": [
    {
     "name": "stdout",
     "output_type": "stream",
     "text": [
      "1    217601\n",
      "0     50046\n",
      "Name: IsManualGearbox, dtype: int64\n"
     ]
    },
    {
     "data": {
      "text/plain": [
       "manual    217601\n",
       "auto       50046\n",
       "Name: Gearbox, dtype: int64"
      ]
     },
     "execution_count": 25,
     "metadata": {},
     "output_type": "execute_result"
    }
   ],
   "source": [
    "autos_data['IsManualGearbox'] = 0\n",
    "autos_data.loc[autos_data['Gearbox'] == 'manual', 'IsManualGearbox'] = 1\n",
    "print(autos_data['IsManualGearbox'].value_counts())\n",
    "autos_data['Gearbox'].value_counts()"
   ]
  },
  {
   "cell_type": "code",
   "execution_count": 26,
   "metadata": {},
   "outputs": [
    {
     "name": "stdout",
     "output_type": "stream",
     "text": [
      "0    204994\n",
      "1     62653\n",
      "Name: IsNotRepaired, dtype: int64\n"
     ]
    },
    {
     "data": {
      "text/plain": [
       "no     204994\n",
       "yes     62653\n",
       "Name: NotRepaired, dtype: int64"
      ]
     },
     "execution_count": 26,
     "metadata": {},
     "output_type": "execute_result"
    }
   ],
   "source": [
    "autos_data['IsNotRepaired'] = 0\n",
    "autos_data.loc[autos_data['NotRepaired'] == 'yes', 'IsNotRepaired'] = 1\n",
    "print(autos_data['IsNotRepaired'].value_counts())\n",
    "autos_data['NotRepaired'].value_counts()"
   ]
  },
  {
   "cell_type": "code",
   "execution_count": 27,
   "metadata": {},
   "outputs": [],
   "source": [
    "autos_data.drop(['NotRepaired','Gearbox'], inplace=True, axis=1)"
   ]
  },
  {
   "cell_type": "code",
   "execution_count": 28,
   "metadata": {},
   "outputs": [
    {
     "name": "stdout",
     "output_type": "stream",
     "text": [
      "<class 'pandas.core.frame.DataFrame'>\n",
      "Int64Index: 267647 entries, 2 to 354368\n",
      "Data columns (total 10 columns):\n",
      " #   Column            Non-Null Count   Dtype \n",
      "---  ------            --------------   ----- \n",
      " 0   VehicleType       267647 non-null  object\n",
      " 1   Power             267647 non-null  int64 \n",
      " 2   Kilometer         267647 non-null  int64 \n",
      " 3   FuelType          267647 non-null  object\n",
      " 4   Brand             267647 non-null  object\n",
      " 5   RegistrationYear  267647 non-null  int64 \n",
      " 6   Model             267647 non-null  object\n",
      " 7   Price             267647 non-null  int64 \n",
      " 8   IsManualGearbox   267647 non-null  int64 \n",
      " 9   IsNotRepaired     267647 non-null  int64 \n",
      "dtypes: int64(6), object(4)\n",
      "memory usage: 22.5+ MB\n"
     ]
    }
   ],
   "source": [
    "autos_data.info()"
   ]
  },
  {
   "cell_type": "markdown",
   "metadata": {},
   "source": [
    "## Обучение моделей"
   ]
  },
  {
   "cell_type": "markdown",
   "metadata": {},
   "source": [
    "Обучим разные модели и для каждой попробуем различные гиперпараметры.\n",
    "Проанализируем скорость работы и качество моделей, для оценки качества моделей будем применять метрики MSE и RMSE.\n",
    "\n",
    "\n",
    "\n",
    "Подготовим три типа признаков для кроссвалидации:\n",
    "\n",
    "- Неизмененные. Название original_features.\n",
    "- Закодированные методом OHE. Название ohe_features.\n",
    "- Закодированные методом OE. Название oe_features."
   ]
  },
  {
   "cell_type": "code",
   "execution_count": 29,
   "metadata": {},
   "outputs": [],
   "source": [
    "#Неизмененные принаки\n",
    "original_features = autos_data.drop('Price', axis=1)\n",
    "\n",
    "#Прямое кодирование\n",
    "encoder = OrdinalEncoder()\n",
    "cat_columns = ['VehicleType','FuelType','Brand','Model']\n",
    "cat_features = original_features[cat_columns]\n",
    "cat_features = pd.DataFrame(encoder.fit_transform(cat_features),\n",
    "                                columns=cat_features.columns, \n",
    "                                index=cat_features.index)\n",
    "oe_features = original_features.copy()\n",
    "for column in cat_columns:\n",
    "    oe_features[column] = cat_features[column]\n",
    "\n",
    "#Кодирование методом OHE\n",
    "ohe_features = pd.get_dummies(original_features, drop_first=True)\n",
    "\n",
    "#Целевой признак\n",
    "target = autos_data['Price']"
   ]
  },
  {
   "cell_type": "code",
   "execution_count": 30,
   "metadata": {},
   "outputs": [],
   "source": [
    "original_features_train, original_features_test, target_train, target_test = train_test_split(\n",
    "    original_features, target, test_size=0.25, random_state=12345)\n",
    "\n",
    "oe_features_train = oe_features.loc[original_features_train.index, :]\n",
    "oe_features_test = oe_features.loc[original_features_test.index, :]\n",
    "\n",
    "ohe_features_train = ohe_features.loc[original_features_train.index, :]\n",
    "ohe_features_test = ohe_features.loc[original_features_test.index, :]"
   ]
  },
  {
   "cell_type": "markdown",
   "metadata": {},
   "source": [
    "Выберем следующие регрессоры для обучения модели:\n",
    "\n",
    "- LinearRegression\n",
    "- DecisionTreeRegressor\n",
    "- CatBoostRegressor\n",
    "- LGBMRegressor"
   ]
  },
  {
   "cell_type": "markdown",
   "metadata": {},
   "source": [
    "### LinearRegression"
   ]
  },
  {
   "cell_type": "code",
   "execution_count": 31,
   "metadata": {},
   "outputs": [
    {
     "name": "stdout",
     "output_type": "stream",
     "text": [
      "Среднее значение RMSE для LinearRegression = 2022.5677906897365\n",
      "\n",
      "CPU times: user 51.9 s, sys: 52.4 s, total: 1min 44s\n",
      "Wall time: 1min 44s\n"
     ]
    }
   ],
   "source": [
    "%%time\n",
    "\n",
    "regressor = LinearRegression()\n",
    "cv_RMSE_LR = (cross_val_score(regressor, \n",
    "                             ohe_features_train, \n",
    "                             target_train, \n",
    "                             cv=5, \n",
    "                             scoring='neg_mean_squared_error').mean() * -1) ** 0.5\n",
    "print('Среднее значение RMSE для LinearRegression =', cv_RMSE_LR)\n",
    "print()"
   ]
  },
  {
   "cell_type": "markdown",
   "metadata": {},
   "source": [
    "### DecisionTreeRegressor"
   ]
  },
  {
   "cell_type": "markdown",
   "metadata": {},
   "source": [
    "1.  Обучим модель на признаках, закодированных по методу OHE.\n",
    "2.  Обучим модель на признаках, закодированных по методу OE."
   ]
  },
  {
   "cell_type": "code",
   "execution_count": 32,
   "metadata": {},
   "outputs": [
    {
     "name": "stdout",
     "output_type": "stream",
     "text": [
      "Лучшие параметры:\n",
      "\n",
      "{'criterion': 'mse', 'max_depth': 18, 'random_state': 12345}\n",
      "\n",
      "Среднее значение RMSE для DecisionTreeRegressor = 1525.939\n",
      "\n",
      "CPU times: user 7min 47s, sys: 32 s, total: 8min 19s\n",
      "Wall time: 8min 19s\n"
     ]
    }
   ],
   "source": [
    "%%time\n",
    "\n",
    "regressor = DecisionTreeRegressor() \n",
    "max_depth_list = [x for x in range(2, 31)]\n",
    "hyperparams = [{'criterion':['mse'], \n",
    "                'max_depth':max_depth_list, \n",
    "                'random_state':[12345]}]\n",
    "\n",
    "clf = GridSearchCV(regressor, hyperparams, scoring='neg_mean_squared_error')\n",
    "clf.fit(ohe_features_train, target_train)\n",
    "print(\"Лучшие параметры:\")\n",
    "print()\n",
    "print(clf.best_params_)\n",
    "\n",
    "means = clf.cv_results_['mean_test_score']\n",
    "print()\n",
    "\n",
    "cv_RMSE_DTR_ohe = (max(means)*-1) ** 0.5\n",
    "print('Среднее значение RMSE для DecisionTreeRegressor =', round(cv_RMSE_DTR_ohe, 3)) \n",
    "print()"
   ]
  },
  {
   "cell_type": "code",
   "execution_count": 33,
   "metadata": {},
   "outputs": [
    {
     "name": "stdout",
     "output_type": "stream",
     "text": [
      "Лучшие параметры:\n",
      "\n",
      "{'criterion': 'mse', 'max_depth': 14, 'random_state': 12345}\n",
      "\n",
      "Среднее значение RMSE для DecisionTreeRegressor = 1544.253\n",
      "\n",
      "CPU times: user 50.1 s, sys: 513 ms, total: 50.6 s\n",
      "Wall time: 50.7 s\n"
     ]
    }
   ],
   "source": [
    "%%time\n",
    "\n",
    "regressor = DecisionTreeRegressor() \n",
    "max_depth_list = [x for x in range(2, 31)]\n",
    "hyperparams = [{'criterion':['mse'], \n",
    "                'max_depth':max_depth_list, \n",
    "                'random_state':[12345]}]\n",
    "\n",
    "clf = GridSearchCV(regressor, hyperparams, scoring='neg_mean_squared_error')\n",
    "clf.fit(oe_features_train, target_train)\n",
    "print(\"Лучшие параметры:\")\n",
    "print()\n",
    "print(clf.best_params_)\n",
    "\n",
    "means = clf.cv_results_['mean_test_score']\n",
    "\n",
    "print()\n",
    "cv_RMSE_DTR_oe = (max(means)*-1) ** 0.5\n",
    "print('Среднее значение RMSE для DecisionTreeRegressor =', round(cv_RMSE_DTR_oe,3))\n",
    "print()"
   ]
  },
  {
   "cell_type": "markdown",
   "metadata": {},
   "source": [
    "Результат обучения DecisionTreeRegressor на OHE схож с результатом обчения с помощью порядкового кодирования. Для дальнейшего обучения будем использовать оба этих результата"
   ]
  },
  {
   "cell_type": "markdown",
   "metadata": {},
   "source": [
    "### CatBoostRegressor"
   ]
  },
  {
   "cell_type": "markdown",
   "metadata": {},
   "source": [
    "1. Обучим модель на данных, закодированных по методу OE.\n",
    "2. Обучим модель на оригинальных данных с указанием категорий."
   ]
  },
  {
   "cell_type": "code",
   "execution_count": 34,
   "metadata": {},
   "outputs": [
    {
     "name": "stdout",
     "output_type": "stream",
     "text": [
      "Лучшие параметры:\n",
      "\n",
      "{'learning_rate': 0.5, 'random_state': 12345, 'verbose': False}\n",
      "\n",
      "Среднее значение RMSE для CatBoostRegressor = 1306.837\n",
      "\n",
      "CPU times: user 5min 40s, sys: 2.89 s, total: 5min 43s\n",
      "Wall time: 6min\n"
     ]
    }
   ],
   "source": [
    "%%time\n",
    "\n",
    "regressor = CatBoostRegressor() \n",
    "hyperparams = [{'learning_rate':[0.1, 0.5, 0.8],\n",
    "                'random_state':[12345],\n",
    "                'verbose':[False]}]\n",
    "\n",
    "clf = GridSearchCV(regressor, hyperparams, scoring='neg_mean_squared_error')\n",
    "clf.fit(oe_features_train, target_train)\n",
    "print(\"Лучшие параметры:\")\n",
    "print()\n",
    "print(clf.best_params_)\n",
    "\n",
    "means = clf.cv_results_['mean_test_score']\n",
    "\n",
    "print()\n",
    "\n",
    "cv_RMSE_CBR_oe = (max(means)*-1) ** 0.5\n",
    "print('Среднее значение RMSE для CatBoostRegressor =', round(cv_RMSE_CBR_oe, 3))\n",
    "print()"
   ]
  },
  {
   "cell_type": "code",
   "execution_count": 35,
   "metadata": {},
   "outputs": [
    {
     "name": "stdout",
     "output_type": "stream",
     "text": [
      "Среднее значение RMSE для CatBoostRegressorr = 1343.345\n",
      "\n",
      "CPU times: user 1min 45s, sys: 741 ms, total: 1min 46s\n",
      "Wall time: 1min 48s\n"
     ]
    }
   ],
   "source": [
    "%%time\n",
    "\n",
    "regressor = CatBoostRegressor(learning_rate=0.5,\n",
    "                              iterations = 200,\n",
    "                              random_state=12345, \n",
    "                              verbose=False, \n",
    "                              cat_features=['VehicleType','FuelType','Brand','Model']) \n",
    "\n",
    "cv_RMSE_CBR_original = (cross_val_score(regressor,\n",
    "                                original_features_train, \n",
    "                                target_train, \n",
    "                                cv=5, \n",
    "                                scoring='neg_mean_squared_error').mean() * -1) ** 0.5\n",
    "\n",
    "print('Среднее значение RMSE для CatBoostRegressorr =', round(cv_RMSE_CBR_original, 3))\n",
    "print()"
   ]
  },
  {
   "cell_type": "markdown",
   "metadata": {},
   "source": [
    "### LGBMRegressor"
   ]
  },
  {
   "cell_type": "code",
   "execution_count": 36,
   "metadata": {},
   "outputs": [
    {
     "name": "stdout",
     "output_type": "stream",
     "text": [
      "Лучшие параметры:\n",
      "\n",
      "{'learning_rate': 0.3, 'num_leaves': 200, 'random_state': 12345}\n",
      "\n",
      "Среднее значение RMSE для LGBMRegressor = 1304.854\n",
      "\n",
      "CPU times: user 1h 4min 59s, sys: 31.5 s, total: 1h 5min 31s\n",
      "Wall time: 1h 5min 56s\n"
     ]
    }
   ],
   "source": [
    "%%time\n",
    "\n",
    "regressor = LGBMRegressor() \n",
    "hyperparams = [{'num_leaves':[31, 100, 200], \n",
    "                'learning_rate':[0.1, 0.3, 0.5],\n",
    "                'random_state':[12345]}]\n",
    "\n",
    "clf = GridSearchCV(regressor, hyperparams, scoring='neg_mean_squared_error')\n",
    "clf.fit(oe_features_train, target_train)\n",
    "print(\"Лучшие параметры:\")\n",
    "print()\n",
    "print(clf.best_params_)\n",
    "print()\n",
    "\n",
    "means = clf.cv_results_['mean_test_score']\n",
    "\n",
    "cv_RMSE_LGBMR = (max(means)*-1) ** 0.5\n",
    "print('Среднее значение RMSE для LGBMRegressor =', round(cv_RMSE_LGBMR, 3))\n",
    "print()"
   ]
  },
  {
   "cell_type": "markdown",
   "metadata": {},
   "source": [
    "### Вывод\n",
    "- Изучили следующие регрессионные модели:\n",
    "    - LinearRegression\n",
    "    - DecisionTreeRegressor\n",
    "    - CatBoostRegressor\n",
    "    - LGBMRegressor\n",
    "- Рассчитали лучшие гиперпараметры и время их выполнения"
   ]
  },
  {
   "cell_type": "markdown",
   "metadata": {},
   "source": [
    "## Анализ моделей"
   ]
  },
  {
   "cell_type": "markdown",
   "metadata": {},
   "source": [
    "Теперь проведем обучение каждой модели с лучшими гиперпараметрами"
   ]
  },
  {
   "cell_type": "markdown",
   "metadata": {},
   "source": [
    "### LinearRegression"
   ]
  },
  {
   "cell_type": "code",
   "execution_count": 37,
   "metadata": {},
   "outputs": [
    {
     "name": "stdout",
     "output_type": "stream",
     "text": [
      "CPU times: user 13.6 s, sys: 15.2 s, total: 28.8 s\n",
      "Wall time: 28.8 s\n"
     ]
    },
    {
     "data": {
      "text/plain": [
       "LinearRegression()"
      ]
     },
     "execution_count": 37,
     "metadata": {},
     "output_type": "execute_result"
    }
   ],
   "source": [
    "%%time\n",
    "\n",
    "model = LinearRegression()\n",
    "model.fit(ohe_features_train, target_train)"
   ]
  },
  {
   "cell_type": "code",
   "execution_count": 38,
   "metadata": {},
   "outputs": [
    {
     "name": "stdout",
     "output_type": "stream",
     "text": [
      "CPU times: user 98.9 ms, sys: 163 ms, total: 262 ms\n",
      "Wall time: 220 ms\n"
     ]
    }
   ],
   "source": [
    "%%time\n",
    "\n",
    "target_predict = model.predict(ohe_features_test)"
   ]
  },
  {
   "cell_type": "code",
   "execution_count": 39,
   "metadata": {},
   "outputs": [
    {
     "name": "stdout",
     "output_type": "stream",
     "text": [
      "2013.0563532548772\n"
     ]
    }
   ],
   "source": [
    "final_RMSE_LR = mean_squared_error(target_test, target_predict) ** 0.5\n",
    "print(final_RMSE_LR)"
   ]
  },
  {
   "cell_type": "markdown",
   "metadata": {},
   "source": [
    "### DecisionTreeRegressor"
   ]
  },
  {
   "cell_type": "code",
   "execution_count": 40,
   "metadata": {},
   "outputs": [
    {
     "name": "stdout",
     "output_type": "stream",
     "text": [
      "CPU times: user 4.59 s, sys: 183 ms, total: 4.77 s\n",
      "Wall time: 4.77 s\n"
     ]
    },
    {
     "data": {
      "text/plain": [
       "DecisionTreeRegressor(max_depth=17, random_state=12345)"
      ]
     },
     "execution_count": 40,
     "metadata": {},
     "output_type": "execute_result"
    }
   ],
   "source": [
    "%%time\n",
    "\n",
    "model = DecisionTreeRegressor(criterion='mse', \n",
    "                              max_depth=17, \n",
    "                              random_state=12345) \n",
    "model.fit(ohe_features_train, target_train)"
   ]
  },
  {
   "cell_type": "code",
   "execution_count": 41,
   "metadata": {},
   "outputs": [
    {
     "name": "stdout",
     "output_type": "stream",
     "text": [
      "CPU times: user 56.6 ms, sys: 77.9 ms, total: 134 ms\n",
      "Wall time: 136 ms\n"
     ]
    }
   ],
   "source": [
    "%%time\n",
    "\n",
    "target_predict = model.predict(ohe_features_test)"
   ]
  },
  {
   "cell_type": "code",
   "execution_count": 42,
   "metadata": {},
   "outputs": [
    {
     "name": "stdout",
     "output_type": "stream",
     "text": [
      "1495.4061299016794\n"
     ]
    }
   ],
   "source": [
    "final_RMSE_DTR_ohe = mean_squared_error(target_test, target_predict) ** 0.5\n",
    "print(final_RMSE_DTR_ohe)"
   ]
  },
  {
   "cell_type": "code",
   "execution_count": 43,
   "metadata": {},
   "outputs": [
    {
     "name": "stdout",
     "output_type": "stream",
     "text": [
      "CPU times: user 378 ms, sys: 4 ms, total: 382 ms\n",
      "Wall time: 392 ms\n"
     ]
    },
    {
     "data": {
      "text/plain": [
       "DecisionTreeRegressor(max_depth=13, random_state=12345)"
      ]
     },
     "execution_count": 43,
     "metadata": {},
     "output_type": "execute_result"
    }
   ],
   "source": [
    "%%time\n",
    "\n",
    "model = DecisionTreeRegressor(criterion='mse', \n",
    "                              max_depth=13, \n",
    "                              random_state=12345) \n",
    "model.fit(oe_features_train, target_train)"
   ]
  },
  {
   "cell_type": "code",
   "execution_count": 44,
   "metadata": {},
   "outputs": [
    {
     "name": "stdout",
     "output_type": "stream",
     "text": [
      "CPU times: user 11.4 ms, sys: 1.63 ms, total: 13 ms\n",
      "Wall time: 11.3 ms\n"
     ]
    }
   ],
   "source": [
    "%%time\n",
    "\n",
    "target_predict = model.predict(oe_features_test)"
   ]
  },
  {
   "cell_type": "code",
   "execution_count": 45,
   "metadata": {},
   "outputs": [
    {
     "name": "stdout",
     "output_type": "stream",
     "text": [
      "1515.2862480920817\n"
     ]
    }
   ],
   "source": [
    "final_RMSE_DTR_oe = mean_squared_error(target_test, target_predict) ** 0.5\n",
    "print(final_RMSE_DTR_oe)"
   ]
  },
  {
   "cell_type": "markdown",
   "metadata": {},
   "source": [
    "### CatBoostRegressor"
   ]
  },
  {
   "cell_type": "code",
   "execution_count": 46,
   "metadata": {},
   "outputs": [
    {
     "name": "stdout",
     "output_type": "stream",
     "text": [
      "CPU times: user 23.4 s, sys: 164 ms, total: 23.5 s\n",
      "Wall time: 25.5 s\n"
     ]
    },
    {
     "data": {
      "text/plain": [
       "<catboost.core.CatBoostRegressor at 0x7f75289fe5b0>"
      ]
     },
     "execution_count": 46,
     "metadata": {},
     "output_type": "execute_result"
    }
   ],
   "source": [
    "%%time\n",
    "\n",
    "model = CatBoostRegressor(learning_rate=0.5, \n",
    "                          random_state=12345, \n",
    "                          verbose=False) \n",
    "model.fit(oe_features_train, target_train)"
   ]
  },
  {
   "cell_type": "code",
   "execution_count": 47,
   "metadata": {},
   "outputs": [
    {
     "name": "stdout",
     "output_type": "stream",
     "text": [
      "CPU times: user 59.7 ms, sys: 34 µs, total: 59.7 ms\n",
      "Wall time: 58.4 ms\n"
     ]
    }
   ],
   "source": [
    "%%time\n",
    "\n",
    "target_predict = model.predict(oe_features_test)"
   ]
  },
  {
   "cell_type": "code",
   "execution_count": 48,
   "metadata": {},
   "outputs": [
    {
     "name": "stdout",
     "output_type": "stream",
     "text": [
      "1287.2555670811391\n"
     ]
    }
   ],
   "source": [
    "final_RMSE_CBR_oe = mean_squared_error(target_test, target_predict) ** 0.5\n",
    "print(final_RMSE_CBR_oe)"
   ]
  },
  {
   "cell_type": "code",
   "execution_count": 49,
   "metadata": {},
   "outputs": [
    {
     "name": "stdout",
     "output_type": "stream",
     "text": [
      "CPU times: user 25.8 s, sys: 182 ms, total: 26 s\n",
      "Wall time: 26.7 s\n"
     ]
    },
    {
     "data": {
      "text/plain": [
       "<catboost.core.CatBoostRegressor at 0x7f75281c9be0>"
      ]
     },
     "execution_count": 49,
     "metadata": {},
     "output_type": "execute_result"
    }
   ],
   "source": [
    "%%time\n",
    "\n",
    "model = CatBoostRegressor(learning_rate=0.5, \n",
    "                          iterations = 200, \n",
    "                          random_state=12345, \n",
    "                          verbose=False,\n",
    "                          cat_features=['VehicleType','FuelType','Brand','Model']) \n",
    "model.fit(original_features_train, target_train)"
   ]
  },
  {
   "cell_type": "code",
   "execution_count": 50,
   "metadata": {},
   "outputs": [
    {
     "name": "stdout",
     "output_type": "stream",
     "text": [
      "CPU times: user 130 ms, sys: 48 µs, total: 131 ms\n",
      "Wall time: 136 ms\n"
     ]
    }
   ],
   "source": [
    "%%time\n",
    "\n",
    "target_predict = model.predict(original_features_test)"
   ]
  },
  {
   "cell_type": "code",
   "execution_count": 51,
   "metadata": {},
   "outputs": [
    {
     "name": "stdout",
     "output_type": "stream",
     "text": [
      "1324.5429490000374\n"
     ]
    }
   ],
   "source": [
    "final_RMSE_CBR_original = mean_squared_error(target_test, target_predict) ** 0.5\n",
    "print(final_RMSE_CBR_original)"
   ]
  },
  {
   "cell_type": "markdown",
   "metadata": {},
   "source": [
    "### LGBMRegressor"
   ]
  },
  {
   "cell_type": "code",
   "execution_count": 52,
   "metadata": {},
   "outputs": [
    {
     "name": "stdout",
     "output_type": "stream",
     "text": [
      "CPU times: user 1min 46s, sys: 896 ms, total: 1min 47s\n",
      "Wall time: 1min 47s\n"
     ]
    },
    {
     "data": {
      "text/plain": [
       "LGBMRegressor(num_leaves=200, random_state=12345)"
      ]
     },
     "execution_count": 52,
     "metadata": {},
     "output_type": "execute_result"
    }
   ],
   "source": [
    "%%time\n",
    "\n",
    "model = LGBMRegressor(learning_rate=0.1, \n",
    "                      num_leaves=200, \n",
    "                      random_state=12345)\n",
    "model.fit(oe_features_train, target_train)"
   ]
  },
  {
   "cell_type": "code",
   "execution_count": 53,
   "metadata": {},
   "outputs": [
    {
     "name": "stdout",
     "output_type": "stream",
     "text": [
      "CPU times: user 677 ms, sys: 0 ns, total: 677 ms\n",
      "Wall time: 615 ms\n"
     ]
    }
   ],
   "source": [
    "%%time\n",
    "\n",
    "target_predict = model.predict(oe_features_test)"
   ]
  },
  {
   "cell_type": "code",
   "execution_count": 54,
   "metadata": {},
   "outputs": [
    {
     "name": "stdout",
     "output_type": "stream",
     "text": [
      "1290.0019030027977\n"
     ]
    }
   ],
   "source": [
    "final_RMSE_LGBMR = mean_squared_error(target_test, target_predict) ** 0.5\n",
    "print(final_RMSE_LGBMR)"
   ]
  },
  {
   "cell_type": "markdown",
   "metadata": {},
   "source": [
    "Для удобного сравнения занесем все результаты обучения и анализа моделей в таблицу:"
   ]
  },
  {
   "cell_type": "code",
   "execution_count": 55,
   "metadata": {},
   "outputs": [
    {
     "data": {
      "text/html": [
       "<div>\n",
       "<style scoped>\n",
       "    .dataframe tbody tr th:only-of-type {\n",
       "        vertical-align: middle;\n",
       "    }\n",
       "\n",
       "    .dataframe tbody tr th {\n",
       "        vertical-align: top;\n",
       "    }\n",
       "\n",
       "    .dataframe thead th {\n",
       "        text-align: right;\n",
       "    }\n",
       "</style>\n",
       "<table border=\"1\" class=\"dataframe\">\n",
       "  <thead>\n",
       "    <tr style=\"text-align: right;\">\n",
       "      <th></th>\n",
       "      <th>RMSE на CV, евро</th>\n",
       "      <th>Время обучения на CV, сек</th>\n",
       "      <th>RMSE модели на тестовой выборке, евро</th>\n",
       "      <th>Время обучения модели, сек</th>\n",
       "      <th>Время предсказания модели, сек</th>\n",
       "      <th>Рейтинг RMSE</th>\n",
       "      <th>Рейтинг времени обучения</th>\n",
       "      <th>Рейтинг времени предсказания</th>\n",
       "      <th>Итоговый рейтинг</th>\n",
       "    </tr>\n",
       "  </thead>\n",
       "  <tbody>\n",
       "    <tr>\n",
       "      <th>LinearRegression</th>\n",
       "      <td>2022.567791</td>\n",
       "      <td>89.0</td>\n",
       "      <td>2013.056353</td>\n",
       "      <td>22.000</td>\n",
       "      <td>0.285</td>\n",
       "      <td>0.645147</td>\n",
       "      <td>0.024773</td>\n",
       "      <td>0.066667</td>\n",
       "      <td>0.736587</td>\n",
       "    </tr>\n",
       "    <tr>\n",
       "      <th>DecisionTreeRegressor on OHE features</th>\n",
       "      <td>1525.938995</td>\n",
       "      <td>354.0</td>\n",
       "      <td>1495.406130</td>\n",
       "      <td>6.000</td>\n",
       "      <td>0.156</td>\n",
       "      <td>0.855115</td>\n",
       "      <td>0.090833</td>\n",
       "      <td>0.121795</td>\n",
       "      <td>1.067744</td>\n",
       "    </tr>\n",
       "    <tr>\n",
       "      <th>DecisionTreeRegressor on OE features</th>\n",
       "      <td>1544.253487</td>\n",
       "      <td>37.1</td>\n",
       "      <td>1515.286248</td>\n",
       "      <td>0.545</td>\n",
       "      <td>0.019</td>\n",
       "      <td>0.844974</td>\n",
       "      <td>1.000000</td>\n",
       "      <td>1.000000</td>\n",
       "      <td>2.844974</td>\n",
       "    </tr>\n",
       "    <tr>\n",
       "      <th>CatBoostRegressor on OE features</th>\n",
       "      <td>1306.836660</td>\n",
       "      <td>1065.0</td>\n",
       "      <td>1287.255567</td>\n",
       "      <td>139.000</td>\n",
       "      <td>0.153</td>\n",
       "      <td>0.998483</td>\n",
       "      <td>0.003921</td>\n",
       "      <td>0.124183</td>\n",
       "      <td>1.126587</td>\n",
       "    </tr>\n",
       "    <tr>\n",
       "      <th>CatBoostRegressor on original features</th>\n",
       "      <td>1343.345301</td>\n",
       "      <td>431.0</td>\n",
       "      <td>1324.542949</td>\n",
       "      <td>105.000</td>\n",
       "      <td>0.322</td>\n",
       "      <td>0.971347</td>\n",
       "      <td>0.005190</td>\n",
       "      <td>0.059006</td>\n",
       "      <td>1.035543</td>\n",
       "    </tr>\n",
       "    <tr>\n",
       "      <th>LGBMRegressor</th>\n",
       "      <td>1304.853948</td>\n",
       "      <td>249.0</td>\n",
       "      <td>1290.001903</td>\n",
       "      <td>15.200</td>\n",
       "      <td>1.370</td>\n",
       "      <td>1.000000</td>\n",
       "      <td>0.035855</td>\n",
       "      <td>0.013869</td>\n",
       "      <td>1.049724</td>\n",
       "    </tr>\n",
       "  </tbody>\n",
       "</table>\n",
       "</div>"
      ],
      "text/plain": [
       "                                        RMSE на CV, евро  \\\n",
       "LinearRegression                             2022.567791   \n",
       "DecisionTreeRegressor on OHE features        1525.938995   \n",
       "DecisionTreeRegressor on OE features         1544.253487   \n",
       "CatBoostRegressor on OE features             1306.836660   \n",
       "CatBoostRegressor on original features       1343.345301   \n",
       "LGBMRegressor                                1304.853948   \n",
       "\n",
       "                                        Время обучения на CV, сек  \\\n",
       "LinearRegression                                             89.0   \n",
       "DecisionTreeRegressor on OHE features                       354.0   \n",
       "DecisionTreeRegressor on OE features                         37.1   \n",
       "CatBoostRegressor on OE features                           1065.0   \n",
       "CatBoostRegressor on original features                      431.0   \n",
       "LGBMRegressor                                               249.0   \n",
       "\n",
       "                                        RMSE модели на тестовой выборке, евро  \\\n",
       "LinearRegression                                                  2013.056353   \n",
       "DecisionTreeRegressor on OHE features                             1495.406130   \n",
       "DecisionTreeRegressor on OE features                              1515.286248   \n",
       "CatBoostRegressor on OE features                                  1287.255567   \n",
       "CatBoostRegressor on original features                            1324.542949   \n",
       "LGBMRegressor                                                     1290.001903   \n",
       "\n",
       "                                        Время обучения модели, сек  \\\n",
       "LinearRegression                                            22.000   \n",
       "DecisionTreeRegressor on OHE features                        6.000   \n",
       "DecisionTreeRegressor on OE features                         0.545   \n",
       "CatBoostRegressor on OE features                           139.000   \n",
       "CatBoostRegressor on original features                     105.000   \n",
       "LGBMRegressor                                               15.200   \n",
       "\n",
       "                                        Время предсказания модели, сек  \\\n",
       "LinearRegression                                                 0.285   \n",
       "DecisionTreeRegressor on OHE features                            0.156   \n",
       "DecisionTreeRegressor on OE features                             0.019   \n",
       "CatBoostRegressor on OE features                                 0.153   \n",
       "CatBoostRegressor on original features                           0.322   \n",
       "LGBMRegressor                                                    1.370   \n",
       "\n",
       "                                        Рейтинг RMSE  \\\n",
       "LinearRegression                            0.645147   \n",
       "DecisionTreeRegressor on OHE features       0.855115   \n",
       "DecisionTreeRegressor on OE features        0.844974   \n",
       "CatBoostRegressor on OE features            0.998483   \n",
       "CatBoostRegressor on original features      0.971347   \n",
       "LGBMRegressor                               1.000000   \n",
       "\n",
       "                                        Рейтинг времени обучения  \\\n",
       "LinearRegression                                        0.024773   \n",
       "DecisionTreeRegressor on OHE features                   0.090833   \n",
       "DecisionTreeRegressor on OE features                    1.000000   \n",
       "CatBoostRegressor on OE features                        0.003921   \n",
       "CatBoostRegressor on original features                  0.005190   \n",
       "LGBMRegressor                                           0.035855   \n",
       "\n",
       "                                        Рейтинг времени предсказания  \\\n",
       "LinearRegression                                            0.066667   \n",
       "DecisionTreeRegressor on OHE features                       0.121795   \n",
       "DecisionTreeRegressor on OE features                        1.000000   \n",
       "CatBoostRegressor on OE features                            0.124183   \n",
       "CatBoostRegressor on original features                      0.059006   \n",
       "LGBMRegressor                                               0.013869   \n",
       "\n",
       "                                        Итоговый рейтинг  \n",
       "LinearRegression                                0.736587  \n",
       "DecisionTreeRegressor on OHE features           1.067744  \n",
       "DecisionTreeRegressor on OE features            2.844974  \n",
       "CatBoostRegressor on OE features                1.126587  \n",
       "CatBoostRegressor on original features          1.035543  \n",
       "LGBMRegressor                                   1.049724  "
      ]
     },
     "execution_count": 55,
     "metadata": {},
     "output_type": "execute_result"
    }
   ],
   "source": [
    "index = ['LinearRegression',\n",
    "         'DecisionTreeRegressor on OHE features',\n",
    "         'DecisionTreeRegressor on OE features',\n",
    "         'CatBoostRegressor on OE features',\n",
    "         'CatBoostRegressor on original features',\n",
    "         'LGBMRegressor']\n",
    "data = {'RMSE на CV, евро':[cv_RMSE_LR,\n",
    "                            cv_RMSE_DTR_ohe,\n",
    "                            cv_RMSE_DTR_oe,\n",
    "                            cv_RMSE_CBR_oe,\n",
    "                            cv_RMSE_CBR_original,\n",
    "                            cv_RMSE_LGBMR],\n",
    "        'Время обучения на CV, сек':[89,\n",
    "                                     354,\n",
    "                                     37.1,\n",
    "                                     1065,\n",
    "                                     431,\n",
    "                                     249],\n",
    "        'RMSE модели на тестовой выборке, евро':[final_RMSE_LR,\n",
    "                                                final_RMSE_DTR_ohe,\n",
    "                                                final_RMSE_DTR_oe,\n",
    "                                                final_RMSE_CBR_oe,\n",
    "                                                final_RMSE_CBR_original,\n",
    "                                                final_RMSE_LGBMR],\n",
    "        'Время обучения модели, сек':[22,\n",
    "                                      6,\n",
    "                                      0.545,\n",
    "                                      139,\n",
    "                                      105,\n",
    "                                      15.2],\n",
    "        'Время предсказания модели, сек':[0.285,\n",
    "                                          0.156,\n",
    "                                          0.019,\n",
    "                                          0.153,\n",
    "                                          0.322,\n",
    "                                          1.37]}\n",
    "\n",
    "scores_data = pd.DataFrame(data=data, index=index)\n",
    "scores_data['Рейтинг RMSE'] = (scores_data['RMSE на CV, евро'].min() /\n",
    "                              scores_data['RMSE на CV, евро'])\n",
    "scores_data['Рейтинг времени обучения'] = (scores_data['Время обучения модели, сек'].min() / \n",
    "                              scores_data['Время обучения модели, сек'])\n",
    "scores_data['Рейтинг времени предсказания'] = (scores_data['Время предсказания модели, сек'].min() / \n",
    "                              scores_data['Время предсказания модели, сек'])\n",
    "scores_data['Итоговый рейтинг'] = (scores_data['Рейтинг RMSE'] +\n",
    "                                   scores_data['Рейтинг времени обучения'] +\n",
    "                                   scores_data['Рейтинг времени предсказания'])\n",
    "scores_data"
   ]
  },
  {
   "cell_type": "markdown",
   "metadata": {},
   "source": [
    "## Вывод\n",
    "\n",
    "1. Изучили и подготовили данные к анализу:\n",
    "    - Значения RegistrationYear взяты от 1980 до 2016 гг\n",
    "    - Значения Power от 25 до 350 л.с\n",
    "    - Определили значимые признаки для постороения модели\n",
    "    - Заполнили пропуски в столбцах и удалили некорректные значения\n",
    "    - Признаки Gearbox и NotRepaired перевели на булев тип\n",
    "\n",
    "2. Выполнили сравнение моделей с использованием различных наборов гиперпараметров. \n",
    "3. Лучшей моделью по трем параметрам: качество, скорость обучения и скорость предсказания можно считать DecisionTreeRegressor. \n",
    "4. Если рассматривать только точность, то лучшая модель - LGBMRegressor, на втором месте - CatBoostRegressor и на третьем - DecisionTreeRegressor, линейная регрессия показала худший результат\n",
    "\n",
    "- Для задач, требующих высокой точности без акцента на скорость выполнения, хороший результат покажут модели LGBMRegressor и CatBoostRegressor.\n",
    "- Для быстрых решений с хорошей точностью подойдет DecisionTreeRegressor"
   ]
  }
 ],
 "metadata": {
  "ExecuteTimeLog": [
   {
    "duration": 785,
    "start_time": "2021-09-27T02:57:01.871Z"
   },
   {
    "duration": 1078,
    "start_time": "2021-09-27T02:57:49.658Z"
   },
   {
    "duration": 32,
    "start_time": "2021-09-27T02:57:55.953Z"
   },
   {
    "duration": 779,
    "start_time": "2021-09-27T03:02:33.291Z"
   },
   {
    "duration": 5,
    "start_time": "2021-09-27T03:07:04.400Z"
   },
   {
    "duration": 24,
    "start_time": "2021-09-27T03:07:11.685Z"
   },
   {
    "duration": 159,
    "start_time": "2021-09-27T03:07:22.760Z"
   },
   {
    "duration": 121,
    "start_time": "2021-09-27T03:11:23.586Z"
   },
   {
    "duration": 120,
    "start_time": "2021-09-27T03:18:46.703Z"
   },
   {
    "duration": 22,
    "start_time": "2021-09-27T03:21:35.175Z"
   },
   {
    "duration": 155,
    "start_time": "2021-09-27T03:21:41.381Z"
   },
   {
    "duration": 1078,
    "start_time": "2021-09-27T03:39:13.967Z"
   },
   {
    "duration": 34,
    "start_time": "2021-09-27T03:39:15.048Z"
   },
   {
    "duration": 112,
    "start_time": "2021-09-27T03:39:17.128Z"
   },
   {
    "duration": 156,
    "start_time": "2021-09-27T03:39:21.350Z"
   },
   {
    "duration": 132,
    "start_time": "2021-09-27T03:51:54.072Z"
   },
   {
    "duration": 15,
    "start_time": "2021-09-27T03:54:57.766Z"
   },
   {
    "duration": 178,
    "start_time": "2021-09-27T03:55:12.410Z"
   },
   {
    "duration": 17,
    "start_time": "2021-09-27T03:55:18.267Z"
   },
   {
    "duration": 14,
    "start_time": "2021-09-27T03:55:28.332Z"
   },
   {
    "duration": 15,
    "start_time": "2021-09-27T03:55:51.442Z"
   },
   {
    "duration": 14,
    "start_time": "2021-09-27T03:56:03.123Z"
   },
   {
    "duration": 811,
    "start_time": "2021-09-27T03:58:38.444Z"
   },
   {
    "duration": 740,
    "start_time": "2021-09-27T03:59:09.211Z"
   },
   {
    "duration": 936,
    "start_time": "2021-09-27T03:59:17.650Z"
   },
   {
    "duration": 17,
    "start_time": "2021-09-27T03:59:54.336Z"
   },
   {
    "duration": 16,
    "start_time": "2021-09-27T04:03:27.602Z"
   },
   {
    "duration": 17,
    "start_time": "2021-09-27T04:03:42.824Z"
   },
   {
    "duration": 17,
    "start_time": "2021-09-27T04:03:51.138Z"
   },
   {
    "duration": 16,
    "start_time": "2021-09-27T04:04:22.861Z"
   },
   {
    "duration": 140,
    "start_time": "2021-09-27T04:09:50.084Z"
   },
   {
    "duration": 744,
    "start_time": "2021-09-27T04:10:09.172Z"
   },
   {
    "duration": 651,
    "start_time": "2021-09-27T04:11:28.818Z"
   },
   {
    "duration": 658,
    "start_time": "2021-09-27T04:11:34.264Z"
   },
   {
    "duration": 722,
    "start_time": "2021-09-27T04:11:41.263Z"
   },
   {
    "duration": 8931,
    "start_time": "2021-09-27T04:13:03.828Z"
   },
   {
    "duration": 7,
    "start_time": "2021-09-27T04:14:19.899Z"
   },
   {
    "duration": 1015,
    "start_time": "2021-09-27T04:14:20.668Z"
   },
   {
    "duration": 23,
    "start_time": "2021-09-27T04:14:21.685Z"
   },
   {
    "duration": 153,
    "start_time": "2021-09-27T04:14:29.607Z"
   },
   {
    "duration": 111,
    "start_time": "2021-09-27T04:14:33.928Z"
   },
   {
    "duration": 122,
    "start_time": "2021-09-27T04:14:40.664Z"
   },
   {
    "duration": 14,
    "start_time": "2021-09-27T04:14:43.210Z"
   },
   {
    "duration": 770,
    "start_time": "2021-09-27T04:14:43.713Z"
   },
   {
    "duration": 16,
    "start_time": "2021-09-27T04:14:44.485Z"
   },
   {
    "duration": 137,
    "start_time": "2021-09-27T04:14:45.464Z"
   },
   {
    "duration": 664,
    "start_time": "2021-09-27T04:14:46.790Z"
   },
   {
    "duration": 95,
    "start_time": "2021-09-27T04:15:07.870Z"
   },
   {
    "duration": 46,
    "start_time": "2021-09-27T04:15:28.265Z"
   },
   {
    "duration": 910,
    "start_time": "2021-09-27T04:16:18.822Z"
   },
   {
    "duration": 703,
    "start_time": "2021-09-27T04:16:22.899Z"
   },
   {
    "duration": 604,
    "start_time": "2021-09-27T04:21:31.985Z"
   },
   {
    "duration": 133,
    "start_time": "2021-09-27T04:23:47.969Z"
   },
   {
    "duration": 46,
    "start_time": "2021-09-27T04:23:56.282Z"
   },
   {
    "duration": 145,
    "start_time": "2021-09-27T04:27:56.881Z"
   },
   {
    "duration": 55,
    "start_time": "2021-09-27T04:28:40.696Z"
   },
   {
    "duration": 16479,
    "start_time": "2021-09-27T04:29:41.512Z"
   },
   {
    "duration": 16927,
    "start_time": "2021-09-27T04:31:39.026Z"
   },
   {
    "duration": 90,
    "start_time": "2021-09-27T04:32:00.514Z"
   },
   {
    "duration": 521,
    "start_time": "2021-09-27T04:32:18.674Z"
   },
   {
    "duration": 122,
    "start_time": "2021-09-27T04:32:25.526Z"
   },
   {
    "duration": 86,
    "start_time": "2021-09-27T04:32:27.913Z"
   },
   {
    "duration": 86,
    "start_time": "2021-09-27T04:32:45.382Z"
   },
   {
    "duration": 684,
    "start_time": "2021-09-27T04:35:18.282Z"
   },
   {
    "duration": 349,
    "start_time": "2021-09-27T04:35:51.284Z"
   },
   {
    "duration": 317,
    "start_time": "2021-09-27T04:35:56.130Z"
   },
   {
    "duration": 689,
    "start_time": "2021-09-27T04:35:59.361Z"
   },
   {
    "duration": 709,
    "start_time": "2021-09-27T04:38:37.468Z"
   },
   {
    "duration": 1052,
    "start_time": "2021-09-27T04:39:52.833Z"
   },
   {
    "duration": 78,
    "start_time": "2021-09-27T04:42:48.930Z"
   },
   {
    "duration": 80,
    "start_time": "2021-09-27T04:46:26.105Z"
   },
   {
    "duration": 78,
    "start_time": "2021-09-27T04:47:06.888Z"
   },
   {
    "duration": 71,
    "start_time": "2021-09-27T04:47:11.462Z"
   },
   {
    "duration": 26,
    "start_time": "2021-09-27T04:48:12.229Z"
   },
   {
    "duration": 391,
    "start_time": "2021-09-27T04:48:50.522Z"
   },
   {
    "duration": 386,
    "start_time": "2021-09-27T04:49:08.204Z"
   },
   {
    "duration": -42,
    "start_time": "2021-09-27T04:49:08.634Z"
   },
   {
    "duration": 7,
    "start_time": "2021-09-27T04:49:27.259Z"
   },
   {
    "duration": 1011,
    "start_time": "2021-09-27T04:49:27.592Z"
   },
   {
    "duration": 23,
    "start_time": "2021-09-27T04:49:28.606Z"
   },
   {
    "duration": 188,
    "start_time": "2021-09-27T04:49:28.632Z"
   },
   {
    "duration": 125,
    "start_time": "2021-09-27T04:49:28.822Z"
   },
   {
    "duration": 140,
    "start_time": "2021-09-27T04:49:28.949Z"
   },
   {
    "duration": 14,
    "start_time": "2021-09-27T04:49:29.092Z"
   },
   {
    "duration": 745,
    "start_time": "2021-09-27T04:49:29.342Z"
   },
   {
    "duration": 17,
    "start_time": "2021-09-27T04:49:30.089Z"
   },
   {
    "duration": 160,
    "start_time": "2021-09-27T04:49:30.109Z"
   },
   {
    "duration": 674,
    "start_time": "2021-09-27T04:49:30.327Z"
   },
   {
    "duration": 51,
    "start_time": "2021-09-27T04:49:31.003Z"
   },
   {
    "duration": 731,
    "start_time": "2021-09-27T04:49:31.089Z"
   },
   {
    "duration": 622,
    "start_time": "2021-09-27T04:49:31.823Z"
   },
   {
    "duration": 69,
    "start_time": "2021-09-27T04:49:32.448Z"
   },
   {
    "duration": 168,
    "start_time": "2021-09-27T04:49:32.519Z"
   },
   {
    "duration": 39,
    "start_time": "2021-09-27T04:49:32.690Z"
   },
   {
    "duration": 16430,
    "start_time": "2021-09-27T04:49:32.731Z"
   },
   {
    "duration": 17257,
    "start_time": "2021-09-27T04:49:49.164Z"
   },
   {
    "duration": 95,
    "start_time": "2021-09-27T04:50:06.425Z"
   },
   {
    "duration": 704,
    "start_time": "2021-09-27T04:50:06.523Z"
   },
   {
    "duration": 720,
    "start_time": "2021-09-27T04:50:07.229Z"
   },
   {
    "duration": 741,
    "start_time": "2021-09-27T04:50:07.952Z"
   },
   {
    "duration": 92,
    "start_time": "2021-09-27T04:50:08.696Z"
   },
   {
    "duration": 93,
    "start_time": "2021-09-27T04:50:08.791Z"
   },
   {
    "duration": 103,
    "start_time": "2021-09-27T04:50:08.886Z"
   },
   {
    "duration": 24,
    "start_time": "2021-09-27T04:50:08.991Z"
   },
   {
    "duration": 78,
    "start_time": "2021-09-27T04:50:09.018Z"
   },
   {
    "duration": 1590,
    "start_time": "2021-09-29T03:18:14.331Z"
   },
   {
    "duration": 1125,
    "start_time": "2021-09-29T03:18:15.924Z"
   },
   {
    "duration": 28,
    "start_time": "2021-09-29T03:18:17.053Z"
   },
   {
    "duration": 177,
    "start_time": "2021-09-29T03:18:17.084Z"
   },
   {
    "duration": 141,
    "start_time": "2021-09-29T03:18:17.264Z"
   },
   {
    "duration": 155,
    "start_time": "2021-09-29T03:18:17.408Z"
   },
   {
    "duration": 32,
    "start_time": "2021-09-29T03:18:17.574Z"
   },
   {
    "duration": 883,
    "start_time": "2021-09-29T03:18:17.610Z"
   },
   {
    "duration": 28,
    "start_time": "2021-09-29T03:18:18.496Z"
   },
   {
    "duration": 134,
    "start_time": "2021-09-29T03:18:18.527Z"
   },
   {
    "duration": 688,
    "start_time": "2021-09-29T03:18:18.665Z"
   },
   {
    "duration": 60,
    "start_time": "2021-09-29T03:18:19.356Z"
   },
   {
    "duration": 720,
    "start_time": "2021-09-29T03:18:19.419Z"
   },
   {
    "duration": 674,
    "start_time": "2021-09-29T03:18:20.202Z"
   },
   {
    "duration": 48,
    "start_time": "2021-09-29T03:18:21.623Z"
   },
   {
    "duration": 141,
    "start_time": "2021-09-29T03:18:22.039Z"
   },
   {
    "duration": 37,
    "start_time": "2021-09-29T03:18:22.616Z"
   },
   {
    "duration": 15872,
    "start_time": "2021-09-29T03:18:23.090Z"
   },
   {
    "duration": 16466,
    "start_time": "2021-09-29T03:18:38.965Z"
   },
   {
    "duration": 92,
    "start_time": "2021-09-29T03:18:55.434Z"
   },
   {
    "duration": 741,
    "start_time": "2021-09-29T03:18:55.529Z"
   },
   {
    "duration": 795,
    "start_time": "2021-09-29T03:18:56.272Z"
   },
   {
    "duration": 824,
    "start_time": "2021-09-29T03:18:57.070Z"
   },
   {
    "duration": 87,
    "start_time": "2021-09-29T03:18:57.898Z"
   },
   {
    "duration": 106,
    "start_time": "2021-09-29T03:18:57.989Z"
   },
   {
    "duration": 97,
    "start_time": "2021-09-29T03:18:58.097Z"
   },
   {
    "duration": 41,
    "start_time": "2021-09-29T03:18:58.196Z"
   },
   {
    "duration": 59,
    "start_time": "2021-09-29T03:18:58.239Z"
   },
   {
    "duration": 490,
    "start_time": "2021-09-29T03:32:49.968Z"
   },
   {
    "duration": 674,
    "start_time": "2021-09-29T03:33:22.143Z"
   },
   {
    "duration": 414,
    "start_time": "2021-09-29T03:33:27.510Z"
   },
   {
    "duration": 433,
    "start_time": "2021-09-29T03:34:29.812Z"
   },
   {
    "duration": 1017,
    "start_time": "2021-09-29T03:35:22.049Z"
   },
   {
    "duration": 1082,
    "start_time": "2021-09-29T03:35:23.069Z"
   },
   {
    "duration": 89433,
    "start_time": "2021-09-29T03:38:11.292Z"
   },
   {
    "duration": 89740,
    "start_time": "2021-09-29T03:41:39.984Z"
   },
   {
    "duration": 354993,
    "start_time": "2021-09-29T03:47:27.814Z"
   },
   {
    "duration": 37542,
    "start_time": "2021-09-29T03:58:00.551Z"
   },
   {
    "duration": 37435,
    "start_time": "2021-09-29T04:04:58.726Z"
   },
   {
    "duration": 353738,
    "start_time": "2021-09-29T04:05:36.165Z"
   },
   {
    "duration": 1086607,
    "start_time": "2021-09-29T04:11:29.906Z"
   },
   {
    "duration": 5,
    "start_time": "2021-09-29T04:29:36.516Z"
   },
   {
    "duration": 442247,
    "start_time": "2021-09-29T04:32:19.572Z"
   },
   {
    "duration": 203,
    "start_time": "2021-09-29T04:39:41.821Z"
   },
   {
    "duration": 253269,
    "start_time": "2021-09-29T04:40:45.355Z"
   },
   {
    "duration": 22288,
    "start_time": "2021-09-29T04:46:00.639Z"
   },
   {
    "duration": 290,
    "start_time": "2021-09-29T04:46:22.930Z"
   },
   {
    "duration": 95,
    "start_time": "2021-09-29T04:46:23.224Z"
   },
   {
    "duration": 6141,
    "start_time": "2021-09-29T04:46:23.323Z"
   },
   {
    "duration": 188,
    "start_time": "2021-09-29T04:46:29.467Z"
   },
   {
    "duration": 6,
    "start_time": "2021-09-29T04:46:29.659Z"
   },
   {
    "duration": 588,
    "start_time": "2021-09-29T04:46:29.668Z"
   },
   {
    "duration": 22,
    "start_time": "2021-09-29T04:46:30.259Z"
   },
   {
    "duration": 35,
    "start_time": "2021-09-29T04:46:30.284Z"
   },
   {
    "duration": 141907,
    "start_time": "2021-09-29T04:46:30.321Z"
   },
   {
    "duration": 98,
    "start_time": "2021-09-29T04:48:52.230Z"
   },
   {
    "duration": 88,
    "start_time": "2021-09-29T04:48:52.331Z"
   },
   {
    "duration": 106643,
    "start_time": "2021-09-29T04:48:52.422Z"
   },
   {
    "duration": 265,
    "start_time": "2021-09-29T04:50:39.067Z"
   },
   {
    "duration": 6,
    "start_time": "2021-09-29T04:50:39.334Z"
   },
   {
    "duration": 15482,
    "start_time": "2021-09-29T04:50:39.342Z"
   },
   {
    "duration": 1400,
    "start_time": "2021-09-29T04:50:54.826Z"
   },
   {
    "duration": 5,
    "start_time": "2021-09-29T04:50:56.229Z"
   },
   {
    "duration": 104,
    "start_time": "2021-09-29T04:50:56.236Z"
   },
   {
    "duration": 32,
    "start_time": "2021-09-29T04:51:38.645Z"
   },
   {
    "duration": 354780,
    "start_time": "2021-09-29T04:54:06.038Z"
   },
   {
    "duration": 37209,
    "start_time": "2021-09-29T05:00:00.821Z"
   },
   {
    "duration": 1090752,
    "start_time": "2021-09-29T05:00:38.042Z"
   },
   {
    "duration": 3972,
    "start_time": "2021-09-29T10:43:21.476Z"
   },
   {
    "duration": 1159,
    "start_time": "2021-09-29T10:43:25.451Z"
   },
   {
    "duration": 28,
    "start_time": "2021-09-29T10:43:26.612Z"
   },
   {
    "duration": 193,
    "start_time": "2021-09-29T10:43:47.160Z"
   },
   {
    "duration": 132,
    "start_time": "2021-09-29T10:43:48.038Z"
   },
   {
    "duration": 163,
    "start_time": "2021-09-29T10:43:49.456Z"
   },
   {
    "duration": 15,
    "start_time": "2021-09-29T10:43:50.669Z"
   },
   {
    "duration": 628,
    "start_time": "2021-09-29T10:43:51.357Z"
   },
   {
    "duration": 17,
    "start_time": "2021-09-29T10:43:51.988Z"
   },
   {
    "duration": 151,
    "start_time": "2021-09-29T10:43:52.132Z"
   },
   {
    "duration": 442,
    "start_time": "2021-09-29T10:43:52.474Z"
   },
   {
    "duration": 53,
    "start_time": "2021-09-29T10:43:52.919Z"
   },
   {
    "duration": 505,
    "start_time": "2021-09-29T10:43:53.177Z"
   },
   {
    "duration": 413,
    "start_time": "2021-09-29T10:43:53.685Z"
   },
   {
    "duration": 73,
    "start_time": "2021-09-29T10:43:54.101Z"
   },
   {
    "duration": 169,
    "start_time": "2021-09-29T10:43:54.229Z"
   },
   {
    "duration": 64,
    "start_time": "2021-09-29T10:43:54.404Z"
   },
   {
    "duration": 6715,
    "start_time": "2021-09-29T10:43:54.721Z"
   },
   {
    "duration": 7265,
    "start_time": "2021-09-29T10:44:01.438Z"
   },
   {
    "duration": 124,
    "start_time": "2021-09-29T10:44:08.707Z"
   },
   {
    "duration": 482,
    "start_time": "2021-09-29T10:44:08.835Z"
   },
   {
    "duration": 496,
    "start_time": "2021-09-29T10:44:09.319Z"
   },
   {
    "duration": 629,
    "start_time": "2021-09-29T10:44:09.818Z"
   },
   {
    "duration": 107,
    "start_time": "2021-09-29T10:44:10.450Z"
   },
   {
    "duration": 63,
    "start_time": "2021-09-29T10:44:10.568Z"
   },
   {
    "duration": 84,
    "start_time": "2021-09-29T10:44:10.633Z"
   },
   {
    "duration": 48,
    "start_time": "2021-09-29T10:44:10.719Z"
   },
   {
    "duration": 70,
    "start_time": "2021-09-29T10:44:10.770Z"
   },
   {
    "duration": 186,
    "start_time": "2021-09-29T11:12:31.740Z"
   },
   {
    "duration": 1170,
    "start_time": "2021-09-29T11:22:03.873Z"
   },
   {
    "duration": 1104,
    "start_time": "2021-09-29T11:22:06.331Z"
   },
   {
    "duration": 105752,
    "start_time": "2021-09-29T11:22:57.718Z"
   },
   {
    "duration": 358163,
    "start_time": "2021-09-29T11:25:28.414Z"
   },
   {
    "duration": 1165,
    "start_time": "2021-09-29T11:31:26.584Z"
   },
   {
    "duration": 27841,
    "start_time": "2021-09-29T11:31:51.745Z"
   },
   {
    "duration": 285,
    "start_time": "2021-09-29T11:32:19.589Z"
   },
   {
    "duration": 92,
    "start_time": "2021-09-29T11:32:19.878Z"
   },
   {
    "duration": 6863,
    "start_time": "2021-09-29T11:32:19.977Z"
   },
   {
    "duration": 179,
    "start_time": "2021-09-29T11:32:26.843Z"
   },
   {
    "duration": 5,
    "start_time": "2021-09-29T11:32:27.025Z"
   },
   {
    "duration": 606,
    "start_time": "2021-09-29T11:32:27.032Z"
   },
   {
    "duration": 41,
    "start_time": "2021-09-29T11:32:27.642Z"
   },
   {
    "duration": 6,
    "start_time": "2021-09-29T11:32:27.686Z"
   },
   {
    "duration": 153523,
    "start_time": "2021-09-29T11:32:27.694Z"
   },
   {
    "duration": 70,
    "start_time": "2021-09-29T11:35:01.219Z"
   },
   {
    "duration": 7,
    "start_time": "2021-09-29T11:35:01.367Z"
   },
   {
    "duration": 110688,
    "start_time": "2021-09-29T11:35:01.378Z"
   },
   {
    "duration": 322,
    "start_time": "2021-09-29T11:36:52.069Z"
   },
   {
    "duration": 7,
    "start_time": "2021-09-29T11:36:52.394Z"
   },
   {
    "duration": 319683,
    "start_time": "2021-09-29T11:36:52.404Z"
   },
   {
    "duration": 1405,
    "start_time": "2021-09-29T11:42:12.089Z"
   },
   {
    "duration": 5,
    "start_time": "2021-09-29T11:42:13.497Z"
   },
   {
    "duration": 346,
    "start_time": "2021-09-29T11:42:40.693Z"
   },
   {
    "duration": 370,
    "start_time": "2021-09-29T11:44:03.529Z"
   },
   {
    "duration": 1424,
    "start_time": "2022-06-17T10:20:23.425Z"
   },
   {
    "duration": 2922,
    "start_time": "2022-06-17T10:20:24.851Z"
   },
   {
    "duration": 17,
    "start_time": "2022-06-17T10:20:27.775Z"
   },
   {
    "duration": 106,
    "start_time": "2022-06-17T10:20:27.795Z"
   },
   {
    "duration": 140,
    "start_time": "2022-06-17T10:20:27.902Z"
   },
   {
    "duration": 88,
    "start_time": "2022-06-17T10:20:28.044Z"
   },
   {
    "duration": 10,
    "start_time": "2022-06-17T10:20:28.134Z"
   },
   {
    "duration": 334,
    "start_time": "2022-06-17T10:20:28.145Z"
   },
   {
    "duration": 17,
    "start_time": "2022-06-17T10:20:28.481Z"
   },
   {
    "duration": 123,
    "start_time": "2022-06-17T10:20:28.502Z"
   },
   {
    "duration": 266,
    "start_time": "2022-06-17T10:20:28.626Z"
   },
   {
    "duration": 24,
    "start_time": "2022-06-17T10:20:28.894Z"
   },
   {
    "duration": 366,
    "start_time": "2022-06-17T10:20:28.920Z"
   },
   {
    "duration": 220,
    "start_time": "2022-06-17T10:20:29.288Z"
   },
   {
    "duration": 46,
    "start_time": "2022-06-17T10:20:29.510Z"
   },
   {
    "duration": 105,
    "start_time": "2022-06-17T10:20:29.558Z"
   },
   {
    "duration": 38,
    "start_time": "2022-06-17T10:20:29.664Z"
   },
   {
    "duration": 3151,
    "start_time": "2022-06-17T10:20:29.704Z"
   },
   {
    "duration": 3313,
    "start_time": "2022-06-17T10:20:32.857Z"
   },
   {
    "duration": 57,
    "start_time": "2022-06-17T10:20:36.171Z"
   },
   {
    "duration": 295,
    "start_time": "2022-06-17T10:20:36.230Z"
   },
   {
    "duration": 258,
    "start_time": "2022-06-17T10:20:36.526Z"
   },
   {
    "duration": 276,
    "start_time": "2022-06-17T10:20:36.786Z"
   },
   {
    "duration": 54,
    "start_time": "2022-06-17T10:20:37.064Z"
   },
   {
    "duration": 38,
    "start_time": "2022-06-17T10:20:37.120Z"
   },
   {
    "duration": 58,
    "start_time": "2022-06-17T10:20:37.160Z"
   },
   {
    "duration": 18,
    "start_time": "2022-06-17T10:20:37.220Z"
   },
   {
    "duration": 69,
    "start_time": "2022-06-17T10:20:37.241Z"
   },
   {
    "duration": 799,
    "start_time": "2022-06-17T10:20:37.312Z"
   },
   {
    "duration": 403,
    "start_time": "2022-06-17T10:20:38.113Z"
   },
   {
    "duration": 104596,
    "start_time": "2022-06-17T10:20:38.517Z"
   },
   {
    "duration": 499747,
    "start_time": "2022-06-17T10:22:23.115Z"
   },
   {
    "duration": 50665,
    "start_time": "2022-06-17T10:30:42.863Z"
   },
   {
    "duration": 360753,
    "start_time": "2022-06-17T10:31:33.530Z"
   },
   {
    "duration": 108073,
    "start_time": "2022-06-17T10:37:34.285Z"
   },
   {
    "duration": 3956062,
    "start_time": "2022-06-17T10:39:22.360Z"
   },
   {
    "duration": 28973,
    "start_time": "2022-06-17T11:45:18.424Z"
   },
   {
    "duration": 292,
    "start_time": "2022-06-17T11:45:47.402Z"
   },
   {
    "duration": 12,
    "start_time": "2022-06-17T11:45:47.696Z"
   },
   {
    "duration": 4877,
    "start_time": "2022-06-17T11:45:47.709Z"
   },
   {
    "duration": 140,
    "start_time": "2022-06-17T11:45:52.594Z"
   },
   {
    "duration": 4,
    "start_time": "2022-06-17T11:45:52.735Z"
   },
   {
    "duration": 399,
    "start_time": "2022-06-17T11:45:52.741Z"
   },
   {
    "duration": 14,
    "start_time": "2022-06-17T11:45:53.141Z"
   },
   {
    "duration": 4,
    "start_time": "2022-06-17T11:45:53.156Z"
   },
   {
    "duration": 25554,
    "start_time": "2022-06-17T11:45:53.162Z"
   },
   {
    "duration": 62,
    "start_time": "2022-06-17T11:46:18.717Z"
   },
   {
    "duration": 5,
    "start_time": "2022-06-17T11:46:18.780Z"
   },
   {
    "duration": 26666,
    "start_time": "2022-06-17T11:46:18.786Z"
   },
   {
    "duration": 139,
    "start_time": "2022-06-17T11:46:45.453Z"
   },
   {
    "duration": 12,
    "start_time": "2022-06-17T11:46:45.594Z"
   },
   {
    "duration": 107712,
    "start_time": "2022-06-17T11:46:45.608Z"
   },
   {
    "duration": 619,
    "start_time": "2022-06-17T11:48:33.400Z"
   },
   {
    "duration": 7,
    "start_time": "2022-06-17T11:48:34.100Z"
   },
   {
    "duration": 19,
    "start_time": "2022-06-17T11:48:34.109Z"
   }
  ],
  "kernelspec": {
   "display_name": "Python 3",
   "language": "python",
   "name": "python3"
  },
  "language_info": {
   "codemirror_mode": {
    "name": "ipython",
    "version": 3
   },
   "file_extension": ".py",
   "mimetype": "text/x-python",
   "name": "python",
   "nbconvert_exporter": "python",
   "pygments_lexer": "ipython3",
   "version": "3.9.1"
  },
  "toc": {
   "base_numbering": 1,
   "nav_menu": {},
   "number_sections": false,
   "sideBar": true,
   "skip_h1_title": true,
   "title_cell": "Table of Contents",
   "title_sidebar": "Contents",
   "toc_cell": false,
   "toc_position": {},
   "toc_section_display": true,
   "toc_window_display": false
  }
 },
 "nbformat": 4,
 "nbformat_minor": 2
}
