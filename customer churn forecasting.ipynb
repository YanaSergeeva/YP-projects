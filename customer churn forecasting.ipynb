{
 "cells": [
  {
   "cell_type": "markdown",
   "metadata": {},
   "source": [
    "# Описание проекта\n",
    "### Телеком — задача проекта\n",
    "\n",
    "Оператор связи «Ниединогоразрыва.ком» хочет научиться прогнозировать отток клиентов. Если выяснится, что пользователь планирует уйти, ему будут предложены промокоды и специальные условия. Команда оператора собрала персональные данные о некоторых клиентах, информацию об их тарифах и договорах.\n",
    "\n",
    "### Описание услуг\n",
    "\n",
    "Оператор предоставляет два основных типа услуг: \n",
    "\n",
    "1. Стационарную телефонную связь. Возможно подключение телефонного аппарата к нескольким линиям одновременно.\n",
    "2. Интернет. Подключение может быть двух типов: через телефонную линию (DSL*,* от англ. *digital subscriber line*, «цифровая абонентская линия») или оптоволоконный кабель (*Fiber optic*).  \n",
    "\n",
    "Также доступны такие услуги:\n",
    "\n",
    "- Интернет-безопасность: антивирус (*DeviceProtection*) и блокировка небезопасных сайтов (*OnlineSecurity*);\n",
    "- Выделенная линия технической поддержки (*TechSupport*);\n",
    "- Облачное хранилище файлов для резервного копирования данных (*OnlineBackup*);\n",
    "- Стриминговое телевидение (*StreamingTV*) и каталог фильмов (*StreamingMovies*).\n",
    "\n",
    "За услуги клиенты могут платить каждый месяц или заключить договор на 1–2 года. Доступны различные способы расчёта и возможность получения электронного чека.\n",
    "\n",
    "### Описание данных\n",
    "\n",
    "Данные состоят из файлов, полученных из разных источников:\n",
    "\n",
    "- `contract.csv` — информация о договоре;\n",
    "- `personal.csv` — персональные данные клиента;\n",
    "- `internet.csv` — информация об интернет-услугах;\n",
    "- `phone.csv` — информация об услугах телефонии.\n",
    "\n",
    "Во всех файлах столбец `customerID` содержит код клиента.\n",
    "\n",
    "Информация о договорах актуальна на 1 февраля 2020."
   ]
  },
  {
   "cell_type": "markdown",
   "metadata": {},
   "source": [
    "## Изучение данных"
   ]
  },
  {
   "cell_type": "code",
   "execution_count": 1,
   "metadata": {},
   "outputs": [],
   "source": [
    "import pandas as pd\n",
    "import numpy as np \n",
    "import matplotlib.pyplot as plt\n",
    "import seaborn as sns\n",
    "\n",
    "\n",
    "from sklearn.model_selection import train_test_split, GridSearchCV\n",
    "from sklearn.metrics import roc_auc_score, roc_curve, accuracy_score\n",
    "from sklearn.utils import shuffle\n",
    "\n",
    "from sklearn.preprocessing import StandardScaler\n",
    "\n",
    "from sklearn.tree import DecisionTreeClassifier\n",
    "from sklearn.linear_model import LogisticRegression\n",
    "from sklearn.ensemble import RandomForestClassifier\n",
    "\n",
    "from catboost import CatBoostClassifier\n",
    "\n",
    "from collections import namedtuple"
   ]
  },
  {
   "cell_type": "code",
   "execution_count": 2,
   "metadata": {},
   "outputs": [],
   "source": [
    "df_contract = pd.read_csv('/datasets/final_provider/contract.csv')\n",
    "df_personal = pd.read_csv('/datasets/final_provider/personal.csv')\n",
    "df_internet = pd.read_csv('/datasets/final_provider/internet.csv')\n",
    "df_phone = pd.read_csv('/datasets/final_provider/phone.csv')"
   ]
  },
  {
   "cell_type": "code",
   "execution_count": 3,
   "metadata": {},
   "outputs": [],
   "source": [
    "def show_info(df):\n",
    "    rows, columns = df.shape\n",
    "    print('Количество строк:', rows)\n",
    "    print('Количество стобцов:', columns)\n",
    "    display(df.head(15))\n",
    "    display(df.info())\n",
    "    display(df.describe())\n",
    "    \n",
    "def show_rows(df):\n",
    "    for column in df.columns:\n",
    "        if column not in('BeginDate', 'EndDate','customerID'):\n",
    "            print('Уникальные значения столбца', column)\n",
    "            print(df[column].value_counts())\n",
    "            print()"
   ]
  },
  {
   "cell_type": "markdown",
   "metadata": {},
   "source": [
    "### Информация о договоре"
   ]
  },
  {
   "cell_type": "code",
   "execution_count": 4,
   "metadata": {},
   "outputs": [
    {
     "name": "stdout",
     "output_type": "stream",
     "text": [
      "Количество строк: 7043\n",
      "Количество стобцов: 8\n"
     ]
    },
    {
     "data": {
      "text/html": [
       "<div>\n",
       "<style scoped>\n",
       "    .dataframe tbody tr th:only-of-type {\n",
       "        vertical-align: middle;\n",
       "    }\n",
       "\n",
       "    .dataframe tbody tr th {\n",
       "        vertical-align: top;\n",
       "    }\n",
       "\n",
       "    .dataframe thead th {\n",
       "        text-align: right;\n",
       "    }\n",
       "</style>\n",
       "<table border=\"1\" class=\"dataframe\">\n",
       "  <thead>\n",
       "    <tr style=\"text-align: right;\">\n",
       "      <th></th>\n",
       "      <th>customerID</th>\n",
       "      <th>BeginDate</th>\n",
       "      <th>EndDate</th>\n",
       "      <th>Type</th>\n",
       "      <th>PaperlessBilling</th>\n",
       "      <th>PaymentMethod</th>\n",
       "      <th>MonthlyCharges</th>\n",
       "      <th>TotalCharges</th>\n",
       "    </tr>\n",
       "  </thead>\n",
       "  <tbody>\n",
       "    <tr>\n",
       "      <td>0</td>\n",
       "      <td>7590-VHVEG</td>\n",
       "      <td>2020-01-01</td>\n",
       "      <td>No</td>\n",
       "      <td>Month-to-month</td>\n",
       "      <td>Yes</td>\n",
       "      <td>Electronic check</td>\n",
       "      <td>29.85</td>\n",
       "      <td>29.85</td>\n",
       "    </tr>\n",
       "    <tr>\n",
       "      <td>1</td>\n",
       "      <td>5575-GNVDE</td>\n",
       "      <td>2017-04-01</td>\n",
       "      <td>No</td>\n",
       "      <td>One year</td>\n",
       "      <td>No</td>\n",
       "      <td>Mailed check</td>\n",
       "      <td>56.95</td>\n",
       "      <td>1889.5</td>\n",
       "    </tr>\n",
       "    <tr>\n",
       "      <td>2</td>\n",
       "      <td>3668-QPYBK</td>\n",
       "      <td>2019-10-01</td>\n",
       "      <td>2019-12-01 00:00:00</td>\n",
       "      <td>Month-to-month</td>\n",
       "      <td>Yes</td>\n",
       "      <td>Mailed check</td>\n",
       "      <td>53.85</td>\n",
       "      <td>108.15</td>\n",
       "    </tr>\n",
       "    <tr>\n",
       "      <td>3</td>\n",
       "      <td>7795-CFOCW</td>\n",
       "      <td>2016-05-01</td>\n",
       "      <td>No</td>\n",
       "      <td>One year</td>\n",
       "      <td>No</td>\n",
       "      <td>Bank transfer (automatic)</td>\n",
       "      <td>42.30</td>\n",
       "      <td>1840.75</td>\n",
       "    </tr>\n",
       "    <tr>\n",
       "      <td>4</td>\n",
       "      <td>9237-HQITU</td>\n",
       "      <td>2019-09-01</td>\n",
       "      <td>2019-11-01 00:00:00</td>\n",
       "      <td>Month-to-month</td>\n",
       "      <td>Yes</td>\n",
       "      <td>Electronic check</td>\n",
       "      <td>70.70</td>\n",
       "      <td>151.65</td>\n",
       "    </tr>\n",
       "    <tr>\n",
       "      <td>5</td>\n",
       "      <td>9305-CDSKC</td>\n",
       "      <td>2019-03-01</td>\n",
       "      <td>2019-11-01 00:00:00</td>\n",
       "      <td>Month-to-month</td>\n",
       "      <td>Yes</td>\n",
       "      <td>Electronic check</td>\n",
       "      <td>99.65</td>\n",
       "      <td>820.5</td>\n",
       "    </tr>\n",
       "    <tr>\n",
       "      <td>6</td>\n",
       "      <td>1452-KIOVK</td>\n",
       "      <td>2018-04-01</td>\n",
       "      <td>No</td>\n",
       "      <td>Month-to-month</td>\n",
       "      <td>Yes</td>\n",
       "      <td>Credit card (automatic)</td>\n",
       "      <td>89.10</td>\n",
       "      <td>1949.4</td>\n",
       "    </tr>\n",
       "    <tr>\n",
       "      <td>7</td>\n",
       "      <td>6713-OKOMC</td>\n",
       "      <td>2019-04-01</td>\n",
       "      <td>No</td>\n",
       "      <td>Month-to-month</td>\n",
       "      <td>No</td>\n",
       "      <td>Mailed check</td>\n",
       "      <td>29.75</td>\n",
       "      <td>301.9</td>\n",
       "    </tr>\n",
       "    <tr>\n",
       "      <td>8</td>\n",
       "      <td>7892-POOKP</td>\n",
       "      <td>2017-07-01</td>\n",
       "      <td>2019-11-01 00:00:00</td>\n",
       "      <td>Month-to-month</td>\n",
       "      <td>Yes</td>\n",
       "      <td>Electronic check</td>\n",
       "      <td>104.80</td>\n",
       "      <td>3046.05</td>\n",
       "    </tr>\n",
       "    <tr>\n",
       "      <td>9</td>\n",
       "      <td>6388-TABGU</td>\n",
       "      <td>2014-12-01</td>\n",
       "      <td>No</td>\n",
       "      <td>One year</td>\n",
       "      <td>No</td>\n",
       "      <td>Bank transfer (automatic)</td>\n",
       "      <td>56.15</td>\n",
       "      <td>3487.95</td>\n",
       "    </tr>\n",
       "    <tr>\n",
       "      <td>10</td>\n",
       "      <td>9763-GRSKD</td>\n",
       "      <td>2019-01-01</td>\n",
       "      <td>No</td>\n",
       "      <td>Month-to-month</td>\n",
       "      <td>Yes</td>\n",
       "      <td>Mailed check</td>\n",
       "      <td>49.95</td>\n",
       "      <td>587.45</td>\n",
       "    </tr>\n",
       "    <tr>\n",
       "      <td>11</td>\n",
       "      <td>7469-LKBCI</td>\n",
       "      <td>2018-10-01</td>\n",
       "      <td>No</td>\n",
       "      <td>Two year</td>\n",
       "      <td>No</td>\n",
       "      <td>Credit card (automatic)</td>\n",
       "      <td>18.95</td>\n",
       "      <td>326.8</td>\n",
       "    </tr>\n",
       "    <tr>\n",
       "      <td>12</td>\n",
       "      <td>8091-TTVAX</td>\n",
       "      <td>2015-04-01</td>\n",
       "      <td>No</td>\n",
       "      <td>One year</td>\n",
       "      <td>No</td>\n",
       "      <td>Credit card (automatic)</td>\n",
       "      <td>100.35</td>\n",
       "      <td>5681.1</td>\n",
       "    </tr>\n",
       "    <tr>\n",
       "      <td>13</td>\n",
       "      <td>0280-XJGEX</td>\n",
       "      <td>2015-09-01</td>\n",
       "      <td>2019-10-01 00:00:00</td>\n",
       "      <td>Month-to-month</td>\n",
       "      <td>Yes</td>\n",
       "      <td>Bank transfer (automatic)</td>\n",
       "      <td>103.70</td>\n",
       "      <td>5036.3</td>\n",
       "    </tr>\n",
       "    <tr>\n",
       "      <td>14</td>\n",
       "      <td>5129-JLPIS</td>\n",
       "      <td>2018-01-01</td>\n",
       "      <td>No</td>\n",
       "      <td>Month-to-month</td>\n",
       "      <td>Yes</td>\n",
       "      <td>Electronic check</td>\n",
       "      <td>105.50</td>\n",
       "      <td>2686.05</td>\n",
       "    </tr>\n",
       "  </tbody>\n",
       "</table>\n",
       "</div>"
      ],
      "text/plain": [
       "    customerID   BeginDate              EndDate            Type  \\\n",
       "0   7590-VHVEG  2020-01-01                   No  Month-to-month   \n",
       "1   5575-GNVDE  2017-04-01                   No        One year   \n",
       "2   3668-QPYBK  2019-10-01  2019-12-01 00:00:00  Month-to-month   \n",
       "3   7795-CFOCW  2016-05-01                   No        One year   \n",
       "4   9237-HQITU  2019-09-01  2019-11-01 00:00:00  Month-to-month   \n",
       "5   9305-CDSKC  2019-03-01  2019-11-01 00:00:00  Month-to-month   \n",
       "6   1452-KIOVK  2018-04-01                   No  Month-to-month   \n",
       "7   6713-OKOMC  2019-04-01                   No  Month-to-month   \n",
       "8   7892-POOKP  2017-07-01  2019-11-01 00:00:00  Month-to-month   \n",
       "9   6388-TABGU  2014-12-01                   No        One year   \n",
       "10  9763-GRSKD  2019-01-01                   No  Month-to-month   \n",
       "11  7469-LKBCI  2018-10-01                   No        Two year   \n",
       "12  8091-TTVAX  2015-04-01                   No        One year   \n",
       "13  0280-XJGEX  2015-09-01  2019-10-01 00:00:00  Month-to-month   \n",
       "14  5129-JLPIS  2018-01-01                   No  Month-to-month   \n",
       "\n",
       "   PaperlessBilling              PaymentMethod  MonthlyCharges TotalCharges  \n",
       "0               Yes           Electronic check           29.85        29.85  \n",
       "1                No               Mailed check           56.95       1889.5  \n",
       "2               Yes               Mailed check           53.85       108.15  \n",
       "3                No  Bank transfer (automatic)           42.30      1840.75  \n",
       "4               Yes           Electronic check           70.70       151.65  \n",
       "5               Yes           Electronic check           99.65        820.5  \n",
       "6               Yes    Credit card (automatic)           89.10       1949.4  \n",
       "7                No               Mailed check           29.75        301.9  \n",
       "8               Yes           Electronic check          104.80      3046.05  \n",
       "9                No  Bank transfer (automatic)           56.15      3487.95  \n",
       "10              Yes               Mailed check           49.95       587.45  \n",
       "11               No    Credit card (automatic)           18.95        326.8  \n",
       "12               No    Credit card (automatic)          100.35       5681.1  \n",
       "13              Yes  Bank transfer (automatic)          103.70       5036.3  \n",
       "14              Yes           Electronic check          105.50      2686.05  "
      ]
     },
     "metadata": {},
     "output_type": "display_data"
    },
    {
     "name": "stdout",
     "output_type": "stream",
     "text": [
      "<class 'pandas.core.frame.DataFrame'>\n",
      "RangeIndex: 7043 entries, 0 to 7042\n",
      "Data columns (total 8 columns):\n",
      "customerID          7043 non-null object\n",
      "BeginDate           7043 non-null object\n",
      "EndDate             7043 non-null object\n",
      "Type                7043 non-null object\n",
      "PaperlessBilling    7043 non-null object\n",
      "PaymentMethod       7043 non-null object\n",
      "MonthlyCharges      7043 non-null float64\n",
      "TotalCharges        7043 non-null object\n",
      "dtypes: float64(1), object(7)\n",
      "memory usage: 440.3+ KB\n"
     ]
    },
    {
     "data": {
      "text/plain": [
       "None"
      ]
     },
     "metadata": {},
     "output_type": "display_data"
    },
    {
     "data": {
      "text/html": [
       "<div>\n",
       "<style scoped>\n",
       "    .dataframe tbody tr th:only-of-type {\n",
       "        vertical-align: middle;\n",
       "    }\n",
       "\n",
       "    .dataframe tbody tr th {\n",
       "        vertical-align: top;\n",
       "    }\n",
       "\n",
       "    .dataframe thead th {\n",
       "        text-align: right;\n",
       "    }\n",
       "</style>\n",
       "<table border=\"1\" class=\"dataframe\">\n",
       "  <thead>\n",
       "    <tr style=\"text-align: right;\">\n",
       "      <th></th>\n",
       "      <th>MonthlyCharges</th>\n",
       "    </tr>\n",
       "  </thead>\n",
       "  <tbody>\n",
       "    <tr>\n",
       "      <td>count</td>\n",
       "      <td>7043.000000</td>\n",
       "    </tr>\n",
       "    <tr>\n",
       "      <td>mean</td>\n",
       "      <td>64.761692</td>\n",
       "    </tr>\n",
       "    <tr>\n",
       "      <td>std</td>\n",
       "      <td>30.090047</td>\n",
       "    </tr>\n",
       "    <tr>\n",
       "      <td>min</td>\n",
       "      <td>18.250000</td>\n",
       "    </tr>\n",
       "    <tr>\n",
       "      <td>25%</td>\n",
       "      <td>35.500000</td>\n",
       "    </tr>\n",
       "    <tr>\n",
       "      <td>50%</td>\n",
       "      <td>70.350000</td>\n",
       "    </tr>\n",
       "    <tr>\n",
       "      <td>75%</td>\n",
       "      <td>89.850000</td>\n",
       "    </tr>\n",
       "    <tr>\n",
       "      <td>max</td>\n",
       "      <td>118.750000</td>\n",
       "    </tr>\n",
       "  </tbody>\n",
       "</table>\n",
       "</div>"
      ],
      "text/plain": [
       "       MonthlyCharges\n",
       "count     7043.000000\n",
       "mean        64.761692\n",
       "std         30.090047\n",
       "min         18.250000\n",
       "25%         35.500000\n",
       "50%         70.350000\n",
       "75%         89.850000\n",
       "max        118.750000"
      ]
     },
     "metadata": {},
     "output_type": "display_data"
    }
   ],
   "source": [
    "show_info(df_contract)"
   ]
  },
  {
   "cell_type": "code",
   "execution_count": 5,
   "metadata": {},
   "outputs": [
    {
     "name": "stdout",
     "output_type": "stream",
     "text": [
      "Уникальные значения столбца Type\n",
      "Month-to-month    3875\n",
      "Two year          1695\n",
      "One year          1473\n",
      "Name: Type, dtype: int64\n",
      "\n",
      "Уникальные значения столбца PaperlessBilling\n",
      "Yes    4171\n",
      "No     2872\n",
      "Name: PaperlessBilling, dtype: int64\n",
      "\n",
      "Уникальные значения столбца PaymentMethod\n",
      "Electronic check             2365\n",
      "Mailed check                 1612\n",
      "Bank transfer (automatic)    1544\n",
      "Credit card (automatic)      1522\n",
      "Name: PaymentMethod, dtype: int64\n",
      "\n",
      "Уникальные значения столбца MonthlyCharges\n",
      "20.05     61\n",
      "19.85     45\n",
      "19.95     44\n",
      "19.90     44\n",
      "20.00     43\n",
      "          ..\n",
      "114.75     1\n",
      "103.60     1\n",
      "113.40     1\n",
      "57.65      1\n",
      "113.30     1\n",
      "Name: MonthlyCharges, Length: 1585, dtype: int64\n",
      "\n",
      "Уникальные значения столбца TotalCharges\n",
      "           11\n",
      "20.2       11\n",
      "19.75       9\n",
      "19.65       8\n",
      "19.9        8\n",
      "           ..\n",
      "5867        1\n",
      "5883.85     1\n",
      "4068        1\n",
      "3414.65     1\n",
      "6287.25     1\n",
      "Name: TotalCharges, Length: 6531, dtype: int64\n",
      "\n"
     ]
    }
   ],
   "source": [
    "show_rows(df_contract)"
   ]
  },
  {
   "cell_type": "markdown",
   "metadata": {},
   "source": [
    "### Персональные данные клиента"
   ]
  },
  {
   "cell_type": "code",
   "execution_count": 6,
   "metadata": {},
   "outputs": [
    {
     "name": "stdout",
     "output_type": "stream",
     "text": [
      "Количество строк: 7043\n",
      "Количество стобцов: 5\n"
     ]
    },
    {
     "data": {
      "text/html": [
       "<div>\n",
       "<style scoped>\n",
       "    .dataframe tbody tr th:only-of-type {\n",
       "        vertical-align: middle;\n",
       "    }\n",
       "\n",
       "    .dataframe tbody tr th {\n",
       "        vertical-align: top;\n",
       "    }\n",
       "\n",
       "    .dataframe thead th {\n",
       "        text-align: right;\n",
       "    }\n",
       "</style>\n",
       "<table border=\"1\" class=\"dataframe\">\n",
       "  <thead>\n",
       "    <tr style=\"text-align: right;\">\n",
       "      <th></th>\n",
       "      <th>customerID</th>\n",
       "      <th>gender</th>\n",
       "      <th>SeniorCitizen</th>\n",
       "      <th>Partner</th>\n",
       "      <th>Dependents</th>\n",
       "    </tr>\n",
       "  </thead>\n",
       "  <tbody>\n",
       "    <tr>\n",
       "      <td>0</td>\n",
       "      <td>7590-VHVEG</td>\n",
       "      <td>Female</td>\n",
       "      <td>0</td>\n",
       "      <td>Yes</td>\n",
       "      <td>No</td>\n",
       "    </tr>\n",
       "    <tr>\n",
       "      <td>1</td>\n",
       "      <td>5575-GNVDE</td>\n",
       "      <td>Male</td>\n",
       "      <td>0</td>\n",
       "      <td>No</td>\n",
       "      <td>No</td>\n",
       "    </tr>\n",
       "    <tr>\n",
       "      <td>2</td>\n",
       "      <td>3668-QPYBK</td>\n",
       "      <td>Male</td>\n",
       "      <td>0</td>\n",
       "      <td>No</td>\n",
       "      <td>No</td>\n",
       "    </tr>\n",
       "    <tr>\n",
       "      <td>3</td>\n",
       "      <td>7795-CFOCW</td>\n",
       "      <td>Male</td>\n",
       "      <td>0</td>\n",
       "      <td>No</td>\n",
       "      <td>No</td>\n",
       "    </tr>\n",
       "    <tr>\n",
       "      <td>4</td>\n",
       "      <td>9237-HQITU</td>\n",
       "      <td>Female</td>\n",
       "      <td>0</td>\n",
       "      <td>No</td>\n",
       "      <td>No</td>\n",
       "    </tr>\n",
       "    <tr>\n",
       "      <td>5</td>\n",
       "      <td>9305-CDSKC</td>\n",
       "      <td>Female</td>\n",
       "      <td>0</td>\n",
       "      <td>No</td>\n",
       "      <td>No</td>\n",
       "    </tr>\n",
       "    <tr>\n",
       "      <td>6</td>\n",
       "      <td>1452-KIOVK</td>\n",
       "      <td>Male</td>\n",
       "      <td>0</td>\n",
       "      <td>No</td>\n",
       "      <td>Yes</td>\n",
       "    </tr>\n",
       "    <tr>\n",
       "      <td>7</td>\n",
       "      <td>6713-OKOMC</td>\n",
       "      <td>Female</td>\n",
       "      <td>0</td>\n",
       "      <td>No</td>\n",
       "      <td>No</td>\n",
       "    </tr>\n",
       "    <tr>\n",
       "      <td>8</td>\n",
       "      <td>7892-POOKP</td>\n",
       "      <td>Female</td>\n",
       "      <td>0</td>\n",
       "      <td>Yes</td>\n",
       "      <td>No</td>\n",
       "    </tr>\n",
       "    <tr>\n",
       "      <td>9</td>\n",
       "      <td>6388-TABGU</td>\n",
       "      <td>Male</td>\n",
       "      <td>0</td>\n",
       "      <td>No</td>\n",
       "      <td>Yes</td>\n",
       "    </tr>\n",
       "    <tr>\n",
       "      <td>10</td>\n",
       "      <td>9763-GRSKD</td>\n",
       "      <td>Male</td>\n",
       "      <td>0</td>\n",
       "      <td>Yes</td>\n",
       "      <td>Yes</td>\n",
       "    </tr>\n",
       "    <tr>\n",
       "      <td>11</td>\n",
       "      <td>7469-LKBCI</td>\n",
       "      <td>Male</td>\n",
       "      <td>0</td>\n",
       "      <td>No</td>\n",
       "      <td>No</td>\n",
       "    </tr>\n",
       "    <tr>\n",
       "      <td>12</td>\n",
       "      <td>8091-TTVAX</td>\n",
       "      <td>Male</td>\n",
       "      <td>0</td>\n",
       "      <td>Yes</td>\n",
       "      <td>No</td>\n",
       "    </tr>\n",
       "    <tr>\n",
       "      <td>13</td>\n",
       "      <td>0280-XJGEX</td>\n",
       "      <td>Male</td>\n",
       "      <td>0</td>\n",
       "      <td>No</td>\n",
       "      <td>No</td>\n",
       "    </tr>\n",
       "    <tr>\n",
       "      <td>14</td>\n",
       "      <td>5129-JLPIS</td>\n",
       "      <td>Male</td>\n",
       "      <td>0</td>\n",
       "      <td>No</td>\n",
       "      <td>No</td>\n",
       "    </tr>\n",
       "  </tbody>\n",
       "</table>\n",
       "</div>"
      ],
      "text/plain": [
       "    customerID  gender  SeniorCitizen Partner Dependents\n",
       "0   7590-VHVEG  Female              0     Yes         No\n",
       "1   5575-GNVDE    Male              0      No         No\n",
       "2   3668-QPYBK    Male              0      No         No\n",
       "3   7795-CFOCW    Male              0      No         No\n",
       "4   9237-HQITU  Female              0      No         No\n",
       "5   9305-CDSKC  Female              0      No         No\n",
       "6   1452-KIOVK    Male              0      No        Yes\n",
       "7   6713-OKOMC  Female              0      No         No\n",
       "8   7892-POOKP  Female              0     Yes         No\n",
       "9   6388-TABGU    Male              0      No        Yes\n",
       "10  9763-GRSKD    Male              0     Yes        Yes\n",
       "11  7469-LKBCI    Male              0      No         No\n",
       "12  8091-TTVAX    Male              0     Yes         No\n",
       "13  0280-XJGEX    Male              0      No         No\n",
       "14  5129-JLPIS    Male              0      No         No"
      ]
     },
     "metadata": {},
     "output_type": "display_data"
    },
    {
     "name": "stdout",
     "output_type": "stream",
     "text": [
      "<class 'pandas.core.frame.DataFrame'>\n",
      "RangeIndex: 7043 entries, 0 to 7042\n",
      "Data columns (total 5 columns):\n",
      "customerID       7043 non-null object\n",
      "gender           7043 non-null object\n",
      "SeniorCitizen    7043 non-null int64\n",
      "Partner          7043 non-null object\n",
      "Dependents       7043 non-null object\n",
      "dtypes: int64(1), object(4)\n",
      "memory usage: 275.2+ KB\n"
     ]
    },
    {
     "data": {
      "text/plain": [
       "None"
      ]
     },
     "metadata": {},
     "output_type": "display_data"
    },
    {
     "data": {
      "text/html": [
       "<div>\n",
       "<style scoped>\n",
       "    .dataframe tbody tr th:only-of-type {\n",
       "        vertical-align: middle;\n",
       "    }\n",
       "\n",
       "    .dataframe tbody tr th {\n",
       "        vertical-align: top;\n",
       "    }\n",
       "\n",
       "    .dataframe thead th {\n",
       "        text-align: right;\n",
       "    }\n",
       "</style>\n",
       "<table border=\"1\" class=\"dataframe\">\n",
       "  <thead>\n",
       "    <tr style=\"text-align: right;\">\n",
       "      <th></th>\n",
       "      <th>SeniorCitizen</th>\n",
       "    </tr>\n",
       "  </thead>\n",
       "  <tbody>\n",
       "    <tr>\n",
       "      <td>count</td>\n",
       "      <td>7043.000000</td>\n",
       "    </tr>\n",
       "    <tr>\n",
       "      <td>mean</td>\n",
       "      <td>0.162147</td>\n",
       "    </tr>\n",
       "    <tr>\n",
       "      <td>std</td>\n",
       "      <td>0.368612</td>\n",
       "    </tr>\n",
       "    <tr>\n",
       "      <td>min</td>\n",
       "      <td>0.000000</td>\n",
       "    </tr>\n",
       "    <tr>\n",
       "      <td>25%</td>\n",
       "      <td>0.000000</td>\n",
       "    </tr>\n",
       "    <tr>\n",
       "      <td>50%</td>\n",
       "      <td>0.000000</td>\n",
       "    </tr>\n",
       "    <tr>\n",
       "      <td>75%</td>\n",
       "      <td>0.000000</td>\n",
       "    </tr>\n",
       "    <tr>\n",
       "      <td>max</td>\n",
       "      <td>1.000000</td>\n",
       "    </tr>\n",
       "  </tbody>\n",
       "</table>\n",
       "</div>"
      ],
      "text/plain": [
       "       SeniorCitizen\n",
       "count    7043.000000\n",
       "mean        0.162147\n",
       "std         0.368612\n",
       "min         0.000000\n",
       "25%         0.000000\n",
       "50%         0.000000\n",
       "75%         0.000000\n",
       "max         1.000000"
      ]
     },
     "metadata": {},
     "output_type": "display_data"
    }
   ],
   "source": [
    "show_info(df_personal)"
   ]
  },
  {
   "cell_type": "code",
   "execution_count": 7,
   "metadata": {},
   "outputs": [
    {
     "name": "stdout",
     "output_type": "stream",
     "text": [
      "Уникальные значения столбца gender\n",
      "Male      3555\n",
      "Female    3488\n",
      "Name: gender, dtype: int64\n",
      "\n",
      "Уникальные значения столбца SeniorCitizen\n",
      "0    5901\n",
      "1    1142\n",
      "Name: SeniorCitizen, dtype: int64\n",
      "\n",
      "Уникальные значения столбца Partner\n",
      "No     3641\n",
      "Yes    3402\n",
      "Name: Partner, dtype: int64\n",
      "\n",
      "Уникальные значения столбца Dependents\n",
      "No     4933\n",
      "Yes    2110\n",
      "Name: Dependents, dtype: int64\n",
      "\n"
     ]
    }
   ],
   "source": [
    "show_rows(df_personal)"
   ]
  },
  {
   "cell_type": "markdown",
   "metadata": {},
   "source": [
    "###  Информация об интернет-услугах"
   ]
  },
  {
   "cell_type": "code",
   "execution_count": 8,
   "metadata": {},
   "outputs": [
    {
     "name": "stdout",
     "output_type": "stream",
     "text": [
      "Количество строк: 5517\n",
      "Количество стобцов: 8\n"
     ]
    },
    {
     "data": {
      "text/html": [
       "<div>\n",
       "<style scoped>\n",
       "    .dataframe tbody tr th:only-of-type {\n",
       "        vertical-align: middle;\n",
       "    }\n",
       "\n",
       "    .dataframe tbody tr th {\n",
       "        vertical-align: top;\n",
       "    }\n",
       "\n",
       "    .dataframe thead th {\n",
       "        text-align: right;\n",
       "    }\n",
       "</style>\n",
       "<table border=\"1\" class=\"dataframe\">\n",
       "  <thead>\n",
       "    <tr style=\"text-align: right;\">\n",
       "      <th></th>\n",
       "      <th>customerID</th>\n",
       "      <th>InternetService</th>\n",
       "      <th>OnlineSecurity</th>\n",
       "      <th>OnlineBackup</th>\n",
       "      <th>DeviceProtection</th>\n",
       "      <th>TechSupport</th>\n",
       "      <th>StreamingTV</th>\n",
       "      <th>StreamingMovies</th>\n",
       "    </tr>\n",
       "  </thead>\n",
       "  <tbody>\n",
       "    <tr>\n",
       "      <td>0</td>\n",
       "      <td>7590-VHVEG</td>\n",
       "      <td>DSL</td>\n",
       "      <td>No</td>\n",
       "      <td>Yes</td>\n",
       "      <td>No</td>\n",
       "      <td>No</td>\n",
       "      <td>No</td>\n",
       "      <td>No</td>\n",
       "    </tr>\n",
       "    <tr>\n",
       "      <td>1</td>\n",
       "      <td>5575-GNVDE</td>\n",
       "      <td>DSL</td>\n",
       "      <td>Yes</td>\n",
       "      <td>No</td>\n",
       "      <td>Yes</td>\n",
       "      <td>No</td>\n",
       "      <td>No</td>\n",
       "      <td>No</td>\n",
       "    </tr>\n",
       "    <tr>\n",
       "      <td>2</td>\n",
       "      <td>3668-QPYBK</td>\n",
       "      <td>DSL</td>\n",
       "      <td>Yes</td>\n",
       "      <td>Yes</td>\n",
       "      <td>No</td>\n",
       "      <td>No</td>\n",
       "      <td>No</td>\n",
       "      <td>No</td>\n",
       "    </tr>\n",
       "    <tr>\n",
       "      <td>3</td>\n",
       "      <td>7795-CFOCW</td>\n",
       "      <td>DSL</td>\n",
       "      <td>Yes</td>\n",
       "      <td>No</td>\n",
       "      <td>Yes</td>\n",
       "      <td>Yes</td>\n",
       "      <td>No</td>\n",
       "      <td>No</td>\n",
       "    </tr>\n",
       "    <tr>\n",
       "      <td>4</td>\n",
       "      <td>9237-HQITU</td>\n",
       "      <td>Fiber optic</td>\n",
       "      <td>No</td>\n",
       "      <td>No</td>\n",
       "      <td>No</td>\n",
       "      <td>No</td>\n",
       "      <td>No</td>\n",
       "      <td>No</td>\n",
       "    </tr>\n",
       "    <tr>\n",
       "      <td>5</td>\n",
       "      <td>9305-CDSKC</td>\n",
       "      <td>Fiber optic</td>\n",
       "      <td>No</td>\n",
       "      <td>No</td>\n",
       "      <td>Yes</td>\n",
       "      <td>No</td>\n",
       "      <td>Yes</td>\n",
       "      <td>Yes</td>\n",
       "    </tr>\n",
       "    <tr>\n",
       "      <td>6</td>\n",
       "      <td>1452-KIOVK</td>\n",
       "      <td>Fiber optic</td>\n",
       "      <td>No</td>\n",
       "      <td>Yes</td>\n",
       "      <td>No</td>\n",
       "      <td>No</td>\n",
       "      <td>Yes</td>\n",
       "      <td>No</td>\n",
       "    </tr>\n",
       "    <tr>\n",
       "      <td>7</td>\n",
       "      <td>6713-OKOMC</td>\n",
       "      <td>DSL</td>\n",
       "      <td>Yes</td>\n",
       "      <td>No</td>\n",
       "      <td>No</td>\n",
       "      <td>No</td>\n",
       "      <td>No</td>\n",
       "      <td>No</td>\n",
       "    </tr>\n",
       "    <tr>\n",
       "      <td>8</td>\n",
       "      <td>7892-POOKP</td>\n",
       "      <td>Fiber optic</td>\n",
       "      <td>No</td>\n",
       "      <td>No</td>\n",
       "      <td>Yes</td>\n",
       "      <td>Yes</td>\n",
       "      <td>Yes</td>\n",
       "      <td>Yes</td>\n",
       "    </tr>\n",
       "    <tr>\n",
       "      <td>9</td>\n",
       "      <td>6388-TABGU</td>\n",
       "      <td>DSL</td>\n",
       "      <td>Yes</td>\n",
       "      <td>Yes</td>\n",
       "      <td>No</td>\n",
       "      <td>No</td>\n",
       "      <td>No</td>\n",
       "      <td>No</td>\n",
       "    </tr>\n",
       "    <tr>\n",
       "      <td>10</td>\n",
       "      <td>9763-GRSKD</td>\n",
       "      <td>DSL</td>\n",
       "      <td>Yes</td>\n",
       "      <td>No</td>\n",
       "      <td>No</td>\n",
       "      <td>No</td>\n",
       "      <td>No</td>\n",
       "      <td>No</td>\n",
       "    </tr>\n",
       "    <tr>\n",
       "      <td>11</td>\n",
       "      <td>8091-TTVAX</td>\n",
       "      <td>Fiber optic</td>\n",
       "      <td>No</td>\n",
       "      <td>No</td>\n",
       "      <td>Yes</td>\n",
       "      <td>No</td>\n",
       "      <td>Yes</td>\n",
       "      <td>Yes</td>\n",
       "    </tr>\n",
       "    <tr>\n",
       "      <td>12</td>\n",
       "      <td>0280-XJGEX</td>\n",
       "      <td>Fiber optic</td>\n",
       "      <td>No</td>\n",
       "      <td>Yes</td>\n",
       "      <td>Yes</td>\n",
       "      <td>No</td>\n",
       "      <td>Yes</td>\n",
       "      <td>Yes</td>\n",
       "    </tr>\n",
       "    <tr>\n",
       "      <td>13</td>\n",
       "      <td>5129-JLPIS</td>\n",
       "      <td>Fiber optic</td>\n",
       "      <td>Yes</td>\n",
       "      <td>No</td>\n",
       "      <td>Yes</td>\n",
       "      <td>Yes</td>\n",
       "      <td>Yes</td>\n",
       "      <td>Yes</td>\n",
       "    </tr>\n",
       "    <tr>\n",
       "      <td>14</td>\n",
       "      <td>3655-SNQYZ</td>\n",
       "      <td>Fiber optic</td>\n",
       "      <td>Yes</td>\n",
       "      <td>Yes</td>\n",
       "      <td>Yes</td>\n",
       "      <td>Yes</td>\n",
       "      <td>Yes</td>\n",
       "      <td>Yes</td>\n",
       "    </tr>\n",
       "  </tbody>\n",
       "</table>\n",
       "</div>"
      ],
      "text/plain": [
       "    customerID InternetService OnlineSecurity OnlineBackup DeviceProtection  \\\n",
       "0   7590-VHVEG             DSL             No          Yes               No   \n",
       "1   5575-GNVDE             DSL            Yes           No              Yes   \n",
       "2   3668-QPYBK             DSL            Yes          Yes               No   \n",
       "3   7795-CFOCW             DSL            Yes           No              Yes   \n",
       "4   9237-HQITU     Fiber optic             No           No               No   \n",
       "5   9305-CDSKC     Fiber optic             No           No              Yes   \n",
       "6   1452-KIOVK     Fiber optic             No          Yes               No   \n",
       "7   6713-OKOMC             DSL            Yes           No               No   \n",
       "8   7892-POOKP     Fiber optic             No           No              Yes   \n",
       "9   6388-TABGU             DSL            Yes          Yes               No   \n",
       "10  9763-GRSKD             DSL            Yes           No               No   \n",
       "11  8091-TTVAX     Fiber optic             No           No              Yes   \n",
       "12  0280-XJGEX     Fiber optic             No          Yes              Yes   \n",
       "13  5129-JLPIS     Fiber optic            Yes           No              Yes   \n",
       "14  3655-SNQYZ     Fiber optic            Yes          Yes              Yes   \n",
       "\n",
       "   TechSupport StreamingTV StreamingMovies  \n",
       "0           No          No              No  \n",
       "1           No          No              No  \n",
       "2           No          No              No  \n",
       "3          Yes          No              No  \n",
       "4           No          No              No  \n",
       "5           No         Yes             Yes  \n",
       "6           No         Yes              No  \n",
       "7           No          No              No  \n",
       "8          Yes         Yes             Yes  \n",
       "9           No          No              No  \n",
       "10          No          No              No  \n",
       "11          No         Yes             Yes  \n",
       "12          No         Yes             Yes  \n",
       "13         Yes         Yes             Yes  \n",
       "14         Yes         Yes             Yes  "
      ]
     },
     "metadata": {},
     "output_type": "display_data"
    },
    {
     "name": "stdout",
     "output_type": "stream",
     "text": [
      "<class 'pandas.core.frame.DataFrame'>\n",
      "RangeIndex: 5517 entries, 0 to 5516\n",
      "Data columns (total 8 columns):\n",
      "customerID          5517 non-null object\n",
      "InternetService     5517 non-null object\n",
      "OnlineSecurity      5517 non-null object\n",
      "OnlineBackup        5517 non-null object\n",
      "DeviceProtection    5517 non-null object\n",
      "TechSupport         5517 non-null object\n",
      "StreamingTV         5517 non-null object\n",
      "StreamingMovies     5517 non-null object\n",
      "dtypes: object(8)\n",
      "memory usage: 344.9+ KB\n"
     ]
    },
    {
     "data": {
      "text/plain": [
       "None"
      ]
     },
     "metadata": {},
     "output_type": "display_data"
    },
    {
     "data": {
      "text/html": [
       "<div>\n",
       "<style scoped>\n",
       "    .dataframe tbody tr th:only-of-type {\n",
       "        vertical-align: middle;\n",
       "    }\n",
       "\n",
       "    .dataframe tbody tr th {\n",
       "        vertical-align: top;\n",
       "    }\n",
       "\n",
       "    .dataframe thead th {\n",
       "        text-align: right;\n",
       "    }\n",
       "</style>\n",
       "<table border=\"1\" class=\"dataframe\">\n",
       "  <thead>\n",
       "    <tr style=\"text-align: right;\">\n",
       "      <th></th>\n",
       "      <th>customerID</th>\n",
       "      <th>InternetService</th>\n",
       "      <th>OnlineSecurity</th>\n",
       "      <th>OnlineBackup</th>\n",
       "      <th>DeviceProtection</th>\n",
       "      <th>TechSupport</th>\n",
       "      <th>StreamingTV</th>\n",
       "      <th>StreamingMovies</th>\n",
       "    </tr>\n",
       "  </thead>\n",
       "  <tbody>\n",
       "    <tr>\n",
       "      <td>count</td>\n",
       "      <td>5517</td>\n",
       "      <td>5517</td>\n",
       "      <td>5517</td>\n",
       "      <td>5517</td>\n",
       "      <td>5517</td>\n",
       "      <td>5517</td>\n",
       "      <td>5517</td>\n",
       "      <td>5517</td>\n",
       "    </tr>\n",
       "    <tr>\n",
       "      <td>unique</td>\n",
       "      <td>5517</td>\n",
       "      <td>2</td>\n",
       "      <td>2</td>\n",
       "      <td>2</td>\n",
       "      <td>2</td>\n",
       "      <td>2</td>\n",
       "      <td>2</td>\n",
       "      <td>2</td>\n",
       "    </tr>\n",
       "    <tr>\n",
       "      <td>top</td>\n",
       "      <td>4548-SDBKE</td>\n",
       "      <td>Fiber optic</td>\n",
       "      <td>No</td>\n",
       "      <td>No</td>\n",
       "      <td>No</td>\n",
       "      <td>No</td>\n",
       "      <td>No</td>\n",
       "      <td>No</td>\n",
       "    </tr>\n",
       "    <tr>\n",
       "      <td>freq</td>\n",
       "      <td>1</td>\n",
       "      <td>3096</td>\n",
       "      <td>3498</td>\n",
       "      <td>3088</td>\n",
       "      <td>3095</td>\n",
       "      <td>3473</td>\n",
       "      <td>2810</td>\n",
       "      <td>2785</td>\n",
       "    </tr>\n",
       "  </tbody>\n",
       "</table>\n",
       "</div>"
      ],
      "text/plain": [
       "        customerID InternetService OnlineSecurity OnlineBackup  \\\n",
       "count         5517            5517           5517         5517   \n",
       "unique        5517               2              2            2   \n",
       "top     4548-SDBKE     Fiber optic             No           No   \n",
       "freq             1            3096           3498         3088   \n",
       "\n",
       "       DeviceProtection TechSupport StreamingTV StreamingMovies  \n",
       "count              5517        5517        5517            5517  \n",
       "unique                2           2           2               2  \n",
       "top                  No          No          No              No  \n",
       "freq               3095        3473        2810            2785  "
      ]
     },
     "metadata": {},
     "output_type": "display_data"
    }
   ],
   "source": [
    "show_info(df_internet)"
   ]
  },
  {
   "cell_type": "code",
   "execution_count": 9,
   "metadata": {},
   "outputs": [
    {
     "name": "stdout",
     "output_type": "stream",
     "text": [
      "Уникальные значения столбца InternetService\n",
      "Fiber optic    3096\n",
      "DSL            2421\n",
      "Name: InternetService, dtype: int64\n",
      "\n",
      "Уникальные значения столбца OnlineSecurity\n",
      "No     3498\n",
      "Yes    2019\n",
      "Name: OnlineSecurity, dtype: int64\n",
      "\n",
      "Уникальные значения столбца OnlineBackup\n",
      "No     3088\n",
      "Yes    2429\n",
      "Name: OnlineBackup, dtype: int64\n",
      "\n",
      "Уникальные значения столбца DeviceProtection\n",
      "No     3095\n",
      "Yes    2422\n",
      "Name: DeviceProtection, dtype: int64\n",
      "\n",
      "Уникальные значения столбца TechSupport\n",
      "No     3473\n",
      "Yes    2044\n",
      "Name: TechSupport, dtype: int64\n",
      "\n",
      "Уникальные значения столбца StreamingTV\n",
      "No     2810\n",
      "Yes    2707\n",
      "Name: StreamingTV, dtype: int64\n",
      "\n",
      "Уникальные значения столбца StreamingMovies\n",
      "No     2785\n",
      "Yes    2732\n",
      "Name: StreamingMovies, dtype: int64\n",
      "\n"
     ]
    }
   ],
   "source": [
    "show_rows(df_internet)"
   ]
  },
  {
   "cell_type": "markdown",
   "metadata": {},
   "source": [
    "### Информация об услугах телефонии"
   ]
  },
  {
   "cell_type": "code",
   "execution_count": 10,
   "metadata": {},
   "outputs": [
    {
     "name": "stdout",
     "output_type": "stream",
     "text": [
      "Количество строк: 6361\n",
      "Количество стобцов: 2\n"
     ]
    },
    {
     "data": {
      "text/html": [
       "<div>\n",
       "<style scoped>\n",
       "    .dataframe tbody tr th:only-of-type {\n",
       "        vertical-align: middle;\n",
       "    }\n",
       "\n",
       "    .dataframe tbody tr th {\n",
       "        vertical-align: top;\n",
       "    }\n",
       "\n",
       "    .dataframe thead th {\n",
       "        text-align: right;\n",
       "    }\n",
       "</style>\n",
       "<table border=\"1\" class=\"dataframe\">\n",
       "  <thead>\n",
       "    <tr style=\"text-align: right;\">\n",
       "      <th></th>\n",
       "      <th>customerID</th>\n",
       "      <th>MultipleLines</th>\n",
       "    </tr>\n",
       "  </thead>\n",
       "  <tbody>\n",
       "    <tr>\n",
       "      <td>0</td>\n",
       "      <td>5575-GNVDE</td>\n",
       "      <td>No</td>\n",
       "    </tr>\n",
       "    <tr>\n",
       "      <td>1</td>\n",
       "      <td>3668-QPYBK</td>\n",
       "      <td>No</td>\n",
       "    </tr>\n",
       "    <tr>\n",
       "      <td>2</td>\n",
       "      <td>9237-HQITU</td>\n",
       "      <td>No</td>\n",
       "    </tr>\n",
       "    <tr>\n",
       "      <td>3</td>\n",
       "      <td>9305-CDSKC</td>\n",
       "      <td>Yes</td>\n",
       "    </tr>\n",
       "    <tr>\n",
       "      <td>4</td>\n",
       "      <td>1452-KIOVK</td>\n",
       "      <td>Yes</td>\n",
       "    </tr>\n",
       "    <tr>\n",
       "      <td>5</td>\n",
       "      <td>7892-POOKP</td>\n",
       "      <td>Yes</td>\n",
       "    </tr>\n",
       "    <tr>\n",
       "      <td>6</td>\n",
       "      <td>6388-TABGU</td>\n",
       "      <td>No</td>\n",
       "    </tr>\n",
       "    <tr>\n",
       "      <td>7</td>\n",
       "      <td>9763-GRSKD</td>\n",
       "      <td>No</td>\n",
       "    </tr>\n",
       "    <tr>\n",
       "      <td>8</td>\n",
       "      <td>7469-LKBCI</td>\n",
       "      <td>No</td>\n",
       "    </tr>\n",
       "    <tr>\n",
       "      <td>9</td>\n",
       "      <td>8091-TTVAX</td>\n",
       "      <td>Yes</td>\n",
       "    </tr>\n",
       "    <tr>\n",
       "      <td>10</td>\n",
       "      <td>0280-XJGEX</td>\n",
       "      <td>Yes</td>\n",
       "    </tr>\n",
       "    <tr>\n",
       "      <td>11</td>\n",
       "      <td>5129-JLPIS</td>\n",
       "      <td>No</td>\n",
       "    </tr>\n",
       "    <tr>\n",
       "      <td>12</td>\n",
       "      <td>3655-SNQYZ</td>\n",
       "      <td>Yes</td>\n",
       "    </tr>\n",
       "    <tr>\n",
       "      <td>13</td>\n",
       "      <td>8191-XWSZG</td>\n",
       "      <td>No</td>\n",
       "    </tr>\n",
       "    <tr>\n",
       "      <td>14</td>\n",
       "      <td>9959-WOFKT</td>\n",
       "      <td>Yes</td>\n",
       "    </tr>\n",
       "  </tbody>\n",
       "</table>\n",
       "</div>"
      ],
      "text/plain": [
       "    customerID MultipleLines\n",
       "0   5575-GNVDE            No\n",
       "1   3668-QPYBK            No\n",
       "2   9237-HQITU            No\n",
       "3   9305-CDSKC           Yes\n",
       "4   1452-KIOVK           Yes\n",
       "5   7892-POOKP           Yes\n",
       "6   6388-TABGU            No\n",
       "7   9763-GRSKD            No\n",
       "8   7469-LKBCI            No\n",
       "9   8091-TTVAX           Yes\n",
       "10  0280-XJGEX           Yes\n",
       "11  5129-JLPIS            No\n",
       "12  3655-SNQYZ           Yes\n",
       "13  8191-XWSZG            No\n",
       "14  9959-WOFKT           Yes"
      ]
     },
     "metadata": {},
     "output_type": "display_data"
    },
    {
     "name": "stdout",
     "output_type": "stream",
     "text": [
      "<class 'pandas.core.frame.DataFrame'>\n",
      "RangeIndex: 6361 entries, 0 to 6360\n",
      "Data columns (total 2 columns):\n",
      "customerID       6361 non-null object\n",
      "MultipleLines    6361 non-null object\n",
      "dtypes: object(2)\n",
      "memory usage: 99.5+ KB\n"
     ]
    },
    {
     "data": {
      "text/plain": [
       "None"
      ]
     },
     "metadata": {},
     "output_type": "display_data"
    },
    {
     "data": {
      "text/html": [
       "<div>\n",
       "<style scoped>\n",
       "    .dataframe tbody tr th:only-of-type {\n",
       "        vertical-align: middle;\n",
       "    }\n",
       "\n",
       "    .dataframe tbody tr th {\n",
       "        vertical-align: top;\n",
       "    }\n",
       "\n",
       "    .dataframe thead th {\n",
       "        text-align: right;\n",
       "    }\n",
       "</style>\n",
       "<table border=\"1\" class=\"dataframe\">\n",
       "  <thead>\n",
       "    <tr style=\"text-align: right;\">\n",
       "      <th></th>\n",
       "      <th>customerID</th>\n",
       "      <th>MultipleLines</th>\n",
       "    </tr>\n",
       "  </thead>\n",
       "  <tbody>\n",
       "    <tr>\n",
       "      <td>count</td>\n",
       "      <td>6361</td>\n",
       "      <td>6361</td>\n",
       "    </tr>\n",
       "    <tr>\n",
       "      <td>unique</td>\n",
       "      <td>6361</td>\n",
       "      <td>2</td>\n",
       "    </tr>\n",
       "    <tr>\n",
       "      <td>top</td>\n",
       "      <td>4548-SDBKE</td>\n",
       "      <td>No</td>\n",
       "    </tr>\n",
       "    <tr>\n",
       "      <td>freq</td>\n",
       "      <td>1</td>\n",
       "      <td>3390</td>\n",
       "    </tr>\n",
       "  </tbody>\n",
       "</table>\n",
       "</div>"
      ],
      "text/plain": [
       "        customerID MultipleLines\n",
       "count         6361          6361\n",
       "unique        6361             2\n",
       "top     4548-SDBKE            No\n",
       "freq             1          3390"
      ]
     },
     "metadata": {},
     "output_type": "display_data"
    }
   ],
   "source": [
    "show_info(df_phone)"
   ]
  },
  {
   "cell_type": "code",
   "execution_count": 11,
   "metadata": {},
   "outputs": [
    {
     "name": "stdout",
     "output_type": "stream",
     "text": [
      "Уникальные значения столбца MultipleLines\n",
      "No     3390\n",
      "Yes    2971\n",
      "Name: MultipleLines, dtype: int64\n",
      "\n"
     ]
    }
   ],
   "source": [
    "show_rows(df_phone)"
   ]
  },
  {
   "cell_type": "markdown",
   "metadata": {},
   "source": [
    "### Выводы по знакомству с данными\n",
    "\n",
    "#### Информация о договоре\n",
    "1. В данных отсутствуют пропуски;\n",
    "2. Значение 'No' в столбце EndDate говорит о том, что клиент действующий. Это будет являться целевым признаком;\n",
    "3. TotalCharges необходимо перевести в числовой тип;\n",
    "\n",
    "#### Персональные данные клиента\n",
    "1. В данных отсутствуют пропуски;\n",
    "2. Столбцы gender и Partner переведем в числовой тип.\n",
    "\n",
    "#### Информация об интернет-услугах\n",
    "1. В данных отсутствуют пропуски;\n",
    "2. Столбцы InternetService, OnlineSecurity, OnlineBackup, DeviceProtection, TechSupport, StreamingTV, StreamingMovies  переведем в числовой тип.\n",
    "\n",
    "#### Информация об услугах телефонии\n",
    "1. В данных отсутствуют пропуски;\n",
    "4. К столбцу MultipleLines  переведем в числовой тип."
   ]
  },
  {
   "cell_type": "markdown",
   "metadata": {},
   "source": [
    "## Предобработка данных"
   ]
  },
  {
   "cell_type": "markdown",
   "metadata": {},
   "source": [
    "Объединим исходные таблицы в одну общую таблицу"
   ]
  },
  {
   "cell_type": "code",
   "execution_count": 12,
   "metadata": {},
   "outputs": [],
   "source": [
    "df_all = df_contract \\\n",
    "    .merge(df_personal, how='left', on='customerID') \\\n",
    "    .merge(df_internet, how='left', on='customerID') \\\n",
    "    .merge(df_phone, how='left', on='customerID') "
   ]
  },
  {
   "cell_type": "code",
   "execution_count": 13,
   "metadata": {},
   "outputs": [
    {
     "data": {
      "text/plain": [
       "(7043, 20)"
      ]
     },
     "metadata": {},
     "output_type": "display_data"
    },
    {
     "data": {
      "text/html": [
       "<div>\n",
       "<style scoped>\n",
       "    .dataframe tbody tr th:only-of-type {\n",
       "        vertical-align: middle;\n",
       "    }\n",
       "\n",
       "    .dataframe tbody tr th {\n",
       "        vertical-align: top;\n",
       "    }\n",
       "\n",
       "    .dataframe thead th {\n",
       "        text-align: right;\n",
       "    }\n",
       "</style>\n",
       "<table border=\"1\" class=\"dataframe\">\n",
       "  <thead>\n",
       "    <tr style=\"text-align: right;\">\n",
       "      <th></th>\n",
       "      <th>customerID</th>\n",
       "      <th>BeginDate</th>\n",
       "      <th>EndDate</th>\n",
       "      <th>Type</th>\n",
       "      <th>PaperlessBilling</th>\n",
       "      <th>PaymentMethod</th>\n",
       "      <th>MonthlyCharges</th>\n",
       "      <th>TotalCharges</th>\n",
       "      <th>gender</th>\n",
       "      <th>SeniorCitizen</th>\n",
       "      <th>Partner</th>\n",
       "      <th>Dependents</th>\n",
       "      <th>InternetService</th>\n",
       "      <th>OnlineSecurity</th>\n",
       "      <th>OnlineBackup</th>\n",
       "      <th>DeviceProtection</th>\n",
       "      <th>TechSupport</th>\n",
       "      <th>StreamingTV</th>\n",
       "      <th>StreamingMovies</th>\n",
       "      <th>MultipleLines</th>\n",
       "    </tr>\n",
       "  </thead>\n",
       "  <tbody>\n",
       "    <tr>\n",
       "      <td>0</td>\n",
       "      <td>7590-VHVEG</td>\n",
       "      <td>2020-01-01</td>\n",
       "      <td>No</td>\n",
       "      <td>Month-to-month</td>\n",
       "      <td>Yes</td>\n",
       "      <td>Electronic check</td>\n",
       "      <td>29.85</td>\n",
       "      <td>29.85</td>\n",
       "      <td>Female</td>\n",
       "      <td>0</td>\n",
       "      <td>Yes</td>\n",
       "      <td>No</td>\n",
       "      <td>DSL</td>\n",
       "      <td>No</td>\n",
       "      <td>Yes</td>\n",
       "      <td>No</td>\n",
       "      <td>No</td>\n",
       "      <td>No</td>\n",
       "      <td>No</td>\n",
       "      <td>NaN</td>\n",
       "    </tr>\n",
       "    <tr>\n",
       "      <td>1</td>\n",
       "      <td>5575-GNVDE</td>\n",
       "      <td>2017-04-01</td>\n",
       "      <td>No</td>\n",
       "      <td>One year</td>\n",
       "      <td>No</td>\n",
       "      <td>Mailed check</td>\n",
       "      <td>56.95</td>\n",
       "      <td>1889.5</td>\n",
       "      <td>Male</td>\n",
       "      <td>0</td>\n",
       "      <td>No</td>\n",
       "      <td>No</td>\n",
       "      <td>DSL</td>\n",
       "      <td>Yes</td>\n",
       "      <td>No</td>\n",
       "      <td>Yes</td>\n",
       "      <td>No</td>\n",
       "      <td>No</td>\n",
       "      <td>No</td>\n",
       "      <td>No</td>\n",
       "    </tr>\n",
       "    <tr>\n",
       "      <td>2</td>\n",
       "      <td>3668-QPYBK</td>\n",
       "      <td>2019-10-01</td>\n",
       "      <td>2019-12-01 00:00:00</td>\n",
       "      <td>Month-to-month</td>\n",
       "      <td>Yes</td>\n",
       "      <td>Mailed check</td>\n",
       "      <td>53.85</td>\n",
       "      <td>108.15</td>\n",
       "      <td>Male</td>\n",
       "      <td>0</td>\n",
       "      <td>No</td>\n",
       "      <td>No</td>\n",
       "      <td>DSL</td>\n",
       "      <td>Yes</td>\n",
       "      <td>Yes</td>\n",
       "      <td>No</td>\n",
       "      <td>No</td>\n",
       "      <td>No</td>\n",
       "      <td>No</td>\n",
       "      <td>No</td>\n",
       "    </tr>\n",
       "    <tr>\n",
       "      <td>3</td>\n",
       "      <td>7795-CFOCW</td>\n",
       "      <td>2016-05-01</td>\n",
       "      <td>No</td>\n",
       "      <td>One year</td>\n",
       "      <td>No</td>\n",
       "      <td>Bank transfer (automatic)</td>\n",
       "      <td>42.30</td>\n",
       "      <td>1840.75</td>\n",
       "      <td>Male</td>\n",
       "      <td>0</td>\n",
       "      <td>No</td>\n",
       "      <td>No</td>\n",
       "      <td>DSL</td>\n",
       "      <td>Yes</td>\n",
       "      <td>No</td>\n",
       "      <td>Yes</td>\n",
       "      <td>Yes</td>\n",
       "      <td>No</td>\n",
       "      <td>No</td>\n",
       "      <td>NaN</td>\n",
       "    </tr>\n",
       "    <tr>\n",
       "      <td>4</td>\n",
       "      <td>9237-HQITU</td>\n",
       "      <td>2019-09-01</td>\n",
       "      <td>2019-11-01 00:00:00</td>\n",
       "      <td>Month-to-month</td>\n",
       "      <td>Yes</td>\n",
       "      <td>Electronic check</td>\n",
       "      <td>70.70</td>\n",
       "      <td>151.65</td>\n",
       "      <td>Female</td>\n",
       "      <td>0</td>\n",
       "      <td>No</td>\n",
       "      <td>No</td>\n",
       "      <td>Fiber optic</td>\n",
       "      <td>No</td>\n",
       "      <td>No</td>\n",
       "      <td>No</td>\n",
       "      <td>No</td>\n",
       "      <td>No</td>\n",
       "      <td>No</td>\n",
       "      <td>No</td>\n",
       "    </tr>\n",
       "  </tbody>\n",
       "</table>\n",
       "</div>"
      ],
      "text/plain": [
       "   customerID   BeginDate              EndDate            Type  \\\n",
       "0  7590-VHVEG  2020-01-01                   No  Month-to-month   \n",
       "1  5575-GNVDE  2017-04-01                   No        One year   \n",
       "2  3668-QPYBK  2019-10-01  2019-12-01 00:00:00  Month-to-month   \n",
       "3  7795-CFOCW  2016-05-01                   No        One year   \n",
       "4  9237-HQITU  2019-09-01  2019-11-01 00:00:00  Month-to-month   \n",
       "\n",
       "  PaperlessBilling              PaymentMethod  MonthlyCharges TotalCharges  \\\n",
       "0              Yes           Electronic check           29.85        29.85   \n",
       "1               No               Mailed check           56.95       1889.5   \n",
       "2              Yes               Mailed check           53.85       108.15   \n",
       "3               No  Bank transfer (automatic)           42.30      1840.75   \n",
       "4              Yes           Electronic check           70.70       151.65   \n",
       "\n",
       "   gender  SeniorCitizen Partner Dependents InternetService OnlineSecurity  \\\n",
       "0  Female              0     Yes         No             DSL             No   \n",
       "1    Male              0      No         No             DSL            Yes   \n",
       "2    Male              0      No         No             DSL            Yes   \n",
       "3    Male              0      No         No             DSL            Yes   \n",
       "4  Female              0      No         No     Fiber optic             No   \n",
       "\n",
       "  OnlineBackup DeviceProtection TechSupport StreamingTV StreamingMovies  \\\n",
       "0          Yes               No          No          No              No   \n",
       "1           No              Yes          No          No              No   \n",
       "2          Yes               No          No          No              No   \n",
       "3           No              Yes         Yes          No              No   \n",
       "4           No               No          No          No              No   \n",
       "\n",
       "  MultipleLines  \n",
       "0           NaN  \n",
       "1            No  \n",
       "2            No  \n",
       "3           NaN  \n",
       "4            No  "
      ]
     },
     "metadata": {},
     "output_type": "display_data"
    },
    {
     "name": "stdout",
     "output_type": "stream",
     "text": [
      "<class 'pandas.core.frame.DataFrame'>\n",
      "Int64Index: 7043 entries, 0 to 7042\n",
      "Data columns (total 20 columns):\n",
      "customerID          7043 non-null object\n",
      "BeginDate           7043 non-null object\n",
      "EndDate             7043 non-null object\n",
      "Type                7043 non-null object\n",
      "PaperlessBilling    7043 non-null object\n",
      "PaymentMethod       7043 non-null object\n",
      "MonthlyCharges      7043 non-null float64\n",
      "TotalCharges        7043 non-null object\n",
      "gender              7043 non-null object\n",
      "SeniorCitizen       7043 non-null int64\n",
      "Partner             7043 non-null object\n",
      "Dependents          7043 non-null object\n",
      "InternetService     5517 non-null object\n",
      "OnlineSecurity      5517 non-null object\n",
      "OnlineBackup        5517 non-null object\n",
      "DeviceProtection    5517 non-null object\n",
      "TechSupport         5517 non-null object\n",
      "StreamingTV         5517 non-null object\n",
      "StreamingMovies     5517 non-null object\n",
      "MultipleLines       6361 non-null object\n",
      "dtypes: float64(1), int64(1), object(18)\n",
      "memory usage: 1.1+ MB\n"
     ]
    },
    {
     "data": {
      "text/plain": [
       "None"
      ]
     },
     "metadata": {},
     "output_type": "display_data"
    }
   ],
   "source": [
    "display(df_all.shape)\n",
    "display(df_all.head())\n",
    "display(df_all.info())"
   ]
  },
  {
   "cell_type": "markdown",
   "metadata": {},
   "source": [
    "Проверим на уникальность столбец customerID"
   ]
  },
  {
   "cell_type": "code",
   "execution_count": 14,
   "metadata": {},
   "outputs": [
    {
     "data": {
      "text/plain": [
       "True"
      ]
     },
     "execution_count": 14,
     "metadata": {},
     "output_type": "execute_result"
    }
   ],
   "source": [
    "df_all['customerID'].is_unique"
   ]
  },
  {
   "cell_type": "markdown",
   "metadata": {},
   "source": [
    "Добавим целевой признак Churn, отражающий факт отказа клиента от услуг.\n",
    "\n",
    "Если значение в столбце EndDate равно \"No\" - значит клиент не ушел и целевой признак равен 0.\n",
    "Если дата ухода есть, то целевой признак равен 1."
   ]
  },
  {
   "cell_type": "code",
   "execution_count": 15,
   "metadata": {},
   "outputs": [],
   "source": [
    "df_all[\"churn\"] = (df_all[\"EndDate\"]!=\"No\").astype(\"int\")"
   ]
  },
  {
   "cell_type": "markdown",
   "metadata": {},
   "source": [
    "Заменим все значения \"No\" в EndDate на дату выгрузки датасета (01.02.2020) и приведем EndDate и BeginDate к формату даты"
   ]
  },
  {
   "cell_type": "code",
   "execution_count": 16,
   "metadata": {},
   "outputs": [
    {
     "name": "stdout",
     "output_type": "stream",
     "text": [
      "0\n"
     ]
    }
   ],
   "source": [
    "df_all['EndDate'] = df_all['EndDate'].replace(['No'], ['2020-02-01'])\n",
    "print(df_all[df_all['EndDate'] == 'No'].shape[0])"
   ]
  },
  {
   "cell_type": "code",
   "execution_count": 17,
   "metadata": {},
   "outputs": [],
   "source": [
    "df_all['BeginDate'] = pd.to_datetime(df_all['BeginDate'], format='%Y-%m-%d')\n",
    "df_all['EndDate'] = pd.to_datetime(df_all['EndDate'], format='%Y-%m-%d')"
   ]
  },
  {
   "cell_type": "markdown",
   "metadata": {},
   "source": [
    "Заведем новый столбец TotalDays, который будет означать, сколько пользователь пользовался услугами"
   ]
  },
  {
   "cell_type": "code",
   "execution_count": 18,
   "metadata": {},
   "outputs": [],
   "source": [
    "df_all['TotalDays'] = (df_all['EndDate'] - df_all['BeginDate']).dt.days"
   ]
  },
  {
   "cell_type": "markdown",
   "metadata": {},
   "source": [
    "Столбцы таблиц с информацией об интернет услугах содержат меньшее количество значений. Мне кажется, это связано с тем, что такие клиенты впринцепе не используют данный сервис, поэтому можно заменить эти пропуски на значение 'No'"
   ]
  },
  {
   "cell_type": "code",
   "execution_count": 19,
   "metadata": {},
   "outputs": [],
   "source": [
    "for col in [\"OnlineSecurity\", \"OnlineBackup\", \"DeviceProtection\", \"TechSupport\",\n",
    "            \"StreamingTV\", \"StreamingMovies\", \"MultipleLines\", \"InternetService\"]:\n",
    "    df_all[col] = df_all[col].fillna(\"No\")"
   ]
  },
  {
   "cell_type": "code",
   "execution_count": 20,
   "metadata": {},
   "outputs": [],
   "source": [
    "df_all[\"TotalCharges\"] = pd.to_numeric(df_all[\"TotalCharges\"], errors=\"coerce\").fillna(0.0)"
   ]
  },
  {
   "cell_type": "code",
   "execution_count": 21,
   "metadata": {},
   "outputs": [],
   "source": [
    "df_all['gender'] = (df_all['gender']=='Male').astype(\"int\")"
   ]
  },
  {
   "cell_type": "code",
   "execution_count": 22,
   "metadata": {},
   "outputs": [],
   "source": [
    "for col in df_all.select_dtypes(\"object\").columns:\n",
    "    if sorted(df_all[col].unique())==[\"No\",\"Yes\"]:\n",
    "        df_all[col] = (df_all[col] == \"Yes\").astype(\"int\")"
   ]
  },
  {
   "cell_type": "code",
   "execution_count": 23,
   "metadata": {},
   "outputs": [
    {
     "data": {
      "text/html": [
       "<div>\n",
       "<style scoped>\n",
       "    .dataframe tbody tr th:only-of-type {\n",
       "        vertical-align: middle;\n",
       "    }\n",
       "\n",
       "    .dataframe tbody tr th {\n",
       "        vertical-align: top;\n",
       "    }\n",
       "\n",
       "    .dataframe thead th {\n",
       "        text-align: right;\n",
       "    }\n",
       "</style>\n",
       "<table border=\"1\" class=\"dataframe\">\n",
       "  <thead>\n",
       "    <tr style=\"text-align: right;\">\n",
       "      <th></th>\n",
       "      <th>customerID</th>\n",
       "      <th>BeginDate</th>\n",
       "      <th>EndDate</th>\n",
       "      <th>Type</th>\n",
       "      <th>PaperlessBilling</th>\n",
       "      <th>PaymentMethod</th>\n",
       "      <th>MonthlyCharges</th>\n",
       "      <th>TotalCharges</th>\n",
       "      <th>gender</th>\n",
       "      <th>SeniorCitizen</th>\n",
       "      <th>...</th>\n",
       "      <th>InternetService</th>\n",
       "      <th>OnlineSecurity</th>\n",
       "      <th>OnlineBackup</th>\n",
       "      <th>DeviceProtection</th>\n",
       "      <th>TechSupport</th>\n",
       "      <th>StreamingTV</th>\n",
       "      <th>StreamingMovies</th>\n",
       "      <th>MultipleLines</th>\n",
       "      <th>churn</th>\n",
       "      <th>TotalDays</th>\n",
       "    </tr>\n",
       "  </thead>\n",
       "  <tbody>\n",
       "    <tr>\n",
       "      <td>2009</td>\n",
       "      <td>7639-OPLNG</td>\n",
       "      <td>2014-04-01</td>\n",
       "      <td>2020-02-01</td>\n",
       "      <td>Two year</td>\n",
       "      <td>1</td>\n",
       "      <td>Bank transfer (automatic)</td>\n",
       "      <td>79.25</td>\n",
       "      <td>5731.85</td>\n",
       "      <td>1</td>\n",
       "      <td>0</td>\n",
       "      <td>...</td>\n",
       "      <td>DSL</td>\n",
       "      <td>1</td>\n",
       "      <td>1</td>\n",
       "      <td>1</td>\n",
       "      <td>1</td>\n",
       "      <td>1</td>\n",
       "      <td>0</td>\n",
       "      <td>1</td>\n",
       "      <td>0</td>\n",
       "      <td>2132</td>\n",
       "    </tr>\n",
       "    <tr>\n",
       "      <td>726</td>\n",
       "      <td>4950-HKQTE</td>\n",
       "      <td>2018-04-01</td>\n",
       "      <td>2020-02-01</td>\n",
       "      <td>Two year</td>\n",
       "      <td>0</td>\n",
       "      <td>Mailed check</td>\n",
       "      <td>26.25</td>\n",
       "      <td>605.90</td>\n",
       "      <td>0</td>\n",
       "      <td>0</td>\n",
       "      <td>...</td>\n",
       "      <td>No</td>\n",
       "      <td>0</td>\n",
       "      <td>0</td>\n",
       "      <td>0</td>\n",
       "      <td>0</td>\n",
       "      <td>0</td>\n",
       "      <td>0</td>\n",
       "      <td>1</td>\n",
       "      <td>0</td>\n",
       "      <td>671</td>\n",
       "    </tr>\n",
       "  </tbody>\n",
       "</table>\n",
       "<p>2 rows × 22 columns</p>\n",
       "</div>"
      ],
      "text/plain": [
       "      customerID  BeginDate    EndDate      Type  PaperlessBilling  \\\n",
       "2009  7639-OPLNG 2014-04-01 2020-02-01  Two year                 1   \n",
       "726   4950-HKQTE 2018-04-01 2020-02-01  Two year                 0   \n",
       "\n",
       "                  PaymentMethod  MonthlyCharges  TotalCharges  gender  \\\n",
       "2009  Bank transfer (automatic)           79.25       5731.85       1   \n",
       "726                Mailed check           26.25        605.90       0   \n",
       "\n",
       "      SeniorCitizen  ...  InternetService  OnlineSecurity OnlineBackup  \\\n",
       "2009              0  ...              DSL               1            1   \n",
       "726               0  ...               No               0            0   \n",
       "\n",
       "      DeviceProtection  TechSupport  StreamingTV  StreamingMovies  \\\n",
       "2009                 1            1            1                0   \n",
       "726                  0            0            0                0   \n",
       "\n",
       "      MultipleLines  churn  TotalDays  \n",
       "2009              1      0       2132  \n",
       "726               1      0        671  \n",
       "\n",
       "[2 rows x 22 columns]"
      ]
     },
     "metadata": {},
     "output_type": "display_data"
    },
    {
     "name": "stdout",
     "output_type": "stream",
     "text": [
      "<class 'pandas.core.frame.DataFrame'>\n",
      "Int64Index: 7043 entries, 0 to 7042\n",
      "Data columns (total 22 columns):\n",
      "customerID          7043 non-null object\n",
      "BeginDate           7043 non-null datetime64[ns]\n",
      "EndDate             7043 non-null datetime64[ns]\n",
      "Type                7043 non-null object\n",
      "PaperlessBilling    7043 non-null int64\n",
      "PaymentMethod       7043 non-null object\n",
      "MonthlyCharges      7043 non-null float64\n",
      "TotalCharges        7043 non-null float64\n",
      "gender              7043 non-null int64\n",
      "SeniorCitizen       7043 non-null int64\n",
      "Partner             7043 non-null int64\n",
      "Dependents          7043 non-null int64\n",
      "InternetService     7043 non-null object\n",
      "OnlineSecurity      7043 non-null int64\n",
      "OnlineBackup        7043 non-null int64\n",
      "DeviceProtection    7043 non-null int64\n",
      "TechSupport         7043 non-null int64\n",
      "StreamingTV         7043 non-null int64\n",
      "StreamingMovies     7043 non-null int64\n",
      "MultipleLines       7043 non-null int64\n",
      "churn               7043 non-null int64\n",
      "TotalDays           7043 non-null int64\n",
      "dtypes: datetime64[ns](2), float64(2), int64(14), object(4)\n",
      "memory usage: 1.2+ MB\n"
     ]
    },
    {
     "data": {
      "text/plain": [
       "None"
      ]
     },
     "metadata": {},
     "output_type": "display_data"
    }
   ],
   "source": [
    "display(df_all.sample(2))\n",
    "display(df_all.info())"
   ]
  },
  {
   "cell_type": "markdown",
   "metadata": {},
   "source": [
    "Признаки customerID, EndDate и BeginDate не понадобятся нам для дальнейшего анализа, а при обучении могут только мешать, поэтому создадим новую таблицу df_final на основе df_all, удалив эти признаки"
   ]
  },
  {
   "cell_type": "code",
   "execution_count": 24,
   "metadata": {},
   "outputs": [],
   "source": [
    "df_final = df_all.drop([\"BeginDate\",\"EndDate\", \"customerID\"], axis=1)"
   ]
  },
  {
   "cell_type": "code",
   "execution_count": 25,
   "metadata": {},
   "outputs": [
    {
     "data": {
      "text/html": [
       "<div>\n",
       "<style scoped>\n",
       "    .dataframe tbody tr th:only-of-type {\n",
       "        vertical-align: middle;\n",
       "    }\n",
       "\n",
       "    .dataframe tbody tr th {\n",
       "        vertical-align: top;\n",
       "    }\n",
       "\n",
       "    .dataframe thead th {\n",
       "        text-align: right;\n",
       "    }\n",
       "</style>\n",
       "<table border=\"1\" class=\"dataframe\">\n",
       "  <thead>\n",
       "    <tr style=\"text-align: right;\">\n",
       "      <th></th>\n",
       "      <th>Type</th>\n",
       "      <th>PaperlessBilling</th>\n",
       "      <th>PaymentMethod</th>\n",
       "      <th>MonthlyCharges</th>\n",
       "      <th>TotalCharges</th>\n",
       "      <th>gender</th>\n",
       "      <th>SeniorCitizen</th>\n",
       "      <th>Partner</th>\n",
       "      <th>Dependents</th>\n",
       "      <th>InternetService</th>\n",
       "      <th>OnlineSecurity</th>\n",
       "      <th>OnlineBackup</th>\n",
       "      <th>DeviceProtection</th>\n",
       "      <th>TechSupport</th>\n",
       "      <th>StreamingTV</th>\n",
       "      <th>StreamingMovies</th>\n",
       "      <th>MultipleLines</th>\n",
       "      <th>churn</th>\n",
       "      <th>TotalDays</th>\n",
       "    </tr>\n",
       "  </thead>\n",
       "  <tbody>\n",
       "    <tr>\n",
       "      <td>6372</td>\n",
       "      <td>Two year</td>\n",
       "      <td>0</td>\n",
       "      <td>Credit card (automatic)</td>\n",
       "      <td>19.50</td>\n",
       "      <td>96.85</td>\n",
       "      <td>1</td>\n",
       "      <td>0</td>\n",
       "      <td>1</td>\n",
       "      <td>1</td>\n",
       "      <td>No</td>\n",
       "      <td>0</td>\n",
       "      <td>0</td>\n",
       "      <td>0</td>\n",
       "      <td>0</td>\n",
       "      <td>0</td>\n",
       "      <td>0</td>\n",
       "      <td>0</td>\n",
       "      <td>0</td>\n",
       "      <td>123</td>\n",
       "    </tr>\n",
       "    <tr>\n",
       "      <td>4612</td>\n",
       "      <td>Two year</td>\n",
       "      <td>0</td>\n",
       "      <td>Mailed check</td>\n",
       "      <td>45.25</td>\n",
       "      <td>2933.95</td>\n",
       "      <td>0</td>\n",
       "      <td>0</td>\n",
       "      <td>0</td>\n",
       "      <td>1</td>\n",
       "      <td>DSL</td>\n",
       "      <td>0</td>\n",
       "      <td>1</td>\n",
       "      <td>0</td>\n",
       "      <td>1</td>\n",
       "      <td>1</td>\n",
       "      <td>0</td>\n",
       "      <td>0</td>\n",
       "      <td>0</td>\n",
       "      <td>1979</td>\n",
       "    </tr>\n",
       "    <tr>\n",
       "      <td>6291</td>\n",
       "      <td>One year</td>\n",
       "      <td>0</td>\n",
       "      <td>Credit card (automatic)</td>\n",
       "      <td>79.85</td>\n",
       "      <td>4786.10</td>\n",
       "      <td>0</td>\n",
       "      <td>0</td>\n",
       "      <td>0</td>\n",
       "      <td>0</td>\n",
       "      <td>DSL</td>\n",
       "      <td>1</td>\n",
       "      <td>1</td>\n",
       "      <td>1</td>\n",
       "      <td>1</td>\n",
       "      <td>0</td>\n",
       "      <td>1</td>\n",
       "      <td>1</td>\n",
       "      <td>0</td>\n",
       "      <td>1798</td>\n",
       "    </tr>\n",
       "  </tbody>\n",
       "</table>\n",
       "</div>"
      ],
      "text/plain": [
       "          Type  PaperlessBilling            PaymentMethod  MonthlyCharges  \\\n",
       "6372  Two year                 0  Credit card (automatic)           19.50   \n",
       "4612  Two year                 0             Mailed check           45.25   \n",
       "6291  One year                 0  Credit card (automatic)           79.85   \n",
       "\n",
       "      TotalCharges  gender  SeniorCitizen  Partner  Dependents  \\\n",
       "6372         96.85       1              0        1           1   \n",
       "4612       2933.95       0              0        0           1   \n",
       "6291       4786.10       0              0        0           0   \n",
       "\n",
       "     InternetService  OnlineSecurity  OnlineBackup  DeviceProtection  \\\n",
       "6372              No               0             0                 0   \n",
       "4612             DSL               0             1                 0   \n",
       "6291             DSL               1             1                 1   \n",
       "\n",
       "      TechSupport  StreamingTV  StreamingMovies  MultipleLines  churn  \\\n",
       "6372            0            0                0              0      0   \n",
       "4612            1            1                0              0      0   \n",
       "6291            1            0                1              1      0   \n",
       "\n",
       "      TotalDays  \n",
       "6372        123  \n",
       "4612       1979  \n",
       "6291       1798  "
      ]
     },
     "execution_count": 25,
     "metadata": {},
     "output_type": "execute_result"
    }
   ],
   "source": [
    "df_final.sample(3)"
   ]
  },
  {
   "cell_type": "markdown",
   "metadata": {},
   "source": [
    "#### Вывод по предобработке данных:\n",
    "По итогу предобработки была имеем таблицу df_final, в которой:\n",
    "1. Находтся только необходимые для обучения признаки\n",
    "2. Признаки, имеющие только два значение 'yes' и 'no' и признак gender переведены к типу int\n",
    "3. Пропуски в столбцах \"OnlineSecurity\", \"OnlineBackup\", \"DeviceProtection\", \"TechSupport\", \"StreamingTV\", \"StreamingMovies\", \"MultipleLines\", \"InternetService\" заменены на значение 'No'\n",
    "4. Определен целевой признак Churn, отражающий факт отказа клиента от услуг"
   ]
  },
  {
   "cell_type": "markdown",
   "metadata": {},
   "source": [
    "## Исследовательский анализ"
   ]
  },
  {
   "cell_type": "markdown",
   "metadata": {},
   "source": [
    "Посмотрим на распределение целевого признака:"
   ]
  },
  {
   "cell_type": "code",
   "execution_count": 27,
   "metadata": {},
   "outputs": [
    {
     "data": {
      "image/png": "[encoded data removed]",
      "text/plain": [
       "<Figure size 432x288 with 1 Axes>"
      ]
     },
     "metadata": {
      "needs_background": "light"
     },
     "output_type": "display_data"
    }
   ],
   "source": [
    "sns.countplot(df_final[\"churn\"]);"
   ]
  },
  {
   "cell_type": "markdown",
   "metadata": {},
   "source": [
    "Заметен небольшой дисбаланс."
   ]
  },
  {
   "cell_type": "markdown",
   "metadata": {},
   "source": [
    "Построим функции, отражающие распределение значений и диаграмму размаха для количественных и категориальных данных"
   ]
  },
  {
   "cell_type": "code",
   "execution_count": 28,
   "metadata": {},
   "outputs": [],
   "source": [
    "num_col = ['MonthlyCharges', 'TotalCharges', 'TotalDays']\n",
    "cat_col = ['Type','PaperlessBilling','PaymentMethod', 'gender','SeniorCitizen',\n",
    "               'Partner','Dependents','InternetService', 'OnlineSecurity', 'OnlineBackup',\n",
    "               'DeviceProtection', 'TechSupport', 'StreamingTV', 'StreamingMovies', 'MultipleLines']\n",
    "\n",
    "def num_plot(df):\n",
    "    cols = len(num_col)\n",
    "    rows = 2\n",
    "\n",
    "    plt.figure(figsize=(20, 10))\n",
    "\n",
    "    idx = 0\n",
    "    for column in num_col:\n",
    "        idx += 1 \n",
    "    \n",
    "        plt.subplot(rows, cols, idx)\n",
    "        plt.hist(df[column])\n",
    "        plt.title(column)\n",
    "    \n",
    "    for column in num_col:\n",
    "        idx += 1 \n",
    "    \n",
    "        plt.subplot(rows, cols, idx)\n",
    "        plt.boxplot(df[column])\n",
    "        plt.title(column)\n",
    "        \n",
    "    plt.show()\n",
    "\n",
    "    display(df[num_col].describe())\n",
    "    \n",
    "    \n",
    "def cat_plot(df):\n",
    "    cols = 2\n",
    "    rows = int(np.ceil(len(cat_col) / cols))\n",
    "\n",
    "    plt.figure(figsize=(20, 30))\n",
    "\n",
    "    for idx, column in enumerate(cat_col):\n",
    "        df_churn = df.groupby([column, 'churn'])['churn'].count()\n",
    "        df_churn = df_churn.unstack()\n",
    "\n",
    "        ax = plt.subplot(rows, cols, idx + 1)\n",
    "\n",
    "        ax.bar(df_churn.T.index, df_churn.T[df_churn.T.columns[0]], label=df_churn.T.columns[0])\n",
    "        bottom = np.array(df_churn.T[df_churn.T.columns[0]])\n",
    "        for color_idx, value in enumerate(df_churn.T.columns[1:]): \n",
    "            ax.bar(df_churn.T.index, df_churn.T[value], bottom=bottom, label=value)\n",
    "            bottom += np.array(df_churn.T[value])\n",
    "        plt.title(column)\n",
    "        plt.legend()\n",
    "\n",
    "    plt.show()"
   ]
  },
  {
   "cell_type": "markdown",
   "metadata": {},
   "source": [
    "Посмотрим на распределение количественных признаков относительно целевого: "
   ]
  },
  {
   "cell_type": "code",
   "execution_count": 29,
   "metadata": {},
   "outputs": [
    {
     "data": {
      "image/png": "[encoded data removed]",
      "text/plain": [
       "<Figure size 1440x720 with 6 Axes>"
      ]
     },
     "metadata": {
      "needs_background": "light"
     },
     "output_type": "display_data"
    },
    {
     "data": {
      "text/html": [
       "<div>\n",
       "<style scoped>\n",
       "    .dataframe tbody tr th:only-of-type {\n",
       "        vertical-align: middle;\n",
       "    }\n",
       "\n",
       "    .dataframe tbody tr th {\n",
       "        vertical-align: top;\n",
       "    }\n",
       "\n",
       "    .dataframe thead th {\n",
       "        text-align: right;\n",
       "    }\n",
       "</style>\n",
       "<table border=\"1\" class=\"dataframe\">\n",
       "  <thead>\n",
       "    <tr style=\"text-align: right;\">\n",
       "      <th></th>\n",
       "      <th>MonthlyCharges</th>\n",
       "      <th>TotalCharges</th>\n",
       "      <th>TotalDays</th>\n",
       "    </tr>\n",
       "  </thead>\n",
       "  <tbody>\n",
       "    <tr>\n",
       "      <td>count</td>\n",
       "      <td>1869.000000</td>\n",
       "      <td>1869.000000</td>\n",
       "      <td>1869.000000</td>\n",
       "    </tr>\n",
       "    <tr>\n",
       "      <td>mean</td>\n",
       "      <td>74.441332</td>\n",
       "      <td>1531.796094</td>\n",
       "      <td>547.352060</td>\n",
       "    </tr>\n",
       "    <tr>\n",
       "      <td>std</td>\n",
       "      <td>24.666053</td>\n",
       "      <td>1890.822994</td>\n",
       "      <td>594.389607</td>\n",
       "    </tr>\n",
       "    <tr>\n",
       "      <td>min</td>\n",
       "      <td>18.850000</td>\n",
       "      <td>18.850000</td>\n",
       "      <td>30.000000</td>\n",
       "    </tr>\n",
       "    <tr>\n",
       "      <td>25%</td>\n",
       "      <td>56.150000</td>\n",
       "      <td>134.500000</td>\n",
       "      <td>61.000000</td>\n",
       "    </tr>\n",
       "    <tr>\n",
       "      <td>50%</td>\n",
       "      <td>79.650000</td>\n",
       "      <td>703.550000</td>\n",
       "      <td>304.000000</td>\n",
       "    </tr>\n",
       "    <tr>\n",
       "      <td>75%</td>\n",
       "      <td>94.200000</td>\n",
       "      <td>2331.300000</td>\n",
       "      <td>883.000000</td>\n",
       "    </tr>\n",
       "    <tr>\n",
       "      <td>max</td>\n",
       "      <td>118.350000</td>\n",
       "      <td>8684.800000</td>\n",
       "      <td>2191.000000</td>\n",
       "    </tr>\n",
       "  </tbody>\n",
       "</table>\n",
       "</div>"
      ],
      "text/plain": [
       "       MonthlyCharges  TotalCharges    TotalDays\n",
       "count     1869.000000   1869.000000  1869.000000\n",
       "mean        74.441332   1531.796094   547.352060\n",
       "std         24.666053   1890.822994   594.389607\n",
       "min         18.850000     18.850000    30.000000\n",
       "25%         56.150000    134.500000    61.000000\n",
       "50%         79.650000    703.550000   304.000000\n",
       "75%         94.200000   2331.300000   883.000000\n",
       "max        118.350000   8684.800000  2191.000000"
      ]
     },
     "metadata": {},
     "output_type": "display_data"
    }
   ],
   "source": [
    "num_plot(df_final[df_final['churn']==1])"
   ]
  },
  {
   "cell_type": "code",
   "execution_count": 30,
   "metadata": {},
   "outputs": [
    {
     "data": {
      "image/png": "[encoded data removed]",
      "text/plain": [
       "<Figure size 1440x720 with 6 Axes>"
      ]
     },
     "metadata": {
      "needs_background": "light"
     },
     "output_type": "display_data"
    },
    {
     "data": {
      "text/html": [
       "<div>\n",
       "<style scoped>\n",
       "    .dataframe tbody tr th:only-of-type {\n",
       "        vertical-align: middle;\n",
       "    }\n",
       "\n",
       "    .dataframe tbody tr th {\n",
       "        vertical-align: top;\n",
       "    }\n",
       "\n",
       "    .dataframe thead th {\n",
       "        text-align: right;\n",
       "    }\n",
       "</style>\n",
       "<table border=\"1\" class=\"dataframe\">\n",
       "  <thead>\n",
       "    <tr style=\"text-align: right;\">\n",
       "      <th></th>\n",
       "      <th>MonthlyCharges</th>\n",
       "      <th>TotalCharges</th>\n",
       "      <th>TotalDays</th>\n",
       "    </tr>\n",
       "  </thead>\n",
       "  <tbody>\n",
       "    <tr>\n",
       "      <td>count</td>\n",
       "      <td>5174.000000</td>\n",
       "      <td>5174.000000</td>\n",
       "      <td>5174.000000</td>\n",
       "    </tr>\n",
       "    <tr>\n",
       "      <td>mean</td>\n",
       "      <td>61.265124</td>\n",
       "      <td>2549.911442</td>\n",
       "      <td>1144.447236</td>\n",
       "    </tr>\n",
       "    <tr>\n",
       "      <td>std</td>\n",
       "      <td>31.092648</td>\n",
       "      <td>2329.954215</td>\n",
       "      <td>733.897937</td>\n",
       "    </tr>\n",
       "    <tr>\n",
       "      <td>min</td>\n",
       "      <td>18.250000</td>\n",
       "      <td>0.000000</td>\n",
       "      <td>0.000000</td>\n",
       "    </tr>\n",
       "    <tr>\n",
       "      <td>25%</td>\n",
       "      <td>25.100000</td>\n",
       "      <td>572.900000</td>\n",
       "      <td>457.000000</td>\n",
       "    </tr>\n",
       "    <tr>\n",
       "      <td>50%</td>\n",
       "      <td>64.425000</td>\n",
       "      <td>1679.525000</td>\n",
       "      <td>1157.000000</td>\n",
       "    </tr>\n",
       "    <tr>\n",
       "      <td>75%</td>\n",
       "      <td>88.400000</td>\n",
       "      <td>4262.850000</td>\n",
       "      <td>1857.000000</td>\n",
       "    </tr>\n",
       "    <tr>\n",
       "      <td>max</td>\n",
       "      <td>118.750000</td>\n",
       "      <td>8672.450000</td>\n",
       "      <td>2191.000000</td>\n",
       "    </tr>\n",
       "  </tbody>\n",
       "</table>\n",
       "</div>"
      ],
      "text/plain": [
       "       MonthlyCharges  TotalCharges    TotalDays\n",
       "count     5174.000000   5174.000000  5174.000000\n",
       "mean        61.265124   2549.911442  1144.447236\n",
       "std         31.092648   2329.954215   733.897937\n",
       "min         18.250000      0.000000     0.000000\n",
       "25%         25.100000    572.900000   457.000000\n",
       "50%         64.425000   1679.525000  1157.000000\n",
       "75%         88.400000   4262.850000  1857.000000\n",
       "max        118.750000   8672.450000  2191.000000"
      ]
     },
     "metadata": {},
     "output_type": "display_data"
    }
   ],
   "source": [
    "num_plot(df_final[df_final['churn']==0])"
   ]
  },
  {
   "cell_type": "markdown",
   "metadata": {},
   "source": [
    "- на рспределении признака MonthlyCharges заметны 3 пика в районе 20, 50 и 80, но самый высокий пик принадлежит минимальному ежемесячному платежу\n",
    "- распределение у TotalCharges так же отличается пиком на минимальном значении, с увеличением суммы количество значений уменьшается"
   ]
  },
  {
   "cell_type": "markdown",
   "metadata": {},
   "source": [
    "Посмотрим на распределение категориальных признаков относительно целевого: "
   ]
  },
  {
   "cell_type": "code",
   "execution_count": 31,
   "metadata": {},
   "outputs": [
    {
     "data": {
      "image/png": "[encoded data removed]",
      "text/plain": [
       "<Figure size 1440x2160 with 15 Axes>"
      ]
     },
     "metadata": {
      "needs_background": "light"
     },
     "output_type": "display_data"
    }
   ],
   "source": [
    "cat_plot(df_final)"
   ]
  },
  {
   "cell_type": "markdown",
   "metadata": {},
   "source": [
    "- Дополнительные услуги не существенно влияют на отток клиентов. Клиенты уходят примерно в равном соотношении\n",
    "- Клиенты, пользующиеся электронными чеками покидают сервис чаще. Возможно с функцией отправки электронных чеков есть какие-то проблемы\n",
    "- Клиенты, которые не пользуются интернетом, уходят реже\n",
    "- Недавние клиенты (Month-to-month) имеют бОльшую склонность к оттоку"
   ]
  },
  {
   "cell_type": "markdown",
   "metadata": {},
   "source": [
    "Теперь посмотрим на корреляцию признаков относительно целевого:"
   ]
  },
  {
   "cell_type": "code",
   "execution_count": 32,
   "metadata": {},
   "outputs": [
    {
     "data": {
      "text/plain": [
       "<matplotlib.axes._subplots.AxesSubplot at 0x7fe7dcb52e90>"
      ]
     },
     "execution_count": 32,
     "metadata": {},
     "output_type": "execute_result"
    },
    {
     "data": {
      "image/png": "[encoded data removed]",
      "text/plain": [
       "<Figure size 1080x576 with 2 Axes>"
      ]
     },
     "metadata": {},
     "output_type": "display_data"
    }
   ],
   "source": [
    "sns.set(rc = {'figure.figsize':(15,8)})\n",
    "sns.heatmap(df_final.corr()[['churn']], annot = True, cmap = 'coolwarm')"
   ]
  },
  {
   "cell_type": "markdown",
   "metadata": {},
   "source": [
    "Выведем корреляцию между количественными данными"
   ]
  },
  {
   "cell_type": "code",
   "execution_count": 33,
   "metadata": {},
   "outputs": [
    {
     "data": {
      "text/html": [
       "<div>\n",
       "<style scoped>\n",
       "    .dataframe tbody tr th:only-of-type {\n",
       "        vertical-align: middle;\n",
       "    }\n",
       "\n",
       "    .dataframe tbody tr th {\n",
       "        vertical-align: top;\n",
       "    }\n",
       "\n",
       "    .dataframe thead th {\n",
       "        text-align: right;\n",
       "    }\n",
       "</style>\n",
       "<table border=\"1\" class=\"dataframe\">\n",
       "  <thead>\n",
       "    <tr style=\"text-align: right;\">\n",
       "      <th></th>\n",
       "      <th>MonthlyCharges</th>\n",
       "      <th>TotalCharges</th>\n",
       "      <th>TotalDays</th>\n",
       "    </tr>\n",
       "  </thead>\n",
       "  <tbody>\n",
       "    <tr>\n",
       "      <td>MonthlyCharges</td>\n",
       "      <td>1.000000</td>\n",
       "      <td>0.651174</td>\n",
       "      <td>0.247754</td>\n",
       "    </tr>\n",
       "    <tr>\n",
       "      <td>TotalCharges</td>\n",
       "      <td>0.651174</td>\n",
       "      <td>1.000000</td>\n",
       "      <td>0.826109</td>\n",
       "    </tr>\n",
       "    <tr>\n",
       "      <td>TotalDays</td>\n",
       "      <td>0.247754</td>\n",
       "      <td>0.826109</td>\n",
       "      <td>1.000000</td>\n",
       "    </tr>\n",
       "  </tbody>\n",
       "</table>\n",
       "</div>"
      ],
      "text/plain": [
       "                MonthlyCharges  TotalCharges  TotalDays\n",
       "MonthlyCharges        1.000000      0.651174   0.247754\n",
       "TotalCharges          0.651174      1.000000   0.826109\n",
       "TotalDays             0.247754      0.826109   1.000000"
      ]
     },
     "execution_count": 33,
     "metadata": {},
     "output_type": "execute_result"
    }
   ],
   "source": [
    "df_final[num_col].corr()"
   ]
  },
  {
   "cell_type": "markdown",
   "metadata": {},
   "source": [
    "Корреляция между TotalCharges и TotalDays - 0.82, чем дольше клиент платит, тем больше итоговая сумма. Удалим поле TotalCharges"
   ]
  },
  {
   "cell_type": "code",
   "execution_count": 34,
   "metadata": {},
   "outputs": [],
   "source": [
    "del df_final['TotalCharges']\n",
    "num_col = ['MonthlyCharges', 'TotalDays']"
   ]
  },
  {
   "cell_type": "markdown",
   "metadata": {},
   "source": [
    "#### Вывод по исследовательскому анализу\n",
    "\n",
    "1. Наибольшую склонность к оттоку имеют клиенты, использующие ежемесячный способ оплаты и клиенты, которые используют электронные чеки\n",
    "2. Дополнительные услуги не существенно влияют на отток клиентов. Клиенты уходят примерно в равном соотношении\n",
    "3. Пенсионеры покидают сервис гораздо реже. Так же реже покидают сервис и те, кто не пользуетя интернетом. Скорее всего это люди одной категории и им трудно разбираться в том, как сменить поставщика услуг"
   ]
  },
  {
   "cell_type": "markdown",
   "metadata": {},
   "source": [
    "### Подготовка данных для моделей"
   ]
  },
  {
   "cell_type": "markdown",
   "metadata": {},
   "source": [
    "Для преобразования категоральных признаков в численные применим технику One-Hot Encoding"
   ]
  },
  {
   "cell_type": "code",
   "execution_count": 35,
   "metadata": {},
   "outputs": [],
   "source": [
    "df_final = pd.get_dummies(df_final, drop_first=True)"
   ]
  },
  {
   "cell_type": "code",
   "execution_count": 36,
   "metadata": {},
   "outputs": [
    {
     "data": {
      "text/html": [
       "<div>\n",
       "<style scoped>\n",
       "    .dataframe tbody tr th:only-of-type {\n",
       "        vertical-align: middle;\n",
       "    }\n",
       "\n",
       "    .dataframe tbody tr th {\n",
       "        vertical-align: top;\n",
       "    }\n",
       "\n",
       "    .dataframe thead th {\n",
       "        text-align: right;\n",
       "    }\n",
       "</style>\n",
       "<table border=\"1\" class=\"dataframe\">\n",
       "  <thead>\n",
       "    <tr style=\"text-align: right;\">\n",
       "      <th></th>\n",
       "      <th>PaperlessBilling</th>\n",
       "      <th>MonthlyCharges</th>\n",
       "      <th>gender</th>\n",
       "      <th>SeniorCitizen</th>\n",
       "      <th>Partner</th>\n",
       "      <th>Dependents</th>\n",
       "      <th>OnlineSecurity</th>\n",
       "      <th>OnlineBackup</th>\n",
       "      <th>DeviceProtection</th>\n",
       "      <th>TechSupport</th>\n",
       "      <th>...</th>\n",
       "      <th>MultipleLines</th>\n",
       "      <th>churn</th>\n",
       "      <th>TotalDays</th>\n",
       "      <th>Type_One year</th>\n",
       "      <th>Type_Two year</th>\n",
       "      <th>PaymentMethod_Credit card (automatic)</th>\n",
       "      <th>PaymentMethod_Electronic check</th>\n",
       "      <th>PaymentMethod_Mailed check</th>\n",
       "      <th>InternetService_Fiber optic</th>\n",
       "      <th>InternetService_No</th>\n",
       "    </tr>\n",
       "  </thead>\n",
       "  <tbody>\n",
       "    <tr>\n",
       "      <td>0</td>\n",
       "      <td>1</td>\n",
       "      <td>29.85</td>\n",
       "      <td>0</td>\n",
       "      <td>0</td>\n",
       "      <td>1</td>\n",
       "      <td>0</td>\n",
       "      <td>0</td>\n",
       "      <td>1</td>\n",
       "      <td>0</td>\n",
       "      <td>0</td>\n",
       "      <td>...</td>\n",
       "      <td>0</td>\n",
       "      <td>0</td>\n",
       "      <td>31</td>\n",
       "      <td>0</td>\n",
       "      <td>0</td>\n",
       "      <td>0</td>\n",
       "      <td>1</td>\n",
       "      <td>0</td>\n",
       "      <td>0</td>\n",
       "      <td>0</td>\n",
       "    </tr>\n",
       "    <tr>\n",
       "      <td>1</td>\n",
       "      <td>0</td>\n",
       "      <td>56.95</td>\n",
       "      <td>1</td>\n",
       "      <td>0</td>\n",
       "      <td>0</td>\n",
       "      <td>0</td>\n",
       "      <td>1</td>\n",
       "      <td>0</td>\n",
       "      <td>1</td>\n",
       "      <td>0</td>\n",
       "      <td>...</td>\n",
       "      <td>0</td>\n",
       "      <td>0</td>\n",
       "      <td>1036</td>\n",
       "      <td>1</td>\n",
       "      <td>0</td>\n",
       "      <td>0</td>\n",
       "      <td>0</td>\n",
       "      <td>1</td>\n",
       "      <td>0</td>\n",
       "      <td>0</td>\n",
       "    </tr>\n",
       "    <tr>\n",
       "      <td>2</td>\n",
       "      <td>1</td>\n",
       "      <td>53.85</td>\n",
       "      <td>1</td>\n",
       "      <td>0</td>\n",
       "      <td>0</td>\n",
       "      <td>0</td>\n",
       "      <td>1</td>\n",
       "      <td>1</td>\n",
       "      <td>0</td>\n",
       "      <td>0</td>\n",
       "      <td>...</td>\n",
       "      <td>0</td>\n",
       "      <td>1</td>\n",
       "      <td>61</td>\n",
       "      <td>0</td>\n",
       "      <td>0</td>\n",
       "      <td>0</td>\n",
       "      <td>0</td>\n",
       "      <td>1</td>\n",
       "      <td>0</td>\n",
       "      <td>0</td>\n",
       "    </tr>\n",
       "    <tr>\n",
       "      <td>3</td>\n",
       "      <td>0</td>\n",
       "      <td>42.30</td>\n",
       "      <td>1</td>\n",
       "      <td>0</td>\n",
       "      <td>0</td>\n",
       "      <td>0</td>\n",
       "      <td>1</td>\n",
       "      <td>0</td>\n",
       "      <td>1</td>\n",
       "      <td>1</td>\n",
       "      <td>...</td>\n",
       "      <td>0</td>\n",
       "      <td>0</td>\n",
       "      <td>1371</td>\n",
       "      <td>1</td>\n",
       "      <td>0</td>\n",
       "      <td>0</td>\n",
       "      <td>0</td>\n",
       "      <td>0</td>\n",
       "      <td>0</td>\n",
       "      <td>0</td>\n",
       "    </tr>\n",
       "    <tr>\n",
       "      <td>4</td>\n",
       "      <td>1</td>\n",
       "      <td>70.70</td>\n",
       "      <td>0</td>\n",
       "      <td>0</td>\n",
       "      <td>0</td>\n",
       "      <td>0</td>\n",
       "      <td>0</td>\n",
       "      <td>0</td>\n",
       "      <td>0</td>\n",
       "      <td>0</td>\n",
       "      <td>...</td>\n",
       "      <td>0</td>\n",
       "      <td>1</td>\n",
       "      <td>61</td>\n",
       "      <td>0</td>\n",
       "      <td>0</td>\n",
       "      <td>0</td>\n",
       "      <td>1</td>\n",
       "      <td>0</td>\n",
       "      <td>1</td>\n",
       "      <td>0</td>\n",
       "    </tr>\n",
       "  </tbody>\n",
       "</table>\n",
       "<p>5 rows × 22 columns</p>\n",
       "</div>"
      ],
      "text/plain": [
       "   PaperlessBilling  MonthlyCharges  gender  SeniorCitizen  Partner  \\\n",
       "0                 1           29.85       0              0        1   \n",
       "1                 0           56.95       1              0        0   \n",
       "2                 1           53.85       1              0        0   \n",
       "3                 0           42.30       1              0        0   \n",
       "4                 1           70.70       0              0        0   \n",
       "\n",
       "   Dependents  OnlineSecurity  OnlineBackup  DeviceProtection  TechSupport  \\\n",
       "0           0               0             1                 0            0   \n",
       "1           0               1             0                 1            0   \n",
       "2           0               1             1                 0            0   \n",
       "3           0               1             0                 1            1   \n",
       "4           0               0             0                 0            0   \n",
       "\n",
       "   ...  MultipleLines  churn  TotalDays  Type_One year  Type_Two year  \\\n",
       "0  ...              0      0         31              0              0   \n",
       "1  ...              0      0       1036              1              0   \n",
       "2  ...              0      1         61              0              0   \n",
       "3  ...              0      0       1371              1              0   \n",
       "4  ...              0      1         61              0              0   \n",
       "\n",
       "   PaymentMethod_Credit card (automatic)  PaymentMethod_Electronic check  \\\n",
       "0                                      0                               1   \n",
       "1                                      0                               0   \n",
       "2                                      0                               0   \n",
       "3                                      0                               0   \n",
       "4                                      0                               1   \n",
       "\n",
       "   PaymentMethod_Mailed check  InternetService_Fiber optic  InternetService_No  \n",
       "0                           0                            0                   0  \n",
       "1                           1                            0                   0  \n",
       "2                           1                            0                   0  \n",
       "3                           0                            0                   0  \n",
       "4                           0                            1                   0  \n",
       "\n",
       "[5 rows x 22 columns]"
      ]
     },
     "execution_count": 36,
     "metadata": {},
     "output_type": "execute_result"
    }
   ],
   "source": [
    "df_final.head()"
   ]
  },
  {
   "cell_type": "markdown",
   "metadata": {},
   "source": [
    "Определим фичи и целевой признак Churn, после чего разделим датафрейм на обучающую и тестовую выбороки. "
   ]
  },
  {
   "cell_type": "code",
   "execution_count": 37,
   "metadata": {},
   "outputs": [],
   "source": [
    "target = df_final['churn'] \n",
    "features = df_final.drop(columns=['churn'])"
   ]
  },
  {
   "cell_type": "code",
   "execution_count": 38,
   "metadata": {},
   "outputs": [],
   "source": [
    "features_train, features_test, target_train, target_test = train_test_split(features, target, test_size=0.2, \n",
    "                                                                            random_state=12345)"
   ]
  },
  {
   "cell_type": "markdown",
   "metadata": {},
   "source": [
    "Проведем масштабирование количественных признаков"
   ]
  },
  {
   "cell_type": "code",
   "execution_count": 39,
   "metadata": {},
   "outputs": [],
   "source": [
    "scaler = StandardScaler()\n",
    "\n",
    "scaler.fit(features_train[num_col])\n",
    "\n",
    "features_train = features_train.copy()\n",
    "features_train[num_col] = scaler.transform(features_train[num_col])\n",
    "\n",
    "features_test = features_test.copy()\n",
    "features_test[num_col] = scaler.transform(features_test[num_col])"
   ]
  },
  {
   "cell_type": "markdown",
   "metadata": {},
   "source": [
    "Посмотрим на баланс классов"
   ]
  },
  {
   "cell_type": "code",
   "execution_count": 40,
   "metadata": {},
   "outputs": [
    {
     "data": {
      "image/png": "[encoded data removed]",
      "text/plain": [
       "<Figure size 576x360 with 1 Axes>"
      ]
     },
     "metadata": {},
     "output_type": "display_data"
    }
   ],
   "source": [
    "target_train.value_counts().plot(\n",
    "    kind='bar', \n",
    "    figsize=(8, 5),\n",
    "    legend=False, \n",
    "    title='Распределение значений целевого признака churn', \n",
    ").set(xlabel='churn', ylabel='кол-во значений')\n",
    "plt.show()"
   ]
  },
  {
   "cell_type": "code",
   "execution_count": 150,
   "metadata": {},
   "outputs": [
    {
     "data": {
      "text/plain": [
       "0.35955598455598453"
      ]
     },
     "execution_count": 150,
     "metadata": {},
     "output_type": "execute_result"
    }
   ],
   "source": [
    "ratio = target_train[target_train == 1].count() / target_train[target_train == 0].count()\n",
    "ratio"
   ]
  },
  {
   "cell_type": "markdown",
   "metadata": {},
   "source": [
    "Присутсвует дисбаланс классов, необходимо увеличить число объектов меньшего класса. Применим технику upsampling"
   ]
  },
  {
   "cell_type": "code",
   "execution_count": 41,
   "metadata": {},
   "outputs": [],
   "source": [
    "def upsample(features, target, repeat):     \n",
    "    features_zeros = features[target == 0]     \n",
    "    features_ones = features[target == 1]     \n",
    "    target_zeros = target[target == 0]     \n",
    "    target_ones = target[target == 1] \n",
    "\n",
    "    features_upsampled = pd.concat([features_zeros] + [features_ones] * repeat)     \n",
    "    target_upsampled = pd.concat([target_zeros] + [target_ones] * repeat)     \n",
    "    \n",
    "    features_upsampled, target_upsampled = shuffle(         \n",
    "        features_upsampled, target_upsampled, random_state=12345)          \n",
    "    \n",
    "    return features_upsampled, target_upsampled"
   ]
  },
  {
   "cell_type": "code",
   "execution_count": 42,
   "metadata": {},
   "outputs": [],
   "source": [
    "features_train, target_train = upsample(features_train, target_train, 3)"
   ]
  },
  {
   "cell_type": "code",
   "execution_count": 43,
   "metadata": {},
   "outputs": [
    {
     "data": {
      "image/png": "[encoded data removed]",
      "text/plain": [
       "<Figure size 576x360 with 1 Axes>"
      ]
     },
     "metadata": {},
     "output_type": "display_data"
    }
   ],
   "source": [
    "target_train.value_counts().plot(\n",
    "    kind='bar', \n",
    "    figsize=(8, 5),\n",
    "    legend=False, \n",
    "    title='Распределение значений целевого признака churn', \n",
    ").set(xlabel='churn', ylabel='кол-во значений')\n",
    "plt.show()"
   ]
  },
  {
   "cell_type": "markdown",
   "metadata": {},
   "source": [
    "Теперь значения целевого признака находятся примерно в равных соотношениях"
   ]
  },
  {
   "cell_type": "markdown",
   "metadata": {},
   "source": [
    "### Обучение моделей\n"
   ]
  },
  {
   "cell_type": "markdown",
   "metadata": {},
   "source": [
    "Создадим функцию для расчета ROC-AUC score и построения ROC-AUC кривой"
   ]
  },
  {
   "cell_type": "code",
   "execution_count": 44,
   "metadata": {},
   "outputs": [],
   "source": [
    "def plot_roc_curve(target_test, predictions):\n",
    "    print('ROC-AUC score', roc_auc_score(target_test, predictions))\n",
    "    \n",
    "    fpr, tpr, thresholds = roc_curve(target_test, predictions)\n",
    "\n",
    "    plt.figure(figsize=(11, 5))\n",
    "    \n",
    "    plt.plot(fpr, tpr)\n",
    "    \n",
    "    plt.plot([0, 1], [0, 1], linestyle='--')\n",
    "    \n",
    "    plt.xlim([0.0, 1.0])\n",
    "    plt.ylim([0.0, 1.0])\n",
    "    \n",
    "    plt.xlabel('False Positive Rate')\n",
    "    plt.ylabel('True Positive Rate')\n",
    "    \n",
    "    plt.title('ROC-кривая')\n",
    "    \n",
    "    plt.show()"
   ]
  },
  {
   "cell_type": "markdown",
   "metadata": {},
   "source": [
    "##### LogisticRegression\n"
   ]
  },
  {
   "cell_type": "code",
   "execution_count": 45,
   "metadata": {},
   "outputs": [
    {
     "name": "stdout",
     "output_type": "stream",
     "text": [
      "{'C': 100}\n"
     ]
    }
   ],
   "source": [
    "param_grid = {'C': [0.001, 0.01, 0.1, 1, 10, 100, 1000]}\n",
    "\n",
    "model = LogisticRegression(solver='lbfgs', n_jobs=-1)\n",
    "\n",
    "search = GridSearchCV(model, param_grid, cv=5, scoring='roc_auc')\n",
    "search.fit(features_train, target_train)\n",
    "\n",
    "print(search.best_params_)\n",
    "\n",
    "predicted_probalities = search.best_estimator_.predict_proba(features_test)[:, 1]"
   ]
  },
  {
   "cell_type": "code",
   "execution_count": 46,
   "metadata": {},
   "outputs": [
    {
     "name": "stdout",
     "output_type": "stream",
     "text": [
      "ROC-AUC score 0.8437636088838795\n"
     ]
    },
    {
     "data": {
      "image/png": "[encoded data removed]",
      "text/plain": [
       "<Figure size 792x360 with 1 Axes>"
      ]
     },
     "metadata": {},
     "output_type": "display_data"
    }
   ],
   "source": [
    "plot_roc_curve(target_test, predicted_probalities)\n"
   ]
  },
  {
   "cell_type": "markdown",
   "metadata": {},
   "source": [
    "##### RandomForestClassifier\n"
   ]
  },
  {
   "cell_type": "code",
   "execution_count": 47,
   "metadata": {},
   "outputs": [
    {
     "name": "stdout",
     "output_type": "stream",
     "text": [
      "{'max_depth': 20, 'min_samples_leaf': 2, 'min_samples_split': 2, 'n_estimators': 100}\n"
     ]
    }
   ],
   "source": [
    "param_grid = {\n",
    "    'max_depth': [5, 10, 20],\n",
    "    'min_samples_split': [2, 10],\n",
    "    'min_samples_leaf': [2, 10],\n",
    "    'n_estimators': [10, 50, 100], \n",
    "}\n",
    "\n",
    "model = RandomForestClassifier(random_state=12345)\n",
    "\n",
    "search = GridSearchCV(model, param_grid, cv=5, scoring='roc_auc')\n",
    "search.fit(features_train, target_train)\n",
    "\n",
    "print(search.best_params_)\n",
    "\n",
    "predicted_probalities = search.best_estimator_.predict_proba(features_test)[:, 1]"
   ]
  },
  {
   "cell_type": "code",
   "execution_count": 48,
   "metadata": {},
   "outputs": [
    {
     "name": "stdout",
     "output_type": "stream",
     "text": [
      "ROC-AUC score 0.8454504700668597\n"
     ]
    },
    {
     "data": {
      "image/png": "[encoded data removed]",
      "text/plain": [
       "<Figure size 792x360 with 1 Axes>"
      ]
     },
     "metadata": {},
     "output_type": "display_data"
    }
   ],
   "source": [
    "plot_roc_curve(target_test, predicted_probalities)"
   ]
  },
  {
   "cell_type": "markdown",
   "metadata": {},
   "source": [
    "##### CatBoostClassifier\n"
   ]
  },
  {
   "cell_type": "code",
   "execution_count": 49,
   "metadata": {},
   "outputs": [
    {
     "name": "stdout",
     "output_type": "stream",
     "text": [
      "{'iterations': 100, 'l2_leaf_reg': 3, 'learning_rate': 0.3}\n"
     ]
    }
   ],
   "source": [
    "param_grid = {\n",
    "    'learning_rate': [0.1, 0.3],\n",
    "    'iterations': [50, 100],\n",
    "    'l2_leaf_reg': [3, 9]\n",
    "}\n",
    "\n",
    "model = CatBoostClassifier(random_state=12345, verbose=0)\n",
    "\n",
    "search = GridSearchCV(model, param_grid, cv=5, scoring='roc_auc')\n",
    "search.fit(features_train, target_train)\n",
    "\n",
    "print(search.best_params_)\n",
    "\n",
    "predicted_probalities = search.best_estimator_.predict_proba(features_test)[:, 1]"
   ]
  },
  {
   "cell_type": "code",
   "execution_count": 50,
   "metadata": {},
   "outputs": [
    {
     "name": "stdout",
     "output_type": "stream",
     "text": [
      "ROC-AUC score 0.909758690473141\n"
     ]
    },
    {
     "data": {
      "image/png": "[encoded data removed]",
      "text/plain": [
       "<Figure size 792x360 with 1 Axes>"
      ]
     },
     "metadata": {},
     "output_type": "display_data"
    }
   ],
   "source": [
    "plot_roc_curve(target_test, predicted_probalities)"
   ]
  },
  {
   "cell_type": "markdown",
   "metadata": {},
   "source": [
    "Catboost показал наилучшее значение метрики ROC-AUC - 0.91\n",
    "Вычилим важность факторов"
   ]
  },
  {
   "cell_type": "code",
   "execution_count": 51,
   "metadata": {},
   "outputs": [
    {
     "data": {
      "text/html": [
       "<div>\n",
       "<style scoped>\n",
       "    .dataframe tbody tr th:only-of-type {\n",
       "        vertical-align: middle;\n",
       "    }\n",
       "\n",
       "    .dataframe tbody tr th {\n",
       "        vertical-align: top;\n",
       "    }\n",
       "\n",
       "    .dataframe thead th {\n",
       "        text-align: right;\n",
       "    }\n",
       "</style>\n",
       "<table border=\"1\" class=\"dataframe\">\n",
       "  <thead>\n",
       "    <tr style=\"text-align: right;\">\n",
       "      <th></th>\n",
       "      <th>importances</th>\n",
       "    </tr>\n",
       "  </thead>\n",
       "  <tbody>\n",
       "    <tr>\n",
       "      <td>TotalDays</td>\n",
       "      <td>58.407544</td>\n",
       "    </tr>\n",
       "    <tr>\n",
       "      <td>MonthlyCharges</td>\n",
       "      <td>10.905146</td>\n",
       "    </tr>\n",
       "    <tr>\n",
       "      <td>Type_Two year</td>\n",
       "      <td>3.930785</td>\n",
       "    </tr>\n",
       "    <tr>\n",
       "      <td>InternetService_Fiber optic</td>\n",
       "      <td>3.506221</td>\n",
       "    </tr>\n",
       "    <tr>\n",
       "      <td>Type_One year</td>\n",
       "      <td>2.050189</td>\n",
       "    </tr>\n",
       "    <tr>\n",
       "      <td>InternetService_No</td>\n",
       "      <td>1.896641</td>\n",
       "    </tr>\n",
       "    <tr>\n",
       "      <td>PaymentMethod_Mailed check</td>\n",
       "      <td>1.790540</td>\n",
       "    </tr>\n",
       "    <tr>\n",
       "      <td>PaperlessBilling</td>\n",
       "      <td>1.619544</td>\n",
       "    </tr>\n",
       "    <tr>\n",
       "      <td>TechSupport</td>\n",
       "      <td>1.609179</td>\n",
       "    </tr>\n",
       "    <tr>\n",
       "      <td>PaymentMethod_Electronic check</td>\n",
       "      <td>1.588030</td>\n",
       "    </tr>\n",
       "    <tr>\n",
       "      <td>MultipleLines</td>\n",
       "      <td>1.573112</td>\n",
       "    </tr>\n",
       "    <tr>\n",
       "      <td>Dependents</td>\n",
       "      <td>1.541799</td>\n",
       "    </tr>\n",
       "    <tr>\n",
       "      <td>OnlineSecurity</td>\n",
       "      <td>1.529886</td>\n",
       "    </tr>\n",
       "    <tr>\n",
       "      <td>gender</td>\n",
       "      <td>1.298626</td>\n",
       "    </tr>\n",
       "    <tr>\n",
       "      <td>SeniorCitizen</td>\n",
       "      <td>1.268445</td>\n",
       "    </tr>\n",
       "    <tr>\n",
       "      <td>DeviceProtection</td>\n",
       "      <td>1.147827</td>\n",
       "    </tr>\n",
       "    <tr>\n",
       "      <td>StreamingTV</td>\n",
       "      <td>1.110768</td>\n",
       "    </tr>\n",
       "    <tr>\n",
       "      <td>StreamingMovies</td>\n",
       "      <td>1.110427</td>\n",
       "    </tr>\n",
       "    <tr>\n",
       "      <td>OnlineBackup</td>\n",
       "      <td>0.771371</td>\n",
       "    </tr>\n",
       "    <tr>\n",
       "      <td>PaymentMethod_Credit card (automatic)</td>\n",
       "      <td>0.715214</td>\n",
       "    </tr>\n",
       "    <tr>\n",
       "      <td>Partner</td>\n",
       "      <td>0.628704</td>\n",
       "    </tr>\n",
       "  </tbody>\n",
       "</table>\n",
       "</div>"
      ],
      "text/plain": [
       "                                       importances\n",
       "TotalDays                                58.407544\n",
       "MonthlyCharges                           10.905146\n",
       "Type_Two year                             3.930785\n",
       "InternetService_Fiber optic               3.506221\n",
       "Type_One year                             2.050189\n",
       "InternetService_No                        1.896641\n",
       "PaymentMethod_Mailed check                1.790540\n",
       "PaperlessBilling                          1.619544\n",
       "TechSupport                               1.609179\n",
       "PaymentMethod_Electronic check            1.588030\n",
       "MultipleLines                             1.573112\n",
       "Dependents                                1.541799\n",
       "OnlineSecurity                            1.529886\n",
       "gender                                    1.298626\n",
       "SeniorCitizen                             1.268445\n",
       "DeviceProtection                          1.147827\n",
       "StreamingTV                               1.110768\n",
       "StreamingMovies                           1.110427\n",
       "OnlineBackup                              0.771371\n",
       "PaymentMethod_Credit card (automatic)     0.715214\n",
       "Partner                                   0.628704"
      ]
     },
     "execution_count": 51,
     "metadata": {},
     "output_type": "execute_result"
    }
   ],
   "source": [
    "importances_df = pd.DataFrame(search.best_estimator_.feature_importances_, index = features_test.columns, columns=['importances'])\n",
    "importances_df = importances_df.sort_values(by='importances', ascending=False)\n",
    "importances_df"
   ]
  },
  {
   "cell_type": "code",
   "execution_count": 52,
   "metadata": {},
   "outputs": [
    {
     "data": {
      "image/png": "[encoded data removed]",
      "text/plain": [
       "<Figure size 720x360 with 1 Axes>"
      ]
     },
     "metadata": {},
     "output_type": "display_data"
    }
   ],
   "source": [
    "importances_df.plot(kind='bar', figsize=(10, 5), title='Важность факторов')\n",
    "plt.show()"
   ]
  },
  {
   "cell_type": "code",
   "execution_count": 53,
   "metadata": {},
   "outputs": [
    {
     "data": {
      "text/html": [
       "<div>\n",
       "<style scoped>\n",
       "    .dataframe tbody tr th:only-of-type {\n",
       "        vertical-align: middle;\n",
       "    }\n",
       "\n",
       "    .dataframe tbody tr th {\n",
       "        vertical-align: top;\n",
       "    }\n",
       "\n",
       "    .dataframe thead th {\n",
       "        text-align: right;\n",
       "    }\n",
       "</style>\n",
       "<table border=\"1\" class=\"dataframe\">\n",
       "  <thead>\n",
       "    <tr style=\"text-align: right;\">\n",
       "      <th></th>\n",
       "      <th>ROC-AUC</th>\n",
       "    </tr>\n",
       "  </thead>\n",
       "  <tbody>\n",
       "    <tr>\n",
       "      <td>LinearRegression</td>\n",
       "      <td>0.84</td>\n",
       "    </tr>\n",
       "    <tr>\n",
       "      <td>RandomForestRegressor</td>\n",
       "      <td>0.85</td>\n",
       "    </tr>\n",
       "    <tr>\n",
       "      <td>CatBoostRegressor</td>\n",
       "      <td>0.91</td>\n",
       "    </tr>\n",
       "  </tbody>\n",
       "</table>\n",
       "</div>"
      ],
      "text/plain": [
       "                        ROC-AUC\n",
       "LinearRegression           0.84\n",
       "RandomForestRegressor      0.85\n",
       "CatBoostRegressor          0.91"
      ]
     },
     "execution_count": 53,
     "metadata": {},
     "output_type": "execute_result"
    }
   ],
   "source": [
    "index = ['LinearRegression',\n",
    "         'RandomForestRegressor',\n",
    "         'CatBoostRegressor']\n",
    "data = {' ROC-AUC':[0.84, 0.85, 0.91]}\n",
    "scores_data = pd.DataFrame(data=data, index=index)\n",
    "scores_data"
   ]
  },
  {
   "cell_type": "markdown",
   "metadata": {},
   "source": [
    "### Вывод\n",
    "\n",
    "- Произведена первичная обработка данных - переименованы столбцы, изменены типы данных\n",
    "- Определен целевой признак Churn, отражающий факт отказа клиента от услуг и признак TotalDays, который обозначает сколько по времени пользователь пользовался услугами\n",
    "- Проведен исследовательский анализ данных - проанализированы количественные и категоральные признаки, проведена попытка найти связь между ними и целевым признаком. По ходу исследовательского анализа были сделаны следующие выводы: \n",
    "    - Наибольшую склонность к оттоку имеют клиенты, использующие ежемесячный способ оплаты и клиенты, которые используют электронные чеки\n",
    "    - Дополнительные услуги не существенно влияют на отток клиентов. Клиенты уходят примерно в равном соотношении\n",
    "    - Пенсионеры покидают сервис гораздо реже. Так же реже покидают сервис и те, кто не пользуетя интернетом. Скорее всего это люди одной категории и им трудно разбираться в том, как сменить поставщика услуг\n",
    "- Проведена подготовка данных к обучению моделей: удалены ненужные столбцы, применена техника OHE, датафрейм был разделен на обучающую и тестовую выборки, проведено масштабирование количественных признаков и увеличение числа объектов меньшего класса целевого признака техникой upsample\n",
    "- Были обучены 3 модели: LogisticRegression, RandomForestClassifier и CatBoostClassifier. Лучший результат показала модель CatBoostClassifier со значением метрики ROC-AUC в 0.91\n",
    "- Самыми значимыми факторами являются показатели того, сколько клиент пользуется услугами и сколько он платит в месяц"
   ]
  }
 ],
 "metadata": {
  "ExecuteTimeLog": [
   {
    "duration": 95,
    "start_time": "2022-02-28T12:48:14.062Z"
   },
   {
    "duration": 1176,
    "start_time": "2022-02-28T12:49:44.041Z"
   },
   {
    "duration": 76,
    "start_time": "2022-02-28T12:49:48.954Z"
   },
   {
    "duration": 4,
    "start_time": "2022-02-28T12:50:05.756Z"
   },
   {
    "duration": 33,
    "start_time": "2022-02-28T12:51:28.292Z"
   },
   {
    "duration": 19,
    "start_time": "2022-02-28T12:51:36.780Z"
   },
   {
    "duration": 26,
    "start_time": "2022-02-28T12:51:53.449Z"
   },
   {
    "duration": 12,
    "start_time": "2022-02-28T12:52:00.806Z"
   },
   {
    "duration": 46,
    "start_time": "2022-02-28T12:52:17.033Z"
   },
   {
    "duration": 17,
    "start_time": "2022-02-28T12:52:22.071Z"
   },
   {
    "duration": 27,
    "start_time": "2022-02-28T12:52:37.817Z"
   },
   {
    "duration": 7,
    "start_time": "2022-02-28T12:52:45.057Z"
   },
   {
    "duration": 28,
    "start_time": "2022-02-28T12:55:00.605Z"
   },
   {
    "duration": 32,
    "start_time": "2022-02-28T12:55:07.020Z"
   },
   {
    "duration": 4,
    "start_time": "2022-02-28T12:55:33.124Z"
   },
   {
    "duration": 10,
    "start_time": "2022-02-28T12:56:46.318Z"
   },
   {
    "duration": 7,
    "start_time": "2022-02-28T12:57:00.607Z"
   },
   {
    "duration": 5,
    "start_time": "2022-02-28T12:57:19.687Z"
   },
   {
    "duration": 36,
    "start_time": "2022-02-28T12:58:01.861Z"
   },
   {
    "duration": 4,
    "start_time": "2022-02-28T12:58:34.524Z"
   },
   {
    "duration": 28,
    "start_time": "2022-02-28T12:58:38.667Z"
   },
   {
    "duration": 4,
    "start_time": "2022-02-28T12:59:47.702Z"
   },
   {
    "duration": 13,
    "start_time": "2022-02-28T12:59:51.904Z"
   },
   {
    "duration": 122,
    "start_time": "2022-02-28T13:00:40.982Z"
   },
   {
    "duration": 2,
    "start_time": "2022-02-28T13:01:14.074Z"
   },
   {
    "duration": 8,
    "start_time": "2022-02-28T13:01:28.010Z"
   },
   {
    "duration": 646,
    "start_time": "2022-02-28T13:01:58.292Z"
   },
   {
    "duration": 677,
    "start_time": "2022-02-28T13:02:05.833Z"
   },
   {
    "duration": 2856,
    "start_time": "2022-02-28T13:02:43.906Z"
   },
   {
    "duration": 520,
    "start_time": "2022-02-28T13:03:08.522Z"
   },
   {
    "duration": 1337,
    "start_time": "2022-03-02T04:53:46.508Z"
   },
   {
    "duration": 77,
    "start_time": "2022-03-02T04:53:47.848Z"
   },
   {
    "duration": 5,
    "start_time": "2022-03-02T04:53:47.928Z"
   },
   {
    "duration": 45,
    "start_time": "2022-03-02T04:53:48.075Z"
   },
   {
    "duration": 25,
    "start_time": "2022-03-02T04:53:48.558Z"
   },
   {
    "duration": 35,
    "start_time": "2022-03-02T04:53:49.326Z"
   },
   {
    "duration": 16,
    "start_time": "2022-03-02T04:53:49.698Z"
   },
   {
    "duration": 71,
    "start_time": "2022-03-02T04:53:50.107Z"
   },
   {
    "duration": 26,
    "start_time": "2022-03-02T04:53:50.303Z"
   },
   {
    "duration": 37,
    "start_time": "2022-03-02T04:53:50.690Z"
   },
   {
    "duration": 9,
    "start_time": "2022-03-02T04:53:50.874Z"
   },
   {
    "duration": 43,
    "start_time": "2022-03-02T04:53:51.724Z"
   },
   {
    "duration": 51,
    "start_time": "2022-03-02T04:53:52.107Z"
   },
   {
    "duration": 8,
    "start_time": "2022-03-02T04:53:52.525Z"
   },
   {
    "duration": 16,
    "start_time": "2022-03-02T04:53:52.926Z"
   },
   {
    "duration": 9,
    "start_time": "2022-03-02T04:53:53.324Z"
   },
   {
    "duration": 7,
    "start_time": "2022-03-02T04:53:53.742Z"
   },
   {
    "duration": 46,
    "start_time": "2022-03-02T04:53:53.940Z"
   },
   {
    "duration": 6,
    "start_time": "2022-03-02T04:53:54.558Z"
   },
   {
    "duration": 41,
    "start_time": "2022-03-02T04:53:54.791Z"
   },
   {
    "duration": 7,
    "start_time": "2022-03-02T04:53:55.257Z"
   },
   {
    "duration": 19,
    "start_time": "2022-03-02T04:53:55.491Z"
   },
   {
    "duration": 186,
    "start_time": "2022-03-02T04:53:56.358Z"
   },
   {
    "duration": 12,
    "start_time": "2022-03-02T04:53:57.307Z"
   },
   {
    "duration": 1134,
    "start_time": "2022-03-02T04:53:58.107Z"
   },
   {
    "duration": 1050,
    "start_time": "2022-03-02T04:53:59.244Z"
   },
   {
    "duration": 4280,
    "start_time": "2022-03-02T04:54:00.297Z"
   },
   {
    "duration": 674,
    "start_time": "2022-03-02T04:54:04.583Z"
   },
   {
    "duration": 74,
    "start_time": "2022-03-02T04:57:50.280Z"
   },
   {
    "duration": 23,
    "start_time": "2022-03-02T04:58:21.555Z"
   },
   {
    "duration": 27,
    "start_time": "2022-03-02T04:58:33.488Z"
   },
   {
    "duration": 74,
    "start_time": "2022-03-02T05:09:42.513Z"
   },
   {
    "duration": 6,
    "start_time": "2022-03-02T05:10:43.271Z"
   },
   {
    "duration": 313,
    "start_time": "2022-03-02T05:10:58.758Z"
   },
   {
    "duration": 102,
    "start_time": "2022-03-02T05:11:56.038Z"
   },
   {
    "duration": 9,
    "start_time": "2022-03-02T05:12:03.147Z"
   },
   {
    "duration": 19,
    "start_time": "2022-03-02T05:13:32.825Z"
   },
   {
    "duration": 367,
    "start_time": "2022-03-02T05:14:49.175Z"
   },
   {
    "duration": 284,
    "start_time": "2022-03-02T05:14:55.898Z"
   },
   {
    "duration": 810,
    "start_time": "2022-03-02T05:15:17.876Z"
   },
   {
    "duration": 369,
    "start_time": "2022-03-02T05:15:25.118Z"
   },
   {
    "duration": 706,
    "start_time": "2022-03-02T05:16:58.769Z"
   },
   {
    "duration": 367,
    "start_time": "2022-03-02T05:17:04.937Z"
   },
   {
    "duration": 364,
    "start_time": "2022-03-02T05:17:10.655Z"
   },
   {
    "duration": 2202,
    "start_time": "2022-03-02T05:18:47.470Z"
   },
   {
    "duration": 364,
    "start_time": "2022-03-02T05:18:52.935Z"
   },
   {
    "duration": 1191,
    "start_time": "2022-03-02T05:22:54.246Z"
   },
   {
    "duration": 385,
    "start_time": "2022-03-02T05:22:55.441Z"
   },
   {
    "duration": 399,
    "start_time": "2022-03-02T05:24:04.553Z"
   },
   {
    "duration": 277,
    "start_time": "2022-03-02T05:24:12.929Z"
   },
   {
    "duration": 275,
    "start_time": "2022-03-02T05:24:31.210Z"
   },
   {
    "duration": 290,
    "start_time": "2022-03-02T05:24:38.454Z"
   },
   {
    "duration": 8,
    "start_time": "2022-03-02T05:24:54.439Z"
   },
   {
    "duration": 9,
    "start_time": "2022-03-02T05:25:21.591Z"
   },
   {
    "duration": 176,
    "start_time": "2022-03-02T05:26:31.219Z"
   },
   {
    "duration": 5,
    "start_time": "2022-03-02T05:27:11.266Z"
   },
   {
    "duration": 366,
    "start_time": "2022-03-02T05:27:12.354Z"
   },
   {
    "duration": 5,
    "start_time": "2022-03-02T05:27:19.090Z"
   },
   {
    "duration": 17,
    "start_time": "2022-03-02T05:27:19.897Z"
   },
   {
    "duration": 252,
    "start_time": "2022-03-02T05:28:05.442Z"
   },
   {
    "duration": 19686,
    "start_time": "2022-03-02T05:30:47.298Z"
   },
   {
    "duration": 5,
    "start_time": "2022-03-02T05:32:46.231Z"
   },
   {
    "duration": 460,
    "start_time": "2022-03-02T05:33:00.037Z"
   },
   {
    "duration": 173,
    "start_time": "2022-03-02T05:33:41.806Z"
   },
   {
    "duration": 62805,
    "start_time": "2022-03-02T05:33:46.403Z"
   },
   {
    "duration": 447,
    "start_time": "2022-03-02T05:36:12.064Z"
   },
   {
    "duration": 108964,
    "start_time": "2022-03-02T05:36:16.262Z"
   },
   {
    "duration": 461,
    "start_time": "2022-03-02T05:38:05.229Z"
   },
   {
    "duration": 64325,
    "start_time": "2022-03-02T05:39:17.831Z"
   },
   {
    "duration": 463,
    "start_time": "2022-03-02T05:41:00.437Z"
   },
   {
    "duration": 109841,
    "start_time": "2022-03-02T05:41:05.480Z"
   },
   {
    "duration": 453,
    "start_time": "2022-03-02T05:42:55.324Z"
   },
   {
    "duration": 14,
    "start_time": "2022-03-02T05:44:23.802Z"
   },
   {
    "duration": 626,
    "start_time": "2022-03-02T05:44:24.861Z"
   },
   {
    "duration": 13,
    "start_time": "2022-03-02T05:46:48.664Z"
   },
   {
    "duration": 17,
    "start_time": "2022-03-02T05:47:02.568Z"
   },
   {
    "duration": 188,
    "start_time": "2022-03-02T05:50:07.177Z"
   },
   {
    "duration": 1764,
    "start_time": "2022-03-02T05:50:43.575Z"
   },
   {
    "duration": 9,
    "start_time": "2022-03-02T05:51:33.574Z"
   },
   {
    "duration": 13,
    "start_time": "2022-03-02T05:51:35.750Z"
   },
   {
    "duration": 8,
    "start_time": "2022-03-02T05:51:40.275Z"
   },
   {
    "duration": 7,
    "start_time": "2022-03-02T05:52:55.209Z"
   },
   {
    "duration": 23,
    "start_time": "2022-03-02T05:53:02.979Z"
   },
   {
    "duration": 134,
    "start_time": "2022-03-02T05:53:57.098Z"
   },
   {
    "duration": 12,
    "start_time": "2022-03-02T05:54:49.043Z"
   },
   {
    "duration": 12,
    "start_time": "2022-03-02T05:55:06.183Z"
   },
   {
    "duration": 15,
    "start_time": "2022-03-02T05:55:15.552Z"
   },
   {
    "duration": 4,
    "start_time": "2022-03-02T05:57:15.963Z"
   },
   {
    "duration": 23,
    "start_time": "2022-03-02T05:57:26.437Z"
   },
   {
    "duration": 24,
    "start_time": "2022-03-02T05:57:26.639Z"
   },
   {
    "duration": 7,
    "start_time": "2022-03-02T05:57:26.989Z"
   },
   {
    "duration": 9,
    "start_time": "2022-03-02T05:57:27.155Z"
   },
   {
    "duration": 21,
    "start_time": "2022-03-02T05:57:27.522Z"
   },
   {
    "duration": 271,
    "start_time": "2022-03-02T05:57:28.456Z"
   },
   {
    "duration": 9,
    "start_time": "2022-03-02T05:57:29.439Z"
   },
   {
    "duration": 6,
    "start_time": "2022-03-02T05:57:30.773Z"
   },
   {
    "duration": 18,
    "start_time": "2022-03-02T05:57:31.323Z"
   },
   {
    "duration": 255,
    "start_time": "2022-03-02T05:57:31.873Z"
   },
   {
    "duration": 6,
    "start_time": "2022-03-02T05:57:34.642Z"
   },
   {
    "duration": 20103,
    "start_time": "2022-03-02T05:57:35.788Z"
   },
   {
    "duration": 458,
    "start_time": "2022-03-02T05:58:02.762Z"
   },
   {
    "duration": 58644,
    "start_time": "2022-03-02T05:58:05.706Z"
   },
   {
    "duration": 464,
    "start_time": "2022-03-02T05:59:04.353Z"
   },
   {
    "duration": 126296,
    "start_time": "2022-03-02T05:59:04.820Z"
   },
   {
    "duration": 445,
    "start_time": "2022-03-02T06:01:11.119Z"
   },
   {
    "duration": 12,
    "start_time": "2022-03-02T06:01:28.335Z"
   },
   {
    "duration": 613,
    "start_time": "2022-03-02T06:01:30.305Z"
   },
   {
    "duration": 4,
    "start_time": "2022-03-02T06:19:14.847Z"
   },
   {
    "duration": 11,
    "start_time": "2022-03-02T06:19:38.425Z"
   },
   {
    "duration": 8,
    "start_time": "2022-03-02T06:36:28.904Z"
   },
   {
    "duration": 77,
    "start_time": "2022-03-02T06:36:29.036Z"
   },
   {
    "duration": 6,
    "start_time": "2022-03-02T06:36:29.352Z"
   },
   {
    "duration": 40,
    "start_time": "2022-03-02T06:36:29.667Z"
   },
   {
    "duration": 23,
    "start_time": "2022-03-02T06:36:29.819Z"
   },
   {
    "duration": 37,
    "start_time": "2022-03-02T06:36:30.270Z"
   },
   {
    "duration": 19,
    "start_time": "2022-03-02T06:36:30.401Z"
   },
   {
    "duration": 76,
    "start_time": "2022-03-02T06:36:30.736Z"
   },
   {
    "duration": 26,
    "start_time": "2022-03-02T06:36:30.908Z"
   },
   {
    "duration": 38,
    "start_time": "2022-03-02T06:36:31.237Z"
   },
   {
    "duration": 7,
    "start_time": "2022-03-02T06:36:31.407Z"
   },
   {
    "duration": 41,
    "start_time": "2022-03-02T06:36:32.102Z"
   },
   {
    "duration": 45,
    "start_time": "2022-03-02T06:36:32.303Z"
   },
   {
    "duration": 6,
    "start_time": "2022-03-02T06:36:32.668Z"
   },
   {
    "duration": 7,
    "start_time": "2022-03-02T06:36:33.052Z"
   },
   {
    "duration": 10,
    "start_time": "2022-03-02T06:36:33.418Z"
   },
   {
    "duration": 14,
    "start_time": "2022-03-02T06:36:33.669Z"
   },
   {
    "duration": 8,
    "start_time": "2022-03-02T06:36:34.220Z"
   },
   {
    "duration": 17,
    "start_time": "2022-03-02T06:36:34.601Z"
   },
   {
    "duration": 9,
    "start_time": "2022-03-02T06:36:34.967Z"
   },
   {
    "duration": 7,
    "start_time": "2022-03-02T06:36:35.346Z"
   },
   {
    "duration": 42,
    "start_time": "2022-03-02T06:36:35.520Z"
   },
   {
    "duration": 38,
    "start_time": "2022-03-02T06:36:35.668Z"
   },
   {
    "duration": 6,
    "start_time": "2022-03-02T06:36:36.035Z"
   },
   {
    "duration": 22,
    "start_time": "2022-03-02T06:36:36.218Z"
   },
   {
    "duration": 361,
    "start_time": "2022-03-02T06:36:36.936Z"
   },
   {
    "duration": 13,
    "start_time": "2022-03-02T06:36:37.535Z"
   },
   {
    "duration": 1923,
    "start_time": "2022-03-02T06:36:37.970Z"
   },
   {
    "duration": 1799,
    "start_time": "2022-03-02T06:36:39.895Z"
   },
   {
    "duration": 6543,
    "start_time": "2022-03-02T06:36:41.697Z"
   },
   {
    "duration": 730,
    "start_time": "2022-03-02T06:36:48.242Z"
   },
   {
    "duration": 13,
    "start_time": "2022-03-02T06:36:48.983Z"
   },
   {
    "duration": 5,
    "start_time": "2022-03-02T06:36:50.557Z"
   },
   {
    "duration": 24,
    "start_time": "2022-03-02T06:36:51.306Z"
   },
   {
    "duration": 25,
    "start_time": "2022-03-02T06:36:51.505Z"
   },
   {
    "duration": 7,
    "start_time": "2022-03-02T06:36:51.888Z"
   },
   {
    "duration": 9,
    "start_time": "2022-03-02T06:36:52.089Z"
   },
   {
    "duration": 20,
    "start_time": "2022-03-02T06:36:52.456Z"
   },
   {
    "duration": 281,
    "start_time": "2022-03-02T06:36:52.822Z"
   },
   {
    "duration": 10,
    "start_time": "2022-03-02T06:36:53.107Z"
   },
   {
    "duration": 7,
    "start_time": "2022-03-02T06:36:53.823Z"
   },
   {
    "duration": 20,
    "start_time": "2022-03-02T06:36:53.989Z"
   },
   {
    "duration": 364,
    "start_time": "2022-03-02T06:36:54.173Z"
   },
   {
    "duration": 7,
    "start_time": "2022-03-02T06:36:55.239Z"
   },
   {
    "duration": 22095,
    "start_time": "2022-03-02T06:36:55.590Z"
   },
   {
    "duration": 548,
    "start_time": "2022-03-02T06:37:17.689Z"
   },
   {
    "duration": 59389,
    "start_time": "2022-03-02T06:37:18.240Z"
   },
   {
    "duration": 467,
    "start_time": "2022-03-02T06:38:17.632Z"
   },
   {
    "duration": 126507,
    "start_time": "2022-03-02T06:38:18.102Z"
   },
   {
    "duration": 447,
    "start_time": "2022-03-02T06:40:24.612Z"
   },
   {
    "duration": 23,
    "start_time": "2022-03-02T06:40:25.062Z"
   },
   {
    "duration": 640,
    "start_time": "2022-03-02T06:40:25.090Z"
   },
   {
    "duration": 11,
    "start_time": "2022-03-02T06:40:25.733Z"
   },
   {
    "duration": 1494,
    "start_time": "2022-03-02T08:07:36.330Z"
   },
   {
    "duration": 84,
    "start_time": "2022-03-02T08:07:37.827Z"
   },
   {
    "duration": 7,
    "start_time": "2022-03-02T08:07:40.335Z"
   },
   {
    "duration": 51,
    "start_time": "2022-03-02T08:08:10.405Z"
   },
   {
    "duration": 25,
    "start_time": "2022-03-02T08:08:11.107Z"
   },
   {
    "duration": 36,
    "start_time": "2022-03-02T08:08:12.328Z"
   },
   {
    "duration": 18,
    "start_time": "2022-03-02T08:08:13.177Z"
   },
   {
    "duration": 75,
    "start_time": "2022-03-02T08:08:14.137Z"
   },
   {
    "duration": 25,
    "start_time": "2022-03-02T08:08:14.634Z"
   },
   {
    "duration": 39,
    "start_time": "2022-03-02T08:08:15.958Z"
   },
   {
    "duration": 8,
    "start_time": "2022-03-02T08:08:18.217Z"
   },
   {
    "duration": 56,
    "start_time": "2022-03-02T08:10:11.435Z"
   },
   {
    "duration": 64,
    "start_time": "2022-03-02T08:10:12.115Z"
   },
   {
    "duration": 9,
    "start_time": "2022-03-02T08:10:36.657Z"
   },
   {
    "duration": 6,
    "start_time": "2022-03-02T08:10:38.197Z"
   },
   {
    "duration": 11,
    "start_time": "2022-03-02T08:10:39.150Z"
   },
   {
    "duration": 13,
    "start_time": "2022-03-02T08:10:39.349Z"
   },
   {
    "duration": 7,
    "start_time": "2022-03-02T08:10:39.980Z"
   },
   {
    "duration": 14,
    "start_time": "2022-03-02T08:10:40.657Z"
   },
   {
    "duration": 8,
    "start_time": "2022-03-02T08:10:42.062Z"
   },
   {
    "duration": 7,
    "start_time": "2022-03-02T08:10:42.425Z"
   },
   {
    "duration": 54,
    "start_time": "2022-03-02T08:10:42.583Z"
   },
   {
    "duration": 55,
    "start_time": "2022-03-02T08:10:42.758Z"
   },
   {
    "duration": 7,
    "start_time": "2022-03-02T08:10:43.101Z"
   },
   {
    "duration": 21,
    "start_time": "2022-03-02T08:10:43.547Z"
   },
   {
    "duration": 58,
    "start_time": "2022-03-02T08:11:39.947Z"
   },
   {
    "duration": 232,
    "start_time": "2022-03-02T08:14:58.869Z"
   },
   {
    "duration": 12,
    "start_time": "2022-03-02T08:15:17.536Z"
   },
   {
    "duration": 1408,
    "start_time": "2022-03-02T08:15:19.369Z"
   },
   {
    "duration": 1523,
    "start_time": "2022-03-02T08:15:20.780Z"
   },
   {
    "duration": 4423,
    "start_time": "2022-03-02T08:15:23.253Z"
   },
   {
    "duration": 948,
    "start_time": "2022-03-02T08:15:27.679Z"
   },
   {
    "duration": 25,
    "start_time": "2022-03-02T08:15:28.631Z"
   },
   {
    "duration": 4,
    "start_time": "2022-03-02T08:15:28.658Z"
   },
   {
    "duration": 24,
    "start_time": "2022-03-02T08:18:37.882Z"
   },
   {
    "duration": 25,
    "start_time": "2022-03-02T08:18:38.788Z"
   },
   {
    "duration": 6,
    "start_time": "2022-03-02T08:18:50.663Z"
   },
   {
    "duration": 8,
    "start_time": "2022-03-02T08:18:50.961Z"
   },
   {
    "duration": 20,
    "start_time": "2022-03-02T08:18:53.316Z"
   },
   {
    "duration": 374,
    "start_time": "2022-03-02T08:18:56.679Z"
   },
   {
    "duration": 7,
    "start_time": "2022-03-02T08:19:02.206Z"
   },
   {
    "duration": 19,
    "start_time": "2022-03-02T08:19:02.938Z"
   },
   {
    "duration": 283,
    "start_time": "2022-03-02T08:19:03.784Z"
   },
   {
    "duration": 7,
    "start_time": "2022-03-02T08:20:03.620Z"
   },
   {
    "duration": 23343,
    "start_time": "2022-03-02T08:20:06.109Z"
   },
   {
    "duration": 585,
    "start_time": "2022-03-02T08:20:29.456Z"
   },
   {
    "duration": 87000,
    "start_time": "2022-03-02T08:20:30.053Z"
   },
   {
    "duration": 698,
    "start_time": "2022-03-02T08:21:57.057Z"
   },
   {
    "duration": 192567,
    "start_time": "2022-03-02T08:21:57.758Z"
   },
   {
    "duration": 485,
    "start_time": "2022-03-02T08:25:10.328Z"
   },
   {
    "duration": 14,
    "start_time": "2022-03-02T08:25:10.816Z"
   },
   {
    "duration": 668,
    "start_time": "2022-03-02T08:25:10.852Z"
   },
   {
    "duration": 10,
    "start_time": "2022-03-02T08:25:11.522Z"
   }
  ],
  "kernelspec": {
   "display_name": "Python 3",
   "language": "python",
   "name": "python3"
  },
  "language_info": {
   "codemirror_mode": {
    "name": "ipython",
    "version": 3
   },
   "file_extension": ".py",
   "mimetype": "text/x-python",
   "name": "python",
   "nbconvert_exporter": "python",
   "pygments_lexer": "ipython3",
   "version": "3.9.1"
  },
  "toc": {
   "base_numbering": 1,
   "nav_menu": {},
   "number_sections": false,
   "sideBar": true,
   "skip_h1_title": true,
   "title_cell": "Table of Contents",
   "title_sidebar": "Contents",
   "toc_cell": false,
   "toc_position": {},
   "toc_section_display": true,
   "toc_window_display": false
  }
 },
 "nbformat": 4,
 "nbformat_minor": 2
}
