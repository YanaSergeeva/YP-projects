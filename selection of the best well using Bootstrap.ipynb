{
 "cells": [
  {
   "cell_type": "markdown",
   "metadata": {},
   "source": [
    "# Выбор локации для скважины"
   ]
  },
  {
   "cell_type": "markdown",
   "metadata": {},
   "source": [
    "Допустим, вы работаете в добывающей компании «ГлавРосГосНефть». Нужно решить, где бурить новую скважину.\n",
    "\n",
    "Вам предоставлены пробы нефти в трёх регионах: в каждом 10 000 месторождений, где измерили качество нефти и объём её запасов. Постройте модель машинного обучения, которая поможет определить регион, где добыча принесёт наибольшую прибыль. Проанализируйте возможную прибыль и риски техникой *Bootstrap.*\n",
    "\n",
    "Шаги для выбора локации:\n",
    "\n",
    "- В избранном регионе ищут месторождения, для каждого определяют значения признаков;\n",
    "- Строят модель и оценивают объём запасов;\n",
    "- Выбирают месторождения с самым высокими оценками значений. Количество месторождений зависит от бюджета компании и стоимости разработки одной скважины;\n",
    "- Прибыль равна суммарной прибыли отобранных месторождений."
   ]
  },
  {
   "cell_type": "markdown",
   "metadata": {},
   "source": [
    "## Загрузка и подготовка данных"
   ]
  },
  {
   "cell_type": "code",
   "execution_count": 1,
   "metadata": {},
   "outputs": [],
   "source": [
    "import pandas as pd\n",
    "import numpy as np\n",
    "from sklearn.model_selection import train_test_split\n",
    "from sklearn.linear_model import LinearRegression\n",
    "from sklearn.metrics import mean_squared_error\n",
    "from sklearn.preprocessing import StandardScaler\n",
    "from sklearn.utils import shuffle\n",
    "import matplotlib.pyplot as plt"
   ]
  },
  {
   "cell_type": "code",
   "execution_count": 2,
   "metadata": {},
   "outputs": [],
   "source": [
    "oil_well_1 = pd.read_csv('/datasets/geo_data_0.csv')\n",
    "oil_well_2 = pd.read_csv('/datasets/geo_data_1.csv')\n",
    "oil_well_3 = pd.read_csv('/datasets/geo_data_2.csv')"
   ]
  },
  {
   "cell_type": "code",
   "execution_count": 3,
   "metadata": {},
   "outputs": [
    {
     "data": {
      "text/html": [
       "<div>\n",
       "<style scoped>\n",
       "    .dataframe tbody tr th:only-of-type {\n",
       "        vertical-align: middle;\n",
       "    }\n",
       "\n",
       "    .dataframe tbody tr th {\n",
       "        vertical-align: top;\n",
       "    }\n",
       "\n",
       "    .dataframe thead th {\n",
       "        text-align: right;\n",
       "    }\n",
       "</style>\n",
       "<table border=\"1\" class=\"dataframe\">\n",
       "  <thead>\n",
       "    <tr style=\"text-align: right;\">\n",
       "      <th></th>\n",
       "      <th>id</th>\n",
       "      <th>f0</th>\n",
       "      <th>f1</th>\n",
       "      <th>f2</th>\n",
       "      <th>product</th>\n",
       "    </tr>\n",
       "  </thead>\n",
       "  <tbody>\n",
       "    <tr>\n",
       "      <td>0</td>\n",
       "      <td>txEyH</td>\n",
       "      <td>0.705745</td>\n",
       "      <td>-0.497823</td>\n",
       "      <td>1.221170</td>\n",
       "      <td>105.280062</td>\n",
       "    </tr>\n",
       "    <tr>\n",
       "      <td>1</td>\n",
       "      <td>2acmU</td>\n",
       "      <td>1.334711</td>\n",
       "      <td>-0.340164</td>\n",
       "      <td>4.365080</td>\n",
       "      <td>73.037750</td>\n",
       "    </tr>\n",
       "    <tr>\n",
       "      <td>2</td>\n",
       "      <td>409Wp</td>\n",
       "      <td>1.022732</td>\n",
       "      <td>0.151990</td>\n",
       "      <td>1.419926</td>\n",
       "      <td>85.265647</td>\n",
       "    </tr>\n",
       "    <tr>\n",
       "      <td>3</td>\n",
       "      <td>iJLyR</td>\n",
       "      <td>-0.032172</td>\n",
       "      <td>0.139033</td>\n",
       "      <td>2.978566</td>\n",
       "      <td>168.620776</td>\n",
       "    </tr>\n",
       "    <tr>\n",
       "      <td>4</td>\n",
       "      <td>Xdl7t</td>\n",
       "      <td>1.988431</td>\n",
       "      <td>0.155413</td>\n",
       "      <td>4.751769</td>\n",
       "      <td>154.036647</td>\n",
       "    </tr>\n",
       "    <tr>\n",
       "      <td>5</td>\n",
       "      <td>wX4Hy</td>\n",
       "      <td>0.969570</td>\n",
       "      <td>0.489775</td>\n",
       "      <td>-0.735383</td>\n",
       "      <td>64.741541</td>\n",
       "    </tr>\n",
       "    <tr>\n",
       "      <td>6</td>\n",
       "      <td>tL6pL</td>\n",
       "      <td>0.645075</td>\n",
       "      <td>0.530656</td>\n",
       "      <td>1.780266</td>\n",
       "      <td>49.055285</td>\n",
       "    </tr>\n",
       "    <tr>\n",
       "      <td>7</td>\n",
       "      <td>BYPU6</td>\n",
       "      <td>-0.400648</td>\n",
       "      <td>0.808337</td>\n",
       "      <td>-5.624670</td>\n",
       "      <td>72.943292</td>\n",
       "    </tr>\n",
       "    <tr>\n",
       "      <td>8</td>\n",
       "      <td>j9Oui</td>\n",
       "      <td>0.643105</td>\n",
       "      <td>-0.551583</td>\n",
       "      <td>2.372141</td>\n",
       "      <td>113.356160</td>\n",
       "    </tr>\n",
       "    <tr>\n",
       "      <td>9</td>\n",
       "      <td>OLuZU</td>\n",
       "      <td>2.173381</td>\n",
       "      <td>0.563698</td>\n",
       "      <td>9.441852</td>\n",
       "      <td>127.910945</td>\n",
       "    </tr>\n",
       "  </tbody>\n",
       "</table>\n",
       "</div>"
      ],
      "text/plain": [
       "      id        f0        f1        f2     product\n",
       "0  txEyH  0.705745 -0.497823  1.221170  105.280062\n",
       "1  2acmU  1.334711 -0.340164  4.365080   73.037750\n",
       "2  409Wp  1.022732  0.151990  1.419926   85.265647\n",
       "3  iJLyR -0.032172  0.139033  2.978566  168.620776\n",
       "4  Xdl7t  1.988431  0.155413  4.751769  154.036647\n",
       "5  wX4Hy  0.969570  0.489775 -0.735383   64.741541\n",
       "6  tL6pL  0.645075  0.530656  1.780266   49.055285\n",
       "7  BYPU6 -0.400648  0.808337 -5.624670   72.943292\n",
       "8  j9Oui  0.643105 -0.551583  2.372141  113.356160\n",
       "9  OLuZU  2.173381  0.563698  9.441852  127.910945"
      ]
     },
     "execution_count": 3,
     "metadata": {},
     "output_type": "execute_result"
    }
   ],
   "source": [
    "oil_well_1.head(10)"
   ]
  },
  {
   "cell_type": "code",
   "execution_count": 4,
   "metadata": {},
   "outputs": [
    {
     "data": {
      "text/html": [
       "<div>\n",
       "<style scoped>\n",
       "    .dataframe tbody tr th:only-of-type {\n",
       "        vertical-align: middle;\n",
       "    }\n",
       "\n",
       "    .dataframe tbody tr th {\n",
       "        vertical-align: top;\n",
       "    }\n",
       "\n",
       "    .dataframe thead th {\n",
       "        text-align: right;\n",
       "    }\n",
       "</style>\n",
       "<table border=\"1\" class=\"dataframe\">\n",
       "  <thead>\n",
       "    <tr style=\"text-align: right;\">\n",
       "      <th></th>\n",
       "      <th>id</th>\n",
       "      <th>f0</th>\n",
       "      <th>f1</th>\n",
       "      <th>f2</th>\n",
       "      <th>product</th>\n",
       "    </tr>\n",
       "  </thead>\n",
       "  <tbody>\n",
       "    <tr>\n",
       "      <td>0</td>\n",
       "      <td>kBEdx</td>\n",
       "      <td>-15.001348</td>\n",
       "      <td>-8.276000</td>\n",
       "      <td>-0.005876</td>\n",
       "      <td>3.179103</td>\n",
       "    </tr>\n",
       "    <tr>\n",
       "      <td>1</td>\n",
       "      <td>62mP7</td>\n",
       "      <td>14.272088</td>\n",
       "      <td>-3.475083</td>\n",
       "      <td>0.999183</td>\n",
       "      <td>26.953261</td>\n",
       "    </tr>\n",
       "    <tr>\n",
       "      <td>2</td>\n",
       "      <td>vyE1P</td>\n",
       "      <td>6.263187</td>\n",
       "      <td>-5.948386</td>\n",
       "      <td>5.001160</td>\n",
       "      <td>134.766305</td>\n",
       "    </tr>\n",
       "    <tr>\n",
       "      <td>3</td>\n",
       "      <td>KcrkZ</td>\n",
       "      <td>-13.081196</td>\n",
       "      <td>-11.506057</td>\n",
       "      <td>4.999415</td>\n",
       "      <td>137.945408</td>\n",
       "    </tr>\n",
       "    <tr>\n",
       "      <td>4</td>\n",
       "      <td>AHL4O</td>\n",
       "      <td>12.702195</td>\n",
       "      <td>-8.147433</td>\n",
       "      <td>5.004363</td>\n",
       "      <td>134.766305</td>\n",
       "    </tr>\n",
       "    <tr>\n",
       "      <td>5</td>\n",
       "      <td>HHckp</td>\n",
       "      <td>-3.327590</td>\n",
       "      <td>-2.205276</td>\n",
       "      <td>3.003647</td>\n",
       "      <td>84.038886</td>\n",
       "    </tr>\n",
       "    <tr>\n",
       "      <td>6</td>\n",
       "      <td>h5Ujo</td>\n",
       "      <td>-11.142655</td>\n",
       "      <td>-10.133399</td>\n",
       "      <td>4.002382</td>\n",
       "      <td>110.992147</td>\n",
       "    </tr>\n",
       "    <tr>\n",
       "      <td>7</td>\n",
       "      <td>muH9x</td>\n",
       "      <td>4.234715</td>\n",
       "      <td>-0.001354</td>\n",
       "      <td>2.004588</td>\n",
       "      <td>53.906522</td>\n",
       "    </tr>\n",
       "    <tr>\n",
       "      <td>8</td>\n",
       "      <td>YiRkx</td>\n",
       "      <td>13.355129</td>\n",
       "      <td>-0.332068</td>\n",
       "      <td>4.998647</td>\n",
       "      <td>134.766305</td>\n",
       "    </tr>\n",
       "    <tr>\n",
       "      <td>9</td>\n",
       "      <td>jG6Gi</td>\n",
       "      <td>1.069227</td>\n",
       "      <td>-11.025667</td>\n",
       "      <td>4.997844</td>\n",
       "      <td>137.945408</td>\n",
       "    </tr>\n",
       "  </tbody>\n",
       "</table>\n",
       "</div>"
      ],
      "text/plain": [
       "      id         f0         f1        f2     product\n",
       "0  kBEdx -15.001348  -8.276000 -0.005876    3.179103\n",
       "1  62mP7  14.272088  -3.475083  0.999183   26.953261\n",
       "2  vyE1P   6.263187  -5.948386  5.001160  134.766305\n",
       "3  KcrkZ -13.081196 -11.506057  4.999415  137.945408\n",
       "4  AHL4O  12.702195  -8.147433  5.004363  134.766305\n",
       "5  HHckp  -3.327590  -2.205276  3.003647   84.038886\n",
       "6  h5Ujo -11.142655 -10.133399  4.002382  110.992147\n",
       "7  muH9x   4.234715  -0.001354  2.004588   53.906522\n",
       "8  YiRkx  13.355129  -0.332068  4.998647  134.766305\n",
       "9  jG6Gi   1.069227 -11.025667  4.997844  137.945408"
      ]
     },
     "execution_count": 4,
     "metadata": {},
     "output_type": "execute_result"
    }
   ],
   "source": [
    "oil_well_2.head(10)"
   ]
  },
  {
   "cell_type": "code",
   "execution_count": 5,
   "metadata": {},
   "outputs": [
    {
     "data": {
      "text/html": [
       "<div>\n",
       "<style scoped>\n",
       "    .dataframe tbody tr th:only-of-type {\n",
       "        vertical-align: middle;\n",
       "    }\n",
       "\n",
       "    .dataframe tbody tr th {\n",
       "        vertical-align: top;\n",
       "    }\n",
       "\n",
       "    .dataframe thead th {\n",
       "        text-align: right;\n",
       "    }\n",
       "</style>\n",
       "<table border=\"1\" class=\"dataframe\">\n",
       "  <thead>\n",
       "    <tr style=\"text-align: right;\">\n",
       "      <th></th>\n",
       "      <th>id</th>\n",
       "      <th>f0</th>\n",
       "      <th>f1</th>\n",
       "      <th>f2</th>\n",
       "      <th>product</th>\n",
       "    </tr>\n",
       "  </thead>\n",
       "  <tbody>\n",
       "    <tr>\n",
       "      <td>0</td>\n",
       "      <td>fwXo0</td>\n",
       "      <td>-1.146987</td>\n",
       "      <td>0.963328</td>\n",
       "      <td>-0.828965</td>\n",
       "      <td>27.758673</td>\n",
       "    </tr>\n",
       "    <tr>\n",
       "      <td>1</td>\n",
       "      <td>WJtFt</td>\n",
       "      <td>0.262778</td>\n",
       "      <td>0.269839</td>\n",
       "      <td>-2.530187</td>\n",
       "      <td>56.069697</td>\n",
       "    </tr>\n",
       "    <tr>\n",
       "      <td>2</td>\n",
       "      <td>ovLUW</td>\n",
       "      <td>0.194587</td>\n",
       "      <td>0.289035</td>\n",
       "      <td>-5.586433</td>\n",
       "      <td>62.871910</td>\n",
       "    </tr>\n",
       "    <tr>\n",
       "      <td>3</td>\n",
       "      <td>q6cA6</td>\n",
       "      <td>2.236060</td>\n",
       "      <td>-0.553760</td>\n",
       "      <td>0.930038</td>\n",
       "      <td>114.572842</td>\n",
       "    </tr>\n",
       "    <tr>\n",
       "      <td>4</td>\n",
       "      <td>WPMUX</td>\n",
       "      <td>-0.515993</td>\n",
       "      <td>1.716266</td>\n",
       "      <td>5.899011</td>\n",
       "      <td>149.600746</td>\n",
       "    </tr>\n",
       "    <tr>\n",
       "      <td>5</td>\n",
       "      <td>LzZXx</td>\n",
       "      <td>-0.758092</td>\n",
       "      <td>0.710691</td>\n",
       "      <td>2.585887</td>\n",
       "      <td>90.222465</td>\n",
       "    </tr>\n",
       "    <tr>\n",
       "      <td>6</td>\n",
       "      <td>WBHRv</td>\n",
       "      <td>-0.574891</td>\n",
       "      <td>0.317727</td>\n",
       "      <td>1.773745</td>\n",
       "      <td>45.641478</td>\n",
       "    </tr>\n",
       "    <tr>\n",
       "      <td>7</td>\n",
       "      <td>XO8fn</td>\n",
       "      <td>-1.906649</td>\n",
       "      <td>-2.458350</td>\n",
       "      <td>-0.177097</td>\n",
       "      <td>72.480640</td>\n",
       "    </tr>\n",
       "    <tr>\n",
       "      <td>8</td>\n",
       "      <td>ybmQ5</td>\n",
       "      <td>1.776292</td>\n",
       "      <td>-0.279356</td>\n",
       "      <td>3.004156</td>\n",
       "      <td>106.616832</td>\n",
       "    </tr>\n",
       "    <tr>\n",
       "      <td>9</td>\n",
       "      <td>OilcN</td>\n",
       "      <td>-1.214452</td>\n",
       "      <td>-0.439314</td>\n",
       "      <td>5.922514</td>\n",
       "      <td>52.954532</td>\n",
       "    </tr>\n",
       "  </tbody>\n",
       "</table>\n",
       "</div>"
      ],
      "text/plain": [
       "      id        f0        f1        f2     product\n",
       "0  fwXo0 -1.146987  0.963328 -0.828965   27.758673\n",
       "1  WJtFt  0.262778  0.269839 -2.530187   56.069697\n",
       "2  ovLUW  0.194587  0.289035 -5.586433   62.871910\n",
       "3  q6cA6  2.236060 -0.553760  0.930038  114.572842\n",
       "4  WPMUX -0.515993  1.716266  5.899011  149.600746\n",
       "5  LzZXx -0.758092  0.710691  2.585887   90.222465\n",
       "6  WBHRv -0.574891  0.317727  1.773745   45.641478\n",
       "7  XO8fn -1.906649 -2.458350 -0.177097   72.480640\n",
       "8  ybmQ5  1.776292 -0.279356  3.004156  106.616832\n",
       "9  OilcN -1.214452 -0.439314  5.922514   52.954532"
      ]
     },
     "execution_count": 5,
     "metadata": {},
     "output_type": "execute_result"
    }
   ],
   "source": [
    "oil_well_3.head(10)"
   ]
  },
  {
   "cell_type": "code",
   "execution_count": 6,
   "metadata": {},
   "outputs": [
    {
     "name": "stdout",
     "output_type": "stream",
     "text": [
      "<class 'pandas.core.frame.DataFrame'>\n",
      "RangeIndex: 100000 entries, 0 to 99999\n",
      "Data columns (total 5 columns):\n",
      "id         100000 non-null object\n",
      "f0         100000 non-null float64\n",
      "f1         100000 non-null float64\n",
      "f2         100000 non-null float64\n",
      "product    100000 non-null float64\n",
      "dtypes: float64(4), object(1)\n",
      "memory usage: 3.8+ MB\n"
     ]
    }
   ],
   "source": [
    "oil_well_1.info()"
   ]
  },
  {
   "cell_type": "code",
   "execution_count": 7,
   "metadata": {},
   "outputs": [
    {
     "name": "stdout",
     "output_type": "stream",
     "text": [
      "<class 'pandas.core.frame.DataFrame'>\n",
      "RangeIndex: 100000 entries, 0 to 99999\n",
      "Data columns (total 5 columns):\n",
      "id         100000 non-null object\n",
      "f0         100000 non-null float64\n",
      "f1         100000 non-null float64\n",
      "f2         100000 non-null float64\n",
      "product    100000 non-null float64\n",
      "dtypes: float64(4), object(1)\n",
      "memory usage: 3.8+ MB\n"
     ]
    }
   ],
   "source": [
    "oil_well_2.info()"
   ]
  },
  {
   "cell_type": "code",
   "execution_count": 8,
   "metadata": {},
   "outputs": [
    {
     "name": "stdout",
     "output_type": "stream",
     "text": [
      "<class 'pandas.core.frame.DataFrame'>\n",
      "RangeIndex: 100000 entries, 0 to 99999\n",
      "Data columns (total 5 columns):\n",
      "id         100000 non-null object\n",
      "f0         100000 non-null float64\n",
      "f1         100000 non-null float64\n",
      "f2         100000 non-null float64\n",
      "product    100000 non-null float64\n",
      "dtypes: float64(4), object(1)\n",
      "memory usage: 3.8+ MB\n"
     ]
    }
   ],
   "source": [
    "oil_well_3.info()"
   ]
  },
  {
   "cell_type": "code",
   "execution_count": 9,
   "metadata": {},
   "outputs": [],
   "source": [
    "oil_well_1 = oil_well_1.drop(['id'], axis=1)\n",
    "oil_well_2 = oil_well_2.drop(['id'], axis=1)\n",
    "oil_well_3 = oil_well_3.drop(['id'], axis=1)"
   ]
  },
  {
   "cell_type": "code",
   "execution_count": 10,
   "metadata": {},
   "outputs": [
    {
     "name": "stdout",
     "output_type": "stream",
     "text": [
      "Количесво нулевых значений объёма запасов в первой скважине: 1\n",
      "Количесво нулевых значений объёма запасов во второй скважине: 8235\n",
      "Количесво нулевых значений объёма запасов в третьей скважине: 1\n"
     ]
    }
   ],
   "source": [
    "print('Количесво нулевых значений объёма запасов в первой скважине:', oil_well_1[oil_well_1['product'] == 0]['product'].count())\n",
    "print('Количесво нулевых значений объёма запасов во второй скважине:', oil_well_2[oil_well_2['product'] == 0]['product'].count())\n",
    "print('Количесво нулевых значений объёма запасов в третьей скважине:', oil_well_3[oil_well_3['product'] == 0]['product'].count())"
   ]
  },
  {
   "cell_type": "markdown",
   "metadata": {},
   "source": [
    "8,2% значений объёма запасов во второй скважине отсутсвуют. Скорее всего по ходу исследования в данной скважине не было обнаружено запасов, либо эти данные могли быть утеряны"
   ]
  },
  {
   "cell_type": "code",
   "execution_count": 11,
   "metadata": {},
   "outputs": [
    {
     "data": {
      "text/plain": [
       "Text(0, 0.5, 'Количество скважин')"
      ]
     },
     "execution_count": 11,
     "metadata": {},
     "output_type": "execute_result"
    },
    {
     "data": {
      "image/png": "[encoded data removed]",
      "text/plain": [
       "<Figure size 432x288 with 1 Axes>"
      ]
     },
     "metadata": {
      "needs_background": "light"
     },
     "output_type": "display_data"
    }
   ],
   "source": [
    "oil_well_1['product'].hist(bins = 100)\n",
    "plt.title(\"Распределение по объему запасов первой скважины\")\n",
    "plt.xlabel(\"Объём запасов в скважине (тыс. баррелей)\")\n",
    "plt.ylabel(\"Количество скважин\")"
   ]
  },
  {
   "cell_type": "code",
   "execution_count": 12,
   "metadata": {},
   "outputs": [
    {
     "data": {
      "text/plain": [
       "Text(0, 0.5, 'Количество скважин')"
      ]
     },
     "execution_count": 12,
     "metadata": {},
     "output_type": "execute_result"
    },
    {
     "data": {
      "image/png": "[encoded data removed]",
      "text/plain": [
       "<Figure size 432x288 with 1 Axes>"
      ]
     },
     "metadata": {
      "needs_background": "light"
     },
     "output_type": "display_data"
    }
   ],
   "source": [
    "oil_well_2['product'].hist(bins = 100)\n",
    "plt.title(\"Распределение по объему запасов второй скважины\")\n",
    "plt.xlabel(\"Объём запасов в скважине (тыс. баррелей)\")\n",
    "plt.ylabel(\"Количество скважин\")"
   ]
  },
  {
   "cell_type": "code",
   "execution_count": 13,
   "metadata": {},
   "outputs": [
    {
     "data": {
      "text/plain": [
       "Text(0, 0.5, 'Количество скважин')"
      ]
     },
     "execution_count": 13,
     "metadata": {},
     "output_type": "execute_result"
    },
    {
     "data": {
      "image/png": "[encoded data removed]",
      "text/plain": [
       "<Figure size 432x288 with 1 Axes>"
      ]
     },
     "metadata": {
      "needs_background": "light"
     },
     "output_type": "display_data"
    }
   ],
   "source": [
    "oil_well_3['product'].hist(bins = 100)\n",
    "plt.title(\"Распределение по объему запасов третьей скважины\")\n",
    "plt.xlabel(\"Объём запасов в скважине (тыс. баррелей)\")\n",
    "plt.ylabel(\"Количество скважин\")"
   ]
  },
  {
   "cell_type": "markdown",
   "metadata": {},
   "source": [
    "По гистограммам можно заметить, что распредление у первой и третьей скважин близкое к нормальному, гистограмма объема запасов во второй скважине имеет странное распредление -  все значения более менее равномерно распределены с шагом ~20 друг о друга"
   ]
  },
  {
   "cell_type": "markdown",
   "metadata": {},
   "source": [
    "## Обучение и проверка модели"
   ]
  },
  {
   "cell_type": "code",
   "execution_count": 14,
   "metadata": {},
   "outputs": [],
   "source": [
    "def test_split(data, target):\n",
    "    features = data.drop([target] , axis=1)\n",
    "    target = data[target]\n",
    "\n",
    "    features_train, features_valid, target_train, target_valid = train_test_split(\n",
    "    features, target, test_size=0.25, random_state=12345)\n",
    "    \n",
    "    return features_train, features_valid, target_train, target_valid"
   ]
  },
  {
   "cell_type": "code",
   "execution_count": 15,
   "metadata": {},
   "outputs": [],
   "source": [
    "features_train_1, features_valid_1, target_train_1, target_valid_1 = test_split(oil_well_1, 'product')\n",
    "features_train_2, features_valid_2, target_train_2, target_valid_2 = test_split(oil_well_2, 'product')\n",
    "features_train_3, features_valid_3, target_train_3, target_valid_3 = test_split(oil_well_3, 'product')"
   ]
  },
  {
   "cell_type": "markdown",
   "metadata": {},
   "source": [
    "Обучим модель и сделаем предсказания на валидационной выборке. Сохраним предсказания и правильные ответы на валидационной выборке."
   ]
  },
  {
   "cell_type": "code",
   "execution_count": 16,
   "metadata": {},
   "outputs": [],
   "source": [
    "def lr_model(data, features_train, target_train, features_valid, target_valid):\n",
    "    model = LinearRegression(normalize=True)\n",
    "    model.fit(features_train, target_train)\n",
    "    prediction = model.predict(features_valid)\n",
    "    df = {'real_product' : target_valid,\n",
    "            'predicted_product' : prediction         \n",
    "    }\n",
    "    data_frame = pd.DataFrame(df, columns = ['real_product', 'predicted_product'])\n",
    "    mean = round(df['predicted_product'].mean(),3)\n",
    "    rmse = round(mean_squared_error(target_valid, prediction)**0.5,3)\n",
    "    \n",
    "    return data_frame, mean, rmse"
   ]
  },
  {
   "cell_type": "code",
   "execution_count": 17,
   "metadata": {},
   "outputs": [],
   "source": [
    "oil_well_predicted_1, product_mean_1, rmse_1 = lr_model(oil_well_1, features_train_1, target_train_1, features_valid_1, target_valid_1)\n",
    "oil_well_predicted_2, product_mean_2, rmse_2 = lr_model(oil_well_2, features_train_2, target_train_2, features_valid_2, target_valid_2)\n",
    "oil_well_predicted_3, product_mean_3, rmse_3 = lr_model(oil_well_3, features_train_3, target_train_3, features_valid_3, target_valid_3)"
   ]
  },
  {
   "cell_type": "code",
   "execution_count": 18,
   "metadata": {},
   "outputs": [
    {
     "name": "stdout",
     "output_type": "stream",
     "text": [
      "Для первого региона:\n",
      "средний запас предсказанного сырья равен 92.593\n",
      "rmse равен 37.579\n",
      "\n",
      "Для второго региона:\n",
      "средний запас предсказанного сырья равен 68.729\n",
      "rmse равен 0.893\n",
      "\n",
      "Для третьего региона:\n",
      "средний запас предсказанного сырья равен 94.965\n",
      "rmse равен 40.03\n"
     ]
    }
   ],
   "source": [
    "print('Для первого региона:')\n",
    "print('средний запас предсказанного сырья равен', product_mean_1)\n",
    "print('rmse равен', rmse_1)\n",
    "print()\n",
    "print('Для второго региона:')\n",
    "print('средний запас предсказанного сырья равен', product_mean_2)\n",
    "print('rmse равен', rmse_2)\n",
    "print()\n",
    "print('Для третьего региона:')\n",
    "print('средний запас предсказанного сырья равен', product_mean_3)\n",
    "print('rmse равен', rmse_3)"
   ]
  },
  {
   "cell_type": "markdown",
   "metadata": {},
   "source": [
    "\n",
    "\n",
    "По результатам расчета rmse для второго региона имеет минимальное значение (0.893), это говорит о том, что данная модель лучше всего предсказала запасы сырья по второму региону. Далее следуют rmse для первого региона - 37.579 и rmse для третьего региона - 40.03\n",
    "\n",
    "Низкое значение rmse для второго региона может быть обусловлено тем, что по этому региону отсутствует большая часть данных по объёму запасов в скважине. Возможно, данное месторождение не стоит рассматривать как прибыльное"
   ]
  },
  {
   "cell_type": "markdown",
   "metadata": {},
   "source": [
    "## Подготовка к расчёту прибыли"
   ]
  },
  {
   "cell_type": "markdown",
   "metadata": {},
   "source": [
    "Сохраним все ключевые значения для расчётов в отдельных переменных. После чего рассчитаем достаточный объём сырья для безубыточной разработки новой скважины и сравним полученный объём сырья со средним запасом в каждом регионе:"
   ]
  },
  {
   "cell_type": "code",
   "execution_count": 19,
   "metadata": {},
   "outputs": [],
   "source": [
    "all_points = 500 # все исследуемые точки региона\n",
    "best_points = 200 # лучшие выбранные точки для разработки\n",
    "budget = 10e9 # бюджет на разработку скважин\n",
    "price_per_barrel = 450000 # цена за один баррель "
   ]
  },
  {
   "cell_type": "code",
   "execution_count": 20,
   "metadata": {},
   "outputs": [
    {
     "name": "stdout",
     "output_type": "stream",
     "text": [
      "Средняя прибыль на лучшую точку равна 50000000.0 тыс.рублей\n",
      "Средний объем нефти на регион равен 22222.222 тыс.барелей\n",
      "Средний объем нефти на точку равен 111.111 тыс.барелей\n"
     ]
    }
   ],
   "source": [
    "mean_profit_best_points = budget / best_points\n",
    "average_oil_volume = budget / price_per_barrel\n",
    "average_oil_volume_point = mean_profit_best_points  / price_per_barrel\n",
    "\n",
    "print('Средняя прибыль на лучшую точку равна', round(mean_profit_best_points,3), 'тыс.рублей')\n",
    "print('Средний объем нефти на регион равен', round(average_oil_volume,3), 'тыс.барелей')\n",
    "print('Средний объем нефти на точку равен', round(average_oil_volume_point,3), 'тыс.барелей')"
   ]
  },
  {
   "cell_type": "markdown",
   "metadata": {},
   "source": [
    "Выведем среднее количество запасов нефти на скважину в каждом регионе:"
   ]
  },
  {
   "cell_type": "code",
   "execution_count": 21,
   "metadata": {},
   "outputs": [
    {
     "name": "stdout",
     "output_type": "stream",
     "text": [
      "Средний запас нефти в первом регионе равен 92.5\n",
      "Средний запас нефти во втором регионе равен 68.825\n",
      "Средний запас нефти в третьем регионе равен 95.0\n"
     ]
    }
   ],
   "source": [
    "print('Средний запас нефти в первом регионе равен', round(oil_well_1['product'].mean(),3))\n",
    "print('Средний запас нефти во втором регионе равен', round(oil_well_2['product'].mean(),3))\n",
    "print('Средний запас нефти в третьем регионе равен', round(oil_well_3['product'].mean(),3))"
   ]
  },
  {
   "cell_type": "markdown",
   "metadata": {},
   "source": [
    "\n",
    "\n",
    "- рассчитали средние показатели:\n",
    "    - прибыли на точку - 50000000 тыс.рублей\n",
    "    - объема нефти на регион - 22222 тыс.барелей \n",
    "    - объем нефты на точку - 111 тыс.барелей\n",
    "- средний запас нефти в первом, втором и третьем регионах равны соответсвенно - 92.5, 68.8 и 95 тыс.барелей.\n",
    "\n",
    "Ни один из регионов по средним значениям запасов не дотягивает до необходимого минимума, то есть уже на этом этапе мы можем подозревать риски"
   ]
  },
  {
   "cell_type": "markdown",
   "metadata": {},
   "source": [
    "## Расчёт прибыли и рисков "
   ]
  },
  {
   "cell_type": "markdown",
   "metadata": {},
   "source": [
    "Напишем функцию для расчёта прибыли:"
   ]
  },
  {
   "cell_type": "code",
   "execution_count": 22,
   "metadata": {},
   "outputs": [],
   "source": [
    "def oil_profit(target, probabilities, count):\n",
    "    probs_sorted = probabilities.sort_values(ascending=False)\n",
    "    selected = target[probs_sorted.index][:count]\n",
    "    return price_per_barrel * selected.sum() - budget"
   ]
  },
  {
   "cell_type": "markdown",
   "metadata": {},
   "source": [
    "Применим технику Bootstrap с 1000 выборок, чтобы найти распределение прибыли. Найдем среднюю прибыль, 95%-й доверительный интервал и риск убытков"
   ]
  },
  {
   "cell_type": "code",
   "execution_count": 23,
   "metadata": {},
   "outputs": [],
   "source": [
    "state = np.random.RandomState(12345)\n",
    "def bootstrap_1000(target, probs):\n",
    "    values=[]\n",
    "    lost = 0\n",
    "    for i in range(1000):\n",
    "        target_subsample = target.sample(n=all_points, replace=True, random_state=state)\n",
    "        probs_subsample = probs[target_subsample.index]\n",
    "        profit = oil_profit(target, probs_subsample, best_points)\n",
    "        if profit < 0:\n",
    "            lost +=1\n",
    "        values.append(profit)\n",
    "    \n",
    "    values = pd.Series(values)\n",
    "    lower = values.quantile(0.025)\n",
    "    upper = values.quantile(0.975)\n",
    "    mean = values.mean()\n",
    "    risk = lost / 1000\n",
    "    return mean, lower, upper, risk"
   ]
  },
  {
   "cell_type": "code",
   "execution_count": 24,
   "metadata": {},
   "outputs": [
    {
     "name": "stdout",
     "output_type": "stream",
     "text": [
      "Для первого региона:\n",
      "Средняя прибыль равна 396164984.8\n",
      "95% доверительный интервал от -111215545.89 до 909766941.55 тыс.руб.\n",
      "Процент риска 6.90%\n"
     ]
    }
   ],
   "source": [
    "mean_1, lower_1, upper_1, risk_1 = bootstrap_1000(oil_well_predicted_1['real_product'], \n",
    "                                                     oil_well_predicted_1['predicted_product'])\n",
    "print('Для первого региона:')\n",
    "print('Средняя прибыль равна', round(mean_1,2))\n",
    "print('95% доверительный интервал от {:.2f} до {:.2f} тыс.руб.'.format(lower_1, upper_1))\n",
    "print('Процент риска {:.2%}'.format(risk_1))"
   ]
  },
  {
   "cell_type": "code",
   "execution_count": 25,
   "metadata": {},
   "outputs": [
    {
     "name": "stdout",
     "output_type": "stream",
     "text": [
      "Для второго региона:\n",
      "Средняя прибыль равна 461155817.28\n",
      "95% доверительный интервал от 78050810.75 до 862952060.26 тыс.руб.\n",
      "Процент риска 0.70%\n"
     ]
    }
   ],
   "source": [
    "mean_2, lower_2, upper_2, risk_2 = bootstrap_1000(oil_well_predicted_2['real_product'], \n",
    "                                                     oil_well_predicted_2['predicted_product'])\n",
    "print('Для второго региона:')\n",
    "print('Средняя прибыль равна', round(mean_2,2))\n",
    "print('95% доверительный интервал от {:.2f} до {:.2f} тыс.руб.'.format(lower_2, upper_2))\n",
    "print('Процент риска {:.2%}'.format(risk_2))"
   ]
  },
  {
   "cell_type": "code",
   "execution_count": 26,
   "metadata": {},
   "outputs": [
    {
     "name": "stdout",
     "output_type": "stream",
     "text": [
      "Для третьего региона:\n",
      "Средняя прибыль равна 392950475.17\n",
      "95% доверительный интервал от -112227625.38 до 934562914.55 тыс.руб.\n",
      "Процент риска 6.50%\n"
     ]
    }
   ],
   "source": [
    "mean_3, lower_3, upper_3, risk_3 = bootstrap_1000(oil_well_predicted_3['real_product'], \n",
    "                                                     oil_well_predicted_3['predicted_product'])\n",
    "print('Для третьего региона:')\n",
    "print('Средняя прибыль равна', round(mean_3,2))\n",
    "print('95% доверительный интервал от {:.2f} до {:.2f} тыс.руб.'.format(lower_3, upper_3))\n",
    "print('Процент риска {:.2%}'.format(risk_3))"
   ]
  },
  {
   "cell_type": "markdown",
   "metadata": {},
   "source": [
    "\n",
    "\n",
    "Рассчитали среднюю прибыль, 95%-й доверительный интервал и риск убытков для каждого региона. В 1-ом и 3-ем регионах имеем большие риски, поэтому их можем отсеять. Вероятность убытков для второго региона составила 1.3%, также этот регион имеет наибольшую среднюю прибыль - 448275289.23 рублей"
   ]
  },
  {
   "cell_type": "markdown",
   "metadata": {},
   "source": [
    "## Общий Вывод\n",
    "\n",
    "#### 1. Изучили данные и подготовили их к обучению\n",
    "\n",
    "#### 2. Обучили и проверили модель для каждого региона:\n",
    "\n",
    "- По результатам расчета rmse для второго региона имеет минимальное значение (0.893), это говорит о том, что данная модель лучше всего предсказала запасы сырья по второму региону. Далее следуют rmse для первого региона - 37.579 и rmse для третьего региона - 40.03\n",
    "\n",
    "#### 3. Подготовили данные к расчёту прибыли:\n",
    "- рассчитали средние показатели:\n",
    "    - прибыли на точку - 50000000 тыс.рублей\n",
    "    - объема нефти на регион - 22222 тыс.барелей \n",
    "    - объем нефты на точку - 111 тыс.барелей\n",
    "- средний запас нефти в первом, втором и третьем регионах равны соответсвенно - 92.5, 68.8 и 95 тыс.барелей.\n",
    "\n",
    "- Ни один из регионов по средним значениям запасов не дотягивает до необходимого минимума, то есть уже на этом этапе мы можем подозревать риски\n",
    "\n",
    "\n",
    "#### 4. Написали функцию для расчёта прибыли и с помощью техники Bootstrap с 1000 выборок нашли распределение прибыли, среднюю прибыль, 95%-й доверительный интервал и риск убытков\n",
    "- Для первого региона:\n",
    "    - Средняя прибыль равна 393802509.35\n",
    "    - 95% доверительный интервал от -119777878.11 до 909313235.74 тыс.руб.\n",
    "    - Процент риска 5.70%\n",
    "- Для второго региона:\n",
    "    - Средняя прибыль равна 448275289.23\n",
    "    - 95% доверительный интервал от 50275475.26 до 836625980.88 тыс.руб.\n",
    "    - Процент риска 1.30%\n",
    "- Для третьего региона:\n",
    "    - Средняя прибыль равна 389981548.69\n",
    "    - 95% доверительный интервал от -121408203.61 до 921059769.19 тыс.руб.\n",
    "    - Процент риска 7.30%\n",
    "    \n",
    "В первом и третьем регионах имеем большие риски, поэтому их можем отсеять. Вероятность убытков для второго региона составила 1.3%, также этот регион имеет наибольшую среднюю прибыль - 448275289.23 рублей. Хотя данные не выглядят нормально распределенными, второй регион получился одним из лучших по показателям, поэтому для разработки скважин выдвигаем этот второй регион."
   ]
  }
 ],
 "metadata": {
  "ExecuteTimeLog": [
   {
    "duration": 796,
    "start_time": "2021-07-16T05:42:55.623Z"
   },
   {
    "duration": 468,
    "start_time": "2021-07-16T05:44:50.484Z"
   },
   {
    "duration": 23,
    "start_time": "2021-07-16T05:45:02.722Z"
   },
   {
    "duration": 13,
    "start_time": "2021-07-16T05:45:14.217Z"
   },
   {
    "duration": 15,
    "start_time": "2021-07-16T05:45:27.399Z"
   },
   {
    "duration": 13,
    "start_time": "2021-07-16T05:45:27.791Z"
   },
   {
    "duration": 557,
    "start_time": "2021-07-17T07:47:44.286Z"
   },
   {
    "duration": 327,
    "start_time": "2021-07-17T07:47:44.844Z"
   },
   {
    "duration": 19,
    "start_time": "2021-07-17T07:47:45.173Z"
   },
   {
    "duration": 8,
    "start_time": "2021-07-17T07:47:45.243Z"
   },
   {
    "duration": 8,
    "start_time": "2021-07-17T07:47:45.702Z"
   },
   {
    "duration": 12,
    "start_time": "2021-07-17T07:50:48.191Z"
   },
   {
    "duration": 11,
    "start_time": "2021-07-17T07:50:48.502Z"
   },
   {
    "duration": 11,
    "start_time": "2021-07-17T07:50:48.853Z"
   },
   {
    "duration": 459,
    "start_time": "2021-07-17T07:52:47.529Z"
   },
   {
    "duration": 13,
    "start_time": "2021-07-17T07:54:44.454Z"
   },
   {
    "duration": 324,
    "start_time": "2021-07-17T07:59:32.150Z"
   },
   {
    "duration": 8,
    "start_time": "2021-07-17T07:59:36.662Z"
   },
   {
    "duration": 8,
    "start_time": "2021-07-17T08:02:29.317Z"
   },
   {
    "duration": 7,
    "start_time": "2021-07-17T08:02:34.340Z"
   },
   {
    "duration": 5,
    "start_time": "2021-07-17T08:02:47.452Z"
   },
   {
    "duration": 9,
    "start_time": "2021-07-17T08:04:14.745Z"
   },
   {
    "duration": 229,
    "start_time": "2021-07-17T08:24:06.406Z"
   },
   {
    "duration": 165,
    "start_time": "2021-07-17T08:24:18.740Z"
   },
   {
    "duration": 162,
    "start_time": "2021-07-17T08:24:22.013Z"
   },
   {
    "duration": 486,
    "start_time": "2021-07-17T08:25:23.660Z"
   },
   {
    "duration": 640,
    "start_time": "2021-07-17T08:25:43.609Z"
   },
   {
    "duration": 3,
    "start_time": "2021-07-17T08:25:55.329Z"
   },
   {
    "duration": 537,
    "start_time": "2021-07-17T08:25:58.702Z"
   },
   {
    "duration": 296,
    "start_time": "2021-07-17T08:26:26.440Z"
   },
   {
    "duration": 327,
    "start_time": "2021-07-17T08:26:41.670Z"
   },
   {
    "duration": 403,
    "start_time": "2021-07-17T08:26:49.951Z"
   },
   {
    "duration": 309,
    "start_time": "2021-07-17T08:26:58.174Z"
   },
   {
    "duration": 575,
    "start_time": "2021-07-17T08:28:01.084Z"
   },
   {
    "duration": 301,
    "start_time": "2021-07-17T08:28:09.260Z"
   },
   {
    "duration": 314,
    "start_time": "2021-07-17T08:29:01.177Z"
   },
   {
    "duration": 415,
    "start_time": "2021-07-17T08:29:38.768Z"
   },
   {
    "duration": 304,
    "start_time": "2021-07-17T08:29:44.120Z"
   },
   {
    "duration": 311,
    "start_time": "2021-07-17T08:29:49.547Z"
   },
   {
    "duration": 305,
    "start_time": "2021-07-17T08:31:04.110Z"
   },
   {
    "duration": 304,
    "start_time": "2021-07-17T08:31:07.182Z"
   },
   {
    "duration": 308,
    "start_time": "2021-07-17T08:31:09.205Z"
   },
   {
    "duration": 439,
    "start_time": "2021-07-17T08:31:35.186Z"
   },
   {
    "duration": 301,
    "start_time": "2021-07-17T08:31:41.962Z"
   },
   {
    "duration": 308,
    "start_time": "2021-07-17T08:31:47.628Z"
   },
   {
    "duration": 1403,
    "start_time": "2021-07-17T17:26:11.482Z"
   },
   {
    "duration": 449,
    "start_time": "2021-07-17T17:26:12.888Z"
   },
   {
    "duration": 18,
    "start_time": "2021-07-17T17:26:14.245Z"
   },
   {
    "duration": 14,
    "start_time": "2021-07-17T17:26:14.822Z"
   },
   {
    "duration": 13,
    "start_time": "2021-07-17T17:26:15.508Z"
   },
   {
    "duration": 14,
    "start_time": "2021-07-17T17:26:15.902Z"
   },
   {
    "duration": 15,
    "start_time": "2021-07-17T17:26:16.274Z"
   },
   {
    "duration": 16,
    "start_time": "2021-07-17T17:26:16.486Z"
   },
   {
    "duration": 15,
    "start_time": "2021-07-17T17:26:17.050Z"
   },
   {
    "duration": 15,
    "start_time": "2021-07-17T17:26:17.565Z"
   },
   {
    "duration": 613,
    "start_time": "2021-07-17T17:26:18.468Z"
   },
   {
    "duration": 678,
    "start_time": "2021-07-17T17:26:19.085Z"
   },
   {
    "duration": 619,
    "start_time": "2021-07-17T17:26:19.766Z"
   },
   {
    "duration": 426,
    "start_time": "2021-07-17T17:32:13.412Z"
   },
   {
    "duration": 5,
    "start_time": "2021-07-17T17:37:07.972Z"
   },
   {
    "duration": 53,
    "start_time": "2021-07-17T17:38:18.260Z"
   },
   {
    "duration": 98,
    "start_time": "2021-07-17T17:50:11.762Z"
   },
   {
    "duration": 7,
    "start_time": "2021-07-17T17:50:18.279Z"
   },
   {
    "duration": 632,
    "start_time": "2021-07-17T17:51:03.636Z"
   },
   {
    "duration": 5,
    "start_time": "2021-07-17T17:52:02.208Z"
   },
   {
    "duration": 25,
    "start_time": "2021-07-17T17:52:03.015Z"
   },
   {
    "duration": 366,
    "start_time": "2021-07-17T17:53:18.921Z"
   },
   {
    "duration": 235,
    "start_time": "2021-07-17T17:53:34.156Z"
   },
   {
    "duration": 188,
    "start_time": "2021-07-17T17:54:23.002Z"
   },
   {
    "duration": 5,
    "start_time": "2021-07-17T17:54:34.538Z"
   },
   {
    "duration": 184,
    "start_time": "2021-07-17T17:54:35.810Z"
   },
   {
    "duration": 5,
    "start_time": "2021-07-17T17:55:15.040Z"
   },
   {
    "duration": 5,
    "start_time": "2021-07-17T17:55:17.375Z"
   },
   {
    "duration": 163,
    "start_time": "2021-07-17T17:55:17.727Z"
   },
   {
    "duration": 112,
    "start_time": "2021-07-17T17:55:24.591Z"
   },
   {
    "duration": 104,
    "start_time": "2021-07-17T17:55:34.919Z"
   },
   {
    "duration": 95,
    "start_time": "2021-07-17T17:55:39.503Z"
   },
   {
    "duration": 195,
    "start_time": "2021-07-17T17:55:58.595Z"
   },
   {
    "duration": 170,
    "start_time": "2021-07-17T17:56:29.031Z"
   },
   {
    "duration": 285,
    "start_time": "2021-07-17T17:56:50.501Z"
   },
   {
    "duration": 197,
    "start_time": "2021-07-17T17:57:07.392Z"
   },
   {
    "duration": 323,
    "start_time": "2021-07-17T17:57:19.362Z"
   },
   {
    "duration": 293,
    "start_time": "2021-07-17T17:57:24.397Z"
   },
   {
    "duration": 5,
    "start_time": "2021-07-17T17:58:22.065Z"
   },
   {
    "duration": 331,
    "start_time": "2021-07-17T17:58:22.556Z"
   },
   {
    "duration": 5,
    "start_time": "2021-07-17T18:02:27.519Z"
   },
   {
    "duration": 8077,
    "start_time": "2021-07-17T18:02:28.848Z"
   },
   {
    "duration": 5,
    "start_time": "2021-07-17T18:02:38.374Z"
   },
   {
    "duration": -35,
    "start_time": "2021-07-17T18:02:46.939Z"
   },
   {
    "duration": -36,
    "start_time": "2021-07-17T18:02:46.942Z"
   },
   {
    "duration": 4,
    "start_time": "2021-07-17T18:07:17.507Z"
   },
   {
    "duration": 456,
    "start_time": "2021-07-17T18:07:17.830Z"
   },
   {
    "duration": 14,
    "start_time": "2021-07-17T18:07:18.331Z"
   },
   {
    "duration": 14,
    "start_time": "2021-07-17T18:07:18.509Z"
   },
   {
    "duration": 15,
    "start_time": "2021-07-17T18:07:18.669Z"
   },
   {
    "duration": 15,
    "start_time": "2021-07-17T18:07:19.179Z"
   },
   {
    "duration": 16,
    "start_time": "2021-07-17T18:07:19.344Z"
   },
   {
    "duration": 16,
    "start_time": "2021-07-17T18:07:19.497Z"
   },
   {
    "duration": 15,
    "start_time": "2021-07-17T18:07:19.820Z"
   },
   {
    "duration": 12,
    "start_time": "2021-07-17T18:07:20.133Z"
   },
   {
    "duration": 644,
    "start_time": "2021-07-17T18:07:20.633Z"
   },
   {
    "duration": 581,
    "start_time": "2021-07-17T18:07:21.281Z"
   },
   {
    "duration": 592,
    "start_time": "2021-07-17T18:07:21.865Z"
   },
   {
    "duration": 5,
    "start_time": "2021-07-17T18:07:22.554Z"
   },
   {
    "duration": 48,
    "start_time": "2021-07-17T18:07:22.975Z"
   },
   {
    "duration": 5,
    "start_time": "2021-07-17T18:07:23.477Z"
   },
   {
    "duration": 5,
    "start_time": "2021-07-17T18:07:36.887Z"
   },
   {
    "duration": 7766,
    "start_time": "2021-07-17T18:07:38.335Z"
   },
   {
    "duration": 4,
    "start_time": "2021-07-17T18:07:57.000Z"
   },
   {
    "duration": 165,
    "start_time": "2021-07-17T18:07:57.824Z"
   },
   {
    "duration": 206,
    "start_time": "2021-07-17T18:08:17.183Z"
   },
   {
    "duration": 132,
    "start_time": "2021-07-17T18:08:37.158Z"
   },
   {
    "duration": 150,
    "start_time": "2021-07-17T18:08:47.739Z"
   },
   {
    "duration": 143,
    "start_time": "2021-07-17T18:08:51.846Z"
   },
   {
    "duration": 170,
    "start_time": "2021-07-17T18:09:00.708Z"
   },
   {
    "duration": 163,
    "start_time": "2021-07-17T18:09:06.527Z"
   },
   {
    "duration": 160,
    "start_time": "2021-07-17T18:09:12.733Z"
   },
   {
    "duration": 6,
    "start_time": "2021-07-17T18:12:15.501Z"
   },
   {
    "duration": 301,
    "start_time": "2021-07-17T18:15:12.530Z"
   },
   {
    "duration": 640,
    "start_time": "2021-07-17T18:15:16.567Z"
   },
   {
    "duration": 307,
    "start_time": "2021-07-17T18:15:17.255Z"
   },
   {
    "duration": 5,
    "start_time": "2021-07-17T18:15:31.467Z"
   },
   {
    "duration": 367,
    "start_time": "2021-07-17T18:15:32.117Z"
   },
   {
    "duration": 244,
    "start_time": "2021-07-17T18:15:44.446Z"
   },
   {
    "duration": 7,
    "start_time": "2021-07-17T18:15:47.134Z"
   },
   {
    "duration": 283,
    "start_time": "2021-07-17T18:16:30.005Z"
   },
   {
    "duration": 4,
    "start_time": "2021-07-17T18:16:43.099Z"
   },
   {
    "duration": 6,
    "start_time": "2021-07-17T18:17:55.856Z"
   },
   {
    "duration": 413,
    "start_time": "2021-07-17T18:17:58.176Z"
   },
   {
    "duration": 7,
    "start_time": "2021-07-17T18:19:12.559Z"
   },
   {
    "duration": 5,
    "start_time": "2021-07-17T18:19:39.038Z"
   },
   {
    "duration": 286,
    "start_time": "2021-07-17T18:19:39.807Z"
   },
   {
    "duration": 8,
    "start_time": "2021-07-17T18:19:40.381Z"
   },
   {
    "duration": 1478,
    "start_time": "2021-07-18T06:44:16.540Z"
   },
   {
    "duration": 480,
    "start_time": "2021-07-18T06:44:18.021Z"
   },
   {
    "duration": 19,
    "start_time": "2021-07-18T06:44:18.504Z"
   },
   {
    "duration": 40,
    "start_time": "2021-07-18T06:44:18.526Z"
   },
   {
    "duration": 18,
    "start_time": "2021-07-18T06:44:18.569Z"
   },
   {
    "duration": 19,
    "start_time": "2021-07-18T06:44:18.590Z"
   },
   {
    "duration": 14,
    "start_time": "2021-07-18T06:44:18.612Z"
   },
   {
    "duration": 43,
    "start_time": "2021-07-18T06:44:18.630Z"
   },
   {
    "duration": 15,
    "start_time": "2021-07-18T06:44:18.676Z"
   },
   {
    "duration": 13,
    "start_time": "2021-07-18T06:44:18.993Z"
   },
   {
    "duration": 603,
    "start_time": "2021-07-18T06:44:19.849Z"
   },
   {
    "duration": 595,
    "start_time": "2021-07-18T06:44:20.461Z"
   },
   {
    "duration": 628,
    "start_time": "2021-07-18T06:44:21.063Z"
   },
   {
    "duration": 5,
    "start_time": "2021-07-18T06:44:22.128Z"
   },
   {
    "duration": 52,
    "start_time": "2021-07-18T06:44:22.570Z"
   },
   {
    "duration": 5,
    "start_time": "2021-07-18T06:44:23.737Z"
   },
   {
    "duration": 263,
    "start_time": "2021-07-18T06:44:24.107Z"
   },
   {
    "duration": 11,
    "start_time": "2021-07-18T06:44:24.563Z"
   },
   {
    "duration": 9,
    "start_time": "2021-07-18T06:45:04.440Z"
   },
   {
    "duration": 8,
    "start_time": "2021-07-18T06:45:13.902Z"
   },
   {
    "duration": 1459,
    "start_time": "2021-07-18T12:13:48.223Z"
   },
   {
    "duration": 459,
    "start_time": "2021-07-18T12:13:49.685Z"
   },
   {
    "duration": 18,
    "start_time": "2021-07-18T12:13:50.146Z"
   },
   {
    "duration": 16,
    "start_time": "2021-07-18T12:13:50.167Z"
   },
   {
    "duration": 16,
    "start_time": "2021-07-18T12:13:50.185Z"
   },
   {
    "duration": 16,
    "start_time": "2021-07-18T12:13:50.204Z"
   },
   {
    "duration": 43,
    "start_time": "2021-07-18T12:13:50.222Z"
   },
   {
    "duration": 13,
    "start_time": "2021-07-18T12:13:50.268Z"
   },
   {
    "duration": 16,
    "start_time": "2021-07-18T12:13:50.284Z"
   },
   {
    "duration": 13,
    "start_time": "2021-07-18T12:13:51.068Z"
   },
   {
    "duration": 590,
    "start_time": "2021-07-18T12:13:51.793Z"
   },
   {
    "duration": 587,
    "start_time": "2021-07-18T12:13:52.385Z"
   },
   {
    "duration": 601,
    "start_time": "2021-07-18T12:13:52.975Z"
   },
   {
    "duration": 4,
    "start_time": "2021-07-18T12:13:53.579Z"
   },
   {
    "duration": 69,
    "start_time": "2021-07-18T12:13:53.586Z"
   },
   {
    "duration": 5,
    "start_time": "2021-07-18T12:13:53.761Z"
   },
   {
    "duration": 217,
    "start_time": "2021-07-18T12:13:53.947Z"
   },
   {
    "duration": 9,
    "start_time": "2021-07-18T12:13:54.375Z"
   },
   {
    "duration": 4,
    "start_time": "2021-07-18T12:18:32.258Z"
   },
   {
    "duration": 4,
    "start_time": "2021-07-18T12:18:49.449Z"
   },
   {
    "duration": 429,
    "start_time": "2021-07-18T12:35:15.372Z"
   },
   {
    "duration": 3,
    "start_time": "2021-07-18T12:35:22.205Z"
   },
   {
    "duration": 8,
    "start_time": "2021-07-18T12:35:22.619Z"
   },
   {
    "duration": 6,
    "start_time": "2021-07-18T12:35:40.450Z"
   },
   {
    "duration": 6,
    "start_time": "2021-07-18T12:36:08.057Z"
   },
   {
    "duration": 7,
    "start_time": "2021-07-18T12:36:28.712Z"
   },
   {
    "duration": 7,
    "start_time": "2021-07-18T12:37:19.733Z"
   },
   {
    "duration": 7,
    "start_time": "2021-07-18T12:37:31.639Z"
   },
   {
    "duration": 6,
    "start_time": "2021-07-18T12:37:35.547Z"
   },
   {
    "duration": 7,
    "start_time": "2021-07-18T12:37:55.525Z"
   },
   {
    "duration": 9,
    "start_time": "2021-07-18T12:40:00.513Z"
   },
   {
    "duration": 91,
    "start_time": "2021-07-18T12:40:14.408Z"
   },
   {
    "duration": 8,
    "start_time": "2021-07-18T12:40:22.944Z"
   },
   {
    "duration": 9,
    "start_time": "2021-07-18T12:40:34.721Z"
   },
   {
    "duration": 8,
    "start_time": "2021-07-18T12:40:43.614Z"
   },
   {
    "duration": 4,
    "start_time": "2021-07-18T12:50:36.204Z"
   },
   {
    "duration": 9,
    "start_time": "2021-07-18T12:50:36.611Z"
   },
   {
    "duration": 9,
    "start_time": "2021-07-18T12:50:40.026Z"
   },
   {
    "duration": 1516,
    "start_time": "2021-07-21T03:18:37.689Z"
   },
   {
    "duration": 472,
    "start_time": "2021-07-21T03:18:39.208Z"
   },
   {
    "duration": 20,
    "start_time": "2021-07-21T03:18:39.683Z"
   },
   {
    "duration": 16,
    "start_time": "2021-07-21T03:18:39.706Z"
   },
   {
    "duration": 42,
    "start_time": "2021-07-21T03:18:39.725Z"
   },
   {
    "duration": 14,
    "start_time": "2021-07-21T03:18:40.376Z"
   },
   {
    "duration": 14,
    "start_time": "2021-07-21T03:18:40.601Z"
   },
   {
    "duration": 14,
    "start_time": "2021-07-21T03:18:41.015Z"
   },
   {
    "duration": 17,
    "start_time": "2021-07-21T03:18:41.509Z"
   },
   {
    "duration": 13,
    "start_time": "2021-07-21T03:18:41.900Z"
   },
   {
    "duration": 602,
    "start_time": "2021-07-21T03:18:42.705Z"
   },
   {
    "duration": 597,
    "start_time": "2021-07-21T03:18:43.310Z"
   },
   {
    "duration": 601,
    "start_time": "2021-07-21T03:18:43.909Z"
   },
   {
    "duration": 5,
    "start_time": "2021-07-21T03:18:44.611Z"
   },
   {
    "duration": 53,
    "start_time": "2021-07-21T03:18:44.843Z"
   },
   {
    "duration": 5,
    "start_time": "2021-07-21T03:18:45.181Z"
   },
   {
    "duration": 223,
    "start_time": "2021-07-21T03:18:45.352Z"
   },
   {
    "duration": 100,
    "start_time": "2021-07-21T03:18:45.669Z"
   },
   {
    "duration": 4,
    "start_time": "2021-07-21T03:18:46.953Z"
   },
   {
    "duration": 7,
    "start_time": "2021-07-21T03:18:47.120Z"
   },
   {
    "duration": 9,
    "start_time": "2021-07-21T03:18:47.613Z"
   },
   {
    "duration": 4,
    "start_time": "2021-07-21T03:22:15.884Z"
   },
   {
    "duration": 542,
    "start_time": "2021-07-21T03:32:19.802Z"
   },
   {
    "duration": 4,
    "start_time": "2021-07-21T03:32:50.345Z"
   },
   {
    "duration": 7,
    "start_time": "2021-07-21T03:32:54.805Z"
   },
   {
    "duration": 5,
    "start_time": "2021-07-21T03:36:10.972Z"
   },
   {
    "duration": 5,
    "start_time": "2021-07-21T03:37:08.410Z"
   },
   {
    "duration": 6,
    "start_time": "2021-07-21T03:40:07.811Z"
   },
   {
    "duration": 276,
    "start_time": "2021-07-21T03:40:40.699Z"
   },
   {
    "duration": 836,
    "start_time": "2021-07-21T03:41:39.622Z"
   },
   {
    "duration": 8,
    "start_time": "2021-07-21T03:41:53.279Z"
   },
   {
    "duration": 4695,
    "start_time": "2021-07-21T03:41:53.867Z"
   },
   {
    "duration": 4678,
    "start_time": "2021-07-21T03:43:14.852Z"
   },
   {
    "duration": 4512,
    "start_time": "2021-07-21T03:44:01.148Z"
   },
   {
    "duration": 4454,
    "start_time": "2021-07-21T03:44:25.858Z"
   },
   {
    "duration": 4466,
    "start_time": "2021-07-21T03:45:28.607Z"
   },
   {
    "duration": 4503,
    "start_time": "2021-07-21T03:45:56.949Z"
   },
   {
    "duration": 4552,
    "start_time": "2021-07-21T03:51:57.937Z"
   },
   {
    "duration": 5,
    "start_time": "2021-07-21T04:08:22.728Z"
   },
   {
    "duration": 481,
    "start_time": "2021-07-21T04:08:23.645Z"
   },
   {
    "duration": 14,
    "start_time": "2021-07-21T04:08:25.609Z"
   },
   {
    "duration": 14,
    "start_time": "2021-07-21T04:08:25.895Z"
   },
   {
    "duration": 14,
    "start_time": "2021-07-21T04:08:26.087Z"
   },
   {
    "duration": 14,
    "start_time": "2021-07-21T04:08:26.706Z"
   },
   {
    "duration": 14,
    "start_time": "2021-07-21T04:08:27.626Z"
   },
   {
    "duration": 14,
    "start_time": "2021-07-21T04:08:27.812Z"
   },
   {
    "duration": 17,
    "start_time": "2021-07-21T04:08:31.484Z"
   },
   {
    "duration": 13,
    "start_time": "2021-07-21T04:08:36.639Z"
   },
   {
    "duration": 691,
    "start_time": "2021-07-21T04:08:37.733Z"
   },
   {
    "duration": 602,
    "start_time": "2021-07-21T04:08:47.649Z"
   },
   {
    "duration": 704,
    "start_time": "2021-07-21T04:08:52.209Z"
   },
   {
    "duration": 5,
    "start_time": "2021-07-21T04:08:55.473Z"
   },
   {
    "duration": 51,
    "start_time": "2021-07-21T04:08:55.649Z"
   },
   {
    "duration": 6,
    "start_time": "2021-07-21T04:08:56.480Z"
   },
   {
    "duration": 224,
    "start_time": "2021-07-21T04:08:56.649Z"
   },
   {
    "duration": 99,
    "start_time": "2021-07-21T04:08:56.972Z"
   },
   {
    "duration": 4,
    "start_time": "2021-07-21T04:08:59.673Z"
   },
   {
    "duration": 7,
    "start_time": "2021-07-21T04:09:00.238Z"
   },
   {
    "duration": 10,
    "start_time": "2021-07-21T04:09:01.113Z"
   },
   {
    "duration": 4,
    "start_time": "2021-07-21T04:09:07.639Z"
   },
   {
    "duration": 7,
    "start_time": "2021-07-21T04:09:12.940Z"
   },
   {
    "duration": 4527,
    "start_time": "2021-07-21T04:09:14.277Z"
   },
   {
    "duration": 4602,
    "start_time": "2021-07-21T04:09:34.480Z"
   },
   {
    "duration": 4582,
    "start_time": "2021-07-21T04:09:39.085Z"
   },
   {
    "duration": 4469,
    "start_time": "2021-07-21T04:09:43.670Z"
   },
   {
    "duration": 4591,
    "start_time": "2021-07-21T04:10:02.326Z"
   },
   {
    "duration": 4670,
    "start_time": "2021-07-21T04:10:06.920Z"
   },
   {
    "duration": 4466,
    "start_time": "2021-07-21T04:10:11.592Z"
   },
   {
    "duration": 1500,
    "start_time": "2021-07-21T05:38:54.994Z"
   },
   {
    "duration": 448,
    "start_time": "2021-07-21T05:38:56.497Z"
   },
   {
    "duration": 19,
    "start_time": "2021-07-21T05:38:56.948Z"
   },
   {
    "duration": 21,
    "start_time": "2021-07-21T05:38:56.969Z"
   },
   {
    "duration": 13,
    "start_time": "2021-07-21T05:38:57.313Z"
   },
   {
    "duration": 15,
    "start_time": "2021-07-21T05:38:57.857Z"
   },
   {
    "duration": 13,
    "start_time": "2021-07-21T05:38:58.232Z"
   },
   {
    "duration": 13,
    "start_time": "2021-07-21T05:38:58.704Z"
   },
   {
    "duration": 17,
    "start_time": "2021-07-21T05:39:00.642Z"
   },
   {
    "duration": 14,
    "start_time": "2021-07-21T05:39:01.333Z"
   },
   {
    "duration": 580,
    "start_time": "2021-07-21T05:39:04.011Z"
   },
   {
    "duration": 596,
    "start_time": "2021-07-21T05:39:04.593Z"
   },
   {
    "duration": 608,
    "start_time": "2021-07-21T05:39:09.801Z"
   },
   {
    "duration": 5,
    "start_time": "2021-07-21T05:40:43.664Z"
   },
   {
    "duration": 52,
    "start_time": "2021-07-21T05:40:44.228Z"
   },
   {
    "duration": 6,
    "start_time": "2021-07-21T05:40:45.444Z"
   },
   {
    "duration": 236,
    "start_time": "2021-07-21T05:40:45.654Z"
   },
   {
    "duration": 9,
    "start_time": "2021-07-21T05:40:46.445Z"
   },
   {
    "duration": 4,
    "start_time": "2021-07-21T05:42:23.468Z"
   },
   {
    "duration": 7,
    "start_time": "2021-07-21T05:42:24.049Z"
   },
   {
    "duration": 9,
    "start_time": "2021-07-21T05:42:24.598Z"
   },
   {
    "duration": 4,
    "start_time": "2021-07-21T05:42:58.783Z"
   },
   {
    "duration": 7,
    "start_time": "2021-07-21T05:43:08.423Z"
   },
   {
    "duration": 4756,
    "start_time": "2021-07-21T05:43:08.600Z"
   },
   {
    "duration": 4513,
    "start_time": "2021-07-21T05:43:13.359Z"
   },
   {
    "duration": 4376,
    "start_time": "2021-07-21T05:43:17.875Z"
   }
  ],
  "kernelspec": {
   "display_name": "Python 3",
   "language": "python",
   "name": "python3"
  },
  "language_info": {
   "codemirror_mode": {
    "name": "ipython",
    "version": 3
   },
   "file_extension": ".py",
   "mimetype": "text/x-python",
   "name": "python",
   "nbconvert_exporter": "python",
   "pygments_lexer": "ipython3",
   "version": "3.9.1"
  },
  "toc": {
   "base_numbering": 1,
   "nav_menu": {},
   "number_sections": false,
   "sideBar": true,
   "skip_h1_title": true,
   "title_cell": "Table of Contents",
   "title_sidebar": "Contents",
   "toc_cell": false,
   "toc_position": {},
   "toc_section_display": true,
   "toc_window_display": false
  }
 },
 "nbformat": 4,
 "nbformat_minor": 2
}
