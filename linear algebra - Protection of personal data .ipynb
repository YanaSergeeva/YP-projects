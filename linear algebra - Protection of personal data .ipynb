{
 "cells": [
  {
   "cell_type": "markdown",
   "metadata": {},
   "source": [
    "# Защита персональных данных клиентов"
   ]
  },
  {
   "cell_type": "markdown",
   "metadata": {},
   "source": [
    "Вам нужно защитить данные клиентов страховой компании «Хоть потоп». Разработайте такой метод преобразования данных, чтобы по ним было сложно восстановить персональную информацию. Обоснуйте корректность его работы.\n",
    "\n",
    "Нужно защитить данные, чтобы при преобразовании качество моделей машинного обучения не ухудшилось. Подбирать наилучшую модель не требуется."
   ]
  },
  {
   "cell_type": "markdown",
   "metadata": {},
   "source": [
    "## Загрузка данных"
   ]
  },
  {
   "cell_type": "code",
   "execution_count": 2,
   "metadata": {},
   "outputs": [],
   "source": [
    "import pandas as pd\n",
    "import numpy as np\n",
    "import matplotlib.pyplot as plt\n",
    "import seaborn as sns\n",
    "from sklearn.metrics import r2_score\n",
    "from sklearn.preprocessing import StandardScaler\n",
    "from sklearn.linear_model import LinearRegression\n",
    "from sklearn.metrics import mean_squared_error"
   ]
  },
  {
   "cell_type": "code",
   "execution_count": 3,
   "metadata": {},
   "outputs": [],
   "source": [
    "data = pd.read_csv('/datasets/insurance.csv')"
   ]
  },
  {
   "cell_type": "code",
   "execution_count": 4,
   "metadata": {},
   "outputs": [
    {
     "name": "stdout",
     "output_type": "stream",
     "text": [
      "(5000, 5)\n"
     ]
    },
    {
     "data": {
      "text/html": [
       "<div>\n",
       "<style scoped>\n",
       "    .dataframe tbody tr th:only-of-type {\n",
       "        vertical-align: middle;\n",
       "    }\n",
       "\n",
       "    .dataframe tbody tr th {\n",
       "        vertical-align: top;\n",
       "    }\n",
       "\n",
       "    .dataframe thead th {\n",
       "        text-align: right;\n",
       "    }\n",
       "</style>\n",
       "<table border=\"1\" class=\"dataframe\">\n",
       "  <thead>\n",
       "    <tr style=\"text-align: right;\">\n",
       "      <th></th>\n",
       "      <th>Пол</th>\n",
       "      <th>Возраст</th>\n",
       "      <th>Зарплата</th>\n",
       "      <th>Члены семьи</th>\n",
       "      <th>Страховые выплаты</th>\n",
       "    </tr>\n",
       "  </thead>\n",
       "  <tbody>\n",
       "    <tr>\n",
       "      <td>0</td>\n",
       "      <td>1</td>\n",
       "      <td>41.0</td>\n",
       "      <td>49600.0</td>\n",
       "      <td>1</td>\n",
       "      <td>0</td>\n",
       "    </tr>\n",
       "    <tr>\n",
       "      <td>1</td>\n",
       "      <td>0</td>\n",
       "      <td>46.0</td>\n",
       "      <td>38000.0</td>\n",
       "      <td>1</td>\n",
       "      <td>1</td>\n",
       "    </tr>\n",
       "    <tr>\n",
       "      <td>2</td>\n",
       "      <td>0</td>\n",
       "      <td>29.0</td>\n",
       "      <td>21000.0</td>\n",
       "      <td>0</td>\n",
       "      <td>0</td>\n",
       "    </tr>\n",
       "    <tr>\n",
       "      <td>3</td>\n",
       "      <td>0</td>\n",
       "      <td>21.0</td>\n",
       "      <td>41700.0</td>\n",
       "      <td>2</td>\n",
       "      <td>0</td>\n",
       "    </tr>\n",
       "    <tr>\n",
       "      <td>4</td>\n",
       "      <td>1</td>\n",
       "      <td>28.0</td>\n",
       "      <td>26100.0</td>\n",
       "      <td>0</td>\n",
       "      <td>0</td>\n",
       "    </tr>\n",
       "    <tr>\n",
       "      <td>5</td>\n",
       "      <td>1</td>\n",
       "      <td>43.0</td>\n",
       "      <td>41000.0</td>\n",
       "      <td>2</td>\n",
       "      <td>1</td>\n",
       "    </tr>\n",
       "    <tr>\n",
       "      <td>6</td>\n",
       "      <td>1</td>\n",
       "      <td>39.0</td>\n",
       "      <td>39700.0</td>\n",
       "      <td>2</td>\n",
       "      <td>0</td>\n",
       "    </tr>\n",
       "    <tr>\n",
       "      <td>7</td>\n",
       "      <td>1</td>\n",
       "      <td>25.0</td>\n",
       "      <td>38600.0</td>\n",
       "      <td>4</td>\n",
       "      <td>0</td>\n",
       "    </tr>\n",
       "    <tr>\n",
       "      <td>8</td>\n",
       "      <td>1</td>\n",
       "      <td>36.0</td>\n",
       "      <td>49700.0</td>\n",
       "      <td>1</td>\n",
       "      <td>0</td>\n",
       "    </tr>\n",
       "    <tr>\n",
       "      <td>9</td>\n",
       "      <td>1</td>\n",
       "      <td>32.0</td>\n",
       "      <td>51700.0</td>\n",
       "      <td>1</td>\n",
       "      <td>0</td>\n",
       "    </tr>\n",
       "  </tbody>\n",
       "</table>\n",
       "</div>"
      ],
      "text/plain": [
       "   Пол  Возраст  Зарплата  Члены семьи  Страховые выплаты\n",
       "0    1     41.0   49600.0            1                  0\n",
       "1    0     46.0   38000.0            1                  1\n",
       "2    0     29.0   21000.0            0                  0\n",
       "3    0     21.0   41700.0            2                  0\n",
       "4    1     28.0   26100.0            0                  0\n",
       "5    1     43.0   41000.0            2                  1\n",
       "6    1     39.0   39700.0            2                  0\n",
       "7    1     25.0   38600.0            4                  0\n",
       "8    1     36.0   49700.0            1                  0\n",
       "9    1     32.0   51700.0            1                  0"
      ]
     },
     "execution_count": 4,
     "metadata": {},
     "output_type": "execute_result"
    }
   ],
   "source": [
    "print(data.shape)\n",
    "data.head(10)"
   ]
  },
  {
   "cell_type": "code",
   "execution_count": 5,
   "metadata": {},
   "outputs": [
    {
     "name": "stdout",
     "output_type": "stream",
     "text": [
      "<class 'pandas.core.frame.DataFrame'>\n",
      "RangeIndex: 5000 entries, 0 to 4999\n",
      "Data columns (total 5 columns):\n",
      "Пол                  5000 non-null int64\n",
      "Возраст              5000 non-null float64\n",
      "Зарплата             5000 non-null float64\n",
      "Члены семьи          5000 non-null int64\n",
      "Страховые выплаты    5000 non-null int64\n",
      "dtypes: float64(2), int64(3)\n",
      "memory usage: 195.4 KB\n"
     ]
    }
   ],
   "source": [
    "data.info()"
   ]
  },
  {
   "cell_type": "code",
   "execution_count": 6,
   "metadata": {},
   "outputs": [],
   "source": [
    "data['Возраст'] = data['Возраст'].astype(int)\n",
    "data['Зарплата'] = data['Зарплата'].astype(int)"
   ]
  },
  {
   "cell_type": "code",
   "execution_count": 7,
   "metadata": {},
   "outputs": [
    {
     "data": {
      "text/plain": [
       "153"
      ]
     },
     "execution_count": 7,
     "metadata": {},
     "output_type": "execute_result"
    }
   ],
   "source": [
    "data.duplicated().sum()"
   ]
  },
  {
   "cell_type": "markdown",
   "metadata": {},
   "source": [
    "В данных мы имеем достаточно мало признаков, поэтому можно предполагать, что некоторые данные могут совпадать, поэтому лучше будет оставить дубли без удаления"
   ]
  },
  {
   "cell_type": "markdown",
   "metadata": {},
   "source": [
    "Теперь посмотрим на распределения по каждому признаку, для этого построим гистограммы"
   ]
  },
  {
   "cell_type": "code",
   "execution_count": 8,
   "metadata": {},
   "outputs": [
    {
     "data": {
      "image/png": "[encoded data removed]",
      "text/plain": [
       "<Figure size 864x360 with 1 Axes>"
      ]
     },
     "metadata": {},
     "output_type": "display_data"
    }
   ],
   "source": [
    "sns.set()\n",
    "fig, ax = plt.subplots(figsize=(12, 5))\n",
    "sns.countplot(x='Пол', data=data, palette=\"Set3\")\n",
    "ax.set_title('Распределение по полу')\n",
    "plt.ylabel('Количество');"
   ]
  },
  {
   "cell_type": "code",
   "execution_count": 9,
   "metadata": {},
   "outputs": [
    {
     "data": {
      "image/png": "[encoded data removed]",
      "text/plain": [
       "<Figure size 864x360 with 1 Axes>"
      ]
     },
     "metadata": {},
     "output_type": "display_data"
    }
   ],
   "source": [
    "sns.set()\n",
    "fig, ax = plt.subplots(figsize=(12, 5))\n",
    "sns.distplot(data['Возраст'], bins=len(data['Возраст'].unique()), color=\"y\")\n",
    "ax.set_title('Распределение по возрасту')\n",
    "plt.ylabel('Плотность частоты');"
   ]
  },
  {
   "cell_type": "code",
   "execution_count": 10,
   "metadata": {},
   "outputs": [
    {
     "data": {
      "image/png": "[encoded data removed]",
      "text/plain": [
       "<Figure size 864x360 with 1 Axes>"
      ]
     },
     "metadata": {},
     "output_type": "display_data"
    }
   ],
   "source": [
    "fig, ax = plt.subplots(figsize=(12, 5))\n",
    "sns.distplot(data['Зарплата'], color=\"y\")\n",
    "ax.set_title('Распределение по зарплате')\n",
    "plt.ylabel('Плотность частоты');"
   ]
  },
  {
   "cell_type": "code",
   "execution_count": 11,
   "metadata": {},
   "outputs": [
    {
     "data": {
      "image/png": "[encoded data removed]",
      "text/plain": [
       "<Figure size 864x360 with 1 Axes>"
      ]
     },
     "metadata": {},
     "output_type": "display_data"
    }
   ],
   "source": [
    "sns.set()\n",
    "fig, ax = plt.subplots(figsize=(12, 5))\n",
    "sns.countplot(x='Члены семьи', data=data, palette=\"Set3\")\n",
    "ax.set_title('Распределение по количеству членов семьи')\n",
    "plt.ylabel('Количество');"
   ]
  },
  {
   "cell_type": "code",
   "execution_count": 12,
   "metadata": {},
   "outputs": [
    {
     "data": {
      "image/png": "[encoded data removed]",
      "text/plain": [
       "<Figure size 864x360 with 1 Axes>"
      ]
     },
     "metadata": {},
     "output_type": "display_data"
    }
   ],
   "source": [
    "sns.set()\n",
    "fig, ax = plt.subplots(figsize=(12, 5))\n",
    "sns.countplot(x='Страховые выплаты', data=data, palette=\"Set3\")\n",
    "ax.set_title('Распределение по количеству страховых выплат')\n",
    "plt.ylabel('Количество');"
   ]
  },
  {
   "cell_type": "markdown",
   "metadata": {},
   "source": [
    "## Умножение матриц"
   ]
  },
  {
   "cell_type": "markdown",
   "metadata": {},
   "source": [
    "Обозначения:\n",
    "\n",
    "- $X$ — матрица признаков (нулевой столбец состоит из единиц)\n",
    "\n",
    "- $y$ — вектор целевого признака\n",
    "\n",
    "- $P$ — матрица, на которую умножаются признаки\n",
    "\n",
    "- $w$ — вектор весов линейной регрессии (нулевой элемент равен сдвигу)"
   ]
  },
  {
   "cell_type": "markdown",
   "metadata": {},
   "source": [
    "Предсказания:\n",
    "\n",
    "$$\n",
    "a = Xw\n",
    "$$\n",
    "\n",
    "Задача обучения:\n",
    "\n",
    "$$\n",
    "w = \\arg\\min_w MSE(Xw, y)\n",
    "$$\n",
    "\n",
    "Формула обучения:\n",
    "\n",
    "$$\n",
    "w = (X^T X)^{-1} X^T y\n",
    "$$"
   ]
  },
  {
   "cell_type": "markdown",
   "metadata": {},
   "source": [
    "Разделим данные на признаки и целевой признак: features и target"
   ]
  },
  {
   "cell_type": "code",
   "execution_count": 13,
   "metadata": {},
   "outputs": [],
   "source": [
    "features = data.drop('Страховые выплаты', axis=1)\n",
    "target = data['Страховые выплаты']"
   ]
  },
  {
   "cell_type": "markdown",
   "metadata": {},
   "source": [
    "Создадим класс LinReg и напишем 2 метода fit и predict.\n",
    "Первый находит веса w, второй делает предсказания:"
   ]
  },
  {
   "cell_type": "code",
   "execution_count": 14,
   "metadata": {},
   "outputs": [],
   "source": [
    "class LinReg:\n",
    "    def fit(self, train_features, train_target):\n",
    "        X = np.concatenate((np.ones((train_features.shape[0], 1)), train_features), axis=1)\n",
    "        y = train_target\n",
    "        w = np.linalg.inv((X.T @ X)).dot(X.T).dot(y)\n",
    "        self.w = w[1:]\n",
    "        self.w0 = w[0]\n",
    "        print(w)\n",
    "        \n",
    "    def predict(self, test_features):\n",
    "        return test_features.dot(self.w) + self.w0"
   ]
  },
  {
   "cell_type": "markdown",
   "metadata": {},
   "source": [
    "Создадим модель, обучим ее и найдем предсказания на обучающей выборке. Также расчитаем значение метрики R2:"
   ]
  },
  {
   "cell_type": "code",
   "execution_count": 15,
   "metadata": {},
   "outputs": [
    {
     "name": "stdout",
     "output_type": "stream",
     "text": [
      "[-9.38235447e-01  7.92580563e-03  3.57083050e-02 -1.70081903e-07\n",
      " -1.35676627e-02]\n"
     ]
    },
    {
     "data": {
      "text/plain": [
       "0.42494550308169177"
      ]
     },
     "execution_count": 15,
     "metadata": {},
     "output_type": "execute_result"
    }
   ],
   "source": [
    "model = LinReg()\n",
    "model.fit(features, target)\n",
    "predictions = model.predict(features)\n",
    "r2_score(target, predictions)"
   ]
  },
  {
   "cell_type": "markdown",
   "metadata": {},
   "source": [
    "Создадим случайную квадратную матрицу, размером по количеству столбцов features"
   ]
  },
  {
   "cell_type": "code",
   "execution_count": 16,
   "metadata": {},
   "outputs": [
    {
     "data": {
      "text/plain": [
       "array([[ 0.47951231, -0.38665215, -1.48906052, -0.33057348],\n",
       "       [ 0.21147788, -1.01793304, -0.42088604, -0.5360131 ],\n",
       "       [ 0.35740077,  1.60431652,  0.21559846,  0.15300354],\n",
       "       [ 0.29047457,  0.47934317,  0.22814433, -0.47411612]])"
      ]
     },
     "execution_count": 16,
     "metadata": {},
     "output_type": "execute_result"
    }
   ],
   "source": [
    "random_matrix = np.random.normal(0, 1, (features.shape[1], features.shape[1]))\n",
    "random_matrix"
   ]
  },
  {
   "cell_type": "markdown",
   "metadata": {},
   "source": [
    "Проверим на обратимость, вызвав np.linalg.inv()"
   ]
  },
  {
   "cell_type": "code",
   "execution_count": 17,
   "metadata": {},
   "outputs": [
    {
     "data": {
      "text/plain": [
       "array([[-1.7742567 ,  6.42593592,  4.97128429, -4.4234723 ],\n",
       "       [ 0.65063539, -1.96712617, -0.90926825,  1.4768562 ],\n",
       "       [-1.18950387,  1.94032186,  1.23316405, -0.96630555],\n",
       "       [-1.00160564,  2.88181698,  2.71983898, -3.79114381]])"
      ]
     },
     "execution_count": 17,
     "metadata": {},
     "output_type": "execute_result"
    }
   ],
   "source": [
    "np.linalg.inv(random_matrix)"
   ]
  },
  {
   "cell_type": "markdown",
   "metadata": {},
   "source": [
    "Теперь получим единичную матрицу. Для этого перемножим исходную на обратную матрицы"
   ]
  },
  {
   "cell_type": "code",
   "execution_count": 18,
   "metadata": {},
   "outputs": [
    {
     "data": {
      "text/plain": [
       "array([[ 1.00000000e+00, -1.21795406e-16, -2.49125272e-16,\n",
       "         8.57409545e-18],\n",
       "       [ 2.97903144e-19,  1.00000000e+00, -8.97478312e-19,\n",
       "        -2.65606077e-16],\n",
       "       [-1.50569891e-16,  3.82224984e-16,  1.00000000e+00,\n",
       "         2.03691684e-16],\n",
       "       [-1.56870014e-16, -8.42556773e-17, -8.61662085e-17,\n",
       "         1.00000000e+00]])"
      ]
     },
     "execution_count": 18,
     "metadata": {},
     "output_type": "execute_result"
    }
   ],
   "source": [
    "random_matrix @ np.linalg.inv(random_matrix)"
   ]
  },
  {
   "cell_type": "markdown",
   "metadata": {},
   "source": [
    "Умножим признаки на обратимую матрицу random_matrix"
   ]
  },
  {
   "cell_type": "code",
   "execution_count": 19,
   "metadata": {},
   "outputs": [
    {
     "data": {
      "text/html": [
       "<div>\n",
       "<style scoped>\n",
       "    .dataframe tbody tr th:only-of-type {\n",
       "        vertical-align: middle;\n",
       "    }\n",
       "\n",
       "    .dataframe tbody tr th {\n",
       "        vertical-align: top;\n",
       "    }\n",
       "\n",
       "    .dataframe thead th {\n",
       "        text-align: right;\n",
       "    }\n",
       "</style>\n",
       "<table border=\"1\" class=\"dataframe\">\n",
       "  <thead>\n",
       "    <tr style=\"text-align: right;\">\n",
       "      <th></th>\n",
       "      <th>0</th>\n",
       "      <th>1</th>\n",
       "      <th>2</th>\n",
       "      <th>3</th>\n",
       "    </tr>\n",
       "  </thead>\n",
       "  <tbody>\n",
       "    <tr>\n",
       "      <td>0</td>\n",
       "      <td>17736.518585</td>\n",
       "      <td>79532.456856</td>\n",
       "      <td>10675.166159</td>\n",
       "      <td>7566.194297</td>\n",
       "    </tr>\n",
       "    <tr>\n",
       "      <td>1</td>\n",
       "      <td>13591.247573</td>\n",
       "      <td>60917.682205</td>\n",
       "      <td>8173.608703</td>\n",
       "      <td>5789.003755</td>\n",
       "    </tr>\n",
       "    <tr>\n",
       "      <td>2</td>\n",
       "      <td>7511.548949</td>\n",
       "      <td>33661.126874</td>\n",
       "      <td>4515.361875</td>\n",
       "      <td>3197.529935</td>\n",
       "    </tr>\n",
       "    <tr>\n",
       "      <td>3</td>\n",
       "      <td>14908.633936</td>\n",
       "      <td>66879.581000</td>\n",
       "      <td>8982.073284</td>\n",
       "      <td>6368.043060</td>\n",
       "    </tr>\n",
       "    <tr>\n",
       "      <td>4</td>\n",
       "      <td>9334.560891</td>\n",
       "      <td>41843.772409</td>\n",
       "      <td>5613.845824</td>\n",
       "      <td>3978.053422</td>\n",
       "    </tr>\n",
       "  </tbody>\n",
       "</table>\n",
       "</div>"
      ],
      "text/plain": [
       "              0             1             2            3\n",
       "0  17736.518585  79532.456856  10675.166159  7566.194297\n",
       "1  13591.247573  60917.682205   8173.608703  5789.003755\n",
       "2   7511.548949  33661.126874   4515.361875  3197.529935\n",
       "3  14908.633936  66879.581000   8982.073284  6368.043060\n",
       "4   9334.560891  41843.772409   5613.845824  3978.053422"
      ]
     },
     "execution_count": 19,
     "metadata": {},
     "output_type": "execute_result"
    }
   ],
   "source": [
    "matrix_features = features.dot(random_matrix)\n",
    "matrix_features.head()"
   ]
  },
  {
   "cell_type": "markdown",
   "metadata": {},
   "source": [
    "Обучим модель на новых признаках, найдем предсказания, и проверим изменится ли качество линейной регрессии"
   ]
  },
  {
   "cell_type": "code",
   "execution_count": 20,
   "metadata": {},
   "outputs": [
    {
     "name": "stdout",
     "output_type": "stream",
     "text": [
      "[-0.93823515  0.27541383 -0.08512383  0.07296881  0.14640394]\n"
     ]
    },
    {
     "data": {
      "text/plain": [
       "0.42494550308122203"
      ]
     },
     "execution_count": 20,
     "metadata": {},
     "output_type": "execute_result"
    }
   ],
   "source": [
    "model = LinReg()\n",
    "model.fit(matrix_features, target)\n",
    "predictions = model.predict(matrix_features)\n",
    "r2_score(target, predictions)"
   ]
  },
  {
   "cell_type": "markdown",
   "metadata": {},
   "source": [
    "#### Как связаны параметры линейной регрессии в исходной задаче и в преобразованной?\n",
    "\n",
    "Есть формула для предсказаний:\n",
    "\n",
    "$$\n",
    "a = Xw\n",
    "$$\n",
    "\n",
    "Т.к. новая матрица признаков получается умножением исходной $Х$ на рандомную $М$, то формула применит вид:\n",
    "\n",
    "$$\n",
    "a = X М w\n",
    "$$\n",
    "Формула обучения:\n",
    "\n",
    "$$\n",
    "w = (X^T X)^{-1} X^T y\n",
    "$$\n",
    "Тогда перепишем формулу нахождения весов $w1$:\n",
    "\n",
    "$$\n",
    "w1 = ((XM)^T XM)^{-1} (XM)^T y\n",
    "$$\n",
    "Раскроем скобки:$$\n",
    "w1 = ((M^T X^T XM)^{-1}M^T X^T y\n",
    "$$\n",
    "\n",
    "$(M^T)^{-1} M^T$ это единичная матрица $E$, матрица умножаясь на единичную равна себе, поэтому сократим запись:\n",
    "\n",
    "$$\n",
    "w1 =  M^{-1}(X^T X)^{-1} X^T y\n",
    "$$\n",
    "То есть новые веса $w1$ выражаются через исходные $w$ следующим образом:$$\n",
    "w1 =  M^{-1} w\n",
    "$$"
   ]
  },
  {
   "cell_type": "markdown",
   "metadata": {},
   "source": [
    " умножив признаки на обратимую матрицу, качество линейной регрессии не меняется."
   ]
  },
  {
   "cell_type": "markdown",
   "metadata": {},
   "source": [
    "## Алгоритм преобразования"
   ]
  },
  {
   "cell_type": "markdown",
   "metadata": {},
   "source": [
    "Напишем алгоритм, закодировав исходную матрицу:"
   ]
  },
  {
   "cell_type": "code",
   "execution_count": 21,
   "metadata": {},
   "outputs": [],
   "source": [
    "def encode(features):\n",
    "    random_matrix = np.random.normal(0, 1, (features.shape[1], features.shape[1]))\n",
    "    features_encode = features.dot(random_matrix)\n",
    "    return features_encode"
   ]
  },
  {
   "cell_type": "code",
   "execution_count": 22,
   "metadata": {},
   "outputs": [
    {
     "data": {
      "text/html": [
       "<div>\n",
       "<style scoped>\n",
       "    .dataframe tbody tr th:only-of-type {\n",
       "        vertical-align: middle;\n",
       "    }\n",
       "\n",
       "    .dataframe tbody tr th {\n",
       "        vertical-align: top;\n",
       "    }\n",
       "\n",
       "    .dataframe thead th {\n",
       "        text-align: right;\n",
       "    }\n",
       "</style>\n",
       "<table border=\"1\" class=\"dataframe\">\n",
       "  <thead>\n",
       "    <tr style=\"text-align: right;\">\n",
       "      <th></th>\n",
       "      <th>0</th>\n",
       "      <th>1</th>\n",
       "      <th>2</th>\n",
       "      <th>3</th>\n",
       "    </tr>\n",
       "  </thead>\n",
       "  <tbody>\n",
       "    <tr>\n",
       "      <td>0</td>\n",
       "      <td>6906.636668</td>\n",
       "      <td>571.589789</td>\n",
       "      <td>-104010.805448</td>\n",
       "      <td>-48371.179040</td>\n",
       "    </tr>\n",
       "    <tr>\n",
       "      <td>1</td>\n",
       "      <td>5293.806753</td>\n",
       "      <td>460.807243</td>\n",
       "      <td>-79681.919189</td>\n",
       "      <td>-37060.234920</td>\n",
       "    </tr>\n",
       "    <tr>\n",
       "      <td>2</td>\n",
       "      <td>2927.361716</td>\n",
       "      <td>260.512760</td>\n",
       "      <td>-44034.046433</td>\n",
       "      <td>-20481.032575</td>\n",
       "    </tr>\n",
       "    <tr>\n",
       "      <td>3</td>\n",
       "      <td>5800.802111</td>\n",
       "      <td>457.999954</td>\n",
       "      <td>-87447.191453</td>\n",
       "      <td>-40664.071345</td>\n",
       "    </tr>\n",
       "    <tr>\n",
       "      <td>4</td>\n",
       "      <td>3637.098030</td>\n",
       "      <td>311.585394</td>\n",
       "      <td>-54730.256261</td>\n",
       "      <td>-25454.830588</td>\n",
       "    </tr>\n",
       "    <tr>\n",
       "      <td>...</td>\n",
       "      <td>...</td>\n",
       "      <td>...</td>\n",
       "      <td>...</td>\n",
       "      <td>...</td>\n",
       "    </tr>\n",
       "    <tr>\n",
       "      <td>4995</td>\n",
       "      <td>4967.940574</td>\n",
       "      <td>408.216991</td>\n",
       "      <td>-74862.394624</td>\n",
       "      <td>-34814.964189</td>\n",
       "    </tr>\n",
       "    <tr>\n",
       "      <td>4996</td>\n",
       "      <td>7293.782152</td>\n",
       "      <td>588.026681</td>\n",
       "      <td>-109884.288330</td>\n",
       "      <td>-51098.913705</td>\n",
       "    </tr>\n",
       "    <tr>\n",
       "      <td>4997</td>\n",
       "      <td>4715.751309</td>\n",
       "      <td>376.995165</td>\n",
       "      <td>-71089.361163</td>\n",
       "      <td>-33058.503238</td>\n",
       "    </tr>\n",
       "    <tr>\n",
       "      <td>4998</td>\n",
       "      <td>4548.149704</td>\n",
       "      <td>368.627515</td>\n",
       "      <td>-68572.291649</td>\n",
       "      <td>-31890.421505</td>\n",
       "    </tr>\n",
       "    <tr>\n",
       "      <td>4999</td>\n",
       "      <td>5651.921205</td>\n",
       "      <td>459.019996</td>\n",
       "      <td>-85139.207363</td>\n",
       "      <td>-39593.495839</td>\n",
       "    </tr>\n",
       "  </tbody>\n",
       "</table>\n",
       "<p>5000 rows × 4 columns</p>\n",
       "</div>"
      ],
      "text/plain": [
       "                0           1              2             3\n",
       "0     6906.636668  571.589789 -104010.805448 -48371.179040\n",
       "1     5293.806753  460.807243  -79681.919189 -37060.234920\n",
       "2     2927.361716  260.512760  -44034.046433 -20481.032575\n",
       "3     5800.802111  457.999954  -87447.191453 -40664.071345\n",
       "4     3637.098030  311.585394  -54730.256261 -25454.830588\n",
       "...           ...         ...            ...           ...\n",
       "4995  4967.940574  408.216991  -74862.394624 -34814.964189\n",
       "4996  7293.782152  588.026681 -109884.288330 -51098.913705\n",
       "4997  4715.751309  376.995165  -71089.361163 -33058.503238\n",
       "4998  4548.149704  368.627515  -68572.291649 -31890.421505\n",
       "4999  5651.921205  459.019996  -85139.207363 -39593.495839\n",
       "\n",
       "[5000 rows x 4 columns]"
      ]
     },
     "execution_count": 22,
     "metadata": {},
     "output_type": "execute_result"
    }
   ],
   "source": [
    "encode(features)"
   ]
  },
  {
   "cell_type": "markdown",
   "metadata": {},
   "source": [
    "Для расшифровки данных напишем алгоритм (функцию дешифрования), принимающий на вход зашифрованную матрицу features_encode и возвращающая исходную features:"
   ]
  },
  {
   "cell_type": "code",
   "execution_count": 23,
   "metadata": {},
   "outputs": [],
   "source": [
    "def decode(features_encode):\n",
    "    features_decode = round(abs(features_encode.dot(np.linalg.inv(random_matrix))))\n",
    "    for i in features_decode.iloc[:, [0, 3]]:\n",
    "        features_decode[i] = features_decode[i].astype(int)\n",
    "    features_decode.columns = features.columns\n",
    "    return features_decode"
   ]
  },
  {
   "cell_type": "code",
   "execution_count": 24,
   "metadata": {},
   "outputs": [],
   "source": [
    "features_encode = features.dot(random_matrix)"
   ]
  },
  {
   "cell_type": "code",
   "execution_count": 25,
   "metadata": {},
   "outputs": [
    {
     "data": {
      "text/html": [
       "<div>\n",
       "<style scoped>\n",
       "    .dataframe tbody tr th:only-of-type {\n",
       "        vertical-align: middle;\n",
       "    }\n",
       "\n",
       "    .dataframe tbody tr th {\n",
       "        vertical-align: top;\n",
       "    }\n",
       "\n",
       "    .dataframe thead th {\n",
       "        text-align: right;\n",
       "    }\n",
       "</style>\n",
       "<table border=\"1\" class=\"dataframe\">\n",
       "  <thead>\n",
       "    <tr style=\"text-align: right;\">\n",
       "      <th></th>\n",
       "      <th>Пол</th>\n",
       "      <th>Возраст</th>\n",
       "      <th>Зарплата</th>\n",
       "      <th>Члены семьи</th>\n",
       "    </tr>\n",
       "  </thead>\n",
       "  <tbody>\n",
       "    <tr>\n",
       "      <td>0</td>\n",
       "      <td>1</td>\n",
       "      <td>41.0</td>\n",
       "      <td>49600.0</td>\n",
       "      <td>1</td>\n",
       "    </tr>\n",
       "    <tr>\n",
       "      <td>1</td>\n",
       "      <td>0</td>\n",
       "      <td>46.0</td>\n",
       "      <td>38000.0</td>\n",
       "      <td>1</td>\n",
       "    </tr>\n",
       "    <tr>\n",
       "      <td>2</td>\n",
       "      <td>0</td>\n",
       "      <td>29.0</td>\n",
       "      <td>21000.0</td>\n",
       "      <td>0</td>\n",
       "    </tr>\n",
       "    <tr>\n",
       "      <td>3</td>\n",
       "      <td>0</td>\n",
       "      <td>21.0</td>\n",
       "      <td>41700.0</td>\n",
       "      <td>2</td>\n",
       "    </tr>\n",
       "    <tr>\n",
       "      <td>4</td>\n",
       "      <td>1</td>\n",
       "      <td>28.0</td>\n",
       "      <td>26100.0</td>\n",
       "      <td>0</td>\n",
       "    </tr>\n",
       "    <tr>\n",
       "      <td>...</td>\n",
       "      <td>...</td>\n",
       "      <td>...</td>\n",
       "      <td>...</td>\n",
       "      <td>...</td>\n",
       "    </tr>\n",
       "    <tr>\n",
       "      <td>4995</td>\n",
       "      <td>0</td>\n",
       "      <td>28.0</td>\n",
       "      <td>35700.0</td>\n",
       "      <td>2</td>\n",
       "    </tr>\n",
       "    <tr>\n",
       "      <td>4996</td>\n",
       "      <td>0</td>\n",
       "      <td>34.0</td>\n",
       "      <td>52400.0</td>\n",
       "      <td>1</td>\n",
       "    </tr>\n",
       "    <tr>\n",
       "      <td>4997</td>\n",
       "      <td>0</td>\n",
       "      <td>20.0</td>\n",
       "      <td>33900.0</td>\n",
       "      <td>2</td>\n",
       "    </tr>\n",
       "    <tr>\n",
       "      <td>4998</td>\n",
       "      <td>1</td>\n",
       "      <td>22.0</td>\n",
       "      <td>32700.0</td>\n",
       "      <td>3</td>\n",
       "    </tr>\n",
       "    <tr>\n",
       "      <td>4999</td>\n",
       "      <td>1</td>\n",
       "      <td>28.0</td>\n",
       "      <td>40600.0</td>\n",
       "      <td>1</td>\n",
       "    </tr>\n",
       "  </tbody>\n",
       "</table>\n",
       "<p>5000 rows × 4 columns</p>\n",
       "</div>"
      ],
      "text/plain": [
       "      Пол  Возраст  Зарплата  Члены семьи\n",
       "0       1     41.0   49600.0            1\n",
       "1       0     46.0   38000.0            1\n",
       "2       0     29.0   21000.0            0\n",
       "3       0     21.0   41700.0            2\n",
       "4       1     28.0   26100.0            0\n",
       "...   ...      ...       ...          ...\n",
       "4995    0     28.0   35700.0            2\n",
       "4996    0     34.0   52400.0            1\n",
       "4997    0     20.0   33900.0            2\n",
       "4998    1     22.0   32700.0            3\n",
       "4999    1     28.0   40600.0            1\n",
       "\n",
       "[5000 rows x 4 columns]"
      ]
     },
     "execution_count": 25,
     "metadata": {},
     "output_type": "execute_result"
    }
   ],
   "source": [
    "decode(features_encode)"
   ]
  },
  {
   "cell_type": "markdown",
   "metadata": {},
   "source": [
    "Сравним с features:"
   ]
  },
  {
   "cell_type": "code",
   "execution_count": 26,
   "metadata": {},
   "outputs": [
    {
     "data": {
      "text/html": [
       "<div>\n",
       "<style scoped>\n",
       "    .dataframe tbody tr th:only-of-type {\n",
       "        vertical-align: middle;\n",
       "    }\n",
       "\n",
       "    .dataframe tbody tr th {\n",
       "        vertical-align: top;\n",
       "    }\n",
       "\n",
       "    .dataframe thead th {\n",
       "        text-align: right;\n",
       "    }\n",
       "</style>\n",
       "<table border=\"1\" class=\"dataframe\">\n",
       "  <thead>\n",
       "    <tr style=\"text-align: right;\">\n",
       "      <th></th>\n",
       "      <th>Пол</th>\n",
       "      <th>Возраст</th>\n",
       "      <th>Зарплата</th>\n",
       "      <th>Члены семьи</th>\n",
       "    </tr>\n",
       "  </thead>\n",
       "  <tbody>\n",
       "    <tr>\n",
       "      <td>0</td>\n",
       "      <td>1</td>\n",
       "      <td>41</td>\n",
       "      <td>49600</td>\n",
       "      <td>1</td>\n",
       "    </tr>\n",
       "    <tr>\n",
       "      <td>1</td>\n",
       "      <td>0</td>\n",
       "      <td>46</td>\n",
       "      <td>38000</td>\n",
       "      <td>1</td>\n",
       "    </tr>\n",
       "    <tr>\n",
       "      <td>2</td>\n",
       "      <td>0</td>\n",
       "      <td>29</td>\n",
       "      <td>21000</td>\n",
       "      <td>0</td>\n",
       "    </tr>\n",
       "    <tr>\n",
       "      <td>3</td>\n",
       "      <td>0</td>\n",
       "      <td>21</td>\n",
       "      <td>41700</td>\n",
       "      <td>2</td>\n",
       "    </tr>\n",
       "    <tr>\n",
       "      <td>4</td>\n",
       "      <td>1</td>\n",
       "      <td>28</td>\n",
       "      <td>26100</td>\n",
       "      <td>0</td>\n",
       "    </tr>\n",
       "    <tr>\n",
       "      <td>...</td>\n",
       "      <td>...</td>\n",
       "      <td>...</td>\n",
       "      <td>...</td>\n",
       "      <td>...</td>\n",
       "    </tr>\n",
       "    <tr>\n",
       "      <td>4995</td>\n",
       "      <td>0</td>\n",
       "      <td>28</td>\n",
       "      <td>35700</td>\n",
       "      <td>2</td>\n",
       "    </tr>\n",
       "    <tr>\n",
       "      <td>4996</td>\n",
       "      <td>0</td>\n",
       "      <td>34</td>\n",
       "      <td>52400</td>\n",
       "      <td>1</td>\n",
       "    </tr>\n",
       "    <tr>\n",
       "      <td>4997</td>\n",
       "      <td>0</td>\n",
       "      <td>20</td>\n",
       "      <td>33900</td>\n",
       "      <td>2</td>\n",
       "    </tr>\n",
       "    <tr>\n",
       "      <td>4998</td>\n",
       "      <td>1</td>\n",
       "      <td>22</td>\n",
       "      <td>32700</td>\n",
       "      <td>3</td>\n",
       "    </tr>\n",
       "    <tr>\n",
       "      <td>4999</td>\n",
       "      <td>1</td>\n",
       "      <td>28</td>\n",
       "      <td>40600</td>\n",
       "      <td>1</td>\n",
       "    </tr>\n",
       "  </tbody>\n",
       "</table>\n",
       "<p>5000 rows × 4 columns</p>\n",
       "</div>"
      ],
      "text/plain": [
       "      Пол  Возраст  Зарплата  Члены семьи\n",
       "0       1       41     49600            1\n",
       "1       0       46     38000            1\n",
       "2       0       29     21000            0\n",
       "3       0       21     41700            2\n",
       "4       1       28     26100            0\n",
       "...   ...      ...       ...          ...\n",
       "4995    0       28     35700            2\n",
       "4996    0       34     52400            1\n",
       "4997    0       20     33900            2\n",
       "4998    1       22     32700            3\n",
       "4999    1       28     40600            1\n",
       "\n",
       "[5000 rows x 4 columns]"
      ]
     },
     "execution_count": 26,
     "metadata": {},
     "output_type": "execute_result"
    }
   ],
   "source": [
    "features"
   ]
  },
  {
   "cell_type": "markdown",
   "metadata": {},
   "source": [
    "#### Почему качество линейной регрессии не поменяется? \n",
    "\n",
    "Предсказания высчитываются по формуле:\n",
    "\n",
    "$$\n",
    "a = Xw\n",
    "$$\n",
    "Т.к. новая матрица признаков получается умножением исходной $Х$ на рандомную $М$, то формула применит вид:\n",
    "\n",
    "$$\n",
    "a1 = X М w1\n",
    "$$\n",
    "Подставив вычисленное значение весов $w1 =  M^{-1} w$ получаем:\n",
    "\n",
    "$$\n",
    "a1 = X М  M^{-1} w\n",
    "$$\n",
    "$М M^{-1}$ это еденичная матрица $E$, т.е. можно сократить:\n",
    "\n",
    "$$\n",
    "a1 = X w = a\n",
    "$$\n",
    "Предсказания по исходной и преобразованной матрицам равны."
   ]
  },
  {
   "cell_type": "markdown",
   "metadata": {},
   "source": [
    "## Проверка алгоритма"
   ]
  },
  {
   "cell_type": "markdown",
   "metadata": {},
   "source": [
    "Проверим, что качество линейной регрессии из sklearn не отличается до и после преобразования. Примените метрику R2.\n",
    "\n",
    "Создадим модель sklearn_model и обучим на 2 обучающих матрицах - featuresи и features_encode"
   ]
  },
  {
   "cell_type": "code",
   "execution_count": 30,
   "metadata": {},
   "outputs": [
    {
     "name": "stdout",
     "output_type": "stream",
     "text": [
      "R2: 0.42494550308169177\n",
      "MSE: 0.12334688937098945\n"
     ]
    }
   ],
   "source": [
    "sklearn_model = LinearRegression().fit(features, target)\n",
    "pred = sklearn_model.predict(features)\n",
    "print('R2:',r2_score(target, pred))\n",
    "print('MSE:',mean_squared_error(target, pred))"
   ]
  },
  {
   "cell_type": "code",
   "execution_count": 31,
   "metadata": {},
   "outputs": [
    {
     "name": "stdout",
     "output_type": "stream",
     "text": [
      "R2: 0.42494550308169965\n",
      "MSE: 0.12334688937098777\n"
     ]
    }
   ],
   "source": [
    "sklearn_model.fit(features_encode, target)\n",
    "pred = sklearn_model.predict(features_encode)\n",
    "print('R2:',r2_score(target, pred))\n",
    "print('MSE:',mean_squared_error(target, pred))"
   ]
  },
  {
   "cell_type": "markdown",
   "metadata": {},
   "source": [
    "Качество линейной регрессии из sklearn до и после преобразования не отличается"
   ]
  },
  {
   "cell_type": "markdown",
   "metadata": {},
   "source": [
    "## Вывод:\n",
    "\n",
    "- Познакомились с данными. Изменили тип данных столбцов \"Зарплата\" и \"Возвраст\" на целочисленный и посмотрели на распредление признаков - признаки распределены без аномалий\n",
    "- Определили, что умножив признаки на обратимую матрицу, качество линейной регрессии не меняется. Это обусловленно тем, что новые веса  𝑤1  выражаются через исходные  𝑤  следующим образом:\n",
    "$$ 𝑤1=𝑀−1𝑤 $$\n",
    "- Предложили алгоритм преобразования данных для решения задачи, лгоритм позволяет дешифровать данные. Качество линейной регрессии не поменяется.\n",
    "- Данный вид исходных данных становиться очень сложно восстановить без кода программы, так как в алгоритме реализована случайность, которая при запуске делает зашифрованные данные каждый раз новыми\n",
    "- Реализованный алгоритм полностью удовлетворяет поставленной задаче Защиты персональных данных клиентов страховой компании"
   ]
  }
 ],
 "metadata": {
  "ExecuteTimeLog": [
   {
    "duration": 1498,
    "start_time": "2021-09-15T03:55:14.934Z"
   },
   {
    "duration": 23,
    "start_time": "2021-09-15T03:55:53.656Z"
   },
   {
    "duration": 18,
    "start_time": "2021-09-15T03:56:05.639Z"
   },
   {
    "duration": 13,
    "start_time": "2021-09-15T03:56:08.725Z"
   },
   {
    "duration": 9,
    "start_time": "2021-09-15T03:56:15.331Z"
   },
   {
    "duration": 14,
    "start_time": "2021-09-15T03:56:21.780Z"
   },
   {
    "duration": 456,
    "start_time": "2021-09-15T03:57:49.025Z"
   },
   {
    "duration": 14,
    "start_time": "2021-09-15T03:57:56.088Z"
   },
   {
    "duration": 8,
    "start_time": "2021-09-15T03:58:15.621Z"
   },
   {
    "duration": 16,
    "start_time": "2021-09-15T04:01:26.653Z"
   },
   {
    "duration": 14,
    "start_time": "2021-09-15T04:01:35.219Z"
   },
   {
    "duration": 9,
    "start_time": "2021-09-15T04:01:35.920Z"
   },
   {
    "duration": 14,
    "start_time": "2021-09-15T04:01:40.226Z"
   },
   {
    "duration": 14,
    "start_time": "2021-09-15T04:01:42.593Z"
   },
   {
    "duration": 14,
    "start_time": "2021-09-15T04:01:49.125Z"
   },
   {
    "duration": 6,
    "start_time": "2021-09-15T04:03:39.402Z"
   },
   {
    "duration": 9,
    "start_time": "2021-09-15T04:03:42.221Z"
   },
   {
    "duration": 12,
    "start_time": "2021-09-15T04:03:53.231Z"
   },
   {
    "duration": 724,
    "start_time": "2021-09-15T04:09:02.115Z"
   },
   {
    "duration": 363,
    "start_time": "2021-09-15T04:09:10.155Z"
   },
   {
    "duration": 716,
    "start_time": "2021-09-15T04:11:15.307Z"
   },
   {
    "duration": 399,
    "start_time": "2021-09-15T04:11:19.180Z"
   },
   {
    "duration": 285,
    "start_time": "2021-09-15T04:12:01.204Z"
   },
   {
    "duration": 101,
    "start_time": "2021-09-15T04:12:41.880Z"
   },
   {
    "duration": 724,
    "start_time": "2021-09-15T04:13:31.176Z"
   },
   {
    "duration": 782,
    "start_time": "2021-09-15T04:13:40.244Z"
   },
   {
    "duration": 606,
    "start_time": "2021-09-15T04:13:47.447Z"
   },
   {
    "duration": 591,
    "start_time": "2021-09-15T04:14:13.476Z"
   },
   {
    "duration": 723,
    "start_time": "2021-09-15T04:15:19.620Z"
   },
   {
    "duration": 605,
    "start_time": "2021-09-15T04:15:23.835Z"
   },
   {
    "duration": 339,
    "start_time": "2021-09-15T04:16:16.059Z"
   },
   {
    "duration": 289,
    "start_time": "2021-09-15T04:20:55.052Z"
   },
   {
    "duration": 5,
    "start_time": "2021-09-15T04:21:03.960Z"
   },
   {
    "duration": 6,
    "start_time": "2021-09-15T04:21:44.004Z"
   },
   {
    "duration": 22,
    "start_time": "2021-09-15T04:23:00.301Z"
   },
   {
    "duration": 7,
    "start_time": "2021-09-15T04:23:26.977Z"
   },
   {
    "duration": 7,
    "start_time": "2021-09-15T04:23:48.583Z"
   },
   {
    "duration": 8,
    "start_time": "2021-09-15T04:24:24.386Z"
   },
   {
    "duration": 98,
    "start_time": "2021-09-15T04:24:46.248Z"
   },
   {
    "duration": 16,
    "start_time": "2021-09-15T04:26:20.572Z"
   },
   {
    "duration": 15,
    "start_time": "2021-09-15T04:26:29.116Z"
   },
   {
    "duration": 317,
    "start_time": "2021-09-15T04:27:27.454Z"
   },
   {
    "duration": 40,
    "start_time": "2021-09-15T04:27:31.479Z"
   },
   {
    "duration": 99,
    "start_time": "2021-09-15T04:37:12.795Z"
   },
   {
    "duration": 5,
    "start_time": "2021-09-15T04:37:58.184Z"
   },
   {
    "duration": 16,
    "start_time": "2021-09-15T04:38:08.462Z"
   },
   {
    "duration": 5,
    "start_time": "2021-09-15T04:39:17.764Z"
   },
   {
    "duration": 285,
    "start_time": "2021-09-15T04:39:26.213Z"
   },
   {
    "duration": 5,
    "start_time": "2021-09-15T04:39:50.605Z"
   },
   {
    "duration": 334,
    "start_time": "2021-09-15T04:39:51.091Z"
   },
   {
    "duration": 317,
    "start_time": "2021-09-15T04:40:01.224Z"
   },
   {
    "duration": 4,
    "start_time": "2021-09-15T04:40:07.651Z"
   },
   {
    "duration": 17,
    "start_time": "2021-09-15T04:40:08.271Z"
   },
   {
    "duration": 5,
    "start_time": "2021-09-15T04:40:09.688Z"
   },
   {
    "duration": 275,
    "start_time": "2021-09-15T04:40:13.152Z"
   },
   {
    "duration": 4,
    "start_time": "2021-09-15T04:41:25.920Z"
   },
   {
    "duration": 16,
    "start_time": "2021-09-15T04:41:27.167Z"
   },
   {
    "duration": 285,
    "start_time": "2021-09-15T04:41:39.645Z"
   },
   {
    "duration": 5,
    "start_time": "2021-09-15T04:43:31.133Z"
   },
   {
    "duration": 15,
    "start_time": "2021-09-15T04:43:38.597Z"
   },
   {
    "duration": 5,
    "start_time": "2021-09-15T04:43:48.408Z"
   },
   {
    "duration": 317,
    "start_time": "2021-09-15T04:43:56.868Z"
   },
   {
    "duration": 4,
    "start_time": "2021-09-15T04:45:44.829Z"
   },
   {
    "duration": 145,
    "start_time": "2021-09-15T04:45:45.410Z"
   },
   {
    "duration": 5,
    "start_time": "2021-09-15T04:46:32.300Z"
   },
   {
    "duration": 49,
    "start_time": "2021-09-15T04:46:32.972Z"
   },
   {
    "duration": 5,
    "start_time": "2021-09-15T04:46:49.175Z"
   },
   {
    "duration": 15,
    "start_time": "2021-09-15T04:46:49.660Z"
   },
   {
    "duration": 4,
    "start_time": "2021-09-15T04:47:05.267Z"
   },
   {
    "duration": 4,
    "start_time": "2021-09-15T04:47:05.828Z"
   },
   {
    "duration": 25,
    "start_time": "2021-09-15T04:47:06.291Z"
   },
   {
    "duration": 13,
    "start_time": "2021-09-15T04:47:29.329Z"
   },
   {
    "duration": 15,
    "start_time": "2021-09-15T04:53:29.365Z"
   },
   {
    "duration": 17,
    "start_time": "2021-09-15T04:53:47.108Z"
   },
   {
    "duration": 1875,
    "start_time": "2021-09-16T07:44:18.413Z"
   },
   {
    "duration": 21,
    "start_time": "2021-09-16T07:44:20.833Z"
   },
   {
    "duration": 28,
    "start_time": "2021-09-16T07:44:20.986Z"
   },
   {
    "duration": 11,
    "start_time": "2021-09-16T07:44:21.161Z"
   },
   {
    "duration": 7,
    "start_time": "2021-09-16T07:44:21.487Z"
   },
   {
    "duration": 9,
    "start_time": "2021-09-16T07:44:21.838Z"
   },
   {
    "duration": 305,
    "start_time": "2021-09-16T07:44:22.442Z"
   },
   {
    "duration": 649,
    "start_time": "2021-09-16T07:44:22.750Z"
   },
   {
    "duration": 652,
    "start_time": "2021-09-16T07:44:23.402Z"
   },
   {
    "duration": 547,
    "start_time": "2021-09-16T07:44:24.057Z"
   },
   {
    "duration": 613,
    "start_time": "2021-09-16T07:44:24.607Z"
   },
   {
    "duration": 7,
    "start_time": "2021-09-16T07:44:25.224Z"
   },
   {
    "duration": 15,
    "start_time": "2021-09-16T07:44:25.234Z"
   },
   {
    "duration": 125,
    "start_time": "2021-09-16T07:44:25.252Z"
   },
   {
    "duration": 7,
    "start_time": "2021-09-16T07:44:28.776Z"
   },
   {
    "duration": 7,
    "start_time": "2021-09-16T07:44:29.143Z"
   },
   {
    "duration": 8,
    "start_time": "2021-09-16T07:44:29.639Z"
   },
   {
    "duration": 16,
    "start_time": "2021-09-16T07:44:29.946Z"
   },
   {
    "duration": 95,
    "start_time": "2021-09-16T07:44:30.274Z"
   },
   {
    "duration": 4,
    "start_time": "2021-09-16T07:44:31.239Z"
   },
   {
    "duration": 17,
    "start_time": "2021-09-16T07:44:31.401Z"
   },
   {
    "duration": 5,
    "start_time": "2021-09-16T07:44:32.127Z"
   },
   {
    "duration": 5,
    "start_time": "2021-09-16T07:44:32.294Z"
   },
   {
    "duration": 101,
    "start_time": "2021-09-16T07:44:32.469Z"
   },
   {
    "duration": 13,
    "start_time": "2021-09-16T07:44:32.803Z"
   },
   {
    "duration": 22,
    "start_time": "2021-09-16T07:44:33.673Z"
   },
   {
    "duration": 15,
    "start_time": "2021-09-16T07:44:33.868Z"
   },
   {
    "duration": 1173,
    "start_time": "2021-09-17T03:45:10.232Z"
   },
   {
    "duration": 3,
    "start_time": "2021-09-17T03:45:13.428Z"
   },
   {
    "duration": 36,
    "start_time": "2021-09-17T03:45:14.796Z"
   },
   {
    "duration": 13,
    "start_time": "2021-09-17T03:45:14.942Z"
   },
   {
    "duration": 6,
    "start_time": "2021-09-17T03:45:15.110Z"
   },
   {
    "duration": 5,
    "start_time": "2021-09-17T03:45:15.411Z"
   },
   {
    "duration": 6,
    "start_time": "2021-09-17T03:45:15.678Z"
   },
   {
    "duration": 161,
    "start_time": "2021-09-17T03:45:16.281Z"
   },
   {
    "duration": 339,
    "start_time": "2021-09-17T03:45:16.444Z"
   },
   {
    "duration": 374,
    "start_time": "2021-09-17T03:45:16.786Z"
   },
   {
    "duration": 233,
    "start_time": "2021-09-17T03:45:17.161Z"
   },
   {
    "duration": 282,
    "start_time": "2021-09-17T03:45:17.395Z"
   },
   {
    "duration": 5,
    "start_time": "2021-09-17T03:45:18.130Z"
   },
   {
    "duration": 4,
    "start_time": "2021-09-17T03:45:18.479Z"
   },
   {
    "duration": 15,
    "start_time": "2021-09-17T03:45:18.782Z"
   },
   {
    "duration": 5,
    "start_time": "2021-09-17T03:45:19.243Z"
   },
   {
    "duration": 5,
    "start_time": "2021-09-17T03:45:19.698Z"
   },
   {
    "duration": 6,
    "start_time": "2021-09-17T03:45:20.203Z"
   },
   {
    "duration": 9,
    "start_time": "2021-09-17T03:45:20.527Z"
   },
   {
    "duration": 60,
    "start_time": "2021-09-17T03:45:20.881Z"
   },
   {
    "duration": 3,
    "start_time": "2021-09-17T03:45:23.306Z"
   },
   {
    "duration": 10,
    "start_time": "2021-09-17T03:45:23.481Z"
   },
   {
    "duration": 4,
    "start_time": "2021-09-17T03:45:23.875Z"
   },
   {
    "duration": 3,
    "start_time": "2021-09-17T03:45:24.020Z"
   },
   {
    "duration": 21,
    "start_time": "2021-09-17T03:45:24.198Z"
   },
   {
    "duration": 8,
    "start_time": "2021-09-17T03:45:24.541Z"
   },
   {
    "duration": 67,
    "start_time": "2021-09-17T03:45:25.575Z"
   },
   {
    "duration": 9,
    "start_time": "2021-09-17T03:45:25.913Z"
   },
   {
    "duration": 4,
    "start_time": "2021-09-17T03:46:22.818Z"
   },
   {
    "duration": 92,
    "start_time": "2021-09-17T03:51:28.144Z"
   },
   {
    "duration": 5,
    "start_time": "2021-09-17T03:54:23.862Z"
   },
   {
    "duration": 5,
    "start_time": "2021-09-17T03:54:28.152Z"
   },
   {
    "duration": 597,
    "start_time": "2021-09-18T05:37:49.654Z"
   },
   {
    "duration": 1385,
    "start_time": "2021-09-18T05:37:59.022Z"
   },
   {
    "duration": 21,
    "start_time": "2021-09-18T05:38:00.409Z"
   },
   {
    "duration": 20,
    "start_time": "2021-09-18T05:38:00.432Z"
   },
   {
    "duration": 13,
    "start_time": "2021-09-18T05:38:00.456Z"
   },
   {
    "duration": 12,
    "start_time": "2021-09-18T05:38:00.471Z"
   },
   {
    "duration": 8,
    "start_time": "2021-09-18T05:38:00.983Z"
   },
   {
    "duration": 170,
    "start_time": "2021-09-18T05:38:01.682Z"
   },
   {
    "duration": 377,
    "start_time": "2021-09-18T05:38:01.854Z"
   },
   {
    "duration": 370,
    "start_time": "2021-09-18T05:38:02.233Z"
   },
   {
    "duration": 245,
    "start_time": "2021-09-18T05:38:02.604Z"
   },
   {
    "duration": 279,
    "start_time": "2021-09-18T05:38:02.851Z"
   },
   {
    "duration": 5,
    "start_time": "2021-09-18T05:38:03.748Z"
   },
   {
    "duration": 5,
    "start_time": "2021-09-18T05:38:04.103Z"
   },
   {
    "duration": 74,
    "start_time": "2021-09-18T05:38:04.477Z"
   },
   {
    "duration": 5,
    "start_time": "2021-09-18T05:38:04.830Z"
   },
   {
    "duration": 6,
    "start_time": "2021-09-18T05:38:05.184Z"
   },
   {
    "duration": 6,
    "start_time": "2021-09-18T05:38:05.739Z"
   },
   {
    "duration": 10,
    "start_time": "2021-09-18T05:38:06.097Z"
   },
   {
    "duration": 90,
    "start_time": "2021-09-18T05:38:06.461Z"
   },
   {
    "duration": 3,
    "start_time": "2021-09-18T05:38:08.700Z"
   },
   {
    "duration": 11,
    "start_time": "2021-09-18T05:38:08.868Z"
   },
   {
    "duration": 3,
    "start_time": "2021-09-18T05:38:09.251Z"
   },
   {
    "duration": 4,
    "start_time": "2021-09-18T05:38:09.420Z"
   },
   {
    "duration": 17,
    "start_time": "2021-09-18T05:38:09.622Z"
   },
   {
    "duration": 11,
    "start_time": "2021-09-18T05:38:10.021Z"
   },
   {
    "duration": 87,
    "start_time": "2021-09-18T05:38:11.064Z"
   },
   {
    "duration": 11,
    "start_time": "2021-09-18T05:38:11.250Z"
   },
   {
    "duration": 5,
    "start_time": "2021-09-18T05:38:12.137Z"
   },
   {
    "duration": 56,
    "start_time": "2021-09-18T05:46:54.896Z"
   },
   {
    "duration": 57,
    "start_time": "2021-09-18T05:46:59.592Z"
   }
  ],
  "kernelspec": {
   "display_name": "Python 3",
   "language": "python",
   "name": "python3"
  },
  "language_info": {
   "codemirror_mode": {
    "name": "ipython",
    "version": 3
   },
   "file_extension": ".py",
   "mimetype": "text/x-python",
   "name": "python",
   "nbconvert_exporter": "python",
   "pygments_lexer": "ipython3",
   "version": "3.9.1"
  },
  "toc": {
   "base_numbering": 1,
   "nav_menu": {},
   "number_sections": false,
   "sideBar": true,
   "skip_h1_title": true,
   "title_cell": "Содержание",
   "title_sidebar": "Contents",
   "toc_cell": true,
   "toc_position": {},
   "toc_section_display": true,
   "toc_window_display": false
  }
 },
 "nbformat": 4,
 "nbformat_minor": 2
}
